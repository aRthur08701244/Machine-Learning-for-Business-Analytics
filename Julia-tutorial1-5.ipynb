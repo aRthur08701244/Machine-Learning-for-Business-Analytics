{
 "cells": [
  {
   "cell_type": "code",
   "execution_count": 1,
   "metadata": {},
   "outputs": [
    {
     "data": {
      "text/plain": [
       "2"
      ]
     },
     "execution_count": 1,
     "metadata": {},
     "output_type": "execute_result"
    }
   ],
   "source": [
    "1+1"
   ]
  },
  {
   "cell_type": "code",
   "execution_count": 2,
   "metadata": {
    "scrolled": true
   },
   "outputs": [
    {
     "name": "stdout",
     "output_type": "stream",
     "text": [
      "This is so cool!!!\n"
     ]
    }
   ],
   "source": [
    "println(\"This is so cool!!!\")"
   ]
  },
  {
   "cell_type": "markdown",
   "metadata": {},
   "source": [
    "# Part 1: Julia Basics"
   ]
  },
  {
   "cell_type": "markdown",
   "metadata": {},
   "source": [
    "### for loop"
   ]
  },
  {
   "cell_type": "code",
   "execution_count": 3,
   "metadata": {},
   "outputs": [
    {
     "name": "stdout",
     "output_type": "stream",
     "text": [
      "This\n",
      "is\n",
      "so\n",
      "cool\n"
     ]
    }
   ],
   "source": [
    "l = [\"This\", \"is\", \"so\", \"cool\"] \n",
    "for i in l\n",
    "    println(i) \n",
    "end"
   ]
  },
  {
   "cell_type": "code",
   "execution_count": 4,
   "metadata": {},
   "outputs": [
    {
     "name": "stdout",
     "output_type": "stream",
     "text": [
      "1\n",
      "2\n",
      "3\n",
      "4\n",
      "5\n"
     ]
    }
   ],
   "source": [
    "for i in 1:5\n",
    "    println(i)\n",
    "end"
   ]
  },
  {
   "cell_type": "markdown",
   "metadata": {},
   "source": [
    "### while loop"
   ]
  },
  {
   "cell_type": "code",
   "execution_count": 5,
   "metadata": {},
   "outputs": [
    {
     "name": "stdout",
     "output_type": "stream",
     "text": [
      "1\n",
      "2\n",
      "3\n",
      "4\n",
      "5\n"
     ]
    }
   ],
   "source": [
    "m = 1\n",
    "while m　<= 5\n",
    "    println(m)\n",
    "    m = m + 1\n",
    "end"
   ]
  },
  {
   "cell_type": "markdown",
   "metadata": {},
   "source": [
    "### if-else statement"
   ]
  },
  {
   "cell_type": "code",
   "execution_count": 6,
   "metadata": {},
   "outputs": [
    {
     "name": "stdout",
     "output_type": "stream",
     "text": [
      "A is greater than B\n"
     ]
    }
   ],
   "source": [
    "A = 100\n",
    "B = 50\n",
    "if A > B\n",
    "    println(\"A is greater than B\")\n",
    "elseif A < B\n",
    "    println(\"A is less than B\")\n",
    "else\n",
    "    println(\"A is equal to B\")\n",
    "end"
   ]
  },
  {
   "cell_type": "markdown",
   "metadata": {},
   "source": [
    "### create function"
   ]
  },
  {
   "cell_type": "code",
   "execution_count": 7,
   "metadata": {},
   "outputs": [
    {
     "data": {
      "text/plain": [
       "3"
      ]
     },
     "execution_count": 7,
     "metadata": {},
     "output_type": "execute_result"
    }
   ],
   "source": [
    "newfunction1(a, b, c) = a + b + c\n",
    "newfunction1(1, 1, 1)"
   ]
  },
  {
   "cell_type": "code",
   "execution_count": 8,
   "metadata": {},
   "outputs": [
    {
     "data": {
      "text/plain": [
       "2"
      ]
     },
     "execution_count": 8,
     "metadata": {},
     "output_type": "execute_result"
    }
   ],
   "source": [
    "function newfunction2(x,y)\n",
    "           x + y\n",
    "end\n",
    "newfunction2(1, 1)"
   ]
  },
  {
   "cell_type": "code",
   "execution_count": 9,
   "metadata": {},
   "outputs": [
    {
     "data": {
      "text/plain": [
       "2"
      ]
     },
     "execution_count": 9,
     "metadata": {},
     "output_type": "execute_result"
    }
   ],
   "source": [
    "#if you want to get more from the function: may use return\n",
    "function newfunction3(x,y)\n",
    "    return([x+y, x-y])\n",
    "end\n",
    "newfunction3(1, 1)[1]"
   ]
  },
  {
   "cell_type": "markdown",
   "metadata": {},
   "source": [
    "### install package"
   ]
  },
  {
   "cell_type": "code",
   "execution_count": 10,
   "metadata": {},
   "outputs": [],
   "source": [
    "using Pkg\n",
    "\n",
    "# Pkg.add(\"LinearAlgebra\")  # we need the norm funciton\n",
    "using LinearAlgebra\n",
    "\n",
    "# Pkg.add(\"Statistics\") # we need the mean function\n",
    "using Statistics"
   ]
  },
  {
   "cell_type": "markdown",
   "metadata": {},
   "source": [
    "# Part 2: Julia Tutorial"
   ]
  },
  {
   "cell_type": "markdown",
   "metadata": {},
   "source": [
    "### Chapter 1.1 vector"
   ]
  },
  {
   "cell_type": "markdown",
   "metadata": {},
   "source": [
    "### Create vector"
   ]
  },
  {
   "cell_type": "code",
   "execution_count": 11,
   "metadata": {
    "scrolled": true
   },
   "outputs": [
    {
     "data": {
      "text/plain": [
       "4"
      ]
     },
     "execution_count": 11,
     "metadata": {},
     "output_type": "execute_result"
    }
   ],
   "source": [
    "# can separate using \",\"\n",
    "x = [ -1.1, 0.0, 3.6, -7.2 ]\n",
    "length(x)"
   ]
  },
  {
   "cell_type": "code",
   "execution_count": 12,
   "metadata": {},
   "outputs": [
    {
     "data": {
      "text/plain": [
       "4"
      ]
     },
     "execution_count": 12,
     "metadata": {},
     "output_type": "execute_result"
    }
   ],
   "source": [
    "# can also separate using \";\"\n",
    "y = [ -1.1; 0.0; 3.6; -7.2 ]\n",
    "length(y)"
   ]
  },
  {
   "cell_type": "code",
   "execution_count": 13,
   "metadata": {},
   "outputs": [
    {
     "name": "stdout",
     "output_type": "stream",
     "text": [
      "[1 2]Matrix{Int64}\n",
      "(1, 2)Tuple{Int64, Int64}\n"
     ]
    }
   ],
   "source": [
    "# Wrong ways to create vector\n",
    "a = [ 1 2 ]\n",
    "b = ( 1, 2 )\n",
    "println(a, typeof(a))\n",
    "println(b, typeof(b))"
   ]
  },
  {
   "cell_type": "markdown",
   "metadata": {},
   "source": [
    "### Indexing"
   ]
  },
  {
   "cell_type": "code",
   "execution_count": 14,
   "metadata": {},
   "outputs": [
    {
     "data": {
      "text/plain": [
       "3.6"
      ]
     },
     "execution_count": 14,
     "metadata": {},
     "output_type": "execute_result"
    }
   ],
   "source": [
    "x = [ -1.1, 0.0, 3.6, -7.2 ]\n",
    "x[3]"
   ]
  },
  {
   "cell_type": "code",
   "execution_count": 15,
   "metadata": {},
   "outputs": [
    {
     "data": {
      "text/plain": [
       "4-element Vector{Float64}:\n",
       " -1.1\n",
       "  0.0\n",
       "  4.0\n",
       " -7.2"
      ]
     },
     "execution_count": 15,
     "metadata": {},
     "output_type": "execute_result"
    }
   ],
   "source": [
    "x[3] = 4.0\n",
    "x"
   ]
  },
  {
   "cell_type": "markdown",
   "metadata": {},
   "source": [
    "### Assignment"
   ]
  },
  {
   "cell_type": "code",
   "execution_count": 16,
   "metadata": {},
   "outputs": [
    {
     "name": "stdout",
     "output_type": "stream",
     "text": [
      "x = [-1.1, 0.0, 4.0, -7.2]\n",
      "y = [-1.1, 0.0, 4.0, -7.2]\n",
      "z = [-1.1, 0.0, 3.6, -7.2]\n",
      "x = [2.0, 0.0, 4.0, -7.2]\n",
      "y = [2.0, 0.0, 4.0, -7.2]\n",
      "z = [-1.1, 0.0, 3.6, -7.2]\n"
     ]
    },
    {
     "data": {
      "text/plain": [
       "true"
      ]
     },
     "execution_count": 16,
     "metadata": {},
     "output_type": "execute_result"
    }
   ],
   "source": [
    "x = [ -1.1, 0.0, 3.6, -7.2 ]\n",
    "y = x\n",
    "z = x[1:4] # won't change\n",
    "x[3] = 4.0\n",
    "println(\"x = \", x)\n",
    "println(\"y = \", y) # y will change upon the change of x\n",
    "println(\"z = \", z)\n",
    "y[1] = 2.0\n",
    "println(\"x = \", x)  # x will also be changed when y is changed\n",
    "println(\"y = \", y)\n",
    "println(\"z = \", z)\n",
    "x == y"
   ]
  },
  {
   "cell_type": "markdown",
   "metadata": {},
   "source": [
    "### Copy"
   ]
  },
  {
   "cell_type": "code",
   "execution_count": 17,
   "metadata": {},
   "outputs": [
    {
     "name": "stdout",
     "output_type": "stream",
     "text": [
      "x = [-1.1, 0.0, 4.0, -7.2]\n",
      "y = [-1.1, 0.0, 3.6, -7.2]\n",
      "x = [-1.1, 0.0, 4.0, -7.2]\n",
      "y = [2.0, 0.0, 3.6, -7.2]\n"
     ]
    }
   ],
   "source": [
    "x = [ -1.1, 0.0, 3.6, -7.2 ]\n",
    "y = copy(x)  # only copy the values, then x and y will function separately\n",
    "x[3] = 4.0\n",
    "println(\"x = \", x)\n",
    "println(\"y = \", y)\n",
    "y[1] = 2.0\n",
    "println(\"x = \", x)\n",
    "println(\"y = \", y)"
   ]
  },
  {
   "cell_type": "markdown",
   "metadata": {},
   "source": [
    "### Vector equality"
   ]
  },
  {
   "cell_type": "code",
   "execution_count": 18,
   "metadata": {},
   "outputs": [
    {
     "name": "stdout",
     "output_type": "stream",
     "text": [
      "y == x: false\n",
      "z == x: true\n"
     ]
    }
   ],
   "source": [
    "x = [ -1.1, 0.0, 3.6, -7.2 ]\n",
    "y = copy(x)\n",
    "y[3] = 4.0\n",
    "println(\"y == x: \", y == x)\n",
    "\n",
    "z = x\n",
    "z[3] = 4.0\n",
    "println(\"z == x: \", z == x)"
   ]
  },
  {
   "cell_type": "markdown",
   "metadata": {},
   "source": [
    "### Scalars versus 1-vectors"
   ]
  },
  {
   "cell_type": "code",
   "execution_count": 19,
   "metadata": {},
   "outputs": [
    {
     "name": "stdout",
     "output_type": "stream",
     "text": [
      "Vector{Float64}\n",
      "Float64\n",
      "x == y: false\n",
      "x[1] == y: true\n"
     ]
    }
   ],
   "source": [
    "x = [ 1.3 ]\n",
    "y = 1.3\n",
    "println(typeof(x))\n",
    "println(typeof(y))\n",
    "println(\"x == y: \", x == y)\n",
    "println(\"x[1] == y: \", x[1] == y)"
   ]
  },
  {
   "cell_type": "markdown",
   "metadata": {},
   "source": [
    "###  Stacked vectors"
   ]
  },
  {
   "cell_type": "code",
   "execution_count": 20,
   "metadata": {},
   "outputs": [
    {
     "name": "stdout",
     "output_type": "stream",
     "text": [
      "z1 == z2: true\n",
      "[1, -2, 1, 1, 0][1, -2, 1, 1, 0]"
     ]
    }
   ],
   "source": [
    "x=[1, -2]; y=[1, 1, 0];\n",
    "z1 = [ x; y ]   # Concatenate using *****semicolon*****\n",
    "z2 = vcat(x, y) # Concatenate using vcat\n",
    "println(\"z1 == z2: \", z1 == z2)\n",
    "print(z1, z2)"
   ]
  },
  {
   "cell_type": "markdown",
   "metadata": {},
   "source": [
    "### Subvectors and slicing"
   ]
  },
  {
   "cell_type": "code",
   "execution_count": 21,
   "metadata": {},
   "outputs": [
    {
     "name": "stdout",
     "output_type": "stream",
     "text": [
      "y = [4, 3, 0]\n",
      "x = [9, 4, 3, -2, -3]\n",
      "y = [4, 3, 0]\n"
     ]
    }
   ],
   "source": [
    "x = [ 9, 4, 3, 0, 5 ]\n",
    "y = x[2:4] # won't change y\n",
    "println(\"y = \" , y)\n",
    "x[4:5] = [ -2, -3 ] # won't change y\n",
    "println(\"x = \" , x)\n",
    "println(\"y = \" , y)"
   ]
  },
  {
   "cell_type": "markdown",
   "metadata": {},
   "source": [
    "### Lists of vectors"
   ]
  },
  {
   "cell_type": "code",
   "execution_count": 22,
   "metadata": {},
   "outputs": [
    {
     "name": "stdout",
     "output_type": "stream",
     "text": [
      "[[1.0, 0.0], [1.0, -1.0], [0.0, 1.0]] Vector{Vector{Float64}}\n",
      "([1.0, 0.0], [1.0, -1.0], [0.0, 1.0]) Tuple{Vector{Float64}, Vector{Float64}, Vector{Float64}}\n"
     ]
    }
   ],
   "source": [
    "x = [1.0, 0 ];   y = [ 1.0, -1.0 ];   z = [ 0, 1.0];\n",
    "list1 = [ x, y, z ]\n",
    "list2 = ( x, y, z )\n",
    "list1 == list2\n",
    "println(list1, \" \",  typeof(list1))\n",
    "println(list2, \" \",  typeof(list2))"
   ]
  },
  {
   "cell_type": "markdown",
   "metadata": {},
   "source": [
    "### Zero and one vectors"
   ]
  },
  {
   "cell_type": "code",
   "execution_count": 23,
   "metadata": {},
   "outputs": [
    {
     "name": "stdout",
     "output_type": "stream",
     "text": [
      "[0.0, 0.0, 0.0]\n",
      "[1.0, 1.0]\n"
     ]
    }
   ],
   "source": [
    "zeros(3) # create vector of 3 dimension, all of them are 0\n",
    "ones(2)  # create vector of 2 dimension, all of them are 1\n",
    "println(zeros(3))\n",
    "println(ones(2))"
   ]
  },
  {
   "cell_type": "markdown",
   "metadata": {},
   "source": [
    "### Random vectors"
   ]
  },
  {
   "cell_type": "code",
   "execution_count": 24,
   "metadata": {},
   "outputs": [
    {
     "name": "stdout",
     "output_type": "stream",
     "text": [
      "[0.8186797782043433, 0.5022026882836914]\n",
      "[0.25701666762006176, -2.3681360031854934]\n"
     ]
    }
   ],
   "source": [
    "rand(2)     # drawn from 0-1 randomly\n",
    "randn(2)    # drawn from standard normal distribution\n",
    "println(rand(2))\n",
    "println(randn(2))"
   ]
  },
  {
   "cell_type": "markdown",
   "metadata": {},
   "source": [
    "### Chapter 1.2 Vector addition"
   ]
  },
  {
   "cell_type": "code",
   "execution_count": 25,
   "metadata": {},
   "outputs": [
    {
     "name": "stdout",
     "output_type": "stream",
     "text": [
      "[1, 9, 3]\n",
      "[0, 8]\n"
     ]
    }
   ],
   "source": [
    "a = [0,7,3] +[1,2,0]     # Vector addition\n",
    "b = [ 1, 9 ] - [ 1, 1]  # Vector subtraction\n",
    "println(a)\n",
    "println(b)"
   ]
  },
  {
   "cell_type": "markdown",
   "metadata": {},
   "source": [
    "### Chapter 1.3 Scalar-vector multiplication"
   ]
  },
  {
   "cell_type": "markdown",
   "metadata": {},
   "source": [
    "### Scalar-vector multiplication and division"
   ]
  },
  {
   "cell_type": "code",
   "execution_count": 26,
   "metadata": {},
   "outputs": [
    {
     "name": "stdout",
     "output_type": "stream",
     "text": [
      "[0, 4, -2]\n",
      "[0, 4, -2]\n",
      "[0.0, 20.0, -10.0]\n",
      "[0.0 1.2000000000000002 -0.6000000000000001]\n"
     ]
    }
   ],
   "source": [
    "x = [ 0, 2, -1 ]\n",
    "println(2 * x )    # Scalar-vector multiplication\n",
    "println(x * 2)\n",
    "println(x / 0.1)\n",
    "println(3 / x)"
   ]
  },
  {
   "cell_type": "code",
   "execution_count": 27,
   "metadata": {},
   "outputs": [
    {
     "ename": "LoadError",
     "evalue": "MethodError: no method matching +(::Vector{Int64}, ::Int64)\nFor element-wise addition, use broadcasting with dot syntax: array .+ scalar\n\u001b[0mClosest candidates are:\n\u001b[0m  +(::Any, ::Any, \u001b[91m::Any\u001b[39m, \u001b[91m::Any...\u001b[39m) at operators.jl:560\n\u001b[0m  +(\u001b[91m::T\u001b[39m, ::T) where T<:Union{Int128, Int16, Int32, Int64, Int8, UInt128, UInt16, UInt32, UInt64, UInt8} at int.jl:87\n\u001b[0m  +(\u001b[91m::T\u001b[39m, ::Integer) where T<:AbstractChar at char.jl:223\n\u001b[0m  ...",
     "output_type": "error",
     "traceback": [
      "MethodError: no method matching +(::Vector{Int64}, ::Int64)\nFor element-wise addition, use broadcasting with dot syntax: array .+ scalar\n\u001b[0mClosest candidates are:\n\u001b[0m  +(::Any, ::Any, \u001b[91m::Any\u001b[39m, \u001b[91m::Any...\u001b[39m) at operators.jl:560\n\u001b[0m  +(\u001b[91m::T\u001b[39m, ::T) where T<:Union{Int128, Int16, Int32, Int64, Int8, UInt128, UInt16, UInt32, UInt64, UInt8} at int.jl:87\n\u001b[0m  +(\u001b[91m::T\u001b[39m, ::Integer) where T<:AbstractChar at char.jl:223\n\u001b[0m  ...",
      "",
      "Stacktrace:",
      " [1] top-level scope",
      "   @ In[27]:1",
      " [2] eval",
      "   @ .\\boot.jl:360 [inlined]",
      " [3] include_string(mapexpr::typeof(REPL.softscope), mod::Module, code::String, filename::String)",
      "   @ Base .\\loading.jl:1116"
     ]
    }
   ],
   "source": [
    "println(x + 2) # couldn't work"
   ]
  },
  {
   "cell_type": "markdown",
   "metadata": {},
   "source": [
    "### Scalar-vector addition"
   ]
  },
  {
   "cell_type": "code",
   "execution_count": 28,
   "metadata": {},
   "outputs": [
    {
     "data": {
      "text/plain": [
       "3-element Vector{Float64}:\n",
       "  2.5\n",
       " -2.3000000000000003\n",
       "  1.7"
      ]
     },
     "execution_count": 28,
     "metadata": {},
     "output_type": "execute_result"
    }
   ],
   "source": [
    "[ 1.1, -3.7, 0.3 ] .- 1.4\n",
    "[ 1.1, -3.7, 0.3 ] .+ 1.4"
   ]
  },
  {
   "cell_type": "markdown",
   "metadata": {},
   "source": [
    "### Elementwise operations with a scalar"
   ]
  },
  {
   "cell_type": "code",
   "execution_count": 29,
   "metadata": {},
   "outputs": [
    {
     "name": "stdout",
     "output_type": "stream",
     "text": [
      "false\n",
      "Bool[1, 1, 0]\n",
      "Bool[0, 1, 1]\n",
      "true\n",
      "true\n"
     ]
    }
   ],
   "source": [
    "w = [1,2,2]; z = [1,2,3]\n",
    "println(w == z)  # check the entire variable\n",
    "println(w .== z) # check each component\n",
    "println(w .== z[2]) #*******************************************************\n",
    "println((w .== z)[1] == true) #*******************************************************\n",
    "println((w .== z)[1] == 1) #*******************************************************"
   ]
  },
  {
   "cell_type": "markdown",
   "metadata": {},
   "source": [
    "### Chapter 1.4 \n",
    "### Innder product"
   ]
  },
  {
   "cell_type": "code",
   "execution_count": 30,
   "metadata": {},
   "outputs": [
    {
     "data": {
      "text/plain": [
       "-7"
      ]
     },
     "execution_count": 30,
     "metadata": {},
     "output_type": "execute_result"
    }
   ],
   "source": [
    "x = [ -1, 2, 2 ];\n",
    "y = [ 1, 0, -3 ];\n",
    "x'*y"
   ]
  },
  {
   "cell_type": "markdown",
   "metadata": {},
   "source": [
    "### Chapter 1.5 \n",
    "### Complexity of vector computations"
   ]
  },
  {
   "cell_type": "code",
   "execution_count": 31,
   "metadata": {},
   "outputs": [
    {
     "name": "stdout",
     "output_type": "stream",
     "text": [
      "  0.021687 seconds (58.06 k allocations: 3.741 MiB, 97.03% compilation time)\n",
      "  0.000255 seconds (2 allocations: 32 bytes)\n"
     ]
    },
    {
     "data": {
      "text/plain": [
       "295.13081822508946"
      ]
     },
     "execution_count": 31,
     "metadata": {},
     "output_type": "execute_result"
    }
   ],
   "source": [
    "a = randn(10^5); b = randn(10^5)\n",
    "@time a'*b\n",
    "@time a'*b"
   ]
  },
  {
   "cell_type": "markdown",
   "metadata": {},
   "source": [
    "### Chaper 2.1 Linear functions"
   ]
  },
  {
   "cell_type": "code",
   "execution_count": 32,
   "metadata": {},
   "outputs": [
    {
     "data": {
      "text/plain": [
       "-5"
      ]
     },
     "execution_count": 32,
     "metadata": {},
     "output_type": "execute_result"
    }
   ],
   "source": [
    "f(x) = x[1] + x[2] - x[4]^2\n",
    "f([-1,0,1,2])"
   ]
  },
  {
   "cell_type": "code",
   "execution_count": 33,
   "metadata": {},
   "outputs": [
    {
     "data": {
      "text/plain": [
       "true"
      ]
     },
     "execution_count": 33,
     "metadata": {},
     "output_type": "execute_result"
    }
   ],
   "source": [
    "a = [-2, 0, 1, -3]\n",
    "f(x) = a'*x\n",
    "x=[2,2,-1,1]; y=[0,1,-1,0];\n",
    "alpha = 1.5; beta = -3.7;\n",
    "lhs = f(alpha * x + beta * y) # scalar-vector multiplication\n",
    "rhs = alpha * f(x) + beta * f(y)\n",
    "lhs == rhs # which is the definition of linear"
   ]
  },
  {
   "cell_type": "markdown",
   "metadata": {},
   "source": [
    "### Chaper 2.2 Taylor approximation"
   ]
  },
  {
   "cell_type": "markdown",
   "metadata": {},
   "source": [
    "$f(x_1, x_2) = x_1 + e^{x_2 - x_1}$"
   ]
  },
  {
   "cell_type": "markdown",
   "metadata": {},
   "source": [
    "Taking partial derivative w.r.t. $x_1$: $\\nabla f_1(x_1, x_2) = 1 - e^{x_2 - x_1}$"
   ]
  },
  {
   "cell_type": "markdown",
   "metadata": {},
   "source": [
    "Taking partial derivative w.r.t. $x_2$: $\\nabla f_2(x_1, x_2) = e^{x_2 - x_1}$"
   ]
  },
  {
   "cell_type": "code",
   "execution_count": 34,
   "metadata": {},
   "outputs": [
    {
     "name": "stdout",
     "output_type": "stream",
     "text": [
      "3.718281828459045 3.718281828459045\n",
      "3.7331947639642977 3.732647465028226\n"
     ]
    }
   ],
   "source": [
    "f(x) = x[1] + exp(x[2]-x[1])   # A function f\n",
    "grad_f(x) = [1-exp(x[2]-x[1]), exp(x[2]-x[1])]   # f's gradient\n",
    "\n",
    "z = [1, 2]   # We want to do Taylor approximation at z\n",
    "f_hat(x) = f(z) + grad_f(z)'*(x-z)\n",
    "\n",
    "# Let's compare f and f_hat for some specific x's\n",
    "println(f([1,2]), \" \",  f_hat([1,2]))\n",
    "println(f([0.96,1.98]), \" \",  f_hat([0.96,1.98]))"
   ]
  },
  {
   "cell_type": "markdown",
   "metadata": {},
   "source": [
    "### Chaper 2.3 Regression model"
   ]
  },
  {
   "cell_type": "markdown",
   "metadata": {},
   "source": [
    "$y(x) = x^\\top \\beta + v$"
   ]
  },
  {
   "cell_type": "code",
   "execution_count": 35,
   "metadata": {},
   "outputs": [
    {
     "data": {
      "text/plain": [
       "(213.61852000000002, 234.5)"
      ]
     },
     "execution_count": 35,
     "metadata": {},
     "output_type": "execute_result"
    }
   ],
   "source": [
    "# Set parameters in regression model\n",
    "beta = [148.73, -18.85]; v = 54.40;\n",
    "y_hat(x) = x'* beta + v;\n",
    "# Evaluate regression model prediction\n",
    "x = [0.846, 1];  y = 115;\n",
    "y_hat(x), y\n",
    "x = [1.324,2];  y = 234.50;\n",
    "y_hat(x), y"
   ]
  },
  {
   "cell_type": "markdown",
   "metadata": {},
   "source": [
    "### An example from dataset"
   ]
  },
  {
   "cell_type": "markdown",
   "metadata": {},
   "source": [
    "Need to install the VMLS (Vectors, Matrices, and Least Squares) package from gitHub first!\n",
    "\n",
    "Go to your terminal and press the right middle bracket ]\n",
    "\n",
    "add https://github.com/VMLS-book/VMLS.jl\n",
    "\n",
    "And go back to the Jupyter notebook to type:"
   ]
  },
  {
   "cell_type": "code",
   "execution_count": 36,
   "metadata": {},
   "outputs": [],
   "source": [
    "using VMLS"
   ]
  },
  {
   "cell_type": "markdown",
   "metadata": {},
   "source": [
    "$\\hat{y} = v + \\beta_{area} \\times area + \\beta_{beds} \\times beds$"
   ]
  },
  {
   "cell_type": "markdown",
   "metadata": {},
   "source": [
    "$\\beta_{area} = 148.7251$"
   ]
  },
  {
   "cell_type": "markdown",
   "metadata": {},
   "source": [
    "$\\beta_{beds} = -18.8534$"
   ]
  },
  {
   "cell_type": "markdown",
   "metadata": {},
   "source": [
    "$\\hat{y} = v + 148.7251 \\times area + -18.8534 \\times beds$"
   ]
  },
  {
   "cell_type": "code",
   "execution_count": 37,
   "metadata": {},
   "outputs": [
    {
     "data": {
      "text/plain": [
       "Dict{String, Vector{T} where T} with 6 entries:\n",
       "  \"baths\"    => [2, 2, 2, 2, 1, 2, 2, 1, 1, 1  …  2, 2, 2, 2, 2, 3, 2, 2, 2, 2]\n",
       "  \"location\" => [2, 2, 2, 3, 3, 2, 2, 2, 2, 2  …  3, 4, 3, 3, 3, 3, 3, 2, 3, 4]\n",
       "  \"price\"    => [94.905, 98.937, 100.309, 106.25, 107.502, 108.75, 110.7, 113.2…\n",
       "  \"beds\"     => [2, 3, 3, 3, 3, 2, 2, 2, 2, 2  …  3, 3, 4, 4, 3, 4, 3, 3, 4, 3]\n",
       "  \"area\"     => [0.941, 1.146, 0.909, 1.289, 1.02, 1.022, 1.134, 0.844, 0.795, …\n",
       "  \"condo\"    => [1, 0, 0, 0, 0, 0, 1, 0, 1, 0  …  0, 0, 0, 0, 0, 0, 0, 0, 0, 0]"
      ]
     },
     "execution_count": 37,
     "metadata": {},
     "output_type": "execute_result"
    }
   ],
   "source": [
    "D = house_sales_data();\n",
    "D  # D has 6 variables"
   ]
  },
  {
   "cell_type": "code",
   "execution_count": 38,
   "metadata": {},
   "outputs": [],
   "source": [
    "price = D[\"price\"]\n",
    "area = D[\"area\"]\n",
    "beds = D[\"beds\"]\n",
    "v = 54.4017;\n",
    "beta = [ 148.7251, -18.8534 ];\n",
    "predicted = v .+ beta[1] * area + beta[2] * beds;"
   ]
  },
  {
   "cell_type": "markdown",
   "metadata": {},
   "source": [
    "### plot"
   ]
  },
  {
   "cell_type": "code",
   "execution_count": 39,
   "metadata": {},
   "outputs": [
    {
     "name": "stderr",
     "output_type": "stream",
     "text": [
      "\n",
      "(process:15892): GLib-GIO-WARNING **: 15:38:28.791: Unexpectedly, UWP app `15191PeakPlayer.50533F9B98293_3.2.6.0_x64__y5c4dfz5b21fm' (AUMId `15191PeakPlayer.50533F9B98293_y5c4dfz5b21fm!App') supports 32 extensions but has no verbs\n",
      "\n",
      "(process:15892): GLib-GIO-WARNING **: 15:38:28.979: Unexpectedly, UWP app `Evernote.Evernote_10.25.6.0_x86__q4d96b2w5wcc2' (AUMId `Evernote.Evernote_q4d96b2w5wcc2!Evernote') supports 1 extensions but has no verbs\n"
     ]
    },
    {
     "data": {
      "image/svg+xml": [
       "<?xml version=\"1.0\" encoding=\"utf-8\"?>\n",
       "<svg xmlns=\"http://www.w3.org/2000/svg\" xmlns:xlink=\"http://www.w3.org/1999/xlink\" width=\"600\" height=\"400\" viewBox=\"0 0 2400 1600\">\n",
       "<defs>\n",
       "  <clipPath id=\"clip260\">\n",
       "    <rect x=\"0\" y=\"0\" width=\"2400\" height=\"1600\"/>\n",
       "  </clipPath>\n",
       "</defs>\n",
       "<path clip-path=\"url(#clip260)\" d=\"\n",
       "M0 1600 L2400 1600 L2400 0 L0 0  Z\n",
       "  \" fill=\"#ffffff\" fill-rule=\"evenodd\" fill-opacity=\"1\"/>\n",
       "<defs>\n",
       "  <clipPath id=\"clip261\">\n",
       "    <rect x=\"480\" y=\"0\" width=\"1681\" height=\"1600\"/>\n",
       "  </clipPath>\n",
       "</defs>\n",
       "<path clip-path=\"url(#clip260)\" d=\"\n",
       "M147.478 1486.45 L2352.76 1486.45 L2352.76 47.2441 L147.478 47.2441  Z\n",
       "  \" fill=\"#ffffff\" fill-rule=\"evenodd\" fill-opacity=\"1\"/>\n",
       "<defs>\n",
       "  <clipPath id=\"clip262\">\n",
       "    <rect x=\"147\" y=\"47\" width=\"2206\" height=\"1440\"/>\n",
       "  </clipPath>\n",
       "</defs>\n",
       "<polyline clip-path=\"url(#clip262)\" style=\"stroke:#000000; stroke-linecap:butt; stroke-linejoin:round; stroke-width:2; stroke-opacity:0.1; fill:none\" points=\"\n",
       "  446.985,1486.45 446.985,47.2441 \n",
       "  \"/>\n",
       "<polyline clip-path=\"url(#clip262)\" style=\"stroke:#000000; stroke-linecap:butt; stroke-linejoin:round; stroke-width:2; stroke-opacity:0.1; fill:none\" points=\"\n",
       "  867.759,1486.45 867.759,47.2441 \n",
       "  \"/>\n",
       "<polyline clip-path=\"url(#clip262)\" style=\"stroke:#000000; stroke-linecap:butt; stroke-linejoin:round; stroke-width:2; stroke-opacity:0.1; fill:none\" points=\"\n",
       "  1288.53,1486.45 1288.53,47.2441 \n",
       "  \"/>\n",
       "<polyline clip-path=\"url(#clip262)\" style=\"stroke:#000000; stroke-linecap:butt; stroke-linejoin:round; stroke-width:2; stroke-opacity:0.1; fill:none\" points=\"\n",
       "  1709.31,1486.45 1709.31,47.2441 \n",
       "  \"/>\n",
       "<polyline clip-path=\"url(#clip262)\" style=\"stroke:#000000; stroke-linecap:butt; stroke-linejoin:round; stroke-width:2; stroke-opacity:0.1; fill:none\" points=\"\n",
       "  2130.08,1486.45 2130.08,47.2441 \n",
       "  \"/>\n",
       "<polyline clip-path=\"url(#clip260)\" style=\"stroke:#000000; stroke-linecap:butt; stroke-linejoin:round; stroke-width:4; stroke-opacity:1; fill:none\" points=\"\n",
       "  147.478,1486.45 2352.76,1486.45 \n",
       "  \"/>\n",
       "<polyline clip-path=\"url(#clip260)\" style=\"stroke:#000000; stroke-linecap:butt; stroke-linejoin:round; stroke-width:4; stroke-opacity:1; fill:none\" points=\"\n",
       "  446.985,1486.45 446.985,1467.55 \n",
       "  \"/>\n",
       "<polyline clip-path=\"url(#clip260)\" style=\"stroke:#000000; stroke-linecap:butt; stroke-linejoin:round; stroke-width:4; stroke-opacity:1; fill:none\" points=\"\n",
       "  867.759,1486.45 867.759,1467.55 \n",
       "  \"/>\n",
       "<polyline clip-path=\"url(#clip260)\" style=\"stroke:#000000; stroke-linecap:butt; stroke-linejoin:round; stroke-width:4; stroke-opacity:1; fill:none\" points=\"\n",
       "  1288.53,1486.45 1288.53,1467.55 \n",
       "  \"/>\n",
       "<polyline clip-path=\"url(#clip260)\" style=\"stroke:#000000; stroke-linecap:butt; stroke-linejoin:round; stroke-width:4; stroke-opacity:1; fill:none\" points=\"\n",
       "  1709.31,1486.45 1709.31,1467.55 \n",
       "  \"/>\n",
       "<polyline clip-path=\"url(#clip260)\" style=\"stroke:#000000; stroke-linecap:butt; stroke-linejoin:round; stroke-width:4; stroke-opacity:1; fill:none\" points=\"\n",
       "  2130.08,1486.45 2130.08,1467.55 \n",
       "  \"/>\n",
       "<path clip-path=\"url(#clip260)\" d=\"M416.928 1532.02 L446.603 1532.02 L446.603 1535.95 L416.928 1535.95 L416.928 1532.02 Z\" fill=\"#000000\" fill-rule=\"evenodd\" fill-opacity=\"1\" /><path clip-path=\"url(#clip260)\" d=\"M460.724 1544.91 L477.043 1544.91 L477.043 1548.85 L455.099 1548.85 L455.099 1544.91 Q457.761 1542.16 462.344 1537.53 Q466.95 1532.88 468.131 1531.53 Q470.376 1529.01 471.256 1527.27 Q472.159 1525.51 472.159 1523.82 Q472.159 1521.07 470.214 1519.33 Q468.293 1517.6 465.191 1517.6 Q462.992 1517.6 460.538 1518.36 Q458.108 1519.13 455.33 1520.68 L455.33 1515.95 Q458.154 1514.82 460.608 1514.24 Q463.062 1513.66 465.099 1513.66 Q470.469 1513.66 473.663 1516.35 Q476.858 1519.03 476.858 1523.52 Q476.858 1525.65 476.048 1527.57 Q475.261 1529.47 473.154 1532.07 Q472.575 1532.74 469.474 1535.95 Q466.372 1539.15 460.724 1544.91 Z\" fill=\"#000000\" fill-rule=\"evenodd\" fill-opacity=\"1\" /><path clip-path=\"url(#clip260)\" d=\"M837.516 1532.02 L867.192 1532.02 L867.192 1535.95 L837.516 1535.95 L837.516 1532.02 Z\" fill=\"#000000\" fill-rule=\"evenodd\" fill-opacity=\"1\" /><path clip-path=\"url(#clip260)\" d=\"M878.095 1544.91 L885.733 1544.91 L885.733 1518.55 L877.423 1520.21 L877.423 1515.95 L885.687 1514.29 L890.363 1514.29 L890.363 1544.91 L898.002 1544.91 L898.002 1548.85 L878.095 1548.85 L878.095 1544.91 Z\" fill=\"#000000\" fill-rule=\"evenodd\" fill-opacity=\"1\" /><path clip-path=\"url(#clip260)\" d=\"M1288.53 1517.37 Q1284.92 1517.37 1283.09 1520.93 Q1281.29 1524.47 1281.29 1531.6 Q1281.29 1538.71 1283.09 1542.27 Q1284.92 1545.82 1288.53 1545.82 Q1292.17 1545.82 1293.97 1542.27 Q1295.8 1538.71 1295.8 1531.6 Q1295.8 1524.47 1293.97 1520.93 Q1292.17 1517.37 1288.53 1517.37 M1288.53 1513.66 Q1294.34 1513.66 1297.4 1518.27 Q1300.48 1522.85 1300.48 1531.6 Q1300.48 1540.33 1297.4 1544.94 Q1294.34 1549.52 1288.53 1549.52 Q1282.72 1549.52 1279.64 1544.94 Q1276.59 1540.33 1276.59 1531.6 Q1276.59 1522.85 1279.64 1518.27 Q1282.72 1513.66 1288.53 1513.66 Z\" fill=\"#000000\" fill-rule=\"evenodd\" fill-opacity=\"1\" /><path clip-path=\"url(#clip260)\" d=\"M1699.69 1544.91 L1707.33 1544.91 L1707.33 1518.55 L1699.02 1520.21 L1699.02 1515.95 L1707.28 1514.29 L1711.96 1514.29 L1711.96 1544.91 L1719.6 1544.91 L1719.6 1548.85 L1699.69 1548.85 L1699.69 1544.91 Z\" fill=\"#000000\" fill-rule=\"evenodd\" fill-opacity=\"1\" /><path clip-path=\"url(#clip260)\" d=\"M2124.73 1544.91 L2141.05 1544.91 L2141.05 1548.85 L2119.11 1548.85 L2119.11 1544.91 Q2121.77 1542.16 2126.35 1537.53 Q2130.96 1532.88 2132.14 1531.53 Q2134.39 1529.01 2135.27 1527.27 Q2136.17 1525.51 2136.17 1523.82 Q2136.17 1521.07 2134.22 1519.33 Q2132.3 1517.6 2129.2 1517.6 Q2127 1517.6 2124.55 1518.36 Q2122.12 1519.13 2119.34 1520.68 L2119.34 1515.95 Q2122.16 1514.82 2124.62 1514.24 Q2127.07 1513.66 2129.11 1513.66 Q2134.48 1513.66 2137.67 1516.35 Q2140.87 1519.03 2140.87 1523.52 Q2140.87 1525.65 2140.06 1527.57 Q2139.27 1529.47 2137.16 1532.07 Q2136.58 1532.74 2133.48 1535.95 Q2130.38 1539.15 2124.73 1544.91 Z\" fill=\"#000000\" fill-rule=\"evenodd\" fill-opacity=\"1\" /><polyline clip-path=\"url(#clip262)\" style=\"stroke:#000000; stroke-linecap:butt; stroke-linejoin:round; stroke-width:2; stroke-opacity:0.1; fill:none\" points=\"\n",
       "  147.478,1332.85 2352.76,1332.85 \n",
       "  \"/>\n",
       "<polyline clip-path=\"url(#clip262)\" style=\"stroke:#000000; stroke-linecap:butt; stroke-linejoin:round; stroke-width:2; stroke-opacity:0.1; fill:none\" points=\"\n",
       "  147.478,1077.9 2352.76,1077.9 \n",
       "  \"/>\n",
       "<polyline clip-path=\"url(#clip262)\" style=\"stroke:#000000; stroke-linecap:butt; stroke-linejoin:round; stroke-width:2; stroke-opacity:0.1; fill:none\" points=\"\n",
       "  147.478,822.949 2352.76,822.949 \n",
       "  \"/>\n",
       "<polyline clip-path=\"url(#clip262)\" style=\"stroke:#000000; stroke-linecap:butt; stroke-linejoin:round; stroke-width:2; stroke-opacity:0.1; fill:none\" points=\"\n",
       "  147.478,567.999 2352.76,567.999 \n",
       "  \"/>\n",
       "<polyline clip-path=\"url(#clip262)\" style=\"stroke:#000000; stroke-linecap:butt; stroke-linejoin:round; stroke-width:2; stroke-opacity:0.1; fill:none\" points=\"\n",
       "  147.478,313.049 2352.76,313.049 \n",
       "  \"/>\n",
       "<polyline clip-path=\"url(#clip262)\" style=\"stroke:#000000; stroke-linecap:butt; stroke-linejoin:round; stroke-width:2; stroke-opacity:0.1; fill:none\" points=\"\n",
       "  147.478,58.0989 2352.76,58.0989 \n",
       "  \"/>\n",
       "<polyline clip-path=\"url(#clip260)\" style=\"stroke:#000000; stroke-linecap:butt; stroke-linejoin:round; stroke-width:4; stroke-opacity:1; fill:none\" points=\"\n",
       "  147.478,1486.45 147.478,47.2441 \n",
       "  \"/>\n",
       "<polyline clip-path=\"url(#clip260)\" style=\"stroke:#000000; stroke-linecap:butt; stroke-linejoin:round; stroke-width:4; stroke-opacity:1; fill:none\" points=\"\n",
       "  147.478,1332.85 166.376,1332.85 \n",
       "  \"/>\n",
       "<polyline clip-path=\"url(#clip260)\" style=\"stroke:#000000; stroke-linecap:butt; stroke-linejoin:round; stroke-width:4; stroke-opacity:1; fill:none\" points=\"\n",
       "  147.478,1077.9 166.376,1077.9 \n",
       "  \"/>\n",
       "<polyline clip-path=\"url(#clip260)\" style=\"stroke:#000000; stroke-linecap:butt; stroke-linejoin:round; stroke-width:4; stroke-opacity:1; fill:none\" points=\"\n",
       "  147.478,822.949 166.376,822.949 \n",
       "  \"/>\n",
       "<polyline clip-path=\"url(#clip260)\" style=\"stroke:#000000; stroke-linecap:butt; stroke-linejoin:round; stroke-width:4; stroke-opacity:1; fill:none\" points=\"\n",
       "  147.478,567.999 166.376,567.999 \n",
       "  \"/>\n",
       "<polyline clip-path=\"url(#clip260)\" style=\"stroke:#000000; stroke-linecap:butt; stroke-linejoin:round; stroke-width:4; stroke-opacity:1; fill:none\" points=\"\n",
       "  147.478,313.049 166.376,313.049 \n",
       "  \"/>\n",
       "<polyline clip-path=\"url(#clip260)\" style=\"stroke:#000000; stroke-linecap:butt; stroke-linejoin:round; stroke-width:4; stroke-opacity:1; fill:none\" points=\"\n",
       "  147.478,58.0989 166.376,58.0989 \n",
       "  \"/>\n",
       "<path clip-path=\"url(#clip260)\" d=\"M51.3625 1333.3 L81.0383 1333.3 L81.0383 1337.24 L51.3625 1337.24 L51.3625 1333.3 Z\" fill=\"#000000\" fill-rule=\"evenodd\" fill-opacity=\"1\" /><path clip-path=\"url(#clip260)\" d=\"M95.1586 1346.19 L111.478 1346.19 L111.478 1350.13 L89.5336 1350.13 L89.5336 1346.19 Q92.1956 1343.44 96.7789 1338.81 Q101.385 1334.16 102.566 1332.81 Q104.811 1330.29 105.691 1328.56 Q106.594 1326.8 106.594 1325.11 Q106.594 1322.35 104.649 1320.62 Q102.728 1318.88 99.6261 1318.88 Q97.4271 1318.88 94.9734 1319.64 Q92.5428 1320.41 89.7651 1321.96 L89.7651 1317.24 Q92.5891 1316.1 95.0428 1315.52 Q97.4965 1314.94 99.5335 1314.94 Q104.904 1314.94 108.098 1317.63 Q111.293 1320.31 111.293 1324.81 Q111.293 1326.94 110.483 1328.86 Q109.696 1330.75 107.589 1333.35 Q107.01 1334.02 103.909 1337.24 Q100.807 1340.43 95.1586 1346.19 Z\" fill=\"#000000\" fill-rule=\"evenodd\" fill-opacity=\"1\" /><path clip-path=\"url(#clip260)\" d=\"M50.9921 1078.35 L80.6679 1078.35 L80.6679 1082.29 L50.9921 1082.29 L50.9921 1078.35 Z\" fill=\"#000000\" fill-rule=\"evenodd\" fill-opacity=\"1\" /><path clip-path=\"url(#clip260)\" d=\"M91.5706 1091.24 L99.2095 1091.24 L99.2095 1064.88 L90.8993 1066.55 L90.8993 1062.29 L99.1632 1060.62 L103.839 1060.62 L103.839 1091.24 L111.478 1091.24 L111.478 1095.18 L91.5706 1095.18 L91.5706 1091.24 Z\" fill=\"#000000\" fill-rule=\"evenodd\" fill-opacity=\"1\" /><path clip-path=\"url(#clip260)\" d=\"M99.5335 808.748 Q95.9224 808.748 94.0937 812.313 Q92.2882 815.854 92.2882 822.984 Q92.2882 830.09 94.0937 833.655 Q95.9224 837.197 99.5335 837.197 Q103.168 837.197 104.973 833.655 Q106.802 830.09 106.802 822.984 Q106.802 815.854 104.973 812.313 Q103.168 808.748 99.5335 808.748 M99.5335 805.044 Q105.344 805.044 108.399 809.651 Q111.478 814.234 111.478 822.984 Q111.478 831.711 108.399 836.317 Q105.344 840.901 99.5335 840.901 Q93.7234 840.901 90.6447 836.317 Q87.5892 831.711 87.5892 822.984 Q87.5892 814.234 90.6447 809.651 Q93.7234 805.044 99.5335 805.044 Z\" fill=\"#000000\" fill-rule=\"evenodd\" fill-opacity=\"1\" /><path clip-path=\"url(#clip260)\" d=\"M91.5706 581.344 L99.2095 581.344 L99.2095 554.978 L90.8993 556.645 L90.8993 552.386 L99.1632 550.719 L103.839 550.719 L103.839 581.344 L111.478 581.344 L111.478 585.279 L91.5706 585.279 L91.5706 581.344 Z\" fill=\"#000000\" fill-rule=\"evenodd\" fill-opacity=\"1\" /><path clip-path=\"url(#clip260)\" d=\"M95.1586 326.394 L111.478 326.394 L111.478 330.329 L89.5336 330.329 L89.5336 326.394 Q92.1956 323.639 96.7789 319.01 Q101.385 314.357 102.566 313.014 Q104.811 310.491 105.691 308.755 Q106.594 306.996 106.594 305.306 Q106.594 302.551 104.649 300.815 Q102.728 299.079 99.6261 299.079 Q97.4271 299.079 94.9734 299.843 Q92.5428 300.607 89.7651 302.158 L89.7651 297.436 Q92.5891 296.301 95.0428 295.723 Q97.4965 295.144 99.5335 295.144 Q104.904 295.144 108.098 297.829 Q111.293 300.514 111.293 305.005 Q111.293 307.135 110.483 309.056 Q109.696 310.954 107.589 313.547 Q107.01 314.218 103.909 317.436 Q100.807 320.63 95.1586 326.394 Z\" fill=\"#000000\" fill-rule=\"evenodd\" fill-opacity=\"1\" /><path clip-path=\"url(#clip260)\" d=\"M104.348 56.7447 Q107.705 57.4623 109.58 59.7308 Q111.478 61.9993 111.478 65.3326 Q111.478 70.4484 107.959 73.2493 Q104.441 76.0502 97.9595 76.0502 Q95.7836 76.0502 93.4688 75.6104 Q91.1771 75.1937 88.7234 74.3372 L88.7234 69.8234 Q90.6678 70.9576 92.9826 71.5363 Q95.2974 72.115 97.8206 72.115 Q102.219 72.115 104.51 70.3789 Q106.825 68.6428 106.825 65.3326 Q106.825 62.2771 104.672 60.5641 Q102.543 58.828 98.7234 58.828 L94.6956 58.828 L94.6956 54.9855 L98.9085 54.9855 Q102.358 54.9855 104.186 53.6197 Q106.015 52.2309 106.015 49.6383 Q106.015 46.9763 104.117 45.5642 Q102.242 44.129 98.7234 44.129 Q96.8021 44.129 94.603 44.5457 Q92.4039 44.9624 89.7651 45.842 L89.7651 41.6754 Q92.4271 40.9346 94.7419 40.5643 Q97.0798 40.1939 99.14 40.1939 Q104.464 40.1939 107.566 42.6244 Q110.668 45.0318 110.668 49.1522 Q110.668 52.0225 109.024 54.0133 Q107.381 55.9808 104.348 56.7447 Z\" fill=\"#000000\" fill-rule=\"evenodd\" fill-opacity=\"1\" /><circle clip-path=\"url(#clip262)\" cx=\"1781.63\" cy=\"891.034\" r=\"14\" fill=\"#009af9\" fill-rule=\"evenodd\" fill-opacity=\"1\" stroke=\"#000000\" stroke-opacity=\"1\" stroke-width=\"3.2\"/>\n",
       "<circle clip-path=\"url(#clip262)\" cx=\"1625.48\" cy=\"1169.26\" r=\"14\" fill=\"#009af9\" fill-rule=\"evenodd\" fill-opacity=\"1\" stroke=\"#000000\" stroke-opacity=\"1\" stroke-width=\"3.2\"/>\n",
       "<circle clip-path=\"url(#clip262)\" cx=\"1333.13\" cy=\"946.041\" r=\"14\" fill=\"#009af9\" fill-rule=\"evenodd\" fill-opacity=\"1\" stroke=\"#000000\" stroke-opacity=\"1\" stroke-width=\"3.2\"/>\n",
       "<circle clip-path=\"url(#clip262)\" cx=\"586.39\" cy=\"1196.27\" r=\"14\" fill=\"#009af9\" fill-rule=\"evenodd\" fill-opacity=\"1\" stroke=\"#000000\" stroke-opacity=\"1\" stroke-width=\"3.2\"/>\n",
       "<circle clip-path=\"url(#clip262)\" cx=\"960.908\" cy=\"523.918\" r=\"14\" fill=\"#009af9\" fill-rule=\"evenodd\" fill-opacity=\"1\" stroke=\"#000000\" stroke-opacity=\"1\" stroke-width=\"3.2\"/>\n",
       "<circle clip-path=\"url(#clip262)\" cx=\"1575.77\" cy=\"739.985\" r=\"14\" fill=\"#009af9\" fill-rule=\"evenodd\" fill-opacity=\"1\" stroke=\"#000000\" stroke-opacity=\"1\" stroke-width=\"3.2\"/>\n",
       "<circle clip-path=\"url(#clip262)\" cx=\"1439.06\" cy=\"560.368\" r=\"14\" fill=\"#009af9\" fill-rule=\"evenodd\" fill-opacity=\"1\" stroke=\"#000000\" stroke-opacity=\"1\" stroke-width=\"3.2\"/>\n",
       "<circle clip-path=\"url(#clip262)\" cx=\"996.831\" cy=\"1276.03\" r=\"14\" fill=\"#009af9\" fill-rule=\"evenodd\" fill-opacity=\"1\" stroke=\"#000000\" stroke-opacity=\"1\" stroke-width=\"3.2\"/>\n",
       "<circle clip-path=\"url(#clip262)\" cx=\"1290.8\" cy=\"1038.76\" r=\"14\" fill=\"#009af9\" fill-rule=\"evenodd\" fill-opacity=\"1\" stroke=\"#000000\" stroke-opacity=\"1\" stroke-width=\"3.2\"/>\n",
       "<circle clip-path=\"url(#clip262)\" cx=\"1322.88\" cy=\"809.963\" r=\"14\" fill=\"#009af9\" fill-rule=\"evenodd\" fill-opacity=\"1\" stroke=\"#000000\" stroke-opacity=\"1\" stroke-width=\"3.2\"/>\n",
       "<circle clip-path=\"url(#clip262)\" cx=\"1244.83\" cy=\"1021.24\" r=\"14\" fill=\"#009af9\" fill-rule=\"evenodd\" fill-opacity=\"1\" stroke=\"#000000\" stroke-opacity=\"1\" stroke-width=\"3.2\"/>\n",
       "<circle clip-path=\"url(#clip262)\" cx=\"1597.8\" cy=\"705.716\" r=\"14\" fill=\"#009af9\" fill-rule=\"evenodd\" fill-opacity=\"1\" stroke=\"#000000\" stroke-opacity=\"1\" stroke-width=\"3.2\"/>\n",
       "<circle clip-path=\"url(#clip262)\" cx=\"874.899\" cy=\"1086.49\" r=\"14\" fill=\"#009af9\" fill-rule=\"evenodd\" fill-opacity=\"1\" stroke=\"#000000\" stroke-opacity=\"1\" stroke-width=\"3.2\"/>\n",
       "<circle clip-path=\"url(#clip262)\" cx=\"779.679\" cy=\"1205.1\" r=\"14\" fill=\"#009af9\" fill-rule=\"evenodd\" fill-opacity=\"1\" stroke=\"#000000\" stroke-opacity=\"1\" stroke-width=\"3.2\"/>\n",
       "<circle clip-path=\"url(#clip262)\" cx=\"1510.27\" cy=\"87.9763\" r=\"14\" fill=\"#009af9\" fill-rule=\"evenodd\" fill-opacity=\"1\" stroke=\"#000000\" stroke-opacity=\"1\" stroke-width=\"3.2\"/>\n",
       "<circle clip-path=\"url(#clip262)\" cx=\"1255.39\" cy=\"1221.85\" r=\"14\" fill=\"#009af9\" fill-rule=\"evenodd\" fill-opacity=\"1\" stroke=\"#000000\" stroke-opacity=\"1\" stroke-width=\"3.2\"/>\n",
       "<circle clip-path=\"url(#clip262)\" cx=\"1842.84\" cy=\"595.505\" r=\"14\" fill=\"#009af9\" fill-rule=\"evenodd\" fill-opacity=\"1\" stroke=\"#000000\" stroke-opacity=\"1\" stroke-width=\"3.2\"/>\n",
       "<circle clip-path=\"url(#clip262)\" cx=\"1662.17\" cy=\"973.82\" r=\"14\" fill=\"#009af9\" fill-rule=\"evenodd\" fill-opacity=\"1\" stroke=\"#000000\" stroke-opacity=\"1\" stroke-width=\"3.2\"/>\n",
       "<circle clip-path=\"url(#clip262)\" cx=\"1244.57\" cy=\"451.67\" r=\"14\" fill=\"#009af9\" fill-rule=\"evenodd\" fill-opacity=\"1\" stroke=\"#000000\" stroke-opacity=\"1\" stroke-width=\"3.2\"/>\n",
       "<circle clip-path=\"url(#clip262)\" cx=\"1072.33\" cy=\"793.616\" r=\"14\" fill=\"#009af9\" fill-rule=\"evenodd\" fill-opacity=\"1\" stroke=\"#000000\" stroke-opacity=\"1\" stroke-width=\"3.2\"/>\n",
       "<circle clip-path=\"url(#clip262)\" cx=\"1474.85\" cy=\"1165.64\" r=\"14\" fill=\"#009af9\" fill-rule=\"evenodd\" fill-opacity=\"1\" stroke=\"#000000\" stroke-opacity=\"1\" stroke-width=\"3.2\"/>\n",
       "<circle clip-path=\"url(#clip262)\" cx=\"357.879\" cy=\"1263.1\" r=\"14\" fill=\"#009af9\" fill-rule=\"evenodd\" fill-opacity=\"1\" stroke=\"#000000\" stroke-opacity=\"1\" stroke-width=\"3.2\"/>\n",
       "<circle clip-path=\"url(#clip262)\" cx=\"1532.53\" cy=\"1017.31\" r=\"14\" fill=\"#009af9\" fill-rule=\"evenodd\" fill-opacity=\"1\" stroke=\"#000000\" stroke-opacity=\"1\" stroke-width=\"3.2\"/>\n",
       "<circle clip-path=\"url(#clip262)\" cx=\"1800.99\" cy=\"949.492\" r=\"14\" fill=\"#009af9\" fill-rule=\"evenodd\" fill-opacity=\"1\" stroke=\"#000000\" stroke-opacity=\"1\" stroke-width=\"3.2\"/>\n",
       "<circle clip-path=\"url(#clip262)\" cx=\"1610.08\" cy=\"864.151\" r=\"14\" fill=\"#009af9\" fill-rule=\"evenodd\" fill-opacity=\"1\" stroke=\"#000000\" stroke-opacity=\"1\" stroke-width=\"3.2\"/>\n",
       "<circle clip-path=\"url(#clip262)\" cx=\"2227.04\" cy=\"683.93\" r=\"14\" fill=\"#009af9\" fill-rule=\"evenodd\" fill-opacity=\"1\" stroke=\"#000000\" stroke-opacity=\"1\" stroke-width=\"3.2\"/>\n",
       "<circle clip-path=\"url(#clip262)\" cx=\"1675.75\" cy=\"564.441\" r=\"14\" fill=\"#009af9\" fill-rule=\"evenodd\" fill-opacity=\"1\" stroke=\"#000000\" stroke-opacity=\"1\" stroke-width=\"3.2\"/>\n",
       "<circle clip-path=\"url(#clip262)\" cx=\"864.82\" cy=\"834.708\" r=\"14\" fill=\"#009af9\" fill-rule=\"evenodd\" fill-opacity=\"1\" stroke=\"#000000\" stroke-opacity=\"1\" stroke-width=\"3.2\"/>\n",
       "<circle clip-path=\"url(#clip262)\" cx=\"1438.63\" cy=\"903.932\" r=\"14\" fill=\"#009af9\" fill-rule=\"evenodd\" fill-opacity=\"1\" stroke=\"#000000\" stroke-opacity=\"1\" stroke-width=\"3.2\"/>\n",
       "<circle clip-path=\"url(#clip262)\" cx=\"2090.62\" cy=\"725.714\" r=\"14\" fill=\"#009af9\" fill-rule=\"evenodd\" fill-opacity=\"1\" stroke=\"#000000\" stroke-opacity=\"1\" stroke-width=\"3.2\"/>\n",
       "<circle clip-path=\"url(#clip262)\" cx=\"1118.27\" cy=\"925.13\" r=\"14\" fill=\"#009af9\" fill-rule=\"evenodd\" fill-opacity=\"1\" stroke=\"#000000\" stroke-opacity=\"1\" stroke-width=\"3.2\"/>\n",
       "<circle clip-path=\"url(#clip262)\" cx=\"1635.18\" cy=\"706.888\" r=\"14\" fill=\"#009af9\" fill-rule=\"evenodd\" fill-opacity=\"1\" stroke=\"#000000\" stroke-opacity=\"1\" stroke-width=\"3.2\"/>\n",
       "<circle clip-path=\"url(#clip262)\" cx=\"1820.66\" cy=\"635.853\" r=\"14\" fill=\"#009af9\" fill-rule=\"evenodd\" fill-opacity=\"1\" stroke=\"#000000\" stroke-opacity=\"1\" stroke-width=\"3.2\"/>\n",
       "<circle clip-path=\"url(#clip262)\" cx=\"1970.39\" cy=\"799.7\" r=\"14\" fill=\"#009af9\" fill-rule=\"evenodd\" fill-opacity=\"1\" stroke=\"#000000\" stroke-opacity=\"1\" stroke-width=\"3.2\"/>\n",
       "<circle clip-path=\"url(#clip262)\" cx=\"1234.12\" cy=\"646.277\" r=\"14\" fill=\"#009af9\" fill-rule=\"evenodd\" fill-opacity=\"1\" stroke=\"#000000\" stroke-opacity=\"1\" stroke-width=\"3.2\"/>\n",
       "<circle clip-path=\"url(#clip262)\" cx=\"323.591\" cy=\"1345.9\" r=\"14\" fill=\"#009af9\" fill-rule=\"evenodd\" fill-opacity=\"1\" stroke=\"#000000\" stroke-opacity=\"1\" stroke-width=\"3.2\"/>\n",
       "<circle clip-path=\"url(#clip262)\" cx=\"1492.6\" cy=\"1026.01\" r=\"14\" fill=\"#009af9\" fill-rule=\"evenodd\" fill-opacity=\"1\" stroke=\"#000000\" stroke-opacity=\"1\" stroke-width=\"3.2\"/>\n",
       "<circle clip-path=\"url(#clip262)\" cx=\"1040.27\" cy=\"1284.06\" r=\"14\" fill=\"#009af9\" fill-rule=\"evenodd\" fill-opacity=\"1\" stroke=\"#000000\" stroke-opacity=\"1\" stroke-width=\"3.2\"/>\n",
       "<circle clip-path=\"url(#clip262)\" cx=\"1521.97\" cy=\"557.274\" r=\"14\" fill=\"#009af9\" fill-rule=\"evenodd\" fill-opacity=\"1\" stroke=\"#000000\" stroke-opacity=\"1\" stroke-width=\"3.2\"/>\n",
       "<circle clip-path=\"url(#clip262)\" cx=\"997.151\" cy=\"757.134\" r=\"14\" fill=\"#009af9\" fill-rule=\"evenodd\" fill-opacity=\"1\" stroke=\"#000000\" stroke-opacity=\"1\" stroke-width=\"3.2\"/>\n",
       "<circle clip-path=\"url(#clip262)\" cx=\"1295.82\" cy=\"1100.96\" r=\"14\" fill=\"#009af9\" fill-rule=\"evenodd\" fill-opacity=\"1\" stroke=\"#000000\" stroke-opacity=\"1\" stroke-width=\"3.2\"/>\n",
       "<circle clip-path=\"url(#clip262)\" cx=\"985.898\" cy=\"1220.34\" r=\"14\" fill=\"#009af9\" fill-rule=\"evenodd\" fill-opacity=\"1\" stroke=\"#000000\" stroke-opacity=\"1\" stroke-width=\"3.2\"/>\n",
       "<circle clip-path=\"url(#clip262)\" cx=\"1367.19\" cy=\"1150.96\" r=\"14\" fill=\"#009af9\" fill-rule=\"evenodd\" fill-opacity=\"1\" stroke=\"#000000\" stroke-opacity=\"1\" stroke-width=\"3.2\"/>\n",
       "<circle clip-path=\"url(#clip262)\" cx=\"1202.32\" cy=\"1320.77\" r=\"14\" fill=\"#009af9\" fill-rule=\"evenodd\" fill-opacity=\"1\" stroke=\"#000000\" stroke-opacity=\"1\" stroke-width=\"3.2\"/>\n",
       "<circle clip-path=\"url(#clip262)\" cx=\"1657.12\" cy=\"1175.98\" r=\"14\" fill=\"#009af9\" fill-rule=\"evenodd\" fill-opacity=\"1\" stroke=\"#000000\" stroke-opacity=\"1\" stroke-width=\"3.2\"/>\n",
       "<circle clip-path=\"url(#clip262)\" cx=\"1020.79\" cy=\"865.3\" r=\"14\" fill=\"#009af9\" fill-rule=\"evenodd\" fill-opacity=\"1\" stroke=\"#000000\" stroke-opacity=\"1\" stroke-width=\"3.2\"/>\n",
       "<circle clip-path=\"url(#clip262)\" cx=\"1270.16\" cy=\"1147.08\" r=\"14\" fill=\"#009af9\" fill-rule=\"evenodd\" fill-opacity=\"1\" stroke=\"#000000\" stroke-opacity=\"1\" stroke-width=\"3.2\"/>\n",
       "<circle clip-path=\"url(#clip262)\" cx=\"1110.32\" cy=\"441.238\" r=\"14\" fill=\"#009af9\" fill-rule=\"evenodd\" fill-opacity=\"1\" stroke=\"#000000\" stroke-opacity=\"1\" stroke-width=\"3.2\"/>\n",
       "<circle clip-path=\"url(#clip262)\" cx=\"1033.19\" cy=\"837.737\" r=\"14\" fill=\"#009af9\" fill-rule=\"evenodd\" fill-opacity=\"1\" stroke=\"#000000\" stroke-opacity=\"1\" stroke-width=\"3.2\"/>\n",
       "<circle clip-path=\"url(#clip262)\" cx=\"1062.34\" cy=\"1215.32\" r=\"14\" fill=\"#009af9\" fill-rule=\"evenodd\" fill-opacity=\"1\" stroke=\"#000000\" stroke-opacity=\"1\" stroke-width=\"3.2\"/>\n",
       "<circle clip-path=\"url(#clip262)\" cx=\"784.19\" cy=\"926.567\" r=\"14\" fill=\"#009af9\" fill-rule=\"evenodd\" fill-opacity=\"1\" stroke=\"#000000\" stroke-opacity=\"1\" stroke-width=\"3.2\"/>\n",
       "<circle clip-path=\"url(#clip262)\" cx=\"1922.62\" cy=\"835.746\" r=\"14\" fill=\"#009af9\" fill-rule=\"evenodd\" fill-opacity=\"1\" stroke=\"#000000\" stroke-opacity=\"1\" stroke-width=\"3.2\"/>\n",
       "<circle clip-path=\"url(#clip262)\" cx=\"1036.47\" cy=\"840.39\" r=\"14\" fill=\"#009af9\" fill-rule=\"evenodd\" fill-opacity=\"1\" stroke=\"#000000\" stroke-opacity=\"1\" stroke-width=\"3.2\"/>\n",
       "<circle clip-path=\"url(#clip262)\" cx=\"1570.46\" cy=\"1366.26\" r=\"14\" fill=\"#009af9\" fill-rule=\"evenodd\" fill-opacity=\"1\" stroke=\"#000000\" stroke-opacity=\"1\" stroke-width=\"3.2\"/>\n",
       "<circle clip-path=\"url(#clip262)\" cx=\"1026.7\" cy=\"833.797\" r=\"14\" fill=\"#009af9\" fill-rule=\"evenodd\" fill-opacity=\"1\" stroke=\"#000000\" stroke-opacity=\"1\" stroke-width=\"3.2\"/>\n",
       "<circle clip-path=\"url(#clip262)\" cx=\"1393.5\" cy=\"1367.46\" r=\"14\" fill=\"#009af9\" fill-rule=\"evenodd\" fill-opacity=\"1\" stroke=\"#000000\" stroke-opacity=\"1\" stroke-width=\"3.2\"/>\n",
       "<circle clip-path=\"url(#clip262)\" cx=\"2020.04\" cy=\"803.535\" r=\"14\" fill=\"#009af9\" fill-rule=\"evenodd\" fill-opacity=\"1\" stroke=\"#000000\" stroke-opacity=\"1\" stroke-width=\"3.2\"/>\n",
       "<circle clip-path=\"url(#clip262)\" cx=\"2058.37\" cy=\"986.253\" r=\"14\" fill=\"#009af9\" fill-rule=\"evenodd\" fill-opacity=\"1\" stroke=\"#000000\" stroke-opacity=\"1\" stroke-width=\"3.2\"/>\n",
       "<circle clip-path=\"url(#clip262)\" cx=\"1523.43\" cy=\"896.159\" r=\"14\" fill=\"#009af9\" fill-rule=\"evenodd\" fill-opacity=\"1\" stroke=\"#000000\" stroke-opacity=\"1\" stroke-width=\"3.2\"/>\n",
       "<circle clip-path=\"url(#clip262)\" cx=\"1159.04\" cy=\"682.445\" r=\"14\" fill=\"#009af9\" fill-rule=\"evenodd\" fill-opacity=\"1\" stroke=\"#000000\" stroke-opacity=\"1\" stroke-width=\"3.2\"/>\n",
       "<circle clip-path=\"url(#clip262)\" cx=\"1182.73\" cy=\"1148.61\" r=\"14\" fill=\"#009af9\" fill-rule=\"evenodd\" fill-opacity=\"1\" stroke=\"#000000\" stroke-opacity=\"1\" stroke-width=\"3.2\"/>\n",
       "<circle clip-path=\"url(#clip262)\" cx=\"1039.2\" cy=\"618.151\" r=\"14\" fill=\"#009af9\" fill-rule=\"evenodd\" fill-opacity=\"1\" stroke=\"#000000\" stroke-opacity=\"1\" stroke-width=\"3.2\"/>\n",
       "<circle clip-path=\"url(#clip262)\" cx=\"2290.34\" cy=\"976.222\" r=\"14\" fill=\"#009af9\" fill-rule=\"evenodd\" fill-opacity=\"1\" stroke=\"#000000\" stroke-opacity=\"1\" stroke-width=\"3.2\"/>\n",
       "<circle clip-path=\"url(#clip262)\" cx=\"679.965\" cy=\"715.678\" r=\"14\" fill=\"#009af9\" fill-rule=\"evenodd\" fill-opacity=\"1\" stroke=\"#000000\" stroke-opacity=\"1\" stroke-width=\"3.2\"/>\n",
       "<circle clip-path=\"url(#clip262)\" cx=\"1576.77\" cy=\"903.862\" r=\"14\" fill=\"#009af9\" fill-rule=\"evenodd\" fill-opacity=\"1\" stroke=\"#000000\" stroke-opacity=\"1\" stroke-width=\"3.2\"/>\n",
       "<circle clip-path=\"url(#clip262)\" cx=\"1410.03\" cy=\"710.952\" r=\"14\" fill=\"#009af9\" fill-rule=\"evenodd\" fill-opacity=\"1\" stroke=\"#000000\" stroke-opacity=\"1\" stroke-width=\"3.2\"/>\n",
       "<circle clip-path=\"url(#clip262)\" cx=\"941.753\" cy=\"1022.74\" r=\"14\" fill=\"#009af9\" fill-rule=\"evenodd\" fill-opacity=\"1\" stroke=\"#000000\" stroke-opacity=\"1\" stroke-width=\"3.2\"/>\n",
       "<circle clip-path=\"url(#clip262)\" cx=\"1045.81\" cy=\"731.122\" r=\"14\" fill=\"#009af9\" fill-rule=\"evenodd\" fill-opacity=\"1\" stroke=\"#000000\" stroke-opacity=\"1\" stroke-width=\"3.2\"/>\n",
       "<circle clip-path=\"url(#clip262)\" cx=\"1450.59\" cy=\"1061.93\" r=\"14\" fill=\"#009af9\" fill-rule=\"evenodd\" fill-opacity=\"1\" stroke=\"#000000\" stroke-opacity=\"1\" stroke-width=\"3.2\"/>\n",
       "<circle clip-path=\"url(#clip262)\" cx=\"1862.46\" cy=\"1062.62\" r=\"14\" fill=\"#009af9\" fill-rule=\"evenodd\" fill-opacity=\"1\" stroke=\"#000000\" stroke-opacity=\"1\" stroke-width=\"3.2\"/>\n",
       "<circle clip-path=\"url(#clip262)\" cx=\"1150.7\" cy=\"700.545\" r=\"14\" fill=\"#009af9\" fill-rule=\"evenodd\" fill-opacity=\"1\" stroke=\"#000000\" stroke-opacity=\"1\" stroke-width=\"3.2\"/>\n",
       "<circle clip-path=\"url(#clip262)\" cx=\"1760.67\" cy=\"941.026\" r=\"14\" fill=\"#009af9\" fill-rule=\"evenodd\" fill-opacity=\"1\" stroke=\"#000000\" stroke-opacity=\"1\" stroke-width=\"3.2\"/>\n",
       "<circle clip-path=\"url(#clip262)\" cx=\"837.942\" cy=\"668.155\" r=\"14\" fill=\"#009af9\" fill-rule=\"evenodd\" fill-opacity=\"1\" stroke=\"#000000\" stroke-opacity=\"1\" stroke-width=\"3.2\"/>\n",
       "<circle clip-path=\"url(#clip262)\" cx=\"736.312\" cy=\"1012.49\" r=\"14\" fill=\"#009af9\" fill-rule=\"evenodd\" fill-opacity=\"1\" stroke=\"#000000\" stroke-opacity=\"1\" stroke-width=\"3.2\"/>\n",
       "<circle clip-path=\"url(#clip262)\" cx=\"1201.32\" cy=\"852.978\" r=\"14\" fill=\"#009af9\" fill-rule=\"evenodd\" fill-opacity=\"1\" stroke=\"#000000\" stroke-opacity=\"1\" stroke-width=\"3.2\"/>\n",
       "<circle clip-path=\"url(#clip262)\" cx=\"835.936\" cy=\"1025.72\" r=\"14\" fill=\"#009af9\" fill-rule=\"evenodd\" fill-opacity=\"1\" stroke=\"#000000\" stroke-opacity=\"1\" stroke-width=\"3.2\"/>\n",
       "<circle clip-path=\"url(#clip262)\" cx=\"2033.54\" cy=\"983.609\" r=\"14\" fill=\"#009af9\" fill-rule=\"evenodd\" fill-opacity=\"1\" stroke=\"#000000\" stroke-opacity=\"1\" stroke-width=\"3.2\"/>\n",
       "<circle clip-path=\"url(#clip262)\" cx=\"1240.69\" cy=\"807.252\" r=\"14\" fill=\"#009af9\" fill-rule=\"evenodd\" fill-opacity=\"1\" stroke=\"#000000\" stroke-opacity=\"1\" stroke-width=\"3.2\"/>\n",
       "<circle clip-path=\"url(#clip262)\" cx=\"674.558\" cy=\"755.553\" r=\"14\" fill=\"#009af9\" fill-rule=\"evenodd\" fill-opacity=\"1\" stroke=\"#000000\" stroke-opacity=\"1\" stroke-width=\"3.2\"/>\n",
       "<circle clip-path=\"url(#clip262)\" cx=\"209.891\" cy=\"1445.72\" r=\"14\" fill=\"#009af9\" fill-rule=\"evenodd\" fill-opacity=\"1\" stroke=\"#000000\" stroke-opacity=\"1\" stroke-width=\"3.2\"/>\n",
       "<circle clip-path=\"url(#clip262)\" cx=\"1203.32\" cy=\"214.458\" r=\"14\" fill=\"#009af9\" fill-rule=\"evenodd\" fill-opacity=\"1\" stroke=\"#000000\" stroke-opacity=\"1\" stroke-width=\"3.2\"/>\n",
       "<circle clip-path=\"url(#clip262)\" cx=\"1555.46\" cy=\"814.402\" r=\"14\" fill=\"#009af9\" fill-rule=\"evenodd\" fill-opacity=\"1\" stroke=\"#000000\" stroke-opacity=\"1\" stroke-width=\"3.2\"/>\n",
       "<circle clip-path=\"url(#clip262)\" cx=\"1871.77\" cy=\"1031.99\" r=\"14\" fill=\"#009af9\" fill-rule=\"evenodd\" fill-opacity=\"1\" stroke=\"#000000\" stroke-opacity=\"1\" stroke-width=\"3.2\"/>\n",
       "<circle clip-path=\"url(#clip262)\" cx=\"992.314\" cy=\"840.339\" r=\"14\" fill=\"#009af9\" fill-rule=\"evenodd\" fill-opacity=\"1\" stroke=\"#000000\" stroke-opacity=\"1\" stroke-width=\"3.2\"/>\n",
       "<circle clip-path=\"url(#clip262)\" cx=\"1124.96\" cy=\"865.841\" r=\"14\" fill=\"#009af9\" fill-rule=\"evenodd\" fill-opacity=\"1\" stroke=\"#000000\" stroke-opacity=\"1\" stroke-width=\"3.2\"/>\n",
       "<circle clip-path=\"url(#clip262)\" cx=\"1013.11\" cy=\"511.461\" r=\"14\" fill=\"#009af9\" fill-rule=\"evenodd\" fill-opacity=\"1\" stroke=\"#000000\" stroke-opacity=\"1\" stroke-width=\"3.2\"/>\n",
       "<circle clip-path=\"url(#clip262)\" cx=\"1065.96\" cy=\"574.852\" r=\"14\" fill=\"#009af9\" fill-rule=\"evenodd\" fill-opacity=\"1\" stroke=\"#000000\" stroke-opacity=\"1\" stroke-width=\"3.2\"/>\n",
       "<circle clip-path=\"url(#clip262)\" cx=\"828.806\" cy=\"828.84\" r=\"14\" fill=\"#009af9\" fill-rule=\"evenodd\" fill-opacity=\"1\" stroke=\"#000000\" stroke-opacity=\"1\" stroke-width=\"3.2\"/>\n",
       "<circle clip-path=\"url(#clip262)\" cx=\"1326.63\" cy=\"1006.29\" r=\"14\" fill=\"#009af9\" fill-rule=\"evenodd\" fill-opacity=\"1\" stroke=\"#000000\" stroke-opacity=\"1\" stroke-width=\"3.2\"/>\n",
       "<circle clip-path=\"url(#clip262)\" cx=\"1073.5\" cy=\"764.324\" r=\"14\" fill=\"#009af9\" fill-rule=\"evenodd\" fill-opacity=\"1\" stroke=\"#000000\" stroke-opacity=\"1\" stroke-width=\"3.2\"/>\n",
       "<circle clip-path=\"url(#clip262)\" cx=\"1245.05\" cy=\"674.111\" r=\"14\" fill=\"#009af9\" fill-rule=\"evenodd\" fill-opacity=\"1\" stroke=\"#000000\" stroke-opacity=\"1\" stroke-width=\"3.2\"/>\n",
       "<circle clip-path=\"url(#clip262)\" cx=\"1719.68\" cy=\"671.924\" r=\"14\" fill=\"#009af9\" fill-rule=\"evenodd\" fill-opacity=\"1\" stroke=\"#000000\" stroke-opacity=\"1\" stroke-width=\"3.2\"/>\n",
       "<circle clip-path=\"url(#clip262)\" cx=\"1659.97\" cy=\"742.578\" r=\"14\" fill=\"#009af9\" fill-rule=\"evenodd\" fill-opacity=\"1\" stroke=\"#000000\" stroke-opacity=\"1\" stroke-width=\"3.2\"/>\n",
       "<circle clip-path=\"url(#clip262)\" cx=\"1977.49\" cy=\"1134.51\" r=\"14\" fill=\"#009af9\" fill-rule=\"evenodd\" fill-opacity=\"1\" stroke=\"#000000\" stroke-opacity=\"1\" stroke-width=\"3.2\"/>\n",
       "<circle clip-path=\"url(#clip262)\" cx=\"1261.2\" cy=\"878.454\" r=\"14\" fill=\"#009af9\" fill-rule=\"evenodd\" fill-opacity=\"1\" stroke=\"#000000\" stroke-opacity=\"1\" stroke-width=\"3.2\"/>\n",
       "<circle clip-path=\"url(#clip262)\" cx=\"1165.55\" cy=\"716.1\" r=\"14\" fill=\"#009af9\" fill-rule=\"evenodd\" fill-opacity=\"1\" stroke=\"#000000\" stroke-opacity=\"1\" stroke-width=\"3.2\"/>\n",
       "<circle clip-path=\"url(#clip262)\" cx=\"1830.1\" cy=\"714.283\" r=\"14\" fill=\"#009af9\" fill-rule=\"evenodd\" fill-opacity=\"1\" stroke=\"#000000\" stroke-opacity=\"1\" stroke-width=\"3.2\"/>\n",
       "<circle clip-path=\"url(#clip262)\" cx=\"1936.42\" cy=\"407.736\" r=\"14\" fill=\"#009af9\" fill-rule=\"evenodd\" fill-opacity=\"1\" stroke=\"#000000\" stroke-opacity=\"1\" stroke-width=\"3.2\"/>\n",
       "<circle clip-path=\"url(#clip262)\" cx=\"984.105\" cy=\"947.068\" r=\"14\" fill=\"#009af9\" fill-rule=\"evenodd\" fill-opacity=\"1\" stroke=\"#000000\" stroke-opacity=\"1\" stroke-width=\"3.2\"/>\n",
       "<circle clip-path=\"url(#clip262)\" cx=\"1366.89\" cy=\"1003.7\" r=\"14\" fill=\"#009af9\" fill-rule=\"evenodd\" fill-opacity=\"1\" stroke=\"#000000\" stroke-opacity=\"1\" stroke-width=\"3.2\"/>\n",
       "<path clip-path=\"url(#clip260)\" d=\"\n",
       "M1981.79 198.898 L2279.25 198.898 L2279.25 95.2176 L1981.79 95.2176  Z\n",
       "  \" fill=\"#ffffff\" fill-rule=\"evenodd\" fill-opacity=\"1\"/>\n",
       "<polyline clip-path=\"url(#clip260)\" style=\"stroke:#000000; stroke-linecap:butt; stroke-linejoin:round; stroke-width:4; stroke-opacity:1; fill:none\" points=\"\n",
       "  1981.79,198.898 2279.25,198.898 2279.25,95.2176 1981.79,95.2176 1981.79,198.898 \n",
       "  \"/>\n",
       "<circle clip-path=\"url(#clip260)\" cx=\"2079.8\" cy=\"147.058\" r=\"23\" fill=\"#009af9\" fill-rule=\"evenodd\" fill-opacity=\"1\" stroke=\"#000000\" stroke-opacity=\"1\" stroke-width=\"5.12\"/>\n",
       "<path clip-path=\"url(#clip260)\" d=\"M2191.65 166.745 Q2189.85 171.375 2188.13 172.787 Q2186.42 174.199 2183.55 174.199 L2180.15 174.199 L2180.15 170.634 L2182.65 170.634 Q2184.41 170.634 2185.38 169.8 Q2186.35 168.967 2187.53 165.865 L2188.3 163.921 L2177.81 138.412 L2182.32 138.412 L2190.43 158.689 L2198.53 138.412 L2203.04 138.412 L2191.65 166.745 Z\" fill=\"#000000\" fill-rule=\"evenodd\" fill-opacity=\"1\" /><path clip-path=\"url(#clip260)\" d=\"M2210.33 160.402 L2217.97 160.402 L2217.97 134.037 L2209.66 135.703 L2209.66 131.444 L2217.93 129.778 L2222.6 129.778 L2222.6 160.402 L2230.24 160.402 L2230.24 164.338 L2210.33 164.338 L2210.33 160.402 Z\" fill=\"#000000\" fill-rule=\"evenodd\" fill-opacity=\"1\" /></svg>\n"
      ]
     },
     "execution_count": 39,
     "metadata": {},
     "output_type": "execute_result"
    }
   ],
   "source": [
    "# Visualization \n",
    "# Pkg.add(\"Plots\")\n",
    "using Plots\n",
    "x = randn(100)\n",
    "y = randn(100)\n",
    "scatter(x, y)"
   ]
  },
  {
   "cell_type": "code",
   "execution_count": 40,
   "metadata": {
    "scrolled": true
   },
   "outputs": [
    {
     "data": {
      "image/svg+xml": [
       "<?xml version=\"1.0\" encoding=\"utf-8\"?>\n",
       "<svg xmlns=\"http://www.w3.org/2000/svg\" xmlns:xlink=\"http://www.w3.org/1999/xlink\" width=\"600\" height=\"400\" viewBox=\"0 0 2400 1600\">\n",
       "<defs>\n",
       "  <clipPath id=\"clip300\">\n",
       "    <rect x=\"0\" y=\"0\" width=\"2400\" height=\"1600\"/>\n",
       "  </clipPath>\n",
       "</defs>\n",
       "<path clip-path=\"url(#clip300)\" d=\"\n",
       "M0 1600 L2400 1600 L2400 0 L0 0  Z\n",
       "  \" fill=\"#ffffff\" fill-rule=\"evenodd\" fill-opacity=\"1\"/>\n",
       "<defs>\n",
       "  <clipPath id=\"clip301\">\n",
       "    <rect x=\"480\" y=\"0\" width=\"1681\" height=\"1600\"/>\n",
       "  </clipPath>\n",
       "</defs>\n",
       "<path clip-path=\"url(#clip300)\" d=\"\n",
       "M156.598 1486.45 L2352.76 1486.45 L2352.76 47.2441 L156.598 47.2441  Z\n",
       "  \" fill=\"#ffffff\" fill-rule=\"evenodd\" fill-opacity=\"1\"/>\n",
       "<defs>\n",
       "  <clipPath id=\"clip302\">\n",
       "    <rect x=\"156\" y=\"47\" width=\"2197\" height=\"1440\"/>\n",
       "  </clipPath>\n",
       "</defs>\n",
       "<polyline clip-path=\"url(#clip302)\" style=\"stroke:#000000; stroke-linecap:butt; stroke-linejoin:round; stroke-width:2; stroke-opacity:0.1; fill:none\" points=\"\n",
       "  156.598,1486.45 156.598,47.2441 \n",
       "  \"/>\n",
       "<polyline clip-path=\"url(#clip302)\" style=\"stroke:#000000; stroke-linecap:butt; stroke-linejoin:round; stroke-width:2; stroke-opacity:0.1; fill:none\" points=\"\n",
       "  595.83,1486.45 595.83,47.2441 \n",
       "  \"/>\n",
       "<polyline clip-path=\"url(#clip302)\" style=\"stroke:#000000; stroke-linecap:butt; stroke-linejoin:round; stroke-width:2; stroke-opacity:0.1; fill:none\" points=\"\n",
       "  1035.06,1486.45 1035.06,47.2441 \n",
       "  \"/>\n",
       "<polyline clip-path=\"url(#clip302)\" style=\"stroke:#000000; stroke-linecap:butt; stroke-linejoin:round; stroke-width:2; stroke-opacity:0.1; fill:none\" points=\"\n",
       "  1474.29,1486.45 1474.29,47.2441 \n",
       "  \"/>\n",
       "<polyline clip-path=\"url(#clip302)\" style=\"stroke:#000000; stroke-linecap:butt; stroke-linejoin:round; stroke-width:2; stroke-opacity:0.1; fill:none\" points=\"\n",
       "  1913.52,1486.45 1913.52,47.2441 \n",
       "  \"/>\n",
       "<polyline clip-path=\"url(#clip302)\" style=\"stroke:#000000; stroke-linecap:butt; stroke-linejoin:round; stroke-width:2; stroke-opacity:0.1; fill:none\" points=\"\n",
       "  2352.76,1486.45 2352.76,47.2441 \n",
       "  \"/>\n",
       "<polyline clip-path=\"url(#clip300)\" style=\"stroke:#000000; stroke-linecap:butt; stroke-linejoin:round; stroke-width:4; stroke-opacity:1; fill:none\" points=\"\n",
       "  156.598,1486.45 2352.76,1486.45 \n",
       "  \"/>\n",
       "<polyline clip-path=\"url(#clip300)\" style=\"stroke:#000000; stroke-linecap:butt; stroke-linejoin:round; stroke-width:4; stroke-opacity:1; fill:none\" points=\"\n",
       "  156.598,1486.45 156.598,1467.55 \n",
       "  \"/>\n",
       "<polyline clip-path=\"url(#clip300)\" style=\"stroke:#000000; stroke-linecap:butt; stroke-linejoin:round; stroke-width:4; stroke-opacity:1; fill:none\" points=\"\n",
       "  595.83,1486.45 595.83,1467.55 \n",
       "  \"/>\n",
       "<polyline clip-path=\"url(#clip300)\" style=\"stroke:#000000; stroke-linecap:butt; stroke-linejoin:round; stroke-width:4; stroke-opacity:1; fill:none\" points=\"\n",
       "  1035.06,1486.45 1035.06,1467.55 \n",
       "  \"/>\n",
       "<polyline clip-path=\"url(#clip300)\" style=\"stroke:#000000; stroke-linecap:butt; stroke-linejoin:round; stroke-width:4; stroke-opacity:1; fill:none\" points=\"\n",
       "  1474.29,1486.45 1474.29,1467.55 \n",
       "  \"/>\n",
       "<polyline clip-path=\"url(#clip300)\" style=\"stroke:#000000; stroke-linecap:butt; stroke-linejoin:round; stroke-width:4; stroke-opacity:1; fill:none\" points=\"\n",
       "  1913.52,1486.45 1913.52,1467.55 \n",
       "  \"/>\n",
       "<polyline clip-path=\"url(#clip300)\" style=\"stroke:#000000; stroke-linecap:butt; stroke-linejoin:round; stroke-width:4; stroke-opacity:1; fill:none\" points=\"\n",
       "  2352.76,1486.45 2352.76,1467.55 \n",
       "  \"/>\n",
       "<path clip-path=\"url(#clip300)\" d=\"M133.983 1517.37 Q130.372 1517.37 128.543 1520.93 Q126.737 1524.47 126.737 1531.6 Q126.737 1538.71 128.543 1542.27 Q130.372 1545.82 133.983 1545.82 Q137.617 1545.82 139.422 1542.27 Q141.251 1538.71 141.251 1531.6 Q141.251 1524.47 139.422 1520.93 Q137.617 1517.37 133.983 1517.37 M133.983 1513.66 Q139.793 1513.66 142.848 1518.27 Q145.927 1522.85 145.927 1531.6 Q145.927 1540.33 142.848 1544.94 Q139.793 1549.52 133.983 1549.52 Q128.172 1549.52 125.094 1544.94 Q122.038 1540.33 122.038 1531.6 Q122.038 1522.85 125.094 1518.27 Q128.172 1513.66 133.983 1513.66 Z\" fill=\"#000000\" fill-rule=\"evenodd\" fill-opacity=\"1\" /><path clip-path=\"url(#clip300)\" d=\"M154.145 1542.97 L159.029 1542.97 L159.029 1548.85 L154.145 1548.85 L154.145 1542.97 Z\" fill=\"#000000\" fill-rule=\"evenodd\" fill-opacity=\"1\" /><path clip-path=\"url(#clip300)\" d=\"M179.214 1517.37 Q175.603 1517.37 173.774 1520.93 Q171.969 1524.47 171.969 1531.6 Q171.969 1538.71 173.774 1542.27 Q175.603 1545.82 179.214 1545.82 Q182.848 1545.82 184.654 1542.27 Q186.482 1538.71 186.482 1531.6 Q186.482 1524.47 184.654 1520.93 Q182.848 1517.37 179.214 1517.37 M179.214 1513.66 Q185.024 1513.66 188.08 1518.27 Q191.158 1522.85 191.158 1531.6 Q191.158 1540.33 188.08 1544.94 Q185.024 1549.52 179.214 1549.52 Q173.404 1549.52 170.325 1544.94 Q167.269 1540.33 167.269 1531.6 Q167.269 1522.85 170.325 1518.27 Q173.404 1513.66 179.214 1513.66 Z\" fill=\"#000000\" fill-rule=\"evenodd\" fill-opacity=\"1\" /><path clip-path=\"url(#clip300)\" d=\"M574.013 1517.37 Q570.402 1517.37 568.573 1520.93 Q566.767 1524.47 566.767 1531.6 Q566.767 1538.71 568.573 1542.27 Q570.402 1545.82 574.013 1545.82 Q577.647 1545.82 579.453 1542.27 Q581.281 1538.71 581.281 1531.6 Q581.281 1524.47 579.453 1520.93 Q577.647 1517.37 574.013 1517.37 M574.013 1513.66 Q579.823 1513.66 582.878 1518.27 Q585.957 1522.85 585.957 1531.6 Q585.957 1540.33 582.878 1544.94 Q579.823 1549.52 574.013 1549.52 Q568.203 1549.52 565.124 1544.94 Q562.068 1540.33 562.068 1531.6 Q562.068 1522.85 565.124 1518.27 Q568.203 1513.66 574.013 1513.66 Z\" fill=\"#000000\" fill-rule=\"evenodd\" fill-opacity=\"1\" /><path clip-path=\"url(#clip300)\" d=\"M594.175 1542.97 L599.059 1542.97 L599.059 1548.85 L594.175 1548.85 L594.175 1542.97 Z\" fill=\"#000000\" fill-rule=\"evenodd\" fill-opacity=\"1\" /><path clip-path=\"url(#clip300)\" d=\"M613.272 1544.91 L629.591 1544.91 L629.591 1548.85 L607.647 1548.85 L607.647 1544.91 Q610.309 1542.16 614.892 1537.53 Q619.499 1532.88 620.679 1531.53 Q622.925 1529.01 623.804 1527.27 Q624.707 1525.51 624.707 1523.82 Q624.707 1521.07 622.762 1519.33 Q620.841 1517.6 617.739 1517.6 Q615.54 1517.6 613.087 1518.36 Q610.656 1519.13 607.878 1520.68 L607.878 1515.95 Q610.702 1514.82 613.156 1514.24 Q615.61 1513.66 617.647 1513.66 Q623.017 1513.66 626.212 1516.35 Q629.406 1519.03 629.406 1523.52 Q629.406 1525.65 628.596 1527.57 Q627.809 1529.47 625.702 1532.07 Q625.124 1532.74 622.022 1535.95 Q618.92 1539.15 613.272 1544.91 Z\" fill=\"#000000\" fill-rule=\"evenodd\" fill-opacity=\"1\" /><path clip-path=\"url(#clip300)\" d=\"M1012.2 1517.37 Q1008.59 1517.37 1006.76 1520.93 Q1004.96 1524.47 1004.96 1531.6 Q1004.96 1538.71 1006.76 1542.27 Q1008.59 1545.82 1012.2 1545.82 Q1015.84 1545.82 1017.64 1542.27 Q1019.47 1538.71 1019.47 1531.6 Q1019.47 1524.47 1017.64 1520.93 Q1015.84 1517.37 1012.2 1517.37 M1012.2 1513.66 Q1018.01 1513.66 1021.07 1518.27 Q1024.15 1522.85 1024.15 1531.6 Q1024.15 1540.33 1021.07 1544.94 Q1018.01 1549.52 1012.2 1549.52 Q1006.39 1549.52 1003.31 1544.94 Q1000.26 1540.33 1000.26 1531.6 Q1000.26 1522.85 1003.31 1518.27 Q1006.39 1513.66 1012.2 1513.66 Z\" fill=\"#000000\" fill-rule=\"evenodd\" fill-opacity=\"1\" /><path clip-path=\"url(#clip300)\" d=\"M1032.36 1542.97 L1037.25 1542.97 L1037.25 1548.85 L1032.36 1548.85 L1032.36 1542.97 Z\" fill=\"#000000\" fill-rule=\"evenodd\" fill-opacity=\"1\" /><path clip-path=\"url(#clip300)\" d=\"M1060.28 1518.36 L1048.48 1536.81 L1060.28 1536.81 L1060.28 1518.36 M1059.05 1514.29 L1064.93 1514.29 L1064.93 1536.81 L1069.86 1536.81 L1069.86 1540.7 L1064.93 1540.7 L1064.93 1548.85 L1060.28 1548.85 L1060.28 1540.7 L1044.68 1540.7 L1044.68 1536.19 L1059.05 1514.29 Z\" fill=\"#000000\" fill-rule=\"evenodd\" fill-opacity=\"1\" /><path clip-path=\"url(#clip300)\" d=\"M1451.6 1517.37 Q1447.99 1517.37 1446.16 1520.93 Q1444.35 1524.47 1444.35 1531.6 Q1444.35 1538.71 1446.16 1542.27 Q1447.99 1545.82 1451.6 1545.82 Q1455.23 1545.82 1457.04 1542.27 Q1458.86 1538.71 1458.86 1531.6 Q1458.86 1524.47 1457.04 1520.93 Q1455.23 1517.37 1451.6 1517.37 M1451.6 1513.66 Q1457.41 1513.66 1460.46 1518.27 Q1463.54 1522.85 1463.54 1531.6 Q1463.54 1540.33 1460.46 1544.94 Q1457.41 1549.52 1451.6 1549.52 Q1445.79 1549.52 1442.71 1544.94 Q1439.65 1540.33 1439.65 1531.6 Q1439.65 1522.85 1442.71 1518.27 Q1445.79 1513.66 1451.6 1513.66 Z\" fill=\"#000000\" fill-rule=\"evenodd\" fill-opacity=\"1\" /><path clip-path=\"url(#clip300)\" d=\"M1471.76 1542.97 L1476.64 1542.97 L1476.64 1548.85 L1471.76 1548.85 L1471.76 1542.97 Z\" fill=\"#000000\" fill-rule=\"evenodd\" fill-opacity=\"1\" /><path clip-path=\"url(#clip300)\" d=\"M1497.41 1529.7 Q1494.26 1529.7 1492.41 1531.86 Q1490.58 1534.01 1490.58 1537.76 Q1490.58 1541.49 1492.41 1543.66 Q1494.26 1545.82 1497.41 1545.82 Q1500.55 1545.82 1502.38 1543.66 Q1504.23 1541.49 1504.23 1537.76 Q1504.23 1534.01 1502.38 1531.86 Q1500.55 1529.7 1497.41 1529.7 M1506.69 1515.05 L1506.69 1519.31 Q1504.93 1518.48 1503.12 1518.04 Q1501.34 1517.6 1499.58 1517.6 Q1494.95 1517.6 1492.5 1520.72 Q1490.07 1523.85 1489.72 1530.17 Q1491.09 1528.15 1493.15 1527.09 Q1495.21 1526 1497.68 1526 Q1502.89 1526 1505.9 1529.17 Q1508.93 1532.32 1508.93 1537.76 Q1508.93 1543.08 1505.79 1546.3 Q1502.64 1549.52 1497.41 1549.52 Q1491.41 1549.52 1488.24 1544.94 Q1485.07 1540.33 1485.07 1531.6 Q1485.07 1523.41 1488.96 1518.55 Q1492.85 1513.66 1499.4 1513.66 Q1501.16 1513.66 1502.94 1514.01 Q1504.74 1514.36 1506.69 1515.05 Z\" fill=\"#000000\" fill-rule=\"evenodd\" fill-opacity=\"1\" /><path clip-path=\"url(#clip300)\" d=\"M1890.96 1517.37 Q1887.34 1517.37 1885.52 1520.93 Q1883.71 1524.47 1883.71 1531.6 Q1883.71 1538.71 1885.52 1542.27 Q1887.34 1545.82 1890.96 1545.82 Q1894.59 1545.82 1896.39 1542.27 Q1898.22 1538.71 1898.22 1531.6 Q1898.22 1524.47 1896.39 1520.93 Q1894.59 1517.37 1890.96 1517.37 M1890.96 1513.66 Q1896.77 1513.66 1899.82 1518.27 Q1902.9 1522.85 1902.9 1531.6 Q1902.9 1540.33 1899.82 1544.94 Q1896.77 1549.52 1890.96 1549.52 Q1885.14 1549.52 1882.07 1544.94 Q1879.01 1540.33 1879.01 1531.6 Q1879.01 1522.85 1882.07 1518.27 Q1885.14 1513.66 1890.96 1513.66 Z\" fill=\"#000000\" fill-rule=\"evenodd\" fill-opacity=\"1\" /><path clip-path=\"url(#clip300)\" d=\"M1911.12 1542.97 L1916 1542.97 L1916 1548.85 L1911.12 1548.85 L1911.12 1542.97 Z\" fill=\"#000000\" fill-rule=\"evenodd\" fill-opacity=\"1\" /><path clip-path=\"url(#clip300)\" d=\"M1936.19 1532.44 Q1932.85 1532.44 1930.93 1534.22 Q1929.03 1536 1929.03 1539.13 Q1929.03 1542.25 1930.93 1544.03 Q1932.85 1545.82 1936.19 1545.82 Q1939.52 1545.82 1941.44 1544.03 Q1943.36 1542.23 1943.36 1539.13 Q1943.36 1536 1941.44 1534.22 Q1939.54 1532.44 1936.19 1532.44 M1931.51 1530.45 Q1928.5 1529.7 1926.81 1527.64 Q1925.14 1525.58 1925.14 1522.62 Q1925.14 1518.48 1928.08 1516.07 Q1931.05 1513.66 1936.19 1513.66 Q1941.35 1513.66 1944.29 1516.07 Q1947.23 1518.48 1947.23 1522.62 Q1947.23 1525.58 1945.54 1527.64 Q1943.87 1529.7 1940.89 1530.45 Q1944.26 1531.23 1946.14 1533.52 Q1948.04 1535.82 1948.04 1539.13 Q1948.04 1544.15 1944.96 1546.83 Q1941.9 1549.52 1936.19 1549.52 Q1930.47 1549.52 1927.39 1546.83 Q1924.33 1544.15 1924.33 1539.13 Q1924.33 1535.82 1926.23 1533.52 Q1928.13 1531.23 1931.51 1530.45 M1929.8 1523.06 Q1929.8 1525.75 1931.46 1527.25 Q1933.15 1528.76 1936.19 1528.76 Q1939.2 1528.76 1940.89 1527.25 Q1942.6 1525.75 1942.6 1523.06 Q1942.6 1520.38 1940.89 1518.87 Q1939.2 1517.37 1936.19 1517.37 Q1933.15 1517.37 1931.46 1518.87 Q1929.8 1520.38 1929.8 1523.06 Z\" fill=\"#000000\" fill-rule=\"evenodd\" fill-opacity=\"1\" /><path clip-path=\"url(#clip300)\" d=\"M2319.91 1544.91 L2327.55 1544.91 L2327.55 1518.55 L2319.24 1520.21 L2319.24 1515.95 L2327.5 1514.29 L2332.18 1514.29 L2332.18 1544.91 L2339.82 1544.91 L2339.82 1548.85 L2319.91 1548.85 L2319.91 1544.91 Z\" fill=\"#000000\" fill-rule=\"evenodd\" fill-opacity=\"1\" /><path clip-path=\"url(#clip300)\" d=\"M2349.26 1542.97 L2354.14 1542.97 L2354.14 1548.85 L2349.26 1548.85 L2349.26 1542.97 Z\" fill=\"#000000\" fill-rule=\"evenodd\" fill-opacity=\"1\" /><path clip-path=\"url(#clip300)\" d=\"M2374.33 1517.37 Q2370.72 1517.37 2368.89 1520.93 Q2367.08 1524.47 2367.08 1531.6 Q2367.08 1538.71 2368.89 1542.27 Q2370.72 1545.82 2374.33 1545.82 Q2377.96 1545.82 2379.77 1542.27 Q2381.6 1538.71 2381.6 1531.6 Q2381.6 1524.47 2379.77 1520.93 Q2377.96 1517.37 2374.33 1517.37 M2374.33 1513.66 Q2380.14 1513.66 2383.2 1518.27 Q2386.27 1522.85 2386.27 1531.6 Q2386.27 1540.33 2383.2 1544.94 Q2380.14 1549.52 2374.33 1549.52 Q2368.52 1549.52 2365.44 1544.94 Q2362.39 1540.33 2362.39 1531.6 Q2362.39 1522.85 2365.44 1518.27 Q2368.52 1513.66 2374.33 1513.66 Z\" fill=\"#000000\" fill-rule=\"evenodd\" fill-opacity=\"1\" /><polyline clip-path=\"url(#clip302)\" style=\"stroke:#000000; stroke-linecap:butt; stroke-linejoin:round; stroke-width:2; stroke-opacity:0.1; fill:none\" points=\"\n",
       "  156.598,1486.45 2352.76,1486.45 \n",
       "  \"/>\n",
       "<polyline clip-path=\"url(#clip302)\" style=\"stroke:#000000; stroke-linecap:butt; stroke-linejoin:round; stroke-width:2; stroke-opacity:0.1; fill:none\" points=\"\n",
       "  156.598,1198.61 2352.76,1198.61 \n",
       "  \"/>\n",
       "<polyline clip-path=\"url(#clip302)\" style=\"stroke:#000000; stroke-linecap:butt; stroke-linejoin:round; stroke-width:2; stroke-opacity:0.1; fill:none\" points=\"\n",
       "  156.598,910.766 2352.76,910.766 \n",
       "  \"/>\n",
       "<polyline clip-path=\"url(#clip302)\" style=\"stroke:#000000; stroke-linecap:butt; stroke-linejoin:round; stroke-width:2; stroke-opacity:0.1; fill:none\" points=\"\n",
       "  156.598,622.926 2352.76,622.926 \n",
       "  \"/>\n",
       "<polyline clip-path=\"url(#clip302)\" style=\"stroke:#000000; stroke-linecap:butt; stroke-linejoin:round; stroke-width:2; stroke-opacity:0.1; fill:none\" points=\"\n",
       "  156.598,335.085 2352.76,335.085 \n",
       "  \"/>\n",
       "<polyline clip-path=\"url(#clip302)\" style=\"stroke:#000000; stroke-linecap:butt; stroke-linejoin:round; stroke-width:2; stroke-opacity:0.1; fill:none\" points=\"\n",
       "  156.598,47.2441 2352.76,47.2441 \n",
       "  \"/>\n",
       "<polyline clip-path=\"url(#clip300)\" style=\"stroke:#000000; stroke-linecap:butt; stroke-linejoin:round; stroke-width:4; stroke-opacity:1; fill:none\" points=\"\n",
       "  156.598,1486.45 156.598,47.2441 \n",
       "  \"/>\n",
       "<polyline clip-path=\"url(#clip300)\" style=\"stroke:#000000; stroke-linecap:butt; stroke-linejoin:round; stroke-width:4; stroke-opacity:1; fill:none\" points=\"\n",
       "  156.598,1486.45 175.496,1486.45 \n",
       "  \"/>\n",
       "<polyline clip-path=\"url(#clip300)\" style=\"stroke:#000000; stroke-linecap:butt; stroke-linejoin:round; stroke-width:4; stroke-opacity:1; fill:none\" points=\"\n",
       "  156.598,1198.61 175.496,1198.61 \n",
       "  \"/>\n",
       "<polyline clip-path=\"url(#clip300)\" style=\"stroke:#000000; stroke-linecap:butt; stroke-linejoin:round; stroke-width:4; stroke-opacity:1; fill:none\" points=\"\n",
       "  156.598,910.766 175.496,910.766 \n",
       "  \"/>\n",
       "<polyline clip-path=\"url(#clip300)\" style=\"stroke:#000000; stroke-linecap:butt; stroke-linejoin:round; stroke-width:4; stroke-opacity:1; fill:none\" points=\"\n",
       "  156.598,622.926 175.496,622.926 \n",
       "  \"/>\n",
       "<polyline clip-path=\"url(#clip300)\" style=\"stroke:#000000; stroke-linecap:butt; stroke-linejoin:round; stroke-width:4; stroke-opacity:1; fill:none\" points=\"\n",
       "  156.598,335.085 175.496,335.085 \n",
       "  \"/>\n",
       "<polyline clip-path=\"url(#clip300)\" style=\"stroke:#000000; stroke-linecap:butt; stroke-linejoin:round; stroke-width:4; stroke-opacity:1; fill:none\" points=\"\n",
       "  156.598,47.2441 175.496,47.2441 \n",
       "  \"/>\n",
       "<path clip-path=\"url(#clip300)\" d=\"M63.4226 1472.25 Q59.8115 1472.25 57.9828 1475.81 Q56.1773 1479.35 56.1773 1486.48 Q56.1773 1493.59 57.9828 1497.15 Q59.8115 1500.7 63.4226 1500.7 Q67.0569 1500.7 68.8624 1497.15 Q70.6911 1493.59 70.6911 1486.48 Q70.6911 1479.35 68.8624 1475.81 Q67.0569 1472.25 63.4226 1472.25 M63.4226 1468.54 Q69.2328 1468.54 72.2883 1473.15 Q75.367 1477.73 75.367 1486.48 Q75.367 1495.21 72.2883 1499.82 Q69.2328 1504.4 63.4226 1504.4 Q57.6125 1504.4 54.5338 1499.82 Q51.4782 1495.21 51.4782 1486.48 Q51.4782 1477.73 54.5338 1473.15 Q57.6125 1468.54 63.4226 1468.54 Z\" fill=\"#000000\" fill-rule=\"evenodd\" fill-opacity=\"1\" /><path clip-path=\"url(#clip300)\" d=\"M83.5845 1497.85 L88.4688 1497.85 L88.4688 1503.73 L83.5845 1503.73 L83.5845 1497.85 Z\" fill=\"#000000\" fill-rule=\"evenodd\" fill-opacity=\"1\" /><path clip-path=\"url(#clip300)\" d=\"M108.654 1472.25 Q105.043 1472.25 103.214 1475.81 Q101.409 1479.35 101.409 1486.48 Q101.409 1493.59 103.214 1497.15 Q105.043 1500.7 108.654 1500.7 Q112.288 1500.7 114.094 1497.15 Q115.922 1493.59 115.922 1486.48 Q115.922 1479.35 114.094 1475.81 Q112.288 1472.25 108.654 1472.25 M108.654 1468.54 Q114.464 1468.54 117.52 1473.15 Q120.598 1477.73 120.598 1486.48 Q120.598 1495.21 117.52 1499.82 Q114.464 1504.4 108.654 1504.4 Q102.844 1504.4 99.765 1499.82 Q96.7095 1495.21 96.7095 1486.48 Q96.7095 1477.73 99.765 1473.15 Q102.844 1468.54 108.654 1468.54 Z\" fill=\"#000000\" fill-rule=\"evenodd\" fill-opacity=\"1\" /><path clip-path=\"url(#clip300)\" d=\"M65.0198 1184.41 Q61.4087 1184.41 59.58 1187.97 Q57.7745 1191.51 57.7745 1198.64 Q57.7745 1205.75 59.58 1209.31 Q61.4087 1212.85 65.0198 1212.85 Q68.6541 1212.85 70.4596 1209.31 Q72.2883 1205.75 72.2883 1198.64 Q72.2883 1191.51 70.4596 1187.97 Q68.6541 1184.41 65.0198 1184.41 M65.0198 1180.7 Q70.83 1180.7 73.8855 1185.31 Q76.9642 1189.89 76.9642 1198.64 Q76.9642 1207.37 73.8855 1211.98 Q70.83 1216.56 65.0198 1216.56 Q59.2097 1216.56 56.131 1211.98 Q53.0754 1207.37 53.0754 1198.64 Q53.0754 1189.89 56.131 1185.31 Q59.2097 1180.7 65.0198 1180.7 Z\" fill=\"#000000\" fill-rule=\"evenodd\" fill-opacity=\"1\" /><path clip-path=\"url(#clip300)\" d=\"M85.1818 1210.01 L90.066 1210.01 L90.066 1215.89 L85.1818 1215.89 L85.1818 1210.01 Z\" fill=\"#000000\" fill-rule=\"evenodd\" fill-opacity=\"1\" /><path clip-path=\"url(#clip300)\" d=\"M104.279 1211.95 L120.598 1211.95 L120.598 1215.89 L98.6539 1215.89 L98.6539 1211.95 Q101.316 1209.2 105.899 1204.57 Q110.506 1199.91 111.686 1198.57 Q113.932 1196.05 114.811 1194.31 Q115.714 1192.55 115.714 1190.86 Q115.714 1188.11 113.77 1186.37 Q111.848 1184.64 108.746 1184.64 Q106.547 1184.64 104.094 1185.4 Q101.663 1186.17 98.8854 1187.72 L98.8854 1182.99 Q101.709 1181.86 104.163 1181.28 Q106.617 1180.7 108.654 1180.7 Q114.024 1180.7 117.219 1183.39 Q120.413 1186.07 120.413 1190.56 Q120.413 1192.69 119.603 1194.61 Q118.816 1196.51 116.709 1199.1 Q116.131 1199.78 113.029 1202.99 Q109.927 1206.19 104.279 1211.95 Z\" fill=\"#000000\" fill-rule=\"evenodd\" fill-opacity=\"1\" /><path clip-path=\"url(#clip300)\" d=\"M62.9365 896.565 Q59.3254 896.565 57.4967 900.13 Q55.6912 903.671 55.6912 910.801 Q55.6912 917.908 57.4967 921.472 Q59.3254 925.014 62.9365 925.014 Q66.5707 925.014 68.3763 921.472 Q70.205 917.908 70.205 910.801 Q70.205 903.671 68.3763 900.13 Q66.5707 896.565 62.9365 896.565 M62.9365 892.861 Q68.7467 892.861 71.8022 897.468 Q74.8809 902.051 74.8809 910.801 Q74.8809 919.528 71.8022 924.134 Q68.7467 928.718 62.9365 928.718 Q57.1264 928.718 54.0477 924.134 Q50.9921 919.528 50.9921 910.801 Q50.9921 902.051 54.0477 897.468 Q57.1264 892.861 62.9365 892.861 Z\" fill=\"#000000\" fill-rule=\"evenodd\" fill-opacity=\"1\" /><path clip-path=\"url(#clip300)\" d=\"M83.0984 922.167 L87.9827 922.167 L87.9827 928.046 L83.0984 928.046 L83.0984 922.167 Z\" fill=\"#000000\" fill-rule=\"evenodd\" fill-opacity=\"1\" /><path clip-path=\"url(#clip300)\" d=\"M111.015 897.56 L99.2095 916.009 L111.015 916.009 L111.015 897.56 M109.788 893.486 L115.668 893.486 L115.668 916.009 L120.598 916.009 L120.598 919.898 L115.668 919.898 L115.668 928.046 L111.015 928.046 L111.015 919.898 L95.4132 919.898 L95.4132 915.384 L109.788 893.486 Z\" fill=\"#000000\" fill-rule=\"evenodd\" fill-opacity=\"1\" /><path clip-path=\"url(#clip300)\" d=\"M63.2606 608.724 Q59.6495 608.724 57.8208 612.289 Q56.0152 615.831 56.0152 622.96 Q56.0152 630.067 57.8208 633.632 Q59.6495 637.173 63.2606 637.173 Q66.8948 637.173 68.7004 633.632 Q70.5291 630.067 70.5291 622.96 Q70.5291 615.831 68.7004 612.289 Q66.8948 608.724 63.2606 608.724 M63.2606 605.021 Q69.0707 605.021 72.1263 609.627 Q75.205 614.21 75.205 622.96 Q75.205 631.687 72.1263 636.294 Q69.0707 640.877 63.2606 640.877 Q57.4504 640.877 54.3717 636.294 Q51.3162 631.687 51.3162 622.96 Q51.3162 614.21 54.3717 609.627 Q57.4504 605.021 63.2606 605.021 Z\" fill=\"#000000\" fill-rule=\"evenodd\" fill-opacity=\"1\" /><path clip-path=\"url(#clip300)\" d=\"M83.4225 634.326 L88.3067 634.326 L88.3067 640.206 L83.4225 640.206 L83.4225 634.326 Z\" fill=\"#000000\" fill-rule=\"evenodd\" fill-opacity=\"1\" /><path clip-path=\"url(#clip300)\" d=\"M109.071 621.062 Q105.922 621.062 104.071 623.215 Q102.242 625.368 102.242 629.118 Q102.242 632.845 104.071 635.02 Q105.922 637.173 109.071 637.173 Q112.219 637.173 114.047 635.02 Q115.899 632.845 115.899 629.118 Q115.899 625.368 114.047 623.215 Q112.219 621.062 109.071 621.062 M118.353 606.409 L118.353 610.669 Q116.594 609.835 114.788 609.396 Q113.006 608.956 111.246 608.956 Q106.617 608.956 104.163 612.081 Q101.733 615.206 101.385 621.525 Q102.751 619.511 104.811 618.446 Q106.871 617.359 109.348 617.359 Q114.557 617.359 117.566 620.53 Q120.598 623.678 120.598 629.118 Q120.598 634.442 117.45 637.659 Q114.302 640.877 109.071 640.877 Q103.075 640.877 99.9039 636.294 Q96.7326 631.687 96.7326 622.96 Q96.7326 614.766 100.621 609.905 Q104.51 605.021 111.061 605.021 Q112.82 605.021 114.603 605.368 Q116.408 605.715 118.353 606.409 Z\" fill=\"#000000\" fill-rule=\"evenodd\" fill-opacity=\"1\" /><path clip-path=\"url(#clip300)\" d=\"M63.5152 320.884 Q59.9041 320.884 58.0754 324.448 Q56.2699 327.99 56.2699 335.12 Q56.2699 342.226 58.0754 345.791 Q59.9041 349.332 63.5152 349.332 Q67.1494 349.332 68.955 345.791 Q70.7837 342.226 70.7837 335.12 Q70.7837 327.99 68.955 324.448 Q67.1494 320.884 63.5152 320.884 M63.5152 317.18 Q69.3254 317.18 72.3809 321.786 Q75.4596 326.37 75.4596 335.12 Q75.4596 343.846 72.3809 348.453 Q69.3254 353.036 63.5152 353.036 Q57.7051 353.036 54.6264 348.453 Q51.5708 343.846 51.5708 335.12 Q51.5708 326.37 54.6264 321.786 Q57.7051 317.18 63.5152 317.18 Z\" fill=\"#000000\" fill-rule=\"evenodd\" fill-opacity=\"1\" /><path clip-path=\"url(#clip300)\" d=\"M83.6771 346.485 L88.5614 346.485 L88.5614 352.365 L83.6771 352.365 L83.6771 346.485 Z\" fill=\"#000000\" fill-rule=\"evenodd\" fill-opacity=\"1\" /><path clip-path=\"url(#clip300)\" d=\"M108.746 335.953 Q105.413 335.953 103.492 337.735 Q101.594 339.518 101.594 342.643 Q101.594 345.768 103.492 347.55 Q105.413 349.332 108.746 349.332 Q112.08 349.332 114.001 347.55 Q115.922 345.745 115.922 342.643 Q115.922 339.518 114.001 337.735 Q112.103 335.953 108.746 335.953 M104.071 333.962 Q101.061 333.221 99.3715 331.161 Q97.7048 329.101 97.7048 326.138 Q97.7048 321.995 100.645 319.587 Q103.608 317.18 108.746 317.18 Q113.908 317.18 116.848 319.587 Q119.788 321.995 119.788 326.138 Q119.788 329.101 118.098 331.161 Q116.432 333.221 113.445 333.962 Q116.825 334.749 118.7 337.041 Q120.598 339.333 120.598 342.643 Q120.598 347.666 117.52 350.351 Q114.464 353.036 108.746 353.036 Q103.029 353.036 99.9502 350.351 Q96.8947 347.666 96.8947 342.643 Q96.8947 339.333 98.7928 337.041 Q100.691 334.749 104.071 333.962 M102.358 326.578 Q102.358 329.263 104.024 330.768 Q105.714 332.272 108.746 332.272 Q111.756 332.272 113.445 330.768 Q115.158 329.263 115.158 326.578 Q115.158 323.893 113.445 322.388 Q111.756 320.884 108.746 320.884 Q105.714 320.884 104.024 322.388 Q102.358 323.893 102.358 326.578 Z\" fill=\"#000000\" fill-rule=\"evenodd\" fill-opacity=\"1\" /><path clip-path=\"url(#clip300)\" d=\"M54.2328 60.5889 L61.8717 60.5889 L61.8717 34.2233 L53.5616 35.89 L53.5616 31.6308 L61.8254 29.9641 L66.5013 29.9641 L66.5013 60.5889 L74.1402 60.5889 L74.1402 64.5241 L54.2328 64.5241 L54.2328 60.5889 Z\" fill=\"#000000\" fill-rule=\"evenodd\" fill-opacity=\"1\" /><path clip-path=\"url(#clip300)\" d=\"M83.5845 58.6445 L88.4688 58.6445 L88.4688 64.5241 L83.5845 64.5241 L83.5845 58.6445 Z\" fill=\"#000000\" fill-rule=\"evenodd\" fill-opacity=\"1\" /><path clip-path=\"url(#clip300)\" d=\"M108.654 33.0428 Q105.043 33.0428 103.214 36.6076 Q101.409 40.1492 101.409 47.2788 Q101.409 54.3853 103.214 57.9501 Q105.043 61.4917 108.654 61.4917 Q112.288 61.4917 114.094 57.9501 Q115.922 54.3853 115.922 47.2788 Q115.922 40.1492 114.094 36.6076 Q112.288 33.0428 108.654 33.0428 M108.654 29.3391 Q114.464 29.3391 117.52 33.9456 Q120.598 38.5289 120.598 47.2788 Q120.598 56.0056 117.52 60.6121 Q114.464 65.1954 108.654 65.1954 Q102.844 65.1954 99.765 60.6121 Q96.7095 56.0056 96.7095 47.2788 Q96.7095 38.5289 99.765 33.9456 Q102.844 29.3391 108.654 29.3391 Z\" fill=\"#000000\" fill-rule=\"evenodd\" fill-opacity=\"1\" /><circle clip-path=\"url(#clip302)\" cx=\"1655.81\" cy=\"1018.11\" r=\"14\" fill=\"#009af9\" fill-rule=\"evenodd\" fill-opacity=\"1\" stroke=\"#000000\" stroke-opacity=\"1\" stroke-width=\"3.2\"/>\n",
       "<circle clip-path=\"url(#clip302)\" cx=\"335.851\" cy=\"1413.14\" r=\"14\" fill=\"#009af9\" fill-rule=\"evenodd\" fill-opacity=\"1\" stroke=\"#000000\" stroke-opacity=\"1\" stroke-width=\"3.2\"/>\n",
       "<circle clip-path=\"url(#clip302)\" cx=\"1770.77\" cy=\"824.663\" r=\"14\" fill=\"#009af9\" fill-rule=\"evenodd\" fill-opacity=\"1\" stroke=\"#000000\" stroke-opacity=\"1\" stroke-width=\"3.2\"/>\n",
       "<circle clip-path=\"url(#clip302)\" cx=\"1965.85\" cy=\"831.28\" r=\"14\" fill=\"#009af9\" fill-rule=\"evenodd\" fill-opacity=\"1\" stroke=\"#000000\" stroke-opacity=\"1\" stroke-width=\"3.2\"/>\n",
       "<circle clip-path=\"url(#clip302)\" cx=\"790.742\" cy=\"854.22\" r=\"14\" fill=\"#009af9\" fill-rule=\"evenodd\" fill-opacity=\"1\" stroke=\"#000000\" stroke-opacity=\"1\" stroke-width=\"3.2\"/>\n",
       "<circle clip-path=\"url(#clip302)\" cx=\"1549.8\" cy=\"1438.2\" r=\"14\" fill=\"#009af9\" fill-rule=\"evenodd\" fill-opacity=\"1\" stroke=\"#000000\" stroke-opacity=\"1\" stroke-width=\"3.2\"/>\n",
       "<circle clip-path=\"url(#clip302)\" cx=\"2095.26\" cy=\"1032.75\" r=\"14\" fill=\"#009af9\" fill-rule=\"evenodd\" fill-opacity=\"1\" stroke=\"#000000\" stroke-opacity=\"1\" stroke-width=\"3.2\"/>\n",
       "<path clip-path=\"url(#clip300)\" d=\"\n",
       "M1983.1 198.898 L2279.55 198.898 L2279.55 95.2176 L1983.1 95.2176  Z\n",
       "  \" fill=\"#ffffff\" fill-rule=\"evenodd\" fill-opacity=\"1\"/>\n",
       "<polyline clip-path=\"url(#clip300)\" style=\"stroke:#000000; stroke-linecap:butt; stroke-linejoin:round; stroke-width:4; stroke-opacity:1; fill:none\" points=\"\n",
       "  1983.1,198.898 2279.55,198.898 2279.55,95.2176 1983.1,95.2176 1983.1,198.898 \n",
       "  \"/>\n",
       "<circle clip-path=\"url(#clip300)\" cx=\"2080.71\" cy=\"147.058\" r=\"23\" fill=\"#009af9\" fill-rule=\"evenodd\" fill-opacity=\"1\" stroke=\"#000000\" stroke-opacity=\"1\" stroke-width=\"5.12\"/>\n",
       "<path clip-path=\"url(#clip300)\" d=\"M2192.16 166.745 Q2190.35 171.375 2188.64 172.787 Q2186.93 174.199 2184.06 174.199 L2180.65 174.199 L2180.65 170.634 L2183.15 170.634 Q2184.91 170.634 2185.89 169.8 Q2186.86 168.967 2188.04 165.865 L2188.8 163.921 L2178.32 138.412 L2182.83 138.412 L2190.93 158.689 L2199.03 138.412 L2203.55 138.412 L2192.16 166.745 Z\" fill=\"#000000\" fill-rule=\"evenodd\" fill-opacity=\"1\" /><path clip-path=\"url(#clip300)\" d=\"M2210.84 160.402 L2218.48 160.402 L2218.48 134.037 L2210.17 135.703 L2210.17 131.444 L2218.43 129.778 L2223.11 129.778 L2223.11 160.402 L2230.75 160.402 L2230.75 164.338 L2210.84 164.338 L2210.84 160.402 Z\" fill=\"#000000\" fill-rule=\"evenodd\" fill-opacity=\"1\" /></svg>\n"
      ]
     },
     "execution_count": 40,
     "metadata": {},
     "output_type": "execute_result"
    }
   ],
   "source": [
    "scatter(x, y, xlims = (0,1), ylims = (0,1))  # Show only the x and y within the range"
   ]
  },
  {
   "cell_type": "code",
   "execution_count": 41,
   "metadata": {},
   "outputs": [
    {
     "data": {
      "image/svg+xml": [
       "<?xml version=\"1.0\" encoding=\"utf-8\"?>\n",
       "<svg xmlns=\"http://www.w3.org/2000/svg\" xmlns:xlink=\"http://www.w3.org/1999/xlink\" width=\"500\" height=\"500\" viewBox=\"0 0 2000 2000\">\n",
       "<defs>\n",
       "  <clipPath id=\"clip340\">\n",
       "    <rect x=\"0\" y=\"0\" width=\"2000\" height=\"2000\"/>\n",
       "  </clipPath>\n",
       "</defs>\n",
       "<path clip-path=\"url(#clip340)\" d=\"\n",
       "M0 2000 L2000 2000 L2000 0 L0 0  Z\n",
       "  \" fill=\"#ffffff\" fill-rule=\"evenodd\" fill-opacity=\"1\"/>\n",
       "<defs>\n",
       "  <clipPath id=\"clip341\">\n",
       "    <rect x=\"400\" y=\"200\" width=\"1401\" height=\"1401\"/>\n",
       "  </clipPath>\n",
       "</defs>\n",
       "<path clip-path=\"url(#clip340)\" d=\"\n",
       "M255.043 1778.14 L1952.76 1778.14 L1952.76 47.2441 L255.043 47.2441  Z\n",
       "  \" fill=\"#ffffff\" fill-rule=\"evenodd\" fill-opacity=\"1\"/>\n",
       "<defs>\n",
       "  <clipPath id=\"clip342\">\n",
       "    <rect x=\"255\" y=\"47\" width=\"1699\" height=\"1732\"/>\n",
       "  </clipPath>\n",
       "</defs>\n",
       "<polyline clip-path=\"url(#clip342)\" style=\"stroke:#000000; stroke-linecap:butt; stroke-linejoin:round; stroke-width:2; stroke-opacity:0.1; fill:none\" points=\"\n",
       "  255.043,1778.14 255.043,47.2441 \n",
       "  \"/>\n",
       "<polyline clip-path=\"url(#clip342)\" style=\"stroke:#000000; stroke-linecap:butt; stroke-linejoin:round; stroke-width:2; stroke-opacity:0.1; fill:none\" points=\"\n",
       "  679.471,1778.14 679.471,47.2441 \n",
       "  \"/>\n",
       "<polyline clip-path=\"url(#clip342)\" style=\"stroke:#000000; stroke-linecap:butt; stroke-linejoin:round; stroke-width:2; stroke-opacity:0.1; fill:none\" points=\"\n",
       "  1103.9,1778.14 1103.9,47.2441 \n",
       "  \"/>\n",
       "<polyline clip-path=\"url(#clip342)\" style=\"stroke:#000000; stroke-linecap:butt; stroke-linejoin:round; stroke-width:2; stroke-opacity:0.1; fill:none\" points=\"\n",
       "  1528.33,1778.14 1528.33,47.2441 \n",
       "  \"/>\n",
       "<polyline clip-path=\"url(#clip342)\" style=\"stroke:#000000; stroke-linecap:butt; stroke-linejoin:round; stroke-width:2; stroke-opacity:0.1; fill:none\" points=\"\n",
       "  1952.76,1778.14 1952.76,47.2441 \n",
       "  \"/>\n",
       "<polyline clip-path=\"url(#clip340)\" style=\"stroke:#000000; stroke-linecap:butt; stroke-linejoin:round; stroke-width:4; stroke-opacity:1; fill:none\" points=\"\n",
       "  255.043,1778.14 1952.76,1778.14 \n",
       "  \"/>\n",
       "<polyline clip-path=\"url(#clip340)\" style=\"stroke:#000000; stroke-linecap:butt; stroke-linejoin:round; stroke-width:4; stroke-opacity:1; fill:none\" points=\"\n",
       "  255.043,1778.14 255.043,1759.24 \n",
       "  \"/>\n",
       "<polyline clip-path=\"url(#clip340)\" style=\"stroke:#000000; stroke-linecap:butt; stroke-linejoin:round; stroke-width:4; stroke-opacity:1; fill:none\" points=\"\n",
       "  679.471,1778.14 679.471,1759.24 \n",
       "  \"/>\n",
       "<polyline clip-path=\"url(#clip340)\" style=\"stroke:#000000; stroke-linecap:butt; stroke-linejoin:round; stroke-width:4; stroke-opacity:1; fill:none\" points=\"\n",
       "  1103.9,1778.14 1103.9,1759.24 \n",
       "  \"/>\n",
       "<polyline clip-path=\"url(#clip340)\" style=\"stroke:#000000; stroke-linecap:butt; stroke-linejoin:round; stroke-width:4; stroke-opacity:1; fill:none\" points=\"\n",
       "  1528.33,1778.14 1528.33,1759.24 \n",
       "  \"/>\n",
       "<polyline clip-path=\"url(#clip340)\" style=\"stroke:#000000; stroke-linecap:butt; stroke-linejoin:round; stroke-width:4; stroke-opacity:1; fill:none\" points=\"\n",
       "  1952.76,1778.14 1952.76,1759.24 \n",
       "  \"/>\n",
       "<path clip-path=\"url(#clip340)\" d=\"M255.043 1805.86 Q251.432 1805.86 249.603 1809.42 Q247.798 1812.96 247.798 1820.09 Q247.798 1827.2 249.603 1830.77 Q251.432 1834.31 255.043 1834.31 Q258.677 1834.31 260.483 1830.77 Q262.311 1827.2 262.311 1820.09 Q262.311 1812.96 260.483 1809.42 Q258.677 1805.86 255.043 1805.86 M255.043 1802.15 Q260.853 1802.15 263.909 1806.76 Q266.987 1811.34 266.987 1820.09 Q266.987 1828.82 263.909 1833.43 Q260.853 1838.01 255.043 1838.01 Q249.233 1838.01 246.154 1833.43 Q243.098 1828.82 243.098 1820.09 Q243.098 1811.34 246.154 1806.76 Q249.233 1802.15 255.043 1802.15 Z\" fill=\"#000000\" fill-rule=\"evenodd\" fill-opacity=\"1\" /><path clip-path=\"url(#clip340)\" d=\"M643.163 1833.4 L659.483 1833.4 L659.483 1837.34 L637.538 1837.34 L637.538 1833.4 Q640.2 1830.65 644.784 1826.02 Q649.39 1821.37 650.571 1820.03 Q652.816 1817.5 653.696 1815.77 Q654.599 1814.01 654.599 1812.32 Q654.599 1809.56 652.654 1807.83 Q650.733 1806.09 647.631 1806.09 Q645.432 1806.09 642.978 1806.85 Q640.548 1807.62 637.77 1809.17 L637.77 1804.45 Q640.594 1803.31 643.048 1802.73 Q645.501 1802.15 647.538 1802.15 Q652.909 1802.15 656.103 1804.84 Q659.298 1807.53 659.298 1812.02 Q659.298 1814.15 658.487 1816.07 Q657.7 1817.96 655.594 1820.56 Q655.015 1821.23 651.913 1824.45 Q648.812 1827.64 643.163 1833.4 Z\" fill=\"#000000\" fill-rule=\"evenodd\" fill-opacity=\"1\" /><path clip-path=\"url(#clip340)\" d=\"M679.298 1805.86 Q675.686 1805.86 673.858 1809.42 Q672.052 1812.96 672.052 1820.09 Q672.052 1827.2 673.858 1830.77 Q675.686 1834.31 679.298 1834.31 Q682.932 1834.31 684.737 1830.77 Q686.566 1827.2 686.566 1820.09 Q686.566 1812.96 684.737 1809.42 Q682.932 1805.86 679.298 1805.86 M679.298 1802.15 Q685.108 1802.15 688.163 1806.76 Q691.242 1811.34 691.242 1820.09 Q691.242 1828.82 688.163 1833.43 Q685.108 1838.01 679.298 1838.01 Q673.487 1838.01 670.409 1833.43 Q667.353 1828.82 667.353 1820.09 Q667.353 1811.34 670.409 1806.76 Q673.487 1802.15 679.298 1802.15 Z\" fill=\"#000000\" fill-rule=\"evenodd\" fill-opacity=\"1\" /><path clip-path=\"url(#clip340)\" d=\"M709.459 1805.86 Q705.848 1805.86 704.02 1809.42 Q702.214 1812.96 702.214 1820.09 Q702.214 1827.2 704.02 1830.77 Q705.848 1834.31 709.459 1834.31 Q713.094 1834.31 714.899 1830.77 Q716.728 1827.2 716.728 1820.09 Q716.728 1812.96 714.899 1809.42 Q713.094 1805.86 709.459 1805.86 M709.459 1802.15 Q715.27 1802.15 718.325 1806.76 Q721.404 1811.34 721.404 1820.09 Q721.404 1828.82 718.325 1833.43 Q715.27 1838.01 709.459 1838.01 Q703.649 1838.01 700.571 1833.43 Q697.515 1828.82 697.515 1820.09 Q697.515 1811.34 700.571 1806.76 Q703.649 1802.15 709.459 1802.15 Z\" fill=\"#000000\" fill-rule=\"evenodd\" fill-opacity=\"1\" /><path clip-path=\"url(#clip340)\" d=\"M1076.99 1806.85 L1065.18 1825.3 L1076.99 1825.3 L1076.99 1806.85 M1075.76 1802.78 L1081.64 1802.78 L1081.64 1825.3 L1086.57 1825.3 L1086.57 1829.19 L1081.64 1829.19 L1081.64 1837.34 L1076.99 1837.34 L1076.99 1829.19 L1061.39 1829.19 L1061.39 1824.68 L1075.76 1802.78 Z\" fill=\"#000000\" fill-rule=\"evenodd\" fill-opacity=\"1\" /><path clip-path=\"url(#clip340)\" d=\"M1104.3 1805.86 Q1100.69 1805.86 1098.86 1809.42 Q1097.06 1812.96 1097.06 1820.09 Q1097.06 1827.2 1098.86 1830.77 Q1100.69 1834.31 1104.3 1834.31 Q1107.94 1834.31 1109.74 1830.77 Q1111.57 1827.2 1111.57 1820.09 Q1111.57 1812.96 1109.74 1809.42 Q1107.94 1805.86 1104.3 1805.86 M1104.3 1802.15 Q1110.11 1802.15 1113.17 1806.76 Q1116.25 1811.34 1116.25 1820.09 Q1116.25 1828.82 1113.17 1833.43 Q1110.11 1838.01 1104.3 1838.01 Q1098.49 1838.01 1095.42 1833.43 Q1092.36 1828.82 1092.36 1820.09 Q1092.36 1811.34 1095.42 1806.76 Q1098.49 1802.15 1104.3 1802.15 Z\" fill=\"#000000\" fill-rule=\"evenodd\" fill-opacity=\"1\" /><path clip-path=\"url(#clip340)\" d=\"M1134.47 1805.86 Q1130.86 1805.86 1129.03 1809.42 Q1127.22 1812.96 1127.22 1820.09 Q1127.22 1827.2 1129.03 1830.77 Q1130.86 1834.31 1134.47 1834.31 Q1138.1 1834.31 1139.91 1830.77 Q1141.73 1827.2 1141.73 1820.09 Q1141.73 1812.96 1139.91 1809.42 Q1138.1 1805.86 1134.47 1805.86 M1134.47 1802.15 Q1140.28 1802.15 1143.33 1806.76 Q1146.41 1811.34 1146.41 1820.09 Q1146.41 1828.82 1143.33 1833.43 Q1140.28 1838.01 1134.47 1838.01 Q1128.66 1838.01 1125.58 1833.43 Q1122.52 1828.82 1122.52 1820.09 Q1122.52 1811.34 1125.58 1806.76 Q1128.66 1802.15 1134.47 1802.15 Z\" fill=\"#000000\" fill-rule=\"evenodd\" fill-opacity=\"1\" /><path clip-path=\"url(#clip340)\" d=\"M1498.65 1818.2 Q1495.5 1818.2 1493.65 1820.35 Q1491.82 1822.5 1491.82 1826.25 Q1491.82 1829.98 1493.65 1832.15 Q1495.5 1834.31 1498.65 1834.31 Q1501.8 1834.31 1503.63 1832.15 Q1505.48 1829.98 1505.48 1826.25 Q1505.48 1822.5 1503.63 1820.35 Q1501.8 1818.2 1498.65 1818.2 M1507.93 1803.54 L1507.93 1807.8 Q1506.17 1806.97 1504.37 1806.53 Q1502.59 1806.09 1500.83 1806.09 Q1496.2 1806.09 1493.74 1809.21 Q1491.31 1812.34 1490.97 1818.66 Q1492.33 1816.65 1494.39 1815.58 Q1496.45 1814.49 1498.93 1814.49 Q1504.14 1814.49 1507.15 1817.66 Q1510.18 1820.81 1510.18 1826.25 Q1510.18 1831.58 1507.03 1834.79 Q1503.88 1838.01 1498.65 1838.01 Q1492.66 1838.01 1489.49 1833.43 Q1486.31 1828.82 1486.31 1820.09 Q1486.31 1811.9 1490.2 1807.04 Q1494.09 1802.15 1500.64 1802.15 Q1502.4 1802.15 1504.18 1802.5 Q1505.99 1802.85 1507.93 1803.54 Z\" fill=\"#000000\" fill-rule=\"evenodd\" fill-opacity=\"1\" /><path clip-path=\"url(#clip340)\" d=\"M1528.24 1805.86 Q1524.62 1805.86 1522.8 1809.42 Q1520.99 1812.96 1520.99 1820.09 Q1520.99 1827.2 1522.8 1830.77 Q1524.62 1834.31 1528.24 1834.31 Q1531.87 1834.31 1533.67 1830.77 Q1535.5 1827.2 1535.5 1820.09 Q1535.5 1812.96 1533.67 1809.42 Q1531.87 1805.86 1528.24 1805.86 M1528.24 1802.15 Q1534.05 1802.15 1537.1 1806.76 Q1540.18 1811.34 1540.18 1820.09 Q1540.18 1828.82 1537.1 1833.43 Q1534.05 1838.01 1528.24 1838.01 Q1522.42 1838.01 1519.35 1833.43 Q1516.29 1828.82 1516.29 1820.09 Q1516.29 1811.34 1519.35 1806.76 Q1522.42 1802.15 1528.24 1802.15 Z\" fill=\"#000000\" fill-rule=\"evenodd\" fill-opacity=\"1\" /><path clip-path=\"url(#clip340)\" d=\"M1558.4 1805.86 Q1554.79 1805.86 1552.96 1809.42 Q1551.15 1812.96 1551.15 1820.09 Q1551.15 1827.2 1552.96 1830.77 Q1554.79 1834.31 1558.4 1834.31 Q1562.03 1834.31 1563.84 1830.77 Q1565.67 1827.2 1565.67 1820.09 Q1565.67 1812.96 1563.84 1809.42 Q1562.03 1805.86 1558.4 1805.86 M1558.4 1802.15 Q1564.21 1802.15 1567.26 1806.76 Q1570.34 1811.34 1570.34 1820.09 Q1570.34 1828.82 1567.26 1833.43 Q1564.21 1838.01 1558.4 1838.01 Q1552.59 1838.01 1549.51 1833.43 Q1546.45 1828.82 1546.45 1820.09 Q1546.45 1811.34 1549.51 1806.76 Q1552.59 1802.15 1558.4 1802.15 Z\" fill=\"#000000\" fill-rule=\"evenodd\" fill-opacity=\"1\" /><path clip-path=\"url(#clip340)\" d=\"M1922.55 1820.93 Q1919.21 1820.93 1917.29 1822.71 Q1915.39 1824.49 1915.39 1827.62 Q1915.39 1830.74 1917.29 1832.53 Q1919.21 1834.31 1922.55 1834.31 Q1925.88 1834.31 1927.8 1832.53 Q1929.72 1830.72 1929.72 1827.62 Q1929.72 1824.49 1927.8 1822.71 Q1925.9 1820.93 1922.55 1820.93 M1917.87 1818.94 Q1914.86 1818.2 1913.17 1816.14 Q1911.51 1814.08 1911.51 1811.11 Q1911.51 1806.97 1914.45 1804.56 Q1917.41 1802.15 1922.55 1802.15 Q1927.71 1802.15 1930.65 1804.56 Q1933.59 1806.97 1933.59 1811.11 Q1933.59 1814.08 1931.9 1816.14 Q1930.23 1818.2 1927.25 1818.94 Q1930.63 1819.72 1932.5 1822.02 Q1934.4 1824.31 1934.4 1827.62 Q1934.4 1832.64 1931.32 1835.33 Q1928.27 1838.01 1922.55 1838.01 Q1916.83 1838.01 1913.75 1835.33 Q1910.7 1832.64 1910.7 1827.62 Q1910.7 1824.31 1912.59 1822.02 Q1914.49 1819.72 1917.87 1818.94 M1916.16 1811.55 Q1916.16 1814.24 1917.83 1815.74 Q1919.52 1817.25 1922.55 1817.25 Q1925.56 1817.25 1927.25 1815.74 Q1928.96 1814.24 1928.96 1811.55 Q1928.96 1808.87 1927.25 1807.36 Q1925.56 1805.86 1922.55 1805.86 Q1919.52 1805.86 1917.83 1807.36 Q1916.16 1808.87 1916.16 1811.55 Z\" fill=\"#000000\" fill-rule=\"evenodd\" fill-opacity=\"1\" /><path clip-path=\"url(#clip340)\" d=\"M1952.71 1805.86 Q1949.1 1805.86 1947.27 1809.42 Q1945.46 1812.96 1945.46 1820.09 Q1945.46 1827.2 1947.27 1830.77 Q1949.1 1834.31 1952.71 1834.31 Q1956.34 1834.31 1958.15 1830.77 Q1959.98 1827.2 1959.98 1820.09 Q1959.98 1812.96 1958.15 1809.42 Q1956.34 1805.86 1952.71 1805.86 M1952.71 1802.15 Q1958.52 1802.15 1961.58 1806.76 Q1964.65 1811.34 1964.65 1820.09 Q1964.65 1828.82 1961.58 1833.43 Q1958.52 1838.01 1952.71 1838.01 Q1946.9 1838.01 1943.82 1833.43 Q1940.77 1828.82 1940.77 1820.09 Q1940.77 1811.34 1943.82 1806.76 Q1946.9 1802.15 1952.71 1802.15 Z\" fill=\"#000000\" fill-rule=\"evenodd\" fill-opacity=\"1\" /><path clip-path=\"url(#clip340)\" d=\"M1982.87 1805.86 Q1979.26 1805.86 1977.43 1809.42 Q1975.63 1812.96 1975.63 1820.09 Q1975.63 1827.2 1977.43 1830.77 Q1979.26 1834.31 1982.87 1834.31 Q1986.51 1834.31 1988.31 1830.77 Q1990.14 1827.2 1990.14 1820.09 Q1990.14 1812.96 1988.31 1809.42 Q1986.51 1805.86 1982.87 1805.86 M1982.87 1802.15 Q1988.68 1802.15 1991.74 1806.76 Q1994.82 1811.34 1994.82 1820.09 Q1994.82 1828.82 1991.74 1833.43 Q1988.68 1838.01 1982.87 1838.01 Q1977.06 1838.01 1973.98 1833.43 Q1970.93 1828.82 1970.93 1820.09 Q1970.93 1811.34 1973.98 1806.76 Q1977.06 1802.15 1982.87 1802.15 Z\" fill=\"#000000\" fill-rule=\"evenodd\" fill-opacity=\"1\" /><path clip-path=\"url(#clip340)\" d=\"M934.078 1875.82 L925.357 1899.47 L942.831 1899.47 L934.078 1875.82 M930.45 1869.48 L937.739 1869.48 L955.849 1917 L949.165 1917 L944.836 1904.81 L923.416 1904.81 L919.087 1917 L912.308 1917 L930.45 1869.48 Z\" fill=\"#000000\" fill-rule=\"evenodd\" fill-opacity=\"1\" /><path clip-path=\"url(#clip340)\" d=\"M987.041 1882.72 L987.041 1888.2 Q984.558 1886.83 982.044 1886.16 Q979.561 1885.46 977.015 1885.46 Q971.318 1885.46 968.167 1889.09 Q965.016 1892.69 965.016 1899.21 Q965.016 1905.74 968.167 1909.36 Q971.318 1912.96 977.015 1912.96 Q979.561 1912.96 982.044 1912.29 Q984.558 1911.59 987.041 1910.22 L987.041 1915.64 Q984.59 1916.78 981.948 1917.35 Q979.338 1917.93 976.378 1917.93 Q968.326 1917.93 963.583 1912.87 Q958.841 1907.81 958.841 1899.21 Q958.841 1890.49 963.615 1885.49 Q968.421 1880.5 976.76 1880.5 Q979.466 1880.5 982.044 1881.07 Q984.622 1881.61 987.041 1882.72 Z\" fill=\"#000000\" fill-rule=\"evenodd\" fill-opacity=\"1\" /><path clip-path=\"url(#clip340)\" d=\"M1003.02 1871.23 L1003.02 1881.36 L1015.08 1881.36 L1015.08 1885.91 L1003.02 1885.91 L1003.02 1905.26 Q1003.02 1909.62 1004.2 1910.86 Q1005.41 1912.1 1009.07 1912.1 L1015.08 1912.1 L1015.08 1917 L1009.07 1917 Q1002.29 1917 999.709 1914.49 Q997.131 1911.94 997.131 1905.26 L997.131 1885.91 L992.834 1885.91 L992.834 1881.36 L997.131 1881.36 L997.131 1871.23 L1003.02 1871.23 Z\" fill=\"#000000\" fill-rule=\"evenodd\" fill-opacity=\"1\" /><path clip-path=\"url(#clip340)\" d=\"M1022.18 1902.94 L1022.18 1881.36 L1028.04 1881.36 L1028.04 1902.71 Q1028.04 1907.77 1030.01 1910.32 Q1031.98 1912.83 1035.93 1912.83 Q1040.67 1912.83 1043.41 1909.81 Q1046.18 1906.79 1046.18 1901.57 L1046.18 1881.36 L1052.03 1881.36 L1052.03 1917 L1046.18 1917 L1046.18 1911.53 Q1044.05 1914.78 1041.21 1916.37 Q1038.41 1917.93 1034.69 1917.93 Q1028.55 1917.93 1025.36 1914.11 Q1022.18 1910.29 1022.18 1902.94 M1036.92 1880.5 L1036.92 1880.5 Z\" fill=\"#000000\" fill-rule=\"evenodd\" fill-opacity=\"1\" /><path clip-path=\"url(#clip340)\" d=\"M1080.3 1899.08 Q1073.2 1899.08 1070.46 1900.71 Q1067.73 1902.33 1067.73 1906.25 Q1067.73 1909.36 1069.76 1911.21 Q1071.83 1913.03 1075.37 1913.03 Q1080.23 1913.03 1083.16 1909.59 Q1086.12 1906.12 1086.12 1900.39 L1086.12 1899.08 L1080.3 1899.08 M1091.98 1896.67 L1091.98 1917 L1086.12 1917 L1086.12 1911.59 Q1084.12 1914.84 1081.13 1916.4 Q1078.13 1917.93 1073.81 1917.93 Q1068.33 1917.93 1065.08 1914.87 Q1061.87 1911.78 1061.87 1906.63 Q1061.87 1900.61 1065.88 1897.56 Q1069.92 1894.5 1077.91 1894.5 L1086.12 1894.5 L1086.12 1893.93 Q1086.12 1889.89 1083.45 1887.69 Q1080.81 1885.46 1076 1885.46 Q1072.95 1885.46 1070.05 1886.19 Q1067.15 1886.93 1064.48 1888.39 L1064.48 1882.98 Q1067.69 1881.74 1070.72 1881.13 Q1073.74 1880.5 1076.61 1880.5 Q1084.34 1880.5 1088.16 1884.51 Q1091.98 1888.52 1091.98 1896.67 Z\" fill=\"#000000\" fill-rule=\"evenodd\" fill-opacity=\"1\" /><path clip-path=\"url(#clip340)\" d=\"M1104.04 1867.48 L1109.9 1867.48 L1109.9 1917 L1104.04 1917 L1104.04 1867.48 Z\" fill=\"#000000\" fill-rule=\"evenodd\" fill-opacity=\"1\" /><path clip-path=\"url(#clip340)\" d=\"M1148.54 1911.66 L1148.54 1930.56 L1142.65 1930.56 L1142.65 1881.36 L1148.54 1881.36 L1148.54 1886.77 Q1150.38 1883.58 1153.19 1882.06 Q1156.02 1880.5 1159.93 1880.5 Q1166.43 1880.5 1170.47 1885.65 Q1174.54 1890.81 1174.54 1899.21 Q1174.54 1907.61 1170.47 1912.77 Q1166.43 1917.93 1159.93 1917.93 Q1156.02 1917.93 1153.19 1916.4 Q1150.38 1914.84 1148.54 1911.66 M1168.46 1899.21 Q1168.46 1892.75 1165.79 1889.09 Q1163.15 1885.4 1158.5 1885.4 Q1153.85 1885.4 1151.18 1889.09 Q1148.54 1892.75 1148.54 1899.21 Q1148.54 1905.67 1151.18 1909.36 Q1153.85 1913.03 1158.5 1913.03 Q1163.15 1913.03 1165.79 1909.36 Q1168.46 1905.67 1168.46 1899.21 Z\" fill=\"#000000\" fill-rule=\"evenodd\" fill-opacity=\"1\" /><path clip-path=\"url(#clip340)\" d=\"M1204.91 1886.83 Q1203.92 1886.26 1202.74 1886 Q1201.6 1885.72 1200.2 1885.72 Q1195.23 1885.72 1192.56 1888.96 Q1189.92 1892.18 1189.92 1898.23 L1189.92 1917 L1184.03 1917 L1184.03 1881.36 L1189.92 1881.36 L1189.92 1886.89 Q1191.76 1883.65 1194.72 1882.09 Q1197.68 1880.5 1201.92 1880.5 Q1202.52 1880.5 1203.25 1880.59 Q1203.98 1880.66 1204.88 1880.81 L1204.91 1886.83 Z\" fill=\"#000000\" fill-rule=\"evenodd\" fill-opacity=\"1\" /><path clip-path=\"url(#clip340)\" d=\"M1211.05 1881.36 L1216.91 1881.36 L1216.91 1917 L1211.05 1917 L1211.05 1881.36 M1211.05 1867.48 L1216.91 1867.48 L1216.91 1874.89 L1211.05 1874.89 L1211.05 1867.48 Z\" fill=\"#000000\" fill-rule=\"evenodd\" fill-opacity=\"1\" /><path clip-path=\"url(#clip340)\" d=\"M1254.81 1882.72 L1254.81 1888.2 Q1252.33 1886.83 1249.82 1886.16 Q1247.33 1885.46 1244.79 1885.46 Q1239.09 1885.46 1235.94 1889.09 Q1232.79 1892.69 1232.79 1899.21 Q1232.79 1905.74 1235.94 1909.36 Q1239.09 1912.96 1244.79 1912.96 Q1247.33 1912.96 1249.82 1912.29 Q1252.33 1911.59 1254.81 1910.22 L1254.81 1915.64 Q1252.36 1916.78 1249.72 1917.35 Q1247.11 1917.93 1244.15 1917.93 Q1236.1 1917.93 1231.36 1912.87 Q1226.61 1907.81 1226.61 1899.21 Q1226.61 1890.49 1231.39 1885.49 Q1236.19 1880.5 1244.53 1880.5 Q1247.24 1880.5 1249.82 1881.07 Q1252.4 1881.61 1254.81 1882.72 Z\" fill=\"#000000\" fill-rule=\"evenodd\" fill-opacity=\"1\" /><path clip-path=\"url(#clip340)\" d=\"M1295.49 1897.72 L1295.49 1900.58 L1268.56 1900.58 Q1268.95 1906.63 1272.19 1909.81 Q1275.47 1912.96 1281.3 1912.96 Q1284.67 1912.96 1287.82 1912.13 Q1291 1911.31 1294.12 1909.65 L1294.12 1915.19 Q1290.97 1916.53 1287.66 1917.23 Q1284.35 1917.93 1280.95 1917.93 Q1272.42 1917.93 1267.42 1912.96 Q1262.45 1908 1262.45 1899.53 Q1262.45 1890.78 1267.16 1885.65 Q1271.91 1880.5 1279.93 1880.5 Q1287.12 1880.5 1291.29 1885.14 Q1295.49 1889.76 1295.49 1897.72 M1289.63 1896 Q1289.57 1891.19 1286.93 1888.33 Q1284.32 1885.46 1279.99 1885.46 Q1275.09 1885.46 1272.13 1888.23 Q1269.2 1891 1268.76 1896.03 L1289.63 1896 Z\" fill=\"#000000\" fill-rule=\"evenodd\" fill-opacity=\"1\" /><polyline clip-path=\"url(#clip342)\" style=\"stroke:#000000; stroke-linecap:butt; stroke-linejoin:round; stroke-width:2; stroke-opacity:0.1; fill:none\" points=\"\n",
       "  255.043,1778.14 1952.76,1778.14 \n",
       "  \"/>\n",
       "<polyline clip-path=\"url(#clip342)\" style=\"stroke:#000000; stroke-linecap:butt; stroke-linejoin:round; stroke-width:2; stroke-opacity:0.1; fill:none\" points=\"\n",
       "  255.043,1345.42 1952.76,1345.42 \n",
       "  \"/>\n",
       "<polyline clip-path=\"url(#clip342)\" style=\"stroke:#000000; stroke-linecap:butt; stroke-linejoin:round; stroke-width:2; stroke-opacity:0.1; fill:none\" points=\"\n",
       "  255.043,912.692 1952.76,912.692 \n",
       "  \"/>\n",
       "<polyline clip-path=\"url(#clip342)\" style=\"stroke:#000000; stroke-linecap:butt; stroke-linejoin:round; stroke-width:2; stroke-opacity:0.1; fill:none\" points=\"\n",
       "  255.043,479.968 1952.76,479.968 \n",
       "  \"/>\n",
       "<polyline clip-path=\"url(#clip342)\" style=\"stroke:#000000; stroke-linecap:butt; stroke-linejoin:round; stroke-width:2; stroke-opacity:0.1; fill:none\" points=\"\n",
       "  255.043,47.2441 1952.76,47.2441 \n",
       "  \"/>\n",
       "<polyline clip-path=\"url(#clip340)\" style=\"stroke:#000000; stroke-linecap:butt; stroke-linejoin:round; stroke-width:4; stroke-opacity:1; fill:none\" points=\"\n",
       "  255.043,1778.14 255.043,47.2441 \n",
       "  \"/>\n",
       "<polyline clip-path=\"url(#clip340)\" style=\"stroke:#000000; stroke-linecap:butt; stroke-linejoin:round; stroke-width:4; stroke-opacity:1; fill:none\" points=\"\n",
       "  255.043,1778.14 273.94,1778.14 \n",
       "  \"/>\n",
       "<polyline clip-path=\"url(#clip340)\" style=\"stroke:#000000; stroke-linecap:butt; stroke-linejoin:round; stroke-width:4; stroke-opacity:1; fill:none\" points=\"\n",
       "  255.043,1345.42 273.94,1345.42 \n",
       "  \"/>\n",
       "<polyline clip-path=\"url(#clip340)\" style=\"stroke:#000000; stroke-linecap:butt; stroke-linejoin:round; stroke-width:4; stroke-opacity:1; fill:none\" points=\"\n",
       "  255.043,912.692 273.94,912.692 \n",
       "  \"/>\n",
       "<polyline clip-path=\"url(#clip340)\" style=\"stroke:#000000; stroke-linecap:butt; stroke-linejoin:round; stroke-width:4; stroke-opacity:1; fill:none\" points=\"\n",
       "  255.043,479.968 273.94,479.968 \n",
       "  \"/>\n",
       "<polyline clip-path=\"url(#clip340)\" style=\"stroke:#000000; stroke-linecap:butt; stroke-linejoin:round; stroke-width:4; stroke-opacity:1; fill:none\" points=\"\n",
       "  255.043,47.2441 273.94,47.2441 \n",
       "  \"/>\n",
       "<path clip-path=\"url(#clip340)\" d=\"M213.098 1763.94 Q209.487 1763.94 207.659 1767.5 Q205.853 1771.04 205.853 1778.17 Q205.853 1785.28 207.659 1788.85 Q209.487 1792.39 213.098 1792.39 Q216.733 1792.39 218.538 1788.85 Q220.367 1785.28 220.367 1778.17 Q220.367 1771.04 218.538 1767.5 Q216.733 1763.94 213.098 1763.94 M213.098 1760.23 Q218.909 1760.23 221.964 1764.84 Q225.043 1769.42 225.043 1778.17 Q225.043 1786.9 221.964 1791.51 Q218.909 1796.09 213.098 1796.09 Q207.288 1796.09 204.21 1791.51 Q201.154 1786.9 201.154 1778.17 Q201.154 1769.42 204.21 1764.84 Q207.288 1760.23 213.098 1760.23 Z\" fill=\"#000000\" fill-rule=\"evenodd\" fill-opacity=\"1\" /><path clip-path=\"url(#clip340)\" d=\"M146.803 1358.76 L163.122 1358.76 L163.122 1362.7 L141.178 1362.7 L141.178 1358.76 Q143.84 1356.01 148.423 1351.38 Q153.029 1346.72 154.21 1345.38 Q156.455 1342.86 157.335 1341.12 Q158.238 1339.36 158.238 1337.67 Q158.238 1334.92 156.293 1333.18 Q154.372 1331.45 151.27 1331.45 Q149.071 1331.45 146.617 1332.21 Q144.187 1332.97 141.409 1334.52 L141.409 1329.8 Q144.233 1328.67 146.687 1328.09 Q149.14 1327.51 151.178 1327.51 Q156.548 1327.51 159.742 1330.2 Q162.937 1332.88 162.937 1337.37 Q162.937 1339.5 162.127 1341.42 Q161.339 1343.32 159.233 1345.91 Q158.654 1346.58 155.552 1349.8 Q152.451 1353 146.803 1358.76 Z\" fill=\"#000000\" fill-rule=\"evenodd\" fill-opacity=\"1\" /><path clip-path=\"url(#clip340)\" d=\"M182.937 1331.21 Q179.326 1331.21 177.497 1334.78 Q175.691 1338.32 175.691 1345.45 Q175.691 1352.56 177.497 1356.12 Q179.326 1359.66 182.937 1359.66 Q186.571 1359.66 188.376 1356.12 Q190.205 1352.56 190.205 1345.45 Q190.205 1338.32 188.376 1334.78 Q186.571 1331.21 182.937 1331.21 M182.937 1327.51 Q188.747 1327.51 191.802 1332.12 Q194.881 1336.7 194.881 1345.45 Q194.881 1354.18 191.802 1358.78 Q188.747 1363.37 182.937 1363.37 Q177.126 1363.37 174.048 1358.78 Q170.992 1354.18 170.992 1345.45 Q170.992 1336.7 174.048 1332.12 Q177.126 1327.51 182.937 1327.51 Z\" fill=\"#000000\" fill-rule=\"evenodd\" fill-opacity=\"1\" /><path clip-path=\"url(#clip340)\" d=\"M213.098 1331.21 Q209.487 1331.21 207.659 1334.78 Q205.853 1338.32 205.853 1345.45 Q205.853 1352.56 207.659 1356.12 Q209.487 1359.66 213.098 1359.66 Q216.733 1359.66 218.538 1356.12 Q220.367 1352.56 220.367 1345.45 Q220.367 1338.32 218.538 1334.78 Q216.733 1331.21 213.098 1331.21 M213.098 1327.51 Q218.909 1327.51 221.964 1332.12 Q225.043 1336.7 225.043 1345.45 Q225.043 1354.18 221.964 1358.78 Q218.909 1363.37 213.098 1363.37 Q207.288 1363.37 204.21 1358.78 Q201.154 1354.18 201.154 1345.45 Q201.154 1336.7 204.21 1332.12 Q207.288 1327.51 213.098 1327.51 Z\" fill=\"#000000\" fill-rule=\"evenodd\" fill-opacity=\"1\" /><path clip-path=\"url(#clip340)\" d=\"M155.622 899.486 L143.816 917.935 L155.622 917.935 L155.622 899.486 M154.395 895.412 L160.275 895.412 L160.275 917.935 L165.205 917.935 L165.205 921.824 L160.275 921.824 L160.275 929.972 L155.622 929.972 L155.622 921.824 L140.02 921.824 L140.02 917.31 L154.395 895.412 Z\" fill=\"#000000\" fill-rule=\"evenodd\" fill-opacity=\"1\" /><path clip-path=\"url(#clip340)\" d=\"M182.937 898.491 Q179.326 898.491 177.497 902.055 Q175.691 905.597 175.691 912.727 Q175.691 919.833 177.497 923.398 Q179.326 926.94 182.937 926.94 Q186.571 926.94 188.376 923.398 Q190.205 919.833 190.205 912.727 Q190.205 905.597 188.376 902.055 Q186.571 898.491 182.937 898.491 M182.937 894.787 Q188.747 894.787 191.802 899.393 Q194.881 903.977 194.881 912.727 Q194.881 921.453 191.802 926.06 Q188.747 930.643 182.937 930.643 Q177.126 930.643 174.048 926.06 Q170.992 921.453 170.992 912.727 Q170.992 903.977 174.048 899.393 Q177.126 894.787 182.937 894.787 Z\" fill=\"#000000\" fill-rule=\"evenodd\" fill-opacity=\"1\" /><path clip-path=\"url(#clip340)\" d=\"M213.098 898.491 Q209.487 898.491 207.659 902.055 Q205.853 905.597 205.853 912.727 Q205.853 919.833 207.659 923.398 Q209.487 926.94 213.098 926.94 Q216.733 926.94 218.538 923.398 Q220.367 919.833 220.367 912.727 Q220.367 905.597 218.538 902.055 Q216.733 898.491 213.098 898.491 M213.098 894.787 Q218.909 894.787 221.964 899.393 Q225.043 903.977 225.043 912.727 Q225.043 921.453 221.964 926.06 Q218.909 930.643 213.098 930.643 Q207.288 930.643 204.21 926.06 Q201.154 921.453 201.154 912.727 Q201.154 903.977 204.21 899.393 Q207.288 894.787 213.098 894.787 Z\" fill=\"#000000\" fill-rule=\"evenodd\" fill-opacity=\"1\" /><path clip-path=\"url(#clip340)\" d=\"M153.353 478.105 Q150.205 478.105 148.353 480.257 Q146.525 482.41 146.525 486.16 Q146.525 489.887 148.353 492.063 Q150.205 494.216 153.353 494.216 Q156.502 494.216 158.33 492.063 Q160.182 489.887 160.182 486.16 Q160.182 482.41 158.33 480.257 Q156.502 478.105 153.353 478.105 M162.636 463.452 L162.636 467.711 Q160.877 466.878 159.071 466.438 Q157.289 465.998 155.529 465.998 Q150.9 465.998 148.446 469.123 Q146.015 472.248 145.668 478.568 Q147.034 476.554 149.094 475.489 Q151.154 474.401 153.631 474.401 Q158.84 474.401 161.849 477.572 Q164.881 480.72 164.881 486.16 Q164.881 491.484 161.733 494.702 Q158.585 497.919 153.353 497.919 Q147.358 497.919 144.187 493.336 Q141.016 488.73 141.016 480.003 Q141.016 471.808 144.904 466.947 Q148.793 462.063 155.344 462.063 Q157.103 462.063 158.886 462.41 Q160.691 462.757 162.636 463.452 Z\" fill=\"#000000\" fill-rule=\"evenodd\" fill-opacity=\"1\" /><path clip-path=\"url(#clip340)\" d=\"M182.937 465.767 Q179.326 465.767 177.497 469.332 Q175.691 472.873 175.691 480.003 Q175.691 487.109 177.497 490.674 Q179.326 494.216 182.937 494.216 Q186.571 494.216 188.376 490.674 Q190.205 487.109 190.205 480.003 Q190.205 472.873 188.376 469.332 Q186.571 465.767 182.937 465.767 M182.937 462.063 Q188.747 462.063 191.802 466.669 Q194.881 471.253 194.881 480.003 Q194.881 488.73 191.802 493.336 Q188.747 497.919 182.937 497.919 Q177.126 497.919 174.048 493.336 Q170.992 488.73 170.992 480.003 Q170.992 471.253 174.048 466.669 Q177.126 462.063 182.937 462.063 Z\" fill=\"#000000\" fill-rule=\"evenodd\" fill-opacity=\"1\" /><path clip-path=\"url(#clip340)\" d=\"M213.098 465.767 Q209.487 465.767 207.659 469.332 Q205.853 472.873 205.853 480.003 Q205.853 487.109 207.659 490.674 Q209.487 494.216 213.098 494.216 Q216.733 494.216 218.538 490.674 Q220.367 487.109 220.367 480.003 Q220.367 472.873 218.538 469.332 Q216.733 465.767 213.098 465.767 M213.098 462.063 Q218.909 462.063 221.964 466.669 Q225.043 471.253 225.043 480.003 Q225.043 488.73 221.964 493.336 Q218.909 497.919 213.098 497.919 Q207.288 497.919 204.21 493.336 Q201.154 488.73 201.154 480.003 Q201.154 471.253 204.21 466.669 Q207.288 462.063 213.098 462.063 Z\" fill=\"#000000\" fill-rule=\"evenodd\" fill-opacity=\"1\" /><path clip-path=\"url(#clip340)\" d=\"M152.775 48.1121 Q149.441 48.1121 147.52 49.8945 Q145.622 51.6769 145.622 54.8019 Q145.622 57.9269 147.52 59.7093 Q149.441 61.4917 152.775 61.4917 Q156.108 61.4917 158.029 59.7093 Q159.951 57.9038 159.951 54.8019 Q159.951 51.6769 158.029 49.8945 Q156.131 48.1121 152.775 48.1121 M148.099 46.1214 Q145.09 45.3807 143.4 43.3205 Q141.733 41.2603 141.733 38.2974 Q141.733 34.1539 144.673 31.7465 Q147.636 29.3391 152.775 29.3391 Q157.937 29.3391 160.877 31.7465 Q163.816 34.1539 163.816 38.2974 Q163.816 41.2603 162.127 43.3205 Q160.46 45.3807 157.474 46.1214 Q160.853 46.9084 162.728 49.2001 Q164.627 51.4918 164.627 54.8019 Q164.627 59.825 161.548 62.5102 Q158.492 65.1954 152.775 65.1954 Q147.057 65.1954 143.978 62.5102 Q140.923 59.825 140.923 54.8019 Q140.923 51.4918 142.821 49.2001 Q144.719 46.9084 148.099 46.1214 M146.386 38.7372 Q146.386 41.4224 148.053 42.927 Q149.742 44.4316 152.775 44.4316 Q155.784 44.4316 157.474 42.927 Q159.187 41.4224 159.187 38.7372 Q159.187 36.052 157.474 34.5474 Q155.784 33.0428 152.775 33.0428 Q149.742 33.0428 148.053 34.5474 Q146.386 36.052 146.386 38.7372 Z\" fill=\"#000000\" fill-rule=\"evenodd\" fill-opacity=\"1\" /><path clip-path=\"url(#clip340)\" d=\"M182.937 33.0428 Q179.326 33.0428 177.497 36.6076 Q175.691 40.1492 175.691 47.2788 Q175.691 54.3853 177.497 57.9501 Q179.326 61.4917 182.937 61.4917 Q186.571 61.4917 188.376 57.9501 Q190.205 54.3853 190.205 47.2788 Q190.205 40.1492 188.376 36.6076 Q186.571 33.0428 182.937 33.0428 M182.937 29.3391 Q188.747 29.3391 191.802 33.9456 Q194.881 38.5289 194.881 47.2788 Q194.881 56.0056 191.802 60.6121 Q188.747 65.1954 182.937 65.1954 Q177.126 65.1954 174.048 60.6121 Q170.992 56.0056 170.992 47.2788 Q170.992 38.5289 174.048 33.9456 Q177.126 29.3391 182.937 29.3391 Z\" fill=\"#000000\" fill-rule=\"evenodd\" fill-opacity=\"1\" /><path clip-path=\"url(#clip340)\" d=\"M213.098 33.0428 Q209.487 33.0428 207.659 36.6076 Q205.853 40.1492 205.853 47.2788 Q205.853 54.3853 207.659 57.9501 Q209.487 61.4917 213.098 61.4917 Q216.733 61.4917 218.538 57.9501 Q220.367 54.3853 220.367 47.2788 Q220.367 40.1492 218.538 36.6076 Q216.733 33.0428 213.098 33.0428 M213.098 29.3391 Q218.909 29.3391 221.964 33.9456 Q225.043 38.5289 225.043 47.2788 Q225.043 56.0056 221.964 60.6121 Q218.909 65.1954 213.098 65.1954 Q207.288 65.1954 204.21 60.6121 Q201.154 56.0056 201.154 47.2788 Q201.154 38.5289 204.21 33.9456 Q207.288 29.3391 213.098 29.3391 Z\" fill=\"#000000\" fill-rule=\"evenodd\" fill-opacity=\"1\" /><path clip-path=\"url(#clip340)\" d=\"M53.5277 1145.8 L71.3835 1145.8 L71.3835 1137.72 Q71.3835 1133.23 69.06 1130.78 Q66.7365 1128.33 62.4397 1128.33 Q58.1747 1128.33 55.8512 1130.78 Q53.5277 1133.23 53.5277 1137.72 L53.5277 1145.8 M48.2442 1152.23 L48.2442 1137.72 Q48.2442 1129.73 51.8726 1125.66 Q55.4692 1121.55 62.4397 1121.55 Q69.4738 1121.55 73.0704 1125.66 Q76.667 1129.73 76.667 1137.72 L76.667 1145.8 L95.7642 1145.8 L95.7642 1152.23 L48.2442 1152.23 Z\" fill=\"#000000\" fill-rule=\"evenodd\" fill-opacity=\"1\" /><path clip-path=\"url(#clip340)\" d=\"M65.5907 1093.67 Q65.0178 1094.66 64.7632 1095.83 Q64.4767 1096.98 64.4767 1098.38 Q64.4767 1103.34 67.7232 1106.02 Q70.9379 1108.66 76.9853 1108.66 L95.7642 1108.66 L95.7642 1114.55 L60.1162 1114.55 L60.1162 1108.66 L65.6544 1108.66 Q62.4079 1106.81 60.8483 1103.85 Q59.2568 1100.89 59.2568 1096.66 Q59.2568 1096.06 59.3523 1095.32 Q59.416 1094.59 59.5751 1093.7 L65.5907 1093.67 Z\" fill=\"#000000\" fill-rule=\"evenodd\" fill-opacity=\"1\" /><path clip-path=\"url(#clip340)\" d=\"M76.4761 1058.47 L79.3406 1058.47 L79.3406 1085.39 Q85.3881 1085.01 88.5709 1081.77 Q91.7219 1078.49 91.7219 1072.66 Q91.7219 1069.29 90.8944 1066.14 Q90.0669 1062.95 88.4118 1059.84 L93.9499 1059.84 Q95.2867 1062.99 95.987 1066.3 Q96.6872 1069.61 96.6872 1073.01 Q96.6872 1081.54 91.7219 1086.54 Q86.7567 1091.5 78.2903 1091.5 Q69.5374 1091.5 64.4131 1086.79 Q59.2568 1082.05 59.2568 1074.03 Q59.2568 1066.84 63.9038 1062.67 Q68.5189 1058.47 76.4761 1058.47 M74.7573 1064.32 Q69.9512 1064.39 67.0866 1067.03 Q64.2221 1069.64 64.2221 1073.97 Q64.2221 1078.87 66.9912 1081.83 Q69.7602 1084.76 74.7892 1085.2 L74.7573 1064.32 Z\" fill=\"#000000\" fill-rule=\"evenodd\" fill-opacity=\"1\" /><path clip-path=\"url(#clip340)\" d=\"M65.5271 1025.4 L46.239 1025.4 L46.239 1019.54 L95.7642 1019.54 L95.7642 1025.4 L90.417 1025.4 Q93.5998 1027.24 95.1594 1030.08 Q96.6872 1032.88 96.6872 1036.82 Q96.6872 1043.28 91.531 1047.36 Q86.3747 1051.4 77.972 1051.4 Q69.5693 1051.4 64.4131 1047.36 Q59.2568 1043.28 59.2568 1036.82 Q59.2568 1032.88 60.8164 1030.08 Q62.3442 1027.24 65.5271 1025.4 M77.972 1045.35 Q84.4332 1045.35 88.1253 1042.71 Q91.7856 1040.04 91.7856 1035.39 Q91.7856 1030.74 88.1253 1028.07 Q84.4332 1025.4 77.972 1025.4 Q71.5108 1025.4 67.8505 1028.07 Q64.1584 1030.74 64.1584 1035.39 Q64.1584 1040.04 67.8505 1042.71 Q71.5108 1045.35 77.972 1045.35 Z\" fill=\"#000000\" fill-rule=\"evenodd\" fill-opacity=\"1\" /><path clip-path=\"url(#clip340)\" d=\"M60.1162 1007.48 L60.1162 1001.62 L95.7642 1001.62 L95.7642 1007.48 L60.1162 1007.48 M46.239 1007.48 L46.239 1001.62 L53.655 1001.62 L53.655 1007.48 L46.239 1007.48 Z\" fill=\"#000000\" fill-rule=\"evenodd\" fill-opacity=\"1\" /><path clip-path=\"url(#clip340)\" d=\"M61.4848 963.713 L66.9593 963.713 Q65.5907 966.196 64.9223 968.71 Q64.2221 971.193 64.2221 973.739 Q64.2221 979.436 67.8505 982.587 Q71.4472 985.738 77.972 985.738 Q84.4969 985.738 88.1253 982.587 Q91.7219 979.436 91.7219 973.739 Q91.7219 971.193 91.0535 968.71 Q90.3533 966.196 88.9847 963.713 L94.3955 963.713 Q95.5414 966.164 96.1143 968.806 Q96.6872 971.416 96.6872 974.376 Q96.6872 982.428 91.6264 987.171 Q86.5657 991.913 77.972 991.913 Q69.251 991.913 64.2539 987.139 Q59.2568 982.333 59.2568 973.994 Q59.2568 971.288 59.8297 968.71 Q60.3708 966.132 61.4848 963.713 Z\" fill=\"#000000\" fill-rule=\"evenodd\" fill-opacity=\"1\" /><path clip-path=\"url(#clip340)\" d=\"M49.9947 947.735 L60.1162 947.735 L60.1162 935.672 L64.6677 935.672 L64.6677 947.735 L84.0194 947.735 Q88.3799 947.735 89.6213 946.558 Q90.8626 945.348 90.8626 941.688 L90.8626 935.672 L95.7642 935.672 L95.7642 941.688 Q95.7642 948.467 93.2497 951.045 Q90.7034 953.623 84.0194 953.623 L64.6677 953.623 L64.6677 957.92 L60.1162 957.92 L60.1162 953.623 L49.9947 953.623 L49.9947 947.735 Z\" fill=\"#000000\" fill-rule=\"evenodd\" fill-opacity=\"1\" /><path clip-path=\"url(#clip340)\" d=\"M76.4761 897.478 L79.3406 897.478 L79.3406 924.405 Q85.3881 924.023 88.5709 920.776 Q91.7219 917.498 91.7219 911.673 Q91.7219 908.3 90.8944 905.149 Q90.0669 901.966 88.4118 898.847 L93.9499 898.847 Q95.2867 901.998 95.987 905.308 Q96.6872 908.618 96.6872 912.024 Q96.6872 920.554 91.7219 925.551 Q86.7567 930.516 78.2903 930.516 Q69.5374 930.516 64.4131 925.805 Q59.2568 921.063 59.2568 913.042 Q59.2568 905.849 63.9038 901.679 Q68.5189 897.478 76.4761 897.478 M74.7573 903.334 Q69.9512 903.398 67.0866 906.04 Q64.2221 908.65 64.2221 912.978 Q64.2221 917.88 66.9912 920.84 Q69.7602 923.768 74.7892 924.214 L74.7573 903.334 Z\" fill=\"#000000\" fill-rule=\"evenodd\" fill-opacity=\"1\" /><path clip-path=\"url(#clip340)\" d=\"M65.5271 864.408 L46.239 864.408 L46.239 858.552 L95.7642 858.552 L95.7642 864.408 L90.417 864.408 Q93.5998 866.254 95.1594 869.087 Q96.6872 871.888 96.6872 875.835 Q96.6872 882.296 91.531 886.37 Q86.3747 890.412 77.972 890.412 Q69.5693 890.412 64.4131 886.37 Q59.2568 882.296 59.2568 875.835 Q59.2568 871.888 60.8164 869.087 Q62.3442 866.254 65.5271 864.408 M77.972 884.365 Q84.4332 884.365 88.1253 881.723 Q91.7856 879.049 91.7856 874.402 Q91.7856 869.755 88.1253 867.082 Q84.4332 864.408 77.972 864.408 Q71.5108 864.408 67.8505 867.082 Q64.1584 869.755 64.1584 874.402 Q64.1584 879.049 67.8505 881.723 Q71.5108 884.365 77.972 884.365 Z\" fill=\"#000000\" fill-rule=\"evenodd\" fill-opacity=\"1\" /><path clip-path=\"url(#clip340)\" d=\"M90.417 820.103 L109.323 820.103 L109.323 825.991 L60.1162 825.991 L60.1162 820.103 L65.5271 820.103 Q62.3442 818.257 60.8164 815.456 Q59.2568 812.623 59.2568 808.708 Q59.2568 802.215 64.4131 798.173 Q69.5693 794.099 77.972 794.099 Q86.3747 794.099 91.531 798.173 Q96.6872 802.215 96.6872 808.708 Q96.6872 812.623 95.1594 815.456 Q93.5998 818.257 90.417 820.103 M77.972 800.178 Q71.5108 800.178 67.8505 802.852 Q64.1584 805.493 64.1584 810.14 Q64.1584 814.787 67.8505 817.461 Q71.5108 820.103 77.972 820.103 Q84.4332 820.103 88.1253 817.461 Q91.7856 814.787 91.7856 810.14 Q91.7856 805.493 88.1253 802.852 Q84.4332 800.178 77.972 800.178 Z\" fill=\"#000000\" fill-rule=\"evenodd\" fill-opacity=\"1\" /><path clip-path=\"url(#clip340)\" d=\"M65.5907 763.734 Q65.0178 764.721 64.7632 765.899 Q64.4767 767.045 64.4767 768.445 Q64.4767 773.41 67.7232 776.084 Q70.9379 778.726 76.9853 778.726 L95.7642 778.726 L95.7642 784.614 L60.1162 784.614 L60.1162 778.726 L65.6544 778.726 Q62.4079 776.88 60.8483 773.92 Q59.2568 770.96 59.2568 766.726 Q59.2568 766.122 59.3523 765.39 Q59.416 764.657 59.5751 763.766 L65.5907 763.734 Z\" fill=\"#000000\" fill-rule=\"evenodd\" fill-opacity=\"1\" /><path clip-path=\"url(#clip340)\" d=\"M60.1162 757.592 L60.1162 751.735 L95.7642 751.735 L95.7642 757.592 L60.1162 757.592 M46.239 757.592 L46.239 751.735 L53.655 751.735 L53.655 757.592 L46.239 757.592 Z\" fill=\"#000000\" fill-rule=\"evenodd\" fill-opacity=\"1\" /><path clip-path=\"url(#clip340)\" d=\"M61.4848 713.827 L66.9593 713.827 Q65.5907 716.31 64.9223 718.824 Q64.2221 721.307 64.2221 723.853 Q64.2221 729.551 67.8505 732.702 Q71.4472 735.853 77.972 735.853 Q84.4969 735.853 88.1253 732.702 Q91.7219 729.551 91.7219 723.853 Q91.7219 721.307 91.0535 718.824 Q90.3533 716.31 88.9847 713.827 L94.3955 713.827 Q95.5414 716.278 96.1143 718.92 Q96.6872 721.53 96.6872 724.49 Q96.6872 732.542 91.6264 737.285 Q86.5657 742.027 77.972 742.027 Q69.251 742.027 64.2539 737.253 Q59.2568 732.447 59.2568 724.108 Q59.2568 721.402 59.8297 718.824 Q60.3708 716.246 61.4848 713.827 Z\" fill=\"#000000\" fill-rule=\"evenodd\" fill-opacity=\"1\" /><path clip-path=\"url(#clip340)\" d=\"M76.4761 673.15 L79.3406 673.15 L79.3406 700.077 Q85.3881 699.695 88.5709 696.449 Q91.7219 693.171 91.7219 687.346 Q91.7219 683.972 90.8944 680.821 Q90.0669 677.638 88.4118 674.519 L93.9499 674.519 Q95.2867 677.67 95.987 680.98 Q96.6872 684.29 96.6872 687.696 Q96.6872 696.226 91.7219 701.223 Q86.7567 706.188 78.2903 706.188 Q69.5374 706.188 64.4131 701.478 Q59.2568 696.735 59.2568 688.715 Q59.2568 681.521 63.9038 677.352 Q68.5189 673.15 76.4761 673.15 M74.7573 679.007 Q69.9512 679.071 67.0866 681.712 Q64.2221 684.322 64.2221 688.651 Q64.2221 693.553 66.9912 696.513 Q69.7602 699.441 74.7892 699.886 L74.7573 679.007 Z\" fill=\"#000000\" fill-rule=\"evenodd\" fill-opacity=\"1\" /><circle clip-path=\"url(#clip342)\" cx=\"456.445\" cy=\"1439.22\" r=\"14\" fill=\"#009af9\" fill-rule=\"evenodd\" fill-opacity=\"1\" stroke=\"#000000\" stroke-opacity=\"1\" stroke-width=\"4\"/>\n",
       "<circle clip-path=\"url(#clip342)\" cx=\"465.001\" cy=\"1414.04\" r=\"14\" fill=\"#009af9\" fill-rule=\"evenodd\" fill-opacity=\"1\" stroke=\"#000000\" stroke-opacity=\"1\" stroke-width=\"4\"/>\n",
       "<circle clip-path=\"url(#clip342)\" cx=\"467.913\" cy=\"1490.31\" r=\"14\" fill=\"#009af9\" fill-rule=\"evenodd\" fill-opacity=\"1\" stroke=\"#000000\" stroke-opacity=\"1\" stroke-width=\"4\"/>\n",
       "<circle clip-path=\"url(#clip342)\" cx=\"480.52\" cy=\"1368.03\" r=\"14\" fill=\"#009af9\" fill-rule=\"evenodd\" fill-opacity=\"1\" stroke=\"#000000\" stroke-opacity=\"1\" stroke-width=\"4\"/>\n",
       "<circle clip-path=\"url(#clip342)\" cx=\"483.177\" cy=\"1454.59\" r=\"14\" fill=\"#009af9\" fill-rule=\"evenodd\" fill-opacity=\"1\" stroke=\"#000000\" stroke-opacity=\"1\" stroke-width=\"4\"/>\n",
       "<circle clip-path=\"url(#clip342)\" cx=\"485.826\" cy=\"1413.15\" r=\"14\" fill=\"#009af9\" fill-rule=\"evenodd\" fill-opacity=\"1\" stroke=\"#000000\" stroke-opacity=\"1\" stroke-width=\"4\"/>\n",
       "<circle clip-path=\"url(#clip342)\" cx=\"489.964\" cy=\"1377.11\" r=\"14\" fill=\"#009af9\" fill-rule=\"evenodd\" fill-opacity=\"1\" stroke=\"#000000\" stroke-opacity=\"1\" stroke-width=\"4\"/>\n",
       "<circle clip-path=\"url(#clip342)\" cx=\"495.403\" cy=\"1470.43\" r=\"14\" fill=\"#009af9\" fill-rule=\"evenodd\" fill-opacity=\"1\" stroke=\"#000000\" stroke-opacity=\"1\" stroke-width=\"4\"/>\n",
       "<circle clip-path=\"url(#clip342)\" cx=\"501.742\" cy=\"1486.2\" r=\"14\" fill=\"#009af9\" fill-rule=\"evenodd\" fill-opacity=\"1\" stroke=\"#000000\" stroke-opacity=\"1\" stroke-width=\"4\"/>\n",
       "<circle clip-path=\"url(#clip342)\" cx=\"509.7\" cy=\"1552.81\" r=\"14\" fill=\"#009af9\" fill-rule=\"evenodd\" fill-opacity=\"1\" stroke=\"#000000\" stroke-opacity=\"1\" stroke-width=\"4\"/>\n",
       "<circle clip-path=\"url(#clip342)\" cx=\"513.159\" cy=\"1346.47\" r=\"14\" fill=\"#009af9\" fill-rule=\"evenodd\" fill-opacity=\"1\" stroke=\"#000000\" stroke-opacity=\"1\" stroke-width=\"4\"/>\n",
       "<circle clip-path=\"url(#clip342)\" cx=\"513.944\" cy=\"1423.05\" r=\"14\" fill=\"#009af9\" fill-rule=\"evenodd\" fill-opacity=\"1\" stroke=\"#000000\" stroke-opacity=\"1\" stroke-width=\"4\"/>\n",
       "<circle clip-path=\"url(#clip342)\" cx=\"515.391\" cy=\"1395.95\" r=\"14\" fill=\"#009af9\" fill-rule=\"evenodd\" fill-opacity=\"1\" stroke=\"#000000\" stroke-opacity=\"1\" stroke-width=\"4\"/>\n",
       "<circle clip-path=\"url(#clip342)\" cx=\"516.066\" cy=\"1424.59\" r=\"14\" fill=\"#009af9\" fill-rule=\"evenodd\" fill-opacity=\"1\" stroke=\"#000000\" stroke-opacity=\"1\" stroke-width=\"4\"/>\n",
       "<circle clip-path=\"url(#clip342)\" cx=\"518.401\" cy=\"1267.63\" r=\"14\" fill=\"#009af9\" fill-rule=\"evenodd\" fill-opacity=\"1\" stroke=\"#000000\" stroke-opacity=\"1\" stroke-width=\"4\"/>\n",
       "<circle clip-path=\"url(#clip342)\" cx=\"520.311\" cy=\"1492.88\" r=\"14\" fill=\"#009af9\" fill-rule=\"evenodd\" fill-opacity=\"1\" stroke=\"#000000\" stroke-opacity=\"1\" stroke-width=\"4\"/>\n",
       "<circle clip-path=\"url(#clip342)\" cx=\"523.791\" cy=\"1432.71\" r=\"14\" fill=\"#009af9\" fill-rule=\"evenodd\" fill-opacity=\"1\" stroke=\"#000000\" stroke-opacity=\"1\" stroke-width=\"4\"/>\n",
       "<circle clip-path=\"url(#clip342)\" cx=\"525.151\" cy=\"1472.93\" r=\"14\" fill=\"#009af9\" fill-rule=\"evenodd\" fill-opacity=\"1\" stroke=\"#000000\" stroke-opacity=\"1\" stroke-width=\"4\"/>\n",
       "<circle clip-path=\"url(#clip342)\" cx=\"528.799\" cy=\"1422.73\" r=\"14\" fill=\"#009af9\" fill-rule=\"evenodd\" fill-opacity=\"1\" stroke=\"#000000\" stroke-opacity=\"1\" stroke-width=\"4\"/>\n",
       "<circle clip-path=\"url(#clip342)\" cx=\"533.468\" cy=\"1379.54\" r=\"14\" fill=\"#009af9\" fill-rule=\"evenodd\" fill-opacity=\"1\" stroke=\"#000000\" stroke-opacity=\"1\" stroke-width=\"4\"/>\n",
       "<circle clip-path=\"url(#clip342)\" cx=\"535.166\" cy=\"1381.22\" r=\"14\" fill=\"#009af9\" fill-rule=\"evenodd\" fill-opacity=\"1\" stroke=\"#000000\" stroke-opacity=\"1\" stroke-width=\"4\"/>\n",
       "<circle clip-path=\"url(#clip342)\" cx=\"537.288\" cy=\"1407.68\" r=\"14\" fill=\"#009af9\" fill-rule=\"evenodd\" fill-opacity=\"1\" stroke=\"#000000\" stroke-opacity=\"1\" stroke-width=\"4\"/>\n",
       "<circle clip-path=\"url(#clip342)\" cx=\"540.588\" cy=\"1412.11\" r=\"14\" fill=\"#009af9\" fill-rule=\"evenodd\" fill-opacity=\"1\" stroke=\"#000000\" stroke-opacity=\"1\" stroke-width=\"4\"/>\n",
       "<circle clip-path=\"url(#clip342)\" cx=\"544.715\" cy=\"1338.75\" r=\"14\" fill=\"#009af9\" fill-rule=\"evenodd\" fill-opacity=\"1\" stroke=\"#000000\" stroke-opacity=\"1\" stroke-width=\"4\"/>\n",
       "<circle clip-path=\"url(#clip342)\" cx=\"549.49\" cy=\"1423.7\" r=\"14\" fill=\"#009af9\" fill-rule=\"evenodd\" fill-opacity=\"1\" stroke=\"#000000\" stroke-opacity=\"1\" stroke-width=\"4\"/>\n",
       "<circle clip-path=\"url(#clip342)\" cx=\"554.265\" cy=\"1407.68\" r=\"14\" fill=\"#009af9\" fill-rule=\"evenodd\" fill-opacity=\"1\" stroke=\"#000000\" stroke-opacity=\"1\" stroke-width=\"4\"/>\n",
       "<circle clip-path=\"url(#clip342)\" cx=\"565.406\" cy=\"1326.52\" r=\"14\" fill=\"#009af9\" fill-rule=\"evenodd\" fill-opacity=\"1\" stroke=\"#000000\" stroke-opacity=\"1\" stroke-width=\"4\"/>\n",
       "<circle clip-path=\"url(#clip342)\" cx=\"567.651\" cy=\"1434.64\" r=\"14\" fill=\"#009af9\" fill-rule=\"evenodd\" fill-opacity=\"1\" stroke=\"#000000\" stroke-opacity=\"1\" stroke-width=\"4\"/>\n",
       "<circle clip-path=\"url(#clip342)\" cx=\"570.711\" cy=\"1349.93\" r=\"14\" fill=\"#009af9\" fill-rule=\"evenodd\" fill-opacity=\"1\" stroke=\"#000000\" stroke-opacity=\"1\" stroke-width=\"4\"/>\n",
       "<circle clip-path=\"url(#clip342)\" cx=\"572.5\" cy=\"1454.84\" r=\"14\" fill=\"#009af9\" fill-rule=\"evenodd\" fill-opacity=\"1\" stroke=\"#000000\" stroke-opacity=\"1\" stroke-width=\"4\"/>\n",
       "<circle clip-path=\"url(#clip342)\" cx=\"573.364\" cy=\"1456.67\" r=\"14\" fill=\"#009af9\" fill-rule=\"evenodd\" fill-opacity=\"1\" stroke=\"#000000\" stroke-opacity=\"1\" stroke-width=\"4\"/>\n",
       "<circle clip-path=\"url(#clip342)\" cx=\"577.608\" cy=\"1322.41\" r=\"14\" fill=\"#009af9\" fill-rule=\"evenodd\" fill-opacity=\"1\" stroke=\"#000000\" stroke-opacity=\"1\" stroke-width=\"4\"/>\n",
       "<circle clip-path=\"url(#clip342)\" cx=\"581.853\" cy=\"1394.42\" r=\"14\" fill=\"#009af9\" fill-rule=\"evenodd\" fill-opacity=\"1\" stroke=\"#000000\" stroke-opacity=\"1\" stroke-width=\"4\"/>\n",
       "<circle clip-path=\"url(#clip342)\" cx=\"587.998\" cy=\"1443.01\" r=\"14\" fill=\"#009af9\" fill-rule=\"evenodd\" fill-opacity=\"1\" stroke=\"#000000\" stroke-opacity=\"1\" stroke-width=\"4\"/>\n",
       "<circle clip-path=\"url(#clip342)\" cx=\"597.238\" cy=\"1406.4\" r=\"14\" fill=\"#009af9\" fill-rule=\"evenodd\" fill-opacity=\"1\" stroke=\"#000000\" stroke-opacity=\"1\" stroke-width=\"4\"/>\n",
       "<circle clip-path=\"url(#clip342)\" cx=\"597.769\" cy=\"1312.93\" r=\"14\" fill=\"#009af9\" fill-rule=\"evenodd\" fill-opacity=\"1\" stroke=\"#000000\" stroke-opacity=\"1\" stroke-width=\"4\"/>\n",
       "<circle clip-path=\"url(#clip342)\" cx=\"603.074\" cy=\"1463.2\" r=\"14\" fill=\"#009af9\" fill-rule=\"evenodd\" fill-opacity=\"1\" stroke=\"#000000\" stroke-opacity=\"1\" stroke-width=\"4\"/>\n",
       "<circle clip-path=\"url(#clip342)\" cx=\"605.196\" cy=\"1315.18\" r=\"14\" fill=\"#009af9\" fill-rule=\"evenodd\" fill-opacity=\"1\" stroke=\"#000000\" stroke-opacity=\"1\" stroke-width=\"4\"/>\n",
       "<circle clip-path=\"url(#clip342)\" cx=\"608.076\" cy=\"1194.51\" r=\"14\" fill=\"#009af9\" fill-rule=\"evenodd\" fill-opacity=\"1\" stroke=\"#000000\" stroke-opacity=\"1\" stroke-width=\"4\"/>\n",
       "<circle clip-path=\"url(#clip342)\" cx=\"608.076\" cy=\"1290.73\" r=\"14\" fill=\"#009af9\" fill-rule=\"evenodd\" fill-opacity=\"1\" stroke=\"#000000\" stroke-opacity=\"1\" stroke-width=\"4\"/>\n",
       "<circle clip-path=\"url(#clip342)\" cx=\"611.563\" cy=\"1307.53\" r=\"14\" fill=\"#009af9\" fill-rule=\"evenodd\" fill-opacity=\"1\" stroke=\"#000000\" stroke-opacity=\"1\" stroke-width=\"4\"/>\n",
       "<circle clip-path=\"url(#clip342)\" cx=\"615.807\" cy=\"1400.53\" r=\"14\" fill=\"#009af9\" fill-rule=\"evenodd\" fill-opacity=\"1\" stroke=\"#000000\" stroke-opacity=\"1\" stroke-width=\"4\"/>\n",
       "<circle clip-path=\"url(#clip342)\" cx=\"622.173\" cy=\"1311.96\" r=\"14\" fill=\"#009af9\" fill-rule=\"evenodd\" fill-opacity=\"1\" stroke=\"#000000\" stroke-opacity=\"1\" stroke-width=\"4\"/>\n",
       "<circle clip-path=\"url(#clip342)\" cx=\"624.826\" cy=\"1312.04\" r=\"14\" fill=\"#009af9\" fill-rule=\"evenodd\" fill-opacity=\"1\" stroke=\"#000000\" stroke-opacity=\"1\" stroke-width=\"4\"/>\n",
       "<circle clip-path=\"url(#clip342)\" cx=\"624.96\" cy=\"1272.06\" r=\"14\" fill=\"#009af9\" fill-rule=\"evenodd\" fill-opacity=\"1\" stroke=\"#000000\" stroke-opacity=\"1\" stroke-width=\"4\"/>\n",
       "<circle clip-path=\"url(#clip342)\" cx=\"633.803\" cy=\"1401.5\" r=\"14\" fill=\"#009af9\" fill-rule=\"evenodd\" fill-opacity=\"1\" stroke=\"#000000\" stroke-opacity=\"1\" stroke-width=\"4\"/>\n",
       "<circle clip-path=\"url(#clip342)\" cx=\"634.397\" cy=\"1330.38\" r=\"14\" fill=\"#009af9\" fill-rule=\"evenodd\" fill-opacity=\"1\" stroke=\"#000000\" stroke-opacity=\"1\" stroke-width=\"4\"/>\n",
       "<circle clip-path=\"url(#clip342)\" cx=\"639.15\" cy=\"1405.68\" r=\"14\" fill=\"#009af9\" fill-rule=\"evenodd\" fill-opacity=\"1\" stroke=\"#000000\" stroke-opacity=\"1\" stroke-width=\"4\"/>\n",
       "<circle clip-path=\"url(#clip342)\" cx=\"641.001\" cy=\"1412.11\" r=\"14\" fill=\"#009af9\" fill-rule=\"evenodd\" fill-opacity=\"1\" stroke=\"#000000\" stroke-opacity=\"1\" stroke-width=\"4\"/>\n",
       "<circle clip-path=\"url(#clip342)\" cx=\"642.518\" cy=\"1227.98\" r=\"14\" fill=\"#009af9\" fill-rule=\"evenodd\" fill-opacity=\"1\" stroke=\"#000000\" stroke-opacity=\"1\" stroke-width=\"4\"/>\n",
       "<circle clip-path=\"url(#clip342)\" cx=\"642.792\" cy=\"1391.84\" r=\"14\" fill=\"#009af9\" fill-rule=\"evenodd\" fill-opacity=\"1\" stroke=\"#000000\" stroke-opacity=\"1\" stroke-width=\"4\"/>\n",
       "<circle clip-path=\"url(#clip342)\" cx=\"642.864\" cy=\"1419.19\" r=\"14\" fill=\"#009af9\" fill-rule=\"evenodd\" fill-opacity=\"1\" stroke=\"#000000\" stroke-opacity=\"1\" stroke-width=\"4\"/>\n",
       "<circle clip-path=\"url(#clip342)\" cx=\"643.819\" cy=\"1307.78\" r=\"14\" fill=\"#009af9\" fill-rule=\"evenodd\" fill-opacity=\"1\" stroke=\"#000000\" stroke-opacity=\"1\" stroke-width=\"4\"/>\n",
       "<circle clip-path=\"url(#clip342)\" cx=\"655.578\" cy=\"1306.89\" r=\"14\" fill=\"#009af9\" fill-rule=\"evenodd\" fill-opacity=\"1\" stroke=\"#000000\" stroke-opacity=\"1\" stroke-width=\"4\"/>\n",
       "<circle clip-path=\"url(#clip342)\" cx=\"656.128\" cy=\"1325.88\" r=\"14\" fill=\"#009af9\" fill-rule=\"evenodd\" fill-opacity=\"1\" stroke=\"#000000\" stroke-opacity=\"1\" stroke-width=\"4\"/>\n",
       "<circle clip-path=\"url(#clip342)\" cx=\"662.636\" cy=\"1370.93\" r=\"14\" fill=\"#009af9\" fill-rule=\"evenodd\" fill-opacity=\"1\" stroke=\"#000000\" stroke-opacity=\"1\" stroke-width=\"4\"/>\n",
       "<circle clip-path=\"url(#clip342)\" cx=\"666.738\" cy=\"1272.46\" r=\"14\" fill=\"#009af9\" fill-rule=\"evenodd\" fill-opacity=\"1\" stroke=\"#000000\" stroke-opacity=\"1\" stroke-width=\"4\"/>\n",
       "<circle clip-path=\"url(#clip342)\" cx=\"668.474\" cy=\"1344.54\" r=\"14\" fill=\"#009af9\" fill-rule=\"evenodd\" fill-opacity=\"1\" stroke=\"#000000\" stroke-opacity=\"1\" stroke-width=\"4\"/>\n",
       "<circle clip-path=\"url(#clip342)\" cx=\"675.227\" cy=\"1375.43\" r=\"14\" fill=\"#009af9\" fill-rule=\"evenodd\" fill-opacity=\"1\" stroke=\"#000000\" stroke-opacity=\"1\" stroke-width=\"4\"/>\n",
       "<circle clip-path=\"url(#clip342)\" cx=\"678.41\" cy=\"1271.74\" r=\"14\" fill=\"#009af9\" fill-rule=\"evenodd\" fill-opacity=\"1\" stroke=\"#000000\" stroke-opacity=\"1\" stroke-width=\"4\"/>\n",
       "<circle clip-path=\"url(#clip342)\" cx=\"679.471\" cy=\"1197.16\" r=\"14\" fill=\"#009af9\" fill-rule=\"evenodd\" fill-opacity=\"1\" stroke=\"#000000\" stroke-opacity=\"1\" stroke-width=\"4\"/>\n",
       "<circle clip-path=\"url(#clip342)\" cx=\"679.471\" cy=\"1481.62\" r=\"14\" fill=\"#009af9\" fill-rule=\"evenodd\" fill-opacity=\"1\" stroke=\"#000000\" stroke-opacity=\"1\" stroke-width=\"4\"/>\n",
       "<circle clip-path=\"url(#clip342)\" cx=\"696.448\" cy=\"1296.59\" r=\"14\" fill=\"#009af9\" fill-rule=\"evenodd\" fill-opacity=\"1\" stroke=\"#000000\" stroke-opacity=\"1\" stroke-width=\"4\"/>\n",
       "<circle clip-path=\"url(#clip342)\" cx=\"706.77\" cy=\"1311.96\" r=\"14\" fill=\"#009af9\" fill-rule=\"evenodd\" fill-opacity=\"1\" stroke=\"#000000\" stroke-opacity=\"1\" stroke-width=\"4\"/>\n",
       "<circle clip-path=\"url(#clip342)\" cx=\"724.036\" cy=\"1310.03\" r=\"14\" fill=\"#009af9\" fill-rule=\"evenodd\" fill-opacity=\"1\" stroke=\"#000000\" stroke-opacity=\"1\" stroke-width=\"4\"/>\n",
       "<circle clip-path=\"url(#clip342)\" cx=\"724.036\" cy=\"1310.51\" r=\"14\" fill=\"#009af9\" fill-rule=\"evenodd\" fill-opacity=\"1\" stroke=\"#000000\" stroke-opacity=\"1\" stroke-width=\"4\"/>\n",
       "<circle clip-path=\"url(#clip342)\" cx=\"728.403\" cy=\"1177.06\" r=\"14\" fill=\"#009af9\" fill-rule=\"evenodd\" fill-opacity=\"1\" stroke=\"#000000\" stroke-opacity=\"1\" stroke-width=\"4\"/>\n",
       "<circle clip-path=\"url(#clip342)\" cx=\"738.651\" cy=\"1303.6\" r=\"14\" fill=\"#009af9\" fill-rule=\"evenodd\" fill-opacity=\"1\" stroke=\"#000000\" stroke-opacity=\"1\" stroke-width=\"4\"/>\n",
       "<circle clip-path=\"url(#clip342)\" cx=\"746.27\" cy=\"1307.21\" r=\"14\" fill=\"#009af9\" fill-rule=\"evenodd\" fill-opacity=\"1\" stroke=\"#000000\" stroke-opacity=\"1\" stroke-width=\"4\"/>\n",
       "<circle clip-path=\"url(#clip342)\" cx=\"753.103\" cy=\"1368.67\" r=\"14\" fill=\"#009af9\" fill-rule=\"evenodd\" fill-opacity=\"1\" stroke=\"#000000\" stroke-opacity=\"1\" stroke-width=\"4\"/>\n",
       "<circle clip-path=\"url(#clip342)\" cx=\"753.746\" cy=\"1412.68\" r=\"14\" fill=\"#009af9\" fill-rule=\"evenodd\" fill-opacity=\"1\" stroke=\"#000000\" stroke-opacity=\"1\" stroke-width=\"4\"/>\n",
       "<circle clip-path=\"url(#clip342)\" cx=\"755.868\" cy=\"1357.66\" r=\"14\" fill=\"#009af9\" fill-rule=\"evenodd\" fill-opacity=\"1\" stroke=\"#000000\" stroke-opacity=\"1\" stroke-width=\"4\"/>\n",
       "<circle clip-path=\"url(#clip342)\" cx=\"757.322\" cy=\"1104.41\" r=\"14\" fill=\"#009af9\" fill-rule=\"evenodd\" fill-opacity=\"1\" stroke=\"#000000\" stroke-opacity=\"1\" stroke-width=\"4\"/>\n",
       "<circle clip-path=\"url(#clip342)\" cx=\"759.688\" cy=\"1109.31\" r=\"14\" fill=\"#009af9\" fill-rule=\"evenodd\" fill-opacity=\"1\" stroke=\"#000000\" stroke-opacity=\"1\" stroke-width=\"4\"/>\n",
       "<circle clip-path=\"url(#clip342)\" cx=\"764.616\" cy=\"1398.92\" r=\"14\" fill=\"#009af9\" fill-rule=\"evenodd\" fill-opacity=\"1\" stroke=\"#000000\" stroke-opacity=\"1\" stroke-width=\"4\"/>\n",
       "<circle clip-path=\"url(#clip342)\" cx=\"769.955\" cy=\"1086.79\" r=\"14\" fill=\"#009af9\" fill-rule=\"evenodd\" fill-opacity=\"1\" stroke=\"#000000\" stroke-opacity=\"1\" stroke-width=\"4\"/>\n",
       "<circle clip-path=\"url(#clip342)\" cx=\"772.845\" cy=\"1374.47\" r=\"14\" fill=\"#009af9\" fill-rule=\"evenodd\" fill-opacity=\"1\" stroke=\"#000000\" stroke-opacity=\"1\" stroke-width=\"4\"/>\n",
       "<circle clip-path=\"url(#clip342)\" cx=\"774.883\" cy=\"1474.54\" r=\"14\" fill=\"#009af9\" fill-rule=\"evenodd\" fill-opacity=\"1\" stroke=\"#000000\" stroke-opacity=\"1\" stroke-width=\"4\"/>\n",
       "<circle clip-path=\"url(#clip342)\" cx=\"776.916\" cy=\"1057.36\" r=\"14\" fill=\"#009af9\" fill-rule=\"evenodd\" fill-opacity=\"1\" stroke=\"#000000\" stroke-opacity=\"1\" stroke-width=\"4\"/>\n",
       "<circle clip-path=\"url(#clip342)\" cx=\"785.578\" cy=\"1362.88\" r=\"14\" fill=\"#009af9\" fill-rule=\"evenodd\" fill-opacity=\"1\" stroke=\"#000000\" stroke-opacity=\"1\" stroke-width=\"4\"/>\n",
       "<circle clip-path=\"url(#clip342)\" cx=\"785.578\" cy=\"1311.64\" r=\"14\" fill=\"#009af9\" fill-rule=\"evenodd\" fill-opacity=\"1\" stroke=\"#000000\" stroke-opacity=\"1\" stroke-width=\"4\"/>\n",
       "<circle clip-path=\"url(#clip342)\" cx=\"785.863\" cy=\"1315.33\" r=\"14\" fill=\"#009af9\" fill-rule=\"evenodd\" fill-opacity=\"1\" stroke=\"#000000\" stroke-opacity=\"1\" stroke-width=\"4\"/>\n",
       "<circle clip-path=\"url(#clip342)\" cx=\"794.491\" cy=\"1189.76\" r=\"14\" fill=\"#009af9\" fill-rule=\"evenodd\" fill-opacity=\"1\" stroke=\"#000000\" stroke-opacity=\"1\" stroke-width=\"4\"/>\n",
       "<circle clip-path=\"url(#clip342)\" cx=\"794.491\" cy=\"1205.45\" r=\"14\" fill=\"#009af9\" fill-rule=\"evenodd\" fill-opacity=\"1\" stroke=\"#000000\" stroke-opacity=\"1\" stroke-width=\"4\"/>\n",
       "<circle clip-path=\"url(#clip342)\" cx=\"802.555\" cy=\"966.614\" r=\"14\" fill=\"#009af9\" fill-rule=\"evenodd\" fill-opacity=\"1\" stroke=\"#000000\" stroke-opacity=\"1\" stroke-width=\"4\"/>\n",
       "<circle clip-path=\"url(#clip342)\" cx=\"806.8\" cy=\"1286.94\" r=\"14\" fill=\"#009af9\" fill-rule=\"evenodd\" fill-opacity=\"1\" stroke=\"#000000\" stroke-opacity=\"1\" stroke-width=\"4\"/>\n",
       "<circle clip-path=\"url(#clip342)\" cx=\"806.829\" cy=\"1455.23\" r=\"14\" fill=\"#009af9\" fill-rule=\"evenodd\" fill-opacity=\"1\" stroke=\"#000000\" stroke-opacity=\"1\" stroke-width=\"4\"/>\n",
       "<circle clip-path=\"url(#clip342)\" cx=\"817.41\" cy=\"1244.79\" r=\"14\" fill=\"#009af9\" fill-rule=\"evenodd\" fill-opacity=\"1\" stroke=\"#000000\" stroke-opacity=\"1\" stroke-width=\"4\"/>\n",
       "<circle clip-path=\"url(#clip342)\" cx=\"831.718\" cy=\"1469.07\" r=\"14\" fill=\"#009af9\" fill-rule=\"evenodd\" fill-opacity=\"1\" stroke=\"#000000\" stroke-opacity=\"1\" stroke-width=\"4\"/>\n",
       "<circle clip-path=\"url(#clip342)\" cx=\"835.979\" cy=\"1060.33\" r=\"14\" fill=\"#009af9\" fill-rule=\"evenodd\" fill-opacity=\"1\" stroke=\"#000000\" stroke-opacity=\"1\" stroke-width=\"4\"/>\n",
       "<circle clip-path=\"url(#clip342)\" cx=\"838.814\" cy=\"1317.51\" r=\"14\" fill=\"#009af9\" fill-rule=\"evenodd\" fill-opacity=\"1\" stroke=\"#000000\" stroke-opacity=\"1\" stroke-width=\"4\"/>\n",
       "<circle clip-path=\"url(#clip342)\" cx=\"851.337\" cy=\"855.352\" r=\"14\" fill=\"#009af9\" fill-rule=\"evenodd\" fill-opacity=\"1\" stroke=\"#000000\" stroke-opacity=\"1\" stroke-width=\"4\"/>\n",
       "<circle clip-path=\"url(#clip342)\" cx=\"859.853\" cy=\"1162.01\" r=\"14\" fill=\"#009af9\" fill-rule=\"evenodd\" fill-opacity=\"1\" stroke=\"#000000\" stroke-opacity=\"1\" stroke-width=\"4\"/>\n",
       "<circle clip-path=\"url(#clip342)\" cx=\"864.982\" cy=\"1182.28\" r=\"14\" fill=\"#009af9\" fill-rule=\"evenodd\" fill-opacity=\"1\" stroke=\"#000000\" stroke-opacity=\"1\" stroke-width=\"4\"/>\n",
       "<circle clip-path=\"url(#clip342)\" cx=\"872.586\" cy=\"1185.26\" r=\"14\" fill=\"#009af9\" fill-rule=\"evenodd\" fill-opacity=\"1\" stroke=\"#000000\" stroke-opacity=\"1\" stroke-width=\"4\"/>\n",
       "<circle clip-path=\"url(#clip342)\" cx=\"874.759\" cy=\"1379.69\" r=\"14\" fill=\"#009af9\" fill-rule=\"evenodd\" fill-opacity=\"1\" stroke=\"#000000\" stroke-opacity=\"1\" stroke-width=\"4\"/>\n",
       "<circle clip-path=\"url(#clip342)\" cx=\"885.319\" cy=\"1061.86\" r=\"14\" fill=\"#009af9\" fill-rule=\"evenodd\" fill-opacity=\"1\" stroke=\"#000000\" stroke-opacity=\"1\" stroke-width=\"4\"/>\n",
       "<circle clip-path=\"url(#clip342)\" cx=\"887.441\" cy=\"1189.76\" r=\"14\" fill=\"#009af9\" fill-rule=\"evenodd\" fill-opacity=\"1\" stroke=\"#000000\" stroke-opacity=\"1\" stroke-width=\"4\"/>\n",
       "<circle clip-path=\"url(#clip342)\" cx=\"889.563\" cy=\"1252.91\" r=\"14\" fill=\"#009af9\" fill-rule=\"evenodd\" fill-opacity=\"1\" stroke=\"#000000\" stroke-opacity=\"1\" stroke-width=\"4\"/>\n",
       "<circle clip-path=\"url(#clip342)\" cx=\"900.252\" cy=\"963.396\" r=\"14\" fill=\"#009af9\" fill-rule=\"evenodd\" fill-opacity=\"1\" stroke=\"#000000\" stroke-opacity=\"1\" stroke-width=\"4\"/>\n",
       "<circle clip-path=\"url(#clip342)\" cx=\"915.029\" cy=\"1080.6\" r=\"14\" fill=\"#009af9\" fill-rule=\"evenodd\" fill-opacity=\"1\" stroke=\"#000000\" stroke-opacity=\"1\" stroke-width=\"4\"/>\n",
       "<circle clip-path=\"url(#clip342)\" cx=\"924.657\" cy=\"1102.73\" r=\"14\" fill=\"#009af9\" fill-rule=\"evenodd\" fill-opacity=\"1\" stroke=\"#000000\" stroke-opacity=\"1\" stroke-width=\"4\"/>\n",
       "<circle clip-path=\"url(#clip342)\" cx=\"934.128\" cy=\"732.999\" r=\"14\" fill=\"#009af9\" fill-rule=\"evenodd\" fill-opacity=\"1\" stroke=\"#000000\" stroke-opacity=\"1\" stroke-width=\"4\"/>\n",
       "<circle clip-path=\"url(#clip342)\" cx=\"951.869\" cy=\"1207.71\" r=\"14\" fill=\"#009af9\" fill-rule=\"evenodd\" fill-opacity=\"1\" stroke=\"#000000\" stroke-opacity=\"1\" stroke-width=\"4\"/>\n",
       "<circle clip-path=\"url(#clip342)\" cx=\"964.156\" cy=\"1198.2\" r=\"14\" fill=\"#009af9\" fill-rule=\"evenodd\" fill-opacity=\"1\" stroke=\"#000000\" stroke-opacity=\"1\" stroke-width=\"4\"/>\n",
       "<circle clip-path=\"url(#clip342)\" cx=\"967.552\" cy=\"905.947\" r=\"14\" fill=\"#009af9\" fill-rule=\"evenodd\" fill-opacity=\"1\" stroke=\"#000000\" stroke-opacity=\"1\" stroke-width=\"4\"/>\n",
       "<circle clip-path=\"url(#clip342)\" cx=\"967.552\" cy=\"1066.12\" r=\"14\" fill=\"#009af9\" fill-rule=\"evenodd\" fill-opacity=\"1\" stroke=\"#000000\" stroke-opacity=\"1\" stroke-width=\"4\"/>\n",
       "<circle clip-path=\"url(#clip342)\" cx=\"985.59\" cy=\"1079.71\" r=\"14\" fill=\"#009af9\" fill-rule=\"evenodd\" fill-opacity=\"1\" stroke=\"#000000\" stroke-opacity=\"1\" stroke-width=\"4\"/>\n",
       "<circle clip-path=\"url(#clip342)\" cx=\"989.749\" cy=\"1244.07\" r=\"14\" fill=\"#009af9\" fill-rule=\"evenodd\" fill-opacity=\"1\" stroke=\"#000000\" stroke-opacity=\"1\" stroke-width=\"4\"/>\n",
       "<circle clip-path=\"url(#clip342)\" cx=\"991.487\" cy=\"1151.79\" r=\"14\" fill=\"#009af9\" fill-rule=\"evenodd\" fill-opacity=\"1\" stroke=\"#000000\" stroke-opacity=\"1\" stroke-width=\"4\"/>\n",
       "<circle clip-path=\"url(#clip342)\" cx=\"992.805\" cy=\"815.129\" r=\"14\" fill=\"#009af9\" fill-rule=\"evenodd\" fill-opacity=\"1\" stroke=\"#000000\" stroke-opacity=\"1\" stroke-width=\"4\"/>\n",
       "<circle clip-path=\"url(#clip342)\" cx=\"1000.55\" cy=\"1207.38\" r=\"14\" fill=\"#009af9\" fill-rule=\"evenodd\" fill-opacity=\"1\" stroke=\"#000000\" stroke-opacity=\"1\" stroke-width=\"4\"/>\n",
       "<circle clip-path=\"url(#clip342)\" cx=\"1041.3\" cy=\"943.843\" r=\"14\" fill=\"#009af9\" fill-rule=\"evenodd\" fill-opacity=\"1\" stroke=\"#000000\" stroke-opacity=\"1\" stroke-width=\"4\"/>\n",
       "<circle clip-path=\"url(#clip342)\" cx=\"1044.48\" cy=\"1103.84\" r=\"14\" fill=\"#009af9\" fill-rule=\"evenodd\" fill-opacity=\"1\" stroke=\"#000000\" stroke-opacity=\"1\" stroke-width=\"4\"/>\n",
       "<circle clip-path=\"url(#clip342)\" cx=\"1050.85\" cy=\"846.267\" r=\"14\" fill=\"#009af9\" fill-rule=\"evenodd\" fill-opacity=\"1\" stroke=\"#000000\" stroke-opacity=\"1\" stroke-width=\"4\"/>\n",
       "<circle clip-path=\"url(#clip342)\" cx=\"1064.22\" cy=\"706.291\" r=\"14\" fill=\"#009af9\" fill-rule=\"evenodd\" fill-opacity=\"1\" stroke=\"#000000\" stroke-opacity=\"1\" stroke-width=\"4\"/>\n",
       "<circle clip-path=\"url(#clip342)\" cx=\"1065.58\" cy=\"1162.66\" r=\"14\" fill=\"#009af9\" fill-rule=\"evenodd\" fill-opacity=\"1\" stroke=\"#000000\" stroke-opacity=\"1\" stroke-width=\"4\"/>\n",
       "<circle clip-path=\"url(#clip342)\" cx=\"1077.86\" cy=\"1234.74\" r=\"14\" fill=\"#009af9\" fill-rule=\"evenodd\" fill-opacity=\"1\" stroke=\"#000000\" stroke-opacity=\"1\" stroke-width=\"4\"/>\n",
       "<circle clip-path=\"url(#clip342)\" cx=\"1084.8\" cy=\"1259.27\" r=\"14\" fill=\"#009af9\" fill-rule=\"evenodd\" fill-opacity=\"1\" stroke=\"#000000\" stroke-opacity=\"1\" stroke-width=\"4\"/>\n",
       "<circle clip-path=\"url(#clip342)\" cx=\"1092.16\" cy=\"716.663\" r=\"14\" fill=\"#009af9\" fill-rule=\"evenodd\" fill-opacity=\"1\" stroke=\"#000000\" stroke-opacity=\"1\" stroke-width=\"4\"/>\n",
       "<circle clip-path=\"url(#clip342)\" cx=\"1093.29\" cy=\"867.011\" r=\"14\" fill=\"#009af9\" fill-rule=\"evenodd\" fill-opacity=\"1\" stroke=\"#000000\" stroke-opacity=\"1\" stroke-width=\"4\"/>\n",
       "<circle clip-path=\"url(#clip342)\" cx=\"1104.29\" cy=\"1064.51\" r=\"14\" fill=\"#009af9\" fill-rule=\"evenodd\" fill-opacity=\"1\" stroke=\"#000000\" stroke-opacity=\"1\" stroke-width=\"4\"/>\n",
       "<circle clip-path=\"url(#clip342)\" cx=\"1135.73\" cy=\"1122.51\" r=\"14\" fill=\"#009af9\" fill-rule=\"evenodd\" fill-opacity=\"1\" stroke=\"#000000\" stroke-opacity=\"1\" stroke-width=\"4\"/>\n",
       "<circle clip-path=\"url(#clip342)\" cx=\"1156.95\" cy=\"759.707\" r=\"14\" fill=\"#009af9\" fill-rule=\"evenodd\" fill-opacity=\"1\" stroke=\"#000000\" stroke-opacity=\"1\" stroke-width=\"4\"/>\n",
       "<circle clip-path=\"url(#clip342)\" cx=\"1167.56\" cy=\"701.142\" r=\"14\" fill=\"#009af9\" fill-rule=\"evenodd\" fill-opacity=\"1\" stroke=\"#000000\" stroke-opacity=\"1\" stroke-width=\"4\"/>\n",
       "<circle clip-path=\"url(#clip342)\" cx=\"1231.23\" cy=\"999.758\" r=\"14\" fill=\"#009af9\" fill-rule=\"evenodd\" fill-opacity=\"1\" stroke=\"#000000\" stroke-opacity=\"1\" stroke-width=\"4\"/>\n",
       "<circle clip-path=\"url(#clip342)\" cx=\"1233.35\" cy=\"947.06\" r=\"14\" fill=\"#009af9\" fill-rule=\"evenodd\" fill-opacity=\"1\" stroke=\"#000000\" stroke-opacity=\"1\" stroke-width=\"4\"/>\n",
       "<circle clip-path=\"url(#clip342)\" cx=\"1293.47\" cy=\"716.663\" r=\"14\" fill=\"#009af9\" fill-rule=\"evenodd\" fill-opacity=\"1\" stroke=\"#000000\" stroke-opacity=\"1\" stroke-width=\"4\"/>\n",
       "<circle clip-path=\"url(#clip342)\" cx=\"1337.33\" cy=\"735.573\" r=\"14\" fill=\"#009af9\" fill-rule=\"evenodd\" fill-opacity=\"1\" stroke=\"#000000\" stroke-opacity=\"1\" stroke-width=\"4\"/>\n",
       "<circle clip-path=\"url(#clip342)\" cx=\"1398.88\" cy=\"1031.37\" r=\"14\" fill=\"#009af9\" fill-rule=\"evenodd\" fill-opacity=\"1\" stroke=\"#000000\" stroke-opacity=\"1\" stroke-width=\"4\"/>\n",
       "<circle clip-path=\"url(#clip342)\" cx=\"1655.66\" cy=\"1034.66\" r=\"14\" fill=\"#009af9\" fill-rule=\"evenodd\" fill-opacity=\"1\" stroke=\"#000000\" stroke-opacity=\"1\" stroke-width=\"4\"/>\n",
       "<circle clip-path=\"url(#clip342)\" cx=\"401.471\" cy=\"1486.2\" r=\"14\" fill=\"#009af9\" fill-rule=\"evenodd\" fill-opacity=\"1\" stroke=\"#000000\" stroke-opacity=\"1\" stroke-width=\"4\"/>\n",
       "<circle clip-path=\"url(#clip342)\" cx=\"403.593\" cy=\"1469.96\" r=\"14\" fill=\"#009af9\" fill-rule=\"evenodd\" fill-opacity=\"1\" stroke=\"#000000\" stroke-opacity=\"1\" stroke-width=\"4\"/>\n",
       "<circle clip-path=\"url(#clip342)\" cx=\"405.715\" cy=\"1471.72\" r=\"14\" fill=\"#009af9\" fill-rule=\"evenodd\" fill-opacity=\"1\" stroke=\"#000000\" stroke-opacity=\"1\" stroke-width=\"4\"/>\n",
       "<circle clip-path=\"url(#clip342)\" cx=\"420.57\" cy=\"1484.59\" r=\"14\" fill=\"#009af9\" fill-rule=\"evenodd\" fill-opacity=\"1\" stroke=\"#000000\" stroke-opacity=\"1\" stroke-width=\"4\"/>\n",
       "<circle clip-path=\"url(#clip342)\" cx=\"421.419\" cy=\"1501.97\" r=\"14\" fill=\"#009af9\" fill-rule=\"evenodd\" fill-opacity=\"1\" stroke=\"#000000\" stroke-opacity=\"1\" stroke-width=\"4\"/>\n",
       "<circle clip-path=\"url(#clip342)\" cx=\"424.814\" cy=\"1439.47\" r=\"14\" fill=\"#009af9\" fill-rule=\"evenodd\" fill-opacity=\"1\" stroke=\"#000000\" stroke-opacity=\"1\" stroke-width=\"4\"/>\n",
       "<circle clip-path=\"url(#clip342)\" cx=\"443.913\" cy=\"1400.13\" r=\"14\" fill=\"#009af9\" fill-rule=\"evenodd\" fill-opacity=\"1\" stroke=\"#000000\" stroke-opacity=\"1\" stroke-width=\"4\"/>\n",
       "<circle clip-path=\"url(#clip342)\" cx=\"446.036\" cy=\"1352.58\" r=\"14\" fill=\"#009af9\" fill-rule=\"evenodd\" fill-opacity=\"1\" stroke=\"#000000\" stroke-opacity=\"1\" stroke-width=\"4\"/>\n",
       "<circle clip-path=\"url(#clip342)\" cx=\"446.036\" cy=\"1462.71\" r=\"14\" fill=\"#009af9\" fill-rule=\"evenodd\" fill-opacity=\"1\" stroke=\"#000000\" stroke-opacity=\"1\" stroke-width=\"4\"/>\n",
       "<circle clip-path=\"url(#clip342)\" cx=\"450.28\" cy=\"1485.48\" r=\"14\" fill=\"#009af9\" fill-rule=\"evenodd\" fill-opacity=\"1\" stroke=\"#000000\" stroke-opacity=\"1\" stroke-width=\"4\"/>\n",
       "<circle clip-path=\"url(#clip342)\" cx=\"453.834\" cy=\"1545.73\" r=\"14\" fill=\"#009af9\" fill-rule=\"evenodd\" fill-opacity=\"1\" stroke=\"#000000\" stroke-opacity=\"1\" stroke-width=\"4\"/>\n",
       "<circle clip-path=\"url(#clip342)\" cx=\"463.013\" cy=\"1349.44\" r=\"14\" fill=\"#009af9\" fill-rule=\"evenodd\" fill-opacity=\"1\" stroke=\"#000000\" stroke-opacity=\"1\" stroke-width=\"4\"/>\n",
       "<circle clip-path=\"url(#clip342)\" cx=\"463.013\" cy=\"1468.9\" r=\"14\" fill=\"#009af9\" fill-rule=\"evenodd\" fill-opacity=\"1\" stroke=\"#000000\" stroke-opacity=\"1\" stroke-width=\"4\"/>\n",
       "<circle clip-path=\"url(#clip342)\" cx=\"465.135\" cy=\"1254.12\" r=\"14\" fill=\"#009af9\" fill-rule=\"evenodd\" fill-opacity=\"1\" stroke=\"#000000\" stroke-opacity=\"1\" stroke-width=\"4\"/>\n",
       "<circle clip-path=\"url(#clip342)\" cx=\"467.257\" cy=\"1468.9\" r=\"14\" fill=\"#009af9\" fill-rule=\"evenodd\" fill-opacity=\"1\" stroke=\"#000000\" stroke-opacity=\"1\" stroke-width=\"4\"/>\n",
       "<circle clip-path=\"url(#clip342)\" cx=\"481.509\" cy=\"1435.28\" r=\"14\" fill=\"#009af9\" fill-rule=\"evenodd\" fill-opacity=\"1\" stroke=\"#000000\" stroke-opacity=\"1\" stroke-width=\"4\"/>\n",
       "<circle clip-path=\"url(#clip342)\" cx=\"490.601\" cy=\"1448.48\" r=\"14\" fill=\"#009af9\" fill-rule=\"evenodd\" fill-opacity=\"1\" stroke=\"#000000\" stroke-opacity=\"1\" stroke-width=\"4\"/>\n",
       "<circle clip-path=\"url(#clip342)\" cx=\"490.601\" cy=\"1444.61\" r=\"14\" fill=\"#009af9\" fill-rule=\"evenodd\" fill-opacity=\"1\" stroke=\"#000000\" stroke-opacity=\"1\" stroke-width=\"4\"/>\n",
       "<circle clip-path=\"url(#clip342)\" cx=\"498.665\" cy=\"1430.85\" r=\"14\" fill=\"#009af9\" fill-rule=\"evenodd\" fill-opacity=\"1\" stroke=\"#000000\" stroke-opacity=\"1\" stroke-width=\"4\"/>\n",
       "<circle clip-path=\"url(#clip342)\" cx=\"509.929\" cy=\"1429.49\" r=\"14\" fill=\"#009af9\" fill-rule=\"evenodd\" fill-opacity=\"1\" stroke=\"#000000\" stroke-opacity=\"1\" stroke-width=\"4\"/>\n",
       "<circle clip-path=\"url(#clip342)\" cx=\"516.544\" cy=\"1444.94\" r=\"14\" fill=\"#009af9\" fill-rule=\"evenodd\" fill-opacity=\"1\" stroke=\"#000000\" stroke-opacity=\"1\" stroke-width=\"4\"/>\n",
       "<circle clip-path=\"url(#clip342)\" cx=\"517.658\" cy=\"1425.63\" r=\"14\" fill=\"#009af9\" fill-rule=\"evenodd\" fill-opacity=\"1\" stroke=\"#000000\" stroke-opacity=\"1\" stroke-width=\"4\"/>\n",
       "<circle clip-path=\"url(#clip342)\" cx=\"520.311\" cy=\"1497.07\" r=\"14\" fill=\"#009af9\" fill-rule=\"evenodd\" fill-opacity=\"1\" stroke=\"#000000\" stroke-opacity=\"1\" stroke-width=\"4\"/>\n",
       "<circle clip-path=\"url(#clip342)\" cx=\"520.311\" cy=\"1422.41\" r=\"14\" fill=\"#009af9\" fill-rule=\"evenodd\" fill-opacity=\"1\" stroke=\"#000000\" stroke-opacity=\"1\" stroke-width=\"4\"/>\n",
       "<circle clip-path=\"url(#clip342)\" cx=\"522.433\" cy=\"1435.28\" r=\"14\" fill=\"#009af9\" fill-rule=\"evenodd\" fill-opacity=\"1\" stroke=\"#000000\" stroke-opacity=\"1\" stroke-width=\"4\"/>\n",
       "<circle clip-path=\"url(#clip342)\" cx=\"528.799\" cy=\"1474.86\" r=\"14\" fill=\"#009af9\" fill-rule=\"evenodd\" fill-opacity=\"1\" stroke=\"#000000\" stroke-opacity=\"1\" stroke-width=\"4\"/>\n",
       "<circle clip-path=\"url(#clip342)\" cx=\"539.41\" cy=\"1435.68\" r=\"14\" fill=\"#009af9\" fill-rule=\"evenodd\" fill-opacity=\"1\" stroke=\"#000000\" stroke-opacity=\"1\" stroke-width=\"4\"/>\n",
       "<circle clip-path=\"url(#clip342)\" cx=\"541.532\" cy=\"1393.13\" r=\"14\" fill=\"#009af9\" fill-rule=\"evenodd\" fill-opacity=\"1\" stroke=\"#000000\" stroke-opacity=\"1\" stroke-width=\"4\"/>\n",
       "<circle clip-path=\"url(#clip342)\" cx=\"542.593\" cy=\"1376.07\" r=\"14\" fill=\"#009af9\" fill-rule=\"evenodd\" fill-opacity=\"1\" stroke=\"#000000\" stroke-opacity=\"1\" stroke-width=\"4\"/>\n",
       "<circle clip-path=\"url(#clip342)\" cx=\"552.143\" cy=\"1435.28\" r=\"14\" fill=\"#009af9\" fill-rule=\"evenodd\" fill-opacity=\"1\" stroke=\"#000000\" stroke-opacity=\"1\" stroke-width=\"4\"/>\n",
       "<circle clip-path=\"url(#clip342)\" cx=\"552.143\" cy=\"1375.43\" r=\"14\" fill=\"#009af9\" fill-rule=\"evenodd\" fill-opacity=\"1\" stroke=\"#000000\" stroke-opacity=\"1\" stroke-width=\"4\"/>\n",
       "<circle clip-path=\"url(#clip342)\" cx=\"557.448\" cy=\"1422.16\" r=\"14\" fill=\"#009af9\" fill-rule=\"evenodd\" fill-opacity=\"1\" stroke=\"#000000\" stroke-opacity=\"1\" stroke-width=\"4\"/>\n",
       "<circle clip-path=\"url(#clip342)\" cx=\"559.57\" cy=\"1396.02\" r=\"14\" fill=\"#009af9\" fill-rule=\"evenodd\" fill-opacity=\"1\" stroke=\"#000000\" stroke-opacity=\"1\" stroke-width=\"4\"/>\n",
       "<circle clip-path=\"url(#clip342)\" cx=\"562.753\" cy=\"1509.69\" r=\"14\" fill=\"#009af9\" fill-rule=\"evenodd\" fill-opacity=\"1\" stroke=\"#000000\" stroke-opacity=\"1\" stroke-width=\"4\"/>\n",
       "<circle clip-path=\"url(#clip342)\" cx=\"562.753\" cy=\"1357.66\" r=\"14\" fill=\"#009af9\" fill-rule=\"evenodd\" fill-opacity=\"1\" stroke=\"#000000\" stroke-opacity=\"1\" stroke-width=\"4\"/>\n",
       "<circle clip-path=\"url(#clip342)\" cx=\"562.753\" cy=\"1400.53\" r=\"14\" fill=\"#009af9\" fill-rule=\"evenodd\" fill-opacity=\"1\" stroke=\"#000000\" stroke-opacity=\"1\" stroke-width=\"4\"/>\n",
       "<circle clip-path=\"url(#clip342)\" cx=\"564.875\" cy=\"1442.93\" r=\"14\" fill=\"#009af9\" fill-rule=\"evenodd\" fill-opacity=\"1\" stroke=\"#000000\" stroke-opacity=\"1\" stroke-width=\"4\"/>\n",
       "<circle clip-path=\"url(#clip342)\" cx=\"570.181\" cy=\"1358.05\" r=\"14\" fill=\"#009af9\" fill-rule=\"evenodd\" fill-opacity=\"1\" stroke=\"#000000\" stroke-opacity=\"1\" stroke-width=\"4\"/>\n",
       "<circle clip-path=\"url(#clip342)\" cx=\"571.242\" cy=\"1423.38\" r=\"14\" fill=\"#009af9\" fill-rule=\"evenodd\" fill-opacity=\"1\" stroke=\"#000000\" stroke-opacity=\"1\" stroke-width=\"4\"/>\n",
       "<circle clip-path=\"url(#clip342)\" cx=\"573.364\" cy=\"1343.9\" r=\"14\" fill=\"#009af9\" fill-rule=\"evenodd\" fill-opacity=\"1\" stroke=\"#000000\" stroke-opacity=\"1\" stroke-width=\"4\"/>\n",
       "<circle clip-path=\"url(#clip342)\" cx=\"573.364\" cy=\"1402.06\" r=\"14\" fill=\"#009af9\" fill-rule=\"evenodd\" fill-opacity=\"1\" stroke=\"#000000\" stroke-opacity=\"1\" stroke-width=\"4\"/>\n",
       "<circle clip-path=\"url(#clip342)\" cx=\"577.608\" cy=\"1418.3\" r=\"14\" fill=\"#009af9\" fill-rule=\"evenodd\" fill-opacity=\"1\" stroke=\"#000000\" stroke-opacity=\"1\" stroke-width=\"4\"/>\n",
       "<circle clip-path=\"url(#clip342)\" cx=\"586.097\" cy=\"1427.56\" r=\"14\" fill=\"#009af9\" fill-rule=\"evenodd\" fill-opacity=\"1\" stroke=\"#000000\" stroke-opacity=\"1\" stroke-width=\"4\"/>\n",
       "<circle clip-path=\"url(#clip342)\" cx=\"586.097\" cy=\"1481.37\" r=\"14\" fill=\"#009af9\" fill-rule=\"evenodd\" fill-opacity=\"1\" stroke=\"#000000\" stroke-opacity=\"1\" stroke-width=\"4\"/>\n",
       "<circle clip-path=\"url(#clip342)\" cx=\"586.097\" cy=\"1380.65\" r=\"14\" fill=\"#009af9\" fill-rule=\"evenodd\" fill-opacity=\"1\" stroke=\"#000000\" stroke-opacity=\"1\" stroke-width=\"4\"/>\n",
       "<circle clip-path=\"url(#clip342)\" cx=\"589.891\" cy=\"1451.13\" r=\"14\" fill=\"#009af9\" fill-rule=\"evenodd\" fill-opacity=\"1\" stroke=\"#000000\" stroke-opacity=\"1\" stroke-width=\"4\"/>\n",
       "<circle clip-path=\"url(#clip342)\" cx=\"598.093\" cy=\"1410.83\" r=\"14\" fill=\"#009af9\" fill-rule=\"evenodd\" fill-opacity=\"1\" stroke=\"#000000\" stroke-opacity=\"1\" stroke-width=\"4\"/>\n",
       "<circle clip-path=\"url(#clip342)\" cx=\"598.467\" cy=\"1316.94\" r=\"14\" fill=\"#009af9\" fill-rule=\"evenodd\" fill-opacity=\"1\" stroke=\"#000000\" stroke-opacity=\"1\" stroke-width=\"4\"/>\n",
       "<circle clip-path=\"url(#clip342)\" cx=\"605.196\" cy=\"1334.89\" r=\"14\" fill=\"#009af9\" fill-rule=\"evenodd\" fill-opacity=\"1\" stroke=\"#000000\" stroke-opacity=\"1\" stroke-width=\"4\"/>\n",
       "<circle clip-path=\"url(#clip342)\" cx=\"611.563\" cy=\"1319.76\" r=\"14\" fill=\"#009af9\" fill-rule=\"evenodd\" fill-opacity=\"1\" stroke=\"#000000\" stroke-opacity=\"1\" stroke-width=\"4\"/>\n",
       "<circle clip-path=\"url(#clip342)\" cx=\"613.685\" cy=\"1409.86\" r=\"14\" fill=\"#009af9\" fill-rule=\"evenodd\" fill-opacity=\"1\" stroke=\"#000000\" stroke-opacity=\"1\" stroke-width=\"4\"/>\n",
       "<circle clip-path=\"url(#clip342)\" cx=\"626.418\" cy=\"1245.11\" r=\"14\" fill=\"#009af9\" fill-rule=\"evenodd\" fill-opacity=\"1\" stroke=\"#000000\" stroke-opacity=\"1\" stroke-width=\"4\"/>\n",
       "<circle clip-path=\"url(#clip342)\" cx=\"629.07\" cy=\"1222.9\" r=\"14\" fill=\"#009af9\" fill-rule=\"evenodd\" fill-opacity=\"1\" stroke=\"#000000\" stroke-opacity=\"1\" stroke-width=\"4\"/>\n",
       "<circle clip-path=\"url(#clip342)\" cx=\"634.906\" cy=\"1375.75\" r=\"14\" fill=\"#009af9\" fill-rule=\"evenodd\" fill-opacity=\"1\" stroke=\"#000000\" stroke-opacity=\"1\" stroke-width=\"4\"/>\n",
       "<circle clip-path=\"url(#clip342)\" cx=\"637.028\" cy=\"1417.98\" r=\"14\" fill=\"#009af9\" fill-rule=\"evenodd\" fill-opacity=\"1\" stroke=\"#000000\" stroke-opacity=\"1\" stroke-width=\"4\"/>\n",
       "<circle clip-path=\"url(#clip342)\" cx=\"637.877\" cy=\"1230.63\" r=\"14\" fill=\"#009af9\" fill-rule=\"evenodd\" fill-opacity=\"1\" stroke=\"#000000\" stroke-opacity=\"1\" stroke-width=\"4\"/>\n",
       "<circle clip-path=\"url(#clip342)\" cx=\"641.273\" cy=\"1281.39\" r=\"14\" fill=\"#009af9\" fill-rule=\"evenodd\" fill-opacity=\"1\" stroke=\"#000000\" stroke-opacity=\"1\" stroke-width=\"4\"/>\n",
       "<circle clip-path=\"url(#clip342)\" cx=\"646.578\" cy=\"1235.06\" r=\"14\" fill=\"#009af9\" fill-rule=\"evenodd\" fill-opacity=\"1\" stroke=\"#000000\" stroke-opacity=\"1\" stroke-width=\"4\"/>\n",
       "<circle clip-path=\"url(#clip342)\" cx=\"647.639\" cy=\"1282.44\" r=\"14\" fill=\"#009af9\" fill-rule=\"evenodd\" fill-opacity=\"1\" stroke=\"#000000\" stroke-opacity=\"1\" stroke-width=\"4\"/>\n",
       "<circle clip-path=\"url(#clip342)\" cx=\"656.128\" cy=\"1463.2\" r=\"14\" fill=\"#009af9\" fill-rule=\"evenodd\" fill-opacity=\"1\" stroke=\"#000000\" stroke-opacity=\"1\" stroke-width=\"4\"/>\n",
       "<circle clip-path=\"url(#clip342)\" cx=\"666.738\" cy=\"1416.94\" r=\"14\" fill=\"#009af9\" fill-rule=\"evenodd\" fill-opacity=\"1\" stroke=\"#000000\" stroke-opacity=\"1\" stroke-width=\"4\"/>\n",
       "<circle clip-path=\"url(#clip342)\" cx=\"668.86\" cy=\"1405.03\" r=\"14\" fill=\"#009af9\" fill-rule=\"evenodd\" fill-opacity=\"1\" stroke=\"#000000\" stroke-opacity=\"1\" stroke-width=\"4\"/>\n",
       "<circle clip-path=\"url(#clip342)\" cx=\"679.471\" cy=\"1334.56\" r=\"14\" fill=\"#009af9\" fill-rule=\"evenodd\" fill-opacity=\"1\" stroke=\"#000000\" stroke-opacity=\"1\" stroke-width=\"4\"/>\n",
       "<circle clip-path=\"url(#clip342)\" cx=\"690.082\" cy=\"1368.03\" r=\"14\" fill=\"#009af9\" fill-rule=\"evenodd\" fill-opacity=\"1\" stroke=\"#000000\" stroke-opacity=\"1\" stroke-width=\"4\"/>\n",
       "<circle clip-path=\"url(#clip342)\" cx=\"690.082\" cy=\"1244.71\" r=\"14\" fill=\"#009af9\" fill-rule=\"evenodd\" fill-opacity=\"1\" stroke=\"#000000\" stroke-opacity=\"1\" stroke-width=\"4\"/>\n",
       "<circle clip-path=\"url(#clip342)\" cx=\"690.082\" cy=\"1195.16\" r=\"14\" fill=\"#009af9\" fill-rule=\"evenodd\" fill-opacity=\"1\" stroke=\"#000000\" stroke-opacity=\"1\" stroke-width=\"4\"/>\n",
       "<circle clip-path=\"url(#clip342)\" cx=\"694.326\" cy=\"1509.37\" r=\"14\" fill=\"#009af9\" fill-rule=\"evenodd\" fill-opacity=\"1\" stroke=\"#000000\" stroke-opacity=\"1\" stroke-width=\"4\"/>\n",
       "<circle clip-path=\"url(#clip342)\" cx=\"711.303\" cy=\"1315.83\" r=\"14\" fill=\"#009af9\" fill-rule=\"evenodd\" fill-opacity=\"1\" stroke=\"#000000\" stroke-opacity=\"1\" stroke-width=\"4\"/>\n",
       "<circle clip-path=\"url(#clip342)\" cx=\"711.303\" cy=\"1359.02\" r=\"14\" fill=\"#009af9\" fill-rule=\"evenodd\" fill-opacity=\"1\" stroke=\"#000000\" stroke-opacity=\"1\" stroke-width=\"4\"/>\n",
       "<circle clip-path=\"url(#clip342)\" cx=\"726.967\" cy=\"1345.18\" r=\"14\" fill=\"#009af9\" fill-rule=\"evenodd\" fill-opacity=\"1\" stroke=\"#000000\" stroke-opacity=\"1\" stroke-width=\"4\"/>\n",
       "<circle clip-path=\"url(#clip342)\" cx=\"732.525\" cy=\"1293.05\" r=\"14\" fill=\"#009af9\" fill-rule=\"evenodd\" fill-opacity=\"1\" stroke=\"#000000\" stroke-opacity=\"1\" stroke-width=\"4\"/>\n",
       "<circle clip-path=\"url(#clip342)\" cx=\"732.525\" cy=\"1260.16\" r=\"14\" fill=\"#009af9\" fill-rule=\"evenodd\" fill-opacity=\"1\" stroke=\"#000000\" stroke-opacity=\"1\" stroke-width=\"4\"/>\n",
       "<circle clip-path=\"url(#clip342)\" cx=\"732.525\" cy=\"1311.4\" r=\"14\" fill=\"#009af9\" fill-rule=\"evenodd\" fill-opacity=\"1\" stroke=\"#000000\" stroke-opacity=\"1\" stroke-width=\"4\"/>\n",
       "<circle clip-path=\"url(#clip342)\" cx=\"738.891\" cy=\"1307.14\" r=\"14\" fill=\"#009af9\" fill-rule=\"evenodd\" fill-opacity=\"1\" stroke=\"#000000\" stroke-opacity=\"1\" stroke-width=\"4\"/>\n",
       "<circle clip-path=\"url(#clip342)\" cx=\"742.424\" cy=\"1348.97\" r=\"14\" fill=\"#009af9\" fill-rule=\"evenodd\" fill-opacity=\"1\" stroke=\"#000000\" stroke-opacity=\"1\" stroke-width=\"4\"/>\n",
       "<circle clip-path=\"url(#clip342)\" cx=\"743.135\" cy=\"1391.52\" r=\"14\" fill=\"#009af9\" fill-rule=\"evenodd\" fill-opacity=\"1\" stroke=\"#000000\" stroke-opacity=\"1\" stroke-width=\"4\"/>\n",
       "<circle clip-path=\"url(#clip342)\" cx=\"743.135\" cy=\"1318.87\" r=\"14\" fill=\"#009af9\" fill-rule=\"evenodd\" fill-opacity=\"1\" stroke=\"#000000\" stroke-opacity=\"1\" stroke-width=\"4\"/>\n",
       "<circle clip-path=\"url(#clip342)\" cx=\"743.135\" cy=\"1278.57\" r=\"14\" fill=\"#009af9\" fill-rule=\"evenodd\" fill-opacity=\"1\" stroke=\"#000000\" stroke-opacity=\"1\" stroke-width=\"4\"/>\n",
       "<circle clip-path=\"url(#clip342)\" cx=\"751.624\" cy=\"1211.32\" r=\"14\" fill=\"#009af9\" fill-rule=\"evenodd\" fill-opacity=\"1\" stroke=\"#000000\" stroke-opacity=\"1\" stroke-width=\"4\"/>\n",
       "<circle clip-path=\"url(#clip342)\" cx=\"753.746\" cy=\"1079.07\" r=\"14\" fill=\"#009af9\" fill-rule=\"evenodd\" fill-opacity=\"1\" stroke=\"#000000\" stroke-opacity=\"1\" stroke-width=\"4\"/>\n",
       "<circle clip-path=\"url(#clip342)\" cx=\"756.399\" cy=\"1367.39\" r=\"14\" fill=\"#009af9\" fill-rule=\"evenodd\" fill-opacity=\"1\" stroke=\"#000000\" stroke-opacity=\"1\" stroke-width=\"4\"/>\n",
       "<circle clip-path=\"url(#clip342)\" cx=\"774.967\" cy=\"1299.17\" r=\"14\" fill=\"#009af9\" fill-rule=\"evenodd\" fill-opacity=\"1\" stroke=\"#000000\" stroke-opacity=\"1\" stroke-width=\"4\"/>\n",
       "<circle clip-path=\"url(#clip342)\" cx=\"774.967\" cy=\"1022.04\" r=\"14\" fill=\"#009af9\" fill-rule=\"evenodd\" fill-opacity=\"1\" stroke=\"#000000\" stroke-opacity=\"1\" stroke-width=\"4\"/>\n",
       "<circle clip-path=\"url(#clip342)\" cx=\"774.967\" cy=\"1333.67\" r=\"14\" fill=\"#009af9\" fill-rule=\"evenodd\" fill-opacity=\"1\" stroke=\"#000000\" stroke-opacity=\"1\" stroke-width=\"4\"/>\n",
       "<circle clip-path=\"url(#clip342)\" cx=\"785.578\" cy=\"1404.39\" r=\"14\" fill=\"#009af9\" fill-rule=\"evenodd\" fill-opacity=\"1\" stroke=\"#000000\" stroke-opacity=\"1\" stroke-width=\"4\"/>\n",
       "<circle clip-path=\"url(#clip342)\" cx=\"785.578\" cy=\"1355.08\" r=\"14\" fill=\"#009af9\" fill-rule=\"evenodd\" fill-opacity=\"1\" stroke=\"#000000\" stroke-opacity=\"1\" stroke-width=\"4\"/>\n",
       "<circle clip-path=\"url(#clip342)\" cx=\"785.578\" cy=\"1300.78\" r=\"14\" fill=\"#009af9\" fill-rule=\"evenodd\" fill-opacity=\"1\" stroke=\"#000000\" stroke-opacity=\"1\" stroke-width=\"4\"/>\n",
       "<circle clip-path=\"url(#clip342)\" cx=\"796.189\" cy=\"1276.32\" r=\"14\" fill=\"#009af9\" fill-rule=\"evenodd\" fill-opacity=\"1\" stroke=\"#000000\" stroke-opacity=\"1\" stroke-width=\"4\"/>\n",
       "<circle clip-path=\"url(#clip342)\" cx=\"801.98\" cy=\"1084.54\" r=\"14\" fill=\"#009af9\" fill-rule=\"evenodd\" fill-opacity=\"1\" stroke=\"#000000\" stroke-opacity=\"1\" stroke-width=\"4\"/>\n",
       "<circle clip-path=\"url(#clip342)\" cx=\"806.8\" cy=\"1310.36\" r=\"14\" fill=\"#009af9\" fill-rule=\"evenodd\" fill-opacity=\"1\" stroke=\"#000000\" stroke-opacity=\"1\" stroke-width=\"4\"/>\n",
       "<circle clip-path=\"url(#clip342)\" cx=\"808.922\" cy=\"1278.57\" r=\"14\" fill=\"#009af9\" fill-rule=\"evenodd\" fill-opacity=\"1\" stroke=\"#000000\" stroke-opacity=\"1\" stroke-width=\"4\"/>\n",
       "<circle clip-path=\"url(#clip342)\" cx=\"816.283\" cy=\"1420.41\" r=\"14\" fill=\"#009af9\" fill-rule=\"evenodd\" fill-opacity=\"1\" stroke=\"#000000\" stroke-opacity=\"1\" stroke-width=\"4\"/>\n",
       "<circle clip-path=\"url(#clip342)\" cx=\"817.41\" cy=\"1254.69\" r=\"14\" fill=\"#009af9\" fill-rule=\"evenodd\" fill-opacity=\"1\" stroke=\"#000000\" stroke-opacity=\"1\" stroke-width=\"4\"/>\n",
       "<circle clip-path=\"url(#clip342)\" cx=\"828.021\" cy=\"1170.38\" r=\"14\" fill=\"#009af9\" fill-rule=\"evenodd\" fill-opacity=\"1\" stroke=\"#000000\" stroke-opacity=\"1\" stroke-width=\"4\"/>\n",
       "<circle clip-path=\"url(#clip342)\" cx=\"828.021\" cy=\"1290.16\" r=\"14\" fill=\"#009af9\" fill-rule=\"evenodd\" fill-opacity=\"1\" stroke=\"#000000\" stroke-opacity=\"1\" stroke-width=\"4\"/>\n",
       "<circle clip-path=\"url(#clip342)\" cx=\"838.632\" cy=\"1291.69\" r=\"14\" fill=\"#009af9\" fill-rule=\"evenodd\" fill-opacity=\"1\" stroke=\"#000000\" stroke-opacity=\"1\" stroke-width=\"4\"/>\n",
       "<circle clip-path=\"url(#clip342)\" cx=\"838.632\" cy=\"1162.01\" r=\"14\" fill=\"#009af9\" fill-rule=\"evenodd\" fill-opacity=\"1\" stroke=\"#000000\" stroke-opacity=\"1\" stroke-width=\"4\"/>\n",
       "<circle clip-path=\"url(#clip342)\" cx=\"849.242\" cy=\"1021.07\" r=\"14\" fill=\"#009af9\" fill-rule=\"evenodd\" fill-opacity=\"1\" stroke=\"#000000\" stroke-opacity=\"1\" stroke-width=\"4\"/>\n",
       "<circle clip-path=\"url(#clip342)\" cx=\"862.003\" cy=\"1316.22\" r=\"14\" fill=\"#009af9\" fill-rule=\"evenodd\" fill-opacity=\"1\" stroke=\"#000000\" stroke-opacity=\"1\" stroke-width=\"4\"/>\n",
       "<circle clip-path=\"url(#clip342)\" cx=\"874.708\" cy=\"1125.65\" r=\"14\" fill=\"#009af9\" fill-rule=\"evenodd\" fill-opacity=\"1\" stroke=\"#000000\" stroke-opacity=\"1\" stroke-width=\"4\"/>\n",
       "<circle clip-path=\"url(#clip342)\" cx=\"874.708\" cy=\"1319.44\" r=\"14\" fill=\"#009af9\" fill-rule=\"evenodd\" fill-opacity=\"1\" stroke=\"#000000\" stroke-opacity=\"1\" stroke-width=\"4\"/>\n",
       "<circle clip-path=\"url(#clip342)\" cx=\"878.938\" cy=\"1291.45\" r=\"14\" fill=\"#009af9\" fill-rule=\"evenodd\" fill-opacity=\"1\" stroke=\"#000000\" stroke-opacity=\"1\" stroke-width=\"4\"/>\n",
       "<circle clip-path=\"url(#clip342)\" cx=\"878.952\" cy=\"1331.99\" r=\"14\" fill=\"#009af9\" fill-rule=\"evenodd\" fill-opacity=\"1\" stroke=\"#000000\" stroke-opacity=\"1\" stroke-width=\"4\"/>\n",
       "<circle clip-path=\"url(#clip342)\" cx=\"884.829\" cy=\"1328.77\" r=\"14\" fill=\"#009af9\" fill-rule=\"evenodd\" fill-opacity=\"1\" stroke=\"#000000\" stroke-opacity=\"1\" stroke-width=\"4\"/>\n",
       "<circle clip-path=\"url(#clip342)\" cx=\"891.685\" cy=\"1369.64\" r=\"14\" fill=\"#009af9\" fill-rule=\"evenodd\" fill-opacity=\"1\" stroke=\"#000000\" stroke-opacity=\"1\" stroke-width=\"4\"/>\n",
       "<circle clip-path=\"url(#clip342)\" cx=\"891.685\" cy=\"1081.24\" r=\"14\" fill=\"#009af9\" fill-rule=\"evenodd\" fill-opacity=\"1\" stroke=\"#000000\" stroke-opacity=\"1\" stroke-width=\"4\"/>\n",
       "<circle clip-path=\"url(#clip342)\" cx=\"892.746\" cy=\"1208.99\" r=\"14\" fill=\"#009af9\" fill-rule=\"evenodd\" fill-opacity=\"1\" stroke=\"#000000\" stroke-opacity=\"1\" stroke-width=\"4\"/>\n",
       "<circle clip-path=\"url(#clip342)\" cx=\"902.296\" cy=\"1145.35\" r=\"14\" fill=\"#009af9\" fill-rule=\"evenodd\" fill-opacity=\"1\" stroke=\"#000000\" stroke-opacity=\"1\" stroke-width=\"4\"/>\n",
       "<circle clip-path=\"url(#clip342)\" cx=\"933.68\" cy=\"1114.07\" r=\"14\" fill=\"#009af9\" fill-rule=\"evenodd\" fill-opacity=\"1\" stroke=\"#000000\" stroke-opacity=\"1\" stroke-width=\"4\"/>\n",
       "<circle clip-path=\"url(#clip342)\" cx=\"955.349\" cy=\"1275.75\" r=\"14\" fill=\"#009af9\" fill-rule=\"evenodd\" fill-opacity=\"1\" stroke=\"#000000\" stroke-opacity=\"1\" stroke-width=\"4\"/>\n",
       "<circle clip-path=\"url(#clip342)\" cx=\"955.349\" cy=\"1378.01\" r=\"14\" fill=\"#009af9\" fill-rule=\"evenodd\" fill-opacity=\"1\" stroke=\"#000000\" stroke-opacity=\"1\" stroke-width=\"4\"/>\n",
       "<circle clip-path=\"url(#clip342)\" cx=\"957.472\" cy=\"954.215\" r=\"14\" fill=\"#009af9\" fill-rule=\"evenodd\" fill-opacity=\"1\" stroke=\"#000000\" stroke-opacity=\"1\" stroke-width=\"4\"/>\n",
       "<circle clip-path=\"url(#clip342)\" cx=\"963.838\" cy=\"1568.58\" r=\"14\" fill=\"#009af9\" fill-rule=\"evenodd\" fill-opacity=\"1\" stroke=\"#000000\" stroke-opacity=\"1\" stroke-width=\"4\"/>\n",
       "<circle clip-path=\"url(#clip342)\" cx=\"968.082\" cy=\"1113.1\" r=\"14\" fill=\"#009af9\" fill-rule=\"evenodd\" fill-opacity=\"1\" stroke=\"#000000\" stroke-opacity=\"1\" stroke-width=\"4\"/>\n",
       "<circle clip-path=\"url(#clip342)\" cx=\"974.449\" cy=\"1426.27\" r=\"14\" fill=\"#009af9\" fill-rule=\"evenodd\" fill-opacity=\"1\" stroke=\"#000000\" stroke-opacity=\"1\" stroke-width=\"4\"/>\n",
       "<circle clip-path=\"url(#clip342)\" cx=\"974.449\" cy=\"1310.36\" r=\"14\" fill=\"#009af9\" fill-rule=\"evenodd\" fill-opacity=\"1\" stroke=\"#000000\" stroke-opacity=\"1\" stroke-width=\"4\"/>\n",
       "<circle clip-path=\"url(#clip342)\" cx=\"987.182\" cy=\"1128.87\" r=\"14\" fill=\"#009af9\" fill-rule=\"evenodd\" fill-opacity=\"1\" stroke=\"#000000\" stroke-opacity=\"1\" stroke-width=\"4\"/>\n",
       "<circle clip-path=\"url(#clip342)\" cx=\"1010.53\" cy=\"1191.37\" r=\"14\" fill=\"#009af9\" fill-rule=\"evenodd\" fill-opacity=\"1\" stroke=\"#000000\" stroke-opacity=\"1\" stroke-width=\"4\"/>\n",
       "<circle clip-path=\"url(#clip342)\" cx=\"1022.72\" cy=\"1212.21\" r=\"14\" fill=\"#009af9\" fill-rule=\"evenodd\" fill-opacity=\"1\" stroke=\"#000000\" stroke-opacity=\"1\" stroke-width=\"4\"/>\n",
       "<circle clip-path=\"url(#clip342)\" cx=\"1023.15\" cy=\"1270.78\" r=\"14\" fill=\"#009af9\" fill-rule=\"evenodd\" fill-opacity=\"1\" stroke=\"#000000\" stroke-opacity=\"1\" stroke-width=\"4\"/>\n",
       "<circle clip-path=\"url(#clip342)\" cx=\"1040.24\" cy=\"773.865\" r=\"14\" fill=\"#009af9\" fill-rule=\"evenodd\" fill-opacity=\"1\" stroke=\"#000000\" stroke-opacity=\"1\" stroke-width=\"4\"/>\n",
       "<circle clip-path=\"url(#clip342)\" cx=\"1072.07\" cy=\"815.376\" r=\"14\" fill=\"#009af9\" fill-rule=\"evenodd\" fill-opacity=\"1\" stroke=\"#000000\" stroke-opacity=\"1\" stroke-width=\"4\"/>\n",
       "<circle clip-path=\"url(#clip342)\" cx=\"1101.78\" cy=\"1134.09\" r=\"14\" fill=\"#009af9\" fill-rule=\"evenodd\" fill-opacity=\"1\" stroke=\"#000000\" stroke-opacity=\"1\" stroke-width=\"4\"/>\n",
       "<circle clip-path=\"url(#clip342)\" cx=\"1108.14\" cy=\"984.709\" r=\"14\" fill=\"#009af9\" fill-rule=\"evenodd\" fill-opacity=\"1\" stroke=\"#000000\" stroke-opacity=\"1\" stroke-width=\"4\"/>\n",
       "<circle clip-path=\"url(#clip342)\" cx=\"1116.69\" cy=\"947.06\" r=\"14\" fill=\"#009af9\" fill-rule=\"evenodd\" fill-opacity=\"1\" stroke=\"#000000\" stroke-opacity=\"1\" stroke-width=\"4\"/>\n",
       "<circle clip-path=\"url(#clip342)\" cx=\"1146.34\" cy=\"658.988\" r=\"14\" fill=\"#009af9\" fill-rule=\"evenodd\" fill-opacity=\"1\" stroke=\"#000000\" stroke-opacity=\"1\" stroke-width=\"4\"/>\n",
       "<circle clip-path=\"url(#clip342)\" cx=\"1156.95\" cy=\"796.465\" r=\"14\" fill=\"#009af9\" fill-rule=\"evenodd\" fill-opacity=\"1\" stroke=\"#000000\" stroke-opacity=\"1\" stroke-width=\"4\"/>\n",
       "<circle clip-path=\"url(#clip342)\" cx=\"1199.4\" cy=\"1340.75\" r=\"14\" fill=\"#009af9\" fill-rule=\"evenodd\" fill-opacity=\"1\" stroke=\"#000000\" stroke-opacity=\"1\" stroke-width=\"4\"/>\n",
       "<circle clip-path=\"url(#clip342)\" cx=\"1210.01\" cy=\"993.076\" r=\"14\" fill=\"#009af9\" fill-rule=\"evenodd\" fill-opacity=\"1\" stroke=\"#000000\" stroke-opacity=\"1\" stroke-width=\"4\"/>\n",
       "<circle clip-path=\"url(#clip342)\" cx=\"1231.23\" cy=\"1117.36\" r=\"14\" fill=\"#009af9\" fill-rule=\"evenodd\" fill-opacity=\"1\" stroke=\"#000000\" stroke-opacity=\"1\" stroke-width=\"4\"/>\n",
       "<circle clip-path=\"url(#clip342)\" cx=\"1231.23\" cy=\"539.038\" r=\"14\" fill=\"#009af9\" fill-rule=\"evenodd\" fill-opacity=\"1\" stroke=\"#000000\" stroke-opacity=\"1\" stroke-width=\"4\"/>\n",
       "<circle clip-path=\"url(#clip342)\" cx=\"1241.84\" cy=\"730.499\" r=\"14\" fill=\"#009af9\" fill-rule=\"evenodd\" fill-opacity=\"1\" stroke=\"#000000\" stroke-opacity=\"1\" stroke-width=\"4\"/>\n",
       "<circle clip-path=\"url(#clip342)\" cx=\"1256.16\" cy=\"615.547\" r=\"14\" fill=\"#009af9\" fill-rule=\"evenodd\" fill-opacity=\"1\" stroke=\"#000000\" stroke-opacity=\"1\" stroke-width=\"4\"/>\n",
       "<circle clip-path=\"url(#clip342)\" cx=\"1282.16\" cy=\"1227.81\" r=\"14\" fill=\"#009af9\" fill-rule=\"evenodd\" fill-opacity=\"1\" stroke=\"#000000\" stroke-opacity=\"1\" stroke-width=\"4\"/>\n",
       "<circle clip-path=\"url(#clip342)\" cx=\"1305.5\" cy=\"835.723\" r=\"14\" fill=\"#009af9\" fill-rule=\"evenodd\" fill-opacity=\"1\" stroke=\"#000000\" stroke-opacity=\"1\" stroke-width=\"4\"/>\n",
       "<circle clip-path=\"url(#clip342)\" cx=\"1469.97\" cy=\"582.404\" r=\"14\" fill=\"#009af9\" fill-rule=\"evenodd\" fill-opacity=\"1\" stroke=\"#000000\" stroke-opacity=\"1\" stroke-width=\"4\"/>\n",
       "<circle clip-path=\"url(#clip342)\" cx=\"1490.13\" cy=\"1108.6\" r=\"14\" fill=\"#009af9\" fill-rule=\"evenodd\" fill-opacity=\"1\" stroke=\"#000000\" stroke-opacity=\"1\" stroke-width=\"4\"/>\n",
       "<circle clip-path=\"url(#clip342)\" cx=\"1556.77\" cy=\"588.592\" r=\"14\" fill=\"#009af9\" fill-rule=\"evenodd\" fill-opacity=\"1\" stroke=\"#000000\" stroke-opacity=\"1\" stroke-width=\"4\"/>\n",
       "<circle clip-path=\"url(#clip342)\" cx=\"1698.1\" cy=\"948.594\" r=\"14\" fill=\"#009af9\" fill-rule=\"evenodd\" fill-opacity=\"1\" stroke=\"#000000\" stroke-opacity=\"1\" stroke-width=\"4\"/>\n",
       "<circle clip-path=\"url(#clip342)\" cx=\"1738.42\" cy=\"1065.08\" r=\"14\" fill=\"#009af9\" fill-rule=\"evenodd\" fill-opacity=\"1\" stroke=\"#000000\" stroke-opacity=\"1\" stroke-width=\"4\"/>\n",
       "<circle clip-path=\"url(#clip342)\" cx=\"385.555\" cy=\"1470.68\" r=\"14\" fill=\"#009af9\" fill-rule=\"evenodd\" fill-opacity=\"1\" stroke=\"#000000\" stroke-opacity=\"1\" stroke-width=\"4\"/>\n",
       "<circle clip-path=\"url(#clip342)\" cx=\"386.722\" cy=\"1541.55\" r=\"14\" fill=\"#009af9\" fill-rule=\"evenodd\" fill-opacity=\"1\" stroke=\"#000000\" stroke-opacity=\"1\" stroke-width=\"4\"/>\n",
       "<circle clip-path=\"url(#clip342)\" cx=\"392.982\" cy=\"1442.12\" r=\"14\" fill=\"#009af9\" fill-rule=\"evenodd\" fill-opacity=\"1\" stroke=\"#000000\" stroke-opacity=\"1\" stroke-width=\"4\"/>\n",
       "<circle clip-path=\"url(#clip342)\" cx=\"392.982\" cy=\"1485.88\" r=\"14\" fill=\"#009af9\" fill-rule=\"evenodd\" fill-opacity=\"1\" stroke=\"#000000\" stroke-opacity=\"1\" stroke-width=\"4\"/>\n",
       "<circle clip-path=\"url(#clip342)\" cx=\"399.348\" cy=\"1473.65\" r=\"14\" fill=\"#009af9\" fill-rule=\"evenodd\" fill-opacity=\"1\" stroke=\"#000000\" stroke-opacity=\"1\" stroke-width=\"4\"/>\n",
       "<circle clip-path=\"url(#clip342)\" cx=\"399.348\" cy=\"1473.65\" r=\"14\" fill=\"#009af9\" fill-rule=\"evenodd\" fill-opacity=\"1\" stroke=\"#000000\" stroke-opacity=\"1\" stroke-width=\"4\"/>\n",
       "<circle clip-path=\"url(#clip342)\" cx=\"418.448\" cy=\"1444.69\" r=\"14\" fill=\"#009af9\" fill-rule=\"evenodd\" fill-opacity=\"1\" stroke=\"#000000\" stroke-opacity=\"1\" stroke-width=\"4\"/>\n",
       "<circle clip-path=\"url(#clip342)\" cx=\"430.612\" cy=\"1486.2\" r=\"14\" fill=\"#009af9\" fill-rule=\"evenodd\" fill-opacity=\"1\" stroke=\"#000000\" stroke-opacity=\"1\" stroke-width=\"4\"/>\n",
       "<circle clip-path=\"url(#clip342)\" cx=\"433.303\" cy=\"1380.58\" r=\"14\" fill=\"#009af9\" fill-rule=\"evenodd\" fill-opacity=\"1\" stroke=\"#000000\" stroke-opacity=\"1\" stroke-width=\"4\"/>\n",
       "<circle clip-path=\"url(#clip342)\" cx=\"434.735\" cy=\"1425.38\" r=\"14\" fill=\"#009af9\" fill-rule=\"evenodd\" fill-opacity=\"1\" stroke=\"#000000\" stroke-opacity=\"1\" stroke-width=\"4\"/>\n",
       "<circle clip-path=\"url(#clip342)\" cx=\"435.425\" cy=\"1456.84\" r=\"14\" fill=\"#009af9\" fill-rule=\"evenodd\" fill-opacity=\"1\" stroke=\"#000000\" stroke-opacity=\"1\" stroke-width=\"4\"/>\n",
       "<circle clip-path=\"url(#clip342)\" cx=\"446.036\" cy=\"1457.16\" r=\"14\" fill=\"#009af9\" fill-rule=\"evenodd\" fill-opacity=\"1\" stroke=\"#000000\" stroke-opacity=\"1\" stroke-width=\"4\"/>\n",
       "<circle clip-path=\"url(#clip342)\" cx=\"446.036\" cy=\"1486.2\" r=\"14\" fill=\"#009af9\" fill-rule=\"evenodd\" fill-opacity=\"1\" stroke=\"#000000\" stroke-opacity=\"1\" stroke-width=\"4\"/>\n",
       "<circle clip-path=\"url(#clip342)\" cx=\"448.158\" cy=\"1446.62\" r=\"14\" fill=\"#009af9\" fill-rule=\"evenodd\" fill-opacity=\"1\" stroke=\"#000000\" stroke-opacity=\"1\" stroke-width=\"4\"/>\n",
       "<circle clip-path=\"url(#clip342)\" cx=\"456.646\" cy=\"1434.64\" r=\"14\" fill=\"#009af9\" fill-rule=\"evenodd\" fill-opacity=\"1\" stroke=\"#000000\" stroke-opacity=\"1\" stroke-width=\"4\"/>\n",
       "<circle clip-path=\"url(#clip342)\" cx=\"461.952\" cy=\"1431.82\" r=\"14\" fill=\"#009af9\" fill-rule=\"evenodd\" fill-opacity=\"1\" stroke=\"#000000\" stroke-opacity=\"1\" stroke-width=\"4\"/>\n",
       "<circle clip-path=\"url(#clip342)\" cx=\"467.257\" cy=\"1500.11\" r=\"14\" fill=\"#009af9\" fill-rule=\"evenodd\" fill-opacity=\"1\" stroke=\"#000000\" stroke-opacity=\"1\" stroke-width=\"4\"/>\n",
       "<circle clip-path=\"url(#clip342)\" cx=\"469.379\" cy=\"1456.27\" r=\"14\" fill=\"#009af9\" fill-rule=\"evenodd\" fill-opacity=\"1\" stroke=\"#000000\" stroke-opacity=\"1\" stroke-width=\"4\"/>\n",
       "<circle clip-path=\"url(#clip342)\" cx=\"473.093\" cy=\"1463.2\" r=\"14\" fill=\"#009af9\" fill-rule=\"evenodd\" fill-opacity=\"1\" stroke=\"#000000\" stroke-opacity=\"1\" stroke-width=\"4\"/>\n",
       "<circle clip-path=\"url(#clip342)\" cx=\"493.784\" cy=\"1354.51\" r=\"14\" fill=\"#009af9\" fill-rule=\"evenodd\" fill-opacity=\"1\" stroke=\"#000000\" stroke-opacity=\"1\" stroke-width=\"4\"/>\n",
       "<circle clip-path=\"url(#clip342)\" cx=\"494.845\" cy=\"1456.52\" r=\"14\" fill=\"#009af9\" fill-rule=\"evenodd\" fill-opacity=\"1\" stroke=\"#000000\" stroke-opacity=\"1\" stroke-width=\"4\"/>\n",
       "<circle clip-path=\"url(#clip342)\" cx=\"496.967\" cy=\"1357.66\" r=\"14\" fill=\"#009af9\" fill-rule=\"evenodd\" fill-opacity=\"1\" stroke=\"#000000\" stroke-opacity=\"1\" stroke-width=\"4\"/>\n",
       "<circle clip-path=\"url(#clip342)\" cx=\"496.967\" cy=\"1471.97\" r=\"14\" fill=\"#009af9\" fill-rule=\"evenodd\" fill-opacity=\"1\" stroke=\"#000000\" stroke-opacity=\"1\" stroke-width=\"4\"/>\n",
       "<circle clip-path=\"url(#clip342)\" cx=\"498.559\" cy=\"1491.35\" r=\"14\" fill=\"#009af9\" fill-rule=\"evenodd\" fill-opacity=\"1\" stroke=\"#000000\" stroke-opacity=\"1\" stroke-width=\"4\"/>\n",
       "<circle clip-path=\"url(#clip342)\" cx=\"499.089\" cy=\"1473.01\" r=\"14\" fill=\"#009af9\" fill-rule=\"evenodd\" fill-opacity=\"1\" stroke=\"#000000\" stroke-opacity=\"1\" stroke-width=\"4\"/>\n",
       "<circle clip-path=\"url(#clip342)\" cx=\"499.089\" cy=\"1388.06\" r=\"14\" fill=\"#009af9\" fill-rule=\"evenodd\" fill-opacity=\"1\" stroke=\"#000000\" stroke-opacity=\"1\" stroke-width=\"4\"/>\n",
       "<circle clip-path=\"url(#clip342)\" cx=\"501.423\" cy=\"1405.03\" r=\"14\" fill=\"#009af9\" fill-rule=\"evenodd\" fill-opacity=\"1\" stroke=\"#000000\" stroke-opacity=\"1\" stroke-width=\"4\"/>\n",
       "<circle clip-path=\"url(#clip342)\" cx=\"508.108\" cy=\"1394.42\" r=\"14\" fill=\"#009af9\" fill-rule=\"evenodd\" fill-opacity=\"1\" stroke=\"#000000\" stroke-opacity=\"1\" stroke-width=\"4\"/>\n",
       "<circle clip-path=\"url(#clip342)\" cx=\"509.7\" cy=\"1483.3\" r=\"14\" fill=\"#009af9\" fill-rule=\"evenodd\" fill-opacity=\"1\" stroke=\"#000000\" stroke-opacity=\"1\" stroke-width=\"4\"/>\n",
       "<circle clip-path=\"url(#clip342)\" cx=\"509.7\" cy=\"1433.75\" r=\"14\" fill=\"#009af9\" fill-rule=\"evenodd\" fill-opacity=\"1\" stroke=\"#000000\" stroke-opacity=\"1\" stroke-width=\"4\"/>\n",
       "<circle clip-path=\"url(#clip342)\" cx=\"509.929\" cy=\"1343.25\" r=\"14\" fill=\"#009af9\" fill-rule=\"evenodd\" fill-opacity=\"1\" stroke=\"#000000\" stroke-opacity=\"1\" stroke-width=\"4\"/>\n",
       "<circle clip-path=\"url(#clip342)\" cx=\"512.883\" cy=\"1452.09\" r=\"14\" fill=\"#009af9\" fill-rule=\"evenodd\" fill-opacity=\"1\" stroke=\"#000000\" stroke-opacity=\"1\" stroke-width=\"4\"/>\n",
       "<circle clip-path=\"url(#clip342)\" cx=\"513.361\" cy=\"1558.85\" r=\"14\" fill=\"#009af9\" fill-rule=\"evenodd\" fill-opacity=\"1\" stroke=\"#000000\" stroke-opacity=\"1\" stroke-width=\"4\"/>\n",
       "<circle clip-path=\"url(#clip342)\" cx=\"513.944\" cy=\"1435.28\" r=\"14\" fill=\"#009af9\" fill-rule=\"evenodd\" fill-opacity=\"1\" stroke=\"#000000\" stroke-opacity=\"1\" stroke-width=\"4\"/>\n",
       "<circle clip-path=\"url(#clip342)\" cx=\"516.066\" cy=\"1427.56\" r=\"14\" fill=\"#009af9\" fill-rule=\"evenodd\" fill-opacity=\"1\" stroke=\"#000000\" stroke-opacity=\"1\" stroke-width=\"4\"/>\n",
       "<circle clip-path=\"url(#clip342)\" cx=\"520.311\" cy=\"1429.24\" r=\"14\" fill=\"#009af9\" fill-rule=\"evenodd\" fill-opacity=\"1\" stroke=\"#000000\" stroke-opacity=\"1\" stroke-width=\"4\"/>\n",
       "<circle clip-path=\"url(#clip342)\" cx=\"521.527\" cy=\"1376.32\" r=\"14\" fill=\"#009af9\" fill-rule=\"evenodd\" fill-opacity=\"1\" stroke=\"#000000\" stroke-opacity=\"1\" stroke-width=\"4\"/>\n",
       "<circle clip-path=\"url(#clip342)\" cx=\"523.948\" cy=\"1387.91\" r=\"14\" fill=\"#009af9\" fill-rule=\"evenodd\" fill-opacity=\"1\" stroke=\"#000000\" stroke-opacity=\"1\" stroke-width=\"4\"/>\n",
       "<circle clip-path=\"url(#clip342)\" cx=\"524.47\" cy=\"1486.2\" r=\"14\" fill=\"#009af9\" fill-rule=\"evenodd\" fill-opacity=\"1\" stroke=\"#000000\" stroke-opacity=\"1\" stroke-width=\"4\"/>\n",
       "<circle clip-path=\"url(#clip342)\" cx=\"524.555\" cy=\"1491.03\" r=\"14\" fill=\"#009af9\" fill-rule=\"evenodd\" fill-opacity=\"1\" stroke=\"#000000\" stroke-opacity=\"1\" stroke-width=\"4\"/>\n",
       "<circle clip-path=\"url(#clip342)\" cx=\"525.616\" cy=\"1312.93\" r=\"14\" fill=\"#009af9\" fill-rule=\"evenodd\" fill-opacity=\"1\" stroke=\"#000000\" stroke-opacity=\"1\" stroke-width=\"4\"/>\n",
       "<circle clip-path=\"url(#clip342)\" cx=\"530.921\" cy=\"1393.77\" r=\"14\" fill=\"#009af9\" fill-rule=\"evenodd\" fill-opacity=\"1\" stroke=\"#000000\" stroke-opacity=\"1\" stroke-width=\"4\"/>\n",
       "<circle clip-path=\"url(#clip342)\" cx=\"537.51\" cy=\"1375.51\" r=\"14\" fill=\"#009af9\" fill-rule=\"evenodd\" fill-opacity=\"1\" stroke=\"#000000\" stroke-opacity=\"1\" stroke-width=\"4\"/>\n",
       "<circle clip-path=\"url(#clip342)\" cx=\"544.715\" cy=\"1198.2\" r=\"14\" fill=\"#009af9\" fill-rule=\"evenodd\" fill-opacity=\"1\" stroke=\"#000000\" stroke-opacity=\"1\" stroke-width=\"4\"/>\n",
       "<circle clip-path=\"url(#clip342)\" cx=\"551.082\" cy=\"1382.19\" r=\"14\" fill=\"#009af9\" fill-rule=\"evenodd\" fill-opacity=\"1\" stroke=\"#000000\" stroke-opacity=\"1\" stroke-width=\"4\"/>\n",
       "<circle clip-path=\"url(#clip342)\" cx=\"552.143\" cy=\"1327.16\" r=\"14\" fill=\"#009af9\" fill-rule=\"evenodd\" fill-opacity=\"1\" stroke=\"#000000\" stroke-opacity=\"1\" stroke-width=\"4\"/>\n",
       "<circle clip-path=\"url(#clip342)\" cx=\"553.84\" cy=\"1364.49\" r=\"14\" fill=\"#009af9\" fill-rule=\"evenodd\" fill-opacity=\"1\" stroke=\"#000000\" stroke-opacity=\"1\" stroke-width=\"4\"/>\n",
       "<circle clip-path=\"url(#clip342)\" cx=\"562.753\" cy=\"1422.41\" r=\"14\" fill=\"#009af9\" fill-rule=\"evenodd\" fill-opacity=\"1\" stroke=\"#000000\" stroke-opacity=\"1\" stroke-width=\"4\"/>\n",
       "<circle clip-path=\"url(#clip342)\" cx=\"566.998\" cy=\"1311.96\" r=\"14\" fill=\"#009af9\" fill-rule=\"evenodd\" fill-opacity=\"1\" stroke=\"#000000\" stroke-opacity=\"1\" stroke-width=\"4\"/>\n",
       "<circle clip-path=\"url(#clip342)\" cx=\"572.515\" cy=\"1330.06\" r=\"14\" fill=\"#009af9\" fill-rule=\"evenodd\" fill-opacity=\"1\" stroke=\"#000000\" stroke-opacity=\"1\" stroke-width=\"4\"/>\n",
       "<circle clip-path=\"url(#clip342)\" cx=\"573.364\" cy=\"1376.57\" r=\"14\" fill=\"#009af9\" fill-rule=\"evenodd\" fill-opacity=\"1\" stroke=\"#000000\" stroke-opacity=\"1\" stroke-width=\"4\"/>\n",
       "<circle clip-path=\"url(#clip342)\" cx=\"573.364\" cy=\"1253.15\" r=\"14\" fill=\"#009af9\" fill-rule=\"evenodd\" fill-opacity=\"1\" stroke=\"#000000\" stroke-opacity=\"1\" stroke-width=\"4\"/>\n",
       "<circle clip-path=\"url(#clip342)\" cx=\"583.975\" cy=\"1243.5\" r=\"14\" fill=\"#009af9\" fill-rule=\"evenodd\" fill-opacity=\"1\" stroke=\"#000000\" stroke-opacity=\"1\" stroke-width=\"4\"/>\n",
       "<circle clip-path=\"url(#clip342)\" cx=\"584.898\" cy=\"1341.97\" r=\"14\" fill=\"#009af9\" fill-rule=\"evenodd\" fill-opacity=\"1\" stroke=\"#000000\" stroke-opacity=\"1\" stroke-width=\"4\"/>\n",
       "<circle clip-path=\"url(#clip342)\" cx=\"585.036\" cy=\"1341.97\" r=\"14\" fill=\"#009af9\" fill-rule=\"evenodd\" fill-opacity=\"1\" stroke=\"#000000\" stroke-opacity=\"1\" stroke-width=\"4\"/>\n",
       "<circle clip-path=\"url(#clip342)\" cx=\"590.341\" cy=\"1388.87\" r=\"14\" fill=\"#009af9\" fill-rule=\"evenodd\" fill-opacity=\"1\" stroke=\"#000000\" stroke-opacity=\"1\" stroke-width=\"4\"/>\n",
       "<circle clip-path=\"url(#clip342)\" cx=\"590.341\" cy=\"1412.11\" r=\"14\" fill=\"#009af9\" fill-rule=\"evenodd\" fill-opacity=\"1\" stroke=\"#000000\" stroke-opacity=\"1\" stroke-width=\"4\"/>\n",
       "<circle clip-path=\"url(#clip342)\" cx=\"594.585\" cy=\"1315.58\" r=\"14\" fill=\"#009af9\" fill-rule=\"evenodd\" fill-opacity=\"1\" stroke=\"#000000\" stroke-opacity=\"1\" stroke-width=\"4\"/>\n",
       "<circle clip-path=\"url(#clip342)\" cx=\"594.585\" cy=\"1423.45\" r=\"14\" fill=\"#009af9\" fill-rule=\"evenodd\" fill-opacity=\"1\" stroke=\"#000000\" stroke-opacity=\"1\" stroke-width=\"4\"/>\n",
       "<circle clip-path=\"url(#clip342)\" cx=\"603.074\" cy=\"1368.1\" r=\"14\" fill=\"#009af9\" fill-rule=\"evenodd\" fill-opacity=\"1\" stroke=\"#000000\" stroke-opacity=\"1\" stroke-width=\"4\"/>\n",
       "<circle clip-path=\"url(#clip342)\" cx=\"603.074\" cy=\"1402.46\" r=\"14\" fill=\"#009af9\" fill-rule=\"evenodd\" fill-opacity=\"1\" stroke=\"#000000\" stroke-opacity=\"1\" stroke-width=\"4\"/>\n",
       "<circle clip-path=\"url(#clip342)\" cx=\"605.196\" cy=\"1384.19\" r=\"14\" fill=\"#009af9\" fill-rule=\"evenodd\" fill-opacity=\"1\" stroke=\"#000000\" stroke-opacity=\"1\" stroke-width=\"4\"/>\n",
       "<circle clip-path=\"url(#clip342)\" cx=\"609.44\" cy=\"1428.85\" r=\"14\" fill=\"#009af9\" fill-rule=\"evenodd\" fill-opacity=\"1\" stroke=\"#000000\" stroke-opacity=\"1\" stroke-width=\"4\"/>\n",
       "<circle clip-path=\"url(#clip342)\" cx=\"610.062\" cy=\"1411.72\" r=\"14\" fill=\"#009af9\" fill-rule=\"evenodd\" fill-opacity=\"1\" stroke=\"#000000\" stroke-opacity=\"1\" stroke-width=\"4\"/>\n",
       "<circle clip-path=\"url(#clip342)\" cx=\"610.062\" cy=\"1411.72\" r=\"14\" fill=\"#009af9\" fill-rule=\"evenodd\" fill-opacity=\"1\" stroke=\"#000000\" stroke-opacity=\"1\" stroke-width=\"4\"/>\n",
       "<circle clip-path=\"url(#clip342)\" cx=\"611.563\" cy=\"1448.48\" r=\"14\" fill=\"#009af9\" fill-rule=\"evenodd\" fill-opacity=\"1\" stroke=\"#000000\" stroke-opacity=\"1\" stroke-width=\"4\"/>\n",
       "<circle clip-path=\"url(#clip342)\" cx=\"615.807\" cy=\"1409.86\" r=\"14\" fill=\"#009af9\" fill-rule=\"evenodd\" fill-opacity=\"1\" stroke=\"#000000\" stroke-opacity=\"1\" stroke-width=\"4\"/>\n",
       "<circle clip-path=\"url(#clip342)\" cx=\"615.807\" cy=\"1206.74\" r=\"14\" fill=\"#009af9\" fill-rule=\"evenodd\" fill-opacity=\"1\" stroke=\"#000000\" stroke-opacity=\"1\" stroke-width=\"4\"/>\n",
       "<circle clip-path=\"url(#clip342)\" cx=\"615.807\" cy=\"1293.7\" r=\"14\" fill=\"#009af9\" fill-rule=\"evenodd\" fill-opacity=\"1\" stroke=\"#000000\" stroke-opacity=\"1\" stroke-width=\"4\"/>\n",
       "<circle clip-path=\"url(#clip342)\" cx=\"624.295\" cy=\"1395.38\" r=\"14\" fill=\"#009af9\" fill-rule=\"evenodd\" fill-opacity=\"1\" stroke=\"#000000\" stroke-opacity=\"1\" stroke-width=\"4\"/>\n",
       "<circle clip-path=\"url(#clip342)\" cx=\"632.784\" cy=\"1422.41\" r=\"14\" fill=\"#009af9\" fill-rule=\"evenodd\" fill-opacity=\"1\" stroke=\"#000000\" stroke-opacity=\"1\" stroke-width=\"4\"/>\n",
       "<circle clip-path=\"url(#clip342)\" cx=\"637.028\" cy=\"1320.73\" r=\"14\" fill=\"#009af9\" fill-rule=\"evenodd\" fill-opacity=\"1\" stroke=\"#000000\" stroke-opacity=\"1\" stroke-width=\"4\"/>\n",
       "<circle clip-path=\"url(#clip342)\" cx=\"637.028\" cy=\"1315.9\" r=\"14\" fill=\"#009af9\" fill-rule=\"evenodd\" fill-opacity=\"1\" stroke=\"#000000\" stroke-opacity=\"1\" stroke-width=\"4\"/>\n",
       "<circle clip-path=\"url(#clip342)\" cx=\"637.028\" cy=\"1296.52\" r=\"14\" fill=\"#009af9\" fill-rule=\"evenodd\" fill-opacity=\"1\" stroke=\"#000000\" stroke-opacity=\"1\" stroke-width=\"4\"/>\n",
       "<circle clip-path=\"url(#clip342)\" cx=\"641.273\" cy=\"1420.23\" r=\"14\" fill=\"#009af9\" fill-rule=\"evenodd\" fill-opacity=\"1\" stroke=\"#000000\" stroke-opacity=\"1\" stroke-width=\"4\"/>\n",
       "<circle clip-path=\"url(#clip342)\" cx=\"654.695\" cy=\"1412.11\" r=\"14\" fill=\"#009af9\" fill-rule=\"evenodd\" fill-opacity=\"1\" stroke=\"#000000\" stroke-opacity=\"1\" stroke-width=\"4\"/>\n",
       "<circle clip-path=\"url(#clip342)\" cx=\"661.433\" cy=\"1411.47\" r=\"14\" fill=\"#009af9\" fill-rule=\"evenodd\" fill-opacity=\"1\" stroke=\"#000000\" stroke-opacity=\"1\" stroke-width=\"4\"/>\n",
       "<circle clip-path=\"url(#clip342)\" cx=\"662.494\" cy=\"1347.44\" r=\"14\" fill=\"#009af9\" fill-rule=\"evenodd\" fill-opacity=\"1\" stroke=\"#000000\" stroke-opacity=\"1\" stroke-width=\"4\"/>\n",
       "<circle clip-path=\"url(#clip342)\" cx=\"663.979\" cy=\"1355.16\" r=\"14\" fill=\"#009af9\" fill-rule=\"evenodd\" fill-opacity=\"1\" stroke=\"#000000\" stroke-opacity=\"1\" stroke-width=\"4\"/>\n",
       "<circle clip-path=\"url(#clip342)\" cx=\"668.86\" cy=\"1346.47\" r=\"14\" fill=\"#009af9\" fill-rule=\"evenodd\" fill-opacity=\"1\" stroke=\"#000000\" stroke-opacity=\"1\" stroke-width=\"4\"/>\n",
       "<circle clip-path=\"url(#clip342)\" cx=\"674.493\" cy=\"1298.52\" r=\"14\" fill=\"#009af9\" fill-rule=\"evenodd\" fill-opacity=\"1\" stroke=\"#000000\" stroke-opacity=\"1\" stroke-width=\"4\"/>\n",
       "<circle clip-path=\"url(#clip342)\" cx=\"675.227\" cy=\"1458.13\" r=\"14\" fill=\"#009af9\" fill-rule=\"evenodd\" fill-opacity=\"1\" stroke=\"#000000\" stroke-opacity=\"1\" stroke-width=\"4\"/>\n",
       "<circle clip-path=\"url(#clip342)\" cx=\"680.203\" cy=\"1414.69\" r=\"14\" fill=\"#009af9\" fill-rule=\"evenodd\" fill-opacity=\"1\" stroke=\"#000000\" stroke-opacity=\"1\" stroke-width=\"4\"/>\n",
       "<circle clip-path=\"url(#clip342)\" cx=\"685.838\" cy=\"1442.76\" r=\"14\" fill=\"#009af9\" fill-rule=\"evenodd\" fill-opacity=\"1\" stroke=\"#000000\" stroke-opacity=\"1\" stroke-width=\"4\"/>\n",
       "<circle clip-path=\"url(#clip342)\" cx=\"694.326\" cy=\"1255.33\" r=\"14\" fill=\"#009af9\" fill-rule=\"evenodd\" fill-opacity=\"1\" stroke=\"#000000\" stroke-opacity=\"1\" stroke-width=\"4\"/>\n",
       "<circle clip-path=\"url(#clip342)\" cx=\"696.448\" cy=\"1199.34\" r=\"14\" fill=\"#009af9\" fill-rule=\"evenodd\" fill-opacity=\"1\" stroke=\"#000000\" stroke-opacity=\"1\" stroke-width=\"4\"/>\n",
       "<circle clip-path=\"url(#clip342)\" cx=\"700.693\" cy=\"1252.11\" r=\"14\" fill=\"#009af9\" fill-rule=\"evenodd\" fill-opacity=\"1\" stroke=\"#000000\" stroke-opacity=\"1\" stroke-width=\"4\"/>\n",
       "<circle clip-path=\"url(#clip342)\" cx=\"704.937\" cy=\"1378.01\" r=\"14\" fill=\"#009af9\" fill-rule=\"evenodd\" fill-opacity=\"1\" stroke=\"#000000\" stroke-opacity=\"1\" stroke-width=\"4\"/>\n",
       "<circle clip-path=\"url(#clip342)\" cx=\"708.491\" cy=\"1221.22\" r=\"14\" fill=\"#009af9\" fill-rule=\"evenodd\" fill-opacity=\"1\" stroke=\"#000000\" stroke-opacity=\"1\" stroke-width=\"4\"/>\n",
       "<circle clip-path=\"url(#clip342)\" cx=\"708.538\" cy=\"1384.19\" r=\"14\" fill=\"#009af9\" fill-rule=\"evenodd\" fill-opacity=\"1\" stroke=\"#000000\" stroke-opacity=\"1\" stroke-width=\"4\"/>\n",
       "<circle clip-path=\"url(#clip342)\" cx=\"711.303\" cy=\"1226.37\" r=\"14\" fill=\"#009af9\" fill-rule=\"evenodd\" fill-opacity=\"1\" stroke=\"#000000\" stroke-opacity=\"1\" stroke-width=\"4\"/>\n",
       "<circle clip-path=\"url(#clip342)\" cx=\"711.303\" cy=\"1199.66\" r=\"14\" fill=\"#009af9\" fill-rule=\"evenodd\" fill-opacity=\"1\" stroke=\"#000000\" stroke-opacity=\"1\" stroke-width=\"4\"/>\n",
       "<circle clip-path=\"url(#clip342)\" cx=\"711.515\" cy=\"1461.67\" r=\"14\" fill=\"#009af9\" fill-rule=\"evenodd\" fill-opacity=\"1\" stroke=\"#000000\" stroke-opacity=\"1\" stroke-width=\"4\"/>\n",
       "<circle clip-path=\"url(#clip342)\" cx=\"716.609\" cy=\"1217.11\" r=\"14\" fill=\"#009af9\" fill-rule=\"evenodd\" fill-opacity=\"1\" stroke=\"#000000\" stroke-opacity=\"1\" stroke-width=\"4\"/>\n",
       "<circle clip-path=\"url(#clip342)\" cx=\"717.67\" cy=\"1093.55\" r=\"14\" fill=\"#009af9\" fill-rule=\"evenodd\" fill-opacity=\"1\" stroke=\"#000000\" stroke-opacity=\"1\" stroke-width=\"4\"/>\n",
       "<circle clip-path=\"url(#clip342)\" cx=\"721.914\" cy=\"1436.32\" r=\"14\" fill=\"#009af9\" fill-rule=\"evenodd\" fill-opacity=\"1\" stroke=\"#000000\" stroke-opacity=\"1\" stroke-width=\"4\"/>\n",
       "<circle clip-path=\"url(#clip342)\" cx=\"724.036\" cy=\"1264.02\" r=\"14\" fill=\"#009af9\" fill-rule=\"evenodd\" fill-opacity=\"1\" stroke=\"#000000\" stroke-opacity=\"1\" stroke-width=\"4\"/>\n",
       "<circle clip-path=\"url(#clip342)\" cx=\"728.068\" cy=\"1294.98\" r=\"14\" fill=\"#009af9\" fill-rule=\"evenodd\" fill-opacity=\"1\" stroke=\"#000000\" stroke-opacity=\"1\" stroke-width=\"4\"/>\n",
       "<circle clip-path=\"url(#clip342)\" cx=\"728.575\" cy=\"1464.89\" r=\"14\" fill=\"#009af9\" fill-rule=\"evenodd\" fill-opacity=\"1\" stroke=\"#000000\" stroke-opacity=\"1\" stroke-width=\"4\"/>\n",
       "<circle clip-path=\"url(#clip342)\" cx=\"733.586\" cy=\"1323.23\" r=\"14\" fill=\"#009af9\" fill-rule=\"evenodd\" fill-opacity=\"1\" stroke=\"#000000\" stroke-opacity=\"1\" stroke-width=\"4\"/>\n",
       "<circle clip-path=\"url(#clip342)\" cx=\"739.585\" cy=\"1392.81\" r=\"14\" fill=\"#009af9\" fill-rule=\"evenodd\" fill-opacity=\"1\" stroke=\"#000000\" stroke-opacity=\"1\" stroke-width=\"4\"/>\n",
       "<circle clip-path=\"url(#clip342)\" cx=\"743.135\" cy=\"1221.54\" r=\"14\" fill=\"#009af9\" fill-rule=\"evenodd\" fill-opacity=\"1\" stroke=\"#000000\" stroke-opacity=\"1\" stroke-width=\"4\"/>\n",
       "<circle clip-path=\"url(#clip342)\" cx=\"743.135\" cy=\"1363.85\" r=\"14\" fill=\"#009af9\" fill-rule=\"evenodd\" fill-opacity=\"1\" stroke=\"#000000\" stroke-opacity=\"1\" stroke-width=\"4\"/>\n",
       "<circle clip-path=\"url(#clip342)\" cx=\"744.243\" cy=\"1498.75\" r=\"14\" fill=\"#009af9\" fill-rule=\"evenodd\" fill-opacity=\"1\" stroke=\"#000000\" stroke-opacity=\"1\" stroke-width=\"4\"/>\n",
       "<circle clip-path=\"url(#clip342)\" cx=\"745.682\" cy=\"1171.67\" r=\"14\" fill=\"#009af9\" fill-rule=\"evenodd\" fill-opacity=\"1\" stroke=\"#000000\" stroke-opacity=\"1\" stroke-width=\"4\"/>\n",
       "<circle clip-path=\"url(#clip342)\" cx=\"747.38\" cy=\"1340.36\" r=\"14\" fill=\"#009af9\" fill-rule=\"evenodd\" fill-opacity=\"1\" stroke=\"#000000\" stroke-opacity=\"1\" stroke-width=\"4\"/>\n",
       "<circle clip-path=\"url(#clip342)\" cx=\"748.441\" cy=\"1339.79\" r=\"14\" fill=\"#009af9\" fill-rule=\"evenodd\" fill-opacity=\"1\" stroke=\"#000000\" stroke-opacity=\"1\" stroke-width=\"4\"/>\n",
       "<circle clip-path=\"url(#clip342)\" cx=\"750.862\" cy=\"1442.36\" r=\"14\" fill=\"#009af9\" fill-rule=\"evenodd\" fill-opacity=\"1\" stroke=\"#000000\" stroke-opacity=\"1\" stroke-width=\"4\"/>\n",
       "<circle clip-path=\"url(#clip342)\" cx=\"751.624\" cy=\"1400.85\" r=\"14\" fill=\"#009af9\" fill-rule=\"evenodd\" fill-opacity=\"1\" stroke=\"#000000\" stroke-opacity=\"1\" stroke-width=\"4\"/>\n",
       "<circle clip-path=\"url(#clip342)\" cx=\"752.685\" cy=\"1315.98\" r=\"14\" fill=\"#009af9\" fill-rule=\"evenodd\" fill-opacity=\"1\" stroke=\"#000000\" stroke-opacity=\"1\" stroke-width=\"4\"/>\n",
       "<circle clip-path=\"url(#clip342)\" cx=\"753.746\" cy=\"1200.63\" r=\"14\" fill=\"#009af9\" fill-rule=\"evenodd\" fill-opacity=\"1\" stroke=\"#000000\" stroke-opacity=\"1\" stroke-width=\"4\"/>\n",
       "<circle clip-path=\"url(#clip342)\" cx=\"756.023\" cy=\"1323.62\" r=\"14\" fill=\"#009af9\" fill-rule=\"evenodd\" fill-opacity=\"1\" stroke=\"#000000\" stroke-opacity=\"1\" stroke-width=\"4\"/>\n",
       "<circle clip-path=\"url(#clip342)\" cx=\"760.112\" cy=\"1242.86\" r=\"14\" fill=\"#009af9\" fill-rule=\"evenodd\" fill-opacity=\"1\" stroke=\"#000000\" stroke-opacity=\"1\" stroke-width=\"4\"/>\n",
       "<circle clip-path=\"url(#clip342)\" cx=\"761.94\" cy=\"1245.03\" r=\"14\" fill=\"#009af9\" fill-rule=\"evenodd\" fill-opacity=\"1\" stroke=\"#000000\" stroke-opacity=\"1\" stroke-width=\"4\"/>\n",
       "<circle clip-path=\"url(#clip342)\" cx=\"763.72\" cy=\"970.229\" r=\"14\" fill=\"#009af9\" fill-rule=\"evenodd\" fill-opacity=\"1\" stroke=\"#000000\" stroke-opacity=\"1\" stroke-width=\"4\"/>\n",
       "<circle clip-path=\"url(#clip342)\" cx=\"764.357\" cy=\"1239.24\" r=\"14\" fill=\"#009af9\" fill-rule=\"evenodd\" fill-opacity=\"1\" stroke=\"#000000\" stroke-opacity=\"1\" stroke-width=\"4\"/>\n",
       "<circle clip-path=\"url(#clip342)\" cx=\"764.357\" cy=\"874.584\" r=\"14\" fill=\"#009af9\" fill-rule=\"evenodd\" fill-opacity=\"1\" stroke=\"#000000\" stroke-opacity=\"1\" stroke-width=\"4\"/>\n",
       "<circle clip-path=\"url(#clip342)\" cx=\"766.479\" cy=\"1230.23\" r=\"14\" fill=\"#009af9\" fill-rule=\"evenodd\" fill-opacity=\"1\" stroke=\"#000000\" stroke-opacity=\"1\" stroke-width=\"4\"/>\n",
       "<circle clip-path=\"url(#clip342)\" cx=\"774.967\" cy=\"1362.56\" r=\"14\" fill=\"#009af9\" fill-rule=\"evenodd\" fill-opacity=\"1\" stroke=\"#000000\" stroke-opacity=\"1\" stroke-width=\"4\"/>\n",
       "<circle clip-path=\"url(#clip342)\" cx=\"777.09\" cy=\"1036.19\" r=\"14\" fill=\"#009af9\" fill-rule=\"evenodd\" fill-opacity=\"1\" stroke=\"#000000\" stroke-opacity=\"1\" stroke-width=\"4\"/>\n",
       "<circle clip-path=\"url(#clip342)\" cx=\"779.708\" cy=\"1445.18\" r=\"14\" fill=\"#009af9\" fill-rule=\"evenodd\" fill-opacity=\"1\" stroke=\"#000000\" stroke-opacity=\"1\" stroke-width=\"4\"/>\n",
       "<circle clip-path=\"url(#clip342)\" cx=\"780.23\" cy=\"1443.25\" r=\"14\" fill=\"#009af9\" fill-rule=\"evenodd\" fill-opacity=\"1\" stroke=\"#000000\" stroke-opacity=\"1\" stroke-width=\"4\"/>\n",
       "<circle clip-path=\"url(#clip342)\" cx=\"785.285\" cy=\"1409.54\" r=\"14\" fill=\"#009af9\" fill-rule=\"evenodd\" fill-opacity=\"1\" stroke=\"#000000\" stroke-opacity=\"1\" stroke-width=\"4\"/>\n",
       "<circle clip-path=\"url(#clip342)\" cx=\"787.7\" cy=\"1324.59\" r=\"14\" fill=\"#009af9\" fill-rule=\"evenodd\" fill-opacity=\"1\" stroke=\"#000000\" stroke-opacity=\"1\" stroke-width=\"4\"/>\n",
       "<circle clip-path=\"url(#clip342)\" cx=\"790.151\" cy=\"1317.11\" r=\"14\" fill=\"#009af9\" fill-rule=\"evenodd\" fill-opacity=\"1\" stroke=\"#000000\" stroke-opacity=\"1\" stroke-width=\"4\"/>\n",
       "<circle clip-path=\"url(#clip342)\" cx=\"794.432\" cy=\"1193.94\" r=\"14\" fill=\"#009af9\" fill-rule=\"evenodd\" fill-opacity=\"1\" stroke=\"#000000\" stroke-opacity=\"1\" stroke-width=\"4\"/>\n",
       "<circle clip-path=\"url(#clip342)\" cx=\"802.555\" cy=\"1268.85\" r=\"14\" fill=\"#009af9\" fill-rule=\"evenodd\" fill-opacity=\"1\" stroke=\"#000000\" stroke-opacity=\"1\" stroke-width=\"4\"/>\n",
       "<circle clip-path=\"url(#clip342)\" cx=\"806.8\" cy=\"1338.18\" r=\"14\" fill=\"#009af9\" fill-rule=\"evenodd\" fill-opacity=\"1\" stroke=\"#000000\" stroke-opacity=\"1\" stroke-width=\"4\"/>\n",
       "<circle clip-path=\"url(#clip342)\" cx=\"808.922\" cy=\"1123.72\" r=\"14\" fill=\"#009af9\" fill-rule=\"evenodd\" fill-opacity=\"1\" stroke=\"#000000\" stroke-opacity=\"1\" stroke-width=\"4\"/>\n",
       "<circle clip-path=\"url(#clip342)\" cx=\"808.922\" cy=\"1210.92\" r=\"14\" fill=\"#009af9\" fill-rule=\"evenodd\" fill-opacity=\"1\" stroke=\"#000000\" stroke-opacity=\"1\" stroke-width=\"4\"/>\n",
       "<circle clip-path=\"url(#clip342)\" cx=\"812.105\" cy=\"1241.82\" r=\"14\" fill=\"#009af9\" fill-rule=\"evenodd\" fill-opacity=\"1\" stroke=\"#000000\" stroke-opacity=\"1\" stroke-width=\"4\"/>\n",
       "<circle clip-path=\"url(#clip342)\" cx=\"819.532\" cy=\"951.244\" r=\"14\" fill=\"#009af9\" fill-rule=\"evenodd\" fill-opacity=\"1\" stroke=\"#000000\" stroke-opacity=\"1\" stroke-width=\"4\"/>\n",
       "<circle clip-path=\"url(#clip342)\" cx=\"819.532\" cy=\"1231.59\" r=\"14\" fill=\"#009af9\" fill-rule=\"evenodd\" fill-opacity=\"1\" stroke=\"#000000\" stroke-opacity=\"1\" stroke-width=\"4\"/>\n",
       "<circle clip-path=\"url(#clip342)\" cx=\"828.021\" cy=\"1313.97\" r=\"14\" fill=\"#009af9\" fill-rule=\"evenodd\" fill-opacity=\"1\" stroke=\"#000000\" stroke-opacity=\"1\" stroke-width=\"4\"/>\n",
       "<circle clip-path=\"url(#clip342)\" cx=\"837.411\" cy=\"947.06\" r=\"14\" fill=\"#009af9\" fill-rule=\"evenodd\" fill-opacity=\"1\" stroke=\"#000000\" stroke-opacity=\"1\" stroke-width=\"4\"/>\n",
       "<circle clip-path=\"url(#clip342)\" cx=\"839.345\" cy=\"1310.43\" r=\"14\" fill=\"#009af9\" fill-rule=\"evenodd\" fill-opacity=\"1\" stroke=\"#000000\" stroke-opacity=\"1\" stroke-width=\"4\"/>\n",
       "<circle clip-path=\"url(#clip342)\" cx=\"844.956\" cy=\"1003.05\" r=\"14\" fill=\"#009af9\" fill-rule=\"evenodd\" fill-opacity=\"1\" stroke=\"#000000\" stroke-opacity=\"1\" stroke-width=\"4\"/>\n",
       "<circle clip-path=\"url(#clip342)\" cx=\"849.242\" cy=\"1203.2\" r=\"14\" fill=\"#009af9\" fill-rule=\"evenodd\" fill-opacity=\"1\" stroke=\"#000000\" stroke-opacity=\"1\" stroke-width=\"4\"/>\n",
       "<circle clip-path=\"url(#clip342)\" cx=\"859.187\" cy=\"1164.34\" r=\"14\" fill=\"#009af9\" fill-rule=\"evenodd\" fill-opacity=\"1\" stroke=\"#000000\" stroke-opacity=\"1\" stroke-width=\"4\"/>\n",
       "<circle clip-path=\"url(#clip342)\" cx=\"859.626\" cy=\"1350.65\" r=\"14\" fill=\"#009af9\" fill-rule=\"evenodd\" fill-opacity=\"1\" stroke=\"#000000\" stroke-opacity=\"1\" stroke-width=\"4\"/>\n",
       "<circle clip-path=\"url(#clip342)\" cx=\"859.853\" cy=\"1296.92\" r=\"14\" fill=\"#009af9\" fill-rule=\"evenodd\" fill-opacity=\"1\" stroke=\"#000000\" stroke-opacity=\"1\" stroke-width=\"4\"/>\n",
       "<circle clip-path=\"url(#clip342)\" cx=\"859.853\" cy=\"1321.94\" r=\"14\" fill=\"#009af9\" fill-rule=\"evenodd\" fill-opacity=\"1\" stroke=\"#000000\" stroke-opacity=\"1\" stroke-width=\"4\"/>\n",
       "<circle clip-path=\"url(#clip342)\" cx=\"881.075\" cy=\"901.614\" r=\"14\" fill=\"#009af9\" fill-rule=\"evenodd\" fill-opacity=\"1\" stroke=\"#000000\" stroke-opacity=\"1\" stroke-width=\"4\"/>\n",
       "<circle clip-path=\"url(#clip342)\" cx=\"883.197\" cy=\"1144.96\" r=\"14\" fill=\"#009af9\" fill-rule=\"evenodd\" fill-opacity=\"1\" stroke=\"#000000\" stroke-opacity=\"1\" stroke-width=\"4\"/>\n",
       "<circle clip-path=\"url(#clip342)\" cx=\"883.316\" cy=\"1333.2\" r=\"14\" fill=\"#009af9\" fill-rule=\"evenodd\" fill-opacity=\"1\" stroke=\"#000000\" stroke-opacity=\"1\" stroke-width=\"4\"/>\n",
       "<circle clip-path=\"url(#clip342)\" cx=\"886.081\" cy=\"1381.22\" r=\"14\" fill=\"#009af9\" fill-rule=\"evenodd\" fill-opacity=\"1\" stroke=\"#000000\" stroke-opacity=\"1\" stroke-width=\"4\"/>\n",
       "<circle clip-path=\"url(#clip342)\" cx=\"891.558\" cy=\"1219.93\" r=\"14\" fill=\"#009af9\" fill-rule=\"evenodd\" fill-opacity=\"1\" stroke=\"#000000\" stroke-opacity=\"1\" stroke-width=\"4\"/>\n",
       "<circle clip-path=\"url(#clip342)\" cx=\"902.296\" cy=\"1227.98\" r=\"14\" fill=\"#009af9\" fill-rule=\"evenodd\" fill-opacity=\"1\" stroke=\"#000000\" stroke-opacity=\"1\" stroke-width=\"4\"/>\n",
       "<circle clip-path=\"url(#clip342)\" cx=\"915.725\" cy=\"1109.88\" r=\"14\" fill=\"#009af9\" fill-rule=\"evenodd\" fill-opacity=\"1\" stroke=\"#000000\" stroke-opacity=\"1\" stroke-width=\"4\"/>\n",
       "<circle clip-path=\"url(#clip342)\" cx=\"919.566\" cy=\"1334.24\" r=\"14\" fill=\"#009af9\" fill-rule=\"evenodd\" fill-opacity=\"1\" stroke=\"#000000\" stroke-opacity=\"1\" stroke-width=\"4\"/>\n",
       "<circle clip-path=\"url(#clip342)\" cx=\"926.976\" cy=\"1329.09\" r=\"14\" fill=\"#009af9\" fill-rule=\"evenodd\" fill-opacity=\"1\" stroke=\"#000000\" stroke-opacity=\"1\" stroke-width=\"4\"/>\n",
       "<circle clip-path=\"url(#clip342)\" cx=\"934.128\" cy=\"748.444\" r=\"14\" fill=\"#009af9\" fill-rule=\"evenodd\" fill-opacity=\"1\" stroke=\"#000000\" stroke-opacity=\"1\" stroke-width=\"4\"/>\n",
       "<circle clip-path=\"url(#clip342)\" cx=\"934.128\" cy=\"1109.49\" r=\"14\" fill=\"#009af9\" fill-rule=\"evenodd\" fill-opacity=\"1\" stroke=\"#000000\" stroke-opacity=\"1\" stroke-width=\"4\"/>\n",
       "<circle clip-path=\"url(#clip342)\" cx=\"944.739\" cy=\"1109.16\" r=\"14\" fill=\"#009af9\" fill-rule=\"evenodd\" fill-opacity=\"1\" stroke=\"#000000\" stroke-opacity=\"1\" stroke-width=\"4\"/>\n",
       "<circle clip-path=\"url(#clip342)\" cx=\"952.332\" cy=\"1289.76\" r=\"14\" fill=\"#009af9\" fill-rule=\"evenodd\" fill-opacity=\"1\" stroke=\"#000000\" stroke-opacity=\"1\" stroke-width=\"4\"/>\n",
       "<circle clip-path=\"url(#clip342)\" cx=\"957.472\" cy=\"997.012\" r=\"14\" fill=\"#009af9\" fill-rule=\"evenodd\" fill-opacity=\"1\" stroke=\"#000000\" stroke-opacity=\"1\" stroke-width=\"4\"/>\n",
       "<circle clip-path=\"url(#clip342)\" cx=\"976.571\" cy=\"1130.16\" r=\"14\" fill=\"#009af9\" fill-rule=\"evenodd\" fill-opacity=\"1\" stroke=\"#000000\" stroke-opacity=\"1\" stroke-width=\"4\"/>\n",
       "<circle clip-path=\"url(#clip342)\" cx=\"988.765\" cy=\"1200.38\" r=\"14\" fill=\"#009af9\" fill-rule=\"evenodd\" fill-opacity=\"1\" stroke=\"#000000\" stroke-opacity=\"1\" stroke-width=\"4\"/>\n",
       "<circle clip-path=\"url(#clip342)\" cx=\"999.914\" cy=\"926.144\" r=\"14\" fill=\"#009af9\" fill-rule=\"evenodd\" fill-opacity=\"1\" stroke=\"#000000\" stroke-opacity=\"1\" stroke-width=\"4\"/>\n",
       "<circle clip-path=\"url(#clip342)\" cx=\"1005.79\" cy=\"1306.82\" r=\"14\" fill=\"#009af9\" fill-rule=\"evenodd\" fill-opacity=\"1\" stroke=\"#000000\" stroke-opacity=\"1\" stroke-width=\"4\"/>\n",
       "<circle clip-path=\"url(#clip342)\" cx=\"1010.6\" cy=\"1126.62\" r=\"14\" fill=\"#009af9\" fill-rule=\"evenodd\" fill-opacity=\"1\" stroke=\"#000000\" stroke-opacity=\"1\" stroke-width=\"4\"/>\n",
       "<circle clip-path=\"url(#clip342)\" cx=\"1020.19\" cy=\"1221.54\" r=\"14\" fill=\"#009af9\" fill-rule=\"evenodd\" fill-opacity=\"1\" stroke=\"#000000\" stroke-opacity=\"1\" stroke-width=\"4\"/>\n",
       "<circle clip-path=\"url(#clip342)\" cx=\"1023.91\" cy=\"1203.6\" r=\"14\" fill=\"#009af9\" fill-rule=\"evenodd\" fill-opacity=\"1\" stroke=\"#000000\" stroke-opacity=\"1\" stroke-width=\"4\"/>\n",
       "<circle clip-path=\"url(#clip342)\" cx=\"1029.62\" cy=\"1241.25\" r=\"14\" fill=\"#009af9\" fill-rule=\"evenodd\" fill-opacity=\"1\" stroke=\"#000000\" stroke-opacity=\"1\" stroke-width=\"4\"/>\n",
       "<circle clip-path=\"url(#clip342)\" cx=\"1040.24\" cy=\"1228.45\" r=\"14\" fill=\"#009af9\" fill-rule=\"evenodd\" fill-opacity=\"1\" stroke=\"#000000\" stroke-opacity=\"1\" stroke-width=\"4\"/>\n",
       "<circle clip-path=\"url(#clip342)\" cx=\"1057.21\" cy=\"1403.43\" r=\"14\" fill=\"#009af9\" fill-rule=\"evenodd\" fill-opacity=\"1\" stroke=\"#000000\" stroke-opacity=\"1\" stroke-width=\"4\"/>\n",
       "<circle clip-path=\"url(#clip342)\" cx=\"1078.43\" cy=\"1255.41\" r=\"14\" fill=\"#009af9\" fill-rule=\"evenodd\" fill-opacity=\"1\" stroke=\"#000000\" stroke-opacity=\"1\" stroke-width=\"4\"/>\n",
       "<circle clip-path=\"url(#clip342)\" cx=\"1093.5\" cy=\"808.618\" r=\"14\" fill=\"#009af9\" fill-rule=\"evenodd\" fill-opacity=\"1\" stroke=\"#000000\" stroke-opacity=\"1\" stroke-width=\"4\"/>\n",
       "<circle clip-path=\"url(#clip342)\" cx=\"1103.9\" cy=\"1236.74\" r=\"14\" fill=\"#009af9\" fill-rule=\"evenodd\" fill-opacity=\"1\" stroke=\"#000000\" stroke-opacity=\"1\" stroke-width=\"4\"/>\n",
       "<circle clip-path=\"url(#clip342)\" cx=\"1121.79\" cy=\"1152.68\" r=\"14\" fill=\"#009af9\" fill-rule=\"evenodd\" fill-opacity=\"1\" stroke=\"#000000\" stroke-opacity=\"1\" stroke-width=\"4\"/>\n",
       "<circle clip-path=\"url(#clip342)\" cx=\"1152.71\" cy=\"1199.66\" r=\"14\" fill=\"#009af9\" fill-rule=\"evenodd\" fill-opacity=\"1\" stroke=\"#000000\" stroke-opacity=\"1\" stroke-width=\"4\"/>\n",
       "<circle clip-path=\"url(#clip342)\" cx=\"1162.26\" cy=\"1166.67\" r=\"14\" fill=\"#009af9\" fill-rule=\"evenodd\" fill-opacity=\"1\" stroke=\"#000000\" stroke-opacity=\"1\" stroke-width=\"4\"/>\n",
       "<circle clip-path=\"url(#clip342)\" cx=\"1169.52\" cy=\"1238.67\" r=\"14\" fill=\"#009af9\" fill-rule=\"evenodd\" fill-opacity=\"1\" stroke=\"#000000\" stroke-opacity=\"1\" stroke-width=\"4\"/>\n",
       "<circle clip-path=\"url(#clip342)\" cx=\"1199.4\" cy=\"1179.39\" r=\"14\" fill=\"#009af9\" fill-rule=\"evenodd\" fill-opacity=\"1\" stroke=\"#000000\" stroke-opacity=\"1\" stroke-width=\"4\"/>\n",
       "<circle clip-path=\"url(#clip342)\" cx=\"1210.01\" cy=\"438.963\" r=\"14\" fill=\"#009af9\" fill-rule=\"evenodd\" fill-opacity=\"1\" stroke=\"#000000\" stroke-opacity=\"1\" stroke-width=\"4\"/>\n",
       "<circle clip-path=\"url(#clip342)\" cx=\"1214.25\" cy=\"498.096\" r=\"14\" fill=\"#009af9\" fill-rule=\"evenodd\" fill-opacity=\"1\" stroke=\"#000000\" stroke-opacity=\"1\" stroke-width=\"4\"/>\n",
       "<circle clip-path=\"url(#clip342)\" cx=\"1252.45\" cy=\"1051.07\" r=\"14\" fill=\"#009af9\" fill-rule=\"evenodd\" fill-opacity=\"1\" stroke=\"#000000\" stroke-opacity=\"1\" stroke-width=\"4\"/>\n",
       "<circle clip-path=\"url(#clip342)\" cx=\"1263.06\" cy=\"840.228\" r=\"14\" fill=\"#009af9\" fill-rule=\"evenodd\" fill-opacity=\"1\" stroke=\"#000000\" stroke-opacity=\"1\" stroke-width=\"4\"/>\n",
       "<circle clip-path=\"url(#clip342)\" cx=\"1283.22\" cy=\"977.383\" r=\"14\" fill=\"#009af9\" fill-rule=\"evenodd\" fill-opacity=\"1\" stroke=\"#000000\" stroke-opacity=\"1\" stroke-width=\"4\"/>\n",
       "<circle clip-path=\"url(#clip342)\" cx=\"1316.11\" cy=\"1169.81\" r=\"14\" fill=\"#009af9\" fill-rule=\"evenodd\" fill-opacity=\"1\" stroke=\"#000000\" stroke-opacity=\"1\" stroke-width=\"4\"/>\n",
       "<circle clip-path=\"url(#clip342)\" cx=\"1330.31\" cy=\"1358.05\" r=\"14\" fill=\"#009af9\" fill-rule=\"evenodd\" fill-opacity=\"1\" stroke=\"#000000\" stroke-opacity=\"1\" stroke-width=\"4\"/>\n",
       "<circle clip-path=\"url(#clip342)\" cx=\"1375.53\" cy=\"846.342\" r=\"14\" fill=\"#009af9\" fill-rule=\"evenodd\" fill-opacity=\"1\" stroke=\"#000000\" stroke-opacity=\"1\" stroke-width=\"4\"/>\n",
       "<circle clip-path=\"url(#clip342)\" cx=\"1483.96\" cy=\"660.597\" r=\"14\" fill=\"#009af9\" fill-rule=\"evenodd\" fill-opacity=\"1\" stroke=\"#000000\" stroke-opacity=\"1\" stroke-width=\"4\"/>\n",
       "<circle clip-path=\"url(#clip342)\" cx=\"1604.72\" cy=\"967.655\" r=\"14\" fill=\"#009af9\" fill-rule=\"evenodd\" fill-opacity=\"1\" stroke=\"#000000\" stroke-opacity=\"1\" stroke-width=\"4\"/>\n",
       "<circle clip-path=\"url(#clip342)\" cx=\"1673.41\" cy=\"743.371\" r=\"14\" fill=\"#009af9\" fill-rule=\"evenodd\" fill-opacity=\"1\" stroke=\"#000000\" stroke-opacity=\"1\" stroke-width=\"4\"/>\n",
       "<circle clip-path=\"url(#clip342)\" cx=\"1690.03\" cy=\"932.505\" r=\"14\" fill=\"#009af9\" fill-rule=\"evenodd\" fill-opacity=\"1\" stroke=\"#000000\" stroke-opacity=\"1\" stroke-width=\"4\"/>\n",
       "<circle clip-path=\"url(#clip342)\" cx=\"1722.84\" cy=\"645.473\" r=\"14\" fill=\"#009af9\" fill-rule=\"evenodd\" fill-opacity=\"1\" stroke=\"#000000\" stroke-opacity=\"1\" stroke-width=\"4\"/>\n",
       "<circle clip-path=\"url(#clip342)\" cx=\"372.656\" cy=\"1472.36\" r=\"14\" fill=\"#009af9\" fill-rule=\"evenodd\" fill-opacity=\"1\" stroke=\"#000000\" stroke-opacity=\"1\" stroke-width=\"4\"/>\n",
       "<circle clip-path=\"url(#clip342)\" cx=\"388.738\" cy=\"1451.13\" r=\"14\" fill=\"#009af9\" fill-rule=\"evenodd\" fill-opacity=\"1\" stroke=\"#000000\" stroke-opacity=\"1\" stroke-width=\"4\"/>\n",
       "<circle clip-path=\"url(#clip342)\" cx=\"392.982\" cy=\"1409.94\" r=\"14\" fill=\"#009af9\" fill-rule=\"evenodd\" fill-opacity=\"1\" stroke=\"#000000\" stroke-opacity=\"1\" stroke-width=\"4\"/>\n",
       "<circle clip-path=\"url(#clip342)\" cx=\"392.982\" cy=\"1451.13\" r=\"14\" fill=\"#009af9\" fill-rule=\"evenodd\" fill-opacity=\"1\" stroke=\"#000000\" stroke-opacity=\"1\" stroke-width=\"4\"/>\n",
       "<circle clip-path=\"url(#clip342)\" cx=\"392.982\" cy=\"1394.49\" r=\"14\" fill=\"#009af9\" fill-rule=\"evenodd\" fill-opacity=\"1\" stroke=\"#000000\" stroke-opacity=\"1\" stroke-width=\"4\"/>\n",
       "<circle clip-path=\"url(#clip342)\" cx=\"396.165\" cy=\"1423.45\" r=\"14\" fill=\"#009af9\" fill-rule=\"evenodd\" fill-opacity=\"1\" stroke=\"#000000\" stroke-opacity=\"1\" stroke-width=\"4\"/>\n",
       "<circle clip-path=\"url(#clip342)\" cx=\"405.715\" cy=\"1452.41\" r=\"14\" fill=\"#009af9\" fill-rule=\"evenodd\" fill-opacity=\"1\" stroke=\"#000000\" stroke-opacity=\"1\" stroke-width=\"4\"/>\n",
       "<circle clip-path=\"url(#clip342)\" cx=\"414.203\" cy=\"1464.96\" r=\"14\" fill=\"#009af9\" fill-rule=\"evenodd\" fill-opacity=\"1\" stroke=\"#000000\" stroke-opacity=\"1\" stroke-width=\"4\"/>\n",
       "<circle clip-path=\"url(#clip342)\" cx=\"418.448\" cy=\"1450.48\" r=\"14\" fill=\"#009af9\" fill-rule=\"evenodd\" fill-opacity=\"1\" stroke=\"#000000\" stroke-opacity=\"1\" stroke-width=\"4\"/>\n",
       "<circle clip-path=\"url(#clip342)\" cx=\"435.425\" cy=\"1416.69\" r=\"14\" fill=\"#009af9\" fill-rule=\"evenodd\" fill-opacity=\"1\" stroke=\"#000000\" stroke-opacity=\"1\" stroke-width=\"4\"/>\n",
       "<circle clip-path=\"url(#clip342)\" cx=\"457.973\" cy=\"1432.39\" r=\"14\" fill=\"#009af9\" fill-rule=\"evenodd\" fill-opacity=\"1\" stroke=\"#000000\" stroke-opacity=\"1\" stroke-width=\"4\"/>\n",
       "<circle clip-path=\"url(#clip342)\" cx=\"459.066\" cy=\"1474.29\" r=\"14\" fill=\"#009af9\" fill-rule=\"evenodd\" fill-opacity=\"1\" stroke=\"#000000\" stroke-opacity=\"1\" stroke-width=\"4\"/>\n",
       "<circle clip-path=\"url(#clip342)\" cx=\"476.276\" cy=\"1484.59\" r=\"14\" fill=\"#009af9\" fill-rule=\"evenodd\" fill-opacity=\"1\" stroke=\"#000000\" stroke-opacity=\"1\" stroke-width=\"4\"/>\n",
       "<circle clip-path=\"url(#clip342)\" cx=\"477.868\" cy=\"1407.86\" r=\"14\" fill=\"#009af9\" fill-rule=\"evenodd\" fill-opacity=\"1\" stroke=\"#000000\" stroke-opacity=\"1\" stroke-width=\"4\"/>\n",
       "<circle clip-path=\"url(#clip342)\" cx=\"484.234\" cy=\"1481.37\" r=\"14\" fill=\"#009af9\" fill-rule=\"evenodd\" fill-opacity=\"1\" stroke=\"#000000\" stroke-opacity=\"1\" stroke-width=\"4\"/>\n",
       "<circle clip-path=\"url(#clip342)\" cx=\"486.356\" cy=\"1481.22\" r=\"14\" fill=\"#009af9\" fill-rule=\"evenodd\" fill-opacity=\"1\" stroke=\"#000000\" stroke-opacity=\"1\" stroke-width=\"4\"/>\n",
       "<circle clip-path=\"url(#clip342)\" cx=\"499.089\" cy=\"1448.87\" r=\"14\" fill=\"#009af9\" fill-rule=\"evenodd\" fill-opacity=\"1\" stroke=\"#000000\" stroke-opacity=\"1\" stroke-width=\"4\"/>\n",
       "<circle clip-path=\"url(#clip342)\" cx=\"499.089\" cy=\"1429\" r=\"14\" fill=\"#009af9\" fill-rule=\"evenodd\" fill-opacity=\"1\" stroke=\"#000000\" stroke-opacity=\"1\" stroke-width=\"4\"/>\n",
       "<circle clip-path=\"url(#clip342)\" cx=\"500.15\" cy=\"1358.05\" r=\"14\" fill=\"#009af9\" fill-rule=\"evenodd\" fill-opacity=\"1\" stroke=\"#000000\" stroke-opacity=\"1\" stroke-width=\"4\"/>\n",
       "<circle clip-path=\"url(#clip342)\" cx=\"500.405\" cy=\"1329.09\" r=\"14\" fill=\"#009af9\" fill-rule=\"evenodd\" fill-opacity=\"1\" stroke=\"#000000\" stroke-opacity=\"1\" stroke-width=\"4\"/>\n",
       "<circle clip-path=\"url(#clip342)\" cx=\"501.211\" cy=\"1424.02\" r=\"14\" fill=\"#009af9\" fill-rule=\"evenodd\" fill-opacity=\"1\" stroke=\"#000000\" stroke-opacity=\"1\" stroke-width=\"4\"/>\n",
       "<circle clip-path=\"url(#clip342)\" cx=\"513.944\" cy=\"1406.64\" r=\"14\" fill=\"#009af9\" fill-rule=\"evenodd\" fill-opacity=\"1\" stroke=\"#000000\" stroke-opacity=\"1\" stroke-width=\"4\"/>\n",
       "<circle clip-path=\"url(#clip342)\" cx=\"515.005\" cy=\"1408.25\" r=\"14\" fill=\"#009af9\" fill-rule=\"evenodd\" fill-opacity=\"1\" stroke=\"#000000\" stroke-opacity=\"1\" stroke-width=\"4\"/>\n",
       "<circle clip-path=\"url(#clip342)\" cx=\"516.066\" cy=\"1392.09\" r=\"14\" fill=\"#009af9\" fill-rule=\"evenodd\" fill-opacity=\"1\" stroke=\"#000000\" stroke-opacity=\"1\" stroke-width=\"4\"/>\n",
       "<circle clip-path=\"url(#clip342)\" cx=\"518.188\" cy=\"1390.55\" r=\"14\" fill=\"#009af9\" fill-rule=\"evenodd\" fill-opacity=\"1\" stroke=\"#000000\" stroke-opacity=\"1\" stroke-width=\"4\"/>\n",
       "<circle clip-path=\"url(#clip342)\" cx=\"518.188\" cy=\"1460.95\" r=\"14\" fill=\"#009af9\" fill-rule=\"evenodd\" fill-opacity=\"1\" stroke=\"#000000\" stroke-opacity=\"1\" stroke-width=\"4\"/>\n",
       "<circle clip-path=\"url(#clip342)\" cx=\"519.065\" cy=\"1373.5\" r=\"14\" fill=\"#009af9\" fill-rule=\"evenodd\" fill-opacity=\"1\" stroke=\"#000000\" stroke-opacity=\"1\" stroke-width=\"4\"/>\n",
       "<circle clip-path=\"url(#clip342)\" cx=\"520.311\" cy=\"1420.41\" r=\"14\" fill=\"#009af9\" fill-rule=\"evenodd\" fill-opacity=\"1\" stroke=\"#000000\" stroke-opacity=\"1\" stroke-width=\"4\"/>\n",
       "<circle clip-path=\"url(#clip342)\" cx=\"530.921\" cy=\"1422.41\" r=\"14\" fill=\"#009af9\" fill-rule=\"evenodd\" fill-opacity=\"1\" stroke=\"#000000\" stroke-opacity=\"1\" stroke-width=\"4\"/>\n",
       "<circle clip-path=\"url(#clip342)\" cx=\"534.635\" cy=\"1382.26\" r=\"14\" fill=\"#009af9\" fill-rule=\"evenodd\" fill-opacity=\"1\" stroke=\"#000000\" stroke-opacity=\"1\" stroke-width=\"4\"/>\n",
       "<circle clip-path=\"url(#clip342)\" cx=\"547.306\" cy=\"1215.43\" r=\"14\" fill=\"#009af9\" fill-rule=\"evenodd\" fill-opacity=\"1\" stroke=\"#000000\" stroke-opacity=\"1\" stroke-width=\"4\"/>\n",
       "<circle clip-path=\"url(#clip342)\" cx=\"547.389\" cy=\"1377.36\" r=\"14\" fill=\"#009af9\" fill-rule=\"evenodd\" fill-opacity=\"1\" stroke=\"#000000\" stroke-opacity=\"1\" stroke-width=\"4\"/>\n",
       "<circle clip-path=\"url(#clip342)\" cx=\"547.898\" cy=\"1332.31\" r=\"14\" fill=\"#009af9\" fill-rule=\"evenodd\" fill-opacity=\"1\" stroke=\"#000000\" stroke-opacity=\"1\" stroke-width=\"4\"/>\n",
       "<circle clip-path=\"url(#clip342)\" cx=\"552.143\" cy=\"1376.07\" r=\"14\" fill=\"#009af9\" fill-rule=\"evenodd\" fill-opacity=\"1\" stroke=\"#000000\" stroke-opacity=\"1\" stroke-width=\"4\"/>\n",
       "<circle clip-path=\"url(#clip342)\" cx=\"562.753\" cy=\"1441.72\" r=\"14\" fill=\"#009af9\" fill-rule=\"evenodd\" fill-opacity=\"1\" stroke=\"#000000\" stroke-opacity=\"1\" stroke-width=\"4\"/>\n",
       "<circle clip-path=\"url(#clip342)\" cx=\"562.753\" cy=\"1377.76\" r=\"14\" fill=\"#009af9\" fill-rule=\"evenodd\" fill-opacity=\"1\" stroke=\"#000000\" stroke-opacity=\"1\" stroke-width=\"4\"/>\n",
       "<circle clip-path=\"url(#clip342)\" cx=\"573.364\" cy=\"1311.07\" r=\"14\" fill=\"#009af9\" fill-rule=\"evenodd\" fill-opacity=\"1\" stroke=\"#000000\" stroke-opacity=\"1\" stroke-width=\"4\"/>\n",
       "<circle clip-path=\"url(#clip342)\" cx=\"573.364\" cy=\"1431.42\" r=\"14\" fill=\"#009af9\" fill-rule=\"evenodd\" fill-opacity=\"1\" stroke=\"#000000\" stroke-opacity=\"1\" stroke-width=\"4\"/>\n",
       "<circle clip-path=\"url(#clip342)\" cx=\"575.486\" cy=\"1299.74\" r=\"14\" fill=\"#009af9\" fill-rule=\"evenodd\" fill-opacity=\"1\" stroke=\"#000000\" stroke-opacity=\"1\" stroke-width=\"4\"/>\n",
       "<circle clip-path=\"url(#clip342)\" cx=\"583.975\" cy=\"1473.9\" r=\"14\" fill=\"#009af9\" fill-rule=\"evenodd\" fill-opacity=\"1\" stroke=\"#000000\" stroke-opacity=\"1\" stroke-width=\"4\"/>\n",
       "<circle clip-path=\"url(#clip342)\" cx=\"585.672\" cy=\"1436.89\" r=\"14\" fill=\"#009af9\" fill-rule=\"evenodd\" fill-opacity=\"1\" stroke=\"#000000\" stroke-opacity=\"1\" stroke-width=\"4\"/>\n",
       "<circle clip-path=\"url(#clip342)\" cx=\"586.398\" cy=\"1323.3\" r=\"14\" fill=\"#009af9\" fill-rule=\"evenodd\" fill-opacity=\"1\" stroke=\"#000000\" stroke-opacity=\"1\" stroke-width=\"4\"/>\n",
       "<circle clip-path=\"url(#clip342)\" cx=\"590.341\" cy=\"1386.62\" r=\"14\" fill=\"#009af9\" fill-rule=\"evenodd\" fill-opacity=\"1\" stroke=\"#000000\" stroke-opacity=\"1\" stroke-width=\"4\"/>\n",
       "<circle clip-path=\"url(#clip342)\" cx=\"594.585\" cy=\"1329.09\" r=\"14\" fill=\"#009af9\" fill-rule=\"evenodd\" fill-opacity=\"1\" stroke=\"#000000\" stroke-opacity=\"1\" stroke-width=\"4\"/>\n",
       "<circle clip-path=\"url(#clip342)\" cx=\"597.769\" cy=\"1232.24\" r=\"14\" fill=\"#009af9\" fill-rule=\"evenodd\" fill-opacity=\"1\" stroke=\"#000000\" stroke-opacity=\"1\" stroke-width=\"4\"/>\n",
       "<circle clip-path=\"url(#clip342)\" cx=\"597.981\" cy=\"1346.4\" r=\"14\" fill=\"#009af9\" fill-rule=\"evenodd\" fill-opacity=\"1\" stroke=\"#000000\" stroke-opacity=\"1\" stroke-width=\"4\"/>\n",
       "<circle clip-path=\"url(#clip342)\" cx=\"598.83\" cy=\"1415.98\" r=\"14\" fill=\"#009af9\" fill-rule=\"evenodd\" fill-opacity=\"1\" stroke=\"#000000\" stroke-opacity=\"1\" stroke-width=\"4\"/>\n",
       "<circle clip-path=\"url(#clip342)\" cx=\"605.196\" cy=\"1325.16\" r=\"14\" fill=\"#009af9\" fill-rule=\"evenodd\" fill-opacity=\"1\" stroke=\"#000000\" stroke-opacity=\"1\" stroke-width=\"4\"/>\n",
       "<circle clip-path=\"url(#clip342)\" cx=\"605.196\" cy=\"1329.09\" r=\"14\" fill=\"#009af9\" fill-rule=\"evenodd\" fill-opacity=\"1\" stroke=\"#000000\" stroke-opacity=\"1\" stroke-width=\"4\"/>\n",
       "<circle clip-path=\"url(#clip342)\" cx=\"610.062\" cy=\"1383.8\" r=\"14\" fill=\"#009af9\" fill-rule=\"evenodd\" fill-opacity=\"1\" stroke=\"#000000\" stroke-opacity=\"1\" stroke-width=\"4\"/>\n",
       "<circle clip-path=\"url(#clip342)\" cx=\"611.563\" cy=\"1313.5\" r=\"14\" fill=\"#009af9\" fill-rule=\"evenodd\" fill-opacity=\"1\" stroke=\"#000000\" stroke-opacity=\"1\" stroke-width=\"4\"/>\n",
       "<circle clip-path=\"url(#clip342)\" cx=\"611.563\" cy=\"1315.18\" r=\"14\" fill=\"#009af9\" fill-rule=\"evenodd\" fill-opacity=\"1\" stroke=\"#000000\" stroke-opacity=\"1\" stroke-width=\"4\"/>\n",
       "<circle clip-path=\"url(#clip342)\" cx=\"613.154\" cy=\"1245.75\" r=\"14\" fill=\"#009af9\" fill-rule=\"evenodd\" fill-opacity=\"1\" stroke=\"#000000\" stroke-opacity=\"1\" stroke-width=\"4\"/>\n",
       "<circle clip-path=\"url(#clip342)\" cx=\"613.154\" cy=\"1451.69\" r=\"14\" fill=\"#009af9\" fill-rule=\"evenodd\" fill-opacity=\"1\" stroke=\"#000000\" stroke-opacity=\"1\" stroke-width=\"4\"/>\n",
       "<circle clip-path=\"url(#clip342)\" cx=\"615.807\" cy=\"1427.88\" r=\"14\" fill=\"#009af9\" fill-rule=\"evenodd\" fill-opacity=\"1\" stroke=\"#000000\" stroke-opacity=\"1\" stroke-width=\"4\"/>\n",
       "<circle clip-path=\"url(#clip342)\" cx=\"616.337\" cy=\"1087.43\" r=\"14\" fill=\"#009af9\" fill-rule=\"evenodd\" fill-opacity=\"1\" stroke=\"#000000\" stroke-opacity=\"1\" stroke-width=\"4\"/>\n",
       "<circle clip-path=\"url(#clip342)\" cx=\"622.173\" cy=\"1251.87\" r=\"14\" fill=\"#009af9\" fill-rule=\"evenodd\" fill-opacity=\"1\" stroke=\"#000000\" stroke-opacity=\"1\" stroke-width=\"4\"/>\n",
       "<circle clip-path=\"url(#clip342)\" cx=\"628.741\" cy=\"1396.67\" r=\"14\" fill=\"#009af9\" fill-rule=\"evenodd\" fill-opacity=\"1\" stroke=\"#000000\" stroke-opacity=\"1\" stroke-width=\"4\"/>\n",
       "<circle clip-path=\"url(#clip342)\" cx=\"629.07\" cy=\"1406.32\" r=\"14\" fill=\"#009af9\" fill-rule=\"evenodd\" fill-opacity=\"1\" stroke=\"#000000\" stroke-opacity=\"1\" stroke-width=\"4\"/>\n",
       "<circle clip-path=\"url(#clip342)\" cx=\"632.784\" cy=\"1396.99\" r=\"14\" fill=\"#009af9\" fill-rule=\"evenodd\" fill-opacity=\"1\" stroke=\"#000000\" stroke-opacity=\"1\" stroke-width=\"4\"/>\n",
       "<circle clip-path=\"url(#clip342)\" cx=\"634.906\" cy=\"1278.18\" r=\"14\" fill=\"#009af9\" fill-rule=\"evenodd\" fill-opacity=\"1\" stroke=\"#000000\" stroke-opacity=\"1\" stroke-width=\"4\"/>\n",
       "<circle clip-path=\"url(#clip342)\" cx=\"637.028\" cy=\"1410.51\" r=\"14\" fill=\"#009af9\" fill-rule=\"evenodd\" fill-opacity=\"1\" stroke=\"#000000\" stroke-opacity=\"1\" stroke-width=\"4\"/>\n",
       "<circle clip-path=\"url(#clip342)\" cx=\"637.028\" cy=\"1329.09\" r=\"14\" fill=\"#009af9\" fill-rule=\"evenodd\" fill-opacity=\"1\" stroke=\"#000000\" stroke-opacity=\"1\" stroke-width=\"4\"/>\n",
       "<circle clip-path=\"url(#clip342)\" cx=\"637.028\" cy=\"1405.03\" r=\"14\" fill=\"#009af9\" fill-rule=\"evenodd\" fill-opacity=\"1\" stroke=\"#000000\" stroke-opacity=\"1\" stroke-width=\"4\"/>\n",
       "<circle clip-path=\"url(#clip342)\" cx=\"639.15\" cy=\"1270.21\" r=\"14\" fill=\"#009af9\" fill-rule=\"evenodd\" fill-opacity=\"1\" stroke=\"#000000\" stroke-opacity=\"1\" stroke-width=\"4\"/>\n",
       "<circle clip-path=\"url(#clip342)\" cx=\"641.273\" cy=\"1431.1\" r=\"14\" fill=\"#009af9\" fill-rule=\"evenodd\" fill-opacity=\"1\" stroke=\"#000000\" stroke-opacity=\"1\" stroke-width=\"4\"/>\n",
       "<circle clip-path=\"url(#clip342)\" cx=\"642.518\" cy=\"1213.25\" r=\"14\" fill=\"#009af9\" fill-rule=\"evenodd\" fill-opacity=\"1\" stroke=\"#000000\" stroke-opacity=\"1\" stroke-width=\"4\"/>\n",
       "<circle clip-path=\"url(#clip342)\" cx=\"647.796\" cy=\"1361.52\" r=\"14\" fill=\"#009af9\" fill-rule=\"evenodd\" fill-opacity=\"1\" stroke=\"#000000\" stroke-opacity=\"1\" stroke-width=\"4\"/>\n",
       "<circle clip-path=\"url(#clip342)\" cx=\"649.407\" cy=\"1421.12\" r=\"14\" fill=\"#009af9\" fill-rule=\"evenodd\" fill-opacity=\"1\" stroke=\"#000000\" stroke-opacity=\"1\" stroke-width=\"4\"/>\n",
       "<circle clip-path=\"url(#clip342)\" cx=\"651.427\" cy=\"1457.09\" r=\"14\" fill=\"#009af9\" fill-rule=\"evenodd\" fill-opacity=\"1\" stroke=\"#000000\" stroke-opacity=\"1\" stroke-width=\"4\"/>\n",
       "<circle clip-path=\"url(#clip342)\" cx=\"651.883\" cy=\"1255.73\" r=\"14\" fill=\"#009af9\" fill-rule=\"evenodd\" fill-opacity=\"1\" stroke=\"#000000\" stroke-opacity=\"1\" stroke-width=\"4\"/>\n",
       "<circle clip-path=\"url(#clip342)\" cx=\"654.716\" cy=\"1355.48\" r=\"14\" fill=\"#009af9\" fill-rule=\"evenodd\" fill-opacity=\"1\" stroke=\"#000000\" stroke-opacity=\"1\" stroke-width=\"4\"/>\n",
       "<circle clip-path=\"url(#clip342)\" cx=\"658.25\" cy=\"1373.18\" r=\"14\" fill=\"#009af9\" fill-rule=\"evenodd\" fill-opacity=\"1\" stroke=\"#000000\" stroke-opacity=\"1\" stroke-width=\"4\"/>\n",
       "<circle clip-path=\"url(#clip342)\" cx=\"658.25\" cy=\"1434.64\" r=\"14\" fill=\"#009af9\" fill-rule=\"evenodd\" fill-opacity=\"1\" stroke=\"#000000\" stroke-opacity=\"1\" stroke-width=\"4\"/>\n",
       "<circle clip-path=\"url(#clip342)\" cx=\"658.25\" cy=\"1315.83\" r=\"14\" fill=\"#009af9\" fill-rule=\"evenodd\" fill-opacity=\"1\" stroke=\"#000000\" stroke-opacity=\"1\" stroke-width=\"4\"/>\n",
       "<circle clip-path=\"url(#clip342)\" cx=\"658.25\" cy=\"1485.88\" r=\"14\" fill=\"#009af9\" fill-rule=\"evenodd\" fill-opacity=\"1\" stroke=\"#000000\" stroke-opacity=\"1\" stroke-width=\"4\"/>\n",
       "<circle clip-path=\"url(#clip342)\" cx=\"660.902\" cy=\"1336.82\" r=\"14\" fill=\"#009af9\" fill-rule=\"evenodd\" fill-opacity=\"1\" stroke=\"#000000\" stroke-opacity=\"1\" stroke-width=\"4\"/>\n",
       "<circle clip-path=\"url(#clip342)\" cx=\"664.616\" cy=\"1315.58\" r=\"14\" fill=\"#009af9\" fill-rule=\"evenodd\" fill-opacity=\"1\" stroke=\"#000000\" stroke-opacity=\"1\" stroke-width=\"4\"/>\n",
       "<circle clip-path=\"url(#clip342)\" cx=\"665.677\" cy=\"1295.95\" r=\"14\" fill=\"#009af9\" fill-rule=\"evenodd\" fill-opacity=\"1\" stroke=\"#000000\" stroke-opacity=\"1\" stroke-width=\"4\"/>\n",
       "<circle clip-path=\"url(#clip342)\" cx=\"668.86\" cy=\"1315.83\" r=\"14\" fill=\"#009af9\" fill-rule=\"evenodd\" fill-opacity=\"1\" stroke=\"#000000\" stroke-opacity=\"1\" stroke-width=\"4\"/>\n",
       "<circle clip-path=\"url(#clip342)\" cx=\"668.86\" cy=\"1264.98\" r=\"14\" fill=\"#009af9\" fill-rule=\"evenodd\" fill-opacity=\"1\" stroke=\"#000000\" stroke-opacity=\"1\" stroke-width=\"4\"/>\n",
       "<circle clip-path=\"url(#clip342)\" cx=\"668.86\" cy=\"1308.82\" r=\"14\" fill=\"#009af9\" fill-rule=\"evenodd\" fill-opacity=\"1\" stroke=\"#000000\" stroke-opacity=\"1\" stroke-width=\"4\"/>\n",
       "<circle clip-path=\"url(#clip342)\" cx=\"675.227\" cy=\"1412.76\" r=\"14\" fill=\"#009af9\" fill-rule=\"evenodd\" fill-opacity=\"1\" stroke=\"#000000\" stroke-opacity=\"1\" stroke-width=\"4\"/>\n",
       "<circle clip-path=\"url(#clip342)\" cx=\"679.259\" cy=\"1420.16\" r=\"14\" fill=\"#009af9\" fill-rule=\"evenodd\" fill-opacity=\"1\" stroke=\"#000000\" stroke-opacity=\"1\" stroke-width=\"4\"/>\n",
       "<circle clip-path=\"url(#clip342)\" cx=\"679.471\" cy=\"1414.69\" r=\"14\" fill=\"#009af9\" fill-rule=\"evenodd\" fill-opacity=\"1\" stroke=\"#000000\" stroke-opacity=\"1\" stroke-width=\"4\"/>\n",
       "<circle clip-path=\"url(#clip342)\" cx=\"681.593\" cy=\"1470.04\" r=\"14\" fill=\"#009af9\" fill-rule=\"evenodd\" fill-opacity=\"1\" stroke=\"#000000\" stroke-opacity=\"1\" stroke-width=\"4\"/>\n",
       "<circle clip-path=\"url(#clip342)\" cx=\"689.908\" cy=\"1081.57\" r=\"14\" fill=\"#009af9\" fill-rule=\"evenodd\" fill-opacity=\"1\" stroke=\"#000000\" stroke-opacity=\"1\" stroke-width=\"4\"/>\n",
       "<circle clip-path=\"url(#clip342)\" cx=\"690.082\" cy=\"1306.89\" r=\"14\" fill=\"#009af9\" fill-rule=\"evenodd\" fill-opacity=\"1\" stroke=\"#000000\" stroke-opacity=\"1\" stroke-width=\"4\"/>\n",
       "<circle clip-path=\"url(#clip342)\" cx=\"691.945\" cy=\"1322.66\" r=\"14\" fill=\"#009af9\" fill-rule=\"evenodd\" fill-opacity=\"1\" stroke=\"#000000\" stroke-opacity=\"1\" stroke-width=\"4\"/>\n",
       "<circle clip-path=\"url(#clip342)\" cx=\"694.326\" cy=\"1244.39\" r=\"14\" fill=\"#009af9\" fill-rule=\"evenodd\" fill-opacity=\"1\" stroke=\"#000000\" stroke-opacity=\"1\" stroke-width=\"4\"/>\n",
       "<circle clip-path=\"url(#clip342)\" cx=\"695.905\" cy=\"1195.16\" r=\"14\" fill=\"#009af9\" fill-rule=\"evenodd\" fill-opacity=\"1\" stroke=\"#000000\" stroke-opacity=\"1\" stroke-width=\"4\"/>\n",
       "<circle clip-path=\"url(#clip342)\" cx=\"698.57\" cy=\"1422.41\" r=\"14\" fill=\"#009af9\" fill-rule=\"evenodd\" fill-opacity=\"1\" stroke=\"#000000\" stroke-opacity=\"1\" stroke-width=\"4\"/>\n",
       "<circle clip-path=\"url(#clip342)\" cx=\"700.693\" cy=\"1386.37\" r=\"14\" fill=\"#009af9\" fill-rule=\"evenodd\" fill-opacity=\"1\" stroke=\"#000000\" stroke-opacity=\"1\" stroke-width=\"4\"/>\n",
       "<circle clip-path=\"url(#clip342)\" cx=\"702.696\" cy=\"1384.59\" r=\"14\" fill=\"#009af9\" fill-rule=\"evenodd\" fill-opacity=\"1\" stroke=\"#000000\" stroke-opacity=\"1\" stroke-width=\"4\"/>\n",
       "<circle clip-path=\"url(#clip342)\" cx=\"708.651\" cy=\"1074.17\" r=\"14\" fill=\"#009af9\" fill-rule=\"evenodd\" fill-opacity=\"1\" stroke=\"#000000\" stroke-opacity=\"1\" stroke-width=\"4\"/>\n",
       "<circle clip-path=\"url(#clip342)\" cx=\"711.303\" cy=\"1348.08\" r=\"14\" fill=\"#009af9\" fill-rule=\"evenodd\" fill-opacity=\"1\" stroke=\"#000000\" stroke-opacity=\"1\" stroke-width=\"4\"/>\n",
       "<circle clip-path=\"url(#clip342)\" cx=\"711.303\" cy=\"1380.83\" r=\"14\" fill=\"#009af9\" fill-rule=\"evenodd\" fill-opacity=\"1\" stroke=\"#000000\" stroke-opacity=\"1\" stroke-width=\"4\"/>\n",
       "<circle clip-path=\"url(#clip342)\" cx=\"721.914\" cy=\"1319.69\" r=\"14\" fill=\"#009af9\" fill-rule=\"evenodd\" fill-opacity=\"1\" stroke=\"#000000\" stroke-opacity=\"1\" stroke-width=\"4\"/>\n",
       "<circle clip-path=\"url(#clip342)\" cx=\"721.914\" cy=\"1383.23\" r=\"14\" fill=\"#009af9\" fill-rule=\"evenodd\" fill-opacity=\"1\" stroke=\"#000000\" stroke-opacity=\"1\" stroke-width=\"4\"/>\n",
       "<circle clip-path=\"url(#clip342)\" cx=\"721.914\" cy=\"1409.94\" r=\"14\" fill=\"#009af9\" fill-rule=\"evenodd\" fill-opacity=\"1\" stroke=\"#000000\" stroke-opacity=\"1\" stroke-width=\"4\"/>\n",
       "<circle clip-path=\"url(#clip342)\" cx=\"721.914\" cy=\"1366.99\" r=\"14\" fill=\"#009af9\" fill-rule=\"evenodd\" fill-opacity=\"1\" stroke=\"#000000\" stroke-opacity=\"1\" stroke-width=\"4\"/>\n",
       "<circle clip-path=\"url(#clip342)\" cx=\"721.914\" cy=\"1377.04\" r=\"14\" fill=\"#009af9\" fill-rule=\"evenodd\" fill-opacity=\"1\" stroke=\"#000000\" stroke-opacity=\"1\" stroke-width=\"4\"/>\n",
       "<circle clip-path=\"url(#clip342)\" cx=\"723.404\" cy=\"1215.26\" r=\"14\" fill=\"#009af9\" fill-rule=\"evenodd\" fill-opacity=\"1\" stroke=\"#000000\" stroke-opacity=\"1\" stroke-width=\"4\"/>\n",
       "<circle clip-path=\"url(#clip342)\" cx=\"726.158\" cy=\"1352.26\" r=\"14\" fill=\"#009af9\" fill-rule=\"evenodd\" fill-opacity=\"1\" stroke=\"#000000\" stroke-opacity=\"1\" stroke-width=\"4\"/>\n",
       "<circle clip-path=\"url(#clip342)\" cx=\"727.75\" cy=\"1139.09\" r=\"14\" fill=\"#009af9\" fill-rule=\"evenodd\" fill-opacity=\"1\" stroke=\"#000000\" stroke-opacity=\"1\" stroke-width=\"4\"/>\n",
       "<circle clip-path=\"url(#clip342)\" cx=\"732.525\" cy=\"1319.12\" r=\"14\" fill=\"#009af9\" fill-rule=\"evenodd\" fill-opacity=\"1\" stroke=\"#000000\" stroke-opacity=\"1\" stroke-width=\"4\"/>\n",
       "<circle clip-path=\"url(#clip342)\" cx=\"732.525\" cy=\"1182.93\" r=\"14\" fill=\"#009af9\" fill-rule=\"evenodd\" fill-opacity=\"1\" stroke=\"#000000\" stroke-opacity=\"1\" stroke-width=\"4\"/>\n",
       "<circle clip-path=\"url(#clip342)\" cx=\"740.483\" cy=\"1139.49\" r=\"14\" fill=\"#009af9\" fill-rule=\"evenodd\" fill-opacity=\"1\" stroke=\"#000000\" stroke-opacity=\"1\" stroke-width=\"4\"/>\n",
       "<circle clip-path=\"url(#clip342)\" cx=\"741.013\" cy=\"1430.78\" r=\"14\" fill=\"#009af9\" fill-rule=\"evenodd\" fill-opacity=\"1\" stroke=\"#000000\" stroke-opacity=\"1\" stroke-width=\"4\"/>\n",
       "<circle clip-path=\"url(#clip342)\" cx=\"743.337\" cy=\"1312.36\" r=\"14\" fill=\"#009af9\" fill-rule=\"evenodd\" fill-opacity=\"1\" stroke=\"#000000\" stroke-opacity=\"1\" stroke-width=\"4\"/>\n",
       "<circle clip-path=\"url(#clip342)\" cx=\"748.441\" cy=\"1137.8\" r=\"14\" fill=\"#009af9\" fill-rule=\"evenodd\" fill-opacity=\"1\" stroke=\"#000000\" stroke-opacity=\"1\" stroke-width=\"4\"/>\n",
       "<circle clip-path=\"url(#clip342)\" cx=\"749.502\" cy=\"1437.21\" r=\"14\" fill=\"#009af9\" fill-rule=\"evenodd\" fill-opacity=\"1\" stroke=\"#000000\" stroke-opacity=\"1\" stroke-width=\"4\"/>\n",
       "<circle clip-path=\"url(#clip342)\" cx=\"750.563\" cy=\"1144.31\" r=\"14\" fill=\"#009af9\" fill-rule=\"evenodd\" fill-opacity=\"1\" stroke=\"#000000\" stroke-opacity=\"1\" stroke-width=\"4\"/>\n",
       "<circle clip-path=\"url(#clip342)\" cx=\"762.235\" cy=\"1240.28\" r=\"14\" fill=\"#009af9\" fill-rule=\"evenodd\" fill-opacity=\"1\" stroke=\"#000000\" stroke-opacity=\"1\" stroke-width=\"4\"/>\n",
       "<circle clip-path=\"url(#clip342)\" cx=\"764.357\" cy=\"1207.38\" r=\"14\" fill=\"#009af9\" fill-rule=\"evenodd\" fill-opacity=\"1\" stroke=\"#000000\" stroke-opacity=\"1\" stroke-width=\"4\"/>\n",
       "<circle clip-path=\"url(#clip342)\" cx=\"764.357\" cy=\"1061.94\" r=\"14\" fill=\"#009af9\" fill-rule=\"evenodd\" fill-opacity=\"1\" stroke=\"#000000\" stroke-opacity=\"1\" stroke-width=\"4\"/>\n",
       "<circle clip-path=\"url(#clip342)\" cx=\"766.417\" cy=\"1151.47\" r=\"14\" fill=\"#009af9\" fill-rule=\"evenodd\" fill-opacity=\"1\" stroke=\"#000000\" stroke-opacity=\"1\" stroke-width=\"4\"/>\n",
       "<circle clip-path=\"url(#clip342)\" cx=\"768.601\" cy=\"1289.59\" r=\"14\" fill=\"#009af9\" fill-rule=\"evenodd\" fill-opacity=\"1\" stroke=\"#000000\" stroke-opacity=\"1\" stroke-width=\"4\"/>\n",
       "<circle clip-path=\"url(#clip342)\" cx=\"771.678\" cy=\"1207.14\" r=\"14\" fill=\"#009af9\" fill-rule=\"evenodd\" fill-opacity=\"1\" stroke=\"#000000\" stroke-opacity=\"1\" stroke-width=\"4\"/>\n",
       "<circle clip-path=\"url(#clip342)\" cx=\"771.784\" cy=\"1219.93\" r=\"14\" fill=\"#009af9\" fill-rule=\"evenodd\" fill-opacity=\"1\" stroke=\"#000000\" stroke-opacity=\"1\" stroke-width=\"4\"/>\n",
       "<circle clip-path=\"url(#clip342)\" cx=\"778.244\" cy=\"1385.41\" r=\"14\" fill=\"#009af9\" fill-rule=\"evenodd\" fill-opacity=\"1\" stroke=\"#000000\" stroke-opacity=\"1\" stroke-width=\"4\"/>\n",
       "<circle clip-path=\"url(#clip342)\" cx=\"778.681\" cy=\"1017.85\" r=\"14\" fill=\"#009af9\" fill-rule=\"evenodd\" fill-opacity=\"1\" stroke=\"#000000\" stroke-opacity=\"1\" stroke-width=\"4\"/>\n",
       "<circle clip-path=\"url(#clip342)\" cx=\"779.212\" cy=\"1243.5\" r=\"14\" fill=\"#009af9\" fill-rule=\"evenodd\" fill-opacity=\"1\" stroke=\"#000000\" stroke-opacity=\"1\" stroke-width=\"4\"/>\n",
       "<circle clip-path=\"url(#clip342)\" cx=\"783.456\" cy=\"1342.93\" r=\"14\" fill=\"#009af9\" fill-rule=\"evenodd\" fill-opacity=\"1\" stroke=\"#000000\" stroke-opacity=\"1\" stroke-width=\"4\"/>\n",
       "<circle clip-path=\"url(#clip342)\" cx=\"783.456\" cy=\"1212.53\" r=\"14\" fill=\"#009af9\" fill-rule=\"evenodd\" fill-opacity=\"1\" stroke=\"#000000\" stroke-opacity=\"1\" stroke-width=\"4\"/>\n",
       "<circle clip-path=\"url(#clip342)\" cx=\"785.578\" cy=\"1256.37\" r=\"14\" fill=\"#009af9\" fill-rule=\"evenodd\" fill-opacity=\"1\" stroke=\"#000000\" stroke-opacity=\"1\" stroke-width=\"4\"/>\n",
       "<circle clip-path=\"url(#clip342)\" cx=\"785.578\" cy=\"1194.59\" r=\"14\" fill=\"#009af9\" fill-rule=\"evenodd\" fill-opacity=\"1\" stroke=\"#000000\" stroke-opacity=\"1\" stroke-width=\"4\"/>\n",
       "<circle clip-path=\"url(#clip342)\" cx=\"789.822\" cy=\"1360.88\" r=\"14\" fill=\"#009af9\" fill-rule=\"evenodd\" fill-opacity=\"1\" stroke=\"#000000\" stroke-opacity=\"1\" stroke-width=\"4\"/>\n",
       "<circle clip-path=\"url(#clip342)\" cx=\"796.189\" cy=\"1315.9\" r=\"14\" fill=\"#009af9\" fill-rule=\"evenodd\" fill-opacity=\"1\" stroke=\"#000000\" stroke-opacity=\"1\" stroke-width=\"4\"/>\n",
       "<circle clip-path=\"url(#clip342)\" cx=\"796.189\" cy=\"1293.7\" r=\"14\" fill=\"#009af9\" fill-rule=\"evenodd\" fill-opacity=\"1\" stroke=\"#000000\" stroke-opacity=\"1\" stroke-width=\"4\"/>\n",
       "<circle clip-path=\"url(#clip342)\" cx=\"796.189\" cy=\"1298.2\" r=\"14\" fill=\"#009af9\" fill-rule=\"evenodd\" fill-opacity=\"1\" stroke=\"#000000\" stroke-opacity=\"1\" stroke-width=\"4\"/>\n",
       "<circle clip-path=\"url(#clip342)\" cx=\"800.858\" cy=\"985.353\" r=\"14\" fill=\"#009af9\" fill-rule=\"evenodd\" fill-opacity=\"1\" stroke=\"#000000\" stroke-opacity=\"1\" stroke-width=\"4\"/>\n",
       "<circle clip-path=\"url(#clip342)\" cx=\"806.8\" cy=\"1397.96\" r=\"14\" fill=\"#009af9\" fill-rule=\"evenodd\" fill-opacity=\"1\" stroke=\"#000000\" stroke-opacity=\"1\" stroke-width=\"4\"/>\n",
       "<circle clip-path=\"url(#clip342)\" cx=\"806.8\" cy=\"1261.2\" r=\"14\" fill=\"#009af9\" fill-rule=\"evenodd\" fill-opacity=\"1\" stroke=\"#000000\" stroke-opacity=\"1\" stroke-width=\"4\"/>\n",
       "<circle clip-path=\"url(#clip342)\" cx=\"814.227\" cy=\"1200.06\" r=\"14\" fill=\"#009af9\" fill-rule=\"evenodd\" fill-opacity=\"1\" stroke=\"#000000\" stroke-opacity=\"1\" stroke-width=\"4\"/>\n",
       "<circle clip-path=\"url(#clip342)\" cx=\"820.615\" cy=\"1287.26\" r=\"14\" fill=\"#009af9\" fill-rule=\"evenodd\" fill-opacity=\"1\" stroke=\"#000000\" stroke-opacity=\"1\" stroke-width=\"4\"/>\n",
       "<circle clip-path=\"url(#clip342)\" cx=\"838.632\" cy=\"1286.3\" r=\"14\" fill=\"#009af9\" fill-rule=\"evenodd\" fill-opacity=\"1\" stroke=\"#000000\" stroke-opacity=\"1\" stroke-width=\"4\"/>\n",
       "<circle clip-path=\"url(#clip342)\" cx=\"840.754\" cy=\"1061.86\" r=\"14\" fill=\"#009af9\" fill-rule=\"evenodd\" fill-opacity=\"1\" stroke=\"#000000\" stroke-opacity=\"1\" stroke-width=\"4\"/>\n",
       "<circle clip-path=\"url(#clip342)\" cx=\"841.815\" cy=\"1251.87\" r=\"14\" fill=\"#009af9\" fill-rule=\"evenodd\" fill-opacity=\"1\" stroke=\"#000000\" stroke-opacity=\"1\" stroke-width=\"4\"/>\n",
       "<circle clip-path=\"url(#clip342)\" cx=\"844.998\" cy=\"1111.17\" r=\"14\" fill=\"#009af9\" fill-rule=\"evenodd\" fill-opacity=\"1\" stroke=\"#000000\" stroke-opacity=\"1\" stroke-width=\"4\"/>\n",
       "<circle clip-path=\"url(#clip342)\" cx=\"847.12\" cy=\"1130.72\" r=\"14\" fill=\"#009af9\" fill-rule=\"evenodd\" fill-opacity=\"1\" stroke=\"#000000\" stroke-opacity=\"1\" stroke-width=\"4\"/>\n",
       "<circle clip-path=\"url(#clip342)\" cx=\"849.242\" cy=\"1318.47\" r=\"14\" fill=\"#009af9\" fill-rule=\"evenodd\" fill-opacity=\"1\" stroke=\"#000000\" stroke-opacity=\"1\" stroke-width=\"4\"/>\n",
       "<circle clip-path=\"url(#clip342)\" cx=\"849.242\" cy=\"1314.54\" r=\"14\" fill=\"#009af9\" fill-rule=\"evenodd\" fill-opacity=\"1\" stroke=\"#000000\" stroke-opacity=\"1\" stroke-width=\"4\"/>\n",
       "<circle clip-path=\"url(#clip342)\" cx=\"859.853\" cy=\"1185.26\" r=\"14\" fill=\"#009af9\" fill-rule=\"evenodd\" fill-opacity=\"1\" stroke=\"#000000\" stroke-opacity=\"1\" stroke-width=\"4\"/>\n",
       "<circle clip-path=\"url(#clip342)\" cx=\"866.22\" cy=\"1224.51\" r=\"14\" fill=\"#009af9\" fill-rule=\"evenodd\" fill-opacity=\"1\" stroke=\"#000000\" stroke-opacity=\"1\" stroke-width=\"4\"/>\n",
       "<circle clip-path=\"url(#clip342)\" cx=\"868.342\" cy=\"1149.14\" r=\"14\" fill=\"#009af9\" fill-rule=\"evenodd\" fill-opacity=\"1\" stroke=\"#000000\" stroke-opacity=\"1\" stroke-width=\"4\"/>\n",
       "<circle clip-path=\"url(#clip342)\" cx=\"870.464\" cy=\"1229.34\" r=\"14\" fill=\"#009af9\" fill-rule=\"evenodd\" fill-opacity=\"1\" stroke=\"#000000\" stroke-opacity=\"1\" stroke-width=\"4\"/>\n",
       "<circle clip-path=\"url(#clip342)\" cx=\"870.464\" cy=\"1128.55\" r=\"14\" fill=\"#009af9\" fill-rule=\"evenodd\" fill-opacity=\"1\" stroke=\"#000000\" stroke-opacity=\"1\" stroke-width=\"4\"/>\n",
       "<circle clip-path=\"url(#clip342)\" cx=\"878.944\" cy=\"1378.9\" r=\"14\" fill=\"#009af9\" fill-rule=\"evenodd\" fill-opacity=\"1\" stroke=\"#000000\" stroke-opacity=\"1\" stroke-width=\"4\"/>\n",
       "<circle clip-path=\"url(#clip342)\" cx=\"879.32\" cy=\"1269.81\" r=\"14\" fill=\"#009af9\" fill-rule=\"evenodd\" fill-opacity=\"1\" stroke=\"#000000\" stroke-opacity=\"1\" stroke-width=\"4\"/>\n",
       "<circle clip-path=\"url(#clip342)\" cx=\"881.075\" cy=\"1396.27\" r=\"14\" fill=\"#009af9\" fill-rule=\"evenodd\" fill-opacity=\"1\" stroke=\"#000000\" stroke-opacity=\"1\" stroke-width=\"4\"/>\n",
       "<circle clip-path=\"url(#clip342)\" cx=\"887.441\" cy=\"1185.82\" r=\"14\" fill=\"#009af9\" fill-rule=\"evenodd\" fill-opacity=\"1\" stroke=\"#000000\" stroke-opacity=\"1\" stroke-width=\"4\"/>\n",
       "<circle clip-path=\"url(#clip342)\" cx=\"889.563\" cy=\"1373.9\" r=\"14\" fill=\"#009af9\" fill-rule=\"evenodd\" fill-opacity=\"1\" stroke=\"#000000\" stroke-opacity=\"1\" stroke-width=\"4\"/>\n",
       "<circle clip-path=\"url(#clip342)\" cx=\"891.685\" cy=\"1219.76\" r=\"14\" fill=\"#009af9\" fill-rule=\"evenodd\" fill-opacity=\"1\" stroke=\"#000000\" stroke-opacity=\"1\" stroke-width=\"4\"/>\n",
       "<circle clip-path=\"url(#clip342)\" cx=\"891.685\" cy=\"1313.97\" r=\"14\" fill=\"#009af9\" fill-rule=\"evenodd\" fill-opacity=\"1\" stroke=\"#000000\" stroke-opacity=\"1\" stroke-width=\"4\"/>\n",
       "<circle clip-path=\"url(#clip342)\" cx=\"891.685\" cy=\"1083.03\" r=\"14\" fill=\"#009af9\" fill-rule=\"evenodd\" fill-opacity=\"1\" stroke=\"#000000\" stroke-opacity=\"1\" stroke-width=\"4\"/>\n",
       "<circle clip-path=\"url(#clip342)\" cx=\"892.888\" cy=\"1275.36\" r=\"14\" fill=\"#009af9\" fill-rule=\"evenodd\" fill-opacity=\"1\" stroke=\"#000000\" stroke-opacity=\"1\" stroke-width=\"4\"/>\n",
       "<circle clip-path=\"url(#clip342)\" cx=\"898.052\" cy=\"1030.33\" r=\"14\" fill=\"#009af9\" fill-rule=\"evenodd\" fill-opacity=\"1\" stroke=\"#000000\" stroke-opacity=\"1\" stroke-width=\"4\"/>\n",
       "<circle clip-path=\"url(#clip342)\" cx=\"902.296\" cy=\"1331.99\" r=\"14\" fill=\"#009af9\" fill-rule=\"evenodd\" fill-opacity=\"1\" stroke=\"#000000\" stroke-opacity=\"1\" stroke-width=\"4\"/>\n",
       "<circle clip-path=\"url(#clip342)\" cx=\"912.907\" cy=\"1299.49\" r=\"14\" fill=\"#009af9\" fill-rule=\"evenodd\" fill-opacity=\"1\" stroke=\"#000000\" stroke-opacity=\"1\" stroke-width=\"4\"/>\n",
       "<circle clip-path=\"url(#clip342)\" cx=\"912.907\" cy=\"1355.8\" r=\"14\" fill=\"#009af9\" fill-rule=\"evenodd\" fill-opacity=\"1\" stroke=\"#000000\" stroke-opacity=\"1\" stroke-width=\"4\"/>\n",
       "<circle clip-path=\"url(#clip342)\" cx=\"912.907\" cy=\"1244.39\" r=\"14\" fill=\"#009af9\" fill-rule=\"evenodd\" fill-opacity=\"1\" stroke=\"#000000\" stroke-opacity=\"1\" stroke-width=\"4\"/>\n",
       "<circle clip-path=\"url(#clip342)\" cx=\"916.128\" cy=\"1125.65\" r=\"14\" fill=\"#009af9\" fill-rule=\"evenodd\" fill-opacity=\"1\" stroke=\"#000000\" stroke-opacity=\"1\" stroke-width=\"4\"/>\n",
       "<circle clip-path=\"url(#clip342)\" cx=\"917.151\" cy=\"1073.77\" r=\"14\" fill=\"#009af9\" fill-rule=\"evenodd\" fill-opacity=\"1\" stroke=\"#000000\" stroke-opacity=\"1\" stroke-width=\"4\"/>\n",
       "<circle clip-path=\"url(#clip342)\" cx=\"923.517\" cy=\"1178.75\" r=\"14\" fill=\"#009af9\" fill-rule=\"evenodd\" fill-opacity=\"1\" stroke=\"#000000\" stroke-opacity=\"1\" stroke-width=\"4\"/>\n",
       "<circle clip-path=\"url(#clip342)\" cx=\"923.517\" cy=\"1111.81\" r=\"14\" fill=\"#009af9\" fill-rule=\"evenodd\" fill-opacity=\"1\" stroke=\"#000000\" stroke-opacity=\"1\" stroke-width=\"4\"/>\n",
       "<circle clip-path=\"url(#clip342)\" cx=\"923.517\" cy=\"855.92\" r=\"14\" fill=\"#009af9\" fill-rule=\"evenodd\" fill-opacity=\"1\" stroke=\"#000000\" stroke-opacity=\"1\" stroke-width=\"4\"/>\n",
       "<circle clip-path=\"url(#clip342)\" cx=\"923.517\" cy=\"1345.18\" r=\"14\" fill=\"#009af9\" fill-rule=\"evenodd\" fill-opacity=\"1\" stroke=\"#000000\" stroke-opacity=\"1\" stroke-width=\"4\"/>\n",
       "<circle clip-path=\"url(#clip342)\" cx=\"934.128\" cy=\"1372.21\" r=\"14\" fill=\"#009af9\" fill-rule=\"evenodd\" fill-opacity=\"1\" stroke=\"#000000\" stroke-opacity=\"1\" stroke-width=\"4\"/>\n",
       "<circle clip-path=\"url(#clip342)\" cx=\"938.372\" cy=\"870.476\" r=\"14\" fill=\"#009af9\" fill-rule=\"evenodd\" fill-opacity=\"1\" stroke=\"#000000\" stroke-opacity=\"1\" stroke-width=\"4\"/>\n",
       "<circle clip-path=\"url(#clip342)\" cx=\"944.739\" cy=\"1216.07\" r=\"14\" fill=\"#009af9\" fill-rule=\"evenodd\" fill-opacity=\"1\" stroke=\"#000000\" stroke-opacity=\"1\" stroke-width=\"4\"/>\n",
       "<circle clip-path=\"url(#clip342)\" cx=\"951.89\" cy=\"1284.69\" r=\"14\" fill=\"#009af9\" fill-rule=\"evenodd\" fill-opacity=\"1\" stroke=\"#000000\" stroke-opacity=\"1\" stroke-width=\"4\"/>\n",
       "<circle clip-path=\"url(#clip342)\" cx=\"955.349\" cy=\"1144.96\" r=\"14\" fill=\"#009af9\" fill-rule=\"evenodd\" fill-opacity=\"1\" stroke=\"#000000\" stroke-opacity=\"1\" stroke-width=\"4\"/>\n",
       "<circle clip-path=\"url(#clip342)\" cx=\"957.896\" cy=\"1024.29\" r=\"14\" fill=\"#009af9\" fill-rule=\"evenodd\" fill-opacity=\"1\" stroke=\"#000000\" stroke-opacity=\"1\" stroke-width=\"4\"/>\n",
       "<circle clip-path=\"url(#clip342)\" cx=\"959.594\" cy=\"1097.01\" r=\"14\" fill=\"#009af9\" fill-rule=\"evenodd\" fill-opacity=\"1\" stroke=\"#000000\" stroke-opacity=\"1\" stroke-width=\"4\"/>\n",
       "<circle clip-path=\"url(#clip342)\" cx=\"963.838\" cy=\"1071.02\" r=\"14\" fill=\"#009af9\" fill-rule=\"evenodd\" fill-opacity=\"1\" stroke=\"#000000\" stroke-opacity=\"1\" stroke-width=\"4\"/>\n",
       "<circle clip-path=\"url(#clip342)\" cx=\"965.96\" cy=\"1262.81\" r=\"14\" fill=\"#009af9\" fill-rule=\"evenodd\" fill-opacity=\"1\" stroke=\"#000000\" stroke-opacity=\"1\" stroke-width=\"4\"/>\n",
       "<circle clip-path=\"url(#clip342)\" cx=\"978.693\" cy=\"1060.33\" r=\"14\" fill=\"#009af9\" fill-rule=\"evenodd\" fill-opacity=\"1\" stroke=\"#000000\" stroke-opacity=\"1\" stroke-width=\"4\"/>\n",
       "<circle clip-path=\"url(#clip342)\" cx=\"990.1\" cy=\"1025.82\" r=\"14\" fill=\"#009af9\" fill-rule=\"evenodd\" fill-opacity=\"1\" stroke=\"#000000\" stroke-opacity=\"1\" stroke-width=\"4\"/>\n",
       "<circle clip-path=\"url(#clip342)\" cx=\"995.67\" cy=\"938.619\" r=\"14\" fill=\"#009af9\" fill-rule=\"evenodd\" fill-opacity=\"1\" stroke=\"#000000\" stroke-opacity=\"1\" stroke-width=\"4\"/>\n",
       "<circle clip-path=\"url(#clip342)\" cx=\"997.792\" cy=\"830.328\" r=\"14\" fill=\"#009af9\" fill-rule=\"evenodd\" fill-opacity=\"1\" stroke=\"#000000\" stroke-opacity=\"1\" stroke-width=\"4\"/>\n",
       "<circle clip-path=\"url(#clip342)\" cx=\"997.792\" cy=\"1083.89\" r=\"14\" fill=\"#009af9\" fill-rule=\"evenodd\" fill-opacity=\"1\" stroke=\"#000000\" stroke-opacity=\"1\" stroke-width=\"4\"/>\n",
       "<circle clip-path=\"url(#clip342)\" cx=\"997.792\" cy=\"1107.06\" r=\"14\" fill=\"#009af9\" fill-rule=\"evenodd\" fill-opacity=\"1\" stroke=\"#000000\" stroke-opacity=\"1\" stroke-width=\"4\"/>\n",
       "<circle clip-path=\"url(#clip342)\" cx=\"999.914\" cy=\"1205.21\" r=\"14\" fill=\"#009af9\" fill-rule=\"evenodd\" fill-opacity=\"1\" stroke=\"#000000\" stroke-opacity=\"1\" stroke-width=\"4\"/>\n",
       "<circle clip-path=\"url(#clip342)\" cx=\"1019.01\" cy=\"1085.11\" r=\"14\" fill=\"#009af9\" fill-rule=\"evenodd\" fill-opacity=\"1\" stroke=\"#000000\" stroke-opacity=\"1\" stroke-width=\"4\"/>\n",
       "<circle clip-path=\"url(#clip342)\" cx=\"1034.85\" cy=\"994.363\" r=\"14\" fill=\"#009af9\" fill-rule=\"evenodd\" fill-opacity=\"1\" stroke=\"#000000\" stroke-opacity=\"1\" stroke-width=\"4\"/>\n",
       "<circle clip-path=\"url(#clip342)\" cx=\"1061.46\" cy=\"1227.09\" r=\"14\" fill=\"#009af9\" fill-rule=\"evenodd\" fill-opacity=\"1\" stroke=\"#000000\" stroke-opacity=\"1\" stroke-width=\"4\"/>\n",
       "<circle clip-path=\"url(#clip342)\" cx=\"1062.68\" cy=\"1304.96\" r=\"14\" fill=\"#009af9\" fill-rule=\"evenodd\" fill-opacity=\"1\" stroke=\"#000000\" stroke-opacity=\"1\" stroke-width=\"4\"/>\n",
       "<circle clip-path=\"url(#clip342)\" cx=\"1074.66\" cy=\"1250.26\" r=\"14\" fill=\"#009af9\" fill-rule=\"evenodd\" fill-opacity=\"1\" stroke=\"#000000\" stroke-opacity=\"1\" stroke-width=\"4\"/>\n",
       "<circle clip-path=\"url(#clip342)\" cx=\"1094.35\" cy=\"1123.47\" r=\"14\" fill=\"#009af9\" fill-rule=\"evenodd\" fill-opacity=\"1\" stroke=\"#000000\" stroke-opacity=\"1\" stroke-width=\"4\"/>\n",
       "<circle clip-path=\"url(#clip342)\" cx=\"1097.53\" cy=\"939.263\" r=\"14\" fill=\"#009af9\" fill-rule=\"evenodd\" fill-opacity=\"1\" stroke=\"#000000\" stroke-opacity=\"1\" stroke-width=\"4\"/>\n",
       "<circle clip-path=\"url(#clip342)\" cx=\"1103.9\" cy=\"1116\" r=\"14\" fill=\"#009af9\" fill-rule=\"evenodd\" fill-opacity=\"1\" stroke=\"#000000\" stroke-opacity=\"1\" stroke-width=\"4\"/>\n",
       "<circle clip-path=\"url(#clip342)\" cx=\"1132.55\" cy=\"1322.41\" r=\"14\" fill=\"#009af9\" fill-rule=\"evenodd\" fill-opacity=\"1\" stroke=\"#000000\" stroke-opacity=\"1\" stroke-width=\"4\"/>\n",
       "<circle clip-path=\"url(#clip342)\" cx=\"1135.73\" cy=\"1031.76\" r=\"14\" fill=\"#009af9\" fill-rule=\"evenodd\" fill-opacity=\"1\" stroke=\"#000000\" stroke-opacity=\"1\" stroke-width=\"4\"/>\n",
       "<circle clip-path=\"url(#clip342)\" cx=\"1147.31\" cy=\"1090.58\" r=\"14\" fill=\"#009af9\" fill-rule=\"evenodd\" fill-opacity=\"1\" stroke=\"#000000\" stroke-opacity=\"1\" stroke-width=\"4\"/>\n",
       "<circle clip-path=\"url(#clip342)\" cx=\"1156.95\" cy=\"1302.39\" r=\"14\" fill=\"#009af9\" fill-rule=\"evenodd\" fill-opacity=\"1\" stroke=\"#000000\" stroke-opacity=\"1\" stroke-width=\"4\"/>\n",
       "<circle clip-path=\"url(#clip342)\" cx=\"1190.91\" cy=\"967.58\" r=\"14\" fill=\"#009af9\" fill-rule=\"evenodd\" fill-opacity=\"1\" stroke=\"#000000\" stroke-opacity=\"1\" stroke-width=\"4\"/>\n",
       "<circle clip-path=\"url(#clip342)\" cx=\"1199.4\" cy=\"955.674\" r=\"14\" fill=\"#009af9\" fill-rule=\"evenodd\" fill-opacity=\"1\" stroke=\"#000000\" stroke-opacity=\"1\" stroke-width=\"4\"/>\n",
       "<circle clip-path=\"url(#clip342)\" cx=\"1201.52\" cy=\"774.262\" r=\"14\" fill=\"#009af9\" fill-rule=\"evenodd\" fill-opacity=\"1\" stroke=\"#000000\" stroke-opacity=\"1\" stroke-width=\"4\"/>\n",
       "<circle clip-path=\"url(#clip342)\" cx=\"1210.01\" cy=\"1162.98\" r=\"14\" fill=\"#009af9\" fill-rule=\"evenodd\" fill-opacity=\"1\" stroke=\"#000000\" stroke-opacity=\"1\" stroke-width=\"4\"/>\n",
       "<circle clip-path=\"url(#clip342)\" cx=\"1220.62\" cy=\"1058.08\" r=\"14\" fill=\"#009af9\" fill-rule=\"evenodd\" fill-opacity=\"1\" stroke=\"#000000\" stroke-opacity=\"1\" stroke-width=\"4\"/>\n",
       "<circle clip-path=\"url(#clip342)\" cx=\"1369.17\" cy=\"761.788\" r=\"14\" fill=\"#009af9\" fill-rule=\"evenodd\" fill-opacity=\"1\" stroke=\"#000000\" stroke-opacity=\"1\" stroke-width=\"4\"/>\n",
       "<circle clip-path=\"url(#clip342)\" cx=\"1411.61\" cy=\"1349.04\" r=\"14\" fill=\"#009af9\" fill-rule=\"evenodd\" fill-opacity=\"1\" stroke=\"#000000\" stroke-opacity=\"1\" stroke-width=\"4\"/>\n",
       "<circle clip-path=\"url(#clip342)\" cx=\"1475.27\" cy=\"1339.14\" r=\"14\" fill=\"#009af9\" fill-rule=\"evenodd\" fill-opacity=\"1\" stroke=\"#000000\" stroke-opacity=\"1\" stroke-width=\"4\"/>\n",
       "<circle clip-path=\"url(#clip342)\" cx=\"1475.27\" cy=\"784.559\" r=\"14\" fill=\"#009af9\" fill-rule=\"evenodd\" fill-opacity=\"1\" stroke=\"#000000\" stroke-opacity=\"1\" stroke-width=\"4\"/>\n",
       "<circle clip-path=\"url(#clip342)\" cx=\"1525.56\" cy=\"621.339\" r=\"14\" fill=\"#009af9\" fill-rule=\"evenodd\" fill-opacity=\"1\" stroke=\"#000000\" stroke-opacity=\"1\" stroke-width=\"4\"/>\n",
       "<circle clip-path=\"url(#clip342)\" cx=\"1528.33\" cy=\"1065.48\" r=\"14\" fill=\"#009af9\" fill-rule=\"evenodd\" fill-opacity=\"1\" stroke=\"#000000\" stroke-opacity=\"1\" stroke-width=\"4\"/>\n",
       "<circle clip-path=\"url(#clip342)\" cx=\"1549.55\" cy=\"712.726\" r=\"14\" fill=\"#009af9\" fill-rule=\"evenodd\" fill-opacity=\"1\" stroke=\"#000000\" stroke-opacity=\"1\" stroke-width=\"4\"/>\n",
       "<circle clip-path=\"url(#clip342)\" cx=\"375.899\" cy=\"1337.06\" r=\"14\" fill=\"#009af9\" fill-rule=\"evenodd\" fill-opacity=\"1\" stroke=\"#000000\" stroke-opacity=\"1\" stroke-width=\"4\"/>\n",
       "<circle clip-path=\"url(#clip342)\" cx=\"382.371\" cy=\"1504.62\" r=\"14\" fill=\"#009af9\" fill-rule=\"evenodd\" fill-opacity=\"1\" stroke=\"#000000\" stroke-opacity=\"1\" stroke-width=\"4\"/>\n",
       "<circle clip-path=\"url(#clip342)\" cx=\"384.493\" cy=\"1460.14\" r=\"14\" fill=\"#009af9\" fill-rule=\"evenodd\" fill-opacity=\"1\" stroke=\"#000000\" stroke-opacity=\"1\" stroke-width=\"4\"/>\n",
       "<circle clip-path=\"url(#clip342)\" cx=\"386.616\" cy=\"1441.79\" r=\"14\" fill=\"#009af9\" fill-rule=\"evenodd\" fill-opacity=\"1\" stroke=\"#000000\" stroke-opacity=\"1\" stroke-width=\"4\"/>\n",
       "<circle clip-path=\"url(#clip342)\" cx=\"400.55\" cy=\"1464\" r=\"14\" fill=\"#009af9\" fill-rule=\"evenodd\" fill-opacity=\"1\" stroke=\"#000000\" stroke-opacity=\"1\" stroke-width=\"4\"/>\n",
       "<circle clip-path=\"url(#clip342)\" cx=\"403.593\" cy=\"1416.69\" r=\"14\" fill=\"#009af9\" fill-rule=\"evenodd\" fill-opacity=\"1\" stroke=\"#000000\" stroke-opacity=\"1\" stroke-width=\"4\"/>\n",
       "<circle clip-path=\"url(#clip342)\" cx=\"424.814\" cy=\"1450.98\" r=\"14\" fill=\"#009af9\" fill-rule=\"evenodd\" fill-opacity=\"1\" stroke=\"#000000\" stroke-opacity=\"1\" stroke-width=\"4\"/>\n",
       "<circle clip-path=\"url(#clip342)\" cx=\"436.486\" cy=\"1431.42\" r=\"14\" fill=\"#009af9\" fill-rule=\"evenodd\" fill-opacity=\"1\" stroke=\"#000000\" stroke-opacity=\"1\" stroke-width=\"4\"/>\n",
       "<circle clip-path=\"url(#clip342)\" cx=\"450.28\" cy=\"1434.39\" r=\"14\" fill=\"#009af9\" fill-rule=\"evenodd\" fill-opacity=\"1\" stroke=\"#000000\" stroke-opacity=\"1\" stroke-width=\"4\"/>\n",
       "<circle clip-path=\"url(#clip342)\" cx=\"453.675\" cy=\"1375.51\" r=\"14\" fill=\"#009af9\" fill-rule=\"evenodd\" fill-opacity=\"1\" stroke=\"#000000\" stroke-opacity=\"1\" stroke-width=\"4\"/>\n",
       "<circle clip-path=\"url(#clip342)\" cx=\"456.646\" cy=\"1442.36\" r=\"14\" fill=\"#009af9\" fill-rule=\"evenodd\" fill-opacity=\"1\" stroke=\"#000000\" stroke-opacity=\"1\" stroke-width=\"4\"/>\n",
       "<circle clip-path=\"url(#clip342)\" cx=\"462.482\" cy=\"1448.15\" r=\"14\" fill=\"#009af9\" fill-rule=\"evenodd\" fill-opacity=\"1\" stroke=\"#000000\" stroke-opacity=\"1\" stroke-width=\"4\"/>\n",
       "<circle clip-path=\"url(#clip342)\" cx=\"475.746\" cy=\"1347.11\" r=\"14\" fill=\"#009af9\" fill-rule=\"evenodd\" fill-opacity=\"1\" stroke=\"#000000\" stroke-opacity=\"1\" stroke-width=\"4\"/>\n",
       "<circle clip-path=\"url(#clip342)\" cx=\"477.868\" cy=\"1444.61\" r=\"14\" fill=\"#009af9\" fill-rule=\"evenodd\" fill-opacity=\"1\" stroke=\"#000000\" stroke-opacity=\"1\" stroke-width=\"4\"/>\n",
       "<circle clip-path=\"url(#clip342)\" cx=\"483.525\" cy=\"1481.77\" r=\"14\" fill=\"#009af9\" fill-rule=\"evenodd\" fill-opacity=\"1\" stroke=\"#000000\" stroke-opacity=\"1\" stroke-width=\"4\"/>\n",
       "<circle clip-path=\"url(#clip342)\" cx=\"486.356\" cy=\"1409.22\" r=\"14\" fill=\"#009af9\" fill-rule=\"evenodd\" fill-opacity=\"1\" stroke=\"#000000\" stroke-opacity=\"1\" stroke-width=\"4\"/>\n",
       "<circle clip-path=\"url(#clip342)\" cx=\"488.478\" cy=\"1459.74\" r=\"14\" fill=\"#009af9\" fill-rule=\"evenodd\" fill-opacity=\"1\" stroke=\"#000000\" stroke-opacity=\"1\" stroke-width=\"4\"/>\n",
       "<circle clip-path=\"url(#clip342)\" cx=\"488.478\" cy=\"1387.34\" r=\"14\" fill=\"#009af9\" fill-rule=\"evenodd\" fill-opacity=\"1\" stroke=\"#000000\" stroke-opacity=\"1\" stroke-width=\"4\"/>\n",
       "<circle clip-path=\"url(#clip342)\" cx=\"493.784\" cy=\"1380.9\" r=\"14\" fill=\"#009af9\" fill-rule=\"evenodd\" fill-opacity=\"1\" stroke=\"#000000\" stroke-opacity=\"1\" stroke-width=\"4\"/>\n",
       "<circle clip-path=\"url(#clip342)\" cx=\"498.665\" cy=\"1409.22\" r=\"14\" fill=\"#009af9\" fill-rule=\"evenodd\" fill-opacity=\"1\" stroke=\"#000000\" stroke-opacity=\"1\" stroke-width=\"4\"/>\n",
       "<circle clip-path=\"url(#clip342)\" cx=\"501.211\" cy=\"1457.81\" r=\"14\" fill=\"#009af9\" fill-rule=\"evenodd\" fill-opacity=\"1\" stroke=\"#000000\" stroke-opacity=\"1\" stroke-width=\"4\"/>\n",
       "<circle clip-path=\"url(#clip342)\" cx=\"512.883\" cy=\"1353.15\" r=\"14\" fill=\"#009af9\" fill-rule=\"evenodd\" fill-opacity=\"1\" stroke=\"#000000\" stroke-opacity=\"1\" stroke-width=\"4\"/>\n",
       "<circle clip-path=\"url(#clip342)\" cx=\"513.944\" cy=\"1374.47\" r=\"14\" fill=\"#009af9\" fill-rule=\"evenodd\" fill-opacity=\"1\" stroke=\"#000000\" stroke-opacity=\"1\" stroke-width=\"4\"/>\n",
       "<circle clip-path=\"url(#clip342)\" cx=\"517.499\" cy=\"1359.74\" r=\"14\" fill=\"#009af9\" fill-rule=\"evenodd\" fill-opacity=\"1\" stroke=\"#000000\" stroke-opacity=\"1\" stroke-width=\"4\"/>\n",
       "<circle clip-path=\"url(#clip342)\" cx=\"524.245\" cy=\"1318.4\" r=\"14\" fill=\"#009af9\" fill-rule=\"evenodd\" fill-opacity=\"1\" stroke=\"#000000\" stroke-opacity=\"1\" stroke-width=\"4\"/>\n",
       "<circle clip-path=\"url(#clip342)\" cx=\"524.68\" cy=\"1431.1\" r=\"14\" fill=\"#009af9\" fill-rule=\"evenodd\" fill-opacity=\"1\" stroke=\"#000000\" stroke-opacity=\"1\" stroke-width=\"4\"/>\n",
       "<circle clip-path=\"url(#clip342)\" cx=\"528.135\" cy=\"1473.25\" r=\"14\" fill=\"#009af9\" fill-rule=\"evenodd\" fill-opacity=\"1\" stroke=\"#000000\" stroke-opacity=\"1\" stroke-width=\"4\"/>\n",
       "<circle clip-path=\"url(#clip342)\" cx=\"529.86\" cy=\"1432.39\" r=\"14\" fill=\"#009af9\" fill-rule=\"evenodd\" fill-opacity=\"1\" stroke=\"#000000\" stroke-opacity=\"1\" stroke-width=\"4\"/>\n",
       "<circle clip-path=\"url(#clip342)\" cx=\"530.921\" cy=\"1420.16\" r=\"14\" fill=\"#009af9\" fill-rule=\"evenodd\" fill-opacity=\"1\" stroke=\"#000000\" stroke-opacity=\"1\" stroke-width=\"4\"/>\n",
       "<circle clip-path=\"url(#clip342)\" cx=\"534.635\" cy=\"1402.39\" r=\"14\" fill=\"#009af9\" fill-rule=\"evenodd\" fill-opacity=\"1\" stroke=\"#000000\" stroke-opacity=\"1\" stroke-width=\"4\"/>\n",
       "<circle clip-path=\"url(#clip342)\" cx=\"535.166\" cy=\"1429.89\" r=\"14\" fill=\"#009af9\" fill-rule=\"evenodd\" fill-opacity=\"1\" stroke=\"#000000\" stroke-opacity=\"1\" stroke-width=\"4\"/>\n",
       "<circle clip-path=\"url(#clip342)\" cx=\"539.41\" cy=\"1414.69\" r=\"14\" fill=\"#009af9\" fill-rule=\"evenodd\" fill-opacity=\"1\" stroke=\"#000000\" stroke-opacity=\"1\" stroke-width=\"4\"/>\n",
       "<circle clip-path=\"url(#clip342)\" cx=\"539.41\" cy=\"1461.03\" r=\"14\" fill=\"#009af9\" fill-rule=\"evenodd\" fill-opacity=\"1\" stroke=\"#000000\" stroke-opacity=\"1\" stroke-width=\"4\"/>\n",
       "<circle clip-path=\"url(#clip342)\" cx=\"556.387\" cy=\"1394.74\" r=\"14\" fill=\"#009af9\" fill-rule=\"evenodd\" fill-opacity=\"1\" stroke=\"#000000\" stroke-opacity=\"1\" stroke-width=\"4\"/>\n",
       "<circle clip-path=\"url(#clip342)\" cx=\"558.535\" cy=\"1369.32\" r=\"14\" fill=\"#009af9\" fill-rule=\"evenodd\" fill-opacity=\"1\" stroke=\"#000000\" stroke-opacity=\"1\" stroke-width=\"4\"/>\n",
       "<circle clip-path=\"url(#clip342)\" cx=\"564.549\" cy=\"1286.3\" r=\"14\" fill=\"#009af9\" fill-rule=\"evenodd\" fill-opacity=\"1\" stroke=\"#000000\" stroke-opacity=\"1\" stroke-width=\"4\"/>\n",
       "<circle clip-path=\"url(#clip342)\" cx=\"566.998\" cy=\"1457.56\" r=\"14\" fill=\"#009af9\" fill-rule=\"evenodd\" fill-opacity=\"1\" stroke=\"#000000\" stroke-opacity=\"1\" stroke-width=\"4\"/>\n",
       "<circle clip-path=\"url(#clip342)\" cx=\"570.711\" cy=\"1454.91\" r=\"14\" fill=\"#009af9\" fill-rule=\"evenodd\" fill-opacity=\"1\" stroke=\"#000000\" stroke-opacity=\"1\" stroke-width=\"4\"/>\n",
       "<circle clip-path=\"url(#clip342)\" cx=\"573.364\" cy=\"1375.68\" r=\"14\" fill=\"#009af9\" fill-rule=\"evenodd\" fill-opacity=\"1\" stroke=\"#000000\" stroke-opacity=\"1\" stroke-width=\"4\"/>\n",
       "<circle clip-path=\"url(#clip342)\" cx=\"574.328\" cy=\"1444.69\" r=\"14\" fill=\"#009af9\" fill-rule=\"evenodd\" fill-opacity=\"1\" stroke=\"#000000\" stroke-opacity=\"1\" stroke-width=\"4\"/>\n",
       "<circle clip-path=\"url(#clip342)\" cx=\"575.671\" cy=\"1391.2\" r=\"14\" fill=\"#009af9\" fill-rule=\"evenodd\" fill-opacity=\"1\" stroke=\"#000000\" stroke-opacity=\"1\" stroke-width=\"4\"/>\n",
       "<circle clip-path=\"url(#clip342)\" cx=\"588.847\" cy=\"1245.43\" r=\"14\" fill=\"#009af9\" fill-rule=\"evenodd\" fill-opacity=\"1\" stroke=\"#000000\" stroke-opacity=\"1\" stroke-width=\"4\"/>\n",
       "<circle clip-path=\"url(#clip342)\" cx=\"589.28\" cy=\"1363.85\" r=\"14\" fill=\"#009af9\" fill-rule=\"evenodd\" fill-opacity=\"1\" stroke=\"#000000\" stroke-opacity=\"1\" stroke-width=\"4\"/>\n",
       "<circle clip-path=\"url(#clip342)\" cx=\"594.585\" cy=\"1303.99\" r=\"14\" fill=\"#009af9\" fill-rule=\"evenodd\" fill-opacity=\"1\" stroke=\"#000000\" stroke-opacity=\"1\" stroke-width=\"4\"/>\n",
       "<circle clip-path=\"url(#clip342)\" cx=\"594.585\" cy=\"1341\" r=\"14\" fill=\"#009af9\" fill-rule=\"evenodd\" fill-opacity=\"1\" stroke=\"#000000\" stroke-opacity=\"1\" stroke-width=\"4\"/>\n",
       "<circle clip-path=\"url(#clip342)\" cx=\"597.238\" cy=\"1379.22\" r=\"14\" fill=\"#009af9\" fill-rule=\"evenodd\" fill-opacity=\"1\" stroke=\"#000000\" stroke-opacity=\"1\" stroke-width=\"4\"/>\n",
       "<circle clip-path=\"url(#clip342)\" cx=\"603.074\" cy=\"1375.75\" r=\"14\" fill=\"#009af9\" fill-rule=\"evenodd\" fill-opacity=\"1\" stroke=\"#000000\" stroke-opacity=\"1\" stroke-width=\"4\"/>\n",
       "<circle clip-path=\"url(#clip342)\" cx=\"605.196\" cy=\"1458.53\" r=\"14\" fill=\"#009af9\" fill-rule=\"evenodd\" fill-opacity=\"1\" stroke=\"#000000\" stroke-opacity=\"1\" stroke-width=\"4\"/>\n",
       "<circle clip-path=\"url(#clip342)\" cx=\"606.788\" cy=\"1306.17\" r=\"14\" fill=\"#009af9\" fill-rule=\"evenodd\" fill-opacity=\"1\" stroke=\"#000000\" stroke-opacity=\"1\" stroke-width=\"4\"/>\n",
       "<circle clip-path=\"url(#clip342)\" cx=\"607.318\" cy=\"1350.33\" r=\"14\" fill=\"#009af9\" fill-rule=\"evenodd\" fill-opacity=\"1\" stroke=\"#000000\" stroke-opacity=\"1\" stroke-width=\"4\"/>\n",
       "<circle clip-path=\"url(#clip342)\" cx=\"613.685\" cy=\"1396.02\" r=\"14\" fill=\"#009af9\" fill-rule=\"evenodd\" fill-opacity=\"1\" stroke=\"#000000\" stroke-opacity=\"1\" stroke-width=\"4\"/>\n",
       "<circle clip-path=\"url(#clip342)\" cx=\"615.807\" cy=\"1427.56\" r=\"14\" fill=\"#009af9\" fill-rule=\"evenodd\" fill-opacity=\"1\" stroke=\"#000000\" stroke-opacity=\"1\" stroke-width=\"4\"/>\n",
       "<circle clip-path=\"url(#clip342)\" cx=\"615.807\" cy=\"1386.37\" r=\"14\" fill=\"#009af9\" fill-rule=\"evenodd\" fill-opacity=\"1\" stroke=\"#000000\" stroke-opacity=\"1\" stroke-width=\"4\"/>\n",
       "<circle clip-path=\"url(#clip342)\" cx=\"617.345\" cy=\"1255.73\" r=\"14\" fill=\"#009af9\" fill-rule=\"evenodd\" fill-opacity=\"1\" stroke=\"#000000\" stroke-opacity=\"1\" stroke-width=\"4\"/>\n",
       "<circle clip-path=\"url(#clip342)\" cx=\"619.521\" cy=\"1363.28\" r=\"14\" fill=\"#009af9\" fill-rule=\"evenodd\" fill-opacity=\"1\" stroke=\"#000000\" stroke-opacity=\"1\" stroke-width=\"4\"/>\n",
       "<circle clip-path=\"url(#clip342)\" cx=\"620.051\" cy=\"1273.75\" r=\"14\" fill=\"#009af9\" fill-rule=\"evenodd\" fill-opacity=\"1\" stroke=\"#000000\" stroke-opacity=\"1\" stroke-width=\"4\"/>\n",
       "<circle clip-path=\"url(#clip342)\" cx=\"622.292\" cy=\"1451.13\" r=\"14\" fill=\"#009af9\" fill-rule=\"evenodd\" fill-opacity=\"1\" stroke=\"#000000\" stroke-opacity=\"1\" stroke-width=\"4\"/>\n",
       "<circle clip-path=\"url(#clip342)\" cx=\"624.295\" cy=\"1351.62\" r=\"14\" fill=\"#009af9\" fill-rule=\"evenodd\" fill-opacity=\"1\" stroke=\"#000000\" stroke-opacity=\"1\" stroke-width=\"4\"/>\n",
       "<circle clip-path=\"url(#clip342)\" cx=\"624.826\" cy=\"1395.38\" r=\"14\" fill=\"#009af9\" fill-rule=\"evenodd\" fill-opacity=\"1\" stroke=\"#000000\" stroke-opacity=\"1\" stroke-width=\"4\"/>\n",
       "<circle clip-path=\"url(#clip342)\" cx=\"630.344\" cy=\"1348.33\" r=\"14\" fill=\"#009af9\" fill-rule=\"evenodd\" fill-opacity=\"1\" stroke=\"#000000\" stroke-opacity=\"1\" stroke-width=\"4\"/>\n",
       "<circle clip-path=\"url(#clip342)\" cx=\"635.967\" cy=\"1341.89\" r=\"14\" fill=\"#009af9\" fill-rule=\"evenodd\" fill-opacity=\"1\" stroke=\"#000000\" stroke-opacity=\"1\" stroke-width=\"4\"/>\n",
       "<circle clip-path=\"url(#clip342)\" cx=\"647.639\" cy=\"1473.9\" r=\"14\" fill=\"#009af9\" fill-rule=\"evenodd\" fill-opacity=\"1\" stroke=\"#000000\" stroke-opacity=\"1\" stroke-width=\"4\"/>\n",
       "<circle clip-path=\"url(#clip342)\" cx=\"655.491\" cy=\"1323.3\" r=\"14\" fill=\"#009af9\" fill-rule=\"evenodd\" fill-opacity=\"1\" stroke=\"#000000\" stroke-opacity=\"1\" stroke-width=\"4\"/>\n",
       "<circle clip-path=\"url(#clip342)\" cx=\"656.128\" cy=\"1448.48\" r=\"14\" fill=\"#009af9\" fill-rule=\"evenodd\" fill-opacity=\"1\" stroke=\"#000000\" stroke-opacity=\"1\" stroke-width=\"4\"/>\n",
       "<circle clip-path=\"url(#clip342)\" cx=\"656.128\" cy=\"1290.8\" r=\"14\" fill=\"#009af9\" fill-rule=\"evenodd\" fill-opacity=\"1\" stroke=\"#000000\" stroke-opacity=\"1\" stroke-width=\"4\"/>\n",
       "<circle clip-path=\"url(#clip342)\" cx=\"657.902\" cy=\"1214.79\" r=\"14\" fill=\"#009af9\" fill-rule=\"evenodd\" fill-opacity=\"1\" stroke=\"#000000\" stroke-opacity=\"1\" stroke-width=\"4\"/>\n",
       "<circle clip-path=\"url(#clip342)\" cx=\"658.25\" cy=\"1216.39\" r=\"14\" fill=\"#009af9\" fill-rule=\"evenodd\" fill-opacity=\"1\" stroke=\"#000000\" stroke-opacity=\"1\" stroke-width=\"4\"/>\n",
       "<circle clip-path=\"url(#clip342)\" cx=\"660.902\" cy=\"1366.42\" r=\"14\" fill=\"#009af9\" fill-rule=\"evenodd\" fill-opacity=\"1\" stroke=\"#000000\" stroke-opacity=\"1\" stroke-width=\"4\"/>\n",
       "<circle clip-path=\"url(#clip342)\" cx=\"661.804\" cy=\"1255.73\" r=\"14\" fill=\"#009af9\" fill-rule=\"evenodd\" fill-opacity=\"1\" stroke=\"#000000\" stroke-opacity=\"1\" stroke-width=\"4\"/>\n",
       "<circle clip-path=\"url(#clip342)\" cx=\"669.921\" cy=\"1243.18\" r=\"14\" fill=\"#009af9\" fill-rule=\"evenodd\" fill-opacity=\"1\" stroke=\"#000000\" stroke-opacity=\"1\" stroke-width=\"4\"/>\n",
       "<circle clip-path=\"url(#clip342)\" cx=\"675.227\" cy=\"1437.54\" r=\"14\" fill=\"#009af9\" fill-rule=\"evenodd\" fill-opacity=\"1\" stroke=\"#000000\" stroke-opacity=\"1\" stroke-width=\"4\"/>\n",
       "<circle clip-path=\"url(#clip342)\" cx=\"679.471\" cy=\"1386.69\" r=\"14\" fill=\"#009af9\" fill-rule=\"evenodd\" fill-opacity=\"1\" stroke=\"#000000\" stroke-opacity=\"1\" stroke-width=\"4\"/>\n",
       "<circle clip-path=\"url(#clip342)\" cx=\"679.471\" cy=\"1404.71\" r=\"14\" fill=\"#009af9\" fill-rule=\"evenodd\" fill-opacity=\"1\" stroke=\"#000000\" stroke-opacity=\"1\" stroke-width=\"4\"/>\n",
       "<circle clip-path=\"url(#clip342)\" cx=\"679.471\" cy=\"1327.16\" r=\"14\" fill=\"#009af9\" fill-rule=\"evenodd\" fill-opacity=\"1\" stroke=\"#000000\" stroke-opacity=\"1\" stroke-width=\"4\"/>\n",
       "<circle clip-path=\"url(#clip342)\" cx=\"682.714\" cy=\"1345.83\" r=\"14\" fill=\"#009af9\" fill-rule=\"evenodd\" fill-opacity=\"1\" stroke=\"#000000\" stroke-opacity=\"1\" stroke-width=\"4\"/>\n",
       "<circle clip-path=\"url(#clip342)\" cx=\"689.551\" cy=\"1305.85\" r=\"14\" fill=\"#009af9\" fill-rule=\"evenodd\" fill-opacity=\"1\" stroke=\"#000000\" stroke-opacity=\"1\" stroke-width=\"4\"/>\n",
       "<circle clip-path=\"url(#clip342)\" cx=\"690.082\" cy=\"1190.33\" r=\"14\" fill=\"#009af9\" fill-rule=\"evenodd\" fill-opacity=\"1\" stroke=\"#000000\" stroke-opacity=\"1\" stroke-width=\"4\"/>\n",
       "<circle clip-path=\"url(#clip342)\" cx=\"690.082\" cy=\"1391.6\" r=\"14\" fill=\"#009af9\" fill-rule=\"evenodd\" fill-opacity=\"1\" stroke=\"#000000\" stroke-opacity=\"1\" stroke-width=\"4\"/>\n",
       "<circle clip-path=\"url(#clip342)\" cx=\"691.992\" cy=\"1365.78\" r=\"14\" fill=\"#009af9\" fill-rule=\"evenodd\" fill-opacity=\"1\" stroke=\"#000000\" stroke-opacity=\"1\" stroke-width=\"4\"/>\n",
       "<circle clip-path=\"url(#clip342)\" cx=\"694.326\" cy=\"1359.42\" r=\"14\" fill=\"#009af9\" fill-rule=\"evenodd\" fill-opacity=\"1\" stroke=\"#000000\" stroke-opacity=\"1\" stroke-width=\"4\"/>\n",
       "<circle clip-path=\"url(#clip342)\" cx=\"696.391\" cy=\"1486.2\" r=\"14\" fill=\"#009af9\" fill-rule=\"evenodd\" fill-opacity=\"1\" stroke=\"#000000\" stroke-opacity=\"1\" stroke-width=\"4\"/>\n",
       "<circle clip-path=\"url(#clip342)\" cx=\"696.979\" cy=\"1341.64\" r=\"14\" fill=\"#009af9\" fill-rule=\"evenodd\" fill-opacity=\"1\" stroke=\"#000000\" stroke-opacity=\"1\" stroke-width=\"4\"/>\n",
       "<circle clip-path=\"url(#clip342)\" cx=\"697.123\" cy=\"1361.27\" r=\"14\" fill=\"#009af9\" fill-rule=\"evenodd\" fill-opacity=\"1\" stroke=\"#000000\" stroke-opacity=\"1\" stroke-width=\"4\"/>\n",
       "<circle clip-path=\"url(#clip342)\" cx=\"699.307\" cy=\"1376.72\" r=\"14\" fill=\"#009af9\" fill-rule=\"evenodd\" fill-opacity=\"1\" stroke=\"#000000\" stroke-opacity=\"1\" stroke-width=\"4\"/>\n",
       "<circle clip-path=\"url(#clip342)\" cx=\"703.876\" cy=\"1263.7\" r=\"14\" fill=\"#009af9\" fill-rule=\"evenodd\" fill-opacity=\"1\" stroke=\"#000000\" stroke-opacity=\"1\" stroke-width=\"4\"/>\n",
       "<circle clip-path=\"url(#clip342)\" cx=\"704.937\" cy=\"1294.66\" r=\"14\" fill=\"#009af9\" fill-rule=\"evenodd\" fill-opacity=\"1\" stroke=\"#000000\" stroke-opacity=\"1\" stroke-width=\"4\"/>\n",
       "<circle clip-path=\"url(#clip342)\" cx=\"707.059\" cy=\"1316.22\" r=\"14\" fill=\"#009af9\" fill-rule=\"evenodd\" fill-opacity=\"1\" stroke=\"#000000\" stroke-opacity=\"1\" stroke-width=\"4\"/>\n",
       "<circle clip-path=\"url(#clip342)\" cx=\"713.425\" cy=\"1327.16\" r=\"14\" fill=\"#009af9\" fill-rule=\"evenodd\" fill-opacity=\"1\" stroke=\"#000000\" stroke-opacity=\"1\" stroke-width=\"4\"/>\n",
       "<circle clip-path=\"url(#clip342)\" cx=\"713.47\" cy=\"1497.07\" r=\"14\" fill=\"#009af9\" fill-rule=\"evenodd\" fill-opacity=\"1\" stroke=\"#000000\" stroke-opacity=\"1\" stroke-width=\"4\"/>\n",
       "<circle clip-path=\"url(#clip342)\" cx=\"719.792\" cy=\"1177.21\" r=\"14\" fill=\"#009af9\" fill-rule=\"evenodd\" fill-opacity=\"1\" stroke=\"#000000\" stroke-opacity=\"1\" stroke-width=\"4\"/>\n",
       "<circle clip-path=\"url(#clip342)\" cx=\"721.477\" cy=\"1363.85\" r=\"14\" fill=\"#009af9\" fill-rule=\"evenodd\" fill-opacity=\"1\" stroke=\"#000000\" stroke-opacity=\"1\" stroke-width=\"4\"/>\n",
       "<circle clip-path=\"url(#clip342)\" cx=\"721.914\" cy=\"1326.52\" r=\"14\" fill=\"#009af9\" fill-rule=\"evenodd\" fill-opacity=\"1\" stroke=\"#000000\" stroke-opacity=\"1\" stroke-width=\"4\"/>\n",
       "<circle clip-path=\"url(#clip342)\" cx=\"721.914\" cy=\"1399.17\" r=\"14\" fill=\"#009af9\" fill-rule=\"evenodd\" fill-opacity=\"1\" stroke=\"#000000\" stroke-opacity=\"1\" stroke-width=\"4\"/>\n",
       "<circle clip-path=\"url(#clip342)\" cx=\"721.914\" cy=\"1254.04\" r=\"14\" fill=\"#009af9\" fill-rule=\"evenodd\" fill-opacity=\"1\" stroke=\"#000000\" stroke-opacity=\"1\" stroke-width=\"4\"/>\n",
       "<circle clip-path=\"url(#clip342)\" cx=\"728.28\" cy=\"1300.06\" r=\"14\" fill=\"#009af9\" fill-rule=\"evenodd\" fill-opacity=\"1\" stroke=\"#000000\" stroke-opacity=\"1\" stroke-width=\"4\"/>\n",
       "<circle clip-path=\"url(#clip342)\" cx=\"730.403\" cy=\"1448.15\" r=\"14\" fill=\"#009af9\" fill-rule=\"evenodd\" fill-opacity=\"1\" stroke=\"#000000\" stroke-opacity=\"1\" stroke-width=\"4\"/>\n",
       "<circle clip-path=\"url(#clip342)\" cx=\"730.937\" cy=\"1473.9\" r=\"14\" fill=\"#009af9\" fill-rule=\"evenodd\" fill-opacity=\"1\" stroke=\"#000000\" stroke-opacity=\"1\" stroke-width=\"4\"/>\n",
       "<circle clip-path=\"url(#clip342)\" cx=\"732.525\" cy=\"1314.29\" r=\"14\" fill=\"#009af9\" fill-rule=\"evenodd\" fill-opacity=\"1\" stroke=\"#000000\" stroke-opacity=\"1\" stroke-width=\"4\"/>\n",
       "<circle clip-path=\"url(#clip342)\" cx=\"738.891\" cy=\"1316.22\" r=\"14\" fill=\"#009af9\" fill-rule=\"evenodd\" fill-opacity=\"1\" stroke=\"#000000\" stroke-opacity=\"1\" stroke-width=\"4\"/>\n",
       "<circle clip-path=\"url(#clip342)\" cx=\"741.071\" cy=\"1345.83\" r=\"14\" fill=\"#009af9\" fill-rule=\"evenodd\" fill-opacity=\"1\" stroke=\"#000000\" stroke-opacity=\"1\" stroke-width=\"4\"/>\n",
       "<circle clip-path=\"url(#clip342)\" cx=\"742.074\" cy=\"1395.95\" r=\"14\" fill=\"#009af9\" fill-rule=\"evenodd\" fill-opacity=\"1\" stroke=\"#000000\" stroke-opacity=\"1\" stroke-width=\"4\"/>\n",
       "<circle clip-path=\"url(#clip342)\" cx=\"743.135\" cy=\"1271.74\" r=\"14\" fill=\"#009af9\" fill-rule=\"evenodd\" fill-opacity=\"1\" stroke=\"#000000\" stroke-opacity=\"1\" stroke-width=\"4\"/>\n",
       "<circle clip-path=\"url(#clip342)\" cx=\"743.135\" cy=\"1376.72\" r=\"14\" fill=\"#009af9\" fill-rule=\"evenodd\" fill-opacity=\"1\" stroke=\"#000000\" stroke-opacity=\"1\" stroke-width=\"4\"/>\n",
       "<circle clip-path=\"url(#clip342)\" cx=\"748.282\" cy=\"1089.93\" r=\"14\" fill=\"#009af9\" fill-rule=\"evenodd\" fill-opacity=\"1\" stroke=\"#000000\" stroke-opacity=\"1\" stroke-width=\"4\"/>\n",
       "<circle clip-path=\"url(#clip342)\" cx=\"751.624\" cy=\"1307.53\" r=\"14\" fill=\"#009af9\" fill-rule=\"evenodd\" fill-opacity=\"1\" stroke=\"#000000\" stroke-opacity=\"1\" stroke-width=\"4\"/>\n",
       "<circle clip-path=\"url(#clip342)\" cx=\"753.746\" cy=\"1391.52\" r=\"14\" fill=\"#009af9\" fill-rule=\"evenodd\" fill-opacity=\"1\" stroke=\"#000000\" stroke-opacity=\"1\" stroke-width=\"4\"/>\n",
       "<circle clip-path=\"url(#clip342)\" cx=\"754.385\" cy=\"1281.39\" r=\"14\" fill=\"#009af9\" fill-rule=\"evenodd\" fill-opacity=\"1\" stroke=\"#000000\" stroke-opacity=\"1\" stroke-width=\"4\"/>\n",
       "<circle clip-path=\"url(#clip342)\" cx=\"755.312\" cy=\"1344.54\" r=\"14\" fill=\"#009af9\" fill-rule=\"evenodd\" fill-opacity=\"1\" stroke=\"#000000\" stroke-opacity=\"1\" stroke-width=\"4\"/>\n",
       "<polyline clip-path=\"url(#clip342)\" style=\"stroke:#e26f46; stroke-linecap:butt; stroke-linejoin:round; stroke-width:4; stroke-opacity:1; fill:none\" stroke-dasharray=\"16, 10\" points=\"\n",
       "  255.043,1778.14 1952.76,47.2441 \n",
       "  \"/>\n",
       "<path clip-path=\"url(#clip340)\" d=\"\n",
       "M1655.1 260.461 L1896.17 260.461 L1896.17 104.941 L1655.1 104.941  Z\n",
       "  \" fill=\"#ffffff\" fill-rule=\"evenodd\" fill-opacity=\"1\"/>\n",
       "<polyline clip-path=\"url(#clip340)\" style=\"stroke:#000000; stroke-linecap:butt; stroke-linejoin:round; stroke-width:4; stroke-opacity:1; fill:none\" points=\"\n",
       "  1655.1,260.461 1896.17,260.461 1896.17,104.941 1655.1,104.941 1655.1,260.461 \n",
       "  \"/>\n",
       "<circle clip-path=\"url(#clip340)\" cx=\"1730.55\" cy=\"156.781\" r=\"23\" fill=\"#009af9\" fill-rule=\"evenodd\" fill-opacity=\"1\" stroke=\"#000000\" stroke-opacity=\"1\" stroke-width=\"6.4\"/>\n",
       "<path clip-path=\"url(#clip340)\" d=\"M1819.85 176.468 Q1818.05 181.098 1816.33 182.51 Q1814.62 183.922 1811.75 183.922 L1808.35 183.922 L1808.35 180.357 L1810.85 180.357 Q1812.61 180.357 1813.58 179.524 Q1814.55 178.69 1815.73 175.588 L1816.49 173.644 L1806.01 148.135 L1810.52 148.135 L1818.62 168.413 L1826.73 148.135 L1831.24 148.135 L1819.85 176.468 Z\" fill=\"#000000\" fill-rule=\"evenodd\" fill-opacity=\"1\" /><path clip-path=\"url(#clip340)\" d=\"M1838.53 170.125 L1846.17 170.125 L1846.17 143.76 L1837.86 145.427 L1837.86 141.167 L1846.12 139.501 L1850.8 139.501 L1850.8 170.125 L1858.44 170.125 L1858.44 174.061 L1838.53 174.061 L1838.53 170.125 Z\" fill=\"#000000\" fill-rule=\"evenodd\" fill-opacity=\"1\" /><polyline clip-path=\"url(#clip340)\" style=\"stroke:#e26f46; stroke-linecap:butt; stroke-linejoin:round; stroke-width:4; stroke-opacity:1; fill:none\" stroke-dasharray=\"16, 10\" points=\"\n",
       "  1673.96,208.621 1787.14,208.621 \n",
       "  \"/>\n",
       "<path clip-path=\"url(#clip340)\" d=\"M1819.85 228.308 Q1818.05 232.938 1816.33 234.35 Q1814.62 235.762 1811.75 235.762 L1808.35 235.762 L1808.35 232.197 L1810.85 232.197 Q1812.61 232.197 1813.58 231.364 Q1814.55 230.53 1815.73 227.428 L1816.49 225.484 L1806.01 199.975 L1810.52 199.975 L1818.62 220.253 L1826.73 199.975 L1831.24 199.975 L1819.85 228.308 Z\" fill=\"#000000\" fill-rule=\"evenodd\" fill-opacity=\"1\" /><path clip-path=\"url(#clip340)\" d=\"M1841.75 221.965 L1858.07 221.965 L1858.07 225.901 L1836.12 225.901 L1836.12 221.965 Q1838.79 219.211 1843.37 214.581 Q1847.98 209.928 1849.16 208.586 Q1851.4 206.063 1852.28 204.327 Q1853.18 202.567 1853.18 200.878 Q1853.18 198.123 1851.24 196.387 Q1849.32 194.651 1846.22 194.651 Q1844.02 194.651 1841.56 195.415 Q1839.13 196.179 1836.36 197.729 L1836.36 193.007 Q1839.18 191.873 1841.63 191.294 Q1844.09 190.716 1846.12 190.716 Q1851.49 190.716 1854.69 193.401 Q1857.88 196.086 1857.88 200.577 Q1857.88 202.706 1857.07 204.628 Q1856.29 206.526 1854.18 209.118 Q1853.6 209.79 1850.5 213.007 Q1847.4 216.202 1841.75 221.965 Z\" fill=\"#000000\" fill-rule=\"evenodd\" fill-opacity=\"1\" /></svg>\n"
      ]
     },
     "execution_count": 41,
     "metadata": {},
     "output_type": "execute_result"
    }
   ],
   "source": [
    "scatter(price, predicted, lims = (0,800))       # the scatter plot\n",
    "plot!([0, 800], [0, 800], linestyle = :dash)    # 45 degree line\n",
    "# make axes equal and add labels\n",
    "plot!(xlims = (0,800), ylims = (0,800), size = (500,500))\n",
    "plot!(xlabel = \"Actual price\", ylabel = \"Predicted price\")"
   ]
  },
  {
   "cell_type": "markdown",
   "metadata": {},
   "source": [
    "### Chapter 3.1 Norm"
   ]
  },
  {
   "cell_type": "code",
   "execution_count": 42,
   "metadata": {},
   "outputs": [
    {
     "name": "stdout",
     "output_type": "stream",
     "text": [
      "3.0\n",
      "3.0\n",
      "3.0\n",
      "[4, 1, 4]\n"
     ]
    }
   ],
   "source": [
    "using Pkg\n",
    "# Pkg.add(\"LinearAlgebra\")  # we need the norm funciton\n",
    "using LinearAlgebra\n",
    "x = [ 2, -1, 2 ];\n",
    "println( norm(x) )   # norm: will calculate the two norm\n",
    "println(sqrt(x'*x) ) # inner product with itself\n",
    "println(sqrt(sum(x.^2)) )  # component-wise x squared\n",
    "println(x.^2)"
   ]
  },
  {
   "cell_type": "markdown",
   "metadata": {},
   "source": [
    "### Chapter 3.2 Distance"
   ]
  },
  {
   "cell_type": "code",
   "execution_count": 43,
   "metadata": {},
   "outputs": [
    {
     "data": {
      "text/plain": [
       "(8.36779540858881, 0.3872983346207417, 8.532877591996735)"
      ]
     },
     "execution_count": 43,
     "metadata": {},
     "output_type": "execute_result"
    }
   ],
   "source": [
    "u = [1.8, 2.0, -3.7, 4.7]\n",
    "v = [0.6, 2.1, 1.9, -1.4]\n",
    "w = [2.0, 1.9, -4.0, 4.6]\n",
    "norm(u-v), norm(u-w), norm(v-w)"
   ]
  },
  {
   "cell_type": "markdown",
   "metadata": {},
   "source": [
    "### Chapter 4.1 Clustering"
   ]
  },
  {
   "cell_type": "code",
   "execution_count": 44,
   "metadata": {},
   "outputs": [],
   "source": [
    "# Pkg.add(\"Statistics\") # we need the mean function from the Statistics package\n",
    "using Statistics"
   ]
  },
  {
   "cell_type": "code",
   "execution_count": 45,
   "metadata": {},
   "outputs": [
    {
     "data": {
      "text/plain": [
       "2.0"
      ]
     },
     "execution_count": 45,
     "metadata": {},
     "output_type": "execute_result"
    }
   ],
   "source": [
    "Jclust(x,reps,assignment) =\n",
    "       mean( [norm(x[i]-reps[assignment[i]])^2 for i=1:length(x)] )\n",
    "x = [ [0,1], [1,0], [-1,1] ]\n",
    "reps = [ [1,1], [0,0] ]\n",
    "assignment = [1,2,1]    \n",
    "Jclust(x,reps,assignment)   # call the function"
   ]
  },
  {
   "cell_type": "markdown",
   "metadata": {},
   "source": [
    "### Chapter 4.3 The k-means algorithm"
   ]
  },
  {
   "cell_type": "markdown",
   "metadata": {},
   "source": [
    "### Basic"
   ]
  },
  {
   "cell_type": "code",
   "execution_count": 46,
   "metadata": {},
   "outputs": [
    {
     "name": "stdout",
     "output_type": "stream",
     "text": [
      "The group index: [2, 1, 3, 1, 2]\n",
      "index of group 1: [2, 4]\n",
      "index of group 2: [1, 5]\n",
      "index of group 3: [3]\n"
     ]
    }
   ],
   "source": [
    "group_number = [rand(1 : 3) for i = 1 : 5] # create a vector of dimension 5 with values 1,2,3\n",
    "println(\"The group index: \", group_number)\n",
    "group_1 = [i for i=1:5 if group_number[i] == 1]\n",
    "println(\"index of group 1: \", group_1)\n",
    "\n",
    "group_2 = [i for i=1:5 if group_number[i] == 2]\n",
    "println(\"index of group 2: \", group_2)\n",
    "\n",
    "group_3 = [i for i=1:5 if group_number[i] == 3]\n",
    "println(\"index of group 3: \", group_3)"
   ]
  },
  {
   "cell_type": "code",
   "execution_count": 47,
   "metadata": {},
   "outputs": [
    {
     "ename": "LoadError",
     "evalue": "UndefVarError: k not defined",
     "output_type": "error",
     "traceback": [
      "UndefVarError: k not defined",
      "",
      "Stacktrace:",
      " [1] top-level scope",
      "   @ In[47]:2",
      " [2] eval",
      "   @ .\\boot.jl:360 [inlined]",
      " [3] include_string(mapexpr::typeof(REPL.softscope), mod::Module, code::String, filename::String)",
      "   @ Base .\\loading.jl:1116"
     ]
    }
   ],
   "source": [
    "x = [3, 4]\n",
    "findmin([norm(x - reps[j]) for j = 1:k])"
   ]
  },
  {
   "cell_type": "code",
   "execution_count": 48,
   "metadata": {},
   "outputs": [
    {
     "data": {
      "text/plain": [
       "2-element Vector{Vector{Int64}}:\n",
       " [1, 1]\n",
       " [0, 0]"
      ]
     },
     "execution_count": 48,
     "metadata": {},
     "output_type": "execute_result"
    }
   ],
   "source": [
    "reps"
   ]
  },
  {
   "cell_type": "code",
   "execution_count": 1,
   "metadata": {},
   "outputs": [
    {
     "data": {
      "text/plain": [
       "kmeansfunction (generic function with 1 method)"
      ]
     },
     "execution_count": 1,
     "metadata": {},
     "output_type": "execute_result"
    }
   ],
   "source": [
    "function kmeansfunction(x, k; maxiters = 100, tol = 1e-5)\n",
    "N = length(x)     # number of points to be cluster\n",
    "n = length(x[1])  # the dimension\n",
    "distances = zeros(N)  # used to store the distance of each point to the nearest representative.\n",
    "reps = [zeros(n) for i=1:k]  # used to store representatives.\n",
    "    \n",
    "# 'assignment' is an array of N integers between 1 and k.\n",
    "# The initial assignment is chosen randomly.\n",
    "assignment = [rand(1:k) for i=1:N] \n",
    "Jprevious = Inf  # used in stopping condition\n",
    "    \n",
    "for iter = 1:maxiters\n",
    "    # Cluster j representative is average of points in cluster j.\n",
    "    for j = 1:k\n",
    "        group = [i for i=1:N if assignment[i]==j]  # get which point index belongs to the group j \n",
    "        reps[j] = sum(x[group]) / length(group);     # reps is the clustering center\n",
    "    end;\n",
    "    # For each x[i], find distance to the nearest representative\n",
    "    # and its group index.\n",
    "    for i = 1:N\n",
    "        (distances[i], assignment[i]) = findmin([norm(x[i] - reps[j]) for j=1:k])\n",
    "    end;\n",
    "\n",
    "    # Compute clustering objective.\n",
    "    J = norm(distances)^2 / N  # distance to the clustering center\n",
    "\n",
    "    # Show progress and terminate if J stopped decreasing.\n",
    "    println(\"Iteration \", iter, \": Jclust = \", J, \".\")\n",
    "    if (iter > 1) && (abs(J - Jprevious) < tol*J)\n",
    "         return assignment, reps\n",
    "    end\n",
    " Jprevious = J\n",
    " end\n",
    "\n",
    " end"
   ]
  },
  {
   "cell_type": "code",
   "execution_count": 2,
   "metadata": {},
   "outputs": [
    {
     "data": {
      "text/plain": [
       "300-element Vector{Vector{Float64}}:\n",
       " [0.21556180275575548, 0.3842380389957474]\n",
       " [0.15339962580418032, -0.3397341424173246]\n",
       " [0.1610149371078556, 0.07708272437620725]\n",
       " [-0.05568466309736482, -0.11599142371275888]\n",
       " [-0.12080668273143161, -0.193573125665007]\n",
       " [-0.1304212225337181, 0.27453768566634557]\n",
       " [-0.35811072684040607, 0.29807029355949227]\n",
       " [-0.4573376677239891, 0.8835575673986912]\n",
       " [0.03732453040388845, 0.2556037981650681]\n",
       " [0.26125113217221185, -0.41488981143698317]\n",
       " [-0.46146394959156745, -0.21071934075768187]\n",
       " [-0.36674658916537034, -0.2446930351142991]\n",
       " [-0.16314674262521278, 0.01943009407344335]\n",
       " ⋮\n",
       " [0.5146674046349172, -1.429655786521989]\n",
       " [1.248546509083674, -0.5574455240568179]\n",
       " [1.2232191752572756, -1.5731566079992885]\n",
       " [1.4193101885536905, -1.1296871499680285]\n",
       " [0.8152850308984143, -1.1773983729882895]\n",
       " [1.077464997162898, -0.897382939257852]\n",
       " [0.6474691742570918, -1.6881263825721295]\n",
       " [1.0646287020497416, -0.8688252535697509]\n",
       " [1.1606800604085334, -1.0500060989515216]\n",
       " [1.3246171634689343, -1.4090791582788706]\n",
       " [0.6233230008182393, -0.937128571662154]\n",
       " [0.8766024167581747, -0.7716761446137822]"
      ]
     },
     "execution_count": 2,
     "metadata": {},
     "output_type": "execute_result"
    }
   ],
   "source": [
    "X = vcat( [ 0.3*randn(2) for i = 1:100 ],\n",
    "          [ [1,1] + 0.3*randn(2) for i = 1:100 ],\n",
    "          [ [1,-1] + 0.3*randn(2) for i = 1:100 ] )"
   ]
  },
  {
   "cell_type": "code",
   "execution_count": 5,
   "metadata": {},
   "outputs": [
    {
     "data": {
      "image/svg+xml": [
       "<?xml version=\"1.0\" encoding=\"utf-8\"?>\n",
       "<svg xmlns=\"http://www.w3.org/2000/svg\" xmlns:xlink=\"http://www.w3.org/1999/xlink\" width=\"600\" height=\"400\" viewBox=\"0 0 2400 1600\">\n",
       "<defs>\n",
       "  <clipPath id=\"clip420\">\n",
       "    <rect x=\"0\" y=\"0\" width=\"2400\" height=\"1600\"/>\n",
       "  </clipPath>\n",
       "</defs>\n",
       "<path clip-path=\"url(#clip420)\" d=\"\n",
       "M0 1600 L2400 1600 L2400 0 L0 0  Z\n",
       "  \" fill=\"#ffffff\" fill-rule=\"evenodd\" fill-opacity=\"1\"/>\n",
       "<defs>\n",
       "  <clipPath id=\"clip421\">\n",
       "    <rect x=\"480\" y=\"0\" width=\"1681\" height=\"1600\"/>\n",
       "  </clipPath>\n",
       "</defs>\n",
       "<path clip-path=\"url(#clip420)\" d=\"\n",
       "M193.936 1486.45 L2352.76 1486.45 L2352.76 47.2441 L193.936 47.2441  Z\n",
       "  \" fill=\"#ffffff\" fill-rule=\"evenodd\" fill-opacity=\"1\"/>\n",
       "<defs>\n",
       "  <clipPath id=\"clip422\">\n",
       "    <rect x=\"193\" y=\"47\" width=\"2160\" height=\"1440\"/>\n",
       "  </clipPath>\n",
       "</defs>\n",
       "<polyline clip-path=\"url(#clip422)\" style=\"stroke:#000000; stroke-linecap:butt; stroke-linejoin:round; stroke-width:2; stroke-opacity:0.1; fill:none\" points=\"\n",
       "  246.136,1486.45 246.136,47.2441 \n",
       "  \"/>\n",
       "<polyline clip-path=\"url(#clip422)\" style=\"stroke:#000000; stroke-linecap:butt; stroke-linejoin:round; stroke-width:2; stroke-opacity:0.1; fill:none\" points=\"\n",
       "  686.025,1486.45 686.025,47.2441 \n",
       "  \"/>\n",
       "<polyline clip-path=\"url(#clip422)\" style=\"stroke:#000000; stroke-linecap:butt; stroke-linejoin:round; stroke-width:2; stroke-opacity:0.1; fill:none\" points=\"\n",
       "  1125.91,1486.45 1125.91,47.2441 \n",
       "  \"/>\n",
       "<polyline clip-path=\"url(#clip422)\" style=\"stroke:#000000; stroke-linecap:butt; stroke-linejoin:round; stroke-width:2; stroke-opacity:0.1; fill:none\" points=\"\n",
       "  1565.8,1486.45 1565.8,47.2441 \n",
       "  \"/>\n",
       "<polyline clip-path=\"url(#clip422)\" style=\"stroke:#000000; stroke-linecap:butt; stroke-linejoin:round; stroke-width:2; stroke-opacity:0.1; fill:none\" points=\"\n",
       "  2005.69,1486.45 2005.69,47.2441 \n",
       "  \"/>\n",
       "<polyline clip-path=\"url(#clip420)\" style=\"stroke:#000000; stroke-linecap:butt; stroke-linejoin:round; stroke-width:4; stroke-opacity:1; fill:none\" points=\"\n",
       "  193.936,1486.45 2352.76,1486.45 \n",
       "  \"/>\n",
       "<polyline clip-path=\"url(#clip420)\" style=\"stroke:#000000; stroke-linecap:butt; stroke-linejoin:round; stroke-width:4; stroke-opacity:1; fill:none\" points=\"\n",
       "  246.136,1486.45 246.136,1467.55 \n",
       "  \"/>\n",
       "<polyline clip-path=\"url(#clip420)\" style=\"stroke:#000000; stroke-linecap:butt; stroke-linejoin:round; stroke-width:4; stroke-opacity:1; fill:none\" points=\"\n",
       "  686.025,1486.45 686.025,1467.55 \n",
       "  \"/>\n",
       "<polyline clip-path=\"url(#clip420)\" style=\"stroke:#000000; stroke-linecap:butt; stroke-linejoin:round; stroke-width:4; stroke-opacity:1; fill:none\" points=\"\n",
       "  1125.91,1486.45 1125.91,1467.55 \n",
       "  \"/>\n",
       "<polyline clip-path=\"url(#clip420)\" style=\"stroke:#000000; stroke-linecap:butt; stroke-linejoin:round; stroke-width:4; stroke-opacity:1; fill:none\" points=\"\n",
       "  1565.8,1486.45 1565.8,1467.55 \n",
       "  \"/>\n",
       "<polyline clip-path=\"url(#clip420)\" style=\"stroke:#000000; stroke-linecap:butt; stroke-linejoin:round; stroke-width:4; stroke-opacity:1; fill:none\" points=\"\n",
       "  2005.69,1486.45 2005.69,1467.55 \n",
       "  \"/>\n",
       "<path clip-path=\"url(#clip420)\" d=\"M193.162 1532.02 L222.838 1532.02 L222.838 1535.95 L193.162 1535.95 L193.162 1532.02 Z\" fill=\"#000000\" fill-rule=\"evenodd\" fill-opacity=\"1\" /><path clip-path=\"url(#clip420)\" d=\"M242.93 1517.37 Q239.319 1517.37 237.491 1520.93 Q235.685 1524.47 235.685 1531.6 Q235.685 1538.71 237.491 1542.27 Q239.319 1545.82 242.93 1545.82 Q246.565 1545.82 248.37 1542.27 Q250.199 1538.71 250.199 1531.6 Q250.199 1524.47 248.37 1520.93 Q246.565 1517.37 242.93 1517.37 M242.93 1513.66 Q248.74 1513.66 251.796 1518.27 Q254.875 1522.85 254.875 1531.6 Q254.875 1540.33 251.796 1544.94 Q248.74 1549.52 242.93 1549.52 Q237.12 1549.52 234.042 1544.94 Q230.986 1540.33 230.986 1531.6 Q230.986 1522.85 234.042 1518.27 Q237.12 1513.66 242.93 1513.66 Z\" fill=\"#000000\" fill-rule=\"evenodd\" fill-opacity=\"1\" /><path clip-path=\"url(#clip420)\" d=\"M263.092 1542.97 L267.977 1542.97 L267.977 1548.85 L263.092 1548.85 L263.092 1542.97 Z\" fill=\"#000000\" fill-rule=\"evenodd\" fill-opacity=\"1\" /><path clip-path=\"url(#clip420)\" d=\"M278.208 1514.29 L296.564 1514.29 L296.564 1518.22 L282.49 1518.22 L282.49 1526.7 Q283.509 1526.35 284.527 1526.19 Q285.546 1526 286.564 1526 Q292.351 1526 295.731 1529.17 Q299.111 1532.34 299.111 1537.76 Q299.111 1543.34 295.638 1546.44 Q292.166 1549.52 285.847 1549.52 Q283.671 1549.52 281.402 1549.15 Q279.157 1548.78 276.75 1548.04 L276.75 1543.34 Q278.833 1544.47 281.055 1545.03 Q283.277 1545.58 285.754 1545.58 Q289.759 1545.58 292.097 1543.48 Q294.435 1541.37 294.435 1537.76 Q294.435 1534.15 292.097 1532.04 Q289.759 1529.94 285.754 1529.94 Q283.879 1529.94 282.004 1530.35 Q280.152 1530.77 278.208 1531.65 L278.208 1514.29 Z\" fill=\"#000000\" fill-rule=\"evenodd\" fill-opacity=\"1\" /><path clip-path=\"url(#clip420)\" d=\"M663.41 1517.37 Q659.799 1517.37 657.97 1520.93 Q656.164 1524.47 656.164 1531.6 Q656.164 1538.71 657.97 1542.27 Q659.799 1545.82 663.41 1545.82 Q667.044 1545.82 668.849 1542.27 Q670.678 1538.71 670.678 1531.6 Q670.678 1524.47 668.849 1520.93 Q667.044 1517.37 663.41 1517.37 M663.41 1513.66 Q669.22 1513.66 672.275 1518.27 Q675.354 1522.85 675.354 1531.6 Q675.354 1540.33 672.275 1544.94 Q669.22 1549.52 663.41 1549.52 Q657.6 1549.52 654.521 1544.94 Q651.465 1540.33 651.465 1531.6 Q651.465 1522.85 654.521 1518.27 Q657.6 1513.66 663.41 1513.66 Z\" fill=\"#000000\" fill-rule=\"evenodd\" fill-opacity=\"1\" /><path clip-path=\"url(#clip420)\" d=\"M683.572 1542.97 L688.456 1542.97 L688.456 1548.85 L683.572 1548.85 L683.572 1542.97 Z\" fill=\"#000000\" fill-rule=\"evenodd\" fill-opacity=\"1\" /><path clip-path=\"url(#clip420)\" d=\"M708.641 1517.37 Q705.03 1517.37 703.201 1520.93 Q701.396 1524.47 701.396 1531.6 Q701.396 1538.71 703.201 1542.27 Q705.03 1545.82 708.641 1545.82 Q712.275 1545.82 714.081 1542.27 Q715.909 1538.71 715.909 1531.6 Q715.909 1524.47 714.081 1520.93 Q712.275 1517.37 708.641 1517.37 M708.641 1513.66 Q714.451 1513.66 717.507 1518.27 Q720.585 1522.85 720.585 1531.6 Q720.585 1540.33 717.507 1544.94 Q714.451 1549.52 708.641 1549.52 Q702.831 1549.52 699.752 1544.94 Q696.697 1540.33 696.697 1531.6 Q696.697 1522.85 699.752 1518.27 Q702.831 1513.66 708.641 1513.66 Z\" fill=\"#000000\" fill-rule=\"evenodd\" fill-opacity=\"1\" /><path clip-path=\"url(#clip420)\" d=\"M1103.8 1517.37 Q1100.19 1517.37 1098.36 1520.93 Q1096.55 1524.47 1096.55 1531.6 Q1096.55 1538.71 1098.36 1542.27 Q1100.19 1545.82 1103.8 1545.82 Q1107.43 1545.82 1109.24 1542.27 Q1111.06 1538.71 1111.06 1531.6 Q1111.06 1524.47 1109.24 1520.93 Q1107.43 1517.37 1103.8 1517.37 M1103.8 1513.66 Q1109.61 1513.66 1112.66 1518.27 Q1115.74 1522.85 1115.74 1531.6 Q1115.74 1540.33 1112.66 1544.94 Q1109.61 1549.52 1103.8 1549.52 Q1097.99 1549.52 1094.91 1544.94 Q1091.85 1540.33 1091.85 1531.6 Q1091.85 1522.85 1094.91 1518.27 Q1097.99 1513.66 1103.8 1513.66 Z\" fill=\"#000000\" fill-rule=\"evenodd\" fill-opacity=\"1\" /><path clip-path=\"url(#clip420)\" d=\"M1123.96 1542.97 L1128.84 1542.97 L1128.84 1548.85 L1123.96 1548.85 L1123.96 1542.97 Z\" fill=\"#000000\" fill-rule=\"evenodd\" fill-opacity=\"1\" /><path clip-path=\"url(#clip420)\" d=\"M1139.07 1514.29 L1157.43 1514.29 L1157.43 1518.22 L1143.36 1518.22 L1143.36 1526.7 Q1144.37 1526.35 1145.39 1526.19 Q1146.41 1526 1147.43 1526 Q1153.22 1526 1156.6 1529.17 Q1159.98 1532.34 1159.98 1537.76 Q1159.98 1543.34 1156.5 1546.44 Q1153.03 1549.52 1146.71 1549.52 Q1144.54 1549.52 1142.27 1549.15 Q1140.02 1548.78 1137.62 1548.04 L1137.62 1543.34 Q1139.7 1544.47 1141.92 1545.03 Q1144.14 1545.58 1146.62 1545.58 Q1150.62 1545.58 1152.96 1543.48 Q1155.3 1541.37 1155.3 1537.76 Q1155.3 1534.15 1152.96 1532.04 Q1150.62 1529.94 1146.62 1529.94 Q1144.75 1529.94 1142.87 1530.35 Q1141.02 1530.77 1139.07 1531.65 L1139.07 1514.29 Z\" fill=\"#000000\" fill-rule=\"evenodd\" fill-opacity=\"1\" /><path clip-path=\"url(#clip420)\" d=\"M1532.96 1544.91 L1540.6 1544.91 L1540.6 1518.55 L1532.28 1520.21 L1532.28 1515.95 L1540.55 1514.29 L1545.22 1514.29 L1545.22 1544.91 L1552.86 1544.91 L1552.86 1548.85 L1532.96 1548.85 L1532.96 1544.91 Z\" fill=\"#000000\" fill-rule=\"evenodd\" fill-opacity=\"1\" /><path clip-path=\"url(#clip420)\" d=\"M1562.31 1542.97 L1567.19 1542.97 L1567.19 1548.85 L1562.31 1548.85 L1562.31 1542.97 Z\" fill=\"#000000\" fill-rule=\"evenodd\" fill-opacity=\"1\" /><path clip-path=\"url(#clip420)\" d=\"M1587.38 1517.37 Q1583.77 1517.37 1581.94 1520.93 Q1580.13 1524.47 1580.13 1531.6 Q1580.13 1538.71 1581.94 1542.27 Q1583.77 1545.82 1587.38 1545.82 Q1591.01 1545.82 1592.82 1542.27 Q1594.65 1538.71 1594.65 1531.6 Q1594.65 1524.47 1592.82 1520.93 Q1591.01 1517.37 1587.38 1517.37 M1587.38 1513.66 Q1593.19 1513.66 1596.24 1518.27 Q1599.32 1522.85 1599.32 1531.6 Q1599.32 1540.33 1596.24 1544.94 Q1593.19 1549.52 1587.38 1549.52 Q1581.57 1549.52 1578.49 1544.94 Q1575.43 1540.33 1575.43 1531.6 Q1575.43 1522.85 1578.49 1518.27 Q1581.57 1513.66 1587.38 1513.66 Z\" fill=\"#000000\" fill-rule=\"evenodd\" fill-opacity=\"1\" /><path clip-path=\"url(#clip420)\" d=\"M1973.34 1544.91 L1980.98 1544.91 L1980.98 1518.55 L1972.67 1520.21 L1972.67 1515.95 L1980.94 1514.29 L1985.61 1514.29 L1985.61 1544.91 L1993.25 1544.91 L1993.25 1548.85 L1973.34 1548.85 L1973.34 1544.91 Z\" fill=\"#000000\" fill-rule=\"evenodd\" fill-opacity=\"1\" /><path clip-path=\"url(#clip420)\" d=\"M2002.69 1542.97 L2007.58 1542.97 L2007.58 1548.85 L2002.69 1548.85 L2002.69 1542.97 Z\" fill=\"#000000\" fill-rule=\"evenodd\" fill-opacity=\"1\" /><path clip-path=\"url(#clip420)\" d=\"M2017.81 1514.29 L2036.17 1514.29 L2036.17 1518.22 L2022.09 1518.22 L2022.09 1526.7 Q2023.11 1526.35 2024.13 1526.19 Q2025.15 1526 2026.17 1526 Q2031.95 1526 2035.33 1529.17 Q2038.71 1532.34 2038.71 1537.76 Q2038.71 1543.34 2035.24 1546.44 Q2031.77 1549.52 2025.45 1549.52 Q2023.27 1549.52 2021 1549.15 Q2018.76 1548.78 2016.35 1548.04 L2016.35 1543.34 Q2018.44 1544.47 2020.66 1545.03 Q2022.88 1545.58 2025.36 1545.58 Q2029.36 1545.58 2031.7 1543.48 Q2034.04 1541.37 2034.04 1537.76 Q2034.04 1534.15 2031.7 1532.04 Q2029.36 1529.94 2025.36 1529.94 Q2023.48 1529.94 2021.61 1530.35 Q2019.75 1530.77 2017.81 1531.65 L2017.81 1514.29 Z\" fill=\"#000000\" fill-rule=\"evenodd\" fill-opacity=\"1\" /><polyline clip-path=\"url(#clip422)\" style=\"stroke:#000000; stroke-linecap:butt; stroke-linejoin:round; stroke-width:2; stroke-opacity:0.1; fill:none\" points=\"\n",
       "  193.936,1349.87 2352.76,1349.87 \n",
       "  \"/>\n",
       "<polyline clip-path=\"url(#clip422)\" style=\"stroke:#000000; stroke-linecap:butt; stroke-linejoin:round; stroke-width:2; stroke-opacity:0.1; fill:none\" points=\"\n",
       "  193.936,1148.72 2352.76,1148.72 \n",
       "  \"/>\n",
       "<polyline clip-path=\"url(#clip422)\" style=\"stroke:#000000; stroke-linecap:butt; stroke-linejoin:round; stroke-width:2; stroke-opacity:0.1; fill:none\" points=\"\n",
       "  193.936,947.573 2352.76,947.573 \n",
       "  \"/>\n",
       "<polyline clip-path=\"url(#clip422)\" style=\"stroke:#000000; stroke-linecap:butt; stroke-linejoin:round; stroke-width:2; stroke-opacity:0.1; fill:none\" points=\"\n",
       "  193.936,746.425 2352.76,746.425 \n",
       "  \"/>\n",
       "<polyline clip-path=\"url(#clip422)\" style=\"stroke:#000000; stroke-linecap:butt; stroke-linejoin:round; stroke-width:2; stroke-opacity:0.1; fill:none\" points=\"\n",
       "  193.936,545.278 2352.76,545.278 \n",
       "  \"/>\n",
       "<polyline clip-path=\"url(#clip422)\" style=\"stroke:#000000; stroke-linecap:butt; stroke-linejoin:round; stroke-width:2; stroke-opacity:0.1; fill:none\" points=\"\n",
       "  193.936,344.13 2352.76,344.13 \n",
       "  \"/>\n",
       "<polyline clip-path=\"url(#clip422)\" style=\"stroke:#000000; stroke-linecap:butt; stroke-linejoin:round; stroke-width:2; stroke-opacity:0.1; fill:none\" points=\"\n",
       "  193.936,142.983 2352.76,142.983 \n",
       "  \"/>\n",
       "<polyline clip-path=\"url(#clip420)\" style=\"stroke:#000000; stroke-linecap:butt; stroke-linejoin:round; stroke-width:4; stroke-opacity:1; fill:none\" points=\"\n",
       "  193.936,1486.45 193.936,47.2441 \n",
       "  \"/>\n",
       "<polyline clip-path=\"url(#clip420)\" style=\"stroke:#000000; stroke-linecap:butt; stroke-linejoin:round; stroke-width:4; stroke-opacity:1; fill:none\" points=\"\n",
       "  193.936,1349.87 212.834,1349.87 \n",
       "  \"/>\n",
       "<polyline clip-path=\"url(#clip420)\" style=\"stroke:#000000; stroke-linecap:butt; stroke-linejoin:round; stroke-width:4; stroke-opacity:1; fill:none\" points=\"\n",
       "  193.936,1148.72 212.834,1148.72 \n",
       "  \"/>\n",
       "<polyline clip-path=\"url(#clip420)\" style=\"stroke:#000000; stroke-linecap:butt; stroke-linejoin:round; stroke-width:4; stroke-opacity:1; fill:none\" points=\"\n",
       "  193.936,947.573 212.834,947.573 \n",
       "  \"/>\n",
       "<polyline clip-path=\"url(#clip420)\" style=\"stroke:#000000; stroke-linecap:butt; stroke-linejoin:round; stroke-width:4; stroke-opacity:1; fill:none\" points=\"\n",
       "  193.936,746.425 212.834,746.425 \n",
       "  \"/>\n",
       "<polyline clip-path=\"url(#clip420)\" style=\"stroke:#000000; stroke-linecap:butt; stroke-linejoin:round; stroke-width:4; stroke-opacity:1; fill:none\" points=\"\n",
       "  193.936,545.278 212.834,545.278 \n",
       "  \"/>\n",
       "<polyline clip-path=\"url(#clip420)\" style=\"stroke:#000000; stroke-linecap:butt; stroke-linejoin:round; stroke-width:4; stroke-opacity:1; fill:none\" points=\"\n",
       "  193.936,344.13 212.834,344.13 \n",
       "  \"/>\n",
       "<polyline clip-path=\"url(#clip420)\" style=\"stroke:#000000; stroke-linecap:butt; stroke-linejoin:round; stroke-width:4; stroke-opacity:1; fill:none\" points=\"\n",
       "  193.936,142.983 212.834,142.983 \n",
       "  \"/>\n",
       "<path clip-path=\"url(#clip420)\" d=\"M51.9875 1350.32 L81.6633 1350.32 L81.6633 1354.25 L51.9875 1354.25 L51.9875 1350.32 Z\" fill=\"#000000\" fill-rule=\"evenodd\" fill-opacity=\"1\" /><path clip-path=\"url(#clip420)\" d=\"M92.566 1363.21 L100.205 1363.21 L100.205 1336.85 L91.8947 1338.51 L91.8947 1334.25 L100.159 1332.59 L104.834 1332.59 L104.834 1363.21 L112.473 1363.21 L112.473 1367.15 L92.566 1367.15 L92.566 1363.21 Z\" fill=\"#000000\" fill-rule=\"evenodd\" fill-opacity=\"1\" /><path clip-path=\"url(#clip420)\" d=\"M121.918 1361.27 L126.802 1361.27 L126.802 1367.15 L121.918 1367.15 L121.918 1361.27 Z\" fill=\"#000000\" fill-rule=\"evenodd\" fill-opacity=\"1\" /><path clip-path=\"url(#clip420)\" d=\"M137.033 1332.59 L155.39 1332.59 L155.39 1336.52 L141.316 1336.52 L141.316 1345 Q142.334 1344.65 143.353 1344.49 Q144.371 1344.3 145.39 1344.3 Q151.177 1344.3 154.556 1347.47 Q157.936 1350.64 157.936 1356.06 Q157.936 1361.64 154.464 1364.74 Q150.992 1367.82 144.672 1367.82 Q142.496 1367.82 140.228 1367.45 Q137.982 1367.08 135.575 1366.34 L135.575 1361.64 Q137.658 1362.77 139.881 1363.33 Q142.103 1363.88 144.58 1363.88 Q148.584 1363.88 150.922 1361.78 Q153.26 1359.67 153.26 1356.06 Q153.26 1352.45 150.922 1350.34 Q148.584 1348.24 144.58 1348.24 Q142.705 1348.24 140.83 1348.65 Q138.978 1349.07 137.033 1349.95 L137.033 1332.59 Z\" fill=\"#000000\" fill-rule=\"evenodd\" fill-opacity=\"1\" /><path clip-path=\"url(#clip420)\" d=\"M50.9921 1149.17 L80.6679 1149.17 L80.6679 1153.11 L50.9921 1153.11 L50.9921 1149.17 Z\" fill=\"#000000\" fill-rule=\"evenodd\" fill-opacity=\"1\" /><path clip-path=\"url(#clip420)\" d=\"M91.5706 1162.07 L99.2095 1162.07 L99.2095 1135.7 L90.8993 1137.37 L90.8993 1133.11 L99.1632 1131.44 L103.839 1131.44 L103.839 1162.07 L111.478 1162.07 L111.478 1166 L91.5706 1166 L91.5706 1162.07 Z\" fill=\"#000000\" fill-rule=\"evenodd\" fill-opacity=\"1\" /><path clip-path=\"url(#clip420)\" d=\"M120.922 1160.12 L125.807 1160.12 L125.807 1166 L120.922 1166 L120.922 1160.12 Z\" fill=\"#000000\" fill-rule=\"evenodd\" fill-opacity=\"1\" /><path clip-path=\"url(#clip420)\" d=\"M145.992 1134.52 Q142.381 1134.52 140.552 1138.08 Q138.746 1141.63 138.746 1148.75 Q138.746 1155.86 140.552 1159.43 Q142.381 1162.97 145.992 1162.97 Q149.626 1162.97 151.431 1159.43 Q153.26 1155.86 153.26 1148.75 Q153.26 1141.63 151.431 1138.08 Q149.626 1134.52 145.992 1134.52 M145.992 1130.82 Q151.802 1130.82 154.857 1135.42 Q157.936 1140.01 157.936 1148.75 Q157.936 1157.48 154.857 1162.09 Q151.802 1166.67 145.992 1166.67 Q140.181 1166.67 137.103 1162.09 Q134.047 1157.48 134.047 1148.75 Q134.047 1140.01 137.103 1135.42 Q140.181 1130.82 145.992 1130.82 Z\" fill=\"#000000\" fill-rule=\"evenodd\" fill-opacity=\"1\" /><path clip-path=\"url(#clip420)\" d=\"M51.9875 948.024 L81.6633 948.024 L81.6633 951.959 L51.9875 951.959 L51.9875 948.024 Z\" fill=\"#000000\" fill-rule=\"evenodd\" fill-opacity=\"1\" /><path clip-path=\"url(#clip420)\" d=\"M101.756 933.371 Q98.1447 933.371 96.316 936.936 Q94.5104 940.478 94.5104 947.608 Q94.5104 954.714 96.316 958.279 Q98.1447 961.82 101.756 961.82 Q105.39 961.82 107.196 958.279 Q109.024 954.714 109.024 947.608 Q109.024 940.478 107.196 936.936 Q105.39 933.371 101.756 933.371 M101.756 929.668 Q107.566 929.668 110.621 934.274 Q113.7 938.858 113.7 947.608 Q113.7 956.334 110.621 960.941 Q107.566 965.524 101.756 965.524 Q95.9456 965.524 92.8669 960.941 Q89.8114 956.334 89.8114 947.608 Q89.8114 938.858 92.8669 934.274 Q95.9456 929.668 101.756 929.668 Z\" fill=\"#000000\" fill-rule=\"evenodd\" fill-opacity=\"1\" /><path clip-path=\"url(#clip420)\" d=\"M121.918 958.973 L126.802 958.973 L126.802 964.853 L121.918 964.853 L121.918 958.973 Z\" fill=\"#000000\" fill-rule=\"evenodd\" fill-opacity=\"1\" /><path clip-path=\"url(#clip420)\" d=\"M137.033 930.293 L155.39 930.293 L155.39 934.228 L141.316 934.228 L141.316 942.7 Q142.334 942.353 143.353 942.191 Q144.371 942.006 145.39 942.006 Q151.177 942.006 154.556 945.177 Q157.936 948.348 157.936 953.765 Q157.936 959.344 154.464 962.445 Q150.992 965.524 144.672 965.524 Q142.496 965.524 140.228 965.154 Q137.982 964.783 135.575 964.043 L135.575 959.344 Q137.658 960.478 139.881 961.033 Q142.103 961.589 144.58 961.589 Q148.584 961.589 150.922 959.482 Q153.26 957.376 153.26 953.765 Q153.26 950.154 150.922 948.047 Q148.584 945.941 144.58 945.941 Q142.705 945.941 140.83 946.358 Q138.978 946.774 137.033 947.654 L137.033 930.293 Z\" fill=\"#000000\" fill-rule=\"evenodd\" fill-opacity=\"1\" /><path clip-path=\"url(#clip420)\" d=\"M100.76 732.224 Q97.1493 732.224 95.3206 735.789 Q93.515 739.33 93.515 746.46 Q93.515 753.566 95.3206 757.131 Q97.1493 760.673 100.76 760.673 Q104.395 760.673 106.2 757.131 Q108.029 753.566 108.029 746.46 Q108.029 739.33 106.2 735.789 Q104.395 732.224 100.76 732.224 M100.76 728.52 Q106.571 728.52 109.626 733.127 Q112.705 737.71 112.705 746.46 Q112.705 755.187 109.626 759.793 Q106.571 764.377 100.76 764.377 Q94.9502 764.377 91.8715 759.793 Q88.816 755.187 88.816 746.46 Q88.816 737.71 91.8715 733.127 Q94.9502 728.52 100.76 728.52 Z\" fill=\"#000000\" fill-rule=\"evenodd\" fill-opacity=\"1\" /><path clip-path=\"url(#clip420)\" d=\"M120.922 757.826 L125.807 757.826 L125.807 763.705 L120.922 763.705 L120.922 757.826 Z\" fill=\"#000000\" fill-rule=\"evenodd\" fill-opacity=\"1\" /><path clip-path=\"url(#clip420)\" d=\"M145.992 732.224 Q142.381 732.224 140.552 735.789 Q138.746 739.33 138.746 746.46 Q138.746 753.566 140.552 757.131 Q142.381 760.673 145.992 760.673 Q149.626 760.673 151.431 757.131 Q153.26 753.566 153.26 746.46 Q153.26 739.33 151.431 735.789 Q149.626 732.224 145.992 732.224 M145.992 728.52 Q151.802 728.52 154.857 733.127 Q157.936 737.71 157.936 746.46 Q157.936 755.187 154.857 759.793 Q151.802 764.377 145.992 764.377 Q140.181 764.377 137.103 759.793 Q134.047 755.187 134.047 746.46 Q134.047 737.71 137.103 733.127 Q140.181 728.52 145.992 728.52 Z\" fill=\"#000000\" fill-rule=\"evenodd\" fill-opacity=\"1\" /><path clip-path=\"url(#clip420)\" d=\"M101.756 531.077 Q98.1447 531.077 96.316 534.641 Q94.5104 538.183 94.5104 545.313 Q94.5104 552.419 96.316 555.984 Q98.1447 559.525 101.756 559.525 Q105.39 559.525 107.196 555.984 Q109.024 552.419 109.024 545.313 Q109.024 538.183 107.196 534.641 Q105.39 531.077 101.756 531.077 M101.756 527.373 Q107.566 527.373 110.621 531.979 Q113.7 536.563 113.7 545.313 Q113.7 554.039 110.621 558.646 Q107.566 563.229 101.756 563.229 Q95.9456 563.229 92.8669 558.646 Q89.8114 554.039 89.8114 545.313 Q89.8114 536.563 92.8669 531.979 Q95.9456 527.373 101.756 527.373 Z\" fill=\"#000000\" fill-rule=\"evenodd\" fill-opacity=\"1\" /><path clip-path=\"url(#clip420)\" d=\"M121.918 556.678 L126.802 556.678 L126.802 562.558 L121.918 562.558 L121.918 556.678 Z\" fill=\"#000000\" fill-rule=\"evenodd\" fill-opacity=\"1\" /><path clip-path=\"url(#clip420)\" d=\"M137.033 527.998 L155.39 527.998 L155.39 531.933 L141.316 531.933 L141.316 540.405 Q142.334 540.058 143.353 539.896 Q144.371 539.711 145.39 539.711 Q151.177 539.711 154.556 542.882 Q157.936 546.053 157.936 551.47 Q157.936 557.049 154.464 560.15 Q150.992 563.229 144.672 563.229 Q142.496 563.229 140.228 562.859 Q137.982 562.488 135.575 561.748 L135.575 557.049 Q137.658 558.183 139.881 558.738 Q142.103 559.294 144.58 559.294 Q148.584 559.294 150.922 557.187 Q153.26 555.081 153.26 551.47 Q153.26 547.859 150.922 545.752 Q148.584 543.646 144.58 543.646 Q142.705 543.646 140.83 544.063 Q138.978 544.479 137.033 545.359 L137.033 527.998 Z\" fill=\"#000000\" fill-rule=\"evenodd\" fill-opacity=\"1\" /><path clip-path=\"url(#clip420)\" d=\"M91.5706 357.475 L99.2095 357.475 L99.2095 331.11 L90.8993 332.776 L90.8993 328.517 L99.1632 326.85 L103.839 326.85 L103.839 357.475 L111.478 357.475 L111.478 361.41 L91.5706 361.41 L91.5706 357.475 Z\" fill=\"#000000\" fill-rule=\"evenodd\" fill-opacity=\"1\" /><path clip-path=\"url(#clip420)\" d=\"M120.922 355.531 L125.807 355.531 L125.807 361.41 L120.922 361.41 L120.922 355.531 Z\" fill=\"#000000\" fill-rule=\"evenodd\" fill-opacity=\"1\" /><path clip-path=\"url(#clip420)\" d=\"M145.992 329.929 Q142.381 329.929 140.552 333.494 Q138.746 337.035 138.746 344.165 Q138.746 351.272 140.552 354.836 Q142.381 358.378 145.992 358.378 Q149.626 358.378 151.431 354.836 Q153.26 351.272 153.26 344.165 Q153.26 337.035 151.431 333.494 Q149.626 329.929 145.992 329.929 M145.992 326.225 Q151.802 326.225 154.857 330.832 Q157.936 335.415 157.936 344.165 Q157.936 352.892 154.857 357.498 Q151.802 362.082 145.992 362.082 Q140.181 362.082 137.103 357.498 Q134.047 352.892 134.047 344.165 Q134.047 335.415 137.103 330.832 Q140.181 326.225 145.992 326.225 Z\" fill=\"#000000\" fill-rule=\"evenodd\" fill-opacity=\"1\" /><path clip-path=\"url(#clip420)\" d=\"M92.566 156.328 L100.205 156.328 L100.205 129.962 L91.8947 131.629 L91.8947 127.37 L100.159 125.703 L104.834 125.703 L104.834 156.328 L112.473 156.328 L112.473 160.263 L92.566 160.263 L92.566 156.328 Z\" fill=\"#000000\" fill-rule=\"evenodd\" fill-opacity=\"1\" /><path clip-path=\"url(#clip420)\" d=\"M121.918 154.383 L126.802 154.383 L126.802 160.263 L121.918 160.263 L121.918 154.383 Z\" fill=\"#000000\" fill-rule=\"evenodd\" fill-opacity=\"1\" /><path clip-path=\"url(#clip420)\" d=\"M137.033 125.703 L155.39 125.703 L155.39 129.638 L141.316 129.638 L141.316 138.11 Q142.334 137.763 143.353 137.601 Q144.371 137.416 145.39 137.416 Q151.177 137.416 154.556 140.587 Q157.936 143.758 157.936 149.175 Q157.936 154.754 154.464 157.855 Q150.992 160.934 144.672 160.934 Q142.496 160.934 140.228 160.564 Q137.982 160.193 135.575 159.453 L135.575 154.754 Q137.658 155.888 139.881 156.443 Q142.103 156.999 144.58 156.999 Q148.584 156.999 150.922 154.893 Q153.26 152.786 153.26 149.175 Q153.26 145.564 150.922 143.457 Q148.584 141.351 144.58 141.351 Q142.705 141.351 140.83 141.768 Q138.978 142.184 137.033 143.064 L137.033 125.703 Z\" fill=\"#000000\" fill-rule=\"evenodd\" fill-opacity=\"1\" /><circle clip-path=\"url(#clip422)\" cx=\"875.672\" cy=\"591.848\" r=\"14\" fill=\"#009af9\" fill-rule=\"evenodd\" fill-opacity=\"1\" stroke=\"#000000\" stroke-opacity=\"1\" stroke-width=\"3.2\"/>\n",
       "<circle clip-path=\"url(#clip422)\" cx=\"820.983\" cy=\"883.099\" r=\"14\" fill=\"#009af9\" fill-rule=\"evenodd\" fill-opacity=\"1\" stroke=\"#000000\" stroke-opacity=\"1\" stroke-width=\"3.2\"/>\n",
       "<circle clip-path=\"url(#clip422)\" cx=\"827.683\" cy=\"715.415\" r=\"14\" fill=\"#009af9\" fill-rule=\"evenodd\" fill-opacity=\"1\" stroke=\"#000000\" stroke-opacity=\"1\" stroke-width=\"3.2\"/>\n",
       "<circle clip-path=\"url(#clip422)\" cx=\"637.035\" cy=\"793.088\" r=\"14\" fill=\"#009af9\" fill-rule=\"evenodd\" fill-opacity=\"1\" stroke=\"#000000\" stroke-opacity=\"1\" stroke-width=\"3.2\"/>\n",
       "<circle clip-path=\"url(#clip422)\" cx=\"579.742\" cy=\"824.299\" r=\"14\" fill=\"#009af9\" fill-rule=\"evenodd\" fill-opacity=\"1\" stroke=\"#000000\" stroke-opacity=\"1\" stroke-width=\"3.2\"/>\n",
       "<circle clip-path=\"url(#clip422)\" cx=\"571.284\" cy=\"635.98\" r=\"14\" fill=\"#009af9\" fill-rule=\"evenodd\" fill-opacity=\"1\" stroke=\"#000000\" stroke-opacity=\"1\" stroke-width=\"3.2\"/>\n",
       "<circle clip-path=\"url(#clip422)\" cx=\"370.967\" cy=\"626.513\" r=\"14\" fill=\"#009af9\" fill-rule=\"evenodd\" fill-opacity=\"1\" stroke=\"#000000\" stroke-opacity=\"1\" stroke-width=\"3.2\"/>\n",
       "<circle clip-path=\"url(#clip422)\" cx=\"283.67\" cy=\"390.975\" r=\"14\" fill=\"#009af9\" fill-rule=\"evenodd\" fill-opacity=\"1\" stroke=\"#000000\" stroke-opacity=\"1\" stroke-width=\"3.2\"/>\n",
       "<circle clip-path=\"url(#clip422)\" cx=\"718.863\" cy=\"643.597\" r=\"14\" fill=\"#009af9\" fill-rule=\"evenodd\" fill-opacity=\"1\" stroke=\"#000000\" stroke-opacity=\"1\" stroke-width=\"3.2\"/>\n",
       "<circle clip-path=\"url(#clip422)\" cx=\"915.868\" cy=\"913.333\" r=\"14\" fill=\"#009af9\" fill-rule=\"evenodd\" fill-opacity=\"1\" stroke=\"#000000\" stroke-opacity=\"1\" stroke-width=\"3.2\"/>\n",
       "<circle clip-path=\"url(#clip422)\" cx=\"280.04\" cy=\"831.197\" r=\"14\" fill=\"#009af9\" fill-rule=\"evenodd\" fill-opacity=\"1\" stroke=\"#000000\" stroke-opacity=\"1\" stroke-width=\"3.2\"/>\n",
       "<circle clip-path=\"url(#clip422)\" cx=\"363.37\" cy=\"844.864\" r=\"14\" fill=\"#009af9\" fill-rule=\"evenodd\" fill-opacity=\"1\" stroke=\"#000000\" stroke-opacity=\"1\" stroke-width=\"3.2\"/>\n",
       "<circle clip-path=\"url(#clip422)\" cx=\"542.492\" cy=\"738.609\" r=\"14\" fill=\"#009af9\" fill-rule=\"evenodd\" fill-opacity=\"1\" stroke=\"#000000\" stroke-opacity=\"1\" stroke-width=\"3.2\"/>\n",
       "<circle clip-path=\"url(#clip422)\" cx=\"945.761\" cy=\"710.949\" r=\"14\" fill=\"#009af9\" fill-rule=\"evenodd\" fill-opacity=\"1\" stroke=\"#000000\" stroke-opacity=\"1\" stroke-width=\"3.2\"/>\n",
       "<circle clip-path=\"url(#clip422)\" cx=\"996.897\" cy=\"749.736\" r=\"14\" fill=\"#009af9\" fill-rule=\"evenodd\" fill-opacity=\"1\" stroke=\"#000000\" stroke-opacity=\"1\" stroke-width=\"3.2\"/>\n",
       "<circle clip-path=\"url(#clip422)\" cx=\"660.014\" cy=\"882.375\" r=\"14\" fill=\"#009af9\" fill-rule=\"evenodd\" fill-opacity=\"1\" stroke=\"#000000\" stroke-opacity=\"1\" stroke-width=\"3.2\"/>\n",
       "<circle clip-path=\"url(#clip422)\" cx=\"706.91\" cy=\"740.773\" r=\"14\" fill=\"#009af9\" fill-rule=\"evenodd\" fill-opacity=\"1\" stroke=\"#000000\" stroke-opacity=\"1\" stroke-width=\"3.2\"/>\n",
       "<circle clip-path=\"url(#clip422)\" cx=\"627.122\" cy=\"739.611\" r=\"14\" fill=\"#009af9\" fill-rule=\"evenodd\" fill-opacity=\"1\" stroke=\"#000000\" stroke-opacity=\"1\" stroke-width=\"3.2\"/>\n",
       "<circle clip-path=\"url(#clip422)\" cx=\"837.191\" cy=\"866.797\" r=\"14\" fill=\"#009af9\" fill-rule=\"evenodd\" fill-opacity=\"1\" stroke=\"#000000\" stroke-opacity=\"1\" stroke-width=\"3.2\"/>\n",
       "<circle clip-path=\"url(#clip422)\" cx=\"767.368\" cy=\"662.317\" r=\"14\" fill=\"#009af9\" fill-rule=\"evenodd\" fill-opacity=\"1\" stroke=\"#000000\" stroke-opacity=\"1\" stroke-width=\"3.2\"/>\n",
       "<circle clip-path=\"url(#clip422)\" cx=\"362.729\" cy=\"705.372\" r=\"14\" fill=\"#009af9\" fill-rule=\"evenodd\" fill-opacity=\"1\" stroke=\"#000000\" stroke-opacity=\"1\" stroke-width=\"3.2\"/>\n",
       "<circle clip-path=\"url(#clip422)\" cx=\"754.932\" cy=\"845.146\" r=\"14\" fill=\"#009af9\" fill-rule=\"evenodd\" fill-opacity=\"1\" stroke=\"#000000\" stroke-opacity=\"1\" stroke-width=\"3.2\"/>\n",
       "<circle clip-path=\"url(#clip422)\" cx=\"1011.98\" cy=\"945.268\" r=\"14\" fill=\"#009af9\" fill-rule=\"evenodd\" fill-opacity=\"1\" stroke=\"#000000\" stroke-opacity=\"1\" stroke-width=\"3.2\"/>\n",
       "<circle clip-path=\"url(#clip422)\" cx=\"577.001\" cy=\"841.22\" r=\"14\" fill=\"#009af9\" fill-rule=\"evenodd\" fill-opacity=\"1\" stroke=\"#000000\" stroke-opacity=\"1\" stroke-width=\"3.2\"/>\n",
       "<circle clip-path=\"url(#clip422)\" cx=\"442.38\" cy=\"687.31\" r=\"14\" fill=\"#009af9\" fill-rule=\"evenodd\" fill-opacity=\"1\" stroke=\"#000000\" stroke-opacity=\"1\" stroke-width=\"3.2\"/>\n",
       "<circle clip-path=\"url(#clip422)\" cx=\"949.666\" cy=\"811.424\" r=\"14\" fill=\"#009af9\" fill-rule=\"evenodd\" fill-opacity=\"1\" stroke=\"#000000\" stroke-opacity=\"1\" stroke-width=\"3.2\"/>\n",
       "<circle clip-path=\"url(#clip422)\" cx=\"855.912\" cy=\"842.289\" r=\"14\" fill=\"#009af9\" fill-rule=\"evenodd\" fill-opacity=\"1\" stroke=\"#000000\" stroke-opacity=\"1\" stroke-width=\"3.2\"/>\n",
       "<circle clip-path=\"url(#clip422)\" cx=\"781.64\" cy=\"855.526\" r=\"14\" fill=\"#009af9\" fill-rule=\"evenodd\" fill-opacity=\"1\" stroke=\"#000000\" stroke-opacity=\"1\" stroke-width=\"3.2\"/>\n",
       "<circle clip-path=\"url(#clip422)\" cx=\"757.492\" cy=\"649.167\" r=\"14\" fill=\"#009af9\" fill-rule=\"evenodd\" fill-opacity=\"1\" stroke=\"#000000\" stroke-opacity=\"1\" stroke-width=\"3.2\"/>\n",
       "<circle clip-path=\"url(#clip422)\" cx=\"658.124\" cy=\"634.428\" r=\"14\" fill=\"#009af9\" fill-rule=\"evenodd\" fill-opacity=\"1\" stroke=\"#000000\" stroke-opacity=\"1\" stroke-width=\"3.2\"/>\n",
       "<circle clip-path=\"url(#clip422)\" cx=\"359.685\" cy=\"628.709\" r=\"14\" fill=\"#009af9\" fill-rule=\"evenodd\" fill-opacity=\"1\" stroke=\"#000000\" stroke-opacity=\"1\" stroke-width=\"3.2\"/>\n",
       "<circle clip-path=\"url(#clip422)\" cx=\"1297.67\" cy=\"769.879\" r=\"14\" fill=\"#009af9\" fill-rule=\"evenodd\" fill-opacity=\"1\" stroke=\"#000000\" stroke-opacity=\"1\" stroke-width=\"3.2\"/>\n",
       "<circle clip-path=\"url(#clip422)\" cx=\"667.17\" cy=\"562.936\" r=\"14\" fill=\"#009af9\" fill-rule=\"evenodd\" fill-opacity=\"1\" stroke=\"#000000\" stroke-opacity=\"1\" stroke-width=\"3.2\"/>\n",
       "<circle clip-path=\"url(#clip422)\" cx=\"529.746\" cy=\"701.053\" r=\"14\" fill=\"#009af9\" fill-rule=\"evenodd\" fill-opacity=\"1\" stroke=\"#000000\" stroke-opacity=\"1\" stroke-width=\"3.2\"/>\n",
       "<circle clip-path=\"url(#clip422)\" cx=\"835.04\" cy=\"761.641\" r=\"14\" fill=\"#009af9\" fill-rule=\"evenodd\" fill-opacity=\"1\" stroke=\"#000000\" stroke-opacity=\"1\" stroke-width=\"3.2\"/>\n",
       "<circle clip-path=\"url(#clip422)\" cx=\"497.497\" cy=\"655.757\" r=\"14\" fill=\"#009af9\" fill-rule=\"evenodd\" fill-opacity=\"1\" stroke=\"#000000\" stroke-opacity=\"1\" stroke-width=\"3.2\"/>\n",
       "<circle clip-path=\"url(#clip422)\" cx=\"255.649\" cy=\"857.975\" r=\"14\" fill=\"#009af9\" fill-rule=\"evenodd\" fill-opacity=\"1\" stroke=\"#000000\" stroke-opacity=\"1\" stroke-width=\"3.2\"/>\n",
       "<circle clip-path=\"url(#clip422)\" cx=\"1053.63\" cy=\"549.803\" r=\"14\" fill=\"#009af9\" fill-rule=\"evenodd\" fill-opacity=\"1\" stroke=\"#000000\" stroke-opacity=\"1\" stroke-width=\"3.2\"/>\n",
       "<circle clip-path=\"url(#clip422)\" cx=\"255.035\" cy=\"529.182\" r=\"14\" fill=\"#009af9\" fill-rule=\"evenodd\" fill-opacity=\"1\" stroke=\"#000000\" stroke-opacity=\"1\" stroke-width=\"3.2\"/>\n",
       "<circle clip-path=\"url(#clip422)\" cx=\"719.637\" cy=\"860.101\" r=\"14\" fill=\"#009af9\" fill-rule=\"evenodd\" fill-opacity=\"1\" stroke=\"#000000\" stroke-opacity=\"1\" stroke-width=\"3.2\"/>\n",
       "<circle clip-path=\"url(#clip422)\" cx=\"649.421\" cy=\"633.455\" r=\"14\" fill=\"#009af9\" fill-rule=\"evenodd\" fill-opacity=\"1\" stroke=\"#000000\" stroke-opacity=\"1\" stroke-width=\"3.2\"/>\n",
       "<circle clip-path=\"url(#clip422)\" cx=\"729.098\" cy=\"743.652\" r=\"14\" fill=\"#009af9\" fill-rule=\"evenodd\" fill-opacity=\"1\" stroke=\"#000000\" stroke-opacity=\"1\" stroke-width=\"3.2\"/>\n",
       "<circle clip-path=\"url(#clip422)\" cx=\"996.021\" cy=\"853.477\" r=\"14\" fill=\"#009af9\" fill-rule=\"evenodd\" fill-opacity=\"1\" stroke=\"#000000\" stroke-opacity=\"1\" stroke-width=\"3.2\"/>\n",
       "<circle clip-path=\"url(#clip422)\" cx=\"941.636\" cy=\"829.946\" r=\"14\" fill=\"#009af9\" fill-rule=\"evenodd\" fill-opacity=\"1\" stroke=\"#000000\" stroke-opacity=\"1\" stroke-width=\"3.2\"/>\n",
       "<circle clip-path=\"url(#clip422)\" cx=\"627.687\" cy=\"583.828\" r=\"14\" fill=\"#009af9\" fill-rule=\"evenodd\" fill-opacity=\"1\" stroke=\"#000000\" stroke-opacity=\"1\" stroke-width=\"3.2\"/>\n",
       "<circle clip-path=\"url(#clip422)\" cx=\"688.434\" cy=\"739.373\" r=\"14\" fill=\"#009af9\" fill-rule=\"evenodd\" fill-opacity=\"1\" stroke=\"#000000\" stroke-opacity=\"1\" stroke-width=\"3.2\"/>\n",
       "<circle clip-path=\"url(#clip422)\" cx=\"783.326\" cy=\"718.042\" r=\"14\" fill=\"#009af9\" fill-rule=\"evenodd\" fill-opacity=\"1\" stroke=\"#000000\" stroke-opacity=\"1\" stroke-width=\"3.2\"/>\n",
       "<circle clip-path=\"url(#clip422)\" cx=\"389.916\" cy=\"847.762\" r=\"14\" fill=\"#009af9\" fill-rule=\"evenodd\" fill-opacity=\"1\" stroke=\"#000000\" stroke-opacity=\"1\" stroke-width=\"3.2\"/>\n",
       "<circle clip-path=\"url(#clip422)\" cx=\"396.933\" cy=\"773.985\" r=\"14\" fill=\"#009af9\" fill-rule=\"evenodd\" fill-opacity=\"1\" stroke=\"#000000\" stroke-opacity=\"1\" stroke-width=\"3.2\"/>\n",
       "<circle clip-path=\"url(#clip422)\" cx=\"984.317\" cy=\"806.417\" r=\"14\" fill=\"#009af9\" fill-rule=\"evenodd\" fill-opacity=\"1\" stroke=\"#000000\" stroke-opacity=\"1\" stroke-width=\"3.2\"/>\n",
       "<circle clip-path=\"url(#clip422)\" cx=\"710.417\" cy=\"682.903\" r=\"14\" fill=\"#009af9\" fill-rule=\"evenodd\" fill-opacity=\"1\" stroke=\"#000000\" stroke-opacity=\"1\" stroke-width=\"3.2\"/>\n",
       "<circle clip-path=\"url(#clip422)\" cx=\"483.545\" cy=\"759.55\" r=\"14\" fill=\"#009af9\" fill-rule=\"evenodd\" fill-opacity=\"1\" stroke=\"#000000\" stroke-opacity=\"1\" stroke-width=\"3.2\"/>\n",
       "<circle clip-path=\"url(#clip422)\" cx=\"965.022\" cy=\"640.492\" r=\"14\" fill=\"#009af9\" fill-rule=\"evenodd\" fill-opacity=\"1\" stroke=\"#000000\" stroke-opacity=\"1\" stroke-width=\"3.2\"/>\n",
       "<circle clip-path=\"url(#clip422)\" cx=\"647.41\" cy=\"730.604\" r=\"14\" fill=\"#009af9\" fill-rule=\"evenodd\" fill-opacity=\"1\" stroke=\"#000000\" stroke-opacity=\"1\" stroke-width=\"3.2\"/>\n",
       "<circle clip-path=\"url(#clip422)\" cx=\"544.545\" cy=\"687.762\" r=\"14\" fill=\"#009af9\" fill-rule=\"evenodd\" fill-opacity=\"1\" stroke=\"#000000\" stroke-opacity=\"1\" stroke-width=\"3.2\"/>\n",
       "<circle clip-path=\"url(#clip422)\" cx=\"610.056\" cy=\"847.19\" r=\"14\" fill=\"#009af9\" fill-rule=\"evenodd\" fill-opacity=\"1\" stroke=\"#000000\" stroke-opacity=\"1\" stroke-width=\"3.2\"/>\n",
       "<circle clip-path=\"url(#clip422)\" cx=\"301.56\" cy=\"699.307\" r=\"14\" fill=\"#009af9\" fill-rule=\"evenodd\" fill-opacity=\"1\" stroke=\"#000000\" stroke-opacity=\"1\" stroke-width=\"3.2\"/>\n",
       "<circle clip-path=\"url(#clip422)\" cx=\"672.736\" cy=\"843.751\" r=\"14\" fill=\"#009af9\" fill-rule=\"evenodd\" fill-opacity=\"1\" stroke=\"#000000\" stroke-opacity=\"1\" stroke-width=\"3.2\"/>\n",
       "<circle clip-path=\"url(#clip422)\" cx=\"699.408\" cy=\"799.589\" r=\"14\" fill=\"#009af9\" fill-rule=\"evenodd\" fill-opacity=\"1\" stroke=\"#000000\" stroke-opacity=\"1\" stroke-width=\"3.2\"/>\n",
       "<circle clip-path=\"url(#clip422)\" cx=\"338.471\" cy=\"805.071\" r=\"14\" fill=\"#009af9\" fill-rule=\"evenodd\" fill-opacity=\"1\" stroke=\"#000000\" stroke-opacity=\"1\" stroke-width=\"3.2\"/>\n",
       "<circle clip-path=\"url(#clip422)\" cx=\"896.562\" cy=\"891.58\" r=\"14\" fill=\"#009af9\" fill-rule=\"evenodd\" fill-opacity=\"1\" stroke=\"#000000\" stroke-opacity=\"1\" stroke-width=\"3.2\"/>\n",
       "<circle clip-path=\"url(#clip422)\" cx=\"495.39\" cy=\"598.432\" r=\"14\" fill=\"#009af9\" fill-rule=\"evenodd\" fill-opacity=\"1\" stroke=\"#000000\" stroke-opacity=\"1\" stroke-width=\"3.2\"/>\n",
       "<circle clip-path=\"url(#clip422)\" cx=\"663.907\" cy=\"716.609\" r=\"14\" fill=\"#009af9\" fill-rule=\"evenodd\" fill-opacity=\"1\" stroke=\"#000000\" stroke-opacity=\"1\" stroke-width=\"3.2\"/>\n",
       "<circle clip-path=\"url(#clip422)\" cx=\"541.388\" cy=\"714.47\" r=\"14\" fill=\"#009af9\" fill-rule=\"evenodd\" fill-opacity=\"1\" stroke=\"#000000\" stroke-opacity=\"1\" stroke-width=\"3.2\"/>\n",
       "<circle clip-path=\"url(#clip422)\" cx=\"342.822\" cy=\"796.574\" r=\"14\" fill=\"#009af9\" fill-rule=\"evenodd\" fill-opacity=\"1\" stroke=\"#000000\" stroke-opacity=\"1\" stroke-width=\"3.2\"/>\n",
       "<circle clip-path=\"url(#clip422)\" cx=\"672.766\" cy=\"745.439\" r=\"14\" fill=\"#009af9\" fill-rule=\"evenodd\" fill-opacity=\"1\" stroke=\"#000000\" stroke-opacity=\"1\" stroke-width=\"3.2\"/>\n",
       "<circle clip-path=\"url(#clip422)\" cx=\"710.142\" cy=\"836.648\" r=\"14\" fill=\"#009af9\" fill-rule=\"evenodd\" fill-opacity=\"1\" stroke=\"#000000\" stroke-opacity=\"1\" stroke-width=\"3.2\"/>\n",
       "<circle clip-path=\"url(#clip422)\" cx=\"1110.34\" cy=\"815.316\" r=\"14\" fill=\"#009af9\" fill-rule=\"evenodd\" fill-opacity=\"1\" stroke=\"#000000\" stroke-opacity=\"1\" stroke-width=\"3.2\"/>\n",
       "<circle clip-path=\"url(#clip422)\" cx=\"881.244\" cy=\"796.363\" r=\"14\" fill=\"#009af9\" fill-rule=\"evenodd\" fill-opacity=\"1\" stroke=\"#000000\" stroke-opacity=\"1\" stroke-width=\"3.2\"/>\n",
       "<circle clip-path=\"url(#clip422)\" cx=\"753.574\" cy=\"741.197\" r=\"14\" fill=\"#009af9\" fill-rule=\"evenodd\" fill-opacity=\"1\" stroke=\"#000000\" stroke-opacity=\"1\" stroke-width=\"3.2\"/>\n",
       "<circle clip-path=\"url(#clip422)\" cx=\"1006.51\" cy=\"647.078\" r=\"14\" fill=\"#009af9\" fill-rule=\"evenodd\" fill-opacity=\"1\" stroke=\"#000000\" stroke-opacity=\"1\" stroke-width=\"3.2\"/>\n",
       "<circle clip-path=\"url(#clip422)\" cx=\"660.388\" cy=\"737.11\" r=\"14\" fill=\"#009af9\" fill-rule=\"evenodd\" fill-opacity=\"1\" stroke=\"#000000\" stroke-opacity=\"1\" stroke-width=\"3.2\"/>\n",
       "<circle clip-path=\"url(#clip422)\" cx=\"954.24\" cy=\"673.128\" r=\"14\" fill=\"#009af9\" fill-rule=\"evenodd\" fill-opacity=\"1\" stroke=\"#000000\" stroke-opacity=\"1\" stroke-width=\"3.2\"/>\n",
       "<circle clip-path=\"url(#clip422)\" cx=\"1036.8\" cy=\"908.099\" r=\"14\" fill=\"#009af9\" fill-rule=\"evenodd\" fill-opacity=\"1\" stroke=\"#000000\" stroke-opacity=\"1\" stroke-width=\"3.2\"/>\n",
       "<circle clip-path=\"url(#clip422)\" cx=\"811.492\" cy=\"656.7\" r=\"14\" fill=\"#009af9\" fill-rule=\"evenodd\" fill-opacity=\"1\" stroke=\"#000000\" stroke-opacity=\"1\" stroke-width=\"3.2\"/>\n",
       "<circle clip-path=\"url(#clip422)\" cx=\"736.629\" cy=\"654.057\" r=\"14\" fill=\"#009af9\" fill-rule=\"evenodd\" fill-opacity=\"1\" stroke=\"#000000\" stroke-opacity=\"1\" stroke-width=\"3.2\"/>\n",
       "<circle clip-path=\"url(#clip422)\" cx=\"909.031\" cy=\"892.408\" r=\"14\" fill=\"#009af9\" fill-rule=\"evenodd\" fill-opacity=\"1\" stroke=\"#000000\" stroke-opacity=\"1\" stroke-width=\"3.2\"/>\n",
       "<circle clip-path=\"url(#clip422)\" cx=\"851.814\" cy=\"759.33\" r=\"14\" fill=\"#009af9\" fill-rule=\"evenodd\" fill-opacity=\"1\" stroke=\"#000000\" stroke-opacity=\"1\" stroke-width=\"3.2\"/>\n",
       "<circle clip-path=\"url(#clip422)\" cx=\"794.199\" cy=\"796.182\" r=\"14\" fill=\"#009af9\" fill-rule=\"evenodd\" fill-opacity=\"1\" stroke=\"#000000\" stroke-opacity=\"1\" stroke-width=\"3.2\"/>\n",
       "<circle clip-path=\"url(#clip422)\" cx=\"442.507\" cy=\"539.449\" r=\"14\" fill=\"#009af9\" fill-rule=\"evenodd\" fill-opacity=\"1\" stroke=\"#000000\" stroke-opacity=\"1\" stroke-width=\"3.2\"/>\n",
       "<circle clip-path=\"url(#clip422)\" cx=\"664.977\" cy=\"770.303\" r=\"14\" fill=\"#009af9\" fill-rule=\"evenodd\" fill-opacity=\"1\" stroke=\"#000000\" stroke-opacity=\"1\" stroke-width=\"3.2\"/>\n",
       "<circle clip-path=\"url(#clip422)\" cx=\"937.133\" cy=\"714.641\" r=\"14\" fill=\"#009af9\" fill-rule=\"evenodd\" fill-opacity=\"1\" stroke=\"#000000\" stroke-opacity=\"1\" stroke-width=\"3.2\"/>\n",
       "<circle clip-path=\"url(#clip422)\" cx=\"498.449\" cy=\"629.998\" r=\"14\" fill=\"#009af9\" fill-rule=\"evenodd\" fill-opacity=\"1\" stroke=\"#000000\" stroke-opacity=\"1\" stroke-width=\"3.2\"/>\n",
       "<circle clip-path=\"url(#clip422)\" cx=\"553.048\" cy=\"552.186\" r=\"14\" fill=\"#009af9\" fill-rule=\"evenodd\" fill-opacity=\"1\" stroke=\"#000000\" stroke-opacity=\"1\" stroke-width=\"3.2\"/>\n",
       "<circle clip-path=\"url(#clip422)\" cx=\"974.509\" cy=\"815.501\" r=\"14\" fill=\"#009af9\" fill-rule=\"evenodd\" fill-opacity=\"1\" stroke=\"#000000\" stroke-opacity=\"1\" stroke-width=\"3.2\"/>\n",
       "<circle clip-path=\"url(#clip422)\" cx=\"575.613\" cy=\"706.28\" r=\"14\" fill=\"#009af9\" fill-rule=\"evenodd\" fill-opacity=\"1\" stroke=\"#000000\" stroke-opacity=\"1\" stroke-width=\"3.2\"/>\n",
       "<circle clip-path=\"url(#clip422)\" cx=\"1081.39\" cy=\"736.981\" r=\"14\" fill=\"#009af9\" fill-rule=\"evenodd\" fill-opacity=\"1\" stroke=\"#000000\" stroke-opacity=\"1\" stroke-width=\"3.2\"/>\n",
       "<circle clip-path=\"url(#clip422)\" cx=\"765.371\" cy=\"927.235\" r=\"14\" fill=\"#009af9\" fill-rule=\"evenodd\" fill-opacity=\"1\" stroke=\"#000000\" stroke-opacity=\"1\" stroke-width=\"3.2\"/>\n",
       "<circle clip-path=\"url(#clip422)\" cx=\"1055.28\" cy=\"726.667\" r=\"14\" fill=\"#009af9\" fill-rule=\"evenodd\" fill-opacity=\"1\" stroke=\"#000000\" stroke-opacity=\"1\" stroke-width=\"3.2\"/>\n",
       "<circle clip-path=\"url(#clip422)\" cx=\"661.22\" cy=\"510.933\" r=\"14\" fill=\"#009af9\" fill-rule=\"evenodd\" fill-opacity=\"1\" stroke=\"#000000\" stroke-opacity=\"1\" stroke-width=\"3.2\"/>\n",
       "<circle clip-path=\"url(#clip422)\" cx=\"1080.44\" cy=\"649.994\" r=\"14\" fill=\"#009af9\" fill-rule=\"evenodd\" fill-opacity=\"1\" stroke=\"#000000\" stroke-opacity=\"1\" stroke-width=\"3.2\"/>\n",
       "<circle clip-path=\"url(#clip422)\" cx=\"609.871\" cy=\"435.389\" r=\"14\" fill=\"#009af9\" fill-rule=\"evenodd\" fill-opacity=\"1\" stroke=\"#000000\" stroke-opacity=\"1\" stroke-width=\"3.2\"/>\n",
       "<circle clip-path=\"url(#clip422)\" cx=\"1070.47\" cy=\"862.289\" r=\"14\" fill=\"#009af9\" fill-rule=\"evenodd\" fill-opacity=\"1\" stroke=\"#000000\" stroke-opacity=\"1\" stroke-width=\"3.2\"/>\n",
       "<circle clip-path=\"url(#clip422)\" cx=\"278.067\" cy=\"650.644\" r=\"14\" fill=\"#009af9\" fill-rule=\"evenodd\" fill-opacity=\"1\" stroke=\"#000000\" stroke-opacity=\"1\" stroke-width=\"3.2\"/>\n",
       "<circle clip-path=\"url(#clip422)\" cx=\"275.06\" cy=\"721.375\" r=\"14\" fill=\"#009af9\" fill-rule=\"evenodd\" fill-opacity=\"1\" stroke=\"#000000\" stroke-opacity=\"1\" stroke-width=\"3.2\"/>\n",
       "<circle clip-path=\"url(#clip422)\" cx=\"387.857\" cy=\"796.797\" r=\"14\" fill=\"#009af9\" fill-rule=\"evenodd\" fill-opacity=\"1\" stroke=\"#000000\" stroke-opacity=\"1\" stroke-width=\"3.2\"/>\n",
       "<circle clip-path=\"url(#clip422)\" cx=\"1132.86\" cy=\"749.622\" r=\"14\" fill=\"#009af9\" fill-rule=\"evenodd\" fill-opacity=\"1\" stroke=\"#000000\" stroke-opacity=\"1\" stroke-width=\"3.2\"/>\n",
       "<circle clip-path=\"url(#clip422)\" cx=\"1202.09\" cy=\"621.32\" r=\"14\" fill=\"#009af9\" fill-rule=\"evenodd\" fill-opacity=\"1\" stroke=\"#000000\" stroke-opacity=\"1\" stroke-width=\"3.2\"/>\n",
       "<circle clip-path=\"url(#clip422)\" cx=\"823.692\" cy=\"780.115\" r=\"14\" fill=\"#009af9\" fill-rule=\"evenodd\" fill-opacity=\"1\" stroke=\"#000000\" stroke-opacity=\"1\" stroke-width=\"3.2\"/>\n",
       "<circle clip-path=\"url(#clip422)\" cx=\"1208.03\" cy=\"746.71\" r=\"14\" fill=\"#009af9\" fill-rule=\"evenodd\" fill-opacity=\"1\" stroke=\"#000000\" stroke-opacity=\"1\" stroke-width=\"3.2\"/>\n",
       "<circle clip-path=\"url(#clip422)\" cx=\"1899.33\" cy=\"293.196\" r=\"14\" fill=\"#009af9\" fill-rule=\"evenodd\" fill-opacity=\"1\" stroke=\"#000000\" stroke-opacity=\"1\" stroke-width=\"3.2\"/>\n",
       "<circle clip-path=\"url(#clip422)\" cx=\"1008.45\" cy=\"241.978\" r=\"14\" fill=\"#009af9\" fill-rule=\"evenodd\" fill-opacity=\"1\" stroke=\"#000000\" stroke-opacity=\"1\" stroke-width=\"3.2\"/>\n",
       "<circle clip-path=\"url(#clip422)\" cx=\"1564.22\" cy=\"212.266\" r=\"14\" fill=\"#009af9\" fill-rule=\"evenodd\" fill-opacity=\"1\" stroke=\"#000000\" stroke-opacity=\"1\" stroke-width=\"3.2\"/>\n",
       "<circle clip-path=\"url(#clip422)\" cx=\"1333.65\" cy=\"376.642\" r=\"14\" fill=\"#009af9\" fill-rule=\"evenodd\" fill-opacity=\"1\" stroke=\"#000000\" stroke-opacity=\"1\" stroke-width=\"3.2\"/>\n",
       "<circle clip-path=\"url(#clip422)\" cx=\"1391\" cy=\"298.49\" r=\"14\" fill=\"#009af9\" fill-rule=\"evenodd\" fill-opacity=\"1\" stroke=\"#000000\" stroke-opacity=\"1\" stroke-width=\"3.2\"/>\n",
       "<circle clip-path=\"url(#clip422)\" cx=\"1456.63\" cy=\"415.698\" r=\"14\" fill=\"#009af9\" fill-rule=\"evenodd\" fill-opacity=\"1\" stroke=\"#000000\" stroke-opacity=\"1\" stroke-width=\"3.2\"/>\n",
       "<circle clip-path=\"url(#clip422)\" cx=\"1573.39\" cy=\"462.279\" r=\"14\" fill=\"#009af9\" fill-rule=\"evenodd\" fill-opacity=\"1\" stroke=\"#000000\" stroke-opacity=\"1\" stroke-width=\"3.2\"/>\n",
       "<circle clip-path=\"url(#clip422)\" cx=\"1402\" cy=\"235.619\" r=\"14\" fill=\"#009af9\" fill-rule=\"evenodd\" fill-opacity=\"1\" stroke=\"#000000\" stroke-opacity=\"1\" stroke-width=\"3.2\"/>\n",
       "<circle clip-path=\"url(#clip422)\" cx=\"1570.35\" cy=\"449.708\" r=\"14\" fill=\"#009af9\" fill-rule=\"evenodd\" fill-opacity=\"1\" stroke=\"#000000\" stroke-opacity=\"1\" stroke-width=\"3.2\"/>\n",
       "<circle clip-path=\"url(#clip422)\" cx=\"1578.34\" cy=\"400.672\" r=\"14\" fill=\"#009af9\" fill-rule=\"evenodd\" fill-opacity=\"1\" stroke=\"#000000\" stroke-opacity=\"1\" stroke-width=\"3.2\"/>\n",
       "<circle clip-path=\"url(#clip422)\" cx=\"1913.45\" cy=\"439.208\" r=\"14\" fill=\"#009af9\" fill-rule=\"evenodd\" fill-opacity=\"1\" stroke=\"#000000\" stroke-opacity=\"1\" stroke-width=\"3.2\"/>\n",
       "<circle clip-path=\"url(#clip422)\" cx=\"1553.41\" cy=\"427.806\" r=\"14\" fill=\"#009af9\" fill-rule=\"evenodd\" fill-opacity=\"1\" stroke=\"#000000\" stroke-opacity=\"1\" stroke-width=\"3.2\"/>\n",
       "<circle clip-path=\"url(#clip422)\" cx=\"1481.02\" cy=\"595.962\" r=\"14\" fill=\"#009af9\" fill-rule=\"evenodd\" fill-opacity=\"1\" stroke=\"#000000\" stroke-opacity=\"1\" stroke-width=\"3.2\"/>\n",
       "<circle clip-path=\"url(#clip422)\" cx=\"1176.56\" cy=\"419.443\" r=\"14\" fill=\"#009af9\" fill-rule=\"evenodd\" fill-opacity=\"1\" stroke=\"#000000\" stroke-opacity=\"1\" stroke-width=\"3.2\"/>\n",
       "<circle clip-path=\"url(#clip422)\" cx=\"1530.03\" cy=\"360.886\" r=\"14\" fill=\"#009af9\" fill-rule=\"evenodd\" fill-opacity=\"1\" stroke=\"#000000\" stroke-opacity=\"1\" stroke-width=\"3.2\"/>\n",
       "<circle clip-path=\"url(#clip422)\" cx=\"1429.66\" cy=\"256.771\" r=\"14\" fill=\"#009af9\" fill-rule=\"evenodd\" fill-opacity=\"1\" stroke=\"#000000\" stroke-opacity=\"1\" stroke-width=\"3.2\"/>\n",
       "<circle clip-path=\"url(#clip422)\" cx=\"1257.72\" cy=\"222.98\" r=\"14\" fill=\"#009af9\" fill-rule=\"evenodd\" fill-opacity=\"1\" stroke=\"#000000\" stroke-opacity=\"1\" stroke-width=\"3.2\"/>\n",
       "<circle clip-path=\"url(#clip422)\" cx=\"1364.43\" cy=\"259.998\" r=\"14\" fill=\"#009af9\" fill-rule=\"evenodd\" fill-opacity=\"1\" stroke=\"#000000\" stroke-opacity=\"1\" stroke-width=\"3.2\"/>\n",
       "<circle clip-path=\"url(#clip422)\" cx=\"1883.45\" cy=\"202.605\" r=\"14\" fill=\"#009af9\" fill-rule=\"evenodd\" fill-opacity=\"1\" stroke=\"#000000\" stroke-opacity=\"1\" stroke-width=\"3.2\"/>\n",
       "<circle clip-path=\"url(#clip422)\" cx=\"1434.2\" cy=\"290.019\" r=\"14\" fill=\"#009af9\" fill-rule=\"evenodd\" fill-opacity=\"1\" stroke=\"#000000\" stroke-opacity=\"1\" stroke-width=\"3.2\"/>\n",
       "<circle clip-path=\"url(#clip422)\" cx=\"1734.4\" cy=\"443.561\" r=\"14\" fill=\"#009af9\" fill-rule=\"evenodd\" fill-opacity=\"1\" stroke=\"#000000\" stroke-opacity=\"1\" stroke-width=\"3.2\"/>\n",
       "<circle clip-path=\"url(#clip422)\" cx=\"2064.76\" cy=\"87.9763\" r=\"14\" fill=\"#009af9\" fill-rule=\"evenodd\" fill-opacity=\"1\" stroke=\"#000000\" stroke-opacity=\"1\" stroke-width=\"3.2\"/>\n",
       "<circle clip-path=\"url(#clip422)\" cx=\"1739.83\" cy=\"420.602\" r=\"14\" fill=\"#009af9\" fill-rule=\"evenodd\" fill-opacity=\"1\" stroke=\"#000000\" stroke-opacity=\"1\" stroke-width=\"3.2\"/>\n",
       "<circle clip-path=\"url(#clip422)\" cx=\"1862.17\" cy=\"233.358\" r=\"14\" fill=\"#009af9\" fill-rule=\"evenodd\" fill-opacity=\"1\" stroke=\"#000000\" stroke-opacity=\"1\" stroke-width=\"3.2\"/>\n",
       "<circle clip-path=\"url(#clip422)\" cx=\"1604.3\" cy=\"463.025\" r=\"14\" fill=\"#009af9\" fill-rule=\"evenodd\" fill-opacity=\"1\" stroke=\"#000000\" stroke-opacity=\"1\" stroke-width=\"3.2\"/>\n",
       "<circle clip-path=\"url(#clip422)\" cx=\"1210.95\" cy=\"305.637\" r=\"14\" fill=\"#009af9\" fill-rule=\"evenodd\" fill-opacity=\"1\" stroke=\"#000000\" stroke-opacity=\"1\" stroke-width=\"3.2\"/>\n",
       "<circle clip-path=\"url(#clip422)\" cx=\"1775.78\" cy=\"385.158\" r=\"14\" fill=\"#009af9\" fill-rule=\"evenodd\" fill-opacity=\"1\" stroke=\"#000000\" stroke-opacity=\"1\" stroke-width=\"3.2\"/>\n",
       "<circle clip-path=\"url(#clip422)\" cx=\"1706.94\" cy=\"273.906\" r=\"14\" fill=\"#009af9\" fill-rule=\"evenodd\" fill-opacity=\"1\" stroke=\"#000000\" stroke-opacity=\"1\" stroke-width=\"3.2\"/>\n",
       "<circle clip-path=\"url(#clip422)\" cx=\"1470.36\" cy=\"316.019\" r=\"14\" fill=\"#009af9\" fill-rule=\"evenodd\" fill-opacity=\"1\" stroke=\"#000000\" stroke-opacity=\"1\" stroke-width=\"3.2\"/>\n",
       "<circle clip-path=\"url(#clip422)\" cx=\"1494.03\" cy=\"471.197\" r=\"14\" fill=\"#009af9\" fill-rule=\"evenodd\" fill-opacity=\"1\" stroke=\"#000000\" stroke-opacity=\"1\" stroke-width=\"3.2\"/>\n",
       "<circle clip-path=\"url(#clip422)\" cx=\"1322.63\" cy=\"432.12\" r=\"14\" fill=\"#009af9\" fill-rule=\"evenodd\" fill-opacity=\"1\" stroke=\"#000000\" stroke-opacity=\"1\" stroke-width=\"3.2\"/>\n",
       "<circle clip-path=\"url(#clip422)\" cx=\"1444.11\" cy=\"139.735\" r=\"14\" fill=\"#009af9\" fill-rule=\"evenodd\" fill-opacity=\"1\" stroke=\"#000000\" stroke-opacity=\"1\" stroke-width=\"3.2\"/>\n",
       "<circle clip-path=\"url(#clip422)\" cx=\"1899.7\" cy=\"258.822\" r=\"14\" fill=\"#009af9\" fill-rule=\"evenodd\" fill-opacity=\"1\" stroke=\"#000000\" stroke-opacity=\"1\" stroke-width=\"3.2\"/>\n",
       "<circle clip-path=\"url(#clip422)\" cx=\"1988.27\" cy=\"376.342\" r=\"14\" fill=\"#009af9\" fill-rule=\"evenodd\" fill-opacity=\"1\" stroke=\"#000000\" stroke-opacity=\"1\" stroke-width=\"3.2\"/>\n",
       "<circle clip-path=\"url(#clip422)\" cx=\"1261.19\" cy=\"420.28\" r=\"14\" fill=\"#009af9\" fill-rule=\"evenodd\" fill-opacity=\"1\" stroke=\"#000000\" stroke-opacity=\"1\" stroke-width=\"3.2\"/>\n",
       "<circle clip-path=\"url(#clip422)\" cx=\"1344.1\" cy=\"171.588\" r=\"14\" fill=\"#009af9\" fill-rule=\"evenodd\" fill-opacity=\"1\" stroke=\"#000000\" stroke-opacity=\"1\" stroke-width=\"3.2\"/>\n",
       "<circle clip-path=\"url(#clip422)\" cx=\"1803.78\" cy=\"256.139\" r=\"14\" fill=\"#009af9\" fill-rule=\"evenodd\" fill-opacity=\"1\" stroke=\"#000000\" stroke-opacity=\"1\" stroke-width=\"3.2\"/>\n",
       "<circle clip-path=\"url(#clip422)\" cx=\"1846.79\" cy=\"191.854\" r=\"14\" fill=\"#009af9\" fill-rule=\"evenodd\" fill-opacity=\"1\" stroke=\"#000000\" stroke-opacity=\"1\" stroke-width=\"3.2\"/>\n",
       "<circle clip-path=\"url(#clip422)\" cx=\"1744.28\" cy=\"431.2\" r=\"14\" fill=\"#009af9\" fill-rule=\"evenodd\" fill-opacity=\"1\" stroke=\"#000000\" stroke-opacity=\"1\" stroke-width=\"3.2\"/>\n",
       "<circle clip-path=\"url(#clip422)\" cx=\"1246.31\" cy=\"621.59\" r=\"14\" fill=\"#009af9\" fill-rule=\"evenodd\" fill-opacity=\"1\" stroke=\"#000000\" stroke-opacity=\"1\" stroke-width=\"3.2\"/>\n",
       "<circle clip-path=\"url(#clip422)\" cx=\"1891.83\" cy=\"315.079\" r=\"14\" fill=\"#009af9\" fill-rule=\"evenodd\" fill-opacity=\"1\" stroke=\"#000000\" stroke-opacity=\"1\" stroke-width=\"3.2\"/>\n",
       "<circle clip-path=\"url(#clip422)\" cx=\"1296.5\" cy=\"648.153\" r=\"14\" fill=\"#009af9\" fill-rule=\"evenodd\" fill-opacity=\"1\" stroke=\"#000000\" stroke-opacity=\"1\" stroke-width=\"3.2\"/>\n",
       "<circle clip-path=\"url(#clip422)\" cx=\"1281.32\" cy=\"187.853\" r=\"14\" fill=\"#009af9\" fill-rule=\"evenodd\" fill-opacity=\"1\" stroke=\"#000000\" stroke-opacity=\"1\" stroke-width=\"3.2\"/>\n",
       "<circle clip-path=\"url(#clip422)\" cx=\"1586.66\" cy=\"461.061\" r=\"14\" fill=\"#009af9\" fill-rule=\"evenodd\" fill-opacity=\"1\" stroke=\"#000000\" stroke-opacity=\"1\" stroke-width=\"3.2\"/>\n",
       "<circle clip-path=\"url(#clip422)\" cx=\"1303.11\" cy=\"287.325\" r=\"14\" fill=\"#009af9\" fill-rule=\"evenodd\" fill-opacity=\"1\" stroke=\"#000000\" stroke-opacity=\"1\" stroke-width=\"3.2\"/>\n",
       "<circle clip-path=\"url(#clip422)\" cx=\"1547.12\" cy=\"505.226\" r=\"14\" fill=\"#009af9\" fill-rule=\"evenodd\" fill-opacity=\"1\" stroke=\"#000000\" stroke-opacity=\"1\" stroke-width=\"3.2\"/>\n",
       "<circle clip-path=\"url(#clip422)\" cx=\"2092.48\" cy=\"570.943\" r=\"14\" fill=\"#009af9\" fill-rule=\"evenodd\" fill-opacity=\"1\" stroke=\"#000000\" stroke-opacity=\"1\" stroke-width=\"3.2\"/>\n",
       "<circle clip-path=\"url(#clip422)\" cx=\"1512.68\" cy=\"323.57\" r=\"14\" fill=\"#009af9\" fill-rule=\"evenodd\" fill-opacity=\"1\" stroke=\"#000000\" stroke-opacity=\"1\" stroke-width=\"3.2\"/>\n",
       "<circle clip-path=\"url(#clip422)\" cx=\"2031.84\" cy=\"259.285\" r=\"14\" fill=\"#009af9\" fill-rule=\"evenodd\" fill-opacity=\"1\" stroke=\"#000000\" stroke-opacity=\"1\" stroke-width=\"3.2\"/>\n",
       "<circle clip-path=\"url(#clip422)\" cx=\"1630.49\" cy=\"359.387\" r=\"14\" fill=\"#009af9\" fill-rule=\"evenodd\" fill-opacity=\"1\" stroke=\"#000000\" stroke-opacity=\"1\" stroke-width=\"3.2\"/>\n",
       "<circle clip-path=\"url(#clip422)\" cx=\"1811.27\" cy=\"100.452\" r=\"14\" fill=\"#009af9\" fill-rule=\"evenodd\" fill-opacity=\"1\" stroke=\"#000000\" stroke-opacity=\"1\" stroke-width=\"3.2\"/>\n",
       "<circle clip-path=\"url(#clip422)\" cx=\"1574.12\" cy=\"208.226\" r=\"14\" fill=\"#009af9\" fill-rule=\"evenodd\" fill-opacity=\"1\" stroke=\"#000000\" stroke-opacity=\"1\" stroke-width=\"3.2\"/>\n",
       "<circle clip-path=\"url(#clip422)\" cx=\"1707.08\" cy=\"337.01\" r=\"14\" fill=\"#009af9\" fill-rule=\"evenodd\" fill-opacity=\"1\" stroke=\"#000000\" stroke-opacity=\"1\" stroke-width=\"3.2\"/>\n",
       "<circle clip-path=\"url(#clip422)\" cx=\"1437.88\" cy=\"503.045\" r=\"14\" fill=\"#009af9\" fill-rule=\"evenodd\" fill-opacity=\"1\" stroke=\"#000000\" stroke-opacity=\"1\" stroke-width=\"3.2\"/>\n",
       "<circle clip-path=\"url(#clip422)\" cx=\"1496.62\" cy=\"556.11\" r=\"14\" fill=\"#009af9\" fill-rule=\"evenodd\" fill-opacity=\"1\" stroke=\"#000000\" stroke-opacity=\"1\" stroke-width=\"3.2\"/>\n",
       "<circle clip-path=\"url(#clip422)\" cx=\"1213.58\" cy=\"473.423\" r=\"14\" fill=\"#009af9\" fill-rule=\"evenodd\" fill-opacity=\"1\" stroke=\"#000000\" stroke-opacity=\"1\" stroke-width=\"3.2\"/>\n",
       "<circle clip-path=\"url(#clip422)\" cx=\"1842.73\" cy=\"130.446\" r=\"14\" fill=\"#009af9\" fill-rule=\"evenodd\" fill-opacity=\"1\" stroke=\"#000000\" stroke-opacity=\"1\" stroke-width=\"3.2\"/>\n",
       "<circle clip-path=\"url(#clip422)\" cx=\"1819.63\" cy=\"359.694\" r=\"14\" fill=\"#009af9\" fill-rule=\"evenodd\" fill-opacity=\"1\" stroke=\"#000000\" stroke-opacity=\"1\" stroke-width=\"3.2\"/>\n",
       "<circle clip-path=\"url(#clip422)\" cx=\"1347.12\" cy=\"316.904\" r=\"14\" fill=\"#009af9\" fill-rule=\"evenodd\" fill-opacity=\"1\" stroke=\"#000000\" stroke-opacity=\"1\" stroke-width=\"3.2\"/>\n",
       "<circle clip-path=\"url(#clip422)\" cx=\"1457.05\" cy=\"149.043\" r=\"14\" fill=\"#009af9\" fill-rule=\"evenodd\" fill-opacity=\"1\" stroke=\"#000000\" stroke-opacity=\"1\" stroke-width=\"3.2\"/>\n",
       "<circle clip-path=\"url(#clip422)\" cx=\"1923.93\" cy=\"256.144\" r=\"14\" fill=\"#009af9\" fill-rule=\"evenodd\" fill-opacity=\"1\" stroke=\"#000000\" stroke-opacity=\"1\" stroke-width=\"3.2\"/>\n",
       "<circle clip-path=\"url(#clip422)\" cx=\"1587.29\" cy=\"362.399\" r=\"14\" fill=\"#009af9\" fill-rule=\"evenodd\" fill-opacity=\"1\" stroke=\"#000000\" stroke-opacity=\"1\" stroke-width=\"3.2\"/>\n",
       "<circle clip-path=\"url(#clip422)\" cx=\"1612.18\" cy=\"218.098\" r=\"14\" fill=\"#009af9\" fill-rule=\"evenodd\" fill-opacity=\"1\" stroke=\"#000000\" stroke-opacity=\"1\" stroke-width=\"3.2\"/>\n",
       "<circle clip-path=\"url(#clip422)\" cx=\"2264.32\" cy=\"339.397\" r=\"14\" fill=\"#009af9\" fill-rule=\"evenodd\" fill-opacity=\"1\" stroke=\"#000000\" stroke-opacity=\"1\" stroke-width=\"3.2\"/>\n",
       "<circle clip-path=\"url(#clip422)\" cx=\"1249.65\" cy=\"401.274\" r=\"14\" fill=\"#009af9\" fill-rule=\"evenodd\" fill-opacity=\"1\" stroke=\"#000000\" stroke-opacity=\"1\" stroke-width=\"3.2\"/>\n",
       "<circle clip-path=\"url(#clip422)\" cx=\"1896.64\" cy=\"179.727\" r=\"14\" fill=\"#009af9\" fill-rule=\"evenodd\" fill-opacity=\"1\" stroke=\"#000000\" stroke-opacity=\"1\" stroke-width=\"3.2\"/>\n",
       "<circle clip-path=\"url(#clip422)\" cx=\"1815.76\" cy=\"325.339\" r=\"14\" fill=\"#009af9\" fill-rule=\"evenodd\" fill-opacity=\"1\" stroke=\"#000000\" stroke-opacity=\"1\" stroke-width=\"3.2\"/>\n",
       "<circle clip-path=\"url(#clip422)\" cx=\"1909.54\" cy=\"255.613\" r=\"14\" fill=\"#009af9\" fill-rule=\"evenodd\" fill-opacity=\"1\" stroke=\"#000000\" stroke-opacity=\"1\" stroke-width=\"3.2\"/>\n",
       "<circle clip-path=\"url(#clip422)\" cx=\"1888.32\" cy=\"188.796\" r=\"14\" fill=\"#009af9\" fill-rule=\"evenodd\" fill-opacity=\"1\" stroke=\"#000000\" stroke-opacity=\"1\" stroke-width=\"3.2\"/>\n",
       "<circle clip-path=\"url(#clip422)\" cx=\"1264.34\" cy=\"294.952\" r=\"14\" fill=\"#009af9\" fill-rule=\"evenodd\" fill-opacity=\"1\" stroke=\"#000000\" stroke-opacity=\"1\" stroke-width=\"3.2\"/>\n",
       "<circle clip-path=\"url(#clip422)\" cx=\"1889.61\" cy=\"208.091\" r=\"14\" fill=\"#009af9\" fill-rule=\"evenodd\" fill-opacity=\"1\" stroke=\"#000000\" stroke-opacity=\"1\" stroke-width=\"3.2\"/>\n",
       "<circle clip-path=\"url(#clip422)\" cx=\"1629.05\" cy=\"351.847\" r=\"14\" fill=\"#009af9\" fill-rule=\"evenodd\" fill-opacity=\"1\" stroke=\"#000000\" stroke-opacity=\"1\" stroke-width=\"3.2\"/>\n",
       "<circle clip-path=\"url(#clip422)\" cx=\"1972.06\" cy=\"259.267\" r=\"14\" fill=\"#009af9\" fill-rule=\"evenodd\" fill-opacity=\"1\" stroke=\"#000000\" stroke-opacity=\"1\" stroke-width=\"3.2\"/>\n",
       "<circle clip-path=\"url(#clip422)\" cx=\"1509.16\" cy=\"516.143\" r=\"14\" fill=\"#009af9\" fill-rule=\"evenodd\" fill-opacity=\"1\" stroke=\"#000000\" stroke-opacity=\"1\" stroke-width=\"3.2\"/>\n",
       "<circle clip-path=\"url(#clip422)\" cx=\"847.177\" cy=\"444.84\" r=\"14\" fill=\"#009af9\" fill-rule=\"evenodd\" fill-opacity=\"1\" stroke=\"#000000\" stroke-opacity=\"1\" stroke-width=\"3.2\"/>\n",
       "<circle clip-path=\"url(#clip422)\" cx=\"1852.03\" cy=\"174.485\" r=\"14\" fill=\"#009af9\" fill-rule=\"evenodd\" fill-opacity=\"1\" stroke=\"#000000\" stroke-opacity=\"1\" stroke-width=\"3.2\"/>\n",
       "<circle clip-path=\"url(#clip422)\" cx=\"964.489\" cy=\"294.056\" r=\"14\" fill=\"#009af9\" fill-rule=\"evenodd\" fill-opacity=\"1\" stroke=\"#000000\" stroke-opacity=\"1\" stroke-width=\"3.2\"/>\n",
       "<circle clip-path=\"url(#clip422)\" cx=\"1010.18\" cy=\"324.999\" r=\"14\" fill=\"#009af9\" fill-rule=\"evenodd\" fill-opacity=\"1\" stroke=\"#000000\" stroke-opacity=\"1\" stroke-width=\"3.2\"/>\n",
       "<circle clip-path=\"url(#clip422)\" cx=\"1694.07\" cy=\"235.442\" r=\"14\" fill=\"#009af9\" fill-rule=\"evenodd\" fill-opacity=\"1\" stroke=\"#000000\" stroke-opacity=\"1\" stroke-width=\"3.2\"/>\n",
       "<circle clip-path=\"url(#clip422)\" cx=\"1282.1\" cy=\"539.672\" r=\"14\" fill=\"#009af9\" fill-rule=\"evenodd\" fill-opacity=\"1\" stroke=\"#000000\" stroke-opacity=\"1\" stroke-width=\"3.2\"/>\n",
       "<circle clip-path=\"url(#clip422)\" cx=\"1733.58\" cy=\"290.705\" r=\"14\" fill=\"#009af9\" fill-rule=\"evenodd\" fill-opacity=\"1\" stroke=\"#000000\" stroke-opacity=\"1\" stroke-width=\"3.2\"/>\n",
       "<circle clip-path=\"url(#clip422)\" cx=\"1583.87\" cy=\"388.176\" r=\"14\" fill=\"#009af9\" fill-rule=\"evenodd\" fill-opacity=\"1\" stroke=\"#000000\" stroke-opacity=\"1\" stroke-width=\"3.2\"/>\n",
       "<circle clip-path=\"url(#clip422)\" cx=\"1373.22\" cy=\"166.978\" r=\"14\" fill=\"#009af9\" fill-rule=\"evenodd\" fill-opacity=\"1\" stroke=\"#000000\" stroke-opacity=\"1\" stroke-width=\"3.2\"/>\n",
       "<circle clip-path=\"url(#clip422)\" cx=\"1153.84\" cy=\"313.408\" r=\"14\" fill=\"#009af9\" fill-rule=\"evenodd\" fill-opacity=\"1\" stroke=\"#000000\" stroke-opacity=\"1\" stroke-width=\"3.2\"/>\n",
       "<circle clip-path=\"url(#clip422)\" cx=\"1538.87\" cy=\"414.952\" r=\"14\" fill=\"#009af9\" fill-rule=\"evenodd\" fill-opacity=\"1\" stroke=\"#000000\" stroke-opacity=\"1\" stroke-width=\"3.2\"/>\n",
       "<circle clip-path=\"url(#clip422)\" cx=\"1794.41\" cy=\"436.025\" r=\"14\" fill=\"#009af9\" fill-rule=\"evenodd\" fill-opacity=\"1\" stroke=\"#000000\" stroke-opacity=\"1\" stroke-width=\"3.2\"/>\n",
       "<circle clip-path=\"url(#clip422)\" cx=\"1354.94\" cy=\"358.732\" r=\"14\" fill=\"#009af9\" fill-rule=\"evenodd\" fill-opacity=\"1\" stroke=\"#000000\" stroke-opacity=\"1\" stroke-width=\"3.2\"/>\n",
       "<circle clip-path=\"url(#clip422)\" cx=\"2169.1\" cy=\"550.478\" r=\"14\" fill=\"#009af9\" fill-rule=\"evenodd\" fill-opacity=\"1\" stroke=\"#000000\" stroke-opacity=\"1\" stroke-width=\"3.2\"/>\n",
       "<circle clip-path=\"url(#clip422)\" cx=\"1713.45\" cy=\"393.216\" r=\"14\" fill=\"#009af9\" fill-rule=\"evenodd\" fill-opacity=\"1\" stroke=\"#000000\" stroke-opacity=\"1\" stroke-width=\"3.2\"/>\n",
       "<circle clip-path=\"url(#clip422)\" cx=\"1503.98\" cy=\"517.413\" r=\"14\" fill=\"#009af9\" fill-rule=\"evenodd\" fill-opacity=\"1\" stroke=\"#000000\" stroke-opacity=\"1\" stroke-width=\"3.2\"/>\n",
       "<circle clip-path=\"url(#clip422)\" cx=\"1552.66\" cy=\"368.502\" r=\"14\" fill=\"#009af9\" fill-rule=\"evenodd\" fill-opacity=\"1\" stroke=\"#000000\" stroke-opacity=\"1\" stroke-width=\"3.2\"/>\n",
       "<circle clip-path=\"url(#clip422)\" cx=\"1008.71\" cy=\"509.425\" r=\"14\" fill=\"#009af9\" fill-rule=\"evenodd\" fill-opacity=\"1\" stroke=\"#000000\" stroke-opacity=\"1\" stroke-width=\"3.2\"/>\n",
       "<circle clip-path=\"url(#clip422)\" cx=\"1863.64\" cy=\"503.809\" r=\"14\" fill=\"#009af9\" fill-rule=\"evenodd\" fill-opacity=\"1\" stroke=\"#000000\" stroke-opacity=\"1\" stroke-width=\"3.2\"/>\n",
       "<circle clip-path=\"url(#clip422)\" cx=\"2049.56\" cy=\"300.766\" r=\"14\" fill=\"#009af9\" fill-rule=\"evenodd\" fill-opacity=\"1\" stroke=\"#000000\" stroke-opacity=\"1\" stroke-width=\"3.2\"/>\n",
       "<circle clip-path=\"url(#clip422)\" cx=\"1971.83\" cy=\"288.111\" r=\"14\" fill=\"#009af9\" fill-rule=\"evenodd\" fill-opacity=\"1\" stroke=\"#000000\" stroke-opacity=\"1\" stroke-width=\"3.2\"/>\n",
       "<circle clip-path=\"url(#clip422)\" cx=\"1321.84\" cy=\"510.673\" r=\"14\" fill=\"#009af9\" fill-rule=\"evenodd\" fill-opacity=\"1\" stroke=\"#000000\" stroke-opacity=\"1\" stroke-width=\"3.2\"/>\n",
       "<circle clip-path=\"url(#clip422)\" cx=\"1906.7\" cy=\"412.681\" r=\"14\" fill=\"#009af9\" fill-rule=\"evenodd\" fill-opacity=\"1\" stroke=\"#000000\" stroke-opacity=\"1\" stroke-width=\"3.2\"/>\n",
       "<circle clip-path=\"url(#clip422)\" cx=\"1413.8\" cy=\"171.889\" r=\"14\" fill=\"#009af9\" fill-rule=\"evenodd\" fill-opacity=\"1\" stroke=\"#000000\" stroke-opacity=\"1\" stroke-width=\"3.2\"/>\n",
       "<circle clip-path=\"url(#clip422)\" cx=\"1888.21\" cy=\"174.488\" r=\"14\" fill=\"#009af9\" fill-rule=\"evenodd\" fill-opacity=\"1\" stroke=\"#000000\" stroke-opacity=\"1\" stroke-width=\"3.2\"/>\n",
       "<circle clip-path=\"url(#clip422)\" cx=\"1654.15\" cy=\"264.287\" r=\"14\" fill=\"#009af9\" fill-rule=\"evenodd\" fill-opacity=\"1\" stroke=\"#000000\" stroke-opacity=\"1\" stroke-width=\"3.2\"/>\n",
       "<circle clip-path=\"url(#clip422)\" cx=\"1503.61\" cy=\"967.822\" r=\"14\" fill=\"#009af9\" fill-rule=\"evenodd\" fill-opacity=\"1\" stroke=\"#000000\" stroke-opacity=\"1\" stroke-width=\"3.2\"/>\n",
       "<circle clip-path=\"url(#clip422)\" cx=\"1774.66\" cy=\"1324.23\" r=\"14\" fill=\"#009af9\" fill-rule=\"evenodd\" fill-opacity=\"1\" stroke=\"#000000\" stroke-opacity=\"1\" stroke-width=\"3.2\"/>\n",
       "<circle clip-path=\"url(#clip422)\" cx=\"1744.15\" cy=\"1135.22\" r=\"14\" fill=\"#009af9\" fill-rule=\"evenodd\" fill-opacity=\"1\" stroke=\"#000000\" stroke-opacity=\"1\" stroke-width=\"3.2\"/>\n",
       "<circle clip-path=\"url(#clip422)\" cx=\"1744.83\" cy=\"1203.71\" r=\"14\" fill=\"#009af9\" fill-rule=\"evenodd\" fill-opacity=\"1\" stroke=\"#000000\" stroke-opacity=\"1\" stroke-width=\"3.2\"/>\n",
       "<circle clip-path=\"url(#clip422)\" cx=\"942.33\" cy=\"1115.77\" r=\"14\" fill=\"#009af9\" fill-rule=\"evenodd\" fill-opacity=\"1\" stroke=\"#000000\" stroke-opacity=\"1\" stroke-width=\"3.2\"/>\n",
       "<circle clip-path=\"url(#clip422)\" cx=\"1445.49\" cy=\"1019.45\" r=\"14\" fill=\"#009af9\" fill-rule=\"evenodd\" fill-opacity=\"1\" stroke=\"#000000\" stroke-opacity=\"1\" stroke-width=\"3.2\"/>\n",
       "<circle clip-path=\"url(#clip422)\" cx=\"1881.76\" cy=\"1198.33\" r=\"14\" fill=\"#009af9\" fill-rule=\"evenodd\" fill-opacity=\"1\" stroke=\"#000000\" stroke-opacity=\"1\" stroke-width=\"3.2\"/>\n",
       "<circle clip-path=\"url(#clip422)\" cx=\"1451.81\" cy=\"1023.41\" r=\"14\" fill=\"#009af9\" fill-rule=\"evenodd\" fill-opacity=\"1\" stroke=\"#000000\" stroke-opacity=\"1\" stroke-width=\"3.2\"/>\n",
       "<circle clip-path=\"url(#clip422)\" cx=\"1588.13\" cy=\"1422.23\" r=\"14\" fill=\"#009af9\" fill-rule=\"evenodd\" fill-opacity=\"1\" stroke=\"#000000\" stroke-opacity=\"1\" stroke-width=\"3.2\"/>\n",
       "<circle clip-path=\"url(#clip422)\" cx=\"1797.59\" cy=\"1109.38\" r=\"14\" fill=\"#009af9\" fill-rule=\"evenodd\" fill-opacity=\"1\" stroke=\"#000000\" stroke-opacity=\"1\" stroke-width=\"3.2\"/>\n",
       "<circle clip-path=\"url(#clip422)\" cx=\"1402.04\" cy=\"1389.11\" r=\"14\" fill=\"#009af9\" fill-rule=\"evenodd\" fill-opacity=\"1\" stroke=\"#000000\" stroke-opacity=\"1\" stroke-width=\"3.2\"/>\n",
       "<circle clip-path=\"url(#clip422)\" cx=\"1415.46\" cy=\"1153.99\" r=\"14\" fill=\"#009af9\" fill-rule=\"evenodd\" fill-opacity=\"1\" stroke=\"#000000\" stroke-opacity=\"1\" stroke-width=\"3.2\"/>\n",
       "<circle clip-path=\"url(#clip422)\" cx=\"1372.01\" cy=\"875.329\" r=\"14\" fill=\"#009af9\" fill-rule=\"evenodd\" fill-opacity=\"1\" stroke=\"#000000\" stroke-opacity=\"1\" stroke-width=\"3.2\"/>\n",
       "<circle clip-path=\"url(#clip422)\" cx=\"1676.17\" cy=\"1166.33\" r=\"14\" fill=\"#009af9\" fill-rule=\"evenodd\" fill-opacity=\"1\" stroke=\"#000000\" stroke-opacity=\"1\" stroke-width=\"3.2\"/>\n",
       "<circle clip-path=\"url(#clip422)\" cx=\"1777.08\" cy=\"1192.13\" r=\"14\" fill=\"#009af9\" fill-rule=\"evenodd\" fill-opacity=\"1\" stroke=\"#000000\" stroke-opacity=\"1\" stroke-width=\"3.2\"/>\n",
       "<circle clip-path=\"url(#clip422)\" cx=\"842.821\" cy=\"1299.39\" r=\"14\" fill=\"#009af9\" fill-rule=\"evenodd\" fill-opacity=\"1\" stroke=\"#000000\" stroke-opacity=\"1\" stroke-width=\"3.2\"/>\n",
       "<circle clip-path=\"url(#clip422)\" cx=\"1754.93\" cy=\"1087.01\" r=\"14\" fill=\"#009af9\" fill-rule=\"evenodd\" fill-opacity=\"1\" stroke=\"#000000\" stroke-opacity=\"1\" stroke-width=\"3.2\"/>\n",
       "<circle clip-path=\"url(#clip422)\" cx=\"1497.99\" cy=\"1235.5\" r=\"14\" fill=\"#009af9\" fill-rule=\"evenodd\" fill-opacity=\"1\" stroke=\"#000000\" stroke-opacity=\"1\" stroke-width=\"3.2\"/>\n",
       "<circle clip-path=\"url(#clip422)\" cx=\"1344.12\" cy=\"1127.57\" r=\"14\" fill=\"#009af9\" fill-rule=\"evenodd\" fill-opacity=\"1\" stroke=\"#000000\" stroke-opacity=\"1\" stroke-width=\"3.2\"/>\n",
       "<circle clip-path=\"url(#clip422)\" cx=\"1622.04\" cy=\"1108.34\" r=\"14\" fill=\"#009af9\" fill-rule=\"evenodd\" fill-opacity=\"1\" stroke=\"#000000\" stroke-opacity=\"1\" stroke-width=\"3.2\"/>\n",
       "<circle clip-path=\"url(#clip422)\" cx=\"1354.87\" cy=\"982.772\" r=\"14\" fill=\"#009af9\" fill-rule=\"evenodd\" fill-opacity=\"1\" stroke=\"#000000\" stroke-opacity=\"1\" stroke-width=\"3.2\"/>\n",
       "<circle clip-path=\"url(#clip422)\" cx=\"1569.34\" cy=\"1114.49\" r=\"14\" fill=\"#009af9\" fill-rule=\"evenodd\" fill-opacity=\"1\" stroke=\"#000000\" stroke-opacity=\"1\" stroke-width=\"3.2\"/>\n",
       "<circle clip-path=\"url(#clip422)\" cx=\"1127.44\" cy=\"1014.78\" r=\"14\" fill=\"#009af9\" fill-rule=\"evenodd\" fill-opacity=\"1\" stroke=\"#000000\" stroke-opacity=\"1\" stroke-width=\"3.2\"/>\n",
       "<circle clip-path=\"url(#clip422)\" cx=\"1861.04\" cy=\"1258.55\" r=\"14\" fill=\"#009af9\" fill-rule=\"evenodd\" fill-opacity=\"1\" stroke=\"#000000\" stroke-opacity=\"1\" stroke-width=\"3.2\"/>\n",
       "<circle clip-path=\"url(#clip422)\" cx=\"1615.78\" cy=\"1297.18\" r=\"14\" fill=\"#009af9\" fill-rule=\"evenodd\" fill-opacity=\"1\" stroke=\"#000000\" stroke-opacity=\"1\" stroke-width=\"3.2\"/>\n",
       "<circle clip-path=\"url(#clip422)\" cx=\"1849.21\" cy=\"1033.04\" r=\"14\" fill=\"#009af9\" fill-rule=\"evenodd\" fill-opacity=\"1\" stroke=\"#000000\" stroke-opacity=\"1\" stroke-width=\"3.2\"/>\n",
       "<circle clip-path=\"url(#clip422)\" cx=\"1558.21\" cy=\"1244.47\" r=\"14\" fill=\"#009af9\" fill-rule=\"evenodd\" fill-opacity=\"1\" stroke=\"#000000\" stroke-opacity=\"1\" stroke-width=\"3.2\"/>\n",
       "<circle clip-path=\"url(#clip422)\" cx=\"1431.08\" cy=\"1330.08\" r=\"14\" fill=\"#009af9\" fill-rule=\"evenodd\" fill-opacity=\"1\" stroke=\"#000000\" stroke-opacity=\"1\" stroke-width=\"3.2\"/>\n",
       "<circle clip-path=\"url(#clip422)\" cx=\"1478.21\" cy=\"1028.61\" r=\"14\" fill=\"#009af9\" fill-rule=\"evenodd\" fill-opacity=\"1\" stroke=\"#000000\" stroke-opacity=\"1\" stroke-width=\"3.2\"/>\n",
       "<circle clip-path=\"url(#clip422)\" cx=\"1515.56\" cy=\"1160.4\" r=\"14\" fill=\"#009af9\" fill-rule=\"evenodd\" fill-opacity=\"1\" stroke=\"#000000\" stroke-opacity=\"1\" stroke-width=\"3.2\"/>\n",
       "<circle clip-path=\"url(#clip422)\" cx=\"1585.38\" cy=\"1249.81\" r=\"14\" fill=\"#009af9\" fill-rule=\"evenodd\" fill-opacity=\"1\" stroke=\"#000000\" stroke-opacity=\"1\" stroke-width=\"3.2\"/>\n",
       "<circle clip-path=\"url(#clip422)\" cx=\"1608.42\" cy=\"1273.87\" r=\"14\" fill=\"#009af9\" fill-rule=\"evenodd\" fill-opacity=\"1\" stroke=\"#000000\" stroke-opacity=\"1\" stroke-width=\"3.2\"/>\n",
       "<circle clip-path=\"url(#clip422)\" cx=\"1755.94\" cy=\"1086.09\" r=\"14\" fill=\"#009af9\" fill-rule=\"evenodd\" fill-opacity=\"1\" stroke=\"#000000\" stroke-opacity=\"1\" stroke-width=\"3.2\"/>\n",
       "<circle clip-path=\"url(#clip422)\" cx=\"1367.49\" cy=\"1297.05\" r=\"14\" fill=\"#009af9\" fill-rule=\"evenodd\" fill-opacity=\"1\" stroke=\"#000000\" stroke-opacity=\"1\" stroke-width=\"3.2\"/>\n",
       "<circle clip-path=\"url(#clip422)\" cx=\"1819.59\" cy=\"1317.54\" r=\"14\" fill=\"#009af9\" fill-rule=\"evenodd\" fill-opacity=\"1\" stroke=\"#000000\" stroke-opacity=\"1\" stroke-width=\"3.2\"/>\n",
       "<circle clip-path=\"url(#clip422)\" cx=\"1337.85\" cy=\"1276.66\" r=\"14\" fill=\"#009af9\" fill-rule=\"evenodd\" fill-opacity=\"1\" stroke=\"#000000\" stroke-opacity=\"1\" stroke-width=\"3.2\"/>\n",
       "<circle clip-path=\"url(#clip422)\" cx=\"1309.87\" cy=\"1158.07\" r=\"14\" fill=\"#009af9\" fill-rule=\"evenodd\" fill-opacity=\"1\" stroke=\"#000000\" stroke-opacity=\"1\" stroke-width=\"3.2\"/>\n",
       "<circle clip-path=\"url(#clip422)\" cx=\"2159.5\" cy=\"983.717\" r=\"14\" fill=\"#009af9\" fill-rule=\"evenodd\" fill-opacity=\"1\" stroke=\"#000000\" stroke-opacity=\"1\" stroke-width=\"3.2\"/>\n",
       "<circle clip-path=\"url(#clip422)\" cx=\"1643.69\" cy=\"1281.19\" r=\"14\" fill=\"#009af9\" fill-rule=\"evenodd\" fill-opacity=\"1\" stroke=\"#000000\" stroke-opacity=\"1\" stroke-width=\"3.2\"/>\n",
       "<circle clip-path=\"url(#clip422)\" cx=\"1380.64\" cy=\"1204.6\" r=\"14\" fill=\"#009af9\" fill-rule=\"evenodd\" fill-opacity=\"1\" stroke=\"#000000\" stroke-opacity=\"1\" stroke-width=\"3.2\"/>\n",
       "<circle clip-path=\"url(#clip422)\" cx=\"1724.7\" cy=\"1029.21\" r=\"14\" fill=\"#009af9\" fill-rule=\"evenodd\" fill-opacity=\"1\" stroke=\"#000000\" stroke-opacity=\"1\" stroke-width=\"3.2\"/>\n",
       "<circle clip-path=\"url(#clip422)\" cx=\"1794.65\" cy=\"1054.57\" r=\"14\" fill=\"#009af9\" fill-rule=\"evenodd\" fill-opacity=\"1\" stroke=\"#000000\" stroke-opacity=\"1\" stroke-width=\"3.2\"/>\n",
       "<circle clip-path=\"url(#clip422)\" cx=\"1674.3\" cy=\"1125.18\" r=\"14\" fill=\"#009af9\" fill-rule=\"evenodd\" fill-opacity=\"1\" stroke=\"#000000\" stroke-opacity=\"1\" stroke-width=\"3.2\"/>\n",
       "<circle clip-path=\"url(#clip422)\" cx=\"1448.13\" cy=\"1069.56\" r=\"14\" fill=\"#009af9\" fill-rule=\"evenodd\" fill-opacity=\"1\" stroke=\"#000000\" stroke-opacity=\"1\" stroke-width=\"3.2\"/>\n",
       "<circle clip-path=\"url(#clip422)\" cx=\"1162.26\" cy=\"992.652\" r=\"14\" fill=\"#009af9\" fill-rule=\"evenodd\" fill-opacity=\"1\" stroke=\"#000000\" stroke-opacity=\"1\" stroke-width=\"3.2\"/>\n",
       "<circle clip-path=\"url(#clip422)\" cx=\"1477.17\" cy=\"1116.4\" r=\"14\" fill=\"#009af9\" fill-rule=\"evenodd\" fill-opacity=\"1\" stroke=\"#000000\" stroke-opacity=\"1\" stroke-width=\"3.2\"/>\n",
       "<circle clip-path=\"url(#clip422)\" cx=\"1613.58\" cy=\"1134.67\" r=\"14\" fill=\"#009af9\" fill-rule=\"evenodd\" fill-opacity=\"1\" stroke=\"#000000\" stroke-opacity=\"1\" stroke-width=\"3.2\"/>\n",
       "<circle clip-path=\"url(#clip422)\" cx=\"2291.66\" cy=\"1115.66\" r=\"14\" fill=\"#009af9\" fill-rule=\"evenodd\" fill-opacity=\"1\" stroke=\"#000000\" stroke-opacity=\"1\" stroke-width=\"3.2\"/>\n",
       "<circle clip-path=\"url(#clip422)\" cx=\"1553.98\" cy=\"1203.64\" r=\"14\" fill=\"#009af9\" fill-rule=\"evenodd\" fill-opacity=\"1\" stroke=\"#000000\" stroke-opacity=\"1\" stroke-width=\"3.2\"/>\n",
       "<circle clip-path=\"url(#clip422)\" cx=\"1853.69\" cy=\"1079.75\" r=\"14\" fill=\"#009af9\" fill-rule=\"evenodd\" fill-opacity=\"1\" stroke=\"#000000\" stroke-opacity=\"1\" stroke-width=\"3.2\"/>\n",
       "<circle clip-path=\"url(#clip422)\" cx=\"1912.05\" cy=\"1197.64\" r=\"14\" fill=\"#009af9\" fill-rule=\"evenodd\" fill-opacity=\"1\" stroke=\"#000000\" stroke-opacity=\"1\" stroke-width=\"3.2\"/>\n",
       "<circle clip-path=\"url(#clip422)\" cx=\"1324.42\" cy=\"1188.42\" r=\"14\" fill=\"#009af9\" fill-rule=\"evenodd\" fill-opacity=\"1\" stroke=\"#000000\" stroke-opacity=\"1\" stroke-width=\"3.2\"/>\n",
       "<circle clip-path=\"url(#clip422)\" cx=\"1924.78\" cy=\"1102.56\" r=\"14\" fill=\"#009af9\" fill-rule=\"evenodd\" fill-opacity=\"1\" stroke=\"#000000\" stroke-opacity=\"1\" stroke-width=\"3.2\"/>\n",
       "<circle clip-path=\"url(#clip422)\" cx=\"1806.91\" cy=\"1445.72\" r=\"14\" fill=\"#009af9\" fill-rule=\"evenodd\" fill-opacity=\"1\" stroke=\"#000000\" stroke-opacity=\"1\" stroke-width=\"3.2\"/>\n",
       "<circle clip-path=\"url(#clip422)\" cx=\"1302.5\" cy=\"1118.83\" r=\"14\" fill=\"#009af9\" fill-rule=\"evenodd\" fill-opacity=\"1\" stroke=\"#000000\" stroke-opacity=\"1\" stroke-width=\"3.2\"/>\n",
       "<circle clip-path=\"url(#clip422)\" cx=\"1292.9\" cy=\"1148.47\" r=\"14\" fill=\"#009af9\" fill-rule=\"evenodd\" fill-opacity=\"1\" stroke=\"#000000\" stroke-opacity=\"1\" stroke-width=\"3.2\"/>\n",
       "<circle clip-path=\"url(#clip422)\" cx=\"1263.28\" cy=\"1386.13\" r=\"14\" fill=\"#009af9\" fill-rule=\"evenodd\" fill-opacity=\"1\" stroke=\"#000000\" stroke-opacity=\"1\" stroke-width=\"3.2\"/>\n",
       "<circle clip-path=\"url(#clip422)\" cx=\"1672.87\" cy=\"1220.28\" r=\"14\" fill=\"#009af9\" fill-rule=\"evenodd\" fill-opacity=\"1\" stroke=\"#000000\" stroke-opacity=\"1\" stroke-width=\"3.2\"/>\n",
       "<circle clip-path=\"url(#clip422)\" cx=\"1006.34\" cy=\"990.335\" r=\"14\" fill=\"#009af9\" fill-rule=\"evenodd\" fill-opacity=\"1\" stroke=\"#000000\" stroke-opacity=\"1\" stroke-width=\"3.2\"/>\n",
       "<circle clip-path=\"url(#clip422)\" cx=\"1420.85\" cy=\"926.826\" r=\"14\" fill=\"#009af9\" fill-rule=\"evenodd\" fill-opacity=\"1\" stroke=\"#000000\" stroke-opacity=\"1\" stroke-width=\"3.2\"/>\n",
       "<circle clip-path=\"url(#clip422)\" cx=\"1436.42\" cy=\"1090.66\" r=\"14\" fill=\"#009af9\" fill-rule=\"evenodd\" fill-opacity=\"1\" stroke=\"#000000\" stroke-opacity=\"1\" stroke-width=\"3.2\"/>\n",
       "<circle clip-path=\"url(#clip422)\" cx=\"1945.28\" cy=\"1209.4\" r=\"14\" fill=\"#009af9\" fill-rule=\"evenodd\" fill-opacity=\"1\" stroke=\"#000000\" stroke-opacity=\"1\" stroke-width=\"3.2\"/>\n",
       "<circle clip-path=\"url(#clip422)\" cx=\"1415.9\" cy=\"1329.47\" r=\"14\" fill=\"#009af9\" fill-rule=\"evenodd\" fill-opacity=\"1\" stroke=\"#000000\" stroke-opacity=\"1\" stroke-width=\"3.2\"/>\n",
       "<circle clip-path=\"url(#clip422)\" cx=\"1706.13\" cy=\"1239.19\" r=\"14\" fill=\"#009af9\" fill-rule=\"evenodd\" fill-opacity=\"1\" stroke=\"#000000\" stroke-opacity=\"1\" stroke-width=\"3.2\"/>\n",
       "<circle clip-path=\"url(#clip422)\" cx=\"1400.47\" cy=\"972.143\" r=\"14\" fill=\"#009af9\" fill-rule=\"evenodd\" fill-opacity=\"1\" stroke=\"#000000\" stroke-opacity=\"1\" stroke-width=\"3.2\"/>\n",
       "<circle clip-path=\"url(#clip422)\" cx=\"1288.2\" cy=\"1075.78\" r=\"14\" fill=\"#009af9\" fill-rule=\"evenodd\" fill-opacity=\"1\" stroke=\"#000000\" stroke-opacity=\"1\" stroke-width=\"3.2\"/>\n",
       "<circle clip-path=\"url(#clip422)\" cx=\"1545.84\" cy=\"1222.84\" r=\"14\" fill=\"#009af9\" fill-rule=\"evenodd\" fill-opacity=\"1\" stroke=\"#000000\" stroke-opacity=\"1\" stroke-width=\"3.2\"/>\n",
       "<circle clip-path=\"url(#clip422)\" cx=\"1325.53\" cy=\"1154.09\" r=\"14\" fill=\"#009af9\" fill-rule=\"evenodd\" fill-opacity=\"1\" stroke=\"#000000\" stroke-opacity=\"1\" stroke-width=\"3.2\"/>\n",
       "<circle clip-path=\"url(#clip422)\" cx=\"1363.76\" cy=\"1185.15\" r=\"14\" fill=\"#009af9\" fill-rule=\"evenodd\" fill-opacity=\"1\" stroke=\"#000000\" stroke-opacity=\"1\" stroke-width=\"3.2\"/>\n",
       "<circle clip-path=\"url(#clip422)\" cx=\"1418.55\" cy=\"1064.8\" r=\"14\" fill=\"#009af9\" fill-rule=\"evenodd\" fill-opacity=\"1\" stroke=\"#000000\" stroke-opacity=\"1\" stroke-width=\"3.2\"/>\n",
       "<circle clip-path=\"url(#clip422)\" cx=\"1432.19\" cy=\"1268.53\" r=\"14\" fill=\"#009af9\" fill-rule=\"evenodd\" fill-opacity=\"1\" stroke=\"#000000\" stroke-opacity=\"1\" stroke-width=\"3.2\"/>\n",
       "<circle clip-path=\"url(#clip422)\" cx=\"1308.57\" cy=\"1065.72\" r=\"14\" fill=\"#009af9\" fill-rule=\"evenodd\" fill-opacity=\"1\" stroke=\"#000000\" stroke-opacity=\"1\" stroke-width=\"3.2\"/>\n",
       "<circle clip-path=\"url(#clip422)\" cx=\"1354.45\" cy=\"1021.61\" r=\"14\" fill=\"#009af9\" fill-rule=\"evenodd\" fill-opacity=\"1\" stroke=\"#000000\" stroke-opacity=\"1\" stroke-width=\"3.2\"/>\n",
       "<circle clip-path=\"url(#clip422)\" cx=\"1125.83\" cy=\"1166.92\" r=\"14\" fill=\"#009af9\" fill-rule=\"evenodd\" fill-opacity=\"1\" stroke=\"#000000\" stroke-opacity=\"1\" stroke-width=\"3.2\"/>\n",
       "<circle clip-path=\"url(#clip422)\" cx=\"1758.51\" cy=\"1186.32\" r=\"14\" fill=\"#009af9\" fill-rule=\"evenodd\" fill-opacity=\"1\" stroke=\"#000000\" stroke-opacity=\"1\" stroke-width=\"3.2\"/>\n",
       "<circle clip-path=\"url(#clip422)\" cx=\"1555.51\" cy=\"1221.64\" r=\"14\" fill=\"#009af9\" fill-rule=\"evenodd\" fill-opacity=\"1\" stroke=\"#000000\" stroke-opacity=\"1\" stroke-width=\"3.2\"/>\n",
       "<circle clip-path=\"url(#clip422)\" cx=\"1611.63\" cy=\"1182.89\" r=\"14\" fill=\"#009af9\" fill-rule=\"evenodd\" fill-opacity=\"1\" stroke=\"#000000\" stroke-opacity=\"1\" stroke-width=\"3.2\"/>\n",
       "<circle clip-path=\"url(#clip422)\" cx=\"1908.55\" cy=\"1240.39\" r=\"14\" fill=\"#009af9\" fill-rule=\"evenodd\" fill-opacity=\"1\" stroke=\"#000000\" stroke-opacity=\"1\" stroke-width=\"3.2\"/>\n",
       "<circle clip-path=\"url(#clip422)\" cx=\"1684.73\" cy=\"1150.81\" r=\"14\" fill=\"#009af9\" fill-rule=\"evenodd\" fill-opacity=\"1\" stroke=\"#000000\" stroke-opacity=\"1\" stroke-width=\"3.2\"/>\n",
       "<circle clip-path=\"url(#clip422)\" cx=\"1358.66\" cy=\"1126.7\" r=\"14\" fill=\"#009af9\" fill-rule=\"evenodd\" fill-opacity=\"1\" stroke=\"#000000\" stroke-opacity=\"1\" stroke-width=\"3.2\"/>\n",
       "<circle clip-path=\"url(#clip422)\" cx=\"1267.26\" cy=\"956.881\" r=\"14\" fill=\"#009af9\" fill-rule=\"evenodd\" fill-opacity=\"1\" stroke=\"#000000\" stroke-opacity=\"1\" stroke-width=\"3.2\"/>\n",
       "<circle clip-path=\"url(#clip422)\" cx=\"1497.04\" cy=\"902.786\" r=\"14\" fill=\"#009af9\" fill-rule=\"evenodd\" fill-opacity=\"1\" stroke=\"#000000\" stroke-opacity=\"1\" stroke-width=\"3.2\"/>\n",
       "<circle clip-path=\"url(#clip422)\" cx=\"898.184\" cy=\"1249.49\" r=\"14\" fill=\"#009af9\" fill-rule=\"evenodd\" fill-opacity=\"1\" stroke=\"#000000\" stroke-opacity=\"1\" stroke-width=\"3.2\"/>\n",
       "<circle clip-path=\"url(#clip422)\" cx=\"1536.38\" cy=\"1072.93\" r=\"14\" fill=\"#009af9\" fill-rule=\"evenodd\" fill-opacity=\"1\" stroke=\"#000000\" stroke-opacity=\"1\" stroke-width=\"3.2\"/>\n",
       "<circle clip-path=\"url(#clip422)\" cx=\"1167.24\" cy=\"1165.98\" r=\"14\" fill=\"#009af9\" fill-rule=\"evenodd\" fill-opacity=\"1\" stroke=\"#000000\" stroke-opacity=\"1\" stroke-width=\"3.2\"/>\n",
       "<circle clip-path=\"url(#clip422)\" cx=\"1686.11\" cy=\"983.194\" r=\"14\" fill=\"#009af9\" fill-rule=\"evenodd\" fill-opacity=\"1\" stroke=\"#000000\" stroke-opacity=\"1\" stroke-width=\"3.2\"/>\n",
       "<circle clip-path=\"url(#clip422)\" cx=\"1904\" cy=\"1050.79\" r=\"14\" fill=\"#009af9\" fill-rule=\"evenodd\" fill-opacity=\"1\" stroke=\"#000000\" stroke-opacity=\"1\" stroke-width=\"3.2\"/>\n",
       "<circle clip-path=\"url(#clip422)\" cx=\"1617.56\" cy=\"927.272\" r=\"14\" fill=\"#009af9\" fill-rule=\"evenodd\" fill-opacity=\"1\" stroke=\"#000000\" stroke-opacity=\"1\" stroke-width=\"3.2\"/>\n",
       "<circle clip-path=\"url(#clip422)\" cx=\"1138.82\" cy=\"1321.57\" r=\"14\" fill=\"#009af9\" fill-rule=\"evenodd\" fill-opacity=\"1\" stroke=\"#000000\" stroke-opacity=\"1\" stroke-width=\"3.2\"/>\n",
       "<circle clip-path=\"url(#clip422)\" cx=\"1784.47\" cy=\"970.683\" r=\"14\" fill=\"#009af9\" fill-rule=\"evenodd\" fill-opacity=\"1\" stroke=\"#000000\" stroke-opacity=\"1\" stroke-width=\"3.2\"/>\n",
       "<circle clip-path=\"url(#clip422)\" cx=\"1762.19\" cy=\"1379.3\" r=\"14\" fill=\"#009af9\" fill-rule=\"evenodd\" fill-opacity=\"1\" stroke=\"#000000\" stroke-opacity=\"1\" stroke-width=\"3.2\"/>\n",
       "<circle clip-path=\"url(#clip422)\" cx=\"1934.7\" cy=\"1200.89\" r=\"14\" fill=\"#009af9\" fill-rule=\"evenodd\" fill-opacity=\"1\" stroke=\"#000000\" stroke-opacity=\"1\" stroke-width=\"3.2\"/>\n",
       "<circle clip-path=\"url(#clip422)\" cx=\"1403.3\" cy=\"1220.09\" r=\"14\" fill=\"#009af9\" fill-rule=\"evenodd\" fill-opacity=\"1\" stroke=\"#000000\" stroke-opacity=\"1\" stroke-width=\"3.2\"/>\n",
       "<circle clip-path=\"url(#clip422)\" cx=\"1633.96\" cy=\"1107.44\" r=\"14\" fill=\"#009af9\" fill-rule=\"evenodd\" fill-opacity=\"1\" stroke=\"#000000\" stroke-opacity=\"1\" stroke-width=\"3.2\"/>\n",
       "<circle clip-path=\"url(#clip422)\" cx=\"1255.65\" cy=\"1425.55\" r=\"14\" fill=\"#009af9\" fill-rule=\"evenodd\" fill-opacity=\"1\" stroke=\"#000000\" stroke-opacity=\"1\" stroke-width=\"3.2\"/>\n",
       "<circle clip-path=\"url(#clip422)\" cx=\"1622.66\" cy=\"1095.95\" r=\"14\" fill=\"#009af9\" fill-rule=\"evenodd\" fill-opacity=\"1\" stroke=\"#000000\" stroke-opacity=\"1\" stroke-width=\"3.2\"/>\n",
       "<circle clip-path=\"url(#clip422)\" cx=\"1707.17\" cy=\"1168.84\" r=\"14\" fill=\"#009af9\" fill-rule=\"evenodd\" fill-opacity=\"1\" stroke=\"#000000\" stroke-opacity=\"1\" stroke-width=\"3.2\"/>\n",
       "<circle clip-path=\"url(#clip422)\" cx=\"1851.39\" cy=\"1313.29\" r=\"14\" fill=\"#009af9\" fill-rule=\"evenodd\" fill-opacity=\"1\" stroke=\"#000000\" stroke-opacity=\"1\" stroke-width=\"3.2\"/>\n",
       "<circle clip-path=\"url(#clip422)\" cx=\"1234.41\" cy=\"1123.43\" r=\"14\" fill=\"#009af9\" fill-rule=\"evenodd\" fill-opacity=\"1\" stroke=\"#000000\" stroke-opacity=\"1\" stroke-width=\"3.2\"/>\n",
       "<circle clip-path=\"url(#clip422)\" cx=\"1457.24\" cy=\"1056.87\" r=\"14\" fill=\"#009af9\" fill-rule=\"evenodd\" fill-opacity=\"1\" stroke=\"#000000\" stroke-opacity=\"1\" stroke-width=\"3.2\"/>\n",
       "<path clip-path=\"url(#clip420)\" d=\"\n",
       "M1988.5 198.898 L2280.8 198.898 L2280.8 95.2176 L1988.5 95.2176  Z\n",
       "  \" fill=\"#ffffff\" fill-rule=\"evenodd\" fill-opacity=\"1\"/>\n",
       "<polyline clip-path=\"url(#clip420)\" style=\"stroke:#000000; stroke-linecap:butt; stroke-linejoin:round; stroke-width:4; stroke-opacity:1; fill:none\" points=\"\n",
       "  1988.5,198.898 2280.8,198.898 2280.8,95.2176 1988.5,95.2176 1988.5,198.898 \n",
       "  \"/>\n",
       "<circle clip-path=\"url(#clip420)\" cx=\"2084.44\" cy=\"147.058\" r=\"23\" fill=\"#009af9\" fill-rule=\"evenodd\" fill-opacity=\"1\" stroke=\"#000000\" stroke-opacity=\"1\" stroke-width=\"5.12\"/>\n",
       "<path clip-path=\"url(#clip420)\" d=\"M2194.23 166.745 Q2192.43 171.375 2190.72 172.787 Q2189 174.199 2186.13 174.199 L2182.73 174.199 L2182.73 170.634 L2185.23 170.634 Q2186.99 170.634 2187.96 169.8 Q2188.93 168.967 2190.11 165.865 L2190.88 163.921 L2180.39 138.412 L2184.91 138.412 L2193.01 158.689 L2201.11 138.412 L2205.62 138.412 L2194.23 166.745 Z\" fill=\"#000000\" fill-rule=\"evenodd\" fill-opacity=\"1\" /><path clip-path=\"url(#clip420)\" d=\"M2212.91 160.402 L2220.55 160.402 L2220.55 134.037 L2212.24 135.703 L2212.24 131.444 L2220.51 129.778 L2225.18 129.778 L2225.18 160.402 L2232.82 160.402 L2232.82 164.338 L2212.91 164.338 L2212.91 160.402 Z\" fill=\"#000000\" fill-rule=\"evenodd\" fill-opacity=\"1\" /></svg>\n"
      ]
     },
     "execution_count": 5,
     "metadata": {},
     "output_type": "execute_result"
    }
   ],
   "source": [
    "using Plots\n",
    "scatter([x[1] for x in X], [x[2] for x in X])"
   ]
  },
  {
   "cell_type": "code",
   "execution_count": 4,
   "metadata": {},
   "outputs": [
    {
     "data": {
      "image/svg+xml": [
       "<?xml version=\"1.0\" encoding=\"utf-8\"?>\n",
       "<svg xmlns=\"http://www.w3.org/2000/svg\" xmlns:xlink=\"http://www.w3.org/1999/xlink\" width=\"500\" height=\"500\" viewBox=\"0 0 2000 2000\">\n",
       "<defs>\n",
       "  <clipPath id=\"clip380\">\n",
       "    <rect x=\"0\" y=\"0\" width=\"2000\" height=\"2000\"/>\n",
       "  </clipPath>\n",
       "</defs>\n",
       "<path clip-path=\"url(#clip380)\" d=\"\n",
       "M0 2000 L2000 2000 L2000 0 L0 0  Z\n",
       "  \" fill=\"#ffffff\" fill-rule=\"evenodd\" fill-opacity=\"1\"/>\n",
       "<defs>\n",
       "  <clipPath id=\"clip381\">\n",
       "    <rect x=\"400\" y=\"200\" width=\"1401\" height=\"1401\"/>\n",
       "  </clipPath>\n",
       "</defs>\n",
       "<path clip-path=\"url(#clip380)\" d=\"\n",
       "M143.478 1865.17 L1952.76 1865.17 L1952.76 47.2441 L143.478 47.2441  Z\n",
       "  \" fill=\"#ffffff\" fill-rule=\"evenodd\" fill-opacity=\"1\"/>\n",
       "<defs>\n",
       "  <clipPath id=\"clip382\">\n",
       "    <rect x=\"143\" y=\"47\" width=\"1810\" height=\"1819\"/>\n",
       "  </clipPath>\n",
       "</defs>\n",
       "<polyline clip-path=\"url(#clip380)\" style=\"stroke:#000000; stroke-linecap:butt; stroke-linejoin:round; stroke-width:4; stroke-opacity:1; fill:none\" points=\"\n",
       "  143.478,1865.17 1952.76,1865.17 \n",
       "  \"/>\n",
       "<polyline clip-path=\"url(#clip380)\" style=\"stroke:#000000; stroke-linecap:butt; stroke-linejoin:round; stroke-width:4; stroke-opacity:1; fill:none\" points=\"\n",
       "  369.638,1865.17 369.638,1846.27 \n",
       "  \"/>\n",
       "<polyline clip-path=\"url(#clip380)\" style=\"stroke:#000000; stroke-linecap:butt; stroke-linejoin:round; stroke-width:4; stroke-opacity:1; fill:none\" points=\"\n",
       "  821.957,1865.17 821.957,1846.27 \n",
       "  \"/>\n",
       "<polyline clip-path=\"url(#clip380)\" style=\"stroke:#000000; stroke-linecap:butt; stroke-linejoin:round; stroke-width:4; stroke-opacity:1; fill:none\" points=\"\n",
       "  1274.28,1865.17 1274.28,1846.27 \n",
       "  \"/>\n",
       "<polyline clip-path=\"url(#clip380)\" style=\"stroke:#000000; stroke-linecap:butt; stroke-linejoin:round; stroke-width:4; stroke-opacity:1; fill:none\" points=\"\n",
       "  1726.6,1865.17 1726.6,1846.27 \n",
       "  \"/>\n",
       "<path clip-path=\"url(#clip380)\" d=\"M339.395 1907.54 L369.071 1907.54 L369.071 1911.47 L339.395 1911.47 L339.395 1907.54 Z\" fill=\"#000000\" fill-rule=\"evenodd\" fill-opacity=\"1\" /><path clip-path=\"url(#clip380)\" d=\"M379.973 1920.43 L387.612 1920.43 L387.612 1894.07 L379.302 1895.73 L379.302 1891.47 L387.566 1889.81 L392.242 1889.81 L392.242 1920.43 L399.881 1920.43 L399.881 1924.37 L379.973 1924.37 L379.973 1920.43 Z\" fill=\"#000000\" fill-rule=\"evenodd\" fill-opacity=\"1\" /><path clip-path=\"url(#clip380)\" d=\"M821.957 1892.89 Q818.346 1892.89 816.517 1896.45 Q814.712 1899.99 814.712 1907.12 Q814.712 1914.23 816.517 1917.79 Q818.346 1921.34 821.957 1921.34 Q825.591 1921.34 827.397 1917.79 Q829.226 1914.23 829.226 1907.12 Q829.226 1899.99 827.397 1896.45 Q825.591 1892.89 821.957 1892.89 M821.957 1889.18 Q827.767 1889.18 830.823 1893.79 Q833.902 1898.37 833.902 1907.12 Q833.902 1915.85 830.823 1920.46 Q827.767 1925.04 821.957 1925.04 Q816.147 1925.04 813.068 1920.46 Q810.013 1915.85 810.013 1907.12 Q810.013 1898.37 813.068 1893.79 Q816.147 1889.18 821.957 1889.18 Z\" fill=\"#000000\" fill-rule=\"evenodd\" fill-opacity=\"1\" /><path clip-path=\"url(#clip380)\" d=\"M1264.66 1920.43 L1272.3 1920.43 L1272.3 1894.07 L1263.99 1895.73 L1263.99 1891.47 L1272.25 1889.81 L1276.93 1889.81 L1276.93 1920.43 L1284.57 1920.43 L1284.57 1924.37 L1264.66 1924.37 L1264.66 1920.43 Z\" fill=\"#000000\" fill-rule=\"evenodd\" fill-opacity=\"1\" /><path clip-path=\"url(#clip380)\" d=\"M1721.25 1920.43 L1737.57 1920.43 L1737.57 1924.37 L1715.62 1924.37 L1715.62 1920.43 Q1718.29 1917.68 1722.87 1913.05 Q1727.48 1908.4 1728.66 1907.05 Q1730.9 1904.53 1731.78 1902.79 Q1732.68 1901.03 1732.68 1899.34 Q1732.68 1896.59 1730.74 1894.85 Q1728.82 1893.12 1725.72 1893.12 Q1723.52 1893.12 1721.06 1893.88 Q1718.63 1894.65 1715.86 1896.2 L1715.86 1891.47 Q1718.68 1890.34 1721.13 1889.76 Q1723.59 1889.18 1725.62 1889.18 Q1730.99 1889.18 1734.19 1891.87 Q1737.38 1894.55 1737.38 1899.04 Q1737.38 1901.17 1736.57 1903.09 Q1735.79 1904.99 1733.68 1907.59 Q1733.1 1908.26 1730 1911.47 Q1726.9 1914.67 1721.25 1920.43 Z\" fill=\"#000000\" fill-rule=\"evenodd\" fill-opacity=\"1\" /><polyline clip-path=\"url(#clip380)\" style=\"stroke:#000000; stroke-linecap:butt; stroke-linejoin:round; stroke-width:4; stroke-opacity:1; fill:none\" points=\"\n",
       "  143.478,1865.17 143.478,47.2441 \n",
       "  \"/>\n",
       "<polyline clip-path=\"url(#clip380)\" style=\"stroke:#000000; stroke-linecap:butt; stroke-linejoin:round; stroke-width:4; stroke-opacity:1; fill:none\" points=\"\n",
       "  143.478,1865.17 162.376,1865.17 \n",
       "  \"/>\n",
       "<polyline clip-path=\"url(#clip380)\" style=\"stroke:#000000; stroke-linecap:butt; stroke-linejoin:round; stroke-width:4; stroke-opacity:1; fill:none\" points=\"\n",
       "  143.478,1410.69 162.376,1410.69 \n",
       "  \"/>\n",
       "<polyline clip-path=\"url(#clip380)\" style=\"stroke:#000000; stroke-linecap:butt; stroke-linejoin:round; stroke-width:4; stroke-opacity:1; fill:none\" points=\"\n",
       "  143.478,956.206 162.376,956.206 \n",
       "  \"/>\n",
       "<polyline clip-path=\"url(#clip380)\" style=\"stroke:#000000; stroke-linecap:butt; stroke-linejoin:round; stroke-width:4; stroke-opacity:1; fill:none\" points=\"\n",
       "  143.478,501.725 162.376,501.725 \n",
       "  \"/>\n",
       "<polyline clip-path=\"url(#clip380)\" style=\"stroke:#000000; stroke-linecap:butt; stroke-linejoin:round; stroke-width:4; stroke-opacity:1; fill:none\" points=\"\n",
       "  143.478,47.2441 162.376,47.2441 \n",
       "  \"/>\n",
       "<path clip-path=\"url(#clip380)\" d=\"M53.3625 1865.62 L83.0383 1865.62 L83.0383 1869.55 L53.3625 1869.55 L53.3625 1865.62 Z\" fill=\"#000000\" fill-rule=\"evenodd\" fill-opacity=\"1\" /><path clip-path=\"url(#clip380)\" d=\"M97.1586 1878.51 L113.478 1878.51 L113.478 1882.45 L91.5336 1882.45 L91.5336 1878.51 Q94.1956 1875.76 98.7789 1871.13 Q103.385 1866.48 104.566 1865.13 Q106.811 1862.61 107.691 1860.87 Q108.594 1859.11 108.594 1857.42 Q108.594 1854.67 106.649 1852.93 Q104.728 1851.2 101.626 1851.2 Q99.4271 1851.2 96.9734 1851.96 Q94.5428 1852.73 91.7651 1854.28 L91.7651 1849.55 Q94.5891 1848.42 97.0428 1847.84 Q99.4965 1847.26 101.534 1847.26 Q106.904 1847.26 110.098 1849.95 Q113.293 1852.63 113.293 1857.12 Q113.293 1859.25 112.483 1861.17 Q111.696 1863.07 109.589 1865.67 Q109.01 1866.34 105.909 1869.55 Q102.807 1872.75 97.1586 1878.51 Z\" fill=\"#000000\" fill-rule=\"evenodd\" fill-opacity=\"1\" /><path clip-path=\"url(#clip380)\" d=\"M52.9921 1411.14 L82.6679 1411.14 L82.6679 1415.07 L52.9921 1415.07 L52.9921 1411.14 Z\" fill=\"#000000\" fill-rule=\"evenodd\" fill-opacity=\"1\" /><path clip-path=\"url(#clip380)\" d=\"M93.5706 1424.03 L101.209 1424.03 L101.209 1397.67 L92.8993 1399.33 L92.8993 1395.07 L101.163 1393.41 L105.839 1393.41 L105.839 1424.03 L113.478 1424.03 L113.478 1427.97 L93.5706 1427.97 L93.5706 1424.03 Z\" fill=\"#000000\" fill-rule=\"evenodd\" fill-opacity=\"1\" /><path clip-path=\"url(#clip380)\" d=\"M101.534 942.005 Q97.9224 942.005 96.0937 945.569 Q94.2882 949.111 94.2882 956.241 Q94.2882 963.347 96.0937 966.912 Q97.9224 970.454 101.534 970.454 Q105.168 970.454 106.973 966.912 Q108.802 963.347 108.802 956.241 Q108.802 949.111 106.973 945.569 Q105.168 942.005 101.534 942.005 M101.534 938.301 Q107.344 938.301 110.399 942.907 Q113.478 947.491 113.478 956.241 Q113.478 964.968 110.399 969.574 Q107.344 974.157 101.534 974.157 Q95.7234 974.157 92.6447 969.574 Q89.5892 964.968 89.5892 956.241 Q89.5892 947.491 92.6447 942.907 Q95.7234 938.301 101.534 938.301 Z\" fill=\"#000000\" fill-rule=\"evenodd\" fill-opacity=\"1\" /><path clip-path=\"url(#clip380)\" d=\"M93.5706 515.07 L101.209 515.07 L101.209 488.704 L92.8993 490.371 L92.8993 486.112 L101.163 484.445 L105.839 484.445 L105.839 515.07 L113.478 515.07 L113.478 519.005 L93.5706 519.005 L93.5706 515.07 Z\" fill=\"#000000\" fill-rule=\"evenodd\" fill-opacity=\"1\" /><path clip-path=\"url(#clip380)\" d=\"M97.1586 60.5889 L113.478 60.5889 L113.478 64.5241 L91.5336 64.5241 L91.5336 60.5889 Q94.1956 57.8343 98.7789 53.2047 Q103.385 48.552 104.566 47.2094 Q106.811 44.6862 107.691 42.9501 Q108.594 41.1909 108.594 39.5011 Q108.594 36.7465 106.649 35.0104 Q104.728 33.2743 101.626 33.2743 Q99.4271 33.2743 96.9734 34.0381 Q94.5428 34.802 91.7651 36.3529 L91.7651 31.6308 Q94.5891 30.4965 97.0428 29.9178 Q99.4965 29.3391 101.534 29.3391 Q106.904 29.3391 110.098 32.0243 Q113.293 34.7094 113.293 39.2002 Q113.293 41.3298 112.483 43.2511 Q111.696 45.1492 109.589 47.7418 Q109.01 48.4131 105.909 51.6306 Q102.807 54.8251 97.1586 60.5889 Z\" fill=\"#000000\" fill-rule=\"evenodd\" fill-opacity=\"1\" /><circle clip-path=\"url(#clip382)\" cx=\"919.46\" cy=\"781.577\" r=\"14\" fill=\"#009af9\" fill-rule=\"evenodd\" fill-opacity=\"1\" stroke=\"#000000\" stroke-opacity=\"1\" stroke-width=\"4\"/>\n",
       "<circle clip-path=\"url(#clip382)\" cx=\"891.343\" cy=\"1110.61\" r=\"14\" fill=\"#009af9\" fill-rule=\"evenodd\" fill-opacity=\"1\" stroke=\"#000000\" stroke-opacity=\"1\" stroke-width=\"4\"/>\n",
       "<circle clip-path=\"url(#clip382)\" cx=\"894.787\" cy=\"921.173\" r=\"14\" fill=\"#009af9\" fill-rule=\"evenodd\" fill-opacity=\"1\" stroke=\"#000000\" stroke-opacity=\"1\" stroke-width=\"4\"/>\n",
       "<circle clip-path=\"url(#clip382)\" cx=\"796.77\" cy=\"1008.92\" r=\"14\" fill=\"#009af9\" fill-rule=\"evenodd\" fill-opacity=\"1\" stroke=\"#000000\" stroke-opacity=\"1\" stroke-width=\"4\"/>\n",
       "<circle clip-path=\"url(#clip382)\" cx=\"767.314\" cy=\"1044.18\" r=\"14\" fill=\"#009af9\" fill-rule=\"evenodd\" fill-opacity=\"1\" stroke=\"#000000\" stroke-opacity=\"1\" stroke-width=\"4\"/>\n",
       "<circle clip-path=\"url(#clip382)\" cx=\"762.965\" cy=\"831.434\" r=\"14\" fill=\"#009af9\" fill-rule=\"evenodd\" fill-opacity=\"1\" stroke=\"#000000\" stroke-opacity=\"1\" stroke-width=\"4\"/>\n",
       "<circle clip-path=\"url(#clip382)\" cx=\"659.977\" cy=\"820.739\" r=\"14\" fill=\"#009af9\" fill-rule=\"evenodd\" fill-opacity=\"1\" stroke=\"#000000\" stroke-opacity=\"1\" stroke-width=\"4\"/>\n",
       "<circle clip-path=\"url(#clip382)\" cx=\"615.094\" cy=\"554.646\" r=\"14\" fill=\"#009af9\" fill-rule=\"evenodd\" fill-opacity=\"1\" stroke=\"#000000\" stroke-opacity=\"1\" stroke-width=\"4\"/>\n",
       "<circle clip-path=\"url(#clip382)\" cx=\"838.84\" cy=\"840.039\" r=\"14\" fill=\"#009af9\" fill-rule=\"evenodd\" fill-opacity=\"1\" stroke=\"#000000\" stroke-opacity=\"1\" stroke-width=\"4\"/>\n",
       "<circle clip-path=\"url(#clip382)\" cx=\"940.126\" cy=\"1144.77\" r=\"14\" fill=\"#009af9\" fill-rule=\"evenodd\" fill-opacity=\"1\" stroke=\"#000000\" stroke-opacity=\"1\" stroke-width=\"4\"/>\n",
       "<circle clip-path=\"url(#clip382)\" cx=\"613.228\" cy=\"1051.97\" r=\"14\" fill=\"#009af9\" fill-rule=\"evenodd\" fill-opacity=\"1\" stroke=\"#000000\" stroke-opacity=\"1\" stroke-width=\"4\"/>\n",
       "<circle clip-path=\"url(#clip382)\" cx=\"656.071\" cy=\"1067.41\" r=\"14\" fill=\"#009af9\" fill-rule=\"evenodd\" fill-opacity=\"1\" stroke=\"#000000\" stroke-opacity=\"1\" stroke-width=\"4\"/>\n",
       "<circle clip-path=\"url(#clip382)\" cx=\"748.163\" cy=\"947.375\" r=\"14\" fill=\"#009af9\" fill-rule=\"evenodd\" fill-opacity=\"1\" stroke=\"#000000\" stroke-opacity=\"1\" stroke-width=\"4\"/>\n",
       "<circle clip-path=\"url(#clip382)\" cx=\"955.495\" cy=\"916.128\" r=\"14\" fill=\"#009af9\" fill-rule=\"evenodd\" fill-opacity=\"1\" stroke=\"#000000\" stroke-opacity=\"1\" stroke-width=\"4\"/>\n",
       "<circle clip-path=\"url(#clip382)\" cx=\"981.786\" cy=\"959.946\" r=\"14\" fill=\"#009af9\" fill-rule=\"evenodd\" fill-opacity=\"1\" stroke=\"#000000\" stroke-opacity=\"1\" stroke-width=\"4\"/>\n",
       "<circle clip-path=\"url(#clip382)\" cx=\"808.584\" cy=\"1109.79\" r=\"14\" fill=\"#009af9\" fill-rule=\"evenodd\" fill-opacity=\"1\" stroke=\"#000000\" stroke-opacity=\"1\" stroke-width=\"4\"/>\n",
       "<circle clip-path=\"url(#clip382)\" cx=\"832.695\" cy=\"949.821\" r=\"14\" fill=\"#009af9\" fill-rule=\"evenodd\" fill-opacity=\"1\" stroke=\"#000000\" stroke-opacity=\"1\" stroke-width=\"4\"/>\n",
       "<circle clip-path=\"url(#clip382)\" cx=\"791.673\" cy=\"948.508\" r=\"14\" fill=\"#009af9\" fill-rule=\"evenodd\" fill-opacity=\"1\" stroke=\"#000000\" stroke-opacity=\"1\" stroke-width=\"4\"/>\n",
       "<circle clip-path=\"url(#clip382)\" cx=\"899.676\" cy=\"1092.19\" r=\"14\" fill=\"#009af9\" fill-rule=\"evenodd\" fill-opacity=\"1\" stroke=\"#000000\" stroke-opacity=\"1\" stroke-width=\"4\"/>\n",
       "<circle clip-path=\"url(#clip382)\" cx=\"863.778\" cy=\"861.187\" r=\"14\" fill=\"#009af9\" fill-rule=\"evenodd\" fill-opacity=\"1\" stroke=\"#000000\" stroke-opacity=\"1\" stroke-width=\"4\"/>\n",
       "<circle clip-path=\"url(#clip382)\" cx=\"655.741\" cy=\"909.828\" r=\"14\" fill=\"#009af9\" fill-rule=\"evenodd\" fill-opacity=\"1\" stroke=\"#000000\" stroke-opacity=\"1\" stroke-width=\"4\"/>\n",
       "<circle clip-path=\"url(#clip382)\" cx=\"857.384\" cy=\"1067.73\" r=\"14\" fill=\"#009af9\" fill-rule=\"evenodd\" fill-opacity=\"1\" stroke=\"#000000\" stroke-opacity=\"1\" stroke-width=\"4\"/>\n",
       "<circle clip-path=\"url(#clip382)\" cx=\"989.541\" cy=\"1180.84\" r=\"14\" fill=\"#009af9\" fill-rule=\"evenodd\" fill-opacity=\"1\" stroke=\"#000000\" stroke-opacity=\"1\" stroke-width=\"4\"/>\n",
       "<circle clip-path=\"url(#clip382)\" cx=\"765.905\" cy=\"1063.3\" r=\"14\" fill=\"#009af9\" fill-rule=\"evenodd\" fill-opacity=\"1\" stroke=\"#000000\" stroke-opacity=\"1\" stroke-width=\"4\"/>\n",
       "<circle clip-path=\"url(#clip382)\" cx=\"696.692\" cy=\"889.422\" r=\"14\" fill=\"#009af9\" fill-rule=\"evenodd\" fill-opacity=\"1\" stroke=\"#000000\" stroke-opacity=\"1\" stroke-width=\"4\"/>\n",
       "<circle clip-path=\"url(#clip382)\" cx=\"957.503\" cy=\"1029.64\" r=\"14\" fill=\"#009af9\" fill-rule=\"evenodd\" fill-opacity=\"1\" stroke=\"#000000\" stroke-opacity=\"1\" stroke-width=\"4\"/>\n",
       "<circle clip-path=\"url(#clip382)\" cx=\"909.301\" cy=\"1064.51\" r=\"14\" fill=\"#009af9\" fill-rule=\"evenodd\" fill-opacity=\"1\" stroke=\"#000000\" stroke-opacity=\"1\" stroke-width=\"4\"/>\n",
       "<circle clip-path=\"url(#clip382)\" cx=\"871.115\" cy=\"1079.46\" r=\"14\" fill=\"#009af9\" fill-rule=\"evenodd\" fill-opacity=\"1\" stroke=\"#000000\" stroke-opacity=\"1\" stroke-width=\"4\"/>\n",
       "<circle clip-path=\"url(#clip382)\" cx=\"858.7\" cy=\"846.331\" r=\"14\" fill=\"#009af9\" fill-rule=\"evenodd\" fill-opacity=\"1\" stroke=\"#000000\" stroke-opacity=\"1\" stroke-width=\"4\"/>\n",
       "<circle clip-path=\"url(#clip382)\" cx=\"807.612\" cy=\"829.681\" r=\"14\" fill=\"#009af9\" fill-rule=\"evenodd\" fill-opacity=\"1\" stroke=\"#000000\" stroke-opacity=\"1\" stroke-width=\"4\"/>\n",
       "<circle clip-path=\"url(#clip382)\" cx=\"654.176\" cy=\"823.219\" r=\"14\" fill=\"#009af9\" fill-rule=\"evenodd\" fill-opacity=\"1\" stroke=\"#000000\" stroke-opacity=\"1\" stroke-width=\"4\"/>\n",
       "<circle clip-path=\"url(#clip382)\" cx=\"1136.42\" cy=\"982.702\" r=\"14\" fill=\"#009af9\" fill-rule=\"evenodd\" fill-opacity=\"1\" stroke=\"#000000\" stroke-opacity=\"1\" stroke-width=\"4\"/>\n",
       "<circle clip-path=\"url(#clip382)\" cx=\"812.263\" cy=\"748.914\" r=\"14\" fill=\"#009af9\" fill-rule=\"evenodd\" fill-opacity=\"1\" stroke=\"#000000\" stroke-opacity=\"1\" stroke-width=\"4\"/>\n",
       "<circle clip-path=\"url(#clip382)\" cx=\"741.609\" cy=\"904.948\" r=\"14\" fill=\"#009af9\" fill-rule=\"evenodd\" fill-opacity=\"1\" stroke=\"#000000\" stroke-opacity=\"1\" stroke-width=\"4\"/>\n",
       "<circle clip-path=\"url(#clip382)\" cx=\"898.57\" cy=\"973.395\" r=\"14\" fill=\"#009af9\" fill-rule=\"evenodd\" fill-opacity=\"1\" stroke=\"#000000\" stroke-opacity=\"1\" stroke-width=\"4\"/>\n",
       "<circle clip-path=\"url(#clip382)\" cx=\"725.029\" cy=\"853.776\" r=\"14\" fill=\"#009af9\" fill-rule=\"evenodd\" fill-opacity=\"1\" stroke=\"#000000\" stroke-opacity=\"1\" stroke-width=\"4\"/>\n",
       "<circle clip-path=\"url(#clip382)\" cx=\"600.688\" cy=\"1082.23\" r=\"14\" fill=\"#009af9\" fill-rule=\"evenodd\" fill-opacity=\"1\" stroke=\"#000000\" stroke-opacity=\"1\" stroke-width=\"4\"/>\n",
       "<circle clip-path=\"url(#clip382)\" cx=\"1010.95\" cy=\"734.077\" r=\"14\" fill=\"#009af9\" fill-rule=\"evenodd\" fill-opacity=\"1\" stroke=\"#000000\" stroke-opacity=\"1\" stroke-width=\"4\"/>\n",
       "<circle clip-path=\"url(#clip382)\" cx=\"600.372\" cy=\"710.782\" r=\"14\" fill=\"#009af9\" fill-rule=\"evenodd\" fill-opacity=\"1\" stroke=\"#000000\" stroke-opacity=\"1\" stroke-width=\"4\"/>\n",
       "<circle clip-path=\"url(#clip382)\" cx=\"839.238\" cy=\"1084.63\" r=\"14\" fill=\"#009af9\" fill-rule=\"evenodd\" fill-opacity=\"1\" stroke=\"#000000\" stroke-opacity=\"1\" stroke-width=\"4\"/>\n",
       "<circle clip-path=\"url(#clip382)\" cx=\"803.138\" cy=\"828.581\" r=\"14\" fill=\"#009af9\" fill-rule=\"evenodd\" fill-opacity=\"1\" stroke=\"#000000\" stroke-opacity=\"1\" stroke-width=\"4\"/>\n",
       "<circle clip-path=\"url(#clip382)\" cx=\"844.102\" cy=\"953.073\" r=\"14\" fill=\"#009af9\" fill-rule=\"evenodd\" fill-opacity=\"1\" stroke=\"#000000\" stroke-opacity=\"1\" stroke-width=\"4\"/>\n",
       "<circle clip-path=\"url(#clip382)\" cx=\"981.335\" cy=\"1077.14\" r=\"14\" fill=\"#009af9\" fill-rule=\"evenodd\" fill-opacity=\"1\" stroke=\"#000000\" stroke-opacity=\"1\" stroke-width=\"4\"/>\n",
       "<circle clip-path=\"url(#clip382)\" cx=\"953.374\" cy=\"1050.56\" r=\"14\" fill=\"#009af9\" fill-rule=\"evenodd\" fill-opacity=\"1\" stroke=\"#000000\" stroke-opacity=\"1\" stroke-width=\"4\"/>\n",
       "<circle clip-path=\"url(#clip382)\" cx=\"791.964\" cy=\"772.517\" r=\"14\" fill=\"#009af9\" fill-rule=\"evenodd\" fill-opacity=\"1\" stroke=\"#000000\" stroke-opacity=\"1\" stroke-width=\"4\"/>\n",
       "<circle clip-path=\"url(#clip382)\" cx=\"823.196\" cy=\"948.239\" r=\"14\" fill=\"#009af9\" fill-rule=\"evenodd\" fill-opacity=\"1\" stroke=\"#000000\" stroke-opacity=\"1\" stroke-width=\"4\"/>\n",
       "<circle clip-path=\"url(#clip382)\" cx=\"871.982\" cy=\"924.141\" r=\"14\" fill=\"#009af9\" fill-rule=\"evenodd\" fill-opacity=\"1\" stroke=\"#000000\" stroke-opacity=\"1\" stroke-width=\"4\"/>\n",
       "<circle clip-path=\"url(#clip382)\" cx=\"669.719\" cy=\"1070.69\" r=\"14\" fill=\"#009af9\" fill-rule=\"evenodd\" fill-opacity=\"1\" stroke=\"#000000\" stroke-opacity=\"1\" stroke-width=\"4\"/>\n",
       "<circle clip-path=\"url(#clip382)\" cx=\"673.326\" cy=\"987.341\" r=\"14\" fill=\"#009af9\" fill-rule=\"evenodd\" fill-opacity=\"1\" stroke=\"#000000\" stroke-opacity=\"1\" stroke-width=\"4\"/>\n",
       "<circle clip-path=\"url(#clip382)\" cx=\"975.318\" cy=\"1023.98\" r=\"14\" fill=\"#009af9\" fill-rule=\"evenodd\" fill-opacity=\"1\" stroke=\"#000000\" stroke-opacity=\"1\" stroke-width=\"4\"/>\n",
       "<circle clip-path=\"url(#clip382)\" cx=\"834.498\" cy=\"884.444\" r=\"14\" fill=\"#009af9\" fill-rule=\"evenodd\" fill-opacity=\"1\" stroke=\"#000000\" stroke-opacity=\"1\" stroke-width=\"4\"/>\n",
       "<circle clip-path=\"url(#clip382)\" cx=\"717.856\" cy=\"971.033\" r=\"14\" fill=\"#009af9\" fill-rule=\"evenodd\" fill-opacity=\"1\" stroke=\"#000000\" stroke-opacity=\"1\" stroke-width=\"4\"/>\n",
       "<circle clip-path=\"url(#clip382)\" cx=\"965.397\" cy=\"836.531\" r=\"14\" fill=\"#009af9\" fill-rule=\"evenodd\" fill-opacity=\"1\" stroke=\"#000000\" stroke-opacity=\"1\" stroke-width=\"4\"/>\n",
       "<circle clip-path=\"url(#clip382)\" cx=\"802.104\" cy=\"938.332\" r=\"14\" fill=\"#009af9\" fill-rule=\"evenodd\" fill-opacity=\"1\" stroke=\"#000000\" stroke-opacity=\"1\" stroke-width=\"4\"/>\n",
       "<circle clip-path=\"url(#clip382)\" cx=\"749.218\" cy=\"889.933\" r=\"14\" fill=\"#009af9\" fill-rule=\"evenodd\" fill-opacity=\"1\" stroke=\"#000000\" stroke-opacity=\"1\" stroke-width=\"4\"/>\n",
       "<circle clip-path=\"url(#clip382)\" cx=\"782.899\" cy=\"1070.04\" r=\"14\" fill=\"#009af9\" fill-rule=\"evenodd\" fill-opacity=\"1\" stroke=\"#000000\" stroke-opacity=\"1\" stroke-width=\"4\"/>\n",
       "<circle clip-path=\"url(#clip382)\" cx=\"624.292\" cy=\"902.975\" r=\"14\" fill=\"#009af9\" fill-rule=\"evenodd\" fill-opacity=\"1\" stroke=\"#000000\" stroke-opacity=\"1\" stroke-width=\"4\"/>\n",
       "<circle clip-path=\"url(#clip382)\" cx=\"815.125\" cy=\"1066.16\" r=\"14\" fill=\"#009af9\" fill-rule=\"evenodd\" fill-opacity=\"1\" stroke=\"#000000\" stroke-opacity=\"1\" stroke-width=\"4\"/>\n",
       "<circle clip-path=\"url(#clip382)\" cx=\"828.838\" cy=\"1016.27\" r=\"14\" fill=\"#009af9\" fill-rule=\"evenodd\" fill-opacity=\"1\" stroke=\"#000000\" stroke-opacity=\"1\" stroke-width=\"4\"/>\n",
       "<circle clip-path=\"url(#clip382)\" cx=\"643.269\" cy=\"1022.46\" r=\"14\" fill=\"#009af9\" fill-rule=\"evenodd\" fill-opacity=\"1\" stroke=\"#000000\" stroke-opacity=\"1\" stroke-width=\"4\"/>\n",
       "<circle clip-path=\"url(#clip382)\" cx=\"930.2\" cy=\"1120.19\" r=\"14\" fill=\"#009af9\" fill-rule=\"evenodd\" fill-opacity=\"1\" stroke=\"#000000\" stroke-opacity=\"1\" stroke-width=\"4\"/>\n",
       "<circle clip-path=\"url(#clip382)\" cx=\"723.946\" cy=\"789.015\" r=\"14\" fill=\"#009af9\" fill-rule=\"evenodd\" fill-opacity=\"1\" stroke=\"#000000\" stroke-opacity=\"1\" stroke-width=\"4\"/>\n",
       "<circle clip-path=\"url(#clip382)\" cx=\"810.585\" cy=\"922.522\" r=\"14\" fill=\"#009af9\" fill-rule=\"evenodd\" fill-opacity=\"1\" stroke=\"#000000\" stroke-opacity=\"1\" stroke-width=\"4\"/>\n",
       "<circle clip-path=\"url(#clip382)\" cx=\"747.595\" cy=\"920.105\" r=\"14\" fill=\"#009af9\" fill-rule=\"evenodd\" fill-opacity=\"1\" stroke=\"#000000\" stroke-opacity=\"1\" stroke-width=\"4\"/>\n",
       "<circle clip-path=\"url(#clip382)\" cx=\"645.506\" cy=\"1012.86\" r=\"14\" fill=\"#009af9\" fill-rule=\"evenodd\" fill-opacity=\"1\" stroke=\"#000000\" stroke-opacity=\"1\" stroke-width=\"4\"/>\n",
       "<circle clip-path=\"url(#clip382)\" cx=\"815.14\" cy=\"955.092\" r=\"14\" fill=\"#009af9\" fill-rule=\"evenodd\" fill-opacity=\"1\" stroke=\"#000000\" stroke-opacity=\"1\" stroke-width=\"4\"/>\n",
       "<circle clip-path=\"url(#clip382)\" cx=\"834.356\" cy=\"1058.13\" r=\"14\" fill=\"#009af9\" fill-rule=\"evenodd\" fill-opacity=\"1\" stroke=\"#000000\" stroke-opacity=\"1\" stroke-width=\"4\"/>\n",
       "<circle clip-path=\"url(#clip382)\" cx=\"1040.11\" cy=\"1034.03\" r=\"14\" fill=\"#009af9\" fill-rule=\"evenodd\" fill-opacity=\"1\" stroke=\"#000000\" stroke-opacity=\"1\" stroke-width=\"4\"/>\n",
       "<circle clip-path=\"url(#clip382)\" cx=\"922.325\" cy=\"1012.62\" r=\"14\" fill=\"#009af9\" fill-rule=\"evenodd\" fill-opacity=\"1\" stroke=\"#000000\" stroke-opacity=\"1\" stroke-width=\"4\"/>\n",
       "<circle clip-path=\"url(#clip382)\" cx=\"856.686\" cy=\"950.299\" r=\"14\" fill=\"#009af9\" fill-rule=\"evenodd\" fill-opacity=\"1\" stroke=\"#000000\" stroke-opacity=\"1\" stroke-width=\"4\"/>\n",
       "<circle clip-path=\"url(#clip382)\" cx=\"986.73\" cy=\"843.971\" r=\"14\" fill=\"#009af9\" fill-rule=\"evenodd\" fill-opacity=\"1\" stroke=\"#000000\" stroke-opacity=\"1\" stroke-width=\"4\"/>\n",
       "<circle clip-path=\"url(#clip382)\" cx=\"808.777\" cy=\"945.682\" r=\"14\" fill=\"#009af9\" fill-rule=\"evenodd\" fill-opacity=\"1\" stroke=\"#000000\" stroke-opacity=\"1\" stroke-width=\"4\"/>\n",
       "<circle clip-path=\"url(#clip382)\" cx=\"959.854\" cy=\"873.401\" r=\"14\" fill=\"#009af9\" fill-rule=\"evenodd\" fill-opacity=\"1\" stroke=\"#000000\" stroke-opacity=\"1\" stroke-width=\"4\"/>\n",
       "<circle clip-path=\"url(#clip382)\" cx=\"1002.3\" cy=\"1138.85\" r=\"14\" fill=\"#009af9\" fill-rule=\"evenodd\" fill-opacity=\"1\" stroke=\"#000000\" stroke-opacity=\"1\" stroke-width=\"4\"/>\n",
       "<circle clip-path=\"url(#clip382)\" cx=\"886.463\" cy=\"854.841\" r=\"14\" fill=\"#009af9\" fill-rule=\"evenodd\" fill-opacity=\"1\" stroke=\"#000000\" stroke-opacity=\"1\" stroke-width=\"4\"/>\n",
       "<circle clip-path=\"url(#clip382)\" cx=\"847.974\" cy=\"851.855\" r=\"14\" fill=\"#009af9\" fill-rule=\"evenodd\" fill-opacity=\"1\" stroke=\"#000000\" stroke-opacity=\"1\" stroke-width=\"4\"/>\n",
       "<circle clip-path=\"url(#clip382)\" cx=\"936.611\" cy=\"1121.13\" r=\"14\" fill=\"#009af9\" fill-rule=\"evenodd\" fill-opacity=\"1\" stroke=\"#000000\" stroke-opacity=\"1\" stroke-width=\"4\"/>\n",
       "<circle clip-path=\"url(#clip382)\" cx=\"907.194\" cy=\"970.784\" r=\"14\" fill=\"#009af9\" fill-rule=\"evenodd\" fill-opacity=\"1\" stroke=\"#000000\" stroke-opacity=\"1\" stroke-width=\"4\"/>\n",
       "<circle clip-path=\"url(#clip382)\" cx=\"877.572\" cy=\"1012.42\" r=\"14\" fill=\"#009af9\" fill-rule=\"evenodd\" fill-opacity=\"1\" stroke=\"#000000\" stroke-opacity=\"1\" stroke-width=\"4\"/>\n",
       "<circle clip-path=\"url(#clip382)\" cx=\"696.757\" cy=\"722.38\" r=\"14\" fill=\"#009af9\" fill-rule=\"evenodd\" fill-opacity=\"1\" stroke=\"#000000\" stroke-opacity=\"1\" stroke-width=\"4\"/>\n",
       "<circle clip-path=\"url(#clip382)\" cx=\"811.136\" cy=\"983.182\" r=\"14\" fill=\"#009af9\" fill-rule=\"evenodd\" fill-opacity=\"1\" stroke=\"#000000\" stroke-opacity=\"1\" stroke-width=\"4\"/>\n",
       "<circle clip-path=\"url(#clip382)\" cx=\"951.059\" cy=\"920.299\" r=\"14\" fill=\"#009af9\" fill-rule=\"evenodd\" fill-opacity=\"1\" stroke=\"#000000\" stroke-opacity=\"1\" stroke-width=\"4\"/>\n",
       "<circle clip-path=\"url(#clip382)\" cx=\"725.519\" cy=\"824.676\" r=\"14\" fill=\"#009af9\" fill-rule=\"evenodd\" fill-opacity=\"1\" stroke=\"#000000\" stroke-opacity=\"1\" stroke-width=\"4\"/>\n",
       "<circle clip-path=\"url(#clip382)\" cx=\"753.59\" cy=\"736.77\" r=\"14\" fill=\"#009af9\" fill-rule=\"evenodd\" fill-opacity=\"1\" stroke=\"#000000\" stroke-opacity=\"1\" stroke-width=\"4\"/>\n",
       "<circle clip-path=\"url(#clip382)\" cx=\"970.275\" cy=\"1034.24\" r=\"14\" fill=\"#009af9\" fill-rule=\"evenodd\" fill-opacity=\"1\" stroke=\"#000000\" stroke-opacity=\"1\" stroke-width=\"4\"/>\n",
       "<circle clip-path=\"url(#clip382)\" cx=\"765.191\" cy=\"910.853\" r=\"14\" fill=\"#009af9\" fill-rule=\"evenodd\" fill-opacity=\"1\" stroke=\"#000000\" stroke-opacity=\"1\" stroke-width=\"4\"/>\n",
       "<circle clip-path=\"url(#clip382)\" cx=\"1025.23\" cy=\"945.537\" r=\"14\" fill=\"#009af9\" fill-rule=\"evenodd\" fill-opacity=\"1\" stroke=\"#000000\" stroke-opacity=\"1\" stroke-width=\"4\"/>\n",
       "<circle clip-path=\"url(#clip382)\" cx=\"862.751\" cy=\"1160.47\" r=\"14\" fill=\"#009af9\" fill-rule=\"evenodd\" fill-opacity=\"1\" stroke=\"#000000\" stroke-opacity=\"1\" stroke-width=\"4\"/>\n",
       "<circle clip-path=\"url(#clip382)\" cx=\"1011.8\" cy=\"933.885\" r=\"14\" fill=\"#009af9\" fill-rule=\"evenodd\" fill-opacity=\"1\" stroke=\"#000000\" stroke-opacity=\"1\" stroke-width=\"4\"/>\n",
       "<circle clip-path=\"url(#clip382)\" cx=\"809.204\" cy=\"690.166\" r=\"14\" fill=\"#009af9\" fill-rule=\"evenodd\" fill-opacity=\"1\" stroke=\"#000000\" stroke-opacity=\"1\" stroke-width=\"4\"/>\n",
       "<circle clip-path=\"url(#clip382)\" cx=\"1024.73\" cy=\"847.266\" r=\"14\" fill=\"#009af9\" fill-rule=\"evenodd\" fill-opacity=\"1\" stroke=\"#000000\" stroke-opacity=\"1\" stroke-width=\"4\"/>\n",
       "<circle clip-path=\"url(#clip382)\" cx=\"782.804\" cy=\"604.822\" r=\"14\" fill=\"#009af9\" fill-rule=\"evenodd\" fill-opacity=\"1\" stroke=\"#000000\" stroke-opacity=\"1\" stroke-width=\"4\"/>\n",
       "<circle clip-path=\"url(#clip382)\" cx=\"1019.61\" cy=\"1087.1\" r=\"14\" fill=\"#009af9\" fill-rule=\"evenodd\" fill-opacity=\"1\" stroke=\"#000000\" stroke-opacity=\"1\" stroke-width=\"4\"/>\n",
       "<circle clip-path=\"url(#clip382)\" cx=\"612.214\" cy=\"848\" r=\"14\" fill=\"#009af9\" fill-rule=\"evenodd\" fill-opacity=\"1\" stroke=\"#000000\" stroke-opacity=\"1\" stroke-width=\"4\"/>\n",
       "<circle clip-path=\"url(#clip382)\" cx=\"610.668\" cy=\"927.906\" r=\"14\" fill=\"#009af9\" fill-rule=\"evenodd\" fill-opacity=\"1\" stroke=\"#000000\" stroke-opacity=\"1\" stroke-width=\"4\"/>\n",
       "<circle clip-path=\"url(#clip382)\" cx=\"668.66\" cy=\"1013.11\" r=\"14\" fill=\"#009af9\" fill-rule=\"evenodd\" fill-opacity=\"1\" stroke=\"#000000\" stroke-opacity=\"1\" stroke-width=\"4\"/>\n",
       "<circle clip-path=\"url(#clip382)\" cx=\"1051.69\" cy=\"959.817\" r=\"14\" fill=\"#009af9\" fill-rule=\"evenodd\" fill-opacity=\"1\" stroke=\"#000000\" stroke-opacity=\"1\" stroke-width=\"4\"/>\n",
       "<circle clip-path=\"url(#clip382)\" cx=\"1087.28\" cy=\"814.871\" r=\"14\" fill=\"#009af9\" fill-rule=\"evenodd\" fill-opacity=\"1\" stroke=\"#000000\" stroke-opacity=\"1\" stroke-width=\"4\"/>\n",
       "<circle clip-path=\"url(#clip382)\" cx=\"892.736\" cy=\"994.266\" r=\"14\" fill=\"#009af9\" fill-rule=\"evenodd\" fill-opacity=\"1\" stroke=\"#000000\" stroke-opacity=\"1\" stroke-width=\"4\"/>\n",
       "<circle clip-path=\"url(#clip382)\" cx=\"1090.33\" cy=\"956.528\" r=\"14\" fill=\"#009af9\" fill-rule=\"evenodd\" fill-opacity=\"1\" stroke=\"#000000\" stroke-opacity=\"1\" stroke-width=\"4\"/>\n",
       "<circle clip-path=\"url(#clip382)\" cx=\"1445.75\" cy=\"444.183\" r=\"14\" fill=\"#009af9\" fill-rule=\"evenodd\" fill-opacity=\"1\" stroke=\"#000000\" stroke-opacity=\"1\" stroke-width=\"4\"/>\n",
       "<circle clip-path=\"url(#clip382)\" cx=\"987.726\" cy=\"386.321\" r=\"14\" fill=\"#009af9\" fill-rule=\"evenodd\" fill-opacity=\"1\" stroke=\"#000000\" stroke-opacity=\"1\" stroke-width=\"4\"/>\n",
       "<circle clip-path=\"url(#clip382)\" cx=\"1273.46\" cy=\"352.755\" r=\"14\" fill=\"#009af9\" fill-rule=\"evenodd\" fill-opacity=\"1\" stroke=\"#000000\" stroke-opacity=\"1\" stroke-width=\"4\"/>\n",
       "<circle clip-path=\"url(#clip382)\" cx=\"1154.92\" cy=\"538.454\" r=\"14\" fill=\"#009af9\" fill-rule=\"evenodd\" fill-opacity=\"1\" stroke=\"#000000\" stroke-opacity=\"1\" stroke-width=\"4\"/>\n",
       "<circle clip-path=\"url(#clip382)\" cx=\"1184.41\" cy=\"450.165\" r=\"14\" fill=\"#009af9\" fill-rule=\"evenodd\" fill-opacity=\"1\" stroke=\"#000000\" stroke-opacity=\"1\" stroke-width=\"4\"/>\n",
       "<circle clip-path=\"url(#clip382)\" cx=\"1218.15\" cy=\"582.576\" r=\"14\" fill=\"#009af9\" fill-rule=\"evenodd\" fill-opacity=\"1\" stroke=\"#000000\" stroke-opacity=\"1\" stroke-width=\"4\"/>\n",
       "<circle clip-path=\"url(#clip382)\" cx=\"1278.18\" cy=\"635.2\" r=\"14\" fill=\"#009af9\" fill-rule=\"evenodd\" fill-opacity=\"1\" stroke=\"#000000\" stroke-opacity=\"1\" stroke-width=\"4\"/>\n",
       "<circle clip-path=\"url(#clip382)\" cx=\"1190.06\" cy=\"379.138\" r=\"14\" fill=\"#009af9\" fill-rule=\"evenodd\" fill-opacity=\"1\" stroke=\"#000000\" stroke-opacity=\"1\" stroke-width=\"4\"/>\n",
       "<circle clip-path=\"url(#clip382)\" cx=\"1276.61\" cy=\"620.999\" r=\"14\" fill=\"#009af9\" fill-rule=\"evenodd\" fill-opacity=\"1\" stroke=\"#000000\" stroke-opacity=\"1\" stroke-width=\"4\"/>\n",
       "<circle clip-path=\"url(#clip382)\" cx=\"1280.72\" cy=\"565.602\" r=\"14\" fill=\"#009af9\" fill-rule=\"evenodd\" fill-opacity=\"1\" stroke=\"#000000\" stroke-opacity=\"1\" stroke-width=\"4\"/>\n",
       "<circle clip-path=\"url(#clip382)\" cx=\"1453.01\" cy=\"609.136\" r=\"14\" fill=\"#009af9\" fill-rule=\"evenodd\" fill-opacity=\"1\" stroke=\"#000000\" stroke-opacity=\"1\" stroke-width=\"4\"/>\n",
       "<circle clip-path=\"url(#clip382)\" cx=\"1267.9\" cy=\"596.255\" r=\"14\" fill=\"#009af9\" fill-rule=\"evenodd\" fill-opacity=\"1\" stroke=\"#000000\" stroke-opacity=\"1\" stroke-width=\"4\"/>\n",
       "<circle clip-path=\"url(#clip382)\" cx=\"1230.69\" cy=\"786.224\" r=\"14\" fill=\"#009af9\" fill-rule=\"evenodd\" fill-opacity=\"1\" stroke=\"#000000\" stroke-opacity=\"1\" stroke-width=\"4\"/>\n",
       "<circle clip-path=\"url(#clip382)\" cx=\"1074.16\" cy=\"586.807\" r=\"14\" fill=\"#009af9\" fill-rule=\"evenodd\" fill-opacity=\"1\" stroke=\"#000000\" stroke-opacity=\"1\" stroke-width=\"4\"/>\n",
       "<circle clip-path=\"url(#clip382)\" cx=\"1255.88\" cy=\"520.655\" r=\"14\" fill=\"#009af9\" fill-rule=\"evenodd\" fill-opacity=\"1\" stroke=\"#000000\" stroke-opacity=\"1\" stroke-width=\"4\"/>\n",
       "<circle clip-path=\"url(#clip382)\" cx=\"1204.28\" cy=\"403.033\" r=\"14\" fill=\"#009af9\" fill-rule=\"evenodd\" fill-opacity=\"1\" stroke=\"#000000\" stroke-opacity=\"1\" stroke-width=\"4\"/>\n",
       "<circle clip-path=\"url(#clip382)\" cx=\"1115.88\" cy=\"364.859\" r=\"14\" fill=\"#009af9\" fill-rule=\"evenodd\" fill-opacity=\"1\" stroke=\"#000000\" stroke-opacity=\"1\" stroke-width=\"4\"/>\n",
       "<circle clip-path=\"url(#clip382)\" cx=\"1170.75\" cy=\"406.679\" r=\"14\" fill=\"#009af9\" fill-rule=\"evenodd\" fill-opacity=\"1\" stroke=\"#000000\" stroke-opacity=\"1\" stroke-width=\"4\"/>\n",
       "<circle clip-path=\"url(#clip382)\" cx=\"1437.59\" cy=\"341.841\" r=\"14\" fill=\"#009af9\" fill-rule=\"evenodd\" fill-opacity=\"1\" stroke=\"#000000\" stroke-opacity=\"1\" stroke-width=\"4\"/>\n",
       "<circle clip-path=\"url(#clip382)\" cx=\"1206.62\" cy=\"440.594\" r=\"14\" fill=\"#009af9\" fill-rule=\"evenodd\" fill-opacity=\"1\" stroke=\"#000000\" stroke-opacity=\"1\" stroke-width=\"4\"/>\n",
       "<circle clip-path=\"url(#clip382)\" cx=\"1360.96\" cy=\"614.054\" r=\"14\" fill=\"#009af9\" fill-rule=\"evenodd\" fill-opacity=\"1\" stroke=\"#000000\" stroke-opacity=\"1\" stroke-width=\"4\"/>\n",
       "<circle clip-path=\"url(#clip382)\" cx=\"1530.81\" cy=\"212.342\" r=\"14\" fill=\"#009af9\" fill-rule=\"evenodd\" fill-opacity=\"1\" stroke=\"#000000\" stroke-opacity=\"1\" stroke-width=\"4\"/>\n",
       "<circle clip-path=\"url(#clip382)\" cx=\"1363.75\" cy=\"588.116\" r=\"14\" fill=\"#009af9\" fill-rule=\"evenodd\" fill-opacity=\"1\" stroke=\"#000000\" stroke-opacity=\"1\" stroke-width=\"4\"/>\n",
       "<circle clip-path=\"url(#clip382)\" cx=\"1426.65\" cy=\"376.583\" r=\"14\" fill=\"#009af9\" fill-rule=\"evenodd\" fill-opacity=\"1\" stroke=\"#000000\" stroke-opacity=\"1\" stroke-width=\"4\"/>\n",
       "<circle clip-path=\"url(#clip382)\" cx=\"1294.07\" cy=\"636.042\" r=\"14\" fill=\"#009af9\" fill-rule=\"evenodd\" fill-opacity=\"1\" stroke=\"#000000\" stroke-opacity=\"1\" stroke-width=\"4\"/>\n",
       "<circle clip-path=\"url(#clip382)\" cx=\"1091.84\" cy=\"458.238\" r=\"14\" fill=\"#009af9\" fill-rule=\"evenodd\" fill-opacity=\"1\" stroke=\"#000000\" stroke-opacity=\"1\" stroke-width=\"4\"/>\n",
       "<circle clip-path=\"url(#clip382)\" cx=\"1382.23\" cy=\"548.074\" r=\"14\" fill=\"#009af9\" fill-rule=\"evenodd\" fill-opacity=\"1\" stroke=\"#000000\" stroke-opacity=\"1\" stroke-width=\"4\"/>\n",
       "<circle clip-path=\"url(#clip382)\" cx=\"1346.84\" cy=\"422.391\" r=\"14\" fill=\"#009af9\" fill-rule=\"evenodd\" fill-opacity=\"1\" stroke=\"#000000\" stroke-opacity=\"1\" stroke-width=\"4\"/>\n",
       "<circle clip-path=\"url(#clip382)\" cx=\"1225.21\" cy=\"469.967\" r=\"14\" fill=\"#009af9\" fill-rule=\"evenodd\" fill-opacity=\"1\" stroke=\"#000000\" stroke-opacity=\"1\" stroke-width=\"4\"/>\n",
       "<circle clip-path=\"url(#clip382)\" cx=\"1237.38\" cy=\"645.275\" r=\"14\" fill=\"#009af9\" fill-rule=\"evenodd\" fill-opacity=\"1\" stroke=\"#000000\" stroke-opacity=\"1\" stroke-width=\"4\"/>\n",
       "<circle clip-path=\"url(#clip382)\" cx=\"1149.25\" cy=\"601.128\" r=\"14\" fill=\"#009af9\" fill-rule=\"evenodd\" fill-opacity=\"1\" stroke=\"#000000\" stroke-opacity=\"1\" stroke-width=\"4\"/>\n",
       "<circle clip-path=\"url(#clip382)\" cx=\"1211.71\" cy=\"270.816\" r=\"14\" fill=\"#009af9\" fill-rule=\"evenodd\" fill-opacity=\"1\" stroke=\"#000000\" stroke-opacity=\"1\" stroke-width=\"4\"/>\n",
       "<circle clip-path=\"url(#clip382)\" cx=\"1445.94\" cy=\"405.351\" r=\"14\" fill=\"#009af9\" fill-rule=\"evenodd\" fill-opacity=\"1\" stroke=\"#000000\" stroke-opacity=\"1\" stroke-width=\"4\"/>\n",
       "<circle clip-path=\"url(#clip382)\" cx=\"1491.48\" cy=\"538.115\" r=\"14\" fill=\"#009af9\" fill-rule=\"evenodd\" fill-opacity=\"1\" stroke=\"#000000\" stroke-opacity=\"1\" stroke-width=\"4\"/>\n",
       "<circle clip-path=\"url(#clip382)\" cx=\"1117.67\" cy=\"587.753\" r=\"14\" fill=\"#009af9\" fill-rule=\"evenodd\" fill-opacity=\"1\" stroke=\"#000000\" stroke-opacity=\"1\" stroke-width=\"4\"/>\n",
       "<circle clip-path=\"url(#clip382)\" cx=\"1160.29\" cy=\"306.801\" r=\"14\" fill=\"#009af9\" fill-rule=\"evenodd\" fill-opacity=\"1\" stroke=\"#000000\" stroke-opacity=\"1\" stroke-width=\"4\"/>\n",
       "<circle clip-path=\"url(#clip382)\" cx=\"1396.63\" cy=\"402.32\" r=\"14\" fill=\"#009af9\" fill-rule=\"evenodd\" fill-opacity=\"1\" stroke=\"#000000\" stroke-opacity=\"1\" stroke-width=\"4\"/>\n",
       "<circle clip-path=\"url(#clip382)\" cx=\"1418.74\" cy=\"329.695\" r=\"14\" fill=\"#009af9\" fill-rule=\"evenodd\" fill-opacity=\"1\" stroke=\"#000000\" stroke-opacity=\"1\" stroke-width=\"4\"/>\n",
       "<circle clip-path=\"url(#clip382)\" cx=\"1366.04\" cy=\"600.089\" r=\"14\" fill=\"#009af9\" fill-rule=\"evenodd\" fill-opacity=\"1\" stroke=\"#000000\" stroke-opacity=\"1\" stroke-width=\"4\"/>\n",
       "<circle clip-path=\"url(#clip382)\" cx=\"1110.02\" cy=\"815.176\" r=\"14\" fill=\"#009af9\" fill-rule=\"evenodd\" fill-opacity=\"1\" stroke=\"#000000\" stroke-opacity=\"1\" stroke-width=\"4\"/>\n",
       "<circle clip-path=\"url(#clip382)\" cx=\"1441.9\" cy=\"468.905\" r=\"14\" fill=\"#009af9\" fill-rule=\"evenodd\" fill-opacity=\"1\" stroke=\"#000000\" stroke-opacity=\"1\" stroke-width=\"4\"/>\n",
       "<circle clip-path=\"url(#clip382)\" cx=\"1135.82\" cy=\"845.185\" r=\"14\" fill=\"#009af9\" fill-rule=\"evenodd\" fill-opacity=\"1\" stroke=\"#000000\" stroke-opacity=\"1\" stroke-width=\"4\"/>\n",
       "<circle clip-path=\"url(#clip382)\" cx=\"1128.02\" cy=\"325.176\" r=\"14\" fill=\"#009af9\" fill-rule=\"evenodd\" fill-opacity=\"1\" stroke=\"#000000\" stroke-opacity=\"1\" stroke-width=\"4\"/>\n",
       "<circle clip-path=\"url(#clip382)\" cx=\"1285\" cy=\"633.824\" r=\"14\" fill=\"#009af9\" fill-rule=\"evenodd\" fill-opacity=\"1\" stroke=\"#000000\" stroke-opacity=\"1\" stroke-width=\"4\"/>\n",
       "<circle clip-path=\"url(#clip382)\" cx=\"1139.22\" cy=\"437.551\" r=\"14\" fill=\"#009af9\" fill-rule=\"evenodd\" fill-opacity=\"1\" stroke=\"#000000\" stroke-opacity=\"1\" stroke-width=\"4\"/>\n",
       "<circle clip-path=\"url(#clip382)\" cx=\"1264.67\" cy=\"683.718\" r=\"14\" fill=\"#009af9\" fill-rule=\"evenodd\" fill-opacity=\"1\" stroke=\"#000000\" stroke-opacity=\"1\" stroke-width=\"4\"/>\n",
       "<circle clip-path=\"url(#clip382)\" cx=\"1545.05\" cy=\"757.959\" r=\"14\" fill=\"#009af9\" fill-rule=\"evenodd\" fill-opacity=\"1\" stroke=\"#000000\" stroke-opacity=\"1\" stroke-width=\"4\"/>\n",
       "<circle clip-path=\"url(#clip382)\" cx=\"1246.96\" cy=\"478.497\" r=\"14\" fill=\"#009af9\" fill-rule=\"evenodd\" fill-opacity=\"1\" stroke=\"#000000\" stroke-opacity=\"1\" stroke-width=\"4\"/>\n",
       "<circle clip-path=\"url(#clip382)\" cx=\"1513.88\" cy=\"405.873\" r=\"14\" fill=\"#009af9\" fill-rule=\"evenodd\" fill-opacity=\"1\" stroke=\"#000000\" stroke-opacity=\"1\" stroke-width=\"4\"/>\n",
       "<circle clip-path=\"url(#clip382)\" cx=\"1307.53\" cy=\"518.961\" r=\"14\" fill=\"#009af9\" fill-rule=\"evenodd\" fill-opacity=\"1\" stroke=\"#000000\" stroke-opacity=\"1\" stroke-width=\"4\"/>\n",
       "<circle clip-path=\"url(#clip382)\" cx=\"1400.48\" cy=\"226.436\" r=\"14\" fill=\"#009af9\" fill-rule=\"evenodd\" fill-opacity=\"1\" stroke=\"#000000\" stroke-opacity=\"1\" stroke-width=\"4\"/>\n",
       "<circle clip-path=\"url(#clip382)\" cx=\"1278.55\" cy=\"348.191\" r=\"14\" fill=\"#009af9\" fill-rule=\"evenodd\" fill-opacity=\"1\" stroke=\"#000000\" stroke-opacity=\"1\" stroke-width=\"4\"/>\n",
       "<circle clip-path=\"url(#clip382)\" cx=\"1346.91\" cy=\"493.681\" r=\"14\" fill=\"#009af9\" fill-rule=\"evenodd\" fill-opacity=\"1\" stroke=\"#000000\" stroke-opacity=\"1\" stroke-width=\"4\"/>\n",
       "<circle clip-path=\"url(#clip382)\" cx=\"1208.51\" cy=\"681.255\" r=\"14\" fill=\"#009af9\" fill-rule=\"evenodd\" fill-opacity=\"1\" stroke=\"#000000\" stroke-opacity=\"1\" stroke-width=\"4\"/>\n",
       "<circle clip-path=\"url(#clip382)\" cx=\"1238.71\" cy=\"741.202\" r=\"14\" fill=\"#009af9\" fill-rule=\"evenodd\" fill-opacity=\"1\" stroke=\"#000000\" stroke-opacity=\"1\" stroke-width=\"4\"/>\n",
       "<circle clip-path=\"url(#clip382)\" cx=\"1093.19\" cy=\"647.79\" r=\"14\" fill=\"#009af9\" fill-rule=\"evenodd\" fill-opacity=\"1\" stroke=\"#000000\" stroke-opacity=\"1\" stroke-width=\"4\"/>\n",
       "<circle clip-path=\"url(#clip382)\" cx=\"1416.65\" cy=\"260.321\" r=\"14\" fill=\"#009af9\" fill-rule=\"evenodd\" fill-opacity=\"1\" stroke=\"#000000\" stroke-opacity=\"1\" stroke-width=\"4\"/>\n",
       "<circle clip-path=\"url(#clip382)\" cx=\"1404.78\" cy=\"519.308\" r=\"14\" fill=\"#009af9\" fill-rule=\"evenodd\" fill-opacity=\"1\" stroke=\"#000000\" stroke-opacity=\"1\" stroke-width=\"4\"/>\n",
       "<circle clip-path=\"url(#clip382)\" cx=\"1161.84\" cy=\"470.967\" r=\"14\" fill=\"#009af9\" fill-rule=\"evenodd\" fill-opacity=\"1\" stroke=\"#000000\" stroke-opacity=\"1\" stroke-width=\"4\"/>\n",
       "<circle clip-path=\"url(#clip382)\" cx=\"1218.36\" cy=\"281.331\" r=\"14\" fill=\"#009af9\" fill-rule=\"evenodd\" fill-opacity=\"1\" stroke=\"#000000\" stroke-opacity=\"1\" stroke-width=\"4\"/>\n",
       "<circle clip-path=\"url(#clip382)\" cx=\"1458.4\" cy=\"402.325\" r=\"14\" fill=\"#009af9\" fill-rule=\"evenodd\" fill-opacity=\"1\" stroke=\"#000000\" stroke-opacity=\"1\" stroke-width=\"4\"/>\n",
       "<circle clip-path=\"url(#clip382)\" cx=\"1285.32\" cy=\"522.364\" r=\"14\" fill=\"#009af9\" fill-rule=\"evenodd\" fill-opacity=\"1\" stroke=\"#000000\" stroke-opacity=\"1\" stroke-width=\"4\"/>\n",
       "<circle clip-path=\"url(#clip382)\" cx=\"1298.12\" cy=\"359.343\" r=\"14\" fill=\"#009af9\" fill-rule=\"evenodd\" fill-opacity=\"1\" stroke=\"#000000\" stroke-opacity=\"1\" stroke-width=\"4\"/>\n",
       "<circle clip-path=\"url(#clip382)\" cx=\"1633.41\" cy=\"496.377\" r=\"14\" fill=\"#009af9\" fill-rule=\"evenodd\" fill-opacity=\"1\" stroke=\"#000000\" stroke-opacity=\"1\" stroke-width=\"4\"/>\n",
       "<circle clip-path=\"url(#clip382)\" cx=\"1111.73\" cy=\"566.282\" r=\"14\" fill=\"#009af9\" fill-rule=\"evenodd\" fill-opacity=\"1\" stroke=\"#000000\" stroke-opacity=\"1\" stroke-width=\"4\"/>\n",
       "<circle clip-path=\"url(#clip382)\" cx=\"1444.37\" cy=\"315.995\" r=\"14\" fill=\"#009af9\" fill-rule=\"evenodd\" fill-opacity=\"1\" stroke=\"#000000\" stroke-opacity=\"1\" stroke-width=\"4\"/>\n",
       "<circle clip-path=\"url(#clip382)\" cx=\"1402.79\" cy=\"480.496\" r=\"14\" fill=\"#009af9\" fill-rule=\"evenodd\" fill-opacity=\"1\" stroke=\"#000000\" stroke-opacity=\"1\" stroke-width=\"4\"/>\n",
       "<circle clip-path=\"url(#clip382)\" cx=\"1451\" cy=\"401.725\" r=\"14\" fill=\"#009af9\" fill-rule=\"evenodd\" fill-opacity=\"1\" stroke=\"#000000\" stroke-opacity=\"1\" stroke-width=\"4\"/>\n",
       "<circle clip-path=\"url(#clip382)\" cx=\"1440.09\" cy=\"326.24\" r=\"14\" fill=\"#009af9\" fill-rule=\"evenodd\" fill-opacity=\"1\" stroke=\"#000000\" stroke-opacity=\"1\" stroke-width=\"4\"/>\n",
       "<circle clip-path=\"url(#clip382)\" cx=\"1119.28\" cy=\"446.167\" r=\"14\" fill=\"#009af9\" fill-rule=\"evenodd\" fill-opacity=\"1\" stroke=\"#000000\" stroke-opacity=\"1\" stroke-width=\"4\"/>\n",
       "<circle clip-path=\"url(#clip382)\" cx=\"1440.76\" cy=\"348.039\" r=\"14\" fill=\"#009af9\" fill-rule=\"evenodd\" fill-opacity=\"1\" stroke=\"#000000\" stroke-opacity=\"1\" stroke-width=\"4\"/>\n",
       "<circle clip-path=\"url(#clip382)\" cx=\"1306.79\" cy=\"510.443\" r=\"14\" fill=\"#009af9\" fill-rule=\"evenodd\" fill-opacity=\"1\" stroke=\"#000000\" stroke-opacity=\"1\" stroke-width=\"4\"/>\n",
       "<circle clip-path=\"url(#clip382)\" cx=\"1483.15\" cy=\"405.853\" r=\"14\" fill=\"#009af9\" fill-rule=\"evenodd\" fill-opacity=\"1\" stroke=\"#000000\" stroke-opacity=\"1\" stroke-width=\"4\"/>\n",
       "<circle clip-path=\"url(#clip382)\" cx=\"1245.15\" cy=\"696.051\" r=\"14\" fill=\"#009af9\" fill-rule=\"evenodd\" fill-opacity=\"1\" stroke=\"#000000\" stroke-opacity=\"1\" stroke-width=\"4\"/>\n",
       "<circle clip-path=\"url(#clip382)\" cx=\"904.81\" cy=\"615.499\" r=\"14\" fill=\"#009af9\" fill-rule=\"evenodd\" fill-opacity=\"1\" stroke=\"#000000\" stroke-opacity=\"1\" stroke-width=\"4\"/>\n",
       "<circle clip-path=\"url(#clip382)\" cx=\"1421.44\" cy=\"310.073\" r=\"14\" fill=\"#009af9\" fill-rule=\"evenodd\" fill-opacity=\"1\" stroke=\"#000000\" stroke-opacity=\"1\" stroke-width=\"4\"/>\n",
       "<circle clip-path=\"url(#clip382)\" cx=\"965.123\" cy=\"445.155\" r=\"14\" fill=\"#009af9\" fill-rule=\"evenodd\" fill-opacity=\"1\" stroke=\"#000000\" stroke-opacity=\"1\" stroke-width=\"4\"/>\n",
       "<circle clip-path=\"url(#clip382)\" cx=\"988.615\" cy=\"480.112\" r=\"14\" fill=\"#009af9\" fill-rule=\"evenodd\" fill-opacity=\"1\" stroke=\"#000000\" stroke-opacity=\"1\" stroke-width=\"4\"/>\n",
       "<circle clip-path=\"url(#clip382)\" cx=\"1340.22\" cy=\"378.938\" r=\"14\" fill=\"#009af9\" fill-rule=\"evenodd\" fill-opacity=\"1\" stroke=\"#000000\" stroke-opacity=\"1\" stroke-width=\"4\"/>\n",
       "<circle clip-path=\"url(#clip382)\" cx=\"1128.42\" cy=\"722.632\" r=\"14\" fill=\"#009af9\" fill-rule=\"evenodd\" fill-opacity=\"1\" stroke=\"#000000\" stroke-opacity=\"1\" stroke-width=\"4\"/>\n",
       "<circle clip-path=\"url(#clip382)\" cx=\"1360.54\" cy=\"441.37\" r=\"14\" fill=\"#009af9\" fill-rule=\"evenodd\" fill-opacity=\"1\" stroke=\"#000000\" stroke-opacity=\"1\" stroke-width=\"4\"/>\n",
       "<circle clip-path=\"url(#clip382)\" cx=\"1283.56\" cy=\"551.485\" r=\"14\" fill=\"#009af9\" fill-rule=\"evenodd\" fill-opacity=\"1\" stroke=\"#000000\" stroke-opacity=\"1\" stroke-width=\"4\"/>\n",
       "<circle clip-path=\"url(#clip382)\" cx=\"1175.26\" cy=\"301.592\" r=\"14\" fill=\"#009af9\" fill-rule=\"evenodd\" fill-opacity=\"1\" stroke=\"#000000\" stroke-opacity=\"1\" stroke-width=\"4\"/>\n",
       "<circle clip-path=\"url(#clip382)\" cx=\"1062.47\" cy=\"467.017\" r=\"14\" fill=\"#009af9\" fill-rule=\"evenodd\" fill-opacity=\"1\" stroke=\"#000000\" stroke-opacity=\"1\" stroke-width=\"4\"/>\n",
       "<circle clip-path=\"url(#clip382)\" cx=\"1260.43\" cy=\"581.734\" r=\"14\" fill=\"#009af9\" fill-rule=\"evenodd\" fill-opacity=\"1\" stroke=\"#000000\" stroke-opacity=\"1\" stroke-width=\"4\"/>\n",
       "<circle clip-path=\"url(#clip382)\" cx=\"1391.81\" cy=\"605.54\" r=\"14\" fill=\"#009af9\" fill-rule=\"evenodd\" fill-opacity=\"1\" stroke=\"#000000\" stroke-opacity=\"1\" stroke-width=\"4\"/>\n",
       "<circle clip-path=\"url(#clip382)\" cx=\"1165.86\" cy=\"518.221\" r=\"14\" fill=\"#009af9\" fill-rule=\"evenodd\" fill-opacity=\"1\" stroke=\"#000000\" stroke-opacity=\"1\" stroke-width=\"4\"/>\n",
       "<circle clip-path=\"url(#clip382)\" cx=\"1584.45\" cy=\"734.84\" r=\"14\" fill=\"#009af9\" fill-rule=\"evenodd\" fill-opacity=\"1\" stroke=\"#000000\" stroke-opacity=\"1\" stroke-width=\"4\"/>\n",
       "<circle clip-path=\"url(#clip382)\" cx=\"1350.19\" cy=\"557.178\" r=\"14\" fill=\"#009af9\" fill-rule=\"evenodd\" fill-opacity=\"1\" stroke=\"#000000\" stroke-opacity=\"1\" stroke-width=\"4\"/>\n",
       "<circle clip-path=\"url(#clip382)\" cx=\"1242.49\" cy=\"697.486\" r=\"14\" fill=\"#009af9\" fill-rule=\"evenodd\" fill-opacity=\"1\" stroke=\"#000000\" stroke-opacity=\"1\" stroke-width=\"4\"/>\n",
       "<circle clip-path=\"url(#clip382)\" cx=\"1267.52\" cy=\"529.258\" r=\"14\" fill=\"#009af9\" fill-rule=\"evenodd\" fill-opacity=\"1\" stroke=\"#000000\" stroke-opacity=\"1\" stroke-width=\"4\"/>\n",
       "<circle clip-path=\"url(#clip382)\" cx=\"987.859\" cy=\"688.462\" r=\"14\" fill=\"#009af9\" fill-rule=\"evenodd\" fill-opacity=\"1\" stroke=\"#000000\" stroke-opacity=\"1\" stroke-width=\"4\"/>\n",
       "<circle clip-path=\"url(#clip382)\" cx=\"1427.4\" cy=\"682.118\" r=\"14\" fill=\"#009af9\" fill-rule=\"evenodd\" fill-opacity=\"1\" stroke=\"#000000\" stroke-opacity=\"1\" stroke-width=\"4\"/>\n",
       "<circle clip-path=\"url(#clip382)\" cx=\"1522.99\" cy=\"452.736\" r=\"14\" fill=\"#009af9\" fill-rule=\"evenodd\" fill-opacity=\"1\" stroke=\"#000000\" stroke-opacity=\"1\" stroke-width=\"4\"/>\n",
       "<circle clip-path=\"url(#clip382)\" cx=\"1483.03\" cy=\"438.439\" r=\"14\" fill=\"#009af9\" fill-rule=\"evenodd\" fill-opacity=\"1\" stroke=\"#000000\" stroke-opacity=\"1\" stroke-width=\"4\"/>\n",
       "<circle clip-path=\"url(#clip382)\" cx=\"1148.85\" cy=\"689.872\" r=\"14\" fill=\"#009af9\" fill-rule=\"evenodd\" fill-opacity=\"1\" stroke=\"#000000\" stroke-opacity=\"1\" stroke-width=\"4\"/>\n",
       "<circle clip-path=\"url(#clip382)\" cx=\"1449.54\" cy=\"579.168\" r=\"14\" fill=\"#009af9\" fill-rule=\"evenodd\" fill-opacity=\"1\" stroke=\"#000000\" stroke-opacity=\"1\" stroke-width=\"4\"/>\n",
       "<circle clip-path=\"url(#clip382)\" cx=\"1196.13\" cy=\"307.141\" r=\"14\" fill=\"#009af9\" fill-rule=\"evenodd\" fill-opacity=\"1\" stroke=\"#000000\" stroke-opacity=\"1\" stroke-width=\"4\"/>\n",
       "<circle clip-path=\"url(#clip382)\" cx=\"1440.04\" cy=\"310.077\" r=\"14\" fill=\"#009af9\" fill-rule=\"evenodd\" fill-opacity=\"1\" stroke=\"#000000\" stroke-opacity=\"1\" stroke-width=\"4\"/>\n",
       "<circle clip-path=\"url(#clip382)\" cx=\"1319.7\" cy=\"411.524\" r=\"14\" fill=\"#009af9\" fill-rule=\"evenodd\" fill-opacity=\"1\" stroke=\"#000000\" stroke-opacity=\"1\" stroke-width=\"4\"/>\n",
       "<circle clip-path=\"url(#clip382)\" cx=\"1242.3\" cy=\"1206.32\" r=\"14\" fill=\"#009af9\" fill-rule=\"evenodd\" fill-opacity=\"1\" stroke=\"#000000\" stroke-opacity=\"1\" stroke-width=\"4\"/>\n",
       "<circle clip-path=\"url(#clip382)\" cx=\"1381.65\" cy=\"1608.96\" r=\"14\" fill=\"#009af9\" fill-rule=\"evenodd\" fill-opacity=\"1\" stroke=\"#000000\" stroke-opacity=\"1\" stroke-width=\"4\"/>\n",
       "<circle clip-path=\"url(#clip382)\" cx=\"1365.97\" cy=\"1395.44\" r=\"14\" fill=\"#009af9\" fill-rule=\"evenodd\" fill-opacity=\"1\" stroke=\"#000000\" stroke-opacity=\"1\" stroke-width=\"4\"/>\n",
       "<circle clip-path=\"url(#clip382)\" cx=\"1366.32\" cy=\"1472.82\" r=\"14\" fill=\"#009af9\" fill-rule=\"evenodd\" fill-opacity=\"1\" stroke=\"#000000\" stroke-opacity=\"1\" stroke-width=\"4\"/>\n",
       "<circle clip-path=\"url(#clip382)\" cx=\"953.731\" cy=\"1373.46\" r=\"14\" fill=\"#009af9\" fill-rule=\"evenodd\" fill-opacity=\"1\" stroke=\"#000000\" stroke-opacity=\"1\" stroke-width=\"4\"/>\n",
       "<circle clip-path=\"url(#clip382)\" cx=\"1212.42\" cy=\"1264.65\" r=\"14\" fill=\"#009af9\" fill-rule=\"evenodd\" fill-opacity=\"1\" stroke=\"#000000\" stroke-opacity=\"1\" stroke-width=\"4\"/>\n",
       "<circle clip-path=\"url(#clip382)\" cx=\"1436.72\" cy=\"1466.74\" r=\"14\" fill=\"#009af9\" fill-rule=\"evenodd\" fill-opacity=\"1\" stroke=\"#000000\" stroke-opacity=\"1\" stroke-width=\"4\"/>\n",
       "<circle clip-path=\"url(#clip382)\" cx=\"1215.67\" cy=\"1269.12\" r=\"14\" fill=\"#009af9\" fill-rule=\"evenodd\" fill-opacity=\"1\" stroke=\"#000000\" stroke-opacity=\"1\" stroke-width=\"4\"/>\n",
       "<circle clip-path=\"url(#clip382)\" cx=\"1285.76\" cy=\"1719.67\" r=\"14\" fill=\"#009af9\" fill-rule=\"evenodd\" fill-opacity=\"1\" stroke=\"#000000\" stroke-opacity=\"1\" stroke-width=\"4\"/>\n",
       "<circle clip-path=\"url(#clip382)\" cx=\"1393.45\" cy=\"1366.24\" r=\"14\" fill=\"#009af9\" fill-rule=\"evenodd\" fill-opacity=\"1\" stroke=\"#000000\" stroke-opacity=\"1\" stroke-width=\"4\"/>\n",
       "<circle clip-path=\"url(#clip382)\" cx=\"1190.08\" cy=\"1682.26\" r=\"14\" fill=\"#009af9\" fill-rule=\"evenodd\" fill-opacity=\"1\" stroke=\"#000000\" stroke-opacity=\"1\" stroke-width=\"4\"/>\n",
       "<circle clip-path=\"url(#clip382)\" cx=\"1196.98\" cy=\"1416.64\" r=\"14\" fill=\"#009af9\" fill-rule=\"evenodd\" fill-opacity=\"1\" stroke=\"#000000\" stroke-opacity=\"1\" stroke-width=\"4\"/>\n",
       "<circle clip-path=\"url(#clip382)\" cx=\"1174.64\" cy=\"1101.83\" r=\"14\" fill=\"#009af9\" fill-rule=\"evenodd\" fill-opacity=\"1\" stroke=\"#000000\" stroke-opacity=\"1\" stroke-width=\"4\"/>\n",
       "<circle clip-path=\"url(#clip382)\" cx=\"1331.02\" cy=\"1430.58\" r=\"14\" fill=\"#009af9\" fill-rule=\"evenodd\" fill-opacity=\"1\" stroke=\"#000000\" stroke-opacity=\"1\" stroke-width=\"4\"/>\n",
       "<circle clip-path=\"url(#clip382)\" cx=\"1382.9\" cy=\"1459.73\" r=\"14\" fill=\"#009af9\" fill-rule=\"evenodd\" fill-opacity=\"1\" stroke=\"#000000\" stroke-opacity=\"1\" stroke-width=\"4\"/>\n",
       "<circle clip-path=\"url(#clip382)\" cx=\"902.57\" cy=\"1580.9\" r=\"14\" fill=\"#009af9\" fill-rule=\"evenodd\" fill-opacity=\"1\" stroke=\"#000000\" stroke-opacity=\"1\" stroke-width=\"4\"/>\n",
       "<circle clip-path=\"url(#clip382)\" cx=\"1371.51\" cy=\"1340.97\" r=\"14\" fill=\"#009af9\" fill-rule=\"evenodd\" fill-opacity=\"1\" stroke=\"#000000\" stroke-opacity=\"1\" stroke-width=\"4\"/>\n",
       "<circle clip-path=\"url(#clip382)\" cx=\"1239.41\" cy=\"1508.72\" r=\"14\" fill=\"#009af9\" fill-rule=\"evenodd\" fill-opacity=\"1\" stroke=\"#000000\" stroke-opacity=\"1\" stroke-width=\"4\"/>\n",
       "<circle clip-path=\"url(#clip382)\" cx=\"1160.3\" cy=\"1386.79\" r=\"14\" fill=\"#009af9\" fill-rule=\"evenodd\" fill-opacity=\"1\" stroke=\"#000000\" stroke-opacity=\"1\" stroke-width=\"4\"/>\n",
       "<circle clip-path=\"url(#clip382)\" cx=\"1303.19\" cy=\"1365.07\" r=\"14\" fill=\"#009af9\" fill-rule=\"evenodd\" fill-opacity=\"1\" stroke=\"#000000\" stroke-opacity=\"1\" stroke-width=\"4\"/>\n",
       "<circle clip-path=\"url(#clip382)\" cx=\"1165.83\" cy=\"1223.21\" r=\"14\" fill=\"#009af9\" fill-rule=\"evenodd\" fill-opacity=\"1\" stroke=\"#000000\" stroke-opacity=\"1\" stroke-width=\"4\"/>\n",
       "<circle clip-path=\"url(#clip382)\" cx=\"1276.09\" cy=\"1372.02\" r=\"14\" fill=\"#009af9\" fill-rule=\"evenodd\" fill-opacity=\"1\" stroke=\"#000000\" stroke-opacity=\"1\" stroke-width=\"4\"/>\n",
       "<circle clip-path=\"url(#clip382)\" cx=\"1048.9\" cy=\"1259.37\" r=\"14\" fill=\"#009af9\" fill-rule=\"evenodd\" fill-opacity=\"1\" stroke=\"#000000\" stroke-opacity=\"1\" stroke-width=\"4\"/>\n",
       "<circle clip-path=\"url(#clip382)\" cx=\"1426.06\" cy=\"1534.77\" r=\"14\" fill=\"#009af9\" fill-rule=\"evenodd\" fill-opacity=\"1\" stroke=\"#000000\" stroke-opacity=\"1\" stroke-width=\"4\"/>\n",
       "<circle clip-path=\"url(#clip382)\" cx=\"1299.97\" cy=\"1578.4\" r=\"14\" fill=\"#009af9\" fill-rule=\"evenodd\" fill-opacity=\"1\" stroke=\"#000000\" stroke-opacity=\"1\" stroke-width=\"4\"/>\n",
       "<circle clip-path=\"url(#clip382)\" cx=\"1419.99\" cy=\"1280.01\" r=\"14\" fill=\"#009af9\" fill-rule=\"evenodd\" fill-opacity=\"1\" stroke=\"#000000\" stroke-opacity=\"1\" stroke-width=\"4\"/>\n",
       "<circle clip-path=\"url(#clip382)\" cx=\"1270.37\" cy=\"1518.85\" r=\"14\" fill=\"#009af9\" fill-rule=\"evenodd\" fill-opacity=\"1\" stroke=\"#000000\" stroke-opacity=\"1\" stroke-width=\"4\"/>\n",
       "<circle clip-path=\"url(#clip382)\" cx=\"1205.01\" cy=\"1615.58\" r=\"14\" fill=\"#009af9\" fill-rule=\"evenodd\" fill-opacity=\"1\" stroke=\"#000000\" stroke-opacity=\"1\" stroke-width=\"4\"/>\n",
       "<circle clip-path=\"url(#clip382)\" cx=\"1229.24\" cy=\"1275\" r=\"14\" fill=\"#009af9\" fill-rule=\"evenodd\" fill-opacity=\"1\" stroke=\"#000000\" stroke-opacity=\"1\" stroke-width=\"4\"/>\n",
       "<circle clip-path=\"url(#clip382)\" cx=\"1248.45\" cy=\"1423.89\" r=\"14\" fill=\"#009af9\" fill-rule=\"evenodd\" fill-opacity=\"1\" stroke=\"#000000\" stroke-opacity=\"1\" stroke-width=\"4\"/>\n",
       "<circle clip-path=\"url(#clip382)\" cx=\"1284.34\" cy=\"1524.89\" r=\"14\" fill=\"#009af9\" fill-rule=\"evenodd\" fill-opacity=\"1\" stroke=\"#000000\" stroke-opacity=\"1\" stroke-width=\"4\"/>\n",
       "<circle clip-path=\"url(#clip382)\" cx=\"1296.19\" cy=\"1552.07\" r=\"14\" fill=\"#009af9\" fill-rule=\"evenodd\" fill-opacity=\"1\" stroke=\"#000000\" stroke-opacity=\"1\" stroke-width=\"4\"/>\n",
       "<circle clip-path=\"url(#clip382)\" cx=\"1372.03\" cy=\"1339.93\" r=\"14\" fill=\"#009af9\" fill-rule=\"evenodd\" fill-opacity=\"1\" stroke=\"#000000\" stroke-opacity=\"1\" stroke-width=\"4\"/>\n",
       "<circle clip-path=\"url(#clip382)\" cx=\"1172.32\" cy=\"1578.25\" r=\"14\" fill=\"#009af9\" fill-rule=\"evenodd\" fill-opacity=\"1\" stroke=\"#000000\" stroke-opacity=\"1\" stroke-width=\"4\"/>\n",
       "<circle clip-path=\"url(#clip382)\" cx=\"1404.76\" cy=\"1601.41\" r=\"14\" fill=\"#009af9\" fill-rule=\"evenodd\" fill-opacity=\"1\" stroke=\"#000000\" stroke-opacity=\"1\" stroke-width=\"4\"/>\n",
       "<circle clip-path=\"url(#clip382)\" cx=\"1157.08\" cy=\"1555.22\" r=\"14\" fill=\"#009af9\" fill-rule=\"evenodd\" fill-opacity=\"1\" stroke=\"#000000\" stroke-opacity=\"1\" stroke-width=\"4\"/>\n",
       "<circle clip-path=\"url(#clip382)\" cx=\"1142.69\" cy=\"1421.25\" r=\"14\" fill=\"#009af9\" fill-rule=\"evenodd\" fill-opacity=\"1\" stroke=\"#000000\" stroke-opacity=\"1\" stroke-width=\"4\"/>\n",
       "<circle clip-path=\"url(#clip382)\" cx=\"1579.51\" cy=\"1224.28\" r=\"14\" fill=\"#009af9\" fill-rule=\"evenodd\" fill-opacity=\"1\" stroke=\"#000000\" stroke-opacity=\"1\" stroke-width=\"4\"/>\n",
       "<circle clip-path=\"url(#clip382)\" cx=\"1314.32\" cy=\"1560.35\" r=\"14\" fill=\"#009af9\" fill-rule=\"evenodd\" fill-opacity=\"1\" stroke=\"#000000\" stroke-opacity=\"1\" stroke-width=\"4\"/>\n",
       "<circle clip-path=\"url(#clip382)\" cx=\"1179.08\" cy=\"1473.82\" r=\"14\" fill=\"#009af9\" fill-rule=\"evenodd\" fill-opacity=\"1\" stroke=\"#000000\" stroke-opacity=\"1\" stroke-width=\"4\"/>\n",
       "<circle clip-path=\"url(#clip382)\" cx=\"1355.97\" cy=\"1275.67\" r=\"14\" fill=\"#009af9\" fill-rule=\"evenodd\" fill-opacity=\"1\" stroke=\"#000000\" stroke-opacity=\"1\" stroke-width=\"4\"/>\n",
       "<circle clip-path=\"url(#clip382)\" cx=\"1391.93\" cy=\"1304.32\" r=\"14\" fill=\"#009af9\" fill-rule=\"evenodd\" fill-opacity=\"1\" stroke=\"#000000\" stroke-opacity=\"1\" stroke-width=\"4\"/>\n",
       "<circle clip-path=\"url(#clip382)\" cx=\"1330.06\" cy=\"1384.09\" r=\"14\" fill=\"#009af9\" fill-rule=\"evenodd\" fill-opacity=\"1\" stroke=\"#000000\" stroke-opacity=\"1\" stroke-width=\"4\"/>\n",
       "<circle clip-path=\"url(#clip382)\" cx=\"1213.78\" cy=\"1321.25\" r=\"14\" fill=\"#009af9\" fill-rule=\"evenodd\" fill-opacity=\"1\" stroke=\"#000000\" stroke-opacity=\"1\" stroke-width=\"4\"/>\n",
       "<circle clip-path=\"url(#clip382)\" cx=\"1066.8\" cy=\"1234.37\" r=\"14\" fill=\"#009af9\" fill-rule=\"evenodd\" fill-opacity=\"1\" stroke=\"#000000\" stroke-opacity=\"1\" stroke-width=\"4\"/>\n",
       "<circle clip-path=\"url(#clip382)\" cx=\"1228.71\" cy=\"1374.17\" r=\"14\" fill=\"#009af9\" fill-rule=\"evenodd\" fill-opacity=\"1\" stroke=\"#000000\" stroke-opacity=\"1\" stroke-width=\"4\"/>\n",
       "<circle clip-path=\"url(#clip382)\" cx=\"1298.84\" cy=\"1394.82\" r=\"14\" fill=\"#009af9\" fill-rule=\"evenodd\" fill-opacity=\"1\" stroke=\"#000000\" stroke-opacity=\"1\" stroke-width=\"4\"/>\n",
       "<circle clip-path=\"url(#clip382)\" cx=\"1647.46\" cy=\"1373.34\" r=\"14\" fill=\"#009af9\" fill-rule=\"evenodd\" fill-opacity=\"1\" stroke=\"#000000\" stroke-opacity=\"1\" stroke-width=\"4\"/>\n",
       "<circle clip-path=\"url(#clip382)\" cx=\"1268.2\" cy=\"1472.73\" r=\"14\" fill=\"#009af9\" fill-rule=\"evenodd\" fill-opacity=\"1\" stroke=\"#000000\" stroke-opacity=\"1\" stroke-width=\"4\"/>\n",
       "<circle clip-path=\"url(#clip382)\" cx=\"1422.29\" cy=\"1332.77\" r=\"14\" fill=\"#009af9\" fill-rule=\"evenodd\" fill-opacity=\"1\" stroke=\"#000000\" stroke-opacity=\"1\" stroke-width=\"4\"/>\n",
       "<circle clip-path=\"url(#clip382)\" cx=\"1452.29\" cy=\"1465.95\" r=\"14\" fill=\"#009af9\" fill-rule=\"evenodd\" fill-opacity=\"1\" stroke=\"#000000\" stroke-opacity=\"1\" stroke-width=\"4\"/>\n",
       "<circle clip-path=\"url(#clip382)\" cx=\"1150.18\" cy=\"1455.54\" r=\"14\" fill=\"#009af9\" fill-rule=\"evenodd\" fill-opacity=\"1\" stroke=\"#000000\" stroke-opacity=\"1\" stroke-width=\"4\"/>\n",
       "<circle clip-path=\"url(#clip382)\" cx=\"1458.84\" cy=\"1358.54\" r=\"14\" fill=\"#009af9\" fill-rule=\"evenodd\" fill-opacity=\"1\" stroke=\"#000000\" stroke-opacity=\"1\" stroke-width=\"4\"/>\n",
       "<circle clip-path=\"url(#clip382)\" cx=\"1398.24\" cy=\"1746.21\" r=\"14\" fill=\"#009af9\" fill-rule=\"evenodd\" fill-opacity=\"1\" stroke=\"#000000\" stroke-opacity=\"1\" stroke-width=\"4\"/>\n",
       "<circle clip-path=\"url(#clip382)\" cx=\"1138.91\" cy=\"1376.92\" r=\"14\" fill=\"#009af9\" fill-rule=\"evenodd\" fill-opacity=\"1\" stroke=\"#000000\" stroke-opacity=\"1\" stroke-width=\"4\"/>\n",
       "<circle clip-path=\"url(#clip382)\" cx=\"1133.97\" cy=\"1410.41\" r=\"14\" fill=\"#009af9\" fill-rule=\"evenodd\" fill-opacity=\"1\" stroke=\"#000000\" stroke-opacity=\"1\" stroke-width=\"4\"/>\n",
       "<circle clip-path=\"url(#clip382)\" cx=\"1118.74\" cy=\"1678.89\" r=\"14\" fill=\"#009af9\" fill-rule=\"evenodd\" fill-opacity=\"1\" stroke=\"#000000\" stroke-opacity=\"1\" stroke-width=\"4\"/>\n",
       "<circle clip-path=\"url(#clip382)\" cx=\"1329.32\" cy=\"1491.53\" r=\"14\" fill=\"#009af9\" fill-rule=\"evenodd\" fill-opacity=\"1\" stroke=\"#000000\" stroke-opacity=\"1\" stroke-width=\"4\"/>\n",
       "<circle clip-path=\"url(#clip382)\" cx=\"986.64\" cy=\"1231.76\" r=\"14\" fill=\"#009af9\" fill-rule=\"evenodd\" fill-opacity=\"1\" stroke=\"#000000\" stroke-opacity=\"1\" stroke-width=\"4\"/>\n",
       "<circle clip-path=\"url(#clip382)\" cx=\"1199.75\" cy=\"1160.01\" r=\"14\" fill=\"#009af9\" fill-rule=\"evenodd\" fill-opacity=\"1\" stroke=\"#000000\" stroke-opacity=\"1\" stroke-width=\"4\"/>\n",
       "<circle clip-path=\"url(#clip382)\" cx=\"1207.76\" cy=\"1345.09\" r=\"14\" fill=\"#009af9\" fill-rule=\"evenodd\" fill-opacity=\"1\" stroke=\"#000000\" stroke-opacity=\"1\" stroke-width=\"4\"/>\n",
       "<circle clip-path=\"url(#clip382)\" cx=\"1469.38\" cy=\"1479.24\" r=\"14\" fill=\"#009af9\" fill-rule=\"evenodd\" fill-opacity=\"1\" stroke=\"#000000\" stroke-opacity=\"1\" stroke-width=\"4\"/>\n",
       "<circle clip-path=\"url(#clip382)\" cx=\"1197.21\" cy=\"1614.88\" r=\"14\" fill=\"#009af9\" fill-rule=\"evenodd\" fill-opacity=\"1\" stroke=\"#000000\" stroke-opacity=\"1\" stroke-width=\"4\"/>\n",
       "<circle clip-path=\"url(#clip382)\" cx=\"1346.42\" cy=\"1512.89\" r=\"14\" fill=\"#009af9\" fill-rule=\"evenodd\" fill-opacity=\"1\" stroke=\"#000000\" stroke-opacity=\"1\" stroke-width=\"4\"/>\n",
       "<circle clip-path=\"url(#clip382)\" cx=\"1189.27\" cy=\"1211.2\" r=\"14\" fill=\"#009af9\" fill-rule=\"evenodd\" fill-opacity=\"1\" stroke=\"#000000\" stroke-opacity=\"1\" stroke-width=\"4\"/>\n",
       "<circle clip-path=\"url(#clip382)\" cx=\"1131.55\" cy=\"1328.28\" r=\"14\" fill=\"#009af9\" fill-rule=\"evenodd\" fill-opacity=\"1\" stroke=\"#000000\" stroke-opacity=\"1\" stroke-width=\"4\"/>\n",
       "<circle clip-path=\"url(#clip382)\" cx=\"1264.01\" cy=\"1494.43\" r=\"14\" fill=\"#009af9\" fill-rule=\"evenodd\" fill-opacity=\"1\" stroke=\"#000000\" stroke-opacity=\"1\" stroke-width=\"4\"/>\n",
       "<circle clip-path=\"url(#clip382)\" cx=\"1150.74\" cy=\"1416.75\" r=\"14\" fill=\"#009af9\" fill-rule=\"evenodd\" fill-opacity=\"1\" stroke=\"#000000\" stroke-opacity=\"1\" stroke-width=\"4\"/>\n",
       "<circle clip-path=\"url(#clip382)\" cx=\"1170.4\" cy=\"1451.84\" r=\"14\" fill=\"#009af9\" fill-rule=\"evenodd\" fill-opacity=\"1\" stroke=\"#000000\" stroke-opacity=\"1\" stroke-width=\"4\"/>\n",
       "<circle clip-path=\"url(#clip382)\" cx=\"1198.57\" cy=\"1315.88\" r=\"14\" fill=\"#009af9\" fill-rule=\"evenodd\" fill-opacity=\"1\" stroke=\"#000000\" stroke-opacity=\"1\" stroke-width=\"4\"/>\n",
       "<circle clip-path=\"url(#clip382)\" cx=\"1205.58\" cy=\"1546.04\" r=\"14\" fill=\"#009af9\" fill-rule=\"evenodd\" fill-opacity=\"1\" stroke=\"#000000\" stroke-opacity=\"1\" stroke-width=\"4\"/>\n",
       "<circle clip-path=\"url(#clip382)\" cx=\"1142.03\" cy=\"1316.92\" r=\"14\" fill=\"#009af9\" fill-rule=\"evenodd\" fill-opacity=\"1\" stroke=\"#000000\" stroke-opacity=\"1\" stroke-width=\"4\"/>\n",
       "<circle clip-path=\"url(#clip382)\" cx=\"1165.61\" cy=\"1267.08\" r=\"14\" fill=\"#009af9\" fill-rule=\"evenodd\" fill-opacity=\"1\" stroke=\"#000000\" stroke-opacity=\"1\" stroke-width=\"4\"/>\n",
       "<circle clip-path=\"url(#clip382)\" cx=\"1048.08\" cy=\"1431.25\" r=\"14\" fill=\"#009af9\" fill-rule=\"evenodd\" fill-opacity=\"1\" stroke=\"#000000\" stroke-opacity=\"1\" stroke-width=\"4\"/>\n",
       "<circle clip-path=\"url(#clip382)\" cx=\"1373.35\" cy=\"1453.16\" r=\"14\" fill=\"#009af9\" fill-rule=\"evenodd\" fill-opacity=\"1\" stroke=\"#000000\" stroke-opacity=\"1\" stroke-width=\"4\"/>\n",
       "<circle clip-path=\"url(#clip382)\" cx=\"1268.98\" cy=\"1493.07\" r=\"14\" fill=\"#009af9\" fill-rule=\"evenodd\" fill-opacity=\"1\" stroke=\"#000000\" stroke-opacity=\"1\" stroke-width=\"4\"/>\n",
       "<circle clip-path=\"url(#clip382)\" cx=\"1297.84\" cy=\"1449.29\" r=\"14\" fill=\"#009af9\" fill-rule=\"evenodd\" fill-opacity=\"1\" stroke=\"#000000\" stroke-opacity=\"1\" stroke-width=\"4\"/>\n",
       "<circle clip-path=\"url(#clip382)\" cx=\"1450.49\" cy=\"1514.25\" r=\"14\" fill=\"#009af9\" fill-rule=\"evenodd\" fill-opacity=\"1\" stroke=\"#000000\" stroke-opacity=\"1\" stroke-width=\"4\"/>\n",
       "<circle clip-path=\"url(#clip382)\" cx=\"1335.42\" cy=\"1413.05\" r=\"14\" fill=\"#009af9\" fill-rule=\"evenodd\" fill-opacity=\"1\" stroke=\"#000000\" stroke-opacity=\"1\" stroke-width=\"4\"/>\n",
       "<circle clip-path=\"url(#clip382)\" cx=\"1167.78\" cy=\"1385.81\" r=\"14\" fill=\"#009af9\" fill-rule=\"evenodd\" fill-opacity=\"1\" stroke=\"#000000\" stroke-opacity=\"1\" stroke-width=\"4\"/>\n",
       "<circle clip-path=\"url(#clip382)\" cx=\"1120.79\" cy=\"1193.96\" r=\"14\" fill=\"#009af9\" fill-rule=\"evenodd\" fill-opacity=\"1\" stroke=\"#000000\" stroke-opacity=\"1\" stroke-width=\"4\"/>\n",
       "<circle clip-path=\"url(#clip382)\" cx=\"1238.93\" cy=\"1132.85\" r=\"14\" fill=\"#009af9\" fill-rule=\"evenodd\" fill-opacity=\"1\" stroke=\"#000000\" stroke-opacity=\"1\" stroke-width=\"4\"/>\n",
       "<circle clip-path=\"url(#clip382)\" cx=\"931.034\" cy=\"1524.53\" r=\"14\" fill=\"#009af9\" fill-rule=\"evenodd\" fill-opacity=\"1\" stroke=\"#000000\" stroke-opacity=\"1\" stroke-width=\"4\"/>\n",
       "<circle clip-path=\"url(#clip382)\" cx=\"1259.15\" cy=\"1325.06\" r=\"14\" fill=\"#009af9\" fill-rule=\"evenodd\" fill-opacity=\"1\" stroke=\"#000000\" stroke-opacity=\"1\" stroke-width=\"4\"/>\n",
       "<circle clip-path=\"url(#clip382)\" cx=\"1069.36\" cy=\"1430.19\" r=\"14\" fill=\"#009af9\" fill-rule=\"evenodd\" fill-opacity=\"1\" stroke=\"#000000\" stroke-opacity=\"1\" stroke-width=\"4\"/>\n",
       "<circle clip-path=\"url(#clip382)\" cx=\"1336.13\" cy=\"1223.69\" r=\"14\" fill=\"#009af9\" fill-rule=\"evenodd\" fill-opacity=\"1\" stroke=\"#000000\" stroke-opacity=\"1\" stroke-width=\"4\"/>\n",
       "<circle clip-path=\"url(#clip382)\" cx=\"1448.16\" cy=\"1300.05\" r=\"14\" fill=\"#009af9\" fill-rule=\"evenodd\" fill-opacity=\"1\" stroke=\"#000000\" stroke-opacity=\"1\" stroke-width=\"4\"/>\n",
       "<circle clip-path=\"url(#clip382)\" cx=\"1300.89\" cy=\"1160.51\" r=\"14\" fill=\"#009af9\" fill-rule=\"evenodd\" fill-opacity=\"1\" stroke=\"#000000\" stroke-opacity=\"1\" stroke-width=\"4\"/>\n",
       "<circle clip-path=\"url(#clip382)\" cx=\"1054.75\" cy=\"1605.96\" r=\"14\" fill=\"#009af9\" fill-rule=\"evenodd\" fill-opacity=\"1\" stroke=\"#000000\" stroke-opacity=\"1\" stroke-width=\"4\"/>\n",
       "<circle clip-path=\"url(#clip382)\" cx=\"1386.7\" cy=\"1209.55\" r=\"14\" fill=\"#009af9\" fill-rule=\"evenodd\" fill-opacity=\"1\" stroke=\"#000000\" stroke-opacity=\"1\" stroke-width=\"4\"/>\n",
       "<circle clip-path=\"url(#clip382)\" cx=\"1375.24\" cy=\"1671.18\" r=\"14\" fill=\"#009af9\" fill-rule=\"evenodd\" fill-opacity=\"1\" stroke=\"#000000\" stroke-opacity=\"1\" stroke-width=\"4\"/>\n",
       "<circle clip-path=\"url(#clip382)\" cx=\"1463.94\" cy=\"1469.63\" r=\"14\" fill=\"#009af9\" fill-rule=\"evenodd\" fill-opacity=\"1\" stroke=\"#000000\" stroke-opacity=\"1\" stroke-width=\"4\"/>\n",
       "<circle clip-path=\"url(#clip382)\" cx=\"1190.73\" cy=\"1491.31\" r=\"14\" fill=\"#009af9\" fill-rule=\"evenodd\" fill-opacity=\"1\" stroke=\"#000000\" stroke-opacity=\"1\" stroke-width=\"4\"/>\n",
       "<circle clip-path=\"url(#clip382)\" cx=\"1309.32\" cy=\"1364.05\" r=\"14\" fill=\"#009af9\" fill-rule=\"evenodd\" fill-opacity=\"1\" stroke=\"#000000\" stroke-opacity=\"1\" stroke-width=\"4\"/>\n",
       "<circle clip-path=\"url(#clip382)\" cx=\"1114.82\" cy=\"1723.43\" r=\"14\" fill=\"#009af9\" fill-rule=\"evenodd\" fill-opacity=\"1\" stroke=\"#000000\" stroke-opacity=\"1\" stroke-width=\"4\"/>\n",
       "<circle clip-path=\"url(#clip382)\" cx=\"1303.51\" cy=\"1351.07\" r=\"14\" fill=\"#009af9\" fill-rule=\"evenodd\" fill-opacity=\"1\" stroke=\"#000000\" stroke-opacity=\"1\" stroke-width=\"4\"/>\n",
       "<circle clip-path=\"url(#clip382)\" cx=\"1346.96\" cy=\"1433.41\" r=\"14\" fill=\"#009af9\" fill-rule=\"evenodd\" fill-opacity=\"1\" stroke=\"#000000\" stroke-opacity=\"1\" stroke-width=\"4\"/>\n",
       "<circle clip-path=\"url(#clip382)\" cx=\"1421.11\" cy=\"1596.61\" r=\"14\" fill=\"#009af9\" fill-rule=\"evenodd\" fill-opacity=\"1\" stroke=\"#000000\" stroke-opacity=\"1\" stroke-width=\"4\"/>\n",
       "<circle clip-path=\"url(#clip382)\" cx=\"1103.9\" cy=\"1382.11\" r=\"14\" fill=\"#009af9\" fill-rule=\"evenodd\" fill-opacity=\"1\" stroke=\"#000000\" stroke-opacity=\"1\" stroke-width=\"4\"/>\n",
       "<circle clip-path=\"url(#clip382)\" cx=\"1218.46\" cy=\"1306.92\" r=\"14\" fill=\"#009af9\" fill-rule=\"evenodd\" fill-opacity=\"1\" stroke=\"#000000\" stroke-opacity=\"1\" stroke-width=\"4\"/>\n",
       "</svg>\n"
      ]
     },
     "execution_count": 4,
     "metadata": {},
     "output_type": "execute_result"
    }
   ],
   "source": [
    "plot!(legend = false, grid = false, size = (500,500),\n",
    "       xlims = (-1.5,2.5), ylims = (-2,2))"
   ]
  },
  {
   "cell_type": "code",
   "execution_count": 6,
   "metadata": {},
   "outputs": [
    {
     "name": "stdout",
     "output_type": "stream",
     "text": [
      "Iteration 1: Jclust = 0.8742574111790731.\n",
      "Iteration 2: Jclust = 0.43608835640126214.\n",
      "Iteration 3: Jclust = 0.25265388075653317.\n",
      "Iteration 4: Jclust = 0.18261408240271113.\n",
      "Iteration 5: Jclust = 0.1758800199953573.\n",
      "Iteration 6: Jclust = 0.17584159072979355.\n",
      "Iteration 7: Jclust = 0.17584159072979355.\n"
     ]
    },
    {
     "data": {
      "text/plain": [
       "([3, 3, 3, 3, 3, 3, 3, 3, 3, 3  …  2, 2, 2, 2, 2, 2, 2, 2, 2, 2], [[1.0490597982237349, 1.029535112277031], [0.973739338294721, -1.0137676345576805], [0.04969920100593797, 0.03866974351372369]])"
      ]
     },
     "execution_count": 6,
     "metadata": {},
     "output_type": "execute_result"
    }
   ],
   "source": [
    "using LinearAlgebra\n",
    "assignment, reps = kmeansfunction(X, 3)   # call the funciton"
   ]
  },
  {
   "cell_type": "code",
   "execution_count": 7,
   "metadata": {},
   "outputs": [
    {
     "data": {
      "text/plain": [
       "300-element Vector{Int64}:\n",
       " 3\n",
       " 3\n",
       " 3\n",
       " 3\n",
       " 3\n",
       " 3\n",
       " 3\n",
       " 3\n",
       " 3\n",
       " 3\n",
       " 3\n",
       " 3\n",
       " 3\n",
       " ⋮\n",
       " 2\n",
       " 2\n",
       " 2\n",
       " 2\n",
       " 2\n",
       " 2\n",
       " 2\n",
       " 2\n",
       " 2\n",
       " 2\n",
       " 2\n",
       " 2"
      ]
     },
     "execution_count": 7,
     "metadata": {},
     "output_type": "execute_result"
    }
   ],
   "source": [
    "assignment"
   ]
  },
  {
   "cell_type": "code",
   "execution_count": 8,
   "metadata": {},
   "outputs": [
    {
     "data": {
      "text/plain": [
       "3-element Vector{Vector{Float64}}:\n",
       " [1.0490597982237349, 1.029535112277031]\n",
       " [0.973739338294721, -1.0137676345576805]\n",
       " [0.04969920100593797, 0.03866974351372369]"
      ]
     },
     "execution_count": 8,
     "metadata": {},
     "output_type": "execute_result"
    }
   ],
   "source": [
    "reps"
   ]
  },
  {
   "cell_type": "code",
   "execution_count": 12,
   "metadata": {},
   "outputs": [
    {
     "data": {
      "image/svg+xml": [
       "<?xml version=\"1.0\" encoding=\"utf-8\"?>\n",
       "<svg xmlns=\"http://www.w3.org/2000/svg\" xmlns:xlink=\"http://www.w3.org/1999/xlink\" width=\"600\" height=\"400\" viewBox=\"0 0 2400 1600\">\n",
       "<defs>\n",
       "  <clipPath id=\"clip540\">\n",
       "    <rect x=\"0\" y=\"0\" width=\"2400\" height=\"1600\"/>\n",
       "  </clipPath>\n",
       "</defs>\n",
       "<path clip-path=\"url(#clip540)\" d=\"\n",
       "M0 1600 L2400 1600 L2400 0 L0 0  Z\n",
       "  \" fill=\"#ffffff\" fill-rule=\"evenodd\" fill-opacity=\"1\"/>\n",
       "<defs>\n",
       "  <clipPath id=\"clip541\">\n",
       "    <rect x=\"480\" y=\"0\" width=\"1681\" height=\"1600\"/>\n",
       "  </clipPath>\n",
       "</defs>\n",
       "<path clip-path=\"url(#clip540)\" d=\"\n",
       "M193.936 1486.45 L2352.76 1486.45 L2352.76 47.2441 L193.936 47.2441  Z\n",
       "  \" fill=\"#ffffff\" fill-rule=\"evenodd\" fill-opacity=\"1\"/>\n",
       "<defs>\n",
       "  <clipPath id=\"clip542\">\n",
       "    <rect x=\"193\" y=\"47\" width=\"2160\" height=\"1440\"/>\n",
       "  </clipPath>\n",
       "</defs>\n",
       "<polyline clip-path=\"url(#clip542)\" style=\"stroke:#000000; stroke-linecap:butt; stroke-linejoin:round; stroke-width:2; stroke-opacity:0.1; fill:none\" points=\"\n",
       "  246.136,1486.45 246.136,47.2441 \n",
       "  \"/>\n",
       "<polyline clip-path=\"url(#clip542)\" style=\"stroke:#000000; stroke-linecap:butt; stroke-linejoin:round; stroke-width:2; stroke-opacity:0.1; fill:none\" points=\"\n",
       "  686.025,1486.45 686.025,47.2441 \n",
       "  \"/>\n",
       "<polyline clip-path=\"url(#clip542)\" style=\"stroke:#000000; stroke-linecap:butt; stroke-linejoin:round; stroke-width:2; stroke-opacity:0.1; fill:none\" points=\"\n",
       "  1125.91,1486.45 1125.91,47.2441 \n",
       "  \"/>\n",
       "<polyline clip-path=\"url(#clip542)\" style=\"stroke:#000000; stroke-linecap:butt; stroke-linejoin:round; stroke-width:2; stroke-opacity:0.1; fill:none\" points=\"\n",
       "  1565.8,1486.45 1565.8,47.2441 \n",
       "  \"/>\n",
       "<polyline clip-path=\"url(#clip542)\" style=\"stroke:#000000; stroke-linecap:butt; stroke-linejoin:round; stroke-width:2; stroke-opacity:0.1; fill:none\" points=\"\n",
       "  2005.69,1486.45 2005.69,47.2441 \n",
       "  \"/>\n",
       "<polyline clip-path=\"url(#clip540)\" style=\"stroke:#000000; stroke-linecap:butt; stroke-linejoin:round; stroke-width:4; stroke-opacity:1; fill:none\" points=\"\n",
       "  193.936,1486.45 2352.76,1486.45 \n",
       "  \"/>\n",
       "<polyline clip-path=\"url(#clip540)\" style=\"stroke:#000000; stroke-linecap:butt; stroke-linejoin:round; stroke-width:4; stroke-opacity:1; fill:none\" points=\"\n",
       "  246.136,1486.45 246.136,1467.55 \n",
       "  \"/>\n",
       "<polyline clip-path=\"url(#clip540)\" style=\"stroke:#000000; stroke-linecap:butt; stroke-linejoin:round; stroke-width:4; stroke-opacity:1; fill:none\" points=\"\n",
       "  686.025,1486.45 686.025,1467.55 \n",
       "  \"/>\n",
       "<polyline clip-path=\"url(#clip540)\" style=\"stroke:#000000; stroke-linecap:butt; stroke-linejoin:round; stroke-width:4; stroke-opacity:1; fill:none\" points=\"\n",
       "  1125.91,1486.45 1125.91,1467.55 \n",
       "  \"/>\n",
       "<polyline clip-path=\"url(#clip540)\" style=\"stroke:#000000; stroke-linecap:butt; stroke-linejoin:round; stroke-width:4; stroke-opacity:1; fill:none\" points=\"\n",
       "  1565.8,1486.45 1565.8,1467.55 \n",
       "  \"/>\n",
       "<polyline clip-path=\"url(#clip540)\" style=\"stroke:#000000; stroke-linecap:butt; stroke-linejoin:round; stroke-width:4; stroke-opacity:1; fill:none\" points=\"\n",
       "  2005.69,1486.45 2005.69,1467.55 \n",
       "  \"/>\n",
       "<path clip-path=\"url(#clip540)\" d=\"M193.162 1532.02 L222.838 1532.02 L222.838 1535.95 L193.162 1535.95 L193.162 1532.02 Z\" fill=\"#000000\" fill-rule=\"evenodd\" fill-opacity=\"1\" /><path clip-path=\"url(#clip540)\" d=\"M242.93 1517.37 Q239.319 1517.37 237.491 1520.93 Q235.685 1524.47 235.685 1531.6 Q235.685 1538.71 237.491 1542.27 Q239.319 1545.82 242.93 1545.82 Q246.565 1545.82 248.37 1542.27 Q250.199 1538.71 250.199 1531.6 Q250.199 1524.47 248.37 1520.93 Q246.565 1517.37 242.93 1517.37 M242.93 1513.66 Q248.74 1513.66 251.796 1518.27 Q254.875 1522.85 254.875 1531.6 Q254.875 1540.33 251.796 1544.94 Q248.74 1549.52 242.93 1549.52 Q237.12 1549.52 234.042 1544.94 Q230.986 1540.33 230.986 1531.6 Q230.986 1522.85 234.042 1518.27 Q237.12 1513.66 242.93 1513.66 Z\" fill=\"#000000\" fill-rule=\"evenodd\" fill-opacity=\"1\" /><path clip-path=\"url(#clip540)\" d=\"M263.092 1542.97 L267.977 1542.97 L267.977 1548.85 L263.092 1548.85 L263.092 1542.97 Z\" fill=\"#000000\" fill-rule=\"evenodd\" fill-opacity=\"1\" /><path clip-path=\"url(#clip540)\" d=\"M278.208 1514.29 L296.564 1514.29 L296.564 1518.22 L282.49 1518.22 L282.49 1526.7 Q283.509 1526.35 284.527 1526.19 Q285.546 1526 286.564 1526 Q292.351 1526 295.731 1529.17 Q299.111 1532.34 299.111 1537.76 Q299.111 1543.34 295.638 1546.44 Q292.166 1549.52 285.847 1549.52 Q283.671 1549.52 281.402 1549.15 Q279.157 1548.78 276.75 1548.04 L276.75 1543.34 Q278.833 1544.47 281.055 1545.03 Q283.277 1545.58 285.754 1545.58 Q289.759 1545.58 292.097 1543.48 Q294.435 1541.37 294.435 1537.76 Q294.435 1534.15 292.097 1532.04 Q289.759 1529.94 285.754 1529.94 Q283.879 1529.94 282.004 1530.35 Q280.152 1530.77 278.208 1531.65 L278.208 1514.29 Z\" fill=\"#000000\" fill-rule=\"evenodd\" fill-opacity=\"1\" /><path clip-path=\"url(#clip540)\" d=\"M663.41 1517.37 Q659.799 1517.37 657.97 1520.93 Q656.164 1524.47 656.164 1531.6 Q656.164 1538.71 657.97 1542.27 Q659.799 1545.82 663.41 1545.82 Q667.044 1545.82 668.849 1542.27 Q670.678 1538.71 670.678 1531.6 Q670.678 1524.47 668.849 1520.93 Q667.044 1517.37 663.41 1517.37 M663.41 1513.66 Q669.22 1513.66 672.275 1518.27 Q675.354 1522.85 675.354 1531.6 Q675.354 1540.33 672.275 1544.94 Q669.22 1549.52 663.41 1549.52 Q657.6 1549.52 654.521 1544.94 Q651.465 1540.33 651.465 1531.6 Q651.465 1522.85 654.521 1518.27 Q657.6 1513.66 663.41 1513.66 Z\" fill=\"#000000\" fill-rule=\"evenodd\" fill-opacity=\"1\" /><path clip-path=\"url(#clip540)\" d=\"M683.572 1542.97 L688.456 1542.97 L688.456 1548.85 L683.572 1548.85 L683.572 1542.97 Z\" fill=\"#000000\" fill-rule=\"evenodd\" fill-opacity=\"1\" /><path clip-path=\"url(#clip540)\" d=\"M708.641 1517.37 Q705.03 1517.37 703.201 1520.93 Q701.396 1524.47 701.396 1531.6 Q701.396 1538.71 703.201 1542.27 Q705.03 1545.82 708.641 1545.82 Q712.275 1545.82 714.081 1542.27 Q715.909 1538.71 715.909 1531.6 Q715.909 1524.47 714.081 1520.93 Q712.275 1517.37 708.641 1517.37 M708.641 1513.66 Q714.451 1513.66 717.507 1518.27 Q720.585 1522.85 720.585 1531.6 Q720.585 1540.33 717.507 1544.94 Q714.451 1549.52 708.641 1549.52 Q702.831 1549.52 699.752 1544.94 Q696.697 1540.33 696.697 1531.6 Q696.697 1522.85 699.752 1518.27 Q702.831 1513.66 708.641 1513.66 Z\" fill=\"#000000\" fill-rule=\"evenodd\" fill-opacity=\"1\" /><path clip-path=\"url(#clip540)\" d=\"M1103.8 1517.37 Q1100.19 1517.37 1098.36 1520.93 Q1096.55 1524.47 1096.55 1531.6 Q1096.55 1538.71 1098.36 1542.27 Q1100.19 1545.82 1103.8 1545.82 Q1107.43 1545.82 1109.24 1542.27 Q1111.06 1538.71 1111.06 1531.6 Q1111.06 1524.47 1109.24 1520.93 Q1107.43 1517.37 1103.8 1517.37 M1103.8 1513.66 Q1109.61 1513.66 1112.66 1518.27 Q1115.74 1522.85 1115.74 1531.6 Q1115.74 1540.33 1112.66 1544.94 Q1109.61 1549.52 1103.8 1549.52 Q1097.99 1549.52 1094.91 1544.94 Q1091.85 1540.33 1091.85 1531.6 Q1091.85 1522.85 1094.91 1518.27 Q1097.99 1513.66 1103.8 1513.66 Z\" fill=\"#000000\" fill-rule=\"evenodd\" fill-opacity=\"1\" /><path clip-path=\"url(#clip540)\" d=\"M1123.96 1542.97 L1128.84 1542.97 L1128.84 1548.85 L1123.96 1548.85 L1123.96 1542.97 Z\" fill=\"#000000\" fill-rule=\"evenodd\" fill-opacity=\"1\" /><path clip-path=\"url(#clip540)\" d=\"M1139.07 1514.29 L1157.43 1514.29 L1157.43 1518.22 L1143.36 1518.22 L1143.36 1526.7 Q1144.37 1526.35 1145.39 1526.19 Q1146.41 1526 1147.43 1526 Q1153.22 1526 1156.6 1529.17 Q1159.98 1532.34 1159.98 1537.76 Q1159.98 1543.34 1156.5 1546.44 Q1153.03 1549.52 1146.71 1549.52 Q1144.54 1549.52 1142.27 1549.15 Q1140.02 1548.78 1137.62 1548.04 L1137.62 1543.34 Q1139.7 1544.47 1141.92 1545.03 Q1144.14 1545.58 1146.62 1545.58 Q1150.62 1545.58 1152.96 1543.48 Q1155.3 1541.37 1155.3 1537.76 Q1155.3 1534.15 1152.96 1532.04 Q1150.62 1529.94 1146.62 1529.94 Q1144.75 1529.94 1142.87 1530.35 Q1141.02 1530.77 1139.07 1531.65 L1139.07 1514.29 Z\" fill=\"#000000\" fill-rule=\"evenodd\" fill-opacity=\"1\" /><path clip-path=\"url(#clip540)\" d=\"M1532.96 1544.91 L1540.6 1544.91 L1540.6 1518.55 L1532.28 1520.21 L1532.28 1515.95 L1540.55 1514.29 L1545.22 1514.29 L1545.22 1544.91 L1552.86 1544.91 L1552.86 1548.85 L1532.96 1548.85 L1532.96 1544.91 Z\" fill=\"#000000\" fill-rule=\"evenodd\" fill-opacity=\"1\" /><path clip-path=\"url(#clip540)\" d=\"M1562.31 1542.97 L1567.19 1542.97 L1567.19 1548.85 L1562.31 1548.85 L1562.31 1542.97 Z\" fill=\"#000000\" fill-rule=\"evenodd\" fill-opacity=\"1\" /><path clip-path=\"url(#clip540)\" d=\"M1587.38 1517.37 Q1583.77 1517.37 1581.94 1520.93 Q1580.13 1524.47 1580.13 1531.6 Q1580.13 1538.71 1581.94 1542.27 Q1583.77 1545.82 1587.38 1545.82 Q1591.01 1545.82 1592.82 1542.27 Q1594.65 1538.71 1594.65 1531.6 Q1594.65 1524.47 1592.82 1520.93 Q1591.01 1517.37 1587.38 1517.37 M1587.38 1513.66 Q1593.19 1513.66 1596.24 1518.27 Q1599.32 1522.85 1599.32 1531.6 Q1599.32 1540.33 1596.24 1544.94 Q1593.19 1549.52 1587.38 1549.52 Q1581.57 1549.52 1578.49 1544.94 Q1575.43 1540.33 1575.43 1531.6 Q1575.43 1522.85 1578.49 1518.27 Q1581.57 1513.66 1587.38 1513.66 Z\" fill=\"#000000\" fill-rule=\"evenodd\" fill-opacity=\"1\" /><path clip-path=\"url(#clip540)\" d=\"M1973.34 1544.91 L1980.98 1544.91 L1980.98 1518.55 L1972.67 1520.21 L1972.67 1515.95 L1980.94 1514.29 L1985.61 1514.29 L1985.61 1544.91 L1993.25 1544.91 L1993.25 1548.85 L1973.34 1548.85 L1973.34 1544.91 Z\" fill=\"#000000\" fill-rule=\"evenodd\" fill-opacity=\"1\" /><path clip-path=\"url(#clip540)\" d=\"M2002.69 1542.97 L2007.58 1542.97 L2007.58 1548.85 L2002.69 1548.85 L2002.69 1542.97 Z\" fill=\"#000000\" fill-rule=\"evenodd\" fill-opacity=\"1\" /><path clip-path=\"url(#clip540)\" d=\"M2017.81 1514.29 L2036.17 1514.29 L2036.17 1518.22 L2022.09 1518.22 L2022.09 1526.7 Q2023.11 1526.35 2024.13 1526.19 Q2025.15 1526 2026.17 1526 Q2031.95 1526 2035.33 1529.17 Q2038.71 1532.34 2038.71 1537.76 Q2038.71 1543.34 2035.24 1546.44 Q2031.77 1549.52 2025.45 1549.52 Q2023.27 1549.52 2021 1549.15 Q2018.76 1548.78 2016.35 1548.04 L2016.35 1543.34 Q2018.44 1544.47 2020.66 1545.03 Q2022.88 1545.58 2025.36 1545.58 Q2029.36 1545.58 2031.7 1543.48 Q2034.04 1541.37 2034.04 1537.76 Q2034.04 1534.15 2031.7 1532.04 Q2029.36 1529.94 2025.36 1529.94 Q2023.48 1529.94 2021.61 1530.35 Q2019.75 1530.77 2017.81 1531.65 L2017.81 1514.29 Z\" fill=\"#000000\" fill-rule=\"evenodd\" fill-opacity=\"1\" /><polyline clip-path=\"url(#clip542)\" style=\"stroke:#000000; stroke-linecap:butt; stroke-linejoin:round; stroke-width:2; stroke-opacity:0.1; fill:none\" points=\"\n",
       "  193.936,1349.87 2352.76,1349.87 \n",
       "  \"/>\n",
       "<polyline clip-path=\"url(#clip542)\" style=\"stroke:#000000; stroke-linecap:butt; stroke-linejoin:round; stroke-width:2; stroke-opacity:0.1; fill:none\" points=\"\n",
       "  193.936,1148.72 2352.76,1148.72 \n",
       "  \"/>\n",
       "<polyline clip-path=\"url(#clip542)\" style=\"stroke:#000000; stroke-linecap:butt; stroke-linejoin:round; stroke-width:2; stroke-opacity:0.1; fill:none\" points=\"\n",
       "  193.936,947.573 2352.76,947.573 \n",
       "  \"/>\n",
       "<polyline clip-path=\"url(#clip542)\" style=\"stroke:#000000; stroke-linecap:butt; stroke-linejoin:round; stroke-width:2; stroke-opacity:0.1; fill:none\" points=\"\n",
       "  193.936,746.425 2352.76,746.425 \n",
       "  \"/>\n",
       "<polyline clip-path=\"url(#clip542)\" style=\"stroke:#000000; stroke-linecap:butt; stroke-linejoin:round; stroke-width:2; stroke-opacity:0.1; fill:none\" points=\"\n",
       "  193.936,545.278 2352.76,545.278 \n",
       "  \"/>\n",
       "<polyline clip-path=\"url(#clip542)\" style=\"stroke:#000000; stroke-linecap:butt; stroke-linejoin:round; stroke-width:2; stroke-opacity:0.1; fill:none\" points=\"\n",
       "  193.936,344.13 2352.76,344.13 \n",
       "  \"/>\n",
       "<polyline clip-path=\"url(#clip542)\" style=\"stroke:#000000; stroke-linecap:butt; stroke-linejoin:round; stroke-width:2; stroke-opacity:0.1; fill:none\" points=\"\n",
       "  193.936,142.983 2352.76,142.983 \n",
       "  \"/>\n",
       "<polyline clip-path=\"url(#clip540)\" style=\"stroke:#000000; stroke-linecap:butt; stroke-linejoin:round; stroke-width:4; stroke-opacity:1; fill:none\" points=\"\n",
       "  193.936,1486.45 193.936,47.2441 \n",
       "  \"/>\n",
       "<polyline clip-path=\"url(#clip540)\" style=\"stroke:#000000; stroke-linecap:butt; stroke-linejoin:round; stroke-width:4; stroke-opacity:1; fill:none\" points=\"\n",
       "  193.936,1349.87 212.834,1349.87 \n",
       "  \"/>\n",
       "<polyline clip-path=\"url(#clip540)\" style=\"stroke:#000000; stroke-linecap:butt; stroke-linejoin:round; stroke-width:4; stroke-opacity:1; fill:none\" points=\"\n",
       "  193.936,1148.72 212.834,1148.72 \n",
       "  \"/>\n",
       "<polyline clip-path=\"url(#clip540)\" style=\"stroke:#000000; stroke-linecap:butt; stroke-linejoin:round; stroke-width:4; stroke-opacity:1; fill:none\" points=\"\n",
       "  193.936,947.573 212.834,947.573 \n",
       "  \"/>\n",
       "<polyline clip-path=\"url(#clip540)\" style=\"stroke:#000000; stroke-linecap:butt; stroke-linejoin:round; stroke-width:4; stroke-opacity:1; fill:none\" points=\"\n",
       "  193.936,746.425 212.834,746.425 \n",
       "  \"/>\n",
       "<polyline clip-path=\"url(#clip540)\" style=\"stroke:#000000; stroke-linecap:butt; stroke-linejoin:round; stroke-width:4; stroke-opacity:1; fill:none\" points=\"\n",
       "  193.936,545.278 212.834,545.278 \n",
       "  \"/>\n",
       "<polyline clip-path=\"url(#clip540)\" style=\"stroke:#000000; stroke-linecap:butt; stroke-linejoin:round; stroke-width:4; stroke-opacity:1; fill:none\" points=\"\n",
       "  193.936,344.13 212.834,344.13 \n",
       "  \"/>\n",
       "<polyline clip-path=\"url(#clip540)\" style=\"stroke:#000000; stroke-linecap:butt; stroke-linejoin:round; stroke-width:4; stroke-opacity:1; fill:none\" points=\"\n",
       "  193.936,142.983 212.834,142.983 \n",
       "  \"/>\n",
       "<path clip-path=\"url(#clip540)\" d=\"M51.9875 1350.32 L81.6633 1350.32 L81.6633 1354.25 L51.9875 1354.25 L51.9875 1350.32 Z\" fill=\"#000000\" fill-rule=\"evenodd\" fill-opacity=\"1\" /><path clip-path=\"url(#clip540)\" d=\"M92.566 1363.21 L100.205 1363.21 L100.205 1336.85 L91.8947 1338.51 L91.8947 1334.25 L100.159 1332.59 L104.834 1332.59 L104.834 1363.21 L112.473 1363.21 L112.473 1367.15 L92.566 1367.15 L92.566 1363.21 Z\" fill=\"#000000\" fill-rule=\"evenodd\" fill-opacity=\"1\" /><path clip-path=\"url(#clip540)\" d=\"M121.918 1361.27 L126.802 1361.27 L126.802 1367.15 L121.918 1367.15 L121.918 1361.27 Z\" fill=\"#000000\" fill-rule=\"evenodd\" fill-opacity=\"1\" /><path clip-path=\"url(#clip540)\" d=\"M137.033 1332.59 L155.39 1332.59 L155.39 1336.52 L141.316 1336.52 L141.316 1345 Q142.334 1344.65 143.353 1344.49 Q144.371 1344.3 145.39 1344.3 Q151.177 1344.3 154.556 1347.47 Q157.936 1350.64 157.936 1356.06 Q157.936 1361.64 154.464 1364.74 Q150.992 1367.82 144.672 1367.82 Q142.496 1367.82 140.228 1367.45 Q137.982 1367.08 135.575 1366.34 L135.575 1361.64 Q137.658 1362.77 139.881 1363.33 Q142.103 1363.88 144.58 1363.88 Q148.584 1363.88 150.922 1361.78 Q153.26 1359.67 153.26 1356.06 Q153.26 1352.45 150.922 1350.34 Q148.584 1348.24 144.58 1348.24 Q142.705 1348.24 140.83 1348.65 Q138.978 1349.07 137.033 1349.95 L137.033 1332.59 Z\" fill=\"#000000\" fill-rule=\"evenodd\" fill-opacity=\"1\" /><path clip-path=\"url(#clip540)\" d=\"M50.9921 1149.17 L80.6679 1149.17 L80.6679 1153.11 L50.9921 1153.11 L50.9921 1149.17 Z\" fill=\"#000000\" fill-rule=\"evenodd\" fill-opacity=\"1\" /><path clip-path=\"url(#clip540)\" d=\"M91.5706 1162.07 L99.2095 1162.07 L99.2095 1135.7 L90.8993 1137.37 L90.8993 1133.11 L99.1632 1131.44 L103.839 1131.44 L103.839 1162.07 L111.478 1162.07 L111.478 1166 L91.5706 1166 L91.5706 1162.07 Z\" fill=\"#000000\" fill-rule=\"evenodd\" fill-opacity=\"1\" /><path clip-path=\"url(#clip540)\" d=\"M120.922 1160.12 L125.807 1160.12 L125.807 1166 L120.922 1166 L120.922 1160.12 Z\" fill=\"#000000\" fill-rule=\"evenodd\" fill-opacity=\"1\" /><path clip-path=\"url(#clip540)\" d=\"M145.992 1134.52 Q142.381 1134.52 140.552 1138.08 Q138.746 1141.63 138.746 1148.75 Q138.746 1155.86 140.552 1159.43 Q142.381 1162.97 145.992 1162.97 Q149.626 1162.97 151.431 1159.43 Q153.26 1155.86 153.26 1148.75 Q153.26 1141.63 151.431 1138.08 Q149.626 1134.52 145.992 1134.52 M145.992 1130.82 Q151.802 1130.82 154.857 1135.42 Q157.936 1140.01 157.936 1148.75 Q157.936 1157.48 154.857 1162.09 Q151.802 1166.67 145.992 1166.67 Q140.181 1166.67 137.103 1162.09 Q134.047 1157.48 134.047 1148.75 Q134.047 1140.01 137.103 1135.42 Q140.181 1130.82 145.992 1130.82 Z\" fill=\"#000000\" fill-rule=\"evenodd\" fill-opacity=\"1\" /><path clip-path=\"url(#clip540)\" d=\"M51.9875 948.024 L81.6633 948.024 L81.6633 951.959 L51.9875 951.959 L51.9875 948.024 Z\" fill=\"#000000\" fill-rule=\"evenodd\" fill-opacity=\"1\" /><path clip-path=\"url(#clip540)\" d=\"M101.756 933.371 Q98.1447 933.371 96.316 936.936 Q94.5104 940.478 94.5104 947.608 Q94.5104 954.714 96.316 958.279 Q98.1447 961.82 101.756 961.82 Q105.39 961.82 107.196 958.279 Q109.024 954.714 109.024 947.608 Q109.024 940.478 107.196 936.936 Q105.39 933.371 101.756 933.371 M101.756 929.668 Q107.566 929.668 110.621 934.274 Q113.7 938.858 113.7 947.608 Q113.7 956.334 110.621 960.941 Q107.566 965.524 101.756 965.524 Q95.9456 965.524 92.8669 960.941 Q89.8114 956.334 89.8114 947.608 Q89.8114 938.858 92.8669 934.274 Q95.9456 929.668 101.756 929.668 Z\" fill=\"#000000\" fill-rule=\"evenodd\" fill-opacity=\"1\" /><path clip-path=\"url(#clip540)\" d=\"M121.918 958.973 L126.802 958.973 L126.802 964.853 L121.918 964.853 L121.918 958.973 Z\" fill=\"#000000\" fill-rule=\"evenodd\" fill-opacity=\"1\" /><path clip-path=\"url(#clip540)\" d=\"M137.033 930.293 L155.39 930.293 L155.39 934.228 L141.316 934.228 L141.316 942.7 Q142.334 942.353 143.353 942.191 Q144.371 942.006 145.39 942.006 Q151.177 942.006 154.556 945.177 Q157.936 948.348 157.936 953.765 Q157.936 959.344 154.464 962.445 Q150.992 965.524 144.672 965.524 Q142.496 965.524 140.228 965.154 Q137.982 964.783 135.575 964.043 L135.575 959.344 Q137.658 960.478 139.881 961.033 Q142.103 961.589 144.58 961.589 Q148.584 961.589 150.922 959.482 Q153.26 957.376 153.26 953.765 Q153.26 950.154 150.922 948.047 Q148.584 945.941 144.58 945.941 Q142.705 945.941 140.83 946.358 Q138.978 946.774 137.033 947.654 L137.033 930.293 Z\" fill=\"#000000\" fill-rule=\"evenodd\" fill-opacity=\"1\" /><path clip-path=\"url(#clip540)\" d=\"M100.76 732.224 Q97.1493 732.224 95.3206 735.789 Q93.515 739.33 93.515 746.46 Q93.515 753.566 95.3206 757.131 Q97.1493 760.673 100.76 760.673 Q104.395 760.673 106.2 757.131 Q108.029 753.566 108.029 746.46 Q108.029 739.33 106.2 735.789 Q104.395 732.224 100.76 732.224 M100.76 728.52 Q106.571 728.52 109.626 733.127 Q112.705 737.71 112.705 746.46 Q112.705 755.187 109.626 759.793 Q106.571 764.377 100.76 764.377 Q94.9502 764.377 91.8715 759.793 Q88.816 755.187 88.816 746.46 Q88.816 737.71 91.8715 733.127 Q94.9502 728.52 100.76 728.52 Z\" fill=\"#000000\" fill-rule=\"evenodd\" fill-opacity=\"1\" /><path clip-path=\"url(#clip540)\" d=\"M120.922 757.826 L125.807 757.826 L125.807 763.705 L120.922 763.705 L120.922 757.826 Z\" fill=\"#000000\" fill-rule=\"evenodd\" fill-opacity=\"1\" /><path clip-path=\"url(#clip540)\" d=\"M145.992 732.224 Q142.381 732.224 140.552 735.789 Q138.746 739.33 138.746 746.46 Q138.746 753.566 140.552 757.131 Q142.381 760.673 145.992 760.673 Q149.626 760.673 151.431 757.131 Q153.26 753.566 153.26 746.46 Q153.26 739.33 151.431 735.789 Q149.626 732.224 145.992 732.224 M145.992 728.52 Q151.802 728.52 154.857 733.127 Q157.936 737.71 157.936 746.46 Q157.936 755.187 154.857 759.793 Q151.802 764.377 145.992 764.377 Q140.181 764.377 137.103 759.793 Q134.047 755.187 134.047 746.46 Q134.047 737.71 137.103 733.127 Q140.181 728.52 145.992 728.52 Z\" fill=\"#000000\" fill-rule=\"evenodd\" fill-opacity=\"1\" /><path clip-path=\"url(#clip540)\" d=\"M101.756 531.077 Q98.1447 531.077 96.316 534.641 Q94.5104 538.183 94.5104 545.313 Q94.5104 552.419 96.316 555.984 Q98.1447 559.525 101.756 559.525 Q105.39 559.525 107.196 555.984 Q109.024 552.419 109.024 545.313 Q109.024 538.183 107.196 534.641 Q105.39 531.077 101.756 531.077 M101.756 527.373 Q107.566 527.373 110.621 531.979 Q113.7 536.563 113.7 545.313 Q113.7 554.039 110.621 558.646 Q107.566 563.229 101.756 563.229 Q95.9456 563.229 92.8669 558.646 Q89.8114 554.039 89.8114 545.313 Q89.8114 536.563 92.8669 531.979 Q95.9456 527.373 101.756 527.373 Z\" fill=\"#000000\" fill-rule=\"evenodd\" fill-opacity=\"1\" /><path clip-path=\"url(#clip540)\" d=\"M121.918 556.678 L126.802 556.678 L126.802 562.558 L121.918 562.558 L121.918 556.678 Z\" fill=\"#000000\" fill-rule=\"evenodd\" fill-opacity=\"1\" /><path clip-path=\"url(#clip540)\" d=\"M137.033 527.998 L155.39 527.998 L155.39 531.933 L141.316 531.933 L141.316 540.405 Q142.334 540.058 143.353 539.896 Q144.371 539.711 145.39 539.711 Q151.177 539.711 154.556 542.882 Q157.936 546.053 157.936 551.47 Q157.936 557.049 154.464 560.15 Q150.992 563.229 144.672 563.229 Q142.496 563.229 140.228 562.859 Q137.982 562.488 135.575 561.748 L135.575 557.049 Q137.658 558.183 139.881 558.738 Q142.103 559.294 144.58 559.294 Q148.584 559.294 150.922 557.187 Q153.26 555.081 153.26 551.47 Q153.26 547.859 150.922 545.752 Q148.584 543.646 144.58 543.646 Q142.705 543.646 140.83 544.063 Q138.978 544.479 137.033 545.359 L137.033 527.998 Z\" fill=\"#000000\" fill-rule=\"evenodd\" fill-opacity=\"1\" /><path clip-path=\"url(#clip540)\" d=\"M91.5706 357.475 L99.2095 357.475 L99.2095 331.11 L90.8993 332.776 L90.8993 328.517 L99.1632 326.85 L103.839 326.85 L103.839 357.475 L111.478 357.475 L111.478 361.41 L91.5706 361.41 L91.5706 357.475 Z\" fill=\"#000000\" fill-rule=\"evenodd\" fill-opacity=\"1\" /><path clip-path=\"url(#clip540)\" d=\"M120.922 355.531 L125.807 355.531 L125.807 361.41 L120.922 361.41 L120.922 355.531 Z\" fill=\"#000000\" fill-rule=\"evenodd\" fill-opacity=\"1\" /><path clip-path=\"url(#clip540)\" d=\"M145.992 329.929 Q142.381 329.929 140.552 333.494 Q138.746 337.035 138.746 344.165 Q138.746 351.272 140.552 354.836 Q142.381 358.378 145.992 358.378 Q149.626 358.378 151.431 354.836 Q153.26 351.272 153.26 344.165 Q153.26 337.035 151.431 333.494 Q149.626 329.929 145.992 329.929 M145.992 326.225 Q151.802 326.225 154.857 330.832 Q157.936 335.415 157.936 344.165 Q157.936 352.892 154.857 357.498 Q151.802 362.082 145.992 362.082 Q140.181 362.082 137.103 357.498 Q134.047 352.892 134.047 344.165 Q134.047 335.415 137.103 330.832 Q140.181 326.225 145.992 326.225 Z\" fill=\"#000000\" fill-rule=\"evenodd\" fill-opacity=\"1\" /><path clip-path=\"url(#clip540)\" d=\"M92.566 156.328 L100.205 156.328 L100.205 129.962 L91.8947 131.629 L91.8947 127.37 L100.159 125.703 L104.834 125.703 L104.834 156.328 L112.473 156.328 L112.473 160.263 L92.566 160.263 L92.566 156.328 Z\" fill=\"#000000\" fill-rule=\"evenodd\" fill-opacity=\"1\" /><path clip-path=\"url(#clip540)\" d=\"M121.918 154.383 L126.802 154.383 L126.802 160.263 L121.918 160.263 L121.918 154.383 Z\" fill=\"#000000\" fill-rule=\"evenodd\" fill-opacity=\"1\" /><path clip-path=\"url(#clip540)\" d=\"M137.033 125.703 L155.39 125.703 L155.39 129.638 L141.316 129.638 L141.316 138.11 Q142.334 137.763 143.353 137.601 Q144.371 137.416 145.39 137.416 Q151.177 137.416 154.556 140.587 Q157.936 143.758 157.936 149.175 Q157.936 154.754 154.464 157.855 Q150.992 160.934 144.672 160.934 Q142.496 160.934 140.228 160.564 Q137.982 160.193 135.575 159.453 L135.575 154.754 Q137.658 155.888 139.881 156.443 Q142.103 156.999 144.58 156.999 Q148.584 156.999 150.922 154.893 Q153.26 152.786 153.26 149.175 Q153.26 145.564 150.922 143.457 Q148.584 141.351 144.58 141.351 Q142.705 141.351 140.83 141.768 Q138.978 142.184 137.033 143.064 L137.033 125.703 Z\" fill=\"#000000\" fill-rule=\"evenodd\" fill-opacity=\"1\" /><circle clip-path=\"url(#clip542)\" cx=\"1899.33\" cy=\"293.196\" r=\"14\" fill=\"#009af9\" fill-rule=\"evenodd\" fill-opacity=\"1\" stroke=\"#000000\" stroke-opacity=\"1\" stroke-width=\"3.2\"/>\n",
       "<circle clip-path=\"url(#clip542)\" cx=\"1008.45\" cy=\"241.978\" r=\"14\" fill=\"#009af9\" fill-rule=\"evenodd\" fill-opacity=\"1\" stroke=\"#000000\" stroke-opacity=\"1\" stroke-width=\"3.2\"/>\n",
       "<circle clip-path=\"url(#clip542)\" cx=\"1564.22\" cy=\"212.266\" r=\"14\" fill=\"#009af9\" fill-rule=\"evenodd\" fill-opacity=\"1\" stroke=\"#000000\" stroke-opacity=\"1\" stroke-width=\"3.2\"/>\n",
       "<circle clip-path=\"url(#clip542)\" cx=\"1333.65\" cy=\"376.642\" r=\"14\" fill=\"#009af9\" fill-rule=\"evenodd\" fill-opacity=\"1\" stroke=\"#000000\" stroke-opacity=\"1\" stroke-width=\"3.2\"/>\n",
       "<circle clip-path=\"url(#clip542)\" cx=\"1391\" cy=\"298.49\" r=\"14\" fill=\"#009af9\" fill-rule=\"evenodd\" fill-opacity=\"1\" stroke=\"#000000\" stroke-opacity=\"1\" stroke-width=\"3.2\"/>\n",
       "<circle clip-path=\"url(#clip542)\" cx=\"1456.63\" cy=\"415.698\" r=\"14\" fill=\"#009af9\" fill-rule=\"evenodd\" fill-opacity=\"1\" stroke=\"#000000\" stroke-opacity=\"1\" stroke-width=\"3.2\"/>\n",
       "<circle clip-path=\"url(#clip542)\" cx=\"1573.39\" cy=\"462.279\" r=\"14\" fill=\"#009af9\" fill-rule=\"evenodd\" fill-opacity=\"1\" stroke=\"#000000\" stroke-opacity=\"1\" stroke-width=\"3.2\"/>\n",
       "<circle clip-path=\"url(#clip542)\" cx=\"1402\" cy=\"235.619\" r=\"14\" fill=\"#009af9\" fill-rule=\"evenodd\" fill-opacity=\"1\" stroke=\"#000000\" stroke-opacity=\"1\" stroke-width=\"3.2\"/>\n",
       "<circle clip-path=\"url(#clip542)\" cx=\"1570.35\" cy=\"449.708\" r=\"14\" fill=\"#009af9\" fill-rule=\"evenodd\" fill-opacity=\"1\" stroke=\"#000000\" stroke-opacity=\"1\" stroke-width=\"3.2\"/>\n",
       "<circle clip-path=\"url(#clip542)\" cx=\"1578.34\" cy=\"400.672\" r=\"14\" fill=\"#009af9\" fill-rule=\"evenodd\" fill-opacity=\"1\" stroke=\"#000000\" stroke-opacity=\"1\" stroke-width=\"3.2\"/>\n",
       "<circle clip-path=\"url(#clip542)\" cx=\"1913.45\" cy=\"439.208\" r=\"14\" fill=\"#009af9\" fill-rule=\"evenodd\" fill-opacity=\"1\" stroke=\"#000000\" stroke-opacity=\"1\" stroke-width=\"3.2\"/>\n",
       "<circle clip-path=\"url(#clip542)\" cx=\"1553.41\" cy=\"427.806\" r=\"14\" fill=\"#009af9\" fill-rule=\"evenodd\" fill-opacity=\"1\" stroke=\"#000000\" stroke-opacity=\"1\" stroke-width=\"3.2\"/>\n",
       "<circle clip-path=\"url(#clip542)\" cx=\"1481.02\" cy=\"595.962\" r=\"14\" fill=\"#009af9\" fill-rule=\"evenodd\" fill-opacity=\"1\" stroke=\"#000000\" stroke-opacity=\"1\" stroke-width=\"3.2\"/>\n",
       "<circle clip-path=\"url(#clip542)\" cx=\"1176.56\" cy=\"419.443\" r=\"14\" fill=\"#009af9\" fill-rule=\"evenodd\" fill-opacity=\"1\" stroke=\"#000000\" stroke-opacity=\"1\" stroke-width=\"3.2\"/>\n",
       "<circle clip-path=\"url(#clip542)\" cx=\"1530.03\" cy=\"360.886\" r=\"14\" fill=\"#009af9\" fill-rule=\"evenodd\" fill-opacity=\"1\" stroke=\"#000000\" stroke-opacity=\"1\" stroke-width=\"3.2\"/>\n",
       "<circle clip-path=\"url(#clip542)\" cx=\"1429.66\" cy=\"256.771\" r=\"14\" fill=\"#009af9\" fill-rule=\"evenodd\" fill-opacity=\"1\" stroke=\"#000000\" stroke-opacity=\"1\" stroke-width=\"3.2\"/>\n",
       "<circle clip-path=\"url(#clip542)\" cx=\"1257.72\" cy=\"222.98\" r=\"14\" fill=\"#009af9\" fill-rule=\"evenodd\" fill-opacity=\"1\" stroke=\"#000000\" stroke-opacity=\"1\" stroke-width=\"3.2\"/>\n",
       "<circle clip-path=\"url(#clip542)\" cx=\"1364.43\" cy=\"259.998\" r=\"14\" fill=\"#009af9\" fill-rule=\"evenodd\" fill-opacity=\"1\" stroke=\"#000000\" stroke-opacity=\"1\" stroke-width=\"3.2\"/>\n",
       "<circle clip-path=\"url(#clip542)\" cx=\"1883.45\" cy=\"202.605\" r=\"14\" fill=\"#009af9\" fill-rule=\"evenodd\" fill-opacity=\"1\" stroke=\"#000000\" stroke-opacity=\"1\" stroke-width=\"3.2\"/>\n",
       "<circle clip-path=\"url(#clip542)\" cx=\"1434.2\" cy=\"290.019\" r=\"14\" fill=\"#009af9\" fill-rule=\"evenodd\" fill-opacity=\"1\" stroke=\"#000000\" stroke-opacity=\"1\" stroke-width=\"3.2\"/>\n",
       "<circle clip-path=\"url(#clip542)\" cx=\"1734.4\" cy=\"443.561\" r=\"14\" fill=\"#009af9\" fill-rule=\"evenodd\" fill-opacity=\"1\" stroke=\"#000000\" stroke-opacity=\"1\" stroke-width=\"3.2\"/>\n",
       "<circle clip-path=\"url(#clip542)\" cx=\"2064.76\" cy=\"87.9763\" r=\"14\" fill=\"#009af9\" fill-rule=\"evenodd\" fill-opacity=\"1\" stroke=\"#000000\" stroke-opacity=\"1\" stroke-width=\"3.2\"/>\n",
       "<circle clip-path=\"url(#clip542)\" cx=\"1739.83\" cy=\"420.602\" r=\"14\" fill=\"#009af9\" fill-rule=\"evenodd\" fill-opacity=\"1\" stroke=\"#000000\" stroke-opacity=\"1\" stroke-width=\"3.2\"/>\n",
       "<circle clip-path=\"url(#clip542)\" cx=\"1862.17\" cy=\"233.358\" r=\"14\" fill=\"#009af9\" fill-rule=\"evenodd\" fill-opacity=\"1\" stroke=\"#000000\" stroke-opacity=\"1\" stroke-width=\"3.2\"/>\n",
       "<circle clip-path=\"url(#clip542)\" cx=\"1604.3\" cy=\"463.025\" r=\"14\" fill=\"#009af9\" fill-rule=\"evenodd\" fill-opacity=\"1\" stroke=\"#000000\" stroke-opacity=\"1\" stroke-width=\"3.2\"/>\n",
       "<circle clip-path=\"url(#clip542)\" cx=\"1210.95\" cy=\"305.637\" r=\"14\" fill=\"#009af9\" fill-rule=\"evenodd\" fill-opacity=\"1\" stroke=\"#000000\" stroke-opacity=\"1\" stroke-width=\"3.2\"/>\n",
       "<circle clip-path=\"url(#clip542)\" cx=\"1775.78\" cy=\"385.158\" r=\"14\" fill=\"#009af9\" fill-rule=\"evenodd\" fill-opacity=\"1\" stroke=\"#000000\" stroke-opacity=\"1\" stroke-width=\"3.2\"/>\n",
       "<circle clip-path=\"url(#clip542)\" cx=\"1706.94\" cy=\"273.906\" r=\"14\" fill=\"#009af9\" fill-rule=\"evenodd\" fill-opacity=\"1\" stroke=\"#000000\" stroke-opacity=\"1\" stroke-width=\"3.2\"/>\n",
       "<circle clip-path=\"url(#clip542)\" cx=\"1470.36\" cy=\"316.019\" r=\"14\" fill=\"#009af9\" fill-rule=\"evenodd\" fill-opacity=\"1\" stroke=\"#000000\" stroke-opacity=\"1\" stroke-width=\"3.2\"/>\n",
       "<circle clip-path=\"url(#clip542)\" cx=\"1494.03\" cy=\"471.197\" r=\"14\" fill=\"#009af9\" fill-rule=\"evenodd\" fill-opacity=\"1\" stroke=\"#000000\" stroke-opacity=\"1\" stroke-width=\"3.2\"/>\n",
       "<circle clip-path=\"url(#clip542)\" cx=\"1322.63\" cy=\"432.12\" r=\"14\" fill=\"#009af9\" fill-rule=\"evenodd\" fill-opacity=\"1\" stroke=\"#000000\" stroke-opacity=\"1\" stroke-width=\"3.2\"/>\n",
       "<circle clip-path=\"url(#clip542)\" cx=\"1444.11\" cy=\"139.735\" r=\"14\" fill=\"#009af9\" fill-rule=\"evenodd\" fill-opacity=\"1\" stroke=\"#000000\" stroke-opacity=\"1\" stroke-width=\"3.2\"/>\n",
       "<circle clip-path=\"url(#clip542)\" cx=\"1899.7\" cy=\"258.822\" r=\"14\" fill=\"#009af9\" fill-rule=\"evenodd\" fill-opacity=\"1\" stroke=\"#000000\" stroke-opacity=\"1\" stroke-width=\"3.2\"/>\n",
       "<circle clip-path=\"url(#clip542)\" cx=\"1988.27\" cy=\"376.342\" r=\"14\" fill=\"#009af9\" fill-rule=\"evenodd\" fill-opacity=\"1\" stroke=\"#000000\" stroke-opacity=\"1\" stroke-width=\"3.2\"/>\n",
       "<circle clip-path=\"url(#clip542)\" cx=\"1261.19\" cy=\"420.28\" r=\"14\" fill=\"#009af9\" fill-rule=\"evenodd\" fill-opacity=\"1\" stroke=\"#000000\" stroke-opacity=\"1\" stroke-width=\"3.2\"/>\n",
       "<circle clip-path=\"url(#clip542)\" cx=\"1344.1\" cy=\"171.588\" r=\"14\" fill=\"#009af9\" fill-rule=\"evenodd\" fill-opacity=\"1\" stroke=\"#000000\" stroke-opacity=\"1\" stroke-width=\"3.2\"/>\n",
       "<circle clip-path=\"url(#clip542)\" cx=\"1803.78\" cy=\"256.139\" r=\"14\" fill=\"#009af9\" fill-rule=\"evenodd\" fill-opacity=\"1\" stroke=\"#000000\" stroke-opacity=\"1\" stroke-width=\"3.2\"/>\n",
       "<circle clip-path=\"url(#clip542)\" cx=\"1846.79\" cy=\"191.854\" r=\"14\" fill=\"#009af9\" fill-rule=\"evenodd\" fill-opacity=\"1\" stroke=\"#000000\" stroke-opacity=\"1\" stroke-width=\"3.2\"/>\n",
       "<circle clip-path=\"url(#clip542)\" cx=\"1744.28\" cy=\"431.2\" r=\"14\" fill=\"#009af9\" fill-rule=\"evenodd\" fill-opacity=\"1\" stroke=\"#000000\" stroke-opacity=\"1\" stroke-width=\"3.2\"/>\n",
       "<circle clip-path=\"url(#clip542)\" cx=\"1891.83\" cy=\"315.079\" r=\"14\" fill=\"#009af9\" fill-rule=\"evenodd\" fill-opacity=\"1\" stroke=\"#000000\" stroke-opacity=\"1\" stroke-width=\"3.2\"/>\n",
       "<circle clip-path=\"url(#clip542)\" cx=\"1281.32\" cy=\"187.853\" r=\"14\" fill=\"#009af9\" fill-rule=\"evenodd\" fill-opacity=\"1\" stroke=\"#000000\" stroke-opacity=\"1\" stroke-width=\"3.2\"/>\n",
       "<circle clip-path=\"url(#clip542)\" cx=\"1586.66\" cy=\"461.061\" r=\"14\" fill=\"#009af9\" fill-rule=\"evenodd\" fill-opacity=\"1\" stroke=\"#000000\" stroke-opacity=\"1\" stroke-width=\"3.2\"/>\n",
       "<circle clip-path=\"url(#clip542)\" cx=\"1303.11\" cy=\"287.325\" r=\"14\" fill=\"#009af9\" fill-rule=\"evenodd\" fill-opacity=\"1\" stroke=\"#000000\" stroke-opacity=\"1\" stroke-width=\"3.2\"/>\n",
       "<circle clip-path=\"url(#clip542)\" cx=\"1547.12\" cy=\"505.226\" r=\"14\" fill=\"#009af9\" fill-rule=\"evenodd\" fill-opacity=\"1\" stroke=\"#000000\" stroke-opacity=\"1\" stroke-width=\"3.2\"/>\n",
       "<circle clip-path=\"url(#clip542)\" cx=\"2092.48\" cy=\"570.943\" r=\"14\" fill=\"#009af9\" fill-rule=\"evenodd\" fill-opacity=\"1\" stroke=\"#000000\" stroke-opacity=\"1\" stroke-width=\"3.2\"/>\n",
       "<circle clip-path=\"url(#clip542)\" cx=\"1512.68\" cy=\"323.57\" r=\"14\" fill=\"#009af9\" fill-rule=\"evenodd\" fill-opacity=\"1\" stroke=\"#000000\" stroke-opacity=\"1\" stroke-width=\"3.2\"/>\n",
       "<circle clip-path=\"url(#clip542)\" cx=\"2031.84\" cy=\"259.285\" r=\"14\" fill=\"#009af9\" fill-rule=\"evenodd\" fill-opacity=\"1\" stroke=\"#000000\" stroke-opacity=\"1\" stroke-width=\"3.2\"/>\n",
       "<circle clip-path=\"url(#clip542)\" cx=\"1630.49\" cy=\"359.387\" r=\"14\" fill=\"#009af9\" fill-rule=\"evenodd\" fill-opacity=\"1\" stroke=\"#000000\" stroke-opacity=\"1\" stroke-width=\"3.2\"/>\n",
       "<circle clip-path=\"url(#clip542)\" cx=\"1811.27\" cy=\"100.452\" r=\"14\" fill=\"#009af9\" fill-rule=\"evenodd\" fill-opacity=\"1\" stroke=\"#000000\" stroke-opacity=\"1\" stroke-width=\"3.2\"/>\n",
       "<circle clip-path=\"url(#clip542)\" cx=\"1574.12\" cy=\"208.226\" r=\"14\" fill=\"#009af9\" fill-rule=\"evenodd\" fill-opacity=\"1\" stroke=\"#000000\" stroke-opacity=\"1\" stroke-width=\"3.2\"/>\n",
       "<circle clip-path=\"url(#clip542)\" cx=\"1707.08\" cy=\"337.01\" r=\"14\" fill=\"#009af9\" fill-rule=\"evenodd\" fill-opacity=\"1\" stroke=\"#000000\" stroke-opacity=\"1\" stroke-width=\"3.2\"/>\n",
       "<circle clip-path=\"url(#clip542)\" cx=\"1437.88\" cy=\"503.045\" r=\"14\" fill=\"#009af9\" fill-rule=\"evenodd\" fill-opacity=\"1\" stroke=\"#000000\" stroke-opacity=\"1\" stroke-width=\"3.2\"/>\n",
       "<circle clip-path=\"url(#clip542)\" cx=\"1496.62\" cy=\"556.11\" r=\"14\" fill=\"#009af9\" fill-rule=\"evenodd\" fill-opacity=\"1\" stroke=\"#000000\" stroke-opacity=\"1\" stroke-width=\"3.2\"/>\n",
       "<circle clip-path=\"url(#clip542)\" cx=\"1213.58\" cy=\"473.423\" r=\"14\" fill=\"#009af9\" fill-rule=\"evenodd\" fill-opacity=\"1\" stroke=\"#000000\" stroke-opacity=\"1\" stroke-width=\"3.2\"/>\n",
       "<circle clip-path=\"url(#clip542)\" cx=\"1842.73\" cy=\"130.446\" r=\"14\" fill=\"#009af9\" fill-rule=\"evenodd\" fill-opacity=\"1\" stroke=\"#000000\" stroke-opacity=\"1\" stroke-width=\"3.2\"/>\n",
       "<circle clip-path=\"url(#clip542)\" cx=\"1819.63\" cy=\"359.694\" r=\"14\" fill=\"#009af9\" fill-rule=\"evenodd\" fill-opacity=\"1\" stroke=\"#000000\" stroke-opacity=\"1\" stroke-width=\"3.2\"/>\n",
       "<circle clip-path=\"url(#clip542)\" cx=\"1347.12\" cy=\"316.904\" r=\"14\" fill=\"#009af9\" fill-rule=\"evenodd\" fill-opacity=\"1\" stroke=\"#000000\" stroke-opacity=\"1\" stroke-width=\"3.2\"/>\n",
       "<circle clip-path=\"url(#clip542)\" cx=\"1457.05\" cy=\"149.043\" r=\"14\" fill=\"#009af9\" fill-rule=\"evenodd\" fill-opacity=\"1\" stroke=\"#000000\" stroke-opacity=\"1\" stroke-width=\"3.2\"/>\n",
       "<circle clip-path=\"url(#clip542)\" cx=\"1923.93\" cy=\"256.144\" r=\"14\" fill=\"#009af9\" fill-rule=\"evenodd\" fill-opacity=\"1\" stroke=\"#000000\" stroke-opacity=\"1\" stroke-width=\"3.2\"/>\n",
       "<circle clip-path=\"url(#clip542)\" cx=\"1587.29\" cy=\"362.399\" r=\"14\" fill=\"#009af9\" fill-rule=\"evenodd\" fill-opacity=\"1\" stroke=\"#000000\" stroke-opacity=\"1\" stroke-width=\"3.2\"/>\n",
       "<circle clip-path=\"url(#clip542)\" cx=\"1612.18\" cy=\"218.098\" r=\"14\" fill=\"#009af9\" fill-rule=\"evenodd\" fill-opacity=\"1\" stroke=\"#000000\" stroke-opacity=\"1\" stroke-width=\"3.2\"/>\n",
       "<circle clip-path=\"url(#clip542)\" cx=\"2264.32\" cy=\"339.397\" r=\"14\" fill=\"#009af9\" fill-rule=\"evenodd\" fill-opacity=\"1\" stroke=\"#000000\" stroke-opacity=\"1\" stroke-width=\"3.2\"/>\n",
       "<circle clip-path=\"url(#clip542)\" cx=\"1249.65\" cy=\"401.274\" r=\"14\" fill=\"#009af9\" fill-rule=\"evenodd\" fill-opacity=\"1\" stroke=\"#000000\" stroke-opacity=\"1\" stroke-width=\"3.2\"/>\n",
       "<circle clip-path=\"url(#clip542)\" cx=\"1896.64\" cy=\"179.727\" r=\"14\" fill=\"#009af9\" fill-rule=\"evenodd\" fill-opacity=\"1\" stroke=\"#000000\" stroke-opacity=\"1\" stroke-width=\"3.2\"/>\n",
       "<circle clip-path=\"url(#clip542)\" cx=\"1815.76\" cy=\"325.339\" r=\"14\" fill=\"#009af9\" fill-rule=\"evenodd\" fill-opacity=\"1\" stroke=\"#000000\" stroke-opacity=\"1\" stroke-width=\"3.2\"/>\n",
       "<circle clip-path=\"url(#clip542)\" cx=\"1909.54\" cy=\"255.613\" r=\"14\" fill=\"#009af9\" fill-rule=\"evenodd\" fill-opacity=\"1\" stroke=\"#000000\" stroke-opacity=\"1\" stroke-width=\"3.2\"/>\n",
       "<circle clip-path=\"url(#clip542)\" cx=\"1888.32\" cy=\"188.796\" r=\"14\" fill=\"#009af9\" fill-rule=\"evenodd\" fill-opacity=\"1\" stroke=\"#000000\" stroke-opacity=\"1\" stroke-width=\"3.2\"/>\n",
       "<circle clip-path=\"url(#clip542)\" cx=\"1264.34\" cy=\"294.952\" r=\"14\" fill=\"#009af9\" fill-rule=\"evenodd\" fill-opacity=\"1\" stroke=\"#000000\" stroke-opacity=\"1\" stroke-width=\"3.2\"/>\n",
       "<circle clip-path=\"url(#clip542)\" cx=\"1889.61\" cy=\"208.091\" r=\"14\" fill=\"#009af9\" fill-rule=\"evenodd\" fill-opacity=\"1\" stroke=\"#000000\" stroke-opacity=\"1\" stroke-width=\"3.2\"/>\n",
       "<circle clip-path=\"url(#clip542)\" cx=\"1629.05\" cy=\"351.847\" r=\"14\" fill=\"#009af9\" fill-rule=\"evenodd\" fill-opacity=\"1\" stroke=\"#000000\" stroke-opacity=\"1\" stroke-width=\"3.2\"/>\n",
       "<circle clip-path=\"url(#clip542)\" cx=\"1972.06\" cy=\"259.267\" r=\"14\" fill=\"#009af9\" fill-rule=\"evenodd\" fill-opacity=\"1\" stroke=\"#000000\" stroke-opacity=\"1\" stroke-width=\"3.2\"/>\n",
       "<circle clip-path=\"url(#clip542)\" cx=\"1509.16\" cy=\"516.143\" r=\"14\" fill=\"#009af9\" fill-rule=\"evenodd\" fill-opacity=\"1\" stroke=\"#000000\" stroke-opacity=\"1\" stroke-width=\"3.2\"/>\n",
       "<circle clip-path=\"url(#clip542)\" cx=\"1852.03\" cy=\"174.485\" r=\"14\" fill=\"#009af9\" fill-rule=\"evenodd\" fill-opacity=\"1\" stroke=\"#000000\" stroke-opacity=\"1\" stroke-width=\"3.2\"/>\n",
       "<circle clip-path=\"url(#clip542)\" cx=\"964.489\" cy=\"294.056\" r=\"14\" fill=\"#009af9\" fill-rule=\"evenodd\" fill-opacity=\"1\" stroke=\"#000000\" stroke-opacity=\"1\" stroke-width=\"3.2\"/>\n",
       "<circle clip-path=\"url(#clip542)\" cx=\"1010.18\" cy=\"324.999\" r=\"14\" fill=\"#009af9\" fill-rule=\"evenodd\" fill-opacity=\"1\" stroke=\"#000000\" stroke-opacity=\"1\" stroke-width=\"3.2\"/>\n",
       "<circle clip-path=\"url(#clip542)\" cx=\"1694.07\" cy=\"235.442\" r=\"14\" fill=\"#009af9\" fill-rule=\"evenodd\" fill-opacity=\"1\" stroke=\"#000000\" stroke-opacity=\"1\" stroke-width=\"3.2\"/>\n",
       "<circle clip-path=\"url(#clip542)\" cx=\"1282.1\" cy=\"539.672\" r=\"14\" fill=\"#009af9\" fill-rule=\"evenodd\" fill-opacity=\"1\" stroke=\"#000000\" stroke-opacity=\"1\" stroke-width=\"3.2\"/>\n",
       "<circle clip-path=\"url(#clip542)\" cx=\"1733.58\" cy=\"290.705\" r=\"14\" fill=\"#009af9\" fill-rule=\"evenodd\" fill-opacity=\"1\" stroke=\"#000000\" stroke-opacity=\"1\" stroke-width=\"3.2\"/>\n",
       "<circle clip-path=\"url(#clip542)\" cx=\"1583.87\" cy=\"388.176\" r=\"14\" fill=\"#009af9\" fill-rule=\"evenodd\" fill-opacity=\"1\" stroke=\"#000000\" stroke-opacity=\"1\" stroke-width=\"3.2\"/>\n",
       "<circle clip-path=\"url(#clip542)\" cx=\"1373.22\" cy=\"166.978\" r=\"14\" fill=\"#009af9\" fill-rule=\"evenodd\" fill-opacity=\"1\" stroke=\"#000000\" stroke-opacity=\"1\" stroke-width=\"3.2\"/>\n",
       "<circle clip-path=\"url(#clip542)\" cx=\"1153.84\" cy=\"313.408\" r=\"14\" fill=\"#009af9\" fill-rule=\"evenodd\" fill-opacity=\"1\" stroke=\"#000000\" stroke-opacity=\"1\" stroke-width=\"3.2\"/>\n",
       "<circle clip-path=\"url(#clip542)\" cx=\"1538.87\" cy=\"414.952\" r=\"14\" fill=\"#009af9\" fill-rule=\"evenodd\" fill-opacity=\"1\" stroke=\"#000000\" stroke-opacity=\"1\" stroke-width=\"3.2\"/>\n",
       "<circle clip-path=\"url(#clip542)\" cx=\"1794.41\" cy=\"436.025\" r=\"14\" fill=\"#009af9\" fill-rule=\"evenodd\" fill-opacity=\"1\" stroke=\"#000000\" stroke-opacity=\"1\" stroke-width=\"3.2\"/>\n",
       "<circle clip-path=\"url(#clip542)\" cx=\"1354.94\" cy=\"358.732\" r=\"14\" fill=\"#009af9\" fill-rule=\"evenodd\" fill-opacity=\"1\" stroke=\"#000000\" stroke-opacity=\"1\" stroke-width=\"3.2\"/>\n",
       "<circle clip-path=\"url(#clip542)\" cx=\"2169.1\" cy=\"550.478\" r=\"14\" fill=\"#009af9\" fill-rule=\"evenodd\" fill-opacity=\"1\" stroke=\"#000000\" stroke-opacity=\"1\" stroke-width=\"3.2\"/>\n",
       "<circle clip-path=\"url(#clip542)\" cx=\"1713.45\" cy=\"393.216\" r=\"14\" fill=\"#009af9\" fill-rule=\"evenodd\" fill-opacity=\"1\" stroke=\"#000000\" stroke-opacity=\"1\" stroke-width=\"3.2\"/>\n",
       "<circle clip-path=\"url(#clip542)\" cx=\"1503.98\" cy=\"517.413\" r=\"14\" fill=\"#009af9\" fill-rule=\"evenodd\" fill-opacity=\"1\" stroke=\"#000000\" stroke-opacity=\"1\" stroke-width=\"3.2\"/>\n",
       "<circle clip-path=\"url(#clip542)\" cx=\"1552.66\" cy=\"368.502\" r=\"14\" fill=\"#009af9\" fill-rule=\"evenodd\" fill-opacity=\"1\" stroke=\"#000000\" stroke-opacity=\"1\" stroke-width=\"3.2\"/>\n",
       "<circle clip-path=\"url(#clip542)\" cx=\"1863.64\" cy=\"503.809\" r=\"14\" fill=\"#009af9\" fill-rule=\"evenodd\" fill-opacity=\"1\" stroke=\"#000000\" stroke-opacity=\"1\" stroke-width=\"3.2\"/>\n",
       "<circle clip-path=\"url(#clip542)\" cx=\"2049.56\" cy=\"300.766\" r=\"14\" fill=\"#009af9\" fill-rule=\"evenodd\" fill-opacity=\"1\" stroke=\"#000000\" stroke-opacity=\"1\" stroke-width=\"3.2\"/>\n",
       "<circle clip-path=\"url(#clip542)\" cx=\"1971.83\" cy=\"288.111\" r=\"14\" fill=\"#009af9\" fill-rule=\"evenodd\" fill-opacity=\"1\" stroke=\"#000000\" stroke-opacity=\"1\" stroke-width=\"3.2\"/>\n",
       "<circle clip-path=\"url(#clip542)\" cx=\"1321.84\" cy=\"510.673\" r=\"14\" fill=\"#009af9\" fill-rule=\"evenodd\" fill-opacity=\"1\" stroke=\"#000000\" stroke-opacity=\"1\" stroke-width=\"3.2\"/>\n",
       "<circle clip-path=\"url(#clip542)\" cx=\"1906.7\" cy=\"412.681\" r=\"14\" fill=\"#009af9\" fill-rule=\"evenodd\" fill-opacity=\"1\" stroke=\"#000000\" stroke-opacity=\"1\" stroke-width=\"3.2\"/>\n",
       "<circle clip-path=\"url(#clip542)\" cx=\"1413.8\" cy=\"171.889\" r=\"14\" fill=\"#009af9\" fill-rule=\"evenodd\" fill-opacity=\"1\" stroke=\"#000000\" stroke-opacity=\"1\" stroke-width=\"3.2\"/>\n",
       "<circle clip-path=\"url(#clip542)\" cx=\"1888.21\" cy=\"174.488\" r=\"14\" fill=\"#009af9\" fill-rule=\"evenodd\" fill-opacity=\"1\" stroke=\"#000000\" stroke-opacity=\"1\" stroke-width=\"3.2\"/>\n",
       "<circle clip-path=\"url(#clip542)\" cx=\"1654.15\" cy=\"264.287\" r=\"14\" fill=\"#009af9\" fill-rule=\"evenodd\" fill-opacity=\"1\" stroke=\"#000000\" stroke-opacity=\"1\" stroke-width=\"3.2\"/>\n",
       "<circle clip-path=\"url(#clip542)\" cx=\"1503.61\" cy=\"967.822\" r=\"14\" fill=\"#e26f46\" fill-rule=\"evenodd\" fill-opacity=\"1\" stroke=\"#000000\" stroke-opacity=\"1\" stroke-width=\"3.2\"/>\n",
       "<circle clip-path=\"url(#clip542)\" cx=\"1774.66\" cy=\"1324.23\" r=\"14\" fill=\"#e26f46\" fill-rule=\"evenodd\" fill-opacity=\"1\" stroke=\"#000000\" stroke-opacity=\"1\" stroke-width=\"3.2\"/>\n",
       "<circle clip-path=\"url(#clip542)\" cx=\"1744.15\" cy=\"1135.22\" r=\"14\" fill=\"#e26f46\" fill-rule=\"evenodd\" fill-opacity=\"1\" stroke=\"#000000\" stroke-opacity=\"1\" stroke-width=\"3.2\"/>\n",
       "<circle clip-path=\"url(#clip542)\" cx=\"1744.83\" cy=\"1203.71\" r=\"14\" fill=\"#e26f46\" fill-rule=\"evenodd\" fill-opacity=\"1\" stroke=\"#000000\" stroke-opacity=\"1\" stroke-width=\"3.2\"/>\n",
       "<circle clip-path=\"url(#clip542)\" cx=\"942.33\" cy=\"1115.77\" r=\"14\" fill=\"#e26f46\" fill-rule=\"evenodd\" fill-opacity=\"1\" stroke=\"#000000\" stroke-opacity=\"1\" stroke-width=\"3.2\"/>\n",
       "<circle clip-path=\"url(#clip542)\" cx=\"1445.49\" cy=\"1019.45\" r=\"14\" fill=\"#e26f46\" fill-rule=\"evenodd\" fill-opacity=\"1\" stroke=\"#000000\" stroke-opacity=\"1\" stroke-width=\"3.2\"/>\n",
       "<circle clip-path=\"url(#clip542)\" cx=\"1881.76\" cy=\"1198.33\" r=\"14\" fill=\"#e26f46\" fill-rule=\"evenodd\" fill-opacity=\"1\" stroke=\"#000000\" stroke-opacity=\"1\" stroke-width=\"3.2\"/>\n",
       "<circle clip-path=\"url(#clip542)\" cx=\"1451.81\" cy=\"1023.41\" r=\"14\" fill=\"#e26f46\" fill-rule=\"evenodd\" fill-opacity=\"1\" stroke=\"#000000\" stroke-opacity=\"1\" stroke-width=\"3.2\"/>\n",
       "<circle clip-path=\"url(#clip542)\" cx=\"1588.13\" cy=\"1422.23\" r=\"14\" fill=\"#e26f46\" fill-rule=\"evenodd\" fill-opacity=\"1\" stroke=\"#000000\" stroke-opacity=\"1\" stroke-width=\"3.2\"/>\n",
       "<circle clip-path=\"url(#clip542)\" cx=\"1797.59\" cy=\"1109.38\" r=\"14\" fill=\"#e26f46\" fill-rule=\"evenodd\" fill-opacity=\"1\" stroke=\"#000000\" stroke-opacity=\"1\" stroke-width=\"3.2\"/>\n",
       "<circle clip-path=\"url(#clip542)\" cx=\"1402.04\" cy=\"1389.11\" r=\"14\" fill=\"#e26f46\" fill-rule=\"evenodd\" fill-opacity=\"1\" stroke=\"#000000\" stroke-opacity=\"1\" stroke-width=\"3.2\"/>\n",
       "<circle clip-path=\"url(#clip542)\" cx=\"1415.46\" cy=\"1153.99\" r=\"14\" fill=\"#e26f46\" fill-rule=\"evenodd\" fill-opacity=\"1\" stroke=\"#000000\" stroke-opacity=\"1\" stroke-width=\"3.2\"/>\n",
       "<circle clip-path=\"url(#clip542)\" cx=\"1372.01\" cy=\"875.329\" r=\"14\" fill=\"#e26f46\" fill-rule=\"evenodd\" fill-opacity=\"1\" stroke=\"#000000\" stroke-opacity=\"1\" stroke-width=\"3.2\"/>\n",
       "<circle clip-path=\"url(#clip542)\" cx=\"1676.17\" cy=\"1166.33\" r=\"14\" fill=\"#e26f46\" fill-rule=\"evenodd\" fill-opacity=\"1\" stroke=\"#000000\" stroke-opacity=\"1\" stroke-width=\"3.2\"/>\n",
       "<circle clip-path=\"url(#clip542)\" cx=\"1777.08\" cy=\"1192.13\" r=\"14\" fill=\"#e26f46\" fill-rule=\"evenodd\" fill-opacity=\"1\" stroke=\"#000000\" stroke-opacity=\"1\" stroke-width=\"3.2\"/>\n",
       "<circle clip-path=\"url(#clip542)\" cx=\"842.821\" cy=\"1299.39\" r=\"14\" fill=\"#e26f46\" fill-rule=\"evenodd\" fill-opacity=\"1\" stroke=\"#000000\" stroke-opacity=\"1\" stroke-width=\"3.2\"/>\n",
       "<circle clip-path=\"url(#clip542)\" cx=\"1754.93\" cy=\"1087.01\" r=\"14\" fill=\"#e26f46\" fill-rule=\"evenodd\" fill-opacity=\"1\" stroke=\"#000000\" stroke-opacity=\"1\" stroke-width=\"3.2\"/>\n",
       "<circle clip-path=\"url(#clip542)\" cx=\"1497.99\" cy=\"1235.5\" r=\"14\" fill=\"#e26f46\" fill-rule=\"evenodd\" fill-opacity=\"1\" stroke=\"#000000\" stroke-opacity=\"1\" stroke-width=\"3.2\"/>\n",
       "<circle clip-path=\"url(#clip542)\" cx=\"1344.12\" cy=\"1127.57\" r=\"14\" fill=\"#e26f46\" fill-rule=\"evenodd\" fill-opacity=\"1\" stroke=\"#000000\" stroke-opacity=\"1\" stroke-width=\"3.2\"/>\n",
       "<circle clip-path=\"url(#clip542)\" cx=\"1622.04\" cy=\"1108.34\" r=\"14\" fill=\"#e26f46\" fill-rule=\"evenodd\" fill-opacity=\"1\" stroke=\"#000000\" stroke-opacity=\"1\" stroke-width=\"3.2\"/>\n",
       "<circle clip-path=\"url(#clip542)\" cx=\"1354.87\" cy=\"982.772\" r=\"14\" fill=\"#e26f46\" fill-rule=\"evenodd\" fill-opacity=\"1\" stroke=\"#000000\" stroke-opacity=\"1\" stroke-width=\"3.2\"/>\n",
       "<circle clip-path=\"url(#clip542)\" cx=\"1569.34\" cy=\"1114.49\" r=\"14\" fill=\"#e26f46\" fill-rule=\"evenodd\" fill-opacity=\"1\" stroke=\"#000000\" stroke-opacity=\"1\" stroke-width=\"3.2\"/>\n",
       "<circle clip-path=\"url(#clip542)\" cx=\"1127.44\" cy=\"1014.78\" r=\"14\" fill=\"#e26f46\" fill-rule=\"evenodd\" fill-opacity=\"1\" stroke=\"#000000\" stroke-opacity=\"1\" stroke-width=\"3.2\"/>\n",
       "<circle clip-path=\"url(#clip542)\" cx=\"1861.04\" cy=\"1258.55\" r=\"14\" fill=\"#e26f46\" fill-rule=\"evenodd\" fill-opacity=\"1\" stroke=\"#000000\" stroke-opacity=\"1\" stroke-width=\"3.2\"/>\n",
       "<circle clip-path=\"url(#clip542)\" cx=\"1615.78\" cy=\"1297.18\" r=\"14\" fill=\"#e26f46\" fill-rule=\"evenodd\" fill-opacity=\"1\" stroke=\"#000000\" stroke-opacity=\"1\" stroke-width=\"3.2\"/>\n",
       "<circle clip-path=\"url(#clip542)\" cx=\"1849.21\" cy=\"1033.04\" r=\"14\" fill=\"#e26f46\" fill-rule=\"evenodd\" fill-opacity=\"1\" stroke=\"#000000\" stroke-opacity=\"1\" stroke-width=\"3.2\"/>\n",
       "<circle clip-path=\"url(#clip542)\" cx=\"1558.21\" cy=\"1244.47\" r=\"14\" fill=\"#e26f46\" fill-rule=\"evenodd\" fill-opacity=\"1\" stroke=\"#000000\" stroke-opacity=\"1\" stroke-width=\"3.2\"/>\n",
       "<circle clip-path=\"url(#clip542)\" cx=\"1431.08\" cy=\"1330.08\" r=\"14\" fill=\"#e26f46\" fill-rule=\"evenodd\" fill-opacity=\"1\" stroke=\"#000000\" stroke-opacity=\"1\" stroke-width=\"3.2\"/>\n",
       "<circle clip-path=\"url(#clip542)\" cx=\"1478.21\" cy=\"1028.61\" r=\"14\" fill=\"#e26f46\" fill-rule=\"evenodd\" fill-opacity=\"1\" stroke=\"#000000\" stroke-opacity=\"1\" stroke-width=\"3.2\"/>\n",
       "<circle clip-path=\"url(#clip542)\" cx=\"1515.56\" cy=\"1160.4\" r=\"14\" fill=\"#e26f46\" fill-rule=\"evenodd\" fill-opacity=\"1\" stroke=\"#000000\" stroke-opacity=\"1\" stroke-width=\"3.2\"/>\n",
       "<circle clip-path=\"url(#clip542)\" cx=\"1585.38\" cy=\"1249.81\" r=\"14\" fill=\"#e26f46\" fill-rule=\"evenodd\" fill-opacity=\"1\" stroke=\"#000000\" stroke-opacity=\"1\" stroke-width=\"3.2\"/>\n",
       "<circle clip-path=\"url(#clip542)\" cx=\"1608.42\" cy=\"1273.87\" r=\"14\" fill=\"#e26f46\" fill-rule=\"evenodd\" fill-opacity=\"1\" stroke=\"#000000\" stroke-opacity=\"1\" stroke-width=\"3.2\"/>\n",
       "<circle clip-path=\"url(#clip542)\" cx=\"1755.94\" cy=\"1086.09\" r=\"14\" fill=\"#e26f46\" fill-rule=\"evenodd\" fill-opacity=\"1\" stroke=\"#000000\" stroke-opacity=\"1\" stroke-width=\"3.2\"/>\n",
       "<circle clip-path=\"url(#clip542)\" cx=\"1367.49\" cy=\"1297.05\" r=\"14\" fill=\"#e26f46\" fill-rule=\"evenodd\" fill-opacity=\"1\" stroke=\"#000000\" stroke-opacity=\"1\" stroke-width=\"3.2\"/>\n",
       "<circle clip-path=\"url(#clip542)\" cx=\"1819.59\" cy=\"1317.54\" r=\"14\" fill=\"#e26f46\" fill-rule=\"evenodd\" fill-opacity=\"1\" stroke=\"#000000\" stroke-opacity=\"1\" stroke-width=\"3.2\"/>\n",
       "<circle clip-path=\"url(#clip542)\" cx=\"1337.85\" cy=\"1276.66\" r=\"14\" fill=\"#e26f46\" fill-rule=\"evenodd\" fill-opacity=\"1\" stroke=\"#000000\" stroke-opacity=\"1\" stroke-width=\"3.2\"/>\n",
       "<circle clip-path=\"url(#clip542)\" cx=\"1309.87\" cy=\"1158.07\" r=\"14\" fill=\"#e26f46\" fill-rule=\"evenodd\" fill-opacity=\"1\" stroke=\"#000000\" stroke-opacity=\"1\" stroke-width=\"3.2\"/>\n",
       "<circle clip-path=\"url(#clip542)\" cx=\"2159.5\" cy=\"983.717\" r=\"14\" fill=\"#e26f46\" fill-rule=\"evenodd\" fill-opacity=\"1\" stroke=\"#000000\" stroke-opacity=\"1\" stroke-width=\"3.2\"/>\n",
       "<circle clip-path=\"url(#clip542)\" cx=\"1643.69\" cy=\"1281.19\" r=\"14\" fill=\"#e26f46\" fill-rule=\"evenodd\" fill-opacity=\"1\" stroke=\"#000000\" stroke-opacity=\"1\" stroke-width=\"3.2\"/>\n",
       "<circle clip-path=\"url(#clip542)\" cx=\"1380.64\" cy=\"1204.6\" r=\"14\" fill=\"#e26f46\" fill-rule=\"evenodd\" fill-opacity=\"1\" stroke=\"#000000\" stroke-opacity=\"1\" stroke-width=\"3.2\"/>\n",
       "<circle clip-path=\"url(#clip542)\" cx=\"1724.7\" cy=\"1029.21\" r=\"14\" fill=\"#e26f46\" fill-rule=\"evenodd\" fill-opacity=\"1\" stroke=\"#000000\" stroke-opacity=\"1\" stroke-width=\"3.2\"/>\n",
       "<circle clip-path=\"url(#clip542)\" cx=\"1794.65\" cy=\"1054.57\" r=\"14\" fill=\"#e26f46\" fill-rule=\"evenodd\" fill-opacity=\"1\" stroke=\"#000000\" stroke-opacity=\"1\" stroke-width=\"3.2\"/>\n",
       "<circle clip-path=\"url(#clip542)\" cx=\"1674.3\" cy=\"1125.18\" r=\"14\" fill=\"#e26f46\" fill-rule=\"evenodd\" fill-opacity=\"1\" stroke=\"#000000\" stroke-opacity=\"1\" stroke-width=\"3.2\"/>\n",
       "<circle clip-path=\"url(#clip542)\" cx=\"1448.13\" cy=\"1069.56\" r=\"14\" fill=\"#e26f46\" fill-rule=\"evenodd\" fill-opacity=\"1\" stroke=\"#000000\" stroke-opacity=\"1\" stroke-width=\"3.2\"/>\n",
       "<circle clip-path=\"url(#clip542)\" cx=\"1162.26\" cy=\"992.652\" r=\"14\" fill=\"#e26f46\" fill-rule=\"evenodd\" fill-opacity=\"1\" stroke=\"#000000\" stroke-opacity=\"1\" stroke-width=\"3.2\"/>\n",
       "<circle clip-path=\"url(#clip542)\" cx=\"1477.17\" cy=\"1116.4\" r=\"14\" fill=\"#e26f46\" fill-rule=\"evenodd\" fill-opacity=\"1\" stroke=\"#000000\" stroke-opacity=\"1\" stroke-width=\"3.2\"/>\n",
       "<circle clip-path=\"url(#clip542)\" cx=\"1613.58\" cy=\"1134.67\" r=\"14\" fill=\"#e26f46\" fill-rule=\"evenodd\" fill-opacity=\"1\" stroke=\"#000000\" stroke-opacity=\"1\" stroke-width=\"3.2\"/>\n",
       "<circle clip-path=\"url(#clip542)\" cx=\"2291.66\" cy=\"1115.66\" r=\"14\" fill=\"#e26f46\" fill-rule=\"evenodd\" fill-opacity=\"1\" stroke=\"#000000\" stroke-opacity=\"1\" stroke-width=\"3.2\"/>\n",
       "<circle clip-path=\"url(#clip542)\" cx=\"1553.98\" cy=\"1203.64\" r=\"14\" fill=\"#e26f46\" fill-rule=\"evenodd\" fill-opacity=\"1\" stroke=\"#000000\" stroke-opacity=\"1\" stroke-width=\"3.2\"/>\n",
       "<circle clip-path=\"url(#clip542)\" cx=\"1853.69\" cy=\"1079.75\" r=\"14\" fill=\"#e26f46\" fill-rule=\"evenodd\" fill-opacity=\"1\" stroke=\"#000000\" stroke-opacity=\"1\" stroke-width=\"3.2\"/>\n",
       "<circle clip-path=\"url(#clip542)\" cx=\"1912.05\" cy=\"1197.64\" r=\"14\" fill=\"#e26f46\" fill-rule=\"evenodd\" fill-opacity=\"1\" stroke=\"#000000\" stroke-opacity=\"1\" stroke-width=\"3.2\"/>\n",
       "<circle clip-path=\"url(#clip542)\" cx=\"1324.42\" cy=\"1188.42\" r=\"14\" fill=\"#e26f46\" fill-rule=\"evenodd\" fill-opacity=\"1\" stroke=\"#000000\" stroke-opacity=\"1\" stroke-width=\"3.2\"/>\n",
       "<circle clip-path=\"url(#clip542)\" cx=\"1924.78\" cy=\"1102.56\" r=\"14\" fill=\"#e26f46\" fill-rule=\"evenodd\" fill-opacity=\"1\" stroke=\"#000000\" stroke-opacity=\"1\" stroke-width=\"3.2\"/>\n",
       "<circle clip-path=\"url(#clip542)\" cx=\"1806.91\" cy=\"1445.72\" r=\"14\" fill=\"#e26f46\" fill-rule=\"evenodd\" fill-opacity=\"1\" stroke=\"#000000\" stroke-opacity=\"1\" stroke-width=\"3.2\"/>\n",
       "<circle clip-path=\"url(#clip542)\" cx=\"1302.5\" cy=\"1118.83\" r=\"14\" fill=\"#e26f46\" fill-rule=\"evenodd\" fill-opacity=\"1\" stroke=\"#000000\" stroke-opacity=\"1\" stroke-width=\"3.2\"/>\n",
       "<circle clip-path=\"url(#clip542)\" cx=\"1292.9\" cy=\"1148.47\" r=\"14\" fill=\"#e26f46\" fill-rule=\"evenodd\" fill-opacity=\"1\" stroke=\"#000000\" stroke-opacity=\"1\" stroke-width=\"3.2\"/>\n",
       "<circle clip-path=\"url(#clip542)\" cx=\"1263.28\" cy=\"1386.13\" r=\"14\" fill=\"#e26f46\" fill-rule=\"evenodd\" fill-opacity=\"1\" stroke=\"#000000\" stroke-opacity=\"1\" stroke-width=\"3.2\"/>\n",
       "<circle clip-path=\"url(#clip542)\" cx=\"1672.87\" cy=\"1220.28\" r=\"14\" fill=\"#e26f46\" fill-rule=\"evenodd\" fill-opacity=\"1\" stroke=\"#000000\" stroke-opacity=\"1\" stroke-width=\"3.2\"/>\n",
       "<circle clip-path=\"url(#clip542)\" cx=\"1420.85\" cy=\"926.826\" r=\"14\" fill=\"#e26f46\" fill-rule=\"evenodd\" fill-opacity=\"1\" stroke=\"#000000\" stroke-opacity=\"1\" stroke-width=\"3.2\"/>\n",
       "<circle clip-path=\"url(#clip542)\" cx=\"1436.42\" cy=\"1090.66\" r=\"14\" fill=\"#e26f46\" fill-rule=\"evenodd\" fill-opacity=\"1\" stroke=\"#000000\" stroke-opacity=\"1\" stroke-width=\"3.2\"/>\n",
       "<circle clip-path=\"url(#clip542)\" cx=\"1945.28\" cy=\"1209.4\" r=\"14\" fill=\"#e26f46\" fill-rule=\"evenodd\" fill-opacity=\"1\" stroke=\"#000000\" stroke-opacity=\"1\" stroke-width=\"3.2\"/>\n",
       "<circle clip-path=\"url(#clip542)\" cx=\"1415.9\" cy=\"1329.47\" r=\"14\" fill=\"#e26f46\" fill-rule=\"evenodd\" fill-opacity=\"1\" stroke=\"#000000\" stroke-opacity=\"1\" stroke-width=\"3.2\"/>\n",
       "<circle clip-path=\"url(#clip542)\" cx=\"1706.13\" cy=\"1239.19\" r=\"14\" fill=\"#e26f46\" fill-rule=\"evenodd\" fill-opacity=\"1\" stroke=\"#000000\" stroke-opacity=\"1\" stroke-width=\"3.2\"/>\n",
       "<circle clip-path=\"url(#clip542)\" cx=\"1400.47\" cy=\"972.143\" r=\"14\" fill=\"#e26f46\" fill-rule=\"evenodd\" fill-opacity=\"1\" stroke=\"#000000\" stroke-opacity=\"1\" stroke-width=\"3.2\"/>\n",
       "<circle clip-path=\"url(#clip542)\" cx=\"1288.2\" cy=\"1075.78\" r=\"14\" fill=\"#e26f46\" fill-rule=\"evenodd\" fill-opacity=\"1\" stroke=\"#000000\" stroke-opacity=\"1\" stroke-width=\"3.2\"/>\n",
       "<circle clip-path=\"url(#clip542)\" cx=\"1545.84\" cy=\"1222.84\" r=\"14\" fill=\"#e26f46\" fill-rule=\"evenodd\" fill-opacity=\"1\" stroke=\"#000000\" stroke-opacity=\"1\" stroke-width=\"3.2\"/>\n",
       "<circle clip-path=\"url(#clip542)\" cx=\"1325.53\" cy=\"1154.09\" r=\"14\" fill=\"#e26f46\" fill-rule=\"evenodd\" fill-opacity=\"1\" stroke=\"#000000\" stroke-opacity=\"1\" stroke-width=\"3.2\"/>\n",
       "<circle clip-path=\"url(#clip542)\" cx=\"1363.76\" cy=\"1185.15\" r=\"14\" fill=\"#e26f46\" fill-rule=\"evenodd\" fill-opacity=\"1\" stroke=\"#000000\" stroke-opacity=\"1\" stroke-width=\"3.2\"/>\n",
       "<circle clip-path=\"url(#clip542)\" cx=\"1418.55\" cy=\"1064.8\" r=\"14\" fill=\"#e26f46\" fill-rule=\"evenodd\" fill-opacity=\"1\" stroke=\"#000000\" stroke-opacity=\"1\" stroke-width=\"3.2\"/>\n",
       "<circle clip-path=\"url(#clip542)\" cx=\"1432.19\" cy=\"1268.53\" r=\"14\" fill=\"#e26f46\" fill-rule=\"evenodd\" fill-opacity=\"1\" stroke=\"#000000\" stroke-opacity=\"1\" stroke-width=\"3.2\"/>\n",
       "<circle clip-path=\"url(#clip542)\" cx=\"1308.57\" cy=\"1065.72\" r=\"14\" fill=\"#e26f46\" fill-rule=\"evenodd\" fill-opacity=\"1\" stroke=\"#000000\" stroke-opacity=\"1\" stroke-width=\"3.2\"/>\n",
       "<circle clip-path=\"url(#clip542)\" cx=\"1354.45\" cy=\"1021.61\" r=\"14\" fill=\"#e26f46\" fill-rule=\"evenodd\" fill-opacity=\"1\" stroke=\"#000000\" stroke-opacity=\"1\" stroke-width=\"3.2\"/>\n",
       "<circle clip-path=\"url(#clip542)\" cx=\"1125.83\" cy=\"1166.92\" r=\"14\" fill=\"#e26f46\" fill-rule=\"evenodd\" fill-opacity=\"1\" stroke=\"#000000\" stroke-opacity=\"1\" stroke-width=\"3.2\"/>\n",
       "<circle clip-path=\"url(#clip542)\" cx=\"1758.51\" cy=\"1186.32\" r=\"14\" fill=\"#e26f46\" fill-rule=\"evenodd\" fill-opacity=\"1\" stroke=\"#000000\" stroke-opacity=\"1\" stroke-width=\"3.2\"/>\n",
       "<circle clip-path=\"url(#clip542)\" cx=\"1555.51\" cy=\"1221.64\" r=\"14\" fill=\"#e26f46\" fill-rule=\"evenodd\" fill-opacity=\"1\" stroke=\"#000000\" stroke-opacity=\"1\" stroke-width=\"3.2\"/>\n",
       "<circle clip-path=\"url(#clip542)\" cx=\"1611.63\" cy=\"1182.89\" r=\"14\" fill=\"#e26f46\" fill-rule=\"evenodd\" fill-opacity=\"1\" stroke=\"#000000\" stroke-opacity=\"1\" stroke-width=\"3.2\"/>\n",
       "<circle clip-path=\"url(#clip542)\" cx=\"1908.55\" cy=\"1240.39\" r=\"14\" fill=\"#e26f46\" fill-rule=\"evenodd\" fill-opacity=\"1\" stroke=\"#000000\" stroke-opacity=\"1\" stroke-width=\"3.2\"/>\n",
       "<circle clip-path=\"url(#clip542)\" cx=\"1684.73\" cy=\"1150.81\" r=\"14\" fill=\"#e26f46\" fill-rule=\"evenodd\" fill-opacity=\"1\" stroke=\"#000000\" stroke-opacity=\"1\" stroke-width=\"3.2\"/>\n",
       "<circle clip-path=\"url(#clip542)\" cx=\"1358.66\" cy=\"1126.7\" r=\"14\" fill=\"#e26f46\" fill-rule=\"evenodd\" fill-opacity=\"1\" stroke=\"#000000\" stroke-opacity=\"1\" stroke-width=\"3.2\"/>\n",
       "<circle clip-path=\"url(#clip542)\" cx=\"1267.26\" cy=\"956.881\" r=\"14\" fill=\"#e26f46\" fill-rule=\"evenodd\" fill-opacity=\"1\" stroke=\"#000000\" stroke-opacity=\"1\" stroke-width=\"3.2\"/>\n",
       "<circle clip-path=\"url(#clip542)\" cx=\"1497.04\" cy=\"902.786\" r=\"14\" fill=\"#e26f46\" fill-rule=\"evenodd\" fill-opacity=\"1\" stroke=\"#000000\" stroke-opacity=\"1\" stroke-width=\"3.2\"/>\n",
       "<circle clip-path=\"url(#clip542)\" cx=\"898.184\" cy=\"1249.49\" r=\"14\" fill=\"#e26f46\" fill-rule=\"evenodd\" fill-opacity=\"1\" stroke=\"#000000\" stroke-opacity=\"1\" stroke-width=\"3.2\"/>\n",
       "<circle clip-path=\"url(#clip542)\" cx=\"1536.38\" cy=\"1072.93\" r=\"14\" fill=\"#e26f46\" fill-rule=\"evenodd\" fill-opacity=\"1\" stroke=\"#000000\" stroke-opacity=\"1\" stroke-width=\"3.2\"/>\n",
       "<circle clip-path=\"url(#clip542)\" cx=\"1167.24\" cy=\"1165.98\" r=\"14\" fill=\"#e26f46\" fill-rule=\"evenodd\" fill-opacity=\"1\" stroke=\"#000000\" stroke-opacity=\"1\" stroke-width=\"3.2\"/>\n",
       "<circle clip-path=\"url(#clip542)\" cx=\"1686.11\" cy=\"983.194\" r=\"14\" fill=\"#e26f46\" fill-rule=\"evenodd\" fill-opacity=\"1\" stroke=\"#000000\" stroke-opacity=\"1\" stroke-width=\"3.2\"/>\n",
       "<circle clip-path=\"url(#clip542)\" cx=\"1904\" cy=\"1050.79\" r=\"14\" fill=\"#e26f46\" fill-rule=\"evenodd\" fill-opacity=\"1\" stroke=\"#000000\" stroke-opacity=\"1\" stroke-width=\"3.2\"/>\n",
       "<circle clip-path=\"url(#clip542)\" cx=\"1617.56\" cy=\"927.272\" r=\"14\" fill=\"#e26f46\" fill-rule=\"evenodd\" fill-opacity=\"1\" stroke=\"#000000\" stroke-opacity=\"1\" stroke-width=\"3.2\"/>\n",
       "<circle clip-path=\"url(#clip542)\" cx=\"1138.82\" cy=\"1321.57\" r=\"14\" fill=\"#e26f46\" fill-rule=\"evenodd\" fill-opacity=\"1\" stroke=\"#000000\" stroke-opacity=\"1\" stroke-width=\"3.2\"/>\n",
       "<circle clip-path=\"url(#clip542)\" cx=\"1784.47\" cy=\"970.683\" r=\"14\" fill=\"#e26f46\" fill-rule=\"evenodd\" fill-opacity=\"1\" stroke=\"#000000\" stroke-opacity=\"1\" stroke-width=\"3.2\"/>\n",
       "<circle clip-path=\"url(#clip542)\" cx=\"1762.19\" cy=\"1379.3\" r=\"14\" fill=\"#e26f46\" fill-rule=\"evenodd\" fill-opacity=\"1\" stroke=\"#000000\" stroke-opacity=\"1\" stroke-width=\"3.2\"/>\n",
       "<circle clip-path=\"url(#clip542)\" cx=\"1934.7\" cy=\"1200.89\" r=\"14\" fill=\"#e26f46\" fill-rule=\"evenodd\" fill-opacity=\"1\" stroke=\"#000000\" stroke-opacity=\"1\" stroke-width=\"3.2\"/>\n",
       "<circle clip-path=\"url(#clip542)\" cx=\"1403.3\" cy=\"1220.09\" r=\"14\" fill=\"#e26f46\" fill-rule=\"evenodd\" fill-opacity=\"1\" stroke=\"#000000\" stroke-opacity=\"1\" stroke-width=\"3.2\"/>\n",
       "<circle clip-path=\"url(#clip542)\" cx=\"1633.96\" cy=\"1107.44\" r=\"14\" fill=\"#e26f46\" fill-rule=\"evenodd\" fill-opacity=\"1\" stroke=\"#000000\" stroke-opacity=\"1\" stroke-width=\"3.2\"/>\n",
       "<circle clip-path=\"url(#clip542)\" cx=\"1255.65\" cy=\"1425.55\" r=\"14\" fill=\"#e26f46\" fill-rule=\"evenodd\" fill-opacity=\"1\" stroke=\"#000000\" stroke-opacity=\"1\" stroke-width=\"3.2\"/>\n",
       "<circle clip-path=\"url(#clip542)\" cx=\"1622.66\" cy=\"1095.95\" r=\"14\" fill=\"#e26f46\" fill-rule=\"evenodd\" fill-opacity=\"1\" stroke=\"#000000\" stroke-opacity=\"1\" stroke-width=\"3.2\"/>\n",
       "<circle clip-path=\"url(#clip542)\" cx=\"1707.17\" cy=\"1168.84\" r=\"14\" fill=\"#e26f46\" fill-rule=\"evenodd\" fill-opacity=\"1\" stroke=\"#000000\" stroke-opacity=\"1\" stroke-width=\"3.2\"/>\n",
       "<circle clip-path=\"url(#clip542)\" cx=\"1851.39\" cy=\"1313.29\" r=\"14\" fill=\"#e26f46\" fill-rule=\"evenodd\" fill-opacity=\"1\" stroke=\"#000000\" stroke-opacity=\"1\" stroke-width=\"3.2\"/>\n",
       "<circle clip-path=\"url(#clip542)\" cx=\"1234.41\" cy=\"1123.43\" r=\"14\" fill=\"#e26f46\" fill-rule=\"evenodd\" fill-opacity=\"1\" stroke=\"#000000\" stroke-opacity=\"1\" stroke-width=\"3.2\"/>\n",
       "<circle clip-path=\"url(#clip542)\" cx=\"1457.24\" cy=\"1056.87\" r=\"14\" fill=\"#e26f46\" fill-rule=\"evenodd\" fill-opacity=\"1\" stroke=\"#000000\" stroke-opacity=\"1\" stroke-width=\"3.2\"/>\n",
       "<circle clip-path=\"url(#clip542)\" cx=\"875.672\" cy=\"591.848\" r=\"14\" fill=\"#3da44d\" fill-rule=\"evenodd\" fill-opacity=\"1\" stroke=\"#000000\" stroke-opacity=\"1\" stroke-width=\"3.2\"/>\n",
       "<circle clip-path=\"url(#clip542)\" cx=\"820.983\" cy=\"883.099\" r=\"14\" fill=\"#3da44d\" fill-rule=\"evenodd\" fill-opacity=\"1\" stroke=\"#000000\" stroke-opacity=\"1\" stroke-width=\"3.2\"/>\n",
       "<circle clip-path=\"url(#clip542)\" cx=\"827.683\" cy=\"715.415\" r=\"14\" fill=\"#3da44d\" fill-rule=\"evenodd\" fill-opacity=\"1\" stroke=\"#000000\" stroke-opacity=\"1\" stroke-width=\"3.2\"/>\n",
       "<circle clip-path=\"url(#clip542)\" cx=\"637.035\" cy=\"793.088\" r=\"14\" fill=\"#3da44d\" fill-rule=\"evenodd\" fill-opacity=\"1\" stroke=\"#000000\" stroke-opacity=\"1\" stroke-width=\"3.2\"/>\n",
       "<circle clip-path=\"url(#clip542)\" cx=\"579.742\" cy=\"824.299\" r=\"14\" fill=\"#3da44d\" fill-rule=\"evenodd\" fill-opacity=\"1\" stroke=\"#000000\" stroke-opacity=\"1\" stroke-width=\"3.2\"/>\n",
       "<circle clip-path=\"url(#clip542)\" cx=\"571.284\" cy=\"635.98\" r=\"14\" fill=\"#3da44d\" fill-rule=\"evenodd\" fill-opacity=\"1\" stroke=\"#000000\" stroke-opacity=\"1\" stroke-width=\"3.2\"/>\n",
       "<circle clip-path=\"url(#clip542)\" cx=\"370.967\" cy=\"626.513\" r=\"14\" fill=\"#3da44d\" fill-rule=\"evenodd\" fill-opacity=\"1\" stroke=\"#000000\" stroke-opacity=\"1\" stroke-width=\"3.2\"/>\n",
       "<circle clip-path=\"url(#clip542)\" cx=\"283.67\" cy=\"390.975\" r=\"14\" fill=\"#3da44d\" fill-rule=\"evenodd\" fill-opacity=\"1\" stroke=\"#000000\" stroke-opacity=\"1\" stroke-width=\"3.2\"/>\n",
       "<circle clip-path=\"url(#clip542)\" cx=\"718.863\" cy=\"643.597\" r=\"14\" fill=\"#3da44d\" fill-rule=\"evenodd\" fill-opacity=\"1\" stroke=\"#000000\" stroke-opacity=\"1\" stroke-width=\"3.2\"/>\n",
       "<circle clip-path=\"url(#clip542)\" cx=\"915.868\" cy=\"913.333\" r=\"14\" fill=\"#3da44d\" fill-rule=\"evenodd\" fill-opacity=\"1\" stroke=\"#000000\" stroke-opacity=\"1\" stroke-width=\"3.2\"/>\n",
       "<circle clip-path=\"url(#clip542)\" cx=\"280.04\" cy=\"831.197\" r=\"14\" fill=\"#3da44d\" fill-rule=\"evenodd\" fill-opacity=\"1\" stroke=\"#000000\" stroke-opacity=\"1\" stroke-width=\"3.2\"/>\n",
       "<circle clip-path=\"url(#clip542)\" cx=\"363.37\" cy=\"844.864\" r=\"14\" fill=\"#3da44d\" fill-rule=\"evenodd\" fill-opacity=\"1\" stroke=\"#000000\" stroke-opacity=\"1\" stroke-width=\"3.2\"/>\n",
       "<circle clip-path=\"url(#clip542)\" cx=\"542.492\" cy=\"738.609\" r=\"14\" fill=\"#3da44d\" fill-rule=\"evenodd\" fill-opacity=\"1\" stroke=\"#000000\" stroke-opacity=\"1\" stroke-width=\"3.2\"/>\n",
       "<circle clip-path=\"url(#clip542)\" cx=\"945.761\" cy=\"710.949\" r=\"14\" fill=\"#3da44d\" fill-rule=\"evenodd\" fill-opacity=\"1\" stroke=\"#000000\" stroke-opacity=\"1\" stroke-width=\"3.2\"/>\n",
       "<circle clip-path=\"url(#clip542)\" cx=\"996.897\" cy=\"749.736\" r=\"14\" fill=\"#3da44d\" fill-rule=\"evenodd\" fill-opacity=\"1\" stroke=\"#000000\" stroke-opacity=\"1\" stroke-width=\"3.2\"/>\n",
       "<circle clip-path=\"url(#clip542)\" cx=\"660.014\" cy=\"882.375\" r=\"14\" fill=\"#3da44d\" fill-rule=\"evenodd\" fill-opacity=\"1\" stroke=\"#000000\" stroke-opacity=\"1\" stroke-width=\"3.2\"/>\n",
       "<circle clip-path=\"url(#clip542)\" cx=\"706.91\" cy=\"740.773\" r=\"14\" fill=\"#3da44d\" fill-rule=\"evenodd\" fill-opacity=\"1\" stroke=\"#000000\" stroke-opacity=\"1\" stroke-width=\"3.2\"/>\n",
       "<circle clip-path=\"url(#clip542)\" cx=\"627.122\" cy=\"739.611\" r=\"14\" fill=\"#3da44d\" fill-rule=\"evenodd\" fill-opacity=\"1\" stroke=\"#000000\" stroke-opacity=\"1\" stroke-width=\"3.2\"/>\n",
       "<circle clip-path=\"url(#clip542)\" cx=\"837.191\" cy=\"866.797\" r=\"14\" fill=\"#3da44d\" fill-rule=\"evenodd\" fill-opacity=\"1\" stroke=\"#000000\" stroke-opacity=\"1\" stroke-width=\"3.2\"/>\n",
       "<circle clip-path=\"url(#clip542)\" cx=\"767.368\" cy=\"662.317\" r=\"14\" fill=\"#3da44d\" fill-rule=\"evenodd\" fill-opacity=\"1\" stroke=\"#000000\" stroke-opacity=\"1\" stroke-width=\"3.2\"/>\n",
       "<circle clip-path=\"url(#clip542)\" cx=\"362.729\" cy=\"705.372\" r=\"14\" fill=\"#3da44d\" fill-rule=\"evenodd\" fill-opacity=\"1\" stroke=\"#000000\" stroke-opacity=\"1\" stroke-width=\"3.2\"/>\n",
       "<circle clip-path=\"url(#clip542)\" cx=\"754.932\" cy=\"845.146\" r=\"14\" fill=\"#3da44d\" fill-rule=\"evenodd\" fill-opacity=\"1\" stroke=\"#000000\" stroke-opacity=\"1\" stroke-width=\"3.2\"/>\n",
       "<circle clip-path=\"url(#clip542)\" cx=\"1011.98\" cy=\"945.268\" r=\"14\" fill=\"#3da44d\" fill-rule=\"evenodd\" fill-opacity=\"1\" stroke=\"#000000\" stroke-opacity=\"1\" stroke-width=\"3.2\"/>\n",
       "<circle clip-path=\"url(#clip542)\" cx=\"577.001\" cy=\"841.22\" r=\"14\" fill=\"#3da44d\" fill-rule=\"evenodd\" fill-opacity=\"1\" stroke=\"#000000\" stroke-opacity=\"1\" stroke-width=\"3.2\"/>\n",
       "<circle clip-path=\"url(#clip542)\" cx=\"442.38\" cy=\"687.31\" r=\"14\" fill=\"#3da44d\" fill-rule=\"evenodd\" fill-opacity=\"1\" stroke=\"#000000\" stroke-opacity=\"1\" stroke-width=\"3.2\"/>\n",
       "<circle clip-path=\"url(#clip542)\" cx=\"949.666\" cy=\"811.424\" r=\"14\" fill=\"#3da44d\" fill-rule=\"evenodd\" fill-opacity=\"1\" stroke=\"#000000\" stroke-opacity=\"1\" stroke-width=\"3.2\"/>\n",
       "<circle clip-path=\"url(#clip542)\" cx=\"855.912\" cy=\"842.289\" r=\"14\" fill=\"#3da44d\" fill-rule=\"evenodd\" fill-opacity=\"1\" stroke=\"#000000\" stroke-opacity=\"1\" stroke-width=\"3.2\"/>\n",
       "<circle clip-path=\"url(#clip542)\" cx=\"781.64\" cy=\"855.526\" r=\"14\" fill=\"#3da44d\" fill-rule=\"evenodd\" fill-opacity=\"1\" stroke=\"#000000\" stroke-opacity=\"1\" stroke-width=\"3.2\"/>\n",
       "<circle clip-path=\"url(#clip542)\" cx=\"757.492\" cy=\"649.167\" r=\"14\" fill=\"#3da44d\" fill-rule=\"evenodd\" fill-opacity=\"1\" stroke=\"#000000\" stroke-opacity=\"1\" stroke-width=\"3.2\"/>\n",
       "<circle clip-path=\"url(#clip542)\" cx=\"658.124\" cy=\"634.428\" r=\"14\" fill=\"#3da44d\" fill-rule=\"evenodd\" fill-opacity=\"1\" stroke=\"#000000\" stroke-opacity=\"1\" stroke-width=\"3.2\"/>\n",
       "<circle clip-path=\"url(#clip542)\" cx=\"359.685\" cy=\"628.709\" r=\"14\" fill=\"#3da44d\" fill-rule=\"evenodd\" fill-opacity=\"1\" stroke=\"#000000\" stroke-opacity=\"1\" stroke-width=\"3.2\"/>\n",
       "<circle clip-path=\"url(#clip542)\" cx=\"1297.67\" cy=\"769.879\" r=\"14\" fill=\"#3da44d\" fill-rule=\"evenodd\" fill-opacity=\"1\" stroke=\"#000000\" stroke-opacity=\"1\" stroke-width=\"3.2\"/>\n",
       "<circle clip-path=\"url(#clip542)\" cx=\"667.17\" cy=\"562.936\" r=\"14\" fill=\"#3da44d\" fill-rule=\"evenodd\" fill-opacity=\"1\" stroke=\"#000000\" stroke-opacity=\"1\" stroke-width=\"3.2\"/>\n",
       "<circle clip-path=\"url(#clip542)\" cx=\"529.746\" cy=\"701.053\" r=\"14\" fill=\"#3da44d\" fill-rule=\"evenodd\" fill-opacity=\"1\" stroke=\"#000000\" stroke-opacity=\"1\" stroke-width=\"3.2\"/>\n",
       "<circle clip-path=\"url(#clip542)\" cx=\"835.04\" cy=\"761.641\" r=\"14\" fill=\"#3da44d\" fill-rule=\"evenodd\" fill-opacity=\"1\" stroke=\"#000000\" stroke-opacity=\"1\" stroke-width=\"3.2\"/>\n",
       "<circle clip-path=\"url(#clip542)\" cx=\"497.497\" cy=\"655.757\" r=\"14\" fill=\"#3da44d\" fill-rule=\"evenodd\" fill-opacity=\"1\" stroke=\"#000000\" stroke-opacity=\"1\" stroke-width=\"3.2\"/>\n",
       "<circle clip-path=\"url(#clip542)\" cx=\"255.649\" cy=\"857.975\" r=\"14\" fill=\"#3da44d\" fill-rule=\"evenodd\" fill-opacity=\"1\" stroke=\"#000000\" stroke-opacity=\"1\" stroke-width=\"3.2\"/>\n",
       "<circle clip-path=\"url(#clip542)\" cx=\"1053.63\" cy=\"549.803\" r=\"14\" fill=\"#3da44d\" fill-rule=\"evenodd\" fill-opacity=\"1\" stroke=\"#000000\" stroke-opacity=\"1\" stroke-width=\"3.2\"/>\n",
       "<circle clip-path=\"url(#clip542)\" cx=\"255.035\" cy=\"529.182\" r=\"14\" fill=\"#3da44d\" fill-rule=\"evenodd\" fill-opacity=\"1\" stroke=\"#000000\" stroke-opacity=\"1\" stroke-width=\"3.2\"/>\n",
       "<circle clip-path=\"url(#clip542)\" cx=\"719.637\" cy=\"860.101\" r=\"14\" fill=\"#3da44d\" fill-rule=\"evenodd\" fill-opacity=\"1\" stroke=\"#000000\" stroke-opacity=\"1\" stroke-width=\"3.2\"/>\n",
       "<circle clip-path=\"url(#clip542)\" cx=\"649.421\" cy=\"633.455\" r=\"14\" fill=\"#3da44d\" fill-rule=\"evenodd\" fill-opacity=\"1\" stroke=\"#000000\" stroke-opacity=\"1\" stroke-width=\"3.2\"/>\n",
       "<circle clip-path=\"url(#clip542)\" cx=\"729.098\" cy=\"743.652\" r=\"14\" fill=\"#3da44d\" fill-rule=\"evenodd\" fill-opacity=\"1\" stroke=\"#000000\" stroke-opacity=\"1\" stroke-width=\"3.2\"/>\n",
       "<circle clip-path=\"url(#clip542)\" cx=\"996.021\" cy=\"853.477\" r=\"14\" fill=\"#3da44d\" fill-rule=\"evenodd\" fill-opacity=\"1\" stroke=\"#000000\" stroke-opacity=\"1\" stroke-width=\"3.2\"/>\n",
       "<circle clip-path=\"url(#clip542)\" cx=\"941.636\" cy=\"829.946\" r=\"14\" fill=\"#3da44d\" fill-rule=\"evenodd\" fill-opacity=\"1\" stroke=\"#000000\" stroke-opacity=\"1\" stroke-width=\"3.2\"/>\n",
       "<circle clip-path=\"url(#clip542)\" cx=\"627.687\" cy=\"583.828\" r=\"14\" fill=\"#3da44d\" fill-rule=\"evenodd\" fill-opacity=\"1\" stroke=\"#000000\" stroke-opacity=\"1\" stroke-width=\"3.2\"/>\n",
       "<circle clip-path=\"url(#clip542)\" cx=\"688.434\" cy=\"739.373\" r=\"14\" fill=\"#3da44d\" fill-rule=\"evenodd\" fill-opacity=\"1\" stroke=\"#000000\" stroke-opacity=\"1\" stroke-width=\"3.2\"/>\n",
       "<circle clip-path=\"url(#clip542)\" cx=\"783.326\" cy=\"718.042\" r=\"14\" fill=\"#3da44d\" fill-rule=\"evenodd\" fill-opacity=\"1\" stroke=\"#000000\" stroke-opacity=\"1\" stroke-width=\"3.2\"/>\n",
       "<circle clip-path=\"url(#clip542)\" cx=\"389.916\" cy=\"847.762\" r=\"14\" fill=\"#3da44d\" fill-rule=\"evenodd\" fill-opacity=\"1\" stroke=\"#000000\" stroke-opacity=\"1\" stroke-width=\"3.2\"/>\n",
       "<circle clip-path=\"url(#clip542)\" cx=\"396.933\" cy=\"773.985\" r=\"14\" fill=\"#3da44d\" fill-rule=\"evenodd\" fill-opacity=\"1\" stroke=\"#000000\" stroke-opacity=\"1\" stroke-width=\"3.2\"/>\n",
       "<circle clip-path=\"url(#clip542)\" cx=\"984.317\" cy=\"806.417\" r=\"14\" fill=\"#3da44d\" fill-rule=\"evenodd\" fill-opacity=\"1\" stroke=\"#000000\" stroke-opacity=\"1\" stroke-width=\"3.2\"/>\n",
       "<circle clip-path=\"url(#clip542)\" cx=\"710.417\" cy=\"682.903\" r=\"14\" fill=\"#3da44d\" fill-rule=\"evenodd\" fill-opacity=\"1\" stroke=\"#000000\" stroke-opacity=\"1\" stroke-width=\"3.2\"/>\n",
       "<circle clip-path=\"url(#clip542)\" cx=\"483.545\" cy=\"759.55\" r=\"14\" fill=\"#3da44d\" fill-rule=\"evenodd\" fill-opacity=\"1\" stroke=\"#000000\" stroke-opacity=\"1\" stroke-width=\"3.2\"/>\n",
       "<circle clip-path=\"url(#clip542)\" cx=\"965.022\" cy=\"640.492\" r=\"14\" fill=\"#3da44d\" fill-rule=\"evenodd\" fill-opacity=\"1\" stroke=\"#000000\" stroke-opacity=\"1\" stroke-width=\"3.2\"/>\n",
       "<circle clip-path=\"url(#clip542)\" cx=\"647.41\" cy=\"730.604\" r=\"14\" fill=\"#3da44d\" fill-rule=\"evenodd\" fill-opacity=\"1\" stroke=\"#000000\" stroke-opacity=\"1\" stroke-width=\"3.2\"/>\n",
       "<circle clip-path=\"url(#clip542)\" cx=\"544.545\" cy=\"687.762\" r=\"14\" fill=\"#3da44d\" fill-rule=\"evenodd\" fill-opacity=\"1\" stroke=\"#000000\" stroke-opacity=\"1\" stroke-width=\"3.2\"/>\n",
       "<circle clip-path=\"url(#clip542)\" cx=\"610.056\" cy=\"847.19\" r=\"14\" fill=\"#3da44d\" fill-rule=\"evenodd\" fill-opacity=\"1\" stroke=\"#000000\" stroke-opacity=\"1\" stroke-width=\"3.2\"/>\n",
       "<circle clip-path=\"url(#clip542)\" cx=\"301.56\" cy=\"699.307\" r=\"14\" fill=\"#3da44d\" fill-rule=\"evenodd\" fill-opacity=\"1\" stroke=\"#000000\" stroke-opacity=\"1\" stroke-width=\"3.2\"/>\n",
       "<circle clip-path=\"url(#clip542)\" cx=\"672.736\" cy=\"843.751\" r=\"14\" fill=\"#3da44d\" fill-rule=\"evenodd\" fill-opacity=\"1\" stroke=\"#000000\" stroke-opacity=\"1\" stroke-width=\"3.2\"/>\n",
       "<circle clip-path=\"url(#clip542)\" cx=\"699.408\" cy=\"799.589\" r=\"14\" fill=\"#3da44d\" fill-rule=\"evenodd\" fill-opacity=\"1\" stroke=\"#000000\" stroke-opacity=\"1\" stroke-width=\"3.2\"/>\n",
       "<circle clip-path=\"url(#clip542)\" cx=\"338.471\" cy=\"805.071\" r=\"14\" fill=\"#3da44d\" fill-rule=\"evenodd\" fill-opacity=\"1\" stroke=\"#000000\" stroke-opacity=\"1\" stroke-width=\"3.2\"/>\n",
       "<circle clip-path=\"url(#clip542)\" cx=\"896.562\" cy=\"891.58\" r=\"14\" fill=\"#3da44d\" fill-rule=\"evenodd\" fill-opacity=\"1\" stroke=\"#000000\" stroke-opacity=\"1\" stroke-width=\"3.2\"/>\n",
       "<circle clip-path=\"url(#clip542)\" cx=\"495.39\" cy=\"598.432\" r=\"14\" fill=\"#3da44d\" fill-rule=\"evenodd\" fill-opacity=\"1\" stroke=\"#000000\" stroke-opacity=\"1\" stroke-width=\"3.2\"/>\n",
       "<circle clip-path=\"url(#clip542)\" cx=\"663.907\" cy=\"716.609\" r=\"14\" fill=\"#3da44d\" fill-rule=\"evenodd\" fill-opacity=\"1\" stroke=\"#000000\" stroke-opacity=\"1\" stroke-width=\"3.2\"/>\n",
       "<circle clip-path=\"url(#clip542)\" cx=\"541.388\" cy=\"714.47\" r=\"14\" fill=\"#3da44d\" fill-rule=\"evenodd\" fill-opacity=\"1\" stroke=\"#000000\" stroke-opacity=\"1\" stroke-width=\"3.2\"/>\n",
       "<circle clip-path=\"url(#clip542)\" cx=\"342.822\" cy=\"796.574\" r=\"14\" fill=\"#3da44d\" fill-rule=\"evenodd\" fill-opacity=\"1\" stroke=\"#000000\" stroke-opacity=\"1\" stroke-width=\"3.2\"/>\n",
       "<circle clip-path=\"url(#clip542)\" cx=\"672.766\" cy=\"745.439\" r=\"14\" fill=\"#3da44d\" fill-rule=\"evenodd\" fill-opacity=\"1\" stroke=\"#000000\" stroke-opacity=\"1\" stroke-width=\"3.2\"/>\n",
       "<circle clip-path=\"url(#clip542)\" cx=\"710.142\" cy=\"836.648\" r=\"14\" fill=\"#3da44d\" fill-rule=\"evenodd\" fill-opacity=\"1\" stroke=\"#000000\" stroke-opacity=\"1\" stroke-width=\"3.2\"/>\n",
       "<circle clip-path=\"url(#clip542)\" cx=\"1110.34\" cy=\"815.316\" r=\"14\" fill=\"#3da44d\" fill-rule=\"evenodd\" fill-opacity=\"1\" stroke=\"#000000\" stroke-opacity=\"1\" stroke-width=\"3.2\"/>\n",
       "<circle clip-path=\"url(#clip542)\" cx=\"881.244\" cy=\"796.363\" r=\"14\" fill=\"#3da44d\" fill-rule=\"evenodd\" fill-opacity=\"1\" stroke=\"#000000\" stroke-opacity=\"1\" stroke-width=\"3.2\"/>\n",
       "<circle clip-path=\"url(#clip542)\" cx=\"753.574\" cy=\"741.197\" r=\"14\" fill=\"#3da44d\" fill-rule=\"evenodd\" fill-opacity=\"1\" stroke=\"#000000\" stroke-opacity=\"1\" stroke-width=\"3.2\"/>\n",
       "<circle clip-path=\"url(#clip542)\" cx=\"1006.51\" cy=\"647.078\" r=\"14\" fill=\"#3da44d\" fill-rule=\"evenodd\" fill-opacity=\"1\" stroke=\"#000000\" stroke-opacity=\"1\" stroke-width=\"3.2\"/>\n",
       "<circle clip-path=\"url(#clip542)\" cx=\"660.388\" cy=\"737.11\" r=\"14\" fill=\"#3da44d\" fill-rule=\"evenodd\" fill-opacity=\"1\" stroke=\"#000000\" stroke-opacity=\"1\" stroke-width=\"3.2\"/>\n",
       "<circle clip-path=\"url(#clip542)\" cx=\"954.24\" cy=\"673.128\" r=\"14\" fill=\"#3da44d\" fill-rule=\"evenodd\" fill-opacity=\"1\" stroke=\"#000000\" stroke-opacity=\"1\" stroke-width=\"3.2\"/>\n",
       "<circle clip-path=\"url(#clip542)\" cx=\"1036.8\" cy=\"908.099\" r=\"14\" fill=\"#3da44d\" fill-rule=\"evenodd\" fill-opacity=\"1\" stroke=\"#000000\" stroke-opacity=\"1\" stroke-width=\"3.2\"/>\n",
       "<circle clip-path=\"url(#clip542)\" cx=\"811.492\" cy=\"656.7\" r=\"14\" fill=\"#3da44d\" fill-rule=\"evenodd\" fill-opacity=\"1\" stroke=\"#000000\" stroke-opacity=\"1\" stroke-width=\"3.2\"/>\n",
       "<circle clip-path=\"url(#clip542)\" cx=\"736.629\" cy=\"654.057\" r=\"14\" fill=\"#3da44d\" fill-rule=\"evenodd\" fill-opacity=\"1\" stroke=\"#000000\" stroke-opacity=\"1\" stroke-width=\"3.2\"/>\n",
       "<circle clip-path=\"url(#clip542)\" cx=\"909.031\" cy=\"892.408\" r=\"14\" fill=\"#3da44d\" fill-rule=\"evenodd\" fill-opacity=\"1\" stroke=\"#000000\" stroke-opacity=\"1\" stroke-width=\"3.2\"/>\n",
       "<circle clip-path=\"url(#clip542)\" cx=\"851.814\" cy=\"759.33\" r=\"14\" fill=\"#3da44d\" fill-rule=\"evenodd\" fill-opacity=\"1\" stroke=\"#000000\" stroke-opacity=\"1\" stroke-width=\"3.2\"/>\n",
       "<circle clip-path=\"url(#clip542)\" cx=\"794.199\" cy=\"796.182\" r=\"14\" fill=\"#3da44d\" fill-rule=\"evenodd\" fill-opacity=\"1\" stroke=\"#000000\" stroke-opacity=\"1\" stroke-width=\"3.2\"/>\n",
       "<circle clip-path=\"url(#clip542)\" cx=\"442.507\" cy=\"539.449\" r=\"14\" fill=\"#3da44d\" fill-rule=\"evenodd\" fill-opacity=\"1\" stroke=\"#000000\" stroke-opacity=\"1\" stroke-width=\"3.2\"/>\n",
       "<circle clip-path=\"url(#clip542)\" cx=\"664.977\" cy=\"770.303\" r=\"14\" fill=\"#3da44d\" fill-rule=\"evenodd\" fill-opacity=\"1\" stroke=\"#000000\" stroke-opacity=\"1\" stroke-width=\"3.2\"/>\n",
       "<circle clip-path=\"url(#clip542)\" cx=\"937.133\" cy=\"714.641\" r=\"14\" fill=\"#3da44d\" fill-rule=\"evenodd\" fill-opacity=\"1\" stroke=\"#000000\" stroke-opacity=\"1\" stroke-width=\"3.2\"/>\n",
       "<circle clip-path=\"url(#clip542)\" cx=\"498.449\" cy=\"629.998\" r=\"14\" fill=\"#3da44d\" fill-rule=\"evenodd\" fill-opacity=\"1\" stroke=\"#000000\" stroke-opacity=\"1\" stroke-width=\"3.2\"/>\n",
       "<circle clip-path=\"url(#clip542)\" cx=\"553.048\" cy=\"552.186\" r=\"14\" fill=\"#3da44d\" fill-rule=\"evenodd\" fill-opacity=\"1\" stroke=\"#000000\" stroke-opacity=\"1\" stroke-width=\"3.2\"/>\n",
       "<circle clip-path=\"url(#clip542)\" cx=\"974.509\" cy=\"815.501\" r=\"14\" fill=\"#3da44d\" fill-rule=\"evenodd\" fill-opacity=\"1\" stroke=\"#000000\" stroke-opacity=\"1\" stroke-width=\"3.2\"/>\n",
       "<circle clip-path=\"url(#clip542)\" cx=\"575.613\" cy=\"706.28\" r=\"14\" fill=\"#3da44d\" fill-rule=\"evenodd\" fill-opacity=\"1\" stroke=\"#000000\" stroke-opacity=\"1\" stroke-width=\"3.2\"/>\n",
       "<circle clip-path=\"url(#clip542)\" cx=\"1081.39\" cy=\"736.981\" r=\"14\" fill=\"#3da44d\" fill-rule=\"evenodd\" fill-opacity=\"1\" stroke=\"#000000\" stroke-opacity=\"1\" stroke-width=\"3.2\"/>\n",
       "<circle clip-path=\"url(#clip542)\" cx=\"765.371\" cy=\"927.235\" r=\"14\" fill=\"#3da44d\" fill-rule=\"evenodd\" fill-opacity=\"1\" stroke=\"#000000\" stroke-opacity=\"1\" stroke-width=\"3.2\"/>\n",
       "<circle clip-path=\"url(#clip542)\" cx=\"1055.28\" cy=\"726.667\" r=\"14\" fill=\"#3da44d\" fill-rule=\"evenodd\" fill-opacity=\"1\" stroke=\"#000000\" stroke-opacity=\"1\" stroke-width=\"3.2\"/>\n",
       "<circle clip-path=\"url(#clip542)\" cx=\"661.22\" cy=\"510.933\" r=\"14\" fill=\"#3da44d\" fill-rule=\"evenodd\" fill-opacity=\"1\" stroke=\"#000000\" stroke-opacity=\"1\" stroke-width=\"3.2\"/>\n",
       "<circle clip-path=\"url(#clip542)\" cx=\"1080.44\" cy=\"649.994\" r=\"14\" fill=\"#3da44d\" fill-rule=\"evenodd\" fill-opacity=\"1\" stroke=\"#000000\" stroke-opacity=\"1\" stroke-width=\"3.2\"/>\n",
       "<circle clip-path=\"url(#clip542)\" cx=\"609.871\" cy=\"435.389\" r=\"14\" fill=\"#3da44d\" fill-rule=\"evenodd\" fill-opacity=\"1\" stroke=\"#000000\" stroke-opacity=\"1\" stroke-width=\"3.2\"/>\n",
       "<circle clip-path=\"url(#clip542)\" cx=\"1070.47\" cy=\"862.289\" r=\"14\" fill=\"#3da44d\" fill-rule=\"evenodd\" fill-opacity=\"1\" stroke=\"#000000\" stroke-opacity=\"1\" stroke-width=\"3.2\"/>\n",
       "<circle clip-path=\"url(#clip542)\" cx=\"278.067\" cy=\"650.644\" r=\"14\" fill=\"#3da44d\" fill-rule=\"evenodd\" fill-opacity=\"1\" stroke=\"#000000\" stroke-opacity=\"1\" stroke-width=\"3.2\"/>\n",
       "<circle clip-path=\"url(#clip542)\" cx=\"275.06\" cy=\"721.375\" r=\"14\" fill=\"#3da44d\" fill-rule=\"evenodd\" fill-opacity=\"1\" stroke=\"#000000\" stroke-opacity=\"1\" stroke-width=\"3.2\"/>\n",
       "<circle clip-path=\"url(#clip542)\" cx=\"387.857\" cy=\"796.797\" r=\"14\" fill=\"#3da44d\" fill-rule=\"evenodd\" fill-opacity=\"1\" stroke=\"#000000\" stroke-opacity=\"1\" stroke-width=\"3.2\"/>\n",
       "<circle clip-path=\"url(#clip542)\" cx=\"1132.86\" cy=\"749.622\" r=\"14\" fill=\"#3da44d\" fill-rule=\"evenodd\" fill-opacity=\"1\" stroke=\"#000000\" stroke-opacity=\"1\" stroke-width=\"3.2\"/>\n",
       "<circle clip-path=\"url(#clip542)\" cx=\"1202.09\" cy=\"621.32\" r=\"14\" fill=\"#3da44d\" fill-rule=\"evenodd\" fill-opacity=\"1\" stroke=\"#000000\" stroke-opacity=\"1\" stroke-width=\"3.2\"/>\n",
       "<circle clip-path=\"url(#clip542)\" cx=\"823.692\" cy=\"780.115\" r=\"14\" fill=\"#3da44d\" fill-rule=\"evenodd\" fill-opacity=\"1\" stroke=\"#000000\" stroke-opacity=\"1\" stroke-width=\"3.2\"/>\n",
       "<circle clip-path=\"url(#clip542)\" cx=\"1208.03\" cy=\"746.71\" r=\"14\" fill=\"#3da44d\" fill-rule=\"evenodd\" fill-opacity=\"1\" stroke=\"#000000\" stroke-opacity=\"1\" stroke-width=\"3.2\"/>\n",
       "<circle clip-path=\"url(#clip542)\" cx=\"1246.31\" cy=\"621.59\" r=\"14\" fill=\"#3da44d\" fill-rule=\"evenodd\" fill-opacity=\"1\" stroke=\"#000000\" stroke-opacity=\"1\" stroke-width=\"3.2\"/>\n",
       "<circle clip-path=\"url(#clip542)\" cx=\"1296.5\" cy=\"648.153\" r=\"14\" fill=\"#3da44d\" fill-rule=\"evenodd\" fill-opacity=\"1\" stroke=\"#000000\" stroke-opacity=\"1\" stroke-width=\"3.2\"/>\n",
       "<circle clip-path=\"url(#clip542)\" cx=\"847.177\" cy=\"444.84\" r=\"14\" fill=\"#3da44d\" fill-rule=\"evenodd\" fill-opacity=\"1\" stroke=\"#000000\" stroke-opacity=\"1\" stroke-width=\"3.2\"/>\n",
       "<circle clip-path=\"url(#clip542)\" cx=\"1008.71\" cy=\"509.425\" r=\"14\" fill=\"#3da44d\" fill-rule=\"evenodd\" fill-opacity=\"1\" stroke=\"#000000\" stroke-opacity=\"1\" stroke-width=\"3.2\"/>\n",
       "<circle clip-path=\"url(#clip542)\" cx=\"1006.34\" cy=\"990.335\" r=\"14\" fill=\"#3da44d\" fill-rule=\"evenodd\" fill-opacity=\"1\" stroke=\"#000000\" stroke-opacity=\"1\" stroke-width=\"3.2\"/>\n",
       "<path clip-path=\"url(#clip540)\" d=\"\n",
       "M1987.92 302.578 L2280.8 302.578 L2280.8 95.2176 L1987.92 95.2176  Z\n",
       "  \" fill=\"#ffffff\" fill-rule=\"evenodd\" fill-opacity=\"1\"/>\n",
       "<polyline clip-path=\"url(#clip540)\" style=\"stroke:#000000; stroke-linecap:butt; stroke-linejoin:round; stroke-width:4; stroke-opacity:1; fill:none\" points=\"\n",
       "  1987.92,302.578 2280.8,302.578 2280.8,95.2176 1987.92,95.2176 1987.92,302.578 \n",
       "  \"/>\n",
       "<circle clip-path=\"url(#clip540)\" cx=\"2083.86\" cy=\"147.058\" r=\"23\" fill=\"#009af9\" fill-rule=\"evenodd\" fill-opacity=\"1\" stroke=\"#000000\" stroke-opacity=\"1\" stroke-width=\"5.12\"/>\n",
       "<path clip-path=\"url(#clip540)\" d=\"M2193.66 166.745 Q2191.85 171.375 2190.14 172.787 Q2188.42 174.199 2185.55 174.199 L2182.15 174.199 L2182.15 170.634 L2184.65 170.634 Q2186.41 170.634 2187.38 169.8 Q2188.35 168.967 2189.53 165.865 L2190.3 163.921 L2179.81 138.412 L2184.33 138.412 L2192.43 158.689 L2200.53 138.412 L2205.04 138.412 L2193.66 166.745 Z\" fill=\"#000000\" fill-rule=\"evenodd\" fill-opacity=\"1\" /><path clip-path=\"url(#clip540)\" d=\"M2212.34 160.402 L2219.97 160.402 L2219.97 134.037 L2211.66 135.703 L2211.66 131.444 L2219.93 129.778 L2224.6 129.778 L2224.6 160.402 L2232.24 160.402 L2232.24 164.338 L2212.34 164.338 L2212.34 160.402 Z\" fill=\"#000000\" fill-rule=\"evenodd\" fill-opacity=\"1\" /><circle clip-path=\"url(#clip540)\" cx=\"2083.86\" cy=\"198.898\" r=\"23\" fill=\"#e26f46\" fill-rule=\"evenodd\" fill-opacity=\"1\" stroke=\"#000000\" stroke-opacity=\"1\" stroke-width=\"5.12\"/>\n",
       "<path clip-path=\"url(#clip540)\" d=\"M2193.66 218.585 Q2191.85 223.215 2190.14 224.627 Q2188.42 226.039 2185.55 226.039 L2182.15 226.039 L2182.15 222.474 L2184.65 222.474 Q2186.41 222.474 2187.38 221.64 Q2188.35 220.807 2189.53 217.705 L2190.3 215.761 L2179.81 190.252 L2184.33 190.252 L2192.43 210.529 L2200.53 190.252 L2205.04 190.252 L2193.66 218.585 Z\" fill=\"#000000\" fill-rule=\"evenodd\" fill-opacity=\"1\" /><path clip-path=\"url(#clip540)\" d=\"M2215.55 212.242 L2231.87 212.242 L2231.87 216.178 L2209.93 216.178 L2209.93 212.242 Q2212.59 209.488 2217.17 204.858 Q2221.78 200.205 2222.96 198.863 Q2225.21 196.34 2226.09 194.604 Q2226.99 192.844 2226.99 191.155 Q2226.99 188.4 2225.04 186.664 Q2223.12 184.928 2220.02 184.928 Q2217.82 184.928 2215.37 185.692 Q2212.94 186.455 2210.16 188.006 L2210.16 183.284 Q2212.98 182.15 2215.44 181.571 Q2217.89 180.993 2219.93 180.993 Q2225.3 180.993 2228.49 183.678 Q2231.69 186.363 2231.69 190.854 Q2231.69 192.983 2230.88 194.905 Q2230.09 196.803 2227.98 199.395 Q2227.4 200.067 2224.3 203.284 Q2221.2 206.479 2215.55 212.242 Z\" fill=\"#000000\" fill-rule=\"evenodd\" fill-opacity=\"1\" /><circle clip-path=\"url(#clip540)\" cx=\"2083.86\" cy=\"250.738\" r=\"23\" fill=\"#3da44d\" fill-rule=\"evenodd\" fill-opacity=\"1\" stroke=\"#000000\" stroke-opacity=\"1\" stroke-width=\"5.12\"/>\n",
       "<path clip-path=\"url(#clip540)\" d=\"M2193.66 270.425 Q2191.85 275.055 2190.14 276.467 Q2188.42 277.879 2185.55 277.879 L2182.15 277.879 L2182.15 274.314 L2184.65 274.314 Q2186.41 274.314 2187.38 273.48 Q2188.35 272.647 2189.53 269.545 L2190.3 267.601 L2179.81 242.092 L2184.33 242.092 L2192.43 262.369 L2200.53 242.092 L2205.04 242.092 L2193.66 270.425 Z\" fill=\"#000000\" fill-rule=\"evenodd\" fill-opacity=\"1\" /><path clip-path=\"url(#clip540)\" d=\"M2225.69 249.383 Q2229.05 250.101 2230.92 252.369 Q2232.82 254.638 2232.82 257.971 Q2232.82 263.087 2229.3 265.888 Q2225.78 268.689 2219.3 268.689 Q2217.13 268.689 2214.81 268.249 Q2212.52 267.832 2210.07 266.976 L2210.07 262.462 Q2212.01 263.596 2214.33 264.175 Q2216.64 264.754 2219.16 264.754 Q2223.56 264.754 2225.85 263.018 Q2228.17 261.281 2228.17 257.971 Q2228.17 254.916 2226.02 253.203 Q2223.89 251.467 2220.07 251.467 L2216.04 251.467 L2216.04 247.624 L2220.25 247.624 Q2223.7 247.624 2225.53 246.258 Q2227.36 244.87 2227.36 242.277 Q2227.36 239.615 2225.46 238.203 Q2223.59 236.768 2220.07 236.768 Q2218.15 236.768 2215.95 237.184 Q2213.75 237.601 2211.11 238.481 L2211.11 234.314 Q2213.77 233.573 2216.09 233.203 Q2218.42 232.833 2220.48 232.833 Q2225.81 232.833 2228.91 235.263 Q2232.01 237.67 2232.01 241.791 Q2232.01 244.661 2230.37 246.652 Q2228.72 248.62 2225.69 249.383 Z\" fill=\"#000000\" fill-rule=\"evenodd\" fill-opacity=\"1\" /></svg>\n"
      ]
     },
     "execution_count": 12,
     "metadata": {},
     "output_type": "execute_result"
    }
   ],
   "source": [
    "k = 3   # Number of groups \n",
    "N = length(X)  # Total number of points to be clustered\n",
    "grps  = [[X[i] for i=1:N if assignment[i] == j] for j=1:k]\n",
    "scatter([c[1] for c in grps[1]], [c[2] for c in grps[1]])\n",
    "scatter!([c[1] for c in grps[2]], [c[2] for c in grps[2]])\n",
    "scatter!([c[1] for c in grps[3]], [c[2] for c in grps[3]])\n",
    "# plot!(legend = false, grid = false, size = (500,500),\n",
    "#        xlims = (-1.5,2.5), ylims = (-2,2))"
   ]
  },
  {
   "cell_type": "code",
   "execution_count": 10,
   "metadata": {},
   "outputs": [
    {
     "data": {
      "text/plain": [
       "3-element Vector{Vector{Vector{Float64}}}:\n",
       " [[1.379103442713303, 1.1266094158904962], [0.36648667181766403, 1.253923934125903], [0.9981980049878966, 1.3277797442477186], [0.7361207349441677, 0.9191844308642031], [0.8013142326564591, 1.1134488471061974], [0.8759107190193424, 0.82210209965392], [1.008620337935, 0.7063126866184453], [0.813813947247505, 1.2697301744068605], [1.0051680937253715, 0.737561061467329], [1.0142516894885087, 0.8594515502633887]  …  [0.9297237173016377, 0.5692656882906622], [0.985059734699367, 0.9394183865853698], [1.3385316323756022, 0.6030801287231564], [1.5498638494034536, 1.107791435757863], [1.4615156113265608, 1.139249554708808], [0.7226978955738421, 0.5860176488848894], [1.3874779244829012, 0.8296020780394264], [0.8272217411367742, 1.4281458186490372], [1.3664652114335487, 1.4216854691205667], [1.1004216188942124, 1.1984702921410686]]\n",
       " [[0.9293054461181978, -0.5503330072788375], [1.2373936280985647, -1.436258934523126], [1.2027183705954636, -0.9664465920552251], [1.2034906396544893, -1.136701623816863], [0.2913288267058266, -0.9180826419124541], [0.8632491580937977, -0.6786700897537958], [1.359135882848428, -1.123326772750124], [0.8704262302759557, -0.6885092339811253], [1.025379229400689, -1.6798620922249863], [1.2634612724650558, -0.9022091470033399]  …  [1.2232191752572756, -1.5731566079992885], [1.4193101885536905, -1.1296871499680285], [0.8152850308984143, -1.1773983729882895], [1.077464997162898, -0.897382939257852], [0.6474691742570918, -1.6881263825721295], [1.0646287020497416, -0.8688252535697509], [1.1606800604085334, -1.0500060989515216], [1.3246171634689343, -1.4090791582788706], [0.6233230008182393, -0.937128571662154], [0.8766024167581747, -0.7716761446137822]]\n",
       " [[0.21556180275575548, 0.3842380389957474], [0.15339962580418032, -0.3397341424173246], [0.1610149371078556, 0.07708272437620725], [-0.05568466309736482, -0.11599142371275888], [-0.12080668273143161, -0.193573125665007], [-0.1304212225337181, 0.27453768566634557], [-0.35811072684040607, 0.29807029355949227], [-0.4573376677239891, 0.8835575673986912], [0.03732453040388845, 0.2556037981650681], [0.26125113217221185, -0.41488981143698317]  …  [-0.3389127700845483, -0.12521062293145], [0.5078944210499886, -0.007946049962716929], [0.5865827416155445, 0.31098010210580773], [0.15647914941828095, -0.08374380654976614], [0.5933328113211385, -0.0007081655453876867], [0.6368462137213994, 0.3103089445530107], [0.6938908427076513, 0.2442801539945194], [0.18317294934928008, 0.7496621625263653], [0.3667803925972448, 0.58912098506593], [0.36408441725582374, -0.606296361715619]]"
      ]
     },
     "execution_count": 10,
     "metadata": {},
     "output_type": "execute_result"
    }
   ],
   "source": [
    "grps"
   ]
  },
  {
   "cell_type": "markdown",
   "metadata": {},
   "source": [
    "### Chapter 5 Linear dependence"
   ]
  },
  {
   "cell_type": "markdown",
   "metadata": {},
   "source": [
    "### Chapter 5.2 Basis"
   ]
  },
  {
   "cell_type": "code",
   "execution_count": 55,
   "metadata": {},
   "outputs": [
    {
     "name": "stdout",
     "output_type": "stream",
     "text": [
      "[1, 0, 0][1.0, -1.05, 0.0][0.0, 1.0, -1.05]\n",
      "[1.0, 2.0, -3.0]\n"
     ]
    }
   ],
   "source": [
    "r = 0.05\n",
    "e1 = [1,0,0]; l1 = [1,-(1+r),0]; l2 = [0,1,-(1+r)]\n",
    "println(e1, l1, l2)\n",
    "c = [1,2,-3]\n",
    "alpha3 = -c[3]/(1+r);\n",
    "alpha2 = -c[2]/(1+r) -c[3]/(1+r)^2\n",
    "alpha1 = c[1] + c[2]/(1+r) + c[3]/(1+r)^2\n",
    "println(alpha1*e1 + alpha2*l1 + alpha3*l2)"
   ]
  },
  {
   "cell_type": "markdown",
   "metadata": {},
   "source": [
    "### Chapter 5.3 Orthonormal vectors"
   ]
  },
  {
   "cell_type": "code",
   "execution_count": 56,
   "metadata": {},
   "outputs": [
    {
     "name": "stdout",
     "output_type": "stream",
     "text": [
      "1.0\n",
      "0.9999999999999999\n",
      "0.9999999999999999\n",
      "0.0 0.0 0.0\n"
     ]
    }
   ],
   "source": [
    "using LinearAlgebra\n",
    "a1 = [0,0,-1]; a2 = [1,1,0]/sqrt(2); a3 = [1,-1,0]/sqrt(2);\n",
    "println(norm(a1), \"\\n\", norm(a2), \"\\n\", norm(a3))\n",
    "println(a1'*a2, \" \", a1'*a3, \" \", a2'*a3)"
   ]
  },
  {
   "cell_type": "code",
   "execution_count": 57,
   "metadata": {},
   "outputs": [
    {
     "data": {
      "text/plain": [
       "3-element Vector{Int64}:\n",
       " 1\n",
       " 2\n",
       " 3"
      ]
     },
     "execution_count": 57,
     "metadata": {},
     "output_type": "execute_result"
    }
   ],
   "source": [
    "x = [1,2,3]"
   ]
  },
  {
   "cell_type": "code",
   "execution_count": 58,
   "metadata": {},
   "outputs": [],
   "source": [
    "# Get coefficients of x in orthonormal basis\n",
    "beta1 = a1'*x; \n",
    "beta2 = a2'*x; \n",
    "beta3 = a3'*x;"
   ]
  },
  {
   "cell_type": "code",
   "execution_count": 59,
   "metadata": {},
   "outputs": [
    {
     "data": {
      "text/plain": [
       "3-element Vector{Float64}:\n",
       " 0.9999999999999999\n",
       " 1.9999999999999996\n",
       " 3.0"
      ]
     },
     "execution_count": 59,
     "metadata": {},
     "output_type": "execute_result"
    }
   ],
   "source": [
    "xexp = beta1*a1 + beta2*a2 + beta3*a3"
   ]
  },
  {
   "cell_type": "markdown",
   "metadata": {},
   "source": [
    "### Chapter 5.4 Gram Schmidt Algorithm"
   ]
  },
  {
   "cell_type": "code",
   "execution_count": 9,
   "metadata": {},
   "outputs": [
    {
     "data": {
      "text/plain": [
       "gram_schmidt (generic function with 1 method)"
      ]
     },
     "execution_count": 9,
     "metadata": {},
     "output_type": "execute_result"
    }
   ],
   "source": [
    "using LinearAlgebra\n",
    "\n",
    "function gram_schmidt(a; tol = 1e-10)\n",
    "    copy_a = copy(a)\n",
    "    copy_a = convert(Vector{Vector{Float64}}, copy_a) # just turn int into float\n",
    "    \n",
    "    for i = 1:length(copy_a)\n",
    "\n",
    "        for j = 1:i-1\n",
    "            copy_a[i] -= (copy_a[j]'*copy_a[i]) * copy_a[j]\n",
    "        end\n",
    "\n",
    "        if norm(copy_a[i]) < tol\n",
    "            println(\"Vectors are lin0early dependent.\")\n",
    "            return copy_a\n",
    "        end\n",
    "        \n",
    "        copy_a[i] = copy_a[i]/norm(copy_a[i])\n",
    "    end\n",
    "   \n",
    "    return copy_a\n",
    "end"
   ]
  },
  {
   "cell_type": "code",
   "execution_count": 10,
   "metadata": {},
   "outputs": [
    {
     "data": {
      "text/plain": [
       "3-element Vector{Vector{Float64}}:\n",
       " [-0.5, 0.5, -0.5, 0.5]\n",
       " [0.5, 0.5, 0.5, 0.5]\n",
       " [-0.5, -0.5, 0.5, 0.5]"
      ]
     },
     "execution_count": 10,
     "metadata": {},
     "output_type": "execute_result"
    }
   ],
   "source": [
    "a = [ [-1, 1, -1, 1], [-1, 3, -1, 3], [1, 3, 5, 7] ]\n",
    "q = gram_schmidt(a)"
   ]
  },
  {
   "cell_type": "code",
   "execution_count": 62,
   "metadata": {},
   "outputs": [
    {
     "name": "stdout",
     "output_type": "stream",
     "text": [
      "Vectors are lin0early dependent.\n"
     ]
    },
    {
     "data": {
      "text/plain": [
       "3-element Vector{Vector{Float64}}:\n",
       " [-0.5, 0.5, -0.5, 0.5]\n",
       " [0.5, 0.5, 0.5, 0.5]\n",
       " [-1.1102230246251565e-16, 1.1102230246251565e-16, -1.1102230246251565e-16, 1.1102230246251565e-16]"
      ]
     },
     "execution_count": 62,
     "metadata": {},
     "output_type": "execute_result"
    }
   ],
   "source": [
    "b = [ a[1], a[2], 1.3*a[1] + 0.5*a[2] ]\n",
    "q = gram_schmidt(b)"
   ]
  },
  {
   "cell_type": "markdown",
   "metadata": {},
   "source": [
    "## Chapter 6\n",
    "### create a matix"
   ]
  },
  {
   "cell_type": "code",
   "execution_count": 63,
   "metadata": {},
   "outputs": [
    {
     "data": {
      "text/plain": [
       "3×3 Matrix{Int64}:\n",
       " 1  2  3\n",
       " 4  5  6\n",
       " 7  8  9"
      ]
     },
     "execution_count": 63,
     "metadata": {},
     "output_type": "execute_result"
    }
   ],
   "source": [
    "A = [1 2 3;\n",
    "     4 5 6;\n",
    "     7 8 9]"
   ]
  },
  {
   "cell_type": "code",
   "execution_count": 64,
   "metadata": {},
   "outputs": [
    {
     "data": {
      "text/plain": [
       "3"
      ]
     },
     "execution_count": 64,
     "metadata": {},
     "output_type": "execute_result"
    }
   ],
   "source": [
    "row_int, col_int = size(A)\n",
    "\n",
    "row_int = size(A, 1)\n",
    "col_int = size(A, 2)"
   ]
  },
  {
   "cell_type": "code",
   "execution_count": 65,
   "metadata": {},
   "outputs": [
    {
     "data": {
      "text/plain": [
       "4×3 Matrix{Int64}:\n",
       "  1   2   3\n",
       "  4   5   6\n",
       "  7   8   9\n",
       " 10  11  12"
      ]
     },
     "execution_count": 65,
     "metadata": {},
     "output_type": "execute_result"
    }
   ],
   "source": [
    "B = [1 2 3;\n",
    "     4 5 6;\n",
    "     7 8 9;\n",
    "     10 11 12]"
   ]
  },
  {
   "cell_type": "code",
   "execution_count": 66,
   "metadata": {},
   "outputs": [
    {
     "data": {
      "text/plain": [
       "tall (generic function with 1 method)"
      ]
     },
     "execution_count": 66,
     "metadata": {},
     "output_type": "execute_result"
    }
   ],
   "source": [
    "tall(matrix) = size(matrix, 1) > size(matrix, 2)"
   ]
  },
  {
   "cell_type": "code",
   "execution_count": 67,
   "metadata": {},
   "outputs": [
    {
     "data": {
      "text/plain": [
       "false"
      ]
     },
     "execution_count": 67,
     "metadata": {},
     "output_type": "execute_result"
    }
   ],
   "source": [
    "tall(A)"
   ]
  },
  {
   "cell_type": "code",
   "execution_count": 68,
   "metadata": {},
   "outputs": [
    {
     "data": {
      "text/plain": [
       "true"
      ]
     },
     "execution_count": 68,
     "metadata": {},
     "output_type": "execute_result"
    }
   ],
   "source": [
    "tall(B)"
   ]
  },
  {
   "cell_type": "code",
   "execution_count": 69,
   "metadata": {},
   "outputs": [
    {
     "data": {
      "text/plain": [
       "8"
      ]
     },
     "execution_count": 69,
     "metadata": {},
     "output_type": "execute_result"
    }
   ],
   "source": [
    "B[3, 2]"
   ]
  },
  {
   "cell_type": "code",
   "execution_count": 70,
   "metadata": {},
   "outputs": [
    {
     "data": {
      "text/plain": [
       "4×3 Matrix{Int64}:\n",
       "  1   2   3\n",
       "  4   5   6\n",
       "  7  88   9\n",
       " 10  11  12"
      ]
     },
     "execution_count": 70,
     "metadata": {},
     "output_type": "execute_result"
    }
   ],
   "source": [
    "B_2 = copy(B)\n",
    "B_2[3, 2] = 88\n",
    "B_2"
   ]
  },
  {
   "cell_type": "code",
   "execution_count": 71,
   "metadata": {},
   "outputs": [
    {
     "data": {
      "text/plain": [
       "false"
      ]
     },
     "execution_count": 71,
     "metadata": {},
     "output_type": "execute_result"
    }
   ],
   "source": [
    "A == B"
   ]
  },
  {
   "cell_type": "code",
   "execution_count": 72,
   "metadata": {},
   "outputs": [
    {
     "data": {
      "text/plain": [
       "4×3 BitMatrix:\n",
       " 1  1  1\n",
       " 1  1  1\n",
       " 1  0  1\n",
       " 1  1  1"
      ]
     },
     "execution_count": 72,
     "metadata": {},
     "output_type": "execute_result"
    }
   ],
   "source": [
    "B .== B_2"
   ]
  },
  {
   "cell_type": "code",
   "execution_count": 73,
   "metadata": {},
   "outputs": [
    {
     "data": {
      "text/plain": [
       "11"
      ]
     },
     "execution_count": 73,
     "metadata": {},
     "output_type": "execute_result"
    }
   ],
   "source": [
    "sum(B .== B_2)"
   ]
  },
  {
   "cell_type": "markdown",
   "metadata": {},
   "source": [
    "### slicing and reshape"
   ]
  },
  {
   "cell_type": "code",
   "execution_count": 74,
   "metadata": {},
   "outputs": [
    {
     "data": {
      "text/plain": [
       "4-element Vector{Int64}:\n",
       "  1\n",
       "  4\n",
       "  7\n",
       " 10"
      ]
     },
     "execution_count": 74,
     "metadata": {},
     "output_type": "execute_result"
    }
   ],
   "source": [
    "B[:, 1]"
   ]
  },
  {
   "cell_type": "code",
   "execution_count": 75,
   "metadata": {},
   "outputs": [
    {
     "data": {
      "text/plain": [
       "3-element Vector{Int64}:\n",
       " 1\n",
       " 2\n",
       " 3"
      ]
     },
     "execution_count": 75,
     "metadata": {},
     "output_type": "execute_result"
    }
   ],
   "source": [
    "B[1, :]"
   ]
  },
  {
   "cell_type": "code",
   "execution_count": 76,
   "metadata": {},
   "outputs": [
    {
     "data": {
      "text/plain": [
       "2×2 Matrix{Int64}:\n",
       " 1  2\n",
       " 4  5"
      ]
     },
     "execution_count": 76,
     "metadata": {},
     "output_type": "execute_result"
    }
   ],
   "source": [
    "B[1:2, 1:2]"
   ]
  },
  {
   "cell_type": "code",
   "execution_count": 77,
   "metadata": {},
   "outputs": [
    {
     "data": {
      "text/plain": [
       "3-element Vector{Int64}:\n",
       " 7\n",
       " 4\n",
       " 1"
      ]
     },
     "execution_count": 77,
     "metadata": {},
     "output_type": "execute_result"
    }
   ],
   "source": [
    "B[3:-1:1, 1]"
   ]
  },
  {
   "cell_type": "code",
   "execution_count": 78,
   "metadata": {},
   "outputs": [
    {
     "data": {
      "text/plain": [
       "3×4 Matrix{Int64}:\n",
       " 1  10   8   6\n",
       " 4   2  11   9\n",
       " 7   5   3  12"
      ]
     },
     "execution_count": 78,
     "metadata": {},
     "output_type": "execute_result"
    }
   ],
   "source": [
    "reshape(B, (3,4))"
   ]
  },
  {
   "cell_type": "markdown",
   "metadata": {},
   "source": [
    "### block and vector"
   ]
  },
  {
   "cell_type": "code",
   "execution_count": 79,
   "metadata": {},
   "outputs": [
    {
     "data": {
      "text/plain": [
       "3×4 Matrix{Int64}:\n",
       " 0  2  3  -1\n",
       " 2  2  1   4\n",
       " 1  3  5   4"
      ]
     },
     "execution_count": 79,
     "metadata": {},
     "output_type": "execute_result"
    }
   ],
   "source": [
    "A = [0 2 3]\n",
    "B = [-1]\n",
    "C = [2 2 1; 1 3 5]\n",
    "D = [4; 4]\n",
    "\n",
    "E = [A B; C D]"
   ]
  },
  {
   "cell_type": "code",
   "execution_count": 80,
   "metadata": {},
   "outputs": [
    {
     "name": "stdout",
     "output_type": "stream",
     "text": [
      "[[1 2], [3 4], [5 6]]Vector{Matrix{Int64}}\n",
      "[[1 2]; [3 4]; [5 6]]Matrix{Matrix{Int64}}\n",
      "[1 2 3 4 5 6]Matrix{Int64}\n",
      "[1 2; 3 4; 5 6]"
     ]
    }
   ],
   "source": [
    "a = [[1 2], [3 4], [5 6]]\n",
    "A = hcat(a)\n",
    "B = hcat(a...)\n",
    "C = vcat(a...)\n",
    "println(a, typeof(a))\n",
    "println(A, typeof(A))\n",
    "println(B, typeof(B))\n",
    "print(C)"
   ]
  },
  {
   "cell_type": "markdown",
   "metadata": {},
   "source": [
    "### zero and identity matrix"
   ]
  },
  {
   "cell_type": "code",
   "execution_count": 81,
   "metadata": {},
   "outputs": [],
   "source": [
    "using LinearAlgebra"
   ]
  },
  {
   "cell_type": "code",
   "execution_count": 82,
   "metadata": {},
   "outputs": [
    {
     "data": {
      "text/plain": [
       "2×2 Matrix{Float64}:\n",
       " 0.0  0.0\n",
       " 0.0  0.0"
      ]
     },
     "execution_count": 82,
     "metadata": {},
     "output_type": "execute_result"
    }
   ],
   "source": [
    "zeros(2, 2)"
   ]
  },
  {
   "cell_type": "code",
   "execution_count": 83,
   "metadata": {},
   "outputs": [
    {
     "data": {
      "text/plain": [
       "3×3 Matrix{Int64}:\n",
       " 1  0  0\n",
       " 0  2  0\n",
       " 0  0  3"
      ]
     },
     "execution_count": 83,
     "metadata": {},
     "output_type": "execute_result"
    }
   ],
   "source": [
    "diagm(0 => [1, 2, 3])"
   ]
  },
  {
   "cell_type": "code",
   "execution_count": 84,
   "metadata": {},
   "outputs": [
    {
     "data": {
      "text/plain": [
       "3×3 Matrix{Int64}:\n",
       " 1  0  0\n",
       " 0  1  0\n",
       " 0  0  1"
      ]
     },
     "execution_count": 84,
     "metadata": {},
     "output_type": "execute_result"
    }
   ],
   "source": [
    "diagonal(x) = diagm(0 => x)\n",
    "diagonal([1, 1, 1])"
   ]
  },
  {
   "cell_type": "code",
   "execution_count": 85,
   "metadata": {},
   "outputs": [
    {
     "data": {
      "text/plain": [
       "3×3 Matrix{Int64}:\n",
       " 1  0  0\n",
       " 0  1  0\n",
       " 0  0  1"
      ]
     },
     "execution_count": 85,
     "metadata": {},
     "output_type": "execute_result"
    }
   ],
   "source": [
    "iden(dim) = diagm(0 => [1 for i in 1:dim])\n",
    "iden(3)"
   ]
  },
  {
   "cell_type": "code",
   "execution_count": 86,
   "metadata": {},
   "outputs": [
    {
     "data": {
      "text/plain": [
       "4-element Vector{Int64}:\n",
       " 1\n",
       " 1\n",
       " 1\n",
       " 1"
      ]
     },
     "execution_count": 86,
     "metadata": {},
     "output_type": "execute_result"
    }
   ],
   "source": [
    "a = [1 for i in 1:4]"
   ]
  },
  {
   "cell_type": "code",
   "execution_count": 87,
   "metadata": {},
   "outputs": [
    {
     "data": {
      "text/plain": [
       "2-element Vector{Int64}:\n",
       " 1\n",
       " 4"
      ]
     },
     "execution_count": 87,
     "metadata": {},
     "output_type": "execute_result"
    }
   ],
   "source": [
    "diag(C)"
   ]
  },
  {
   "cell_type": "markdown",
   "metadata": {},
   "source": [
    "### random matrix and sparse matrix"
   ]
  },
  {
   "cell_type": "code",
   "execution_count": 88,
   "metadata": {},
   "outputs": [
    {
     "data": {
      "text/plain": [
       "2×3 Matrix{Float64}:\n",
       " 0.953393  0.808025  0.739526\n",
       " 0.843835  0.934284  0.737392"
      ]
     },
     "execution_count": 88,
     "metadata": {},
     "output_type": "execute_result"
    }
   ],
   "source": [
    "rand(2, 3)"
   ]
  },
  {
   "cell_type": "code",
   "execution_count": 89,
   "metadata": {},
   "outputs": [
    {
     "data": {
      "text/plain": [
       "2×3 Matrix{Float64}:\n",
       " 9.35247   5.13699  9.15537\n",
       " 0.636184  9.21932  7.91617"
      ]
     },
     "execution_count": 89,
     "metadata": {},
     "output_type": "execute_result"
    }
   ],
   "source": [
    "rand(2, 3)*10"
   ]
  },
  {
   "cell_type": "code",
   "execution_count": 90,
   "metadata": {},
   "outputs": [
    {
     "data": {
      "text/plain": [
       "5×5 SparseMatrixCSC{Int64, Int64} with 5 stored entries:\n",
       " 1  ⋅  4  ⋅  ⋅\n",
       " 2  3  ⋅  ⋅  ⋅\n",
       " ⋅  ⋅  ⋅  ⋅  ⋅\n",
       " ⋅  ⋅  ⋅  5  ⋅\n",
       " ⋅  ⋅  ⋅  ⋅  ⋅"
      ]
     },
     "execution_count": 90,
     "metadata": {},
     "output_type": "execute_result"
    }
   ],
   "source": [
    "using SparseArrays\n",
    "row_index = [1, 2, 2, 1, 4]\n",
    "col_index = [1, 1, 2, 3, 4]\n",
    "values = [1, 2, 3, 4, 5]\n",
    "A = sparse(row_index, col_index, values, 5, 5)"
   ]
  },
  {
   "cell_type": "code",
   "execution_count": 91,
   "metadata": {},
   "outputs": [
    {
     "data": {
      "text/plain": [
       "3×2 Matrix{Int64}:\n",
       " -1  -2\n",
       " -4  -5\n",
       " -7  -8"
      ]
     },
     "execution_count": 91,
     "metadata": {},
     "output_type": "execute_result"
    }
   ],
   "source": [
    "A = [1 2;\n",
    "     4 5;\n",
    "     7 8]\n",
    "\n",
    "B = [-1 -2;\n",
    "     -4 -5;\n",
    "     -7 -8]"
   ]
  },
  {
   "cell_type": "code",
   "execution_count": 92,
   "metadata": {},
   "outputs": [
    {
     "data": {
      "text/plain": [
       "3×2 Matrix{Int64}:\n",
       " 0  0\n",
       " 0  0\n",
       " 0  0"
      ]
     },
     "execution_count": 92,
     "metadata": {},
     "output_type": "execute_result"
    }
   ],
   "source": [
    "A + B"
   ]
  },
  {
   "cell_type": "code",
   "execution_count": 93,
   "metadata": {},
   "outputs": [
    {
     "data": {
      "text/plain": [
       "3×2 Matrix{Float64}:\n",
       "  2.2   4.4\n",
       "  8.8  11.0\n",
       " 15.4  17.6"
      ]
     },
     "execution_count": 93,
     "metadata": {},
     "output_type": "execute_result"
    }
   ],
   "source": [
    "2.2*A"
   ]
  },
  {
   "cell_type": "code",
   "execution_count": 94,
   "metadata": {},
   "outputs": [
    {
     "data": {
      "text/plain": [
       "3×2 Matrix{Int64}:\n",
       "  -1   -4\n",
       " -16  -25\n",
       " -49  -64"
      ]
     },
     "execution_count": 94,
     "metadata": {},
     "output_type": "execute_result"
    }
   ],
   "source": [
    "# elemet-wise operation\n",
    "A .* B"
   ]
  },
  {
   "cell_type": "code",
   "execution_count": 95,
   "metadata": {},
   "outputs": [
    {
     "data": {
      "text/plain": [
       "2×2 Matrix{Int64}:\n",
       " -66  -78\n",
       " -78  -93"
      ]
     },
     "execution_count": 95,
     "metadata": {},
     "output_type": "execute_result"
    }
   ],
   "source": [
    "A' * B"
   ]
  },
  {
   "cell_type": "code",
   "execution_count": 96,
   "metadata": {},
   "outputs": [
    {
     "data": {
      "text/plain": [
       "12.609520212918492"
      ]
     },
     "execution_count": 96,
     "metadata": {},
     "output_type": "execute_result"
    }
   ],
   "source": [
    "norm(A)"
   ]
  },
  {
   "cell_type": "markdown",
   "metadata": {},
   "source": [
    "### special matrix"
   ]
  },
  {
   "cell_type": "code",
   "execution_count": 97,
   "metadata": {},
   "outputs": [
    {
     "data": {
      "text/plain": [
       "5×5 Matrix{Float64}:\n",
       " 1.0  0.0  0.0  0.0  0.0\n",
       " 1.0  1.0  0.0  0.0  0.0\n",
       " 1.0  1.0  1.0  0.0  0.0\n",
       " 1.0  1.0  1.0  1.0  0.0\n",
       " 1.0  1.0  1.0  1.0  1.0"
      ]
     },
     "execution_count": 97,
     "metadata": {},
     "output_type": "execute_result"
    }
   ],
   "source": [
    "function low_triangular(n)\n",
    "    U = zeros(n, n)\n",
    "    for i in 1:n\n",
    "        for j in 1:i\n",
    "            U[i, j] = 1\n",
    "        end\n",
    "    end\n",
    "    return U\n",
    "end\n",
    "\n",
    "low_triangular(5)"
   ]
  },
  {
   "cell_type": "markdown",
   "metadata": {},
   "source": [
    "## Chapter 7\n",
    "### geometric transformations"
   ]
  },
  {
   "cell_type": "code",
   "execution_count": 98,
   "metadata": {},
   "outputs": [
    {
     "data": {
      "text/plain": [
       "2×2 Matrix{Float64}:\n",
       " 0.5       -0.866025\n",
       " 0.866025   0.5"
      ]
     },
     "execution_count": 98,
     "metadata": {},
     "output_type": "execute_result"
    }
   ],
   "source": [
    "rot(theta) = [cos(theta) -sin(theta); sin(theta) cos(theta)]\n",
    "rot(pi/3)"
   ]
  },
  {
   "cell_type": "code",
   "execution_count": 99,
   "metadata": {},
   "outputs": [
    {
     "data": {
      "text/plain": [
       "6-element Vector{Vector{Float64}}:\n",
       " [0.5000000000000001, 0.8660254037844386]\n",
       " [0.7500000000000002, 1.299038105676658]\n",
       " [1.0000000000000002, 1.7320508075688772]\n",
       " [0.28349364905389046, 0.9910254037844386]\n",
       " [0.5334936490538906, 1.424038105676658]\n",
       " [0.06698729810778081, 1.1160254037844386]"
      ]
     },
     "execution_count": 99,
     "metadata": {},
     "output_type": "execute_result"
    }
   ],
   "source": [
    "points = [[1, 0], [1.5, 0], [2, 0], [1, 0.25], [1.5, 0.25], [1, 0.5]]\n",
    "rpoints = [rot(pi/3)*p for p in points]"
   ]
  },
  {
   "cell_type": "code",
   "execution_count": 100,
   "metadata": {},
   "outputs": [],
   "source": [
    "# Pkg.add(\"Plots\")\n",
    "using Plots"
   ]
  },
  {
   "cell_type": "code",
   "execution_count": 101,
   "metadata": {},
   "outputs": [
    {
     "data": {
      "image/svg+xml": [
       "<?xml version=\"1.0\" encoding=\"utf-8\"?>\n",
       "<svg xmlns=\"http://www.w3.org/2000/svg\" xmlns:xlink=\"http://www.w3.org/1999/xlink\" width=\"250\" height=\"250\" viewBox=\"0 0 1000 1000\">\n",
       "<defs>\n",
       "  <clipPath id=\"clip500\">\n",
       "    <rect x=\"0\" y=\"0\" width=\"1000\" height=\"1000\"/>\n",
       "  </clipPath>\n",
       "</defs>\n",
       "<path clip-path=\"url(#clip500)\" d=\"\n",
       "M0 1000 L1000 1000 L1000 0 L0 0  Z\n",
       "  \" fill=\"#ffffff\" fill-rule=\"evenodd\" fill-opacity=\"1\"/>\n",
       "<defs>\n",
       "  <clipPath id=\"clip501\">\n",
       "    <rect x=\"200\" y=\"100\" width=\"701\" height=\"701\"/>\n",
       "  </clipPath>\n",
       "</defs>\n",
       "<path clip-path=\"url(#clip500)\" d=\"\n",
       "M142.112 875.168 L952.756 875.168 L952.756 47.2441 L142.112 47.2441  Z\n",
       "  \" fill=\"#ffffff\" fill-rule=\"evenodd\" fill-opacity=\"1\"/>\n",
       "<defs>\n",
       "  <clipPath id=\"clip502\">\n",
       "    <rect x=\"142\" y=\"47\" width=\"812\" height=\"829\"/>\n",
       "  </clipPath>\n",
       "</defs>\n",
       "<polyline clip-path=\"url(#clip502)\" style=\"stroke:#000000; stroke-linecap:butt; stroke-linejoin:round; stroke-width:2; stroke-opacity:0.1; fill:none\" points=\"\n",
       "  178.96,875.168 178.96,47.2441 \n",
       "  \"/>\n",
       "<polyline clip-path=\"url(#clip502)\" style=\"stroke:#000000; stroke-linecap:butt; stroke-linejoin:round; stroke-width:2; stroke-opacity:0.1; fill:none\" points=\"\n",
       "  363.197,875.168 363.197,47.2441 \n",
       "  \"/>\n",
       "<polyline clip-path=\"url(#clip502)\" style=\"stroke:#000000; stroke-linecap:butt; stroke-linejoin:round; stroke-width:2; stroke-opacity:0.1; fill:none\" points=\"\n",
       "  547.434,875.168 547.434,47.2441 \n",
       "  \"/>\n",
       "<polyline clip-path=\"url(#clip502)\" style=\"stroke:#000000; stroke-linecap:butt; stroke-linejoin:round; stroke-width:2; stroke-opacity:0.1; fill:none\" points=\"\n",
       "  731.671,875.168 731.671,47.2441 \n",
       "  \"/>\n",
       "<polyline clip-path=\"url(#clip502)\" style=\"stroke:#000000; stroke-linecap:butt; stroke-linejoin:round; stroke-width:2; stroke-opacity:0.1; fill:none\" points=\"\n",
       "  915.908,875.168 915.908,47.2441 \n",
       "  \"/>\n",
       "<polyline clip-path=\"url(#clip500)\" style=\"stroke:#000000; stroke-linecap:butt; stroke-linejoin:round; stroke-width:4; stroke-opacity:1; fill:none\" points=\"\n",
       "  142.112,875.168 952.756,875.168 \n",
       "  \"/>\n",
       "<polyline clip-path=\"url(#clip500)\" style=\"stroke:#000000; stroke-linecap:butt; stroke-linejoin:round; stroke-width:4; stroke-opacity:1; fill:none\" points=\"\n",
       "  178.96,875.168 178.96,856.27 \n",
       "  \"/>\n",
       "<polyline clip-path=\"url(#clip500)\" style=\"stroke:#000000; stroke-linecap:butt; stroke-linejoin:round; stroke-width:4; stroke-opacity:1; fill:none\" points=\"\n",
       "  363.197,875.168 363.197,856.27 \n",
       "  \"/>\n",
       "<polyline clip-path=\"url(#clip500)\" style=\"stroke:#000000; stroke-linecap:butt; stroke-linejoin:round; stroke-width:4; stroke-opacity:1; fill:none\" points=\"\n",
       "  547.434,875.168 547.434,856.27 \n",
       "  \"/>\n",
       "<polyline clip-path=\"url(#clip500)\" style=\"stroke:#000000; stroke-linecap:butt; stroke-linejoin:round; stroke-width:4; stroke-opacity:1; fill:none\" points=\"\n",
       "  731.671,875.168 731.671,856.27 \n",
       "  \"/>\n",
       "<polyline clip-path=\"url(#clip500)\" style=\"stroke:#000000; stroke-linecap:butt; stroke-linejoin:round; stroke-width:4; stroke-opacity:1; fill:none\" points=\"\n",
       "  915.908,875.168 915.908,856.27 \n",
       "  \"/>\n",
       "<path clip-path=\"url(#clip500)\" d=\"M156.344 894.887 Q152.733 894.887 150.904 898.451 Q149.099 901.993 149.099 909.123 Q149.099 916.229 150.904 919.794 Q152.733 923.335 156.344 923.335 Q159.978 923.335 161.784 919.794 Q163.612 916.229 163.612 909.123 Q163.612 901.993 161.784 898.451 Q159.978 894.887 156.344 894.887 M156.344 891.183 Q162.154 891.183 165.21 895.789 Q168.288 900.373 168.288 909.123 Q168.288 917.849 165.21 922.456 Q162.154 927.039 156.344 927.039 Q150.534 927.039 147.455 922.456 Q144.4 917.849 144.4 909.123 Q144.4 900.373 147.455 895.789 Q150.534 891.183 156.344 891.183 Z\" fill=\"#000000\" fill-rule=\"evenodd\" fill-opacity=\"1\" /><path clip-path=\"url(#clip500)\" d=\"M176.506 920.488 L181.39 920.488 L181.39 926.368 L176.506 926.368 L176.506 920.488 Z\" fill=\"#000000\" fill-rule=\"evenodd\" fill-opacity=\"1\" /><path clip-path=\"url(#clip500)\" d=\"M201.575 894.887 Q197.964 894.887 196.135 898.451 Q194.33 901.993 194.33 909.123 Q194.33 916.229 196.135 919.794 Q197.964 923.335 201.575 923.335 Q205.209 923.335 207.015 919.794 Q208.844 916.229 208.844 909.123 Q208.844 901.993 207.015 898.451 Q205.209 894.887 201.575 894.887 M201.575 891.183 Q207.385 891.183 210.441 895.789 Q213.52 900.373 213.52 909.123 Q213.52 917.849 210.441 922.456 Q207.385 927.039 201.575 927.039 Q195.765 927.039 192.686 922.456 Q189.631 917.849 189.631 909.123 Q189.631 900.373 192.686 895.789 Q195.765 891.183 201.575 891.183 Z\" fill=\"#000000\" fill-rule=\"evenodd\" fill-opacity=\"1\" /><path clip-path=\"url(#clip500)\" d=\"M341.079 894.887 Q337.468 894.887 335.639 898.451 Q333.834 901.993 333.834 909.123 Q333.834 916.229 335.639 919.794 Q337.468 923.335 341.079 923.335 Q344.713 923.335 346.519 919.794 Q348.347 916.229 348.347 909.123 Q348.347 901.993 346.519 898.451 Q344.713 894.887 341.079 894.887 M341.079 891.183 Q346.889 891.183 349.945 895.789 Q353.023 900.373 353.023 909.123 Q353.023 917.849 349.945 922.456 Q346.889 927.039 341.079 927.039 Q335.269 927.039 332.19 922.456 Q329.134 917.849 329.134 909.123 Q329.134 900.373 332.19 895.789 Q335.269 891.183 341.079 891.183 Z\" fill=\"#000000\" fill-rule=\"evenodd\" fill-opacity=\"1\" /><path clip-path=\"url(#clip500)\" d=\"M361.241 920.488 L366.125 920.488 L366.125 926.368 L361.241 926.368 L361.241 920.488 Z\" fill=\"#000000\" fill-rule=\"evenodd\" fill-opacity=\"1\" /><path clip-path=\"url(#clip500)\" d=\"M376.356 891.808 L394.713 891.808 L394.713 895.743 L380.639 895.743 L380.639 904.215 Q381.657 903.868 382.676 903.706 Q383.694 903.521 384.713 903.521 Q390.5 903.521 393.879 906.692 Q397.259 909.863 397.259 915.28 Q397.259 920.859 393.787 923.96 Q390.315 927.039 383.995 927.039 Q381.819 927.039 379.551 926.669 Q377.306 926.298 374.898 925.558 L374.898 920.859 Q376.981 921.993 379.204 922.548 Q381.426 923.104 383.903 923.104 Q387.907 923.104 390.245 920.998 Q392.583 918.891 392.583 915.28 Q392.583 911.669 390.245 909.562 Q387.907 907.456 383.903 907.456 Q382.028 907.456 380.153 907.873 Q378.301 908.289 376.356 909.169 L376.356 891.808 Z\" fill=\"#000000\" fill-rule=\"evenodd\" fill-opacity=\"1\" /><path clip-path=\"url(#clip500)\" d=\"M514.587 922.433 L522.226 922.433 L522.226 896.067 L513.916 897.734 L513.916 893.475 L522.18 891.808 L526.855 891.808 L526.855 922.433 L534.494 922.433 L534.494 926.368 L514.587 926.368 L514.587 922.433 Z\" fill=\"#000000\" fill-rule=\"evenodd\" fill-opacity=\"1\" /><path clip-path=\"url(#clip500)\" d=\"M543.939 920.488 L548.823 920.488 L548.823 926.368 L543.939 926.368 L543.939 920.488 Z\" fill=\"#000000\" fill-rule=\"evenodd\" fill-opacity=\"1\" /><path clip-path=\"url(#clip500)\" d=\"M569.008 894.887 Q565.397 894.887 563.568 898.451 Q561.763 901.993 561.763 909.123 Q561.763 916.229 563.568 919.794 Q565.397 923.335 569.008 923.335 Q572.642 923.335 574.448 919.794 Q576.276 916.229 576.276 909.123 Q576.276 901.993 574.448 898.451 Q572.642 894.887 569.008 894.887 M569.008 891.183 Q574.818 891.183 577.874 895.789 Q580.952 900.373 580.952 909.123 Q580.952 917.849 577.874 922.456 Q574.818 927.039 569.008 927.039 Q563.198 927.039 560.119 922.456 Q557.064 917.849 557.064 909.123 Q557.064 900.373 560.119 895.789 Q563.198 891.183 569.008 891.183 Z\" fill=\"#000000\" fill-rule=\"evenodd\" fill-opacity=\"1\" /><path clip-path=\"url(#clip500)\" d=\"M699.322 922.433 L706.961 922.433 L706.961 896.067 L698.651 897.734 L698.651 893.475 L706.914 891.808 L711.59 891.808 L711.59 922.433 L719.229 922.433 L719.229 926.368 L699.322 926.368 L699.322 922.433 Z\" fill=\"#000000\" fill-rule=\"evenodd\" fill-opacity=\"1\" /><path clip-path=\"url(#clip500)\" d=\"M728.674 920.488 L733.558 920.488 L733.558 926.368 L728.674 926.368 L728.674 920.488 Z\" fill=\"#000000\" fill-rule=\"evenodd\" fill-opacity=\"1\" /><path clip-path=\"url(#clip500)\" d=\"M743.789 891.808 L762.146 891.808 L762.146 895.743 L748.072 895.743 L748.072 904.215 Q749.09 903.868 750.109 903.706 Q751.127 903.521 752.146 903.521 Q757.933 903.521 761.312 906.692 Q764.692 909.863 764.692 915.28 Q764.692 920.859 761.22 923.96 Q757.747 927.039 751.428 927.039 Q749.252 927.039 746.984 926.669 Q744.738 926.298 742.331 925.558 L742.331 920.859 Q744.414 921.993 746.636 922.548 Q748.859 923.104 751.335 923.104 Q755.34 923.104 757.678 920.998 Q760.016 918.891 760.016 915.28 Q760.016 911.669 757.678 909.562 Q755.34 907.456 751.335 907.456 Q749.46 907.456 747.586 907.873 Q745.734 908.289 743.789 909.169 L743.789 891.808 Z\" fill=\"#000000\" fill-rule=\"evenodd\" fill-opacity=\"1\" /><path clip-path=\"url(#clip500)\" d=\"M887.147 922.433 L903.466 922.433 L903.466 926.368 L881.522 926.368 L881.522 922.433 Q884.184 919.678 888.767 915.048 Q893.374 910.396 894.554 909.053 Q896.8 906.53 897.679 904.794 Q898.582 903.035 898.582 901.345 Q898.582 898.59 896.638 896.854 Q894.716 895.118 891.615 895.118 Q889.416 895.118 886.962 895.882 Q884.531 896.646 881.754 898.197 L881.754 893.475 Q884.578 892.34 887.031 891.762 Q889.485 891.183 891.522 891.183 Q896.892 891.183 900.087 893.868 Q903.281 896.553 903.281 901.044 Q903.281 903.174 902.471 905.095 Q901.684 906.993 899.578 909.586 Q898.999 910.257 895.897 913.474 Q892.795 916.669 887.147 922.433 Z\" fill=\"#000000\" fill-rule=\"evenodd\" fill-opacity=\"1\" /><path clip-path=\"url(#clip500)\" d=\"M913.281 920.488 L918.165 920.488 L918.165 926.368 L913.281 926.368 L913.281 920.488 Z\" fill=\"#000000\" fill-rule=\"evenodd\" fill-opacity=\"1\" /><path clip-path=\"url(#clip500)\" d=\"M938.35 894.887 Q934.739 894.887 932.911 898.451 Q931.105 901.993 931.105 909.123 Q931.105 916.229 932.911 919.794 Q934.739 923.335 938.35 923.335 Q941.985 923.335 943.79 919.794 Q945.619 916.229 945.619 909.123 Q945.619 901.993 943.79 898.451 Q941.985 894.887 938.35 894.887 M938.35 891.183 Q944.161 891.183 947.216 895.789 Q950.295 900.373 950.295 909.123 Q950.295 917.849 947.216 922.456 Q944.161 927.039 938.35 927.039 Q932.54 927.039 929.462 922.456 Q926.406 917.849 926.406 909.123 Q926.406 900.373 929.462 895.789 Q932.54 891.183 938.35 891.183 Z\" fill=\"#000000\" fill-rule=\"evenodd\" fill-opacity=\"1\" /><polyline clip-path=\"url(#clip502)\" style=\"stroke:#000000; stroke-linecap:butt; stroke-linejoin:round; stroke-width:2; stroke-opacity:0.1; fill:none\" points=\"\n",
       "  142.112,837.535 952.756,837.535 \n",
       "  \"/>\n",
       "<polyline clip-path=\"url(#clip502)\" style=\"stroke:#000000; stroke-linecap:butt; stroke-linejoin:round; stroke-width:2; stroke-opacity:0.1; fill:none\" points=\"\n",
       "  142.112,649.37 952.756,649.37 \n",
       "  \"/>\n",
       "<polyline clip-path=\"url(#clip502)\" style=\"stroke:#000000; stroke-linecap:butt; stroke-linejoin:round; stroke-width:2; stroke-opacity:0.1; fill:none\" points=\"\n",
       "  142.112,461.206 952.756,461.206 \n",
       "  \"/>\n",
       "<polyline clip-path=\"url(#clip502)\" style=\"stroke:#000000; stroke-linecap:butt; stroke-linejoin:round; stroke-width:2; stroke-opacity:0.1; fill:none\" points=\"\n",
       "  142.112,273.041 952.756,273.041 \n",
       "  \"/>\n",
       "<polyline clip-path=\"url(#clip502)\" style=\"stroke:#000000; stroke-linecap:butt; stroke-linejoin:round; stroke-width:2; stroke-opacity:0.1; fill:none\" points=\"\n",
       "  142.112,84.877 952.756,84.877 \n",
       "  \"/>\n",
       "<polyline clip-path=\"url(#clip500)\" style=\"stroke:#000000; stroke-linecap:butt; stroke-linejoin:round; stroke-width:4; stroke-opacity:1; fill:none\" points=\"\n",
       "  142.112,875.168 142.112,47.2441 \n",
       "  \"/>\n",
       "<polyline clip-path=\"url(#clip500)\" style=\"stroke:#000000; stroke-linecap:butt; stroke-linejoin:round; stroke-width:4; stroke-opacity:1; fill:none\" points=\"\n",
       "  142.112,837.535 161.01,837.535 \n",
       "  \"/>\n",
       "<polyline clip-path=\"url(#clip500)\" style=\"stroke:#000000; stroke-linecap:butt; stroke-linejoin:round; stroke-width:4; stroke-opacity:1; fill:none\" points=\"\n",
       "  142.112,649.37 161.01,649.37 \n",
       "  \"/>\n",
       "<polyline clip-path=\"url(#clip500)\" style=\"stroke:#000000; stroke-linecap:butt; stroke-linejoin:round; stroke-width:4; stroke-opacity:1; fill:none\" points=\"\n",
       "  142.112,461.206 161.01,461.206 \n",
       "  \"/>\n",
       "<polyline clip-path=\"url(#clip500)\" style=\"stroke:#000000; stroke-linecap:butt; stroke-linejoin:round; stroke-width:4; stroke-opacity:1; fill:none\" points=\"\n",
       "  142.112,273.041 161.01,273.041 \n",
       "  \"/>\n",
       "<polyline clip-path=\"url(#clip500)\" style=\"stroke:#000000; stroke-linecap:butt; stroke-linejoin:round; stroke-width:4; stroke-opacity:1; fill:none\" points=\"\n",
       "  142.112,84.877 161.01,84.877 \n",
       "  \"/>\n",
       "<path clip-path=\"url(#clip500)\" d=\"M69.9365 823.334 Q66.3254 823.334 64.4967 826.898 Q62.6912 830.44 62.6912 837.57 Q62.6912 844.676 64.4967 848.241 Q66.3254 851.783 69.9365 851.783 Q73.5707 851.783 75.3763 848.241 Q77.205 844.676 77.205 837.57 Q77.205 830.44 75.3763 826.898 Q73.5707 823.334 69.9365 823.334 M69.9365 819.63 Q75.7467 819.63 78.8022 824.236 Q81.8809 828.82 81.8809 837.57 Q81.8809 846.297 78.8022 850.903 Q75.7467 855.486 69.9365 855.486 Q64.1264 855.486 61.0477 850.903 Q57.9921 846.297 57.9921 837.57 Q57.9921 828.82 61.0477 824.236 Q64.1264 819.63 69.9365 819.63 Z\" fill=\"#000000\" fill-rule=\"evenodd\" fill-opacity=\"1\" /><path clip-path=\"url(#clip500)\" d=\"M90.0984 848.935 L94.9827 848.935 L94.9827 854.815 L90.0984 854.815 L90.0984 848.935 Z\" fill=\"#000000\" fill-rule=\"evenodd\" fill-opacity=\"1\" /><path clip-path=\"url(#clip500)\" d=\"M115.168 823.334 Q111.557 823.334 109.728 826.898 Q107.922 830.44 107.922 837.57 Q107.922 844.676 109.728 848.241 Q111.557 851.783 115.168 851.783 Q118.802 851.783 120.608 848.241 Q122.436 844.676 122.436 837.57 Q122.436 830.44 120.608 826.898 Q118.802 823.334 115.168 823.334 M115.168 819.63 Q120.978 819.63 124.033 824.236 Q127.112 828.82 127.112 837.57 Q127.112 846.297 124.033 850.903 Q120.978 855.486 115.168 855.486 Q109.358 855.486 106.279 850.903 Q103.223 846.297 103.223 837.57 Q103.223 828.82 106.279 824.236 Q109.358 819.63 115.168 819.63 Z\" fill=\"#000000\" fill-rule=\"evenodd\" fill-opacity=\"1\" /><path clip-path=\"url(#clip500)\" d=\"M70.9319 635.169 Q67.3208 635.169 65.4921 638.734 Q63.6865 642.276 63.6865 649.405 Q63.6865 656.512 65.4921 660.076 Q67.3208 663.618 70.9319 663.618 Q74.5661 663.618 76.3717 660.076 Q78.2004 656.512 78.2004 649.405 Q78.2004 642.276 76.3717 638.734 Q74.5661 635.169 70.9319 635.169 M70.9319 631.465 Q76.742 631.465 79.7976 636.072 Q82.8763 640.655 82.8763 649.405 Q82.8763 658.132 79.7976 662.738 Q76.742 667.322 70.9319 667.322 Q65.1217 667.322 62.043 662.738 Q58.9875 658.132 58.9875 649.405 Q58.9875 640.655 62.043 636.072 Q65.1217 631.465 70.9319 631.465 Z\" fill=\"#000000\" fill-rule=\"evenodd\" fill-opacity=\"1\" /><path clip-path=\"url(#clip500)\" d=\"M91.0938 660.771 L95.978 660.771 L95.978 666.65 L91.0938 666.65 L91.0938 660.771 Z\" fill=\"#000000\" fill-rule=\"evenodd\" fill-opacity=\"1\" /><path clip-path=\"url(#clip500)\" d=\"M106.209 632.09 L124.566 632.09 L124.566 636.026 L110.492 636.026 L110.492 644.498 Q111.51 644.151 112.529 643.989 Q113.547 643.803 114.566 643.803 Q120.353 643.803 123.733 646.975 Q127.112 650.146 127.112 655.563 Q127.112 661.141 123.64 664.243 Q120.168 667.322 113.848 667.322 Q111.672 667.322 109.404 666.951 Q107.159 666.581 104.751 665.84 L104.751 661.141 Q106.834 662.276 109.057 662.831 Q111.279 663.387 113.756 663.387 Q117.76 663.387 120.098 661.28 Q122.436 659.174 122.436 655.563 Q122.436 651.951 120.098 649.845 Q117.76 647.739 113.756 647.739 Q111.881 647.739 110.006 648.155 Q108.154 648.572 106.209 649.451 L106.209 632.09 Z\" fill=\"#000000\" fill-rule=\"evenodd\" fill-opacity=\"1\" /><path clip-path=\"url(#clip500)\" d=\"M60.7467 474.551 L68.3856 474.551 L68.3856 448.185 L60.0754 449.852 L60.0754 445.593 L68.3393 443.926 L73.0152 443.926 L73.0152 474.551 L80.654 474.551 L80.654 478.486 L60.7467 478.486 L60.7467 474.551 Z\" fill=\"#000000\" fill-rule=\"evenodd\" fill-opacity=\"1\" /><path clip-path=\"url(#clip500)\" d=\"M90.0984 472.606 L94.9827 472.606 L94.9827 478.486 L90.0984 478.486 L90.0984 472.606 Z\" fill=\"#000000\" fill-rule=\"evenodd\" fill-opacity=\"1\" /><path clip-path=\"url(#clip500)\" d=\"M115.168 447.005 Q111.557 447.005 109.728 450.569 Q107.922 454.111 107.922 461.241 Q107.922 468.347 109.728 471.912 Q111.557 475.454 115.168 475.454 Q118.802 475.454 120.608 471.912 Q122.436 468.347 122.436 461.241 Q122.436 454.111 120.608 450.569 Q118.802 447.005 115.168 447.005 M115.168 443.301 Q120.978 443.301 124.033 447.907 Q127.112 452.491 127.112 461.241 Q127.112 469.968 124.033 474.574 Q120.978 479.157 115.168 479.157 Q109.358 479.157 106.279 474.574 Q103.223 469.968 103.223 461.241 Q103.223 452.491 106.279 447.907 Q109.358 443.301 115.168 443.301 Z\" fill=\"#000000\" fill-rule=\"evenodd\" fill-opacity=\"1\" /><path clip-path=\"url(#clip500)\" d=\"M61.7421 286.386 L69.381 286.386 L69.381 260.021 L61.0708 261.687 L61.0708 257.428 L69.3347 255.761 L74.0106 255.761 L74.0106 286.386 L81.6494 286.386 L81.6494 290.321 L61.7421 290.321 L61.7421 286.386 Z\" fill=\"#000000\" fill-rule=\"evenodd\" fill-opacity=\"1\" /><path clip-path=\"url(#clip500)\" d=\"M91.0938 284.442 L95.978 284.442 L95.978 290.321 L91.0938 290.321 L91.0938 284.442 Z\" fill=\"#000000\" fill-rule=\"evenodd\" fill-opacity=\"1\" /><path clip-path=\"url(#clip500)\" d=\"M106.209 255.761 L124.566 255.761 L124.566 259.697 L110.492 259.697 L110.492 268.169 Q111.51 267.822 112.529 267.66 Q113.547 267.474 114.566 267.474 Q120.353 267.474 123.733 270.646 Q127.112 273.817 127.112 279.234 Q127.112 284.812 123.64 287.914 Q120.168 290.993 113.848 290.993 Q111.672 290.993 109.404 290.622 Q107.159 290.252 104.751 289.511 L104.751 284.812 Q106.834 285.947 109.057 286.502 Q111.279 287.058 113.756 287.058 Q117.76 287.058 120.098 284.951 Q122.436 282.845 122.436 279.234 Q122.436 275.622 120.098 273.516 Q117.76 271.41 113.756 271.41 Q111.881 271.41 110.006 271.826 Q108.154 272.243 106.209 273.123 L106.209 255.761 Z\" fill=\"#000000\" fill-rule=\"evenodd\" fill-opacity=\"1\" /><path clip-path=\"url(#clip500)\" d=\"M63.9643 98.2218 L80.2837 98.2218 L80.2837 102.157 L58.3393 102.157 L58.3393 98.2218 Q61.0014 95.4672 65.5847 90.8376 Q70.1911 86.1849 71.3717 84.8423 Q73.617 82.3191 74.4967 80.583 Q75.3994 78.8238 75.3994 77.134 Q75.3994 74.3794 73.455 72.6433 Q71.5337 70.9072 68.4319 70.9072 Q66.2328 70.9072 63.7791 71.671 Q61.3486 72.4349 58.5708 73.9858 L58.5708 69.2637 Q61.3949 68.1294 63.8486 67.5507 Q66.3023 66.972 68.3393 66.972 Q73.7096 66.972 76.9041 69.6572 Q80.0985 72.3423 80.0985 76.8331 Q80.0985 78.9627 79.2883 80.884 Q78.5013 82.7821 76.3948 85.3747 Q75.8161 86.046 72.7143 89.2635 Q69.6124 92.458 63.9643 98.2218 Z\" fill=\"#000000\" fill-rule=\"evenodd\" fill-opacity=\"1\" /><path clip-path=\"url(#clip500)\" d=\"M90.0984 96.2774 L94.9827 96.2774 L94.9827 102.157 L90.0984 102.157 L90.0984 96.2774 Z\" fill=\"#000000\" fill-rule=\"evenodd\" fill-opacity=\"1\" /><path clip-path=\"url(#clip500)\" d=\"M115.168 70.6757 Q111.557 70.6757 109.728 74.2405 Q107.922 77.7821 107.922 84.9117 Q107.922 92.0182 109.728 95.583 Q111.557 99.1246 115.168 99.1246 Q118.802 99.1246 120.608 95.583 Q122.436 92.0182 122.436 84.9117 Q122.436 77.7821 120.608 74.2405 Q118.802 70.6757 115.168 70.6757 M115.168 66.972 Q120.978 66.972 124.033 71.5785 Q127.112 76.1618 127.112 84.9117 Q127.112 93.6385 124.033 98.245 Q120.978 102.828 115.168 102.828 Q109.358 102.828 106.279 98.245 Q103.223 93.6385 103.223 84.9117 Q103.223 76.1618 106.279 71.5785 Q109.358 66.972 115.168 66.972 Z\" fill=\"#000000\" fill-rule=\"evenodd\" fill-opacity=\"1\" /><circle clip-path=\"url(#clip502)\" cx=\"547.434\" cy=\"837.535\" r=\"14\" fill=\"#009af9\" fill-rule=\"evenodd\" fill-opacity=\"1\" stroke=\"#000000\" stroke-opacity=\"1\" stroke-width=\"2\"/>\n",
       "<circle clip-path=\"url(#clip502)\" cx=\"731.671\" cy=\"837.535\" r=\"14\" fill=\"#009af9\" fill-rule=\"evenodd\" fill-opacity=\"1\" stroke=\"#000000\" stroke-opacity=\"1\" stroke-width=\"2\"/>\n",
       "<circle clip-path=\"url(#clip502)\" cx=\"915.908\" cy=\"837.535\" r=\"14\" fill=\"#009af9\" fill-rule=\"evenodd\" fill-opacity=\"1\" stroke=\"#000000\" stroke-opacity=\"1\" stroke-width=\"2\"/>\n",
       "<circle clip-path=\"url(#clip502)\" cx=\"547.434\" cy=\"743.453\" r=\"14\" fill=\"#009af9\" fill-rule=\"evenodd\" fill-opacity=\"1\" stroke=\"#000000\" stroke-opacity=\"1\" stroke-width=\"2\"/>\n",
       "<circle clip-path=\"url(#clip502)\" cx=\"731.671\" cy=\"743.453\" r=\"14\" fill=\"#009af9\" fill-rule=\"evenodd\" fill-opacity=\"1\" stroke=\"#000000\" stroke-opacity=\"1\" stroke-width=\"2\"/>\n",
       "<circle clip-path=\"url(#clip502)\" cx=\"547.434\" cy=\"649.37\" r=\"14\" fill=\"#009af9\" fill-rule=\"evenodd\" fill-opacity=\"1\" stroke=\"#000000\" stroke-opacity=\"1\" stroke-width=\"2\"/>\n",
       "<circle clip-path=\"url(#clip502)\" cx=\"363.197\" cy=\"511.625\" r=\"14\" fill=\"#e26f46\" fill-rule=\"evenodd\" fill-opacity=\"1\" stroke=\"#000000\" stroke-opacity=\"1\" stroke-width=\"2\"/>\n",
       "<circle clip-path=\"url(#clip502)\" cx=\"455.315\" cy=\"348.669\" r=\"14\" fill=\"#e26f46\" fill-rule=\"evenodd\" fill-opacity=\"1\" stroke=\"#000000\" stroke-opacity=\"1\" stroke-width=\"2\"/>\n",
       "<circle clip-path=\"url(#clip502)\" cx=\"547.434\" cy=\"185.714\" r=\"14\" fill=\"#e26f46\" fill-rule=\"evenodd\" fill-opacity=\"1\" stroke=\"#000000\" stroke-opacity=\"1\" stroke-width=\"2\"/>\n",
       "<circle clip-path=\"url(#clip502)\" cx=\"283.42\" cy=\"464.583\" r=\"14\" fill=\"#e26f46\" fill-rule=\"evenodd\" fill-opacity=\"1\" stroke=\"#000000\" stroke-opacity=\"1\" stroke-width=\"2\"/>\n",
       "<circle clip-path=\"url(#clip502)\" cx=\"375.538\" cy=\"301.628\" r=\"14\" fill=\"#e26f46\" fill-rule=\"evenodd\" fill-opacity=\"1\" stroke=\"#000000\" stroke-opacity=\"1\" stroke-width=\"2\"/>\n",
       "<circle clip-path=\"url(#clip502)\" cx=\"203.643\" cy=\"417.542\" r=\"14\" fill=\"#e26f46\" fill-rule=\"evenodd\" fill-opacity=\"1\" stroke=\"#000000\" stroke-opacity=\"1\" stroke-width=\"2\"/>\n",
       "</svg>\n"
      ]
     },
     "execution_count": 101,
     "metadata": {},
     "output_type": "execute_result"
    }
   ],
   "source": [
    "scatter([p[1] for p in points], [p[2] for p in points])\n",
    "scatter!([r[1] for r in rpoints], [r[2] for r in rpoints])\n",
    "plot!(lims=(-0.1, 2.1), size=(250, 250), legend=false)"
   ]
  },
  {
   "cell_type": "markdown",
   "metadata": {},
   "source": [
    "### selectors\n",
    "### reverse matrix"
   ]
  },
  {
   "cell_type": "code",
   "execution_count": 102,
   "metadata": {},
   "outputs": [
    {
     "data": {
      "text/plain": [
       "3×2 Matrix{Int64}:\n",
       " 1  2\n",
       " 4  5\n",
       " 7  8"
      ]
     },
     "execution_count": 102,
     "metadata": {},
     "output_type": "execute_result"
    }
   ],
   "source": [
    "A = [1 2;\n",
    "     4 5;\n",
    "     7 8]"
   ]
  },
  {
   "cell_type": "code",
   "execution_count": 103,
   "metadata": {},
   "outputs": [
    {
     "name": "stdout",
     "output_type": "stream",
     "text": [
      "[8 7; 5 4; 2 1][7 8; 4 5; 1 2][2 1; 5 4; 8 7]"
     ]
    }
   ],
   "source": [
    "print(reverse(A))\n",
    "print(reverse(A, dims=1))\n",
    "print(reverse(A, dims=2))"
   ]
  },
  {
   "cell_type": "code",
   "execution_count": 104,
   "metadata": {},
   "outputs": [
    {
     "data": {
      "text/plain": [
       "5×5 Matrix{Bool}:\n",
       " 0  0  0  0  1\n",
       " 0  0  0  1  0\n",
       " 0  0  1  0  0\n",
       " 0  1  0  0  0\n",
       " 1  0  0  0  0"
      ]
     },
     "execution_count": 104,
     "metadata": {},
     "output_type": "execute_result"
    }
   ],
   "source": [
    "using LinearAlgebra\n",
    "rev(n) = reverse(Matrix(I,n,n), dims=1)\n",
    "rev(5)"
   ]
  },
  {
   "cell_type": "code",
   "execution_count": 105,
   "metadata": {},
   "outputs": [
    {
     "data": {
      "text/plain": [
       "5-element Vector{Int64}:\n",
       " 5\n",
       " 4\n",
       " 3\n",
       " 2\n",
       " 1"
      ]
     },
     "execution_count": 105,
     "metadata": {},
     "output_type": "execute_result"
    }
   ],
   "source": [
    "x = [1, 2, 3, 4, 5]\n",
    "rev(5)*x"
   ]
  },
  {
   "cell_type": "code",
   "execution_count": 106,
   "metadata": {},
   "outputs": [
    {
     "data": {
      "text/plain": [
       "true"
      ]
     },
     "execution_count": 106,
     "metadata": {},
     "output_type": "execute_result"
    }
   ],
   "source": [
    "rev(5)*x == reverse(x)"
   ]
  },
  {
   "cell_type": "code",
   "execution_count": 107,
   "metadata": {},
   "outputs": [
    {
     "data": {
      "text/plain": [
       "3-element Vector{Float64}:\n",
       "  2.4\n",
       "  0.2\n",
       " -1.7"
      ]
     },
     "execution_count": 107,
     "metadata": {},
     "output_type": "execute_result"
    }
   ],
   "source": [
    "# permutation matrix\n",
    "per = [0 0 1;\n",
    "       1 0 0;\n",
    "       0 1 0]\n",
    "x = [0.2, -1.7, 2.4]\n",
    "per*x"
   ]
  },
  {
   "cell_type": "code",
   "execution_count": 108,
   "metadata": {},
   "outputs": [
    {
     "data": {
      "text/plain": [
       "true"
      ]
     },
     "execution_count": 108,
     "metadata": {},
     "output_type": "execute_result"
    }
   ],
   "source": [
    "per*x == x[[3, 1, 2]]"
   ]
  },
  {
   "cell_type": "code",
   "execution_count": 109,
   "metadata": {},
   "outputs": [],
   "source": [
    "# convolution\n",
    "# Pkg.add(\"DSP\")\n",
    "using DSP"
   ]
  },
  {
   "cell_type": "code",
   "execution_count": 110,
   "metadata": {},
   "outputs": [
    {
     "data": {
      "text/plain": [
       "6-element Vector{Int64}:\n",
       "  2\n",
       "  3\n",
       " -3\n",
       " -1\n",
       "  1\n",
       " -2"
      ]
     },
     "execution_count": 110,
     "metadata": {},
     "output_type": "execute_result"
    }
   ],
   "source": [
    "a = [1, 1]\n",
    "b = [2, -1, 1]\n",
    "c = [1, 1, -2]\n",
    "conv(conv(a, b), c)"
   ]
  },
  {
   "cell_type": "markdown",
   "metadata": {},
   "source": [
    "## Chapter 8\n",
    "### linear and affine function"
   ]
  },
  {
   "cell_type": "code",
   "execution_count": 111,
   "metadata": {},
   "outputs": [
    {
     "data": {
      "text/plain": [
       "false"
      ]
     },
     "execution_count": 111,
     "metadata": {},
     "output_type": "execute_result"
    }
   ],
   "source": [
    "\n",
    "A = [-0.1 2.8 1.6;\n",
    "     2.3 -0.6 -3.6]\n",
    "f(x) = A*x\n",
    "\n",
    "x = [1, 2, 3]\n",
    "y = [-3, 2, 1]\n",
    "\n",
    "alpha = 2\n",
    "beta = 4\n",
    "\n",
    "f(alpha*x + beta*y) == alpha*f(x) + beta*f(y)\n",
    "# should be true"
   ]
  },
  {
   "cell_type": "code",
   "execution_count": 112,
   "metadata": {},
   "outputs": [
    {
     "data": {
      "text/plain": [
       "7.105427357601002e-15"
      ]
     },
     "execution_count": 112,
     "metadata": {},
     "output_type": "execute_result"
    }
   ],
   "source": [
    "rhs = f(alpha*x + beta*y)\n",
    "lhs = alpha*f(x) + beta*f(y)\n",
    "norm(rhs - lhs)"
   ]
  },
  {
   "cell_type": "code",
   "execution_count": 113,
   "metadata": {},
   "outputs": [
    {
     "data": {
      "text/plain": [
       "false"
      ]
     },
     "execution_count": 113,
     "metadata": {},
     "output_type": "execute_result"
    }
   ],
   "source": [
    "f_abs(x) = abs.(x)\n",
    "f_abs(alpha*x + beta*y) == alpha*f_abs(x) + beta*f_abs(y)"
   ]
  },
  {
   "cell_type": "code",
   "execution_count": 114,
   "metadata": {},
   "outputs": [
    {
     "data": {
      "text/plain": [
       "3-element Vector{Int64}:\n",
       " 10\n",
       " 12\n",
       " 10"
      ]
     },
     "execution_count": 114,
     "metadata": {},
     "output_type": "execute_result"
    }
   ],
   "source": [
    "f_abs(alpha*x + beta*y)"
   ]
  },
  {
   "cell_type": "code",
   "execution_count": 115,
   "metadata": {},
   "outputs": [
    {
     "data": {
      "text/plain": [
       "3-element Vector{Int64}:\n",
       " 14\n",
       " 12\n",
       " 10"
      ]
     },
     "execution_count": 115,
     "metadata": {},
     "output_type": "execute_result"
    }
   ],
   "source": [
    "alpha*f_abs(x) + beta*f_abs(y)"
   ]
  },
  {
   "cell_type": "markdown",
   "metadata": {},
   "source": [
    "### de-mean matrix"
   ]
  },
  {
   "cell_type": "code",
   "execution_count": 116,
   "metadata": {},
   "outputs": [
    {
     "data": {
      "text/plain": [
       "3×3 Matrix{Float64}:\n",
       "  0.666667  -0.333333  -0.333333\n",
       " -0.333333   0.666667  -0.333333\n",
       " -0.333333  -0.333333   0.666667"
      ]
     },
     "execution_count": 116,
     "metadata": {},
     "output_type": "execute_result"
    }
   ],
   "source": [
    "x = [0.2, 2.3, 1.0]\n",
    "demean_mat = Matrix(I, length(x), length(x)) .- 1/length(x)"
   ]
  },
  {
   "cell_type": "code",
   "execution_count": 117,
   "metadata": {},
   "outputs": [
    {
     "data": {
      "text/plain": [
       "3-element Vector{Float64}:\n",
       " -0.9666666666666666\n",
       "  1.1333333333333335\n",
       " -0.16666666666666652"
      ]
     },
     "execution_count": 117,
     "metadata": {},
     "output_type": "execute_result"
    }
   ],
   "source": [
    "de_mean(dim) = Matrix(I, dim, dim) .- 1/dim\n",
    "de_mean(length(x))*x"
   ]
  },
  {
   "cell_type": "code",
   "execution_count": 118,
   "metadata": {},
   "outputs": [
    {
     "data": {
      "text/plain": [
       "3-element Vector{Float64}:\n",
       " -0.9666666666666668\n",
       "  1.133333333333333\n",
       " -0.16666666666666674"
      ]
     },
     "execution_count": 118,
     "metadata": {},
     "output_type": "execute_result"
    }
   ],
   "source": [
    "using Statistics\n",
    "x .- mean(x)"
   ]
  },
  {
   "cell_type": "markdown",
   "metadata": {},
   "source": [
    "### linear function model\n",
    "### Taylor approximation"
   ]
  },
  {
   "cell_type": "code",
   "execution_count": 119,
   "metadata": {},
   "outputs": [
    {
     "data": {
      "text/plain": [
       "f_taylor (generic function with 1 method)"
      ]
     },
     "execution_count": 119,
     "metadata": {},
     "output_type": "execute_result"
    }
   ],
   "source": [
    "using LinearAlgebra\n",
    "\n",
    "a = [1, 0]\n",
    "b = [1, 1]\n",
    "z = [0, 0]\n",
    "\n",
    "f(x) = [norm(x - a), norm(x - b)]\n",
    "Df(z) = [(z - a)'/norm(z - a); (z - b)'/norm(z - b)]\n",
    "f_taylor(x) = f(z) + Df(z)*(x - z)"
   ]
  },
  {
   "cell_type": "code",
   "execution_count": 120,
   "metadata": {},
   "outputs": [
    {
     "data": {
      "text/plain": [
       "2-element Vector{Float64}:\n",
       " 0.9055385138137417\n",
       " 1.2727922061357855"
      ]
     },
     "execution_count": 120,
     "metadata": {},
     "output_type": "execute_result"
    }
   ],
   "source": [
    "f([0.1, 0.1])"
   ]
  },
  {
   "cell_type": "code",
   "execution_count": 121,
   "metadata": {},
   "outputs": [
    {
     "data": {
      "text/plain": [
       "2-element Vector{Float64}:\n",
       " 0.9\n",
       " 1.2727922061357857"
      ]
     },
     "execution_count": 121,
     "metadata": {},
     "output_type": "execute_result"
    }
   ],
   "source": [
    "f_taylor([0.1, 0.1])"
   ]
  },
  {
   "cell_type": "code",
   "execution_count": 122,
   "metadata": {},
   "outputs": [
    {
     "data": {
      "text/plain": [
       "1×2 adjoint(::Vector{Float64}) with eltype Float64:\n",
       " -0.707107  -0.707107"
      ]
     },
     "execution_count": 122,
     "metadata": {},
     "output_type": "execute_result"
    }
   ],
   "source": [
    "(z - b)'/norm(z - b)"
   ]
  },
  {
   "cell_type": "code",
   "execution_count": 123,
   "metadata": {},
   "outputs": [
    {
     "name": "stdout",
     "output_type": "stream",
     "text": [
      "[0.9055385138137417, 1.2727922061357855][0.9, 1.2727922061357857]"
     ]
    }
   ],
   "source": [
    "print(f([0.1, 0.1]))\n",
    "print(f_taylor([0.1, 0.1]))"
   ]
  },
  {
   "cell_type": "code",
   "execution_count": 124,
   "metadata": {},
   "outputs": [
    {
     "name": "stdout",
     "output_type": "stream",
     "text": [
      "[0.7071067811865476, 0.7071067811865476][0.5, 0.7071067811865477]"
     ]
    }
   ],
   "source": [
    "print(f([0.5, 0.5]))\n",
    "print(f_taylor([0.5, 0.5]))"
   ]
  },
  {
   "cell_type": "markdown",
   "metadata": {},
   "source": [
    "### regression model"
   ]
  },
  {
   "cell_type": "code",
   "execution_count": 125,
   "metadata": {},
   "outputs": [
    {
     "data": {
      "text/plain": [
       "774×2 Matrix{Float64}:\n",
       " 0.941  2.0\n",
       " 1.146  3.0\n",
       " 0.909  3.0\n",
       " 1.289  3.0\n",
       " 1.02   3.0\n",
       " 1.022  2.0\n",
       " 1.134  2.0\n",
       " 0.844  2.0\n",
       " 0.795  2.0\n",
       " 0.588  2.0\n",
       " 1.356  3.0\n",
       " 1.118  3.0\n",
       " 1.329  4.0\n",
       " ⋮      \n",
       " 0.96   3.0\n",
       " 1.456  3.0\n",
       " 1.45   3.0\n",
       " 1.358  3.0\n",
       " 1.329  4.0\n",
       " 1.715  4.0\n",
       " 1.262  3.0\n",
       " 2.28   4.0\n",
       " 1.477  3.0\n",
       " 1.216  3.0\n",
       " 1.685  4.0\n",
       " 1.362  3.0"
      ]
     },
     "execution_count": 125,
     "metadata": {},
     "output_type": "execute_result"
    }
   ],
   "source": [
    "beta = [150, -20]\n",
    "v = 55\n",
    "using VMLS\n",
    "D = house_sales_data()\n",
    "yd = D[\"price\"]\n",
    "N = length(yd)\n",
    "yd\n",
    "x = [D[\"area\"] D[\"beds\"]]"
   ]
  },
  {
   "cell_type": "code",
   "execution_count": 126,
   "metadata": {},
   "outputs": [
    {
     "data": {
      "text/plain": [
       "774-element Vector{Float64}:\n",
       " -61.245000000000005\n",
       " -67.96299999999998\n",
       " -31.040999999999997\n",
       " -82.1\n",
       " -40.498000000000005\n",
       " -59.55000000000001\n",
       " -74.39999999999999\n",
       " -28.33699999999999\n",
       " -18.0\n",
       "  16.80000000000001\n",
       " -76.77000000000001\n",
       " -40.70000000000002\n",
       " -51.66799999999999\n",
       "   ⋮\n",
       "  85.25200000000001\n",
       "  11.599999999999994\n",
       "  15.5\n",
       "  30.32699999999997\n",
       "  55.150000000000006\n",
       "  -2.25\n",
       "  45.69999999999999\n",
       " -84.57499999999993\n",
       "  17.44999999999999\n",
       "  57.599999999999994\n",
       "   7.550999999999988\n",
       "  36.43799999999999"
      ]
     },
     "execution_count": 126,
     "metadata": {},
     "output_type": "execute_result"
    }
   ],
   "source": [
    "ydhat = x*beta .+ v\n",
    "rd = yd - ydhat"
   ]
  },
  {
   "cell_type": "markdown",
   "metadata": {},
   "source": [
    "## Chapter 9\n",
    "### linear dynamic function"
   ]
  },
  {
   "cell_type": "code",
   "execution_count": 127,
   "metadata": {},
   "outputs": [
    {
     "data": {
      "text/plain": [
       "3×50 Matrix{Float64}:\n",
       "  1.0   1.02   1.0019   0.946233  …  -0.735127  -0.939991  -1.11583\n",
       "  0.0  -0.35  -0.7     -1.03796      -2.08719   -1.82758   -1.50603\n",
       " -1.0  -0.95  -0.8878  -0.814269      0.363975   0.425552   0.472233"
      ]
     },
     "execution_count": 127,
     "metadata": {},
     "output_type": "execute_result"
    }
   ],
   "source": [
    "x = [1, 0, -1]\n",
    "T = 50\n",
    "n = length(x)\n",
    "A = [0.97 0.10 -0.05;\n",
    "     -0.30 0.99 0.05;\n",
    "     0.01 -0.04 0.96]\n",
    "\n",
    "state_traj = [x zeros(n, T-1)]\n",
    "for i in 1:T-1\n",
    "    state_traj[:, i+1] = A*state_traj[:, i]\n",
    "end\n",
    "state_traj"
   ]
  },
  {
   "cell_type": "code",
   "execution_count": 165,
   "metadata": {},
   "outputs": [
    {
     "data": {
      "text/plain": [
       "Matrix{Float64} (alias for Array{Float64, 2})"
      ]
     },
     "execution_count": 165,
     "metadata": {},
     "output_type": "execute_result"
    }
   ],
   "source": [
    "using Plots\n",
    "plot(1:T, state_traj', xlabel=\"period\", label=[\"x_1\" \"x_2\" \"x_3\"])"
   ]
  },
  {
   "cell_type": "markdown",
   "metadata": {},
   "source": [
    "### population dynamics"
   ]
  },
  {
   "cell_type": "code",
   "execution_count": 2,
   "metadata": {},
   "outputs": [
    {
     "data": {
      "text/plain": [
       "100×100 Matrix{Float64}:\n",
       " 0.0      0.0      0.0      0.0     0.0      …  0.0      0.0      0.0     0.0\n",
       " 0.99377  0.0      0.0      0.0     0.0         0.0      0.0      0.0     0.0\n",
       " 0.0      0.99956  0.0      0.0     0.0         0.0      0.0      0.0     0.0\n",
       " 0.0      0.0      0.99973  0.0     0.0         0.0      0.0      0.0     0.0\n",
       " 0.0      0.0      0.0      0.9998  0.0         0.0      0.0      0.0     0.0\n",
       " 0.0      0.0      0.0      0.0     0.99984  …  0.0      0.0      0.0     0.0\n",
       " 0.0      0.0      0.0      0.0     0.0         0.0      0.0      0.0     0.0\n",
       " 0.0      0.0      0.0      0.0     0.0         0.0      0.0      0.0     0.0\n",
       " 0.0      0.0      0.0      0.0     0.0         0.0      0.0      0.0     0.0\n",
       " 0.0      0.0      0.0      0.0     0.0         0.0      0.0      0.0     0.0\n",
       " 0.0      0.0      0.0      0.0     0.0      …  0.0      0.0      0.0     0.0\n",
       " 0.0      0.0      0.0      0.0     0.0         0.0      0.0      0.0     0.0\n",
       " 0.0      0.0      0.0      0.0     0.0         0.0      0.0      0.0     0.0\n",
       " ⋮                                           ⋱                            \n",
       " 0.0      0.0      0.0      0.0     0.0         0.0      0.0      0.0     0.0\n",
       " 0.0      0.0      0.0      0.0     0.0         0.0      0.0      0.0     0.0\n",
       " 0.0      0.0      0.0      0.0     0.0      …  0.0      0.0      0.0     0.0\n",
       " 0.0      0.0      0.0      0.0     0.0         0.0      0.0      0.0     0.0\n",
       " 0.0      0.0      0.0      0.0     0.0         0.0      0.0      0.0     0.0\n",
       " 0.0      0.0      0.0      0.0     0.0         0.0      0.0      0.0     0.0\n",
       " 0.0      0.0      0.0      0.0     0.0         0.0      0.0      0.0     0.0\n",
       " 0.0      0.0      0.0      0.0     0.0      …  0.0      0.0      0.0     0.0\n",
       " 0.0      0.0      0.0      0.0     0.0         0.0      0.0      0.0     0.0\n",
       " 0.0      0.0      0.0      0.0     0.0         0.72578  0.0      0.0     0.0\n",
       " 0.0      0.0      0.0      0.0     0.0         0.0      0.70761  0.0     0.0\n",
       " 0.0      0.0      0.0      0.0     0.0         0.0      0.0      0.6744  0.0"
      ]
     },
     "execution_count": 2,
     "metadata": {},
     "output_type": "execute_result"
    }
   ],
   "source": [
    "using VMLS\n",
    "D = population_data()\n",
    "b = D[\"birth_rate\"]\n",
    "d = D[\"death_rate\"]\n",
    "A = [b'; diagonal(1 .- d[1:end-1]) zeros(length(d)-1)]\n",
    "x = D[\"population\"]\n",
    "\n",
    "A"
   ]
  },
  {
   "cell_type": "code",
   "execution_count": 3,
   "metadata": {},
   "outputs": [
    {
     "name": "stderr",
     "output_type": "stream",
     "text": [
      "\n",
      "(process:15908): GLib-GIO-WARNING **: 15:49:31.102: Unexpectedly, UWP app `15191PeakPlayer.50533F9B98293_3.2.6.0_x64__y5c4dfz5b21fm' (AUMId `15191PeakPlayer.50533F9B98293_y5c4dfz5b21fm!App') supports 32 extensions but has no verbs\n",
      "\n",
      "(process:15908): GLib-GIO-WARNING **: 15:49:31.259: Unexpectedly, UWP app `Evernote.Evernote_10.25.6.0_x86__q4d96b2w5wcc2' (AUMId `Evernote.Evernote_q4d96b2w5wcc2!Evernote') supports 1 extensions but has no verbs\n"
     ]
    },
    {
     "data": {
      "image/svg+xml": [
       "<?xml version=\"1.0\" encoding=\"utf-8\"?>\n",
       "<svg xmlns=\"http://www.w3.org/2000/svg\" xmlns:xlink=\"http://www.w3.org/1999/xlink\" width=\"600\" height=\"400\" viewBox=\"0 0 2400 1600\">\n",
       "<defs>\n",
       "  <clipPath id=\"clip540\">\n",
       "    <rect x=\"0\" y=\"0\" width=\"2400\" height=\"1600\"/>\n",
       "  </clipPath>\n",
       "</defs>\n",
       "<path clip-path=\"url(#clip540)\" d=\"\n",
       "M0 1600 L2400 1600 L2400 0 L0 0  Z\n",
       "  \" fill=\"#ffffff\" fill-rule=\"evenodd\" fill-opacity=\"1\"/>\n",
       "<defs>\n",
       "  <clipPath id=\"clip541\">\n",
       "    <rect x=\"480\" y=\"0\" width=\"1681\" height=\"1600\"/>\n",
       "  </clipPath>\n",
       "</defs>\n",
       "<path clip-path=\"url(#clip540)\" d=\"\n",
       "M175.445 1423.18 L2352.76 1423.18 L2352.76 47.2441 L175.445 47.2441  Z\n",
       "  \" fill=\"#ffffff\" fill-rule=\"evenodd\" fill-opacity=\"1\"/>\n",
       "<defs>\n",
       "  <clipPath id=\"clip542\">\n",
       "    <rect x=\"175\" y=\"47\" width=\"2178\" height=\"1377\"/>\n",
       "  </clipPath>\n",
       "</defs>\n",
       "<polyline clip-path=\"url(#clip542)\" style=\"stroke:#000000; stroke-linecap:butt; stroke-linejoin:round; stroke-width:2; stroke-opacity:0.1; fill:none\" points=\"\n",
       "  216.319,1423.18 216.319,47.2441 \n",
       "  \"/>\n",
       "<polyline clip-path=\"url(#clip542)\" style=\"stroke:#000000; stroke-linecap:butt; stroke-linejoin:round; stroke-width:2; stroke-opacity:0.1; fill:none\" points=\"\n",
       "  735.023,1423.18 735.023,47.2441 \n",
       "  \"/>\n",
       "<polyline clip-path=\"url(#clip542)\" style=\"stroke:#000000; stroke-linecap:butt; stroke-linejoin:round; stroke-width:2; stroke-opacity:0.1; fill:none\" points=\"\n",
       "  1253.73,1423.18 1253.73,47.2441 \n",
       "  \"/>\n",
       "<polyline clip-path=\"url(#clip542)\" style=\"stroke:#000000; stroke-linecap:butt; stroke-linejoin:round; stroke-width:2; stroke-opacity:0.1; fill:none\" points=\"\n",
       "  1772.43,1423.18 1772.43,47.2441 \n",
       "  \"/>\n",
       "<polyline clip-path=\"url(#clip542)\" style=\"stroke:#000000; stroke-linecap:butt; stroke-linejoin:round; stroke-width:2; stroke-opacity:0.1; fill:none\" points=\"\n",
       "  2291.13,1423.18 2291.13,47.2441 \n",
       "  \"/>\n",
       "<polyline clip-path=\"url(#clip540)\" style=\"stroke:#000000; stroke-linecap:butt; stroke-linejoin:round; stroke-width:4; stroke-opacity:1; fill:none\" points=\"\n",
       "  175.445,1423.18 2352.76,1423.18 \n",
       "  \"/>\n",
       "<polyline clip-path=\"url(#clip540)\" style=\"stroke:#000000; stroke-linecap:butt; stroke-linejoin:round; stroke-width:4; stroke-opacity:1; fill:none\" points=\"\n",
       "  216.319,1423.18 216.319,1404.28 \n",
       "  \"/>\n",
       "<polyline clip-path=\"url(#clip540)\" style=\"stroke:#000000; stroke-linecap:butt; stroke-linejoin:round; stroke-width:4; stroke-opacity:1; fill:none\" points=\"\n",
       "  735.023,1423.18 735.023,1404.28 \n",
       "  \"/>\n",
       "<polyline clip-path=\"url(#clip540)\" style=\"stroke:#000000; stroke-linecap:butt; stroke-linejoin:round; stroke-width:4; stroke-opacity:1; fill:none\" points=\"\n",
       "  1253.73,1423.18 1253.73,1404.28 \n",
       "  \"/>\n",
       "<polyline clip-path=\"url(#clip540)\" style=\"stroke:#000000; stroke-linecap:butt; stroke-linejoin:round; stroke-width:4; stroke-opacity:1; fill:none\" points=\"\n",
       "  1772.43,1423.18 1772.43,1404.28 \n",
       "  \"/>\n",
       "<polyline clip-path=\"url(#clip540)\" style=\"stroke:#000000; stroke-linecap:butt; stroke-linejoin:round; stroke-width:4; stroke-opacity:1; fill:none\" points=\"\n",
       "  2291.13,1423.18 2291.13,1404.28 \n",
       "  \"/>\n",
       "<path clip-path=\"url(#clip540)\" d=\"M216.319 1454.1 Q212.708 1454.1 210.879 1457.66 Q209.074 1461.2 209.074 1468.33 Q209.074 1475.44 210.879 1479.01 Q212.708 1482.55 216.319 1482.55 Q219.953 1482.55 221.759 1479.01 Q223.588 1475.44 223.588 1468.33 Q223.588 1461.2 221.759 1457.66 Q219.953 1454.1 216.319 1454.1 M216.319 1450.39 Q222.129 1450.39 225.185 1455 Q228.263 1459.58 228.263 1468.33 Q228.263 1477.06 225.185 1481.67 Q222.129 1486.25 216.319 1486.25 Q210.509 1486.25 207.43 1481.67 Q204.375 1477.06 204.375 1468.33 Q204.375 1459.58 207.43 1455 Q210.509 1450.39 216.319 1450.39 Z\" fill=\"#000000\" fill-rule=\"evenodd\" fill-opacity=\"1\" /><path clip-path=\"url(#clip540)\" d=\"M714.294 1481.64 L730.613 1481.64 L730.613 1485.58 L708.669 1485.58 L708.669 1481.64 Q711.331 1478.89 715.914 1474.26 Q720.521 1469.61 721.701 1468.27 Q723.946 1465.74 724.826 1464.01 Q725.729 1462.25 725.729 1460.56 Q725.729 1457.8 723.784 1456.07 Q721.863 1454.33 718.761 1454.33 Q716.562 1454.33 714.109 1455.09 Q711.678 1455.86 708.9 1457.41 L708.9 1452.69 Q711.724 1451.55 714.178 1450.97 Q716.632 1450.39 718.669 1450.39 Q724.039 1450.39 727.233 1453.08 Q730.428 1455.77 730.428 1460.26 Q730.428 1462.39 729.618 1464.31 Q728.831 1466.2 726.724 1468.8 Q726.146 1469.47 723.044 1472.69 Q719.942 1475.88 714.294 1481.64 Z\" fill=\"#000000\" fill-rule=\"evenodd\" fill-opacity=\"1\" /><path clip-path=\"url(#clip540)\" d=\"M740.474 1451.02 L758.831 1451.02 L758.831 1454.96 L744.757 1454.96 L744.757 1463.43 Q745.775 1463.08 746.794 1462.92 Q747.812 1462.73 748.831 1462.73 Q754.618 1462.73 757.997 1465.9 Q761.377 1469.08 761.377 1474.49 Q761.377 1480.07 757.905 1483.17 Q754.432 1486.25 748.113 1486.25 Q745.937 1486.25 743.669 1485.88 Q741.423 1485.51 739.016 1484.77 L739.016 1480.07 Q741.099 1481.2 743.321 1481.76 Q745.544 1482.32 748.02 1482.32 Q752.025 1482.32 754.363 1480.21 Q756.701 1478.1 756.701 1474.49 Q756.701 1470.88 754.363 1468.77 Q752.025 1466.67 748.02 1466.67 Q746.145 1466.67 744.27 1467.08 Q742.419 1467.5 740.474 1468.38 L740.474 1451.02 Z\" fill=\"#000000\" fill-rule=\"evenodd\" fill-opacity=\"1\" /><path clip-path=\"url(#clip540)\" d=\"M1228.43 1451.02 L1246.78 1451.02 L1246.78 1454.96 L1232.71 1454.96 L1232.71 1463.43 Q1233.73 1463.08 1234.75 1462.92 Q1235.76 1462.73 1236.78 1462.73 Q1242.57 1462.73 1245.95 1465.9 Q1249.33 1469.08 1249.33 1474.49 Q1249.33 1480.07 1245.86 1483.17 Q1242.38 1486.25 1236.06 1486.25 Q1233.89 1486.25 1231.62 1485.88 Q1229.37 1485.51 1226.97 1484.77 L1226.97 1480.07 Q1229.05 1481.2 1231.27 1481.76 Q1233.5 1482.32 1235.97 1482.32 Q1239.98 1482.32 1242.31 1480.21 Q1244.65 1478.1 1244.65 1474.49 Q1244.65 1470.88 1242.31 1468.77 Q1239.98 1466.67 1235.97 1466.67 Q1234.1 1466.67 1232.22 1467.08 Q1230.37 1467.5 1228.43 1468.38 L1228.43 1451.02 Z\" fill=\"#000000\" fill-rule=\"evenodd\" fill-opacity=\"1\" /><path clip-path=\"url(#clip540)\" d=\"M1268.54 1454.1 Q1264.93 1454.1 1263.1 1457.66 Q1261.3 1461.2 1261.3 1468.33 Q1261.3 1475.44 1263.1 1479.01 Q1264.93 1482.55 1268.54 1482.55 Q1272.18 1482.55 1273.98 1479.01 Q1275.81 1475.44 1275.81 1468.33 Q1275.81 1461.2 1273.98 1457.66 Q1272.18 1454.1 1268.54 1454.1 M1268.54 1450.39 Q1274.35 1450.39 1277.41 1455 Q1280.49 1459.58 1280.49 1468.33 Q1280.49 1477.06 1277.41 1481.67 Q1274.35 1486.25 1268.54 1486.25 Q1262.73 1486.25 1259.65 1481.67 Q1256.6 1477.06 1256.6 1468.33 Q1256.6 1459.58 1259.65 1455 Q1262.73 1450.39 1268.54 1450.39 Z\" fill=\"#000000\" fill-rule=\"evenodd\" fill-opacity=\"1\" /><path clip-path=\"url(#clip540)\" d=\"M1746.28 1451.02 L1768.51 1451.02 L1768.51 1453.01 L1755.96 1485.58 L1751.08 1485.58 L1762.88 1454.96 L1746.28 1454.96 L1746.28 1451.02 Z\" fill=\"#000000\" fill-rule=\"evenodd\" fill-opacity=\"1\" /><path clip-path=\"url(#clip540)\" d=\"M1777.67 1451.02 L1796.03 1451.02 L1796.03 1454.96 L1781.96 1454.96 L1781.96 1463.43 Q1782.97 1463.08 1783.99 1462.92 Q1785.01 1462.73 1786.03 1462.73 Q1791.82 1462.73 1795.2 1465.9 Q1798.58 1469.08 1798.58 1474.49 Q1798.58 1480.07 1795.1 1483.17 Q1791.63 1486.25 1785.31 1486.25 Q1783.14 1486.25 1780.87 1485.88 Q1778.62 1485.51 1776.21 1484.77 L1776.21 1480.07 Q1778.3 1481.2 1780.52 1481.76 Q1782.74 1482.32 1785.22 1482.32 Q1789.22 1482.32 1791.56 1480.21 Q1793.9 1478.1 1793.9 1474.49 Q1793.9 1470.88 1791.56 1468.77 Q1789.22 1466.67 1785.22 1466.67 Q1783.34 1466.67 1781.47 1467.08 Q1779.62 1467.5 1777.67 1468.38 L1777.67 1451.02 Z\" fill=\"#000000\" fill-rule=\"evenodd\" fill-opacity=\"1\" /><path clip-path=\"url(#clip540)\" d=\"M2250.74 1481.64 L2258.38 1481.64 L2258.38 1455.28 L2250.07 1456.95 L2250.07 1452.69 L2258.33 1451.02 L2263.01 1451.02 L2263.01 1481.64 L2270.65 1481.64 L2270.65 1485.58 L2250.74 1485.58 L2250.74 1481.64 Z\" fill=\"#000000\" fill-rule=\"evenodd\" fill-opacity=\"1\" /><path clip-path=\"url(#clip540)\" d=\"M2290.09 1454.1 Q2286.48 1454.1 2284.65 1457.66 Q2282.85 1461.2 2282.85 1468.33 Q2282.85 1475.44 2284.65 1479.01 Q2286.48 1482.55 2290.09 1482.55 Q2293.73 1482.55 2295.53 1479.01 Q2297.36 1475.44 2297.36 1468.33 Q2297.36 1461.2 2295.53 1457.66 Q2293.73 1454.1 2290.09 1454.1 M2290.09 1450.39 Q2295.9 1450.39 2298.96 1455 Q2302.04 1459.58 2302.04 1468.33 Q2302.04 1477.06 2298.96 1481.67 Q2295.9 1486.25 2290.09 1486.25 Q2284.28 1486.25 2281.2 1481.67 Q2278.15 1477.06 2278.15 1468.33 Q2278.15 1459.58 2281.2 1455 Q2284.28 1450.39 2290.09 1450.39 Z\" fill=\"#000000\" fill-rule=\"evenodd\" fill-opacity=\"1\" /><path clip-path=\"url(#clip540)\" d=\"M2320.25 1454.1 Q2316.64 1454.1 2314.81 1457.66 Q2313.01 1461.2 2313.01 1468.33 Q2313.01 1475.44 2314.81 1479.01 Q2316.64 1482.55 2320.25 1482.55 Q2323.89 1482.55 2325.69 1479.01 Q2327.52 1475.44 2327.52 1468.33 Q2327.52 1461.2 2325.69 1457.66 Q2323.89 1454.1 2320.25 1454.1 M2320.25 1450.39 Q2326.06 1450.39 2329.12 1455 Q2332.2 1459.58 2332.2 1468.33 Q2332.2 1477.06 2329.12 1481.67 Q2326.06 1486.25 2320.25 1486.25 Q2314.44 1486.25 2311.37 1481.67 Q2308.31 1477.06 2308.31 1468.33 Q2308.31 1459.58 2311.37 1455 Q2314.44 1450.39 2320.25 1450.39 Z\" fill=\"#000000\" fill-rule=\"evenodd\" fill-opacity=\"1\" /><path clip-path=\"url(#clip540)\" d=\"M1224.82 1526.86 L1216.1 1550.51 L1233.58 1550.51 L1224.82 1526.86 M1221.2 1520.52 L1228.48 1520.52 L1246.59 1568.04 L1239.91 1568.04 L1235.58 1555.85 L1214.16 1555.85 L1209.83 1568.04 L1203.05 1568.04 L1221.2 1520.52 Z\" fill=\"#000000\" fill-rule=\"evenodd\" fill-opacity=\"1\" /><path clip-path=\"url(#clip540)\" d=\"M1276.74 1549.81 Q1276.74 1543.44 1274.09 1539.94 Q1271.48 1536.44 1266.74 1536.44 Q1262.03 1536.44 1259.39 1539.94 Q1256.78 1543.44 1256.78 1549.81 Q1256.78 1556.14 1259.39 1559.64 Q1262.03 1563.14 1266.74 1563.14 Q1271.48 1563.14 1274.09 1559.64 Q1276.74 1556.14 1276.74 1549.81 M1282.59 1563.62 Q1282.59 1572.72 1278.55 1577.15 Q1274.51 1581.6 1266.17 1581.6 Q1263.08 1581.6 1260.34 1581.13 Q1257.61 1580.68 1255.03 1579.72 L1255.03 1574.03 Q1257.61 1575.43 1260.12 1576.1 Q1262.64 1576.76 1265.25 1576.76 Q1271.01 1576.76 1273.87 1573.74 Q1276.74 1570.75 1276.74 1564.67 L1276.74 1561.77 Q1274.92 1564.92 1272.09 1566.48 Q1269.26 1568.04 1265.31 1568.04 Q1258.75 1568.04 1254.74 1563.05 Q1250.73 1558.05 1250.73 1549.81 Q1250.73 1541.53 1254.74 1536.53 Q1258.75 1531.54 1265.31 1531.54 Q1269.26 1531.54 1272.09 1533.1 Q1274.92 1534.66 1276.74 1537.81 L1276.74 1532.4 L1282.59 1532.4 L1282.59 1563.62 Z\" fill=\"#000000\" fill-rule=\"evenodd\" fill-opacity=\"1\" /><path clip-path=\"url(#clip540)\" d=\"M1325.15 1548.76 L1325.15 1551.62 L1298.22 1551.62 Q1298.6 1557.67 1301.85 1560.85 Q1305.13 1564 1310.95 1564 Q1314.33 1564 1317.48 1563.17 Q1320.66 1562.35 1323.78 1560.69 L1323.78 1566.23 Q1320.63 1567.57 1317.32 1568.27 Q1314.01 1568.97 1310.6 1568.97 Q1302.07 1568.97 1297.07 1564 Q1292.11 1559.04 1292.11 1550.57 Q1292.11 1541.82 1296.82 1536.69 Q1301.56 1531.54 1309.58 1531.54 Q1316.78 1531.54 1320.95 1536.18 Q1325.15 1540.8 1325.15 1548.76 M1319.29 1547.04 Q1319.23 1542.23 1316.59 1539.37 Q1313.98 1536.5 1309.65 1536.5 Q1304.75 1536.5 1301.79 1539.27 Q1298.86 1542.04 1298.41 1547.07 L1319.29 1547.04 Z\" fill=\"#000000\" fill-rule=\"evenodd\" fill-opacity=\"1\" /><polyline clip-path=\"url(#clip542)\" style=\"stroke:#000000; stroke-linecap:butt; stroke-linejoin:round; stroke-width:2; stroke-opacity:0.1; fill:none\" points=\"\n",
       "  175.445,1396.5 2352.76,1396.5 \n",
       "  \"/>\n",
       "<polyline clip-path=\"url(#clip542)\" style=\"stroke:#000000; stroke-linecap:butt; stroke-linejoin:round; stroke-width:2; stroke-opacity:0.1; fill:none\" points=\"\n",
       "  175.445,1108.2 2352.76,1108.2 \n",
       "  \"/>\n",
       "<polyline clip-path=\"url(#clip542)\" style=\"stroke:#000000; stroke-linecap:butt; stroke-linejoin:round; stroke-width:2; stroke-opacity:0.1; fill:none\" points=\"\n",
       "  175.445,819.899 2352.76,819.899 \n",
       "  \"/>\n",
       "<polyline clip-path=\"url(#clip542)\" style=\"stroke:#000000; stroke-linecap:butt; stroke-linejoin:round; stroke-width:2; stroke-opacity:0.1; fill:none\" points=\"\n",
       "  175.445,531.597 2352.76,531.597 \n",
       "  \"/>\n",
       "<polyline clip-path=\"url(#clip542)\" style=\"stroke:#000000; stroke-linecap:butt; stroke-linejoin:round; stroke-width:2; stroke-opacity:0.1; fill:none\" points=\"\n",
       "  175.445,243.295 2352.76,243.295 \n",
       "  \"/>\n",
       "<polyline clip-path=\"url(#clip540)\" style=\"stroke:#000000; stroke-linecap:butt; stroke-linejoin:round; stroke-width:4; stroke-opacity:1; fill:none\" points=\"\n",
       "  175.445,1423.18 175.445,47.2441 \n",
       "  \"/>\n",
       "<polyline clip-path=\"url(#clip540)\" style=\"stroke:#000000; stroke-linecap:butt; stroke-linejoin:round; stroke-width:4; stroke-opacity:1; fill:none\" points=\"\n",
       "  175.445,1396.5 194.343,1396.5 \n",
       "  \"/>\n",
       "<polyline clip-path=\"url(#clip540)\" style=\"stroke:#000000; stroke-linecap:butt; stroke-linejoin:round; stroke-width:4; stroke-opacity:1; fill:none\" points=\"\n",
       "  175.445,1108.2 194.343,1108.2 \n",
       "  \"/>\n",
       "<polyline clip-path=\"url(#clip540)\" style=\"stroke:#000000; stroke-linecap:butt; stroke-linejoin:round; stroke-width:4; stroke-opacity:1; fill:none\" points=\"\n",
       "  175.445,819.899 194.343,819.899 \n",
       "  \"/>\n",
       "<polyline clip-path=\"url(#clip540)\" style=\"stroke:#000000; stroke-linecap:butt; stroke-linejoin:round; stroke-width:4; stroke-opacity:1; fill:none\" points=\"\n",
       "  175.445,531.597 194.343,531.597 \n",
       "  \"/>\n",
       "<polyline clip-path=\"url(#clip540)\" style=\"stroke:#000000; stroke-linecap:butt; stroke-linejoin:round; stroke-width:4; stroke-opacity:1; fill:none\" points=\"\n",
       "  175.445,243.295 194.343,243.295 \n",
       "  \"/>\n",
       "<path clip-path=\"url(#clip540)\" d=\"M127.501 1382.3 Q123.89 1382.3 122.061 1385.87 Q120.255 1389.41 120.255 1396.54 Q120.255 1403.64 122.061 1407.21 Q123.89 1410.75 127.501 1410.75 Q131.135 1410.75 132.941 1407.21 Q134.769 1403.64 134.769 1396.54 Q134.769 1389.41 132.941 1385.87 Q131.135 1382.3 127.501 1382.3 M127.501 1378.6 Q133.311 1378.6 136.367 1383.2 Q139.445 1387.79 139.445 1396.54 Q139.445 1405.26 136.367 1409.87 Q133.311 1414.45 127.501 1414.45 Q121.691 1414.45 118.612 1409.87 Q115.556 1405.26 115.556 1396.54 Q115.556 1387.79 118.612 1383.2 Q121.691 1378.6 127.501 1378.6 Z\" fill=\"#000000\" fill-rule=\"evenodd\" fill-opacity=\"1\" /><path clip-path=\"url(#clip540)\" d=\"M119.538 1121.55 L127.177 1121.55 L127.177 1095.18 L118.867 1096.85 L118.867 1092.59 L127.13 1090.92 L131.806 1090.92 L131.806 1121.55 L139.445 1121.55 L139.445 1125.48 L119.538 1125.48 L119.538 1121.55 Z\" fill=\"#000000\" fill-rule=\"evenodd\" fill-opacity=\"1\" /><path clip-path=\"url(#clip540)\" d=\"M123.126 833.244 L139.445 833.244 L139.445 837.179 L117.501 837.179 L117.501 833.244 Q120.163 830.489 124.746 825.859 Q129.353 821.207 130.533 819.864 Q132.779 817.341 133.658 815.605 Q134.561 813.846 134.561 812.156 Q134.561 809.401 132.617 807.665 Q130.695 805.929 127.593 805.929 Q125.394 805.929 122.941 806.693 Q120.51 807.457 117.732 809.008 L117.732 804.285 Q120.556 803.151 123.01 802.572 Q125.464 801.994 127.501 801.994 Q132.871 801.994 136.066 804.679 Q139.26 807.364 139.26 811.855 Q139.26 813.984 138.45 815.906 Q137.663 817.804 135.556 820.396 Q134.978 821.068 131.876 824.285 Q128.774 827.48 123.126 833.244 Z\" fill=\"#000000\" fill-rule=\"evenodd\" fill-opacity=\"1\" /><path clip-path=\"url(#clip540)\" d=\"M132.316 530.243 Q135.672 530.96 137.547 533.229 Q139.445 535.497 139.445 538.831 Q139.445 543.946 135.927 546.747 Q132.408 549.548 125.927 549.548 Q123.751 549.548 121.436 549.108 Q119.144 548.692 116.691 547.835 L116.691 543.321 Q118.635 544.456 120.95 545.034 Q123.265 545.613 125.788 545.613 Q130.186 545.613 132.478 543.877 Q134.792 542.141 134.792 538.831 Q134.792 535.775 132.64 534.062 Q130.51 532.326 126.691 532.326 L122.663 532.326 L122.663 528.484 L126.876 528.484 Q130.325 528.484 132.154 527.118 Q133.982 525.729 133.982 523.136 Q133.982 520.474 132.084 519.062 Q130.209 517.627 126.691 517.627 Q124.769 517.627 122.57 518.044 Q120.371 518.46 117.732 519.34 L117.732 515.173 Q120.394 514.433 122.709 514.062 Q125.047 513.692 127.107 513.692 Q132.431 513.692 135.533 516.123 Q138.635 518.53 138.635 522.65 Q138.635 525.521 136.992 527.511 Q135.348 529.479 132.316 530.243 Z\" fill=\"#000000\" fill-rule=\"evenodd\" fill-opacity=\"1\" /><path clip-path=\"url(#clip540)\" d=\"M129.862 230.089 L118.056 248.538 L129.862 248.538 L129.862 230.089 M128.635 226.015 L134.515 226.015 L134.515 248.538 L139.445 248.538 L139.445 252.427 L134.515 252.427 L134.515 260.575 L129.862 260.575 L129.862 252.427 L114.26 252.427 L114.26 247.913 L128.635 226.015 Z\" fill=\"#000000\" fill-rule=\"evenodd\" fill-opacity=\"1\" /><path clip-path=\"url(#clip540)\" d=\"M21.7677 1055.36 L39.6235 1055.36 L39.6235 1047.27 Q39.6235 1042.79 37.3 1040.34 Q34.9765 1037.89 30.6797 1037.89 Q26.4147 1037.89 24.0912 1040.34 Q21.7677 1042.79 21.7677 1047.27 L21.7677 1055.36 M16.4842 1061.79 L16.4842 1047.27 Q16.4842 1039.29 20.1126 1035.21 Q23.7092 1031.11 30.6797 1031.11 Q37.7138 1031.11 41.3104 1035.21 Q44.907 1039.29 44.907 1047.27 L44.907 1055.36 L64.0042 1055.36 L64.0042 1061.79 L16.4842 1061.79 Z\" fill=\"#000000\" fill-rule=\"evenodd\" fill-opacity=\"1\" /><path clip-path=\"url(#clip540)\" d=\"M32.4621 1011.24 Q32.4621 1015.96 36.1542 1018.69 Q39.8145 1021.43 46.212 1021.43 Q52.6095 1021.43 56.3017 1018.72 Q59.9619 1015.99 59.9619 1011.24 Q59.9619 1006.57 56.2698 1003.83 Q52.5777 1001.09 46.212 1001.09 Q39.8781 1001.09 36.186 1003.83 Q32.4621 1006.57 32.4621 1011.24 M27.4968 1011.24 Q27.4968 1003.61 32.4621 999.246 Q37.4273 994.885 46.212 994.885 Q54.9649 994.885 59.9619 999.246 Q64.9272 1003.61 64.9272 1011.24 Q64.9272 1018.92 59.9619 1023.28 Q54.9649 1027.6 46.212 1027.6 Q37.4273 1027.6 32.4621 1023.28 Q27.4968 1018.92 27.4968 1011.24 Z\" fill=\"#000000\" fill-rule=\"evenodd\" fill-opacity=\"1\" /><path clip-path=\"url(#clip540)\" d=\"M58.657 979.512 L77.5631 979.512 L77.5631 985.4 L28.3562 985.4 L28.3562 979.512 L33.7671 979.512 Q30.5842 977.666 29.0564 974.865 Q27.4968 972.032 27.4968 968.117 Q27.4968 961.624 32.6531 957.582 Q37.8093 953.508 46.212 953.508 Q54.6147 953.508 59.771 957.582 Q64.9272 961.624 64.9272 968.117 Q64.9272 972.032 63.3994 974.865 Q61.8398 977.666 58.657 979.512 M46.212 959.587 Q39.7508 959.587 36.0905 962.261 Q32.3984 964.903 32.3984 969.55 Q32.3984 974.197 36.0905 976.87 Q39.7508 979.512 46.212 979.512 Q52.6732 979.512 56.3653 976.87 Q60.0256 974.197 60.0256 969.55 Q60.0256 964.903 56.3653 962.261 Q52.6732 959.587 46.212 959.587 Z\" fill=\"#000000\" fill-rule=\"evenodd\" fill-opacity=\"1\" /><path clip-path=\"url(#clip540)\" d=\"M49.9359 944.405 L28.3562 944.405 L28.3562 938.549 L49.7131 938.549 Q54.7739 938.549 57.3202 936.575 Q59.8346 934.602 59.8346 930.655 Q59.8346 925.913 56.8109 923.175 Q53.7872 920.406 48.5673 920.406 L28.3562 920.406 L28.3562 914.55 L64.0042 914.55 L64.0042 920.406 L58.5296 920.406 Q61.7762 922.539 63.3676 925.372 Q64.9272 928.172 64.9272 931.896 Q64.9272 938.039 61.1078 941.222 Q57.2883 944.405 49.9359 944.405 M27.4968 929.668 L27.4968 929.668 Z\" fill=\"#000000\" fill-rule=\"evenodd\" fill-opacity=\"1\" /><path clip-path=\"url(#clip540)\" d=\"M14.479 902.487 L14.479 896.63 L64.0042 896.63 L64.0042 902.487 L14.479 902.487 Z\" fill=\"#000000\" fill-rule=\"evenodd\" fill-opacity=\"1\" /><path clip-path=\"url(#clip540)\" d=\"M46.0847 868.176 Q46.0847 875.273 47.7079 878.011 Q49.3312 880.748 53.2461 880.748 Q56.3653 880.748 58.2114 878.711 Q60.0256 876.642 60.0256 873.109 Q60.0256 868.239 56.5881 865.311 Q53.1188 862.351 47.3897 862.351 L46.0847 862.351 L46.0847 868.176 M43.6657 856.495 L64.0042 856.495 L64.0042 862.351 L58.5933 862.351 Q61.8398 864.356 63.3994 867.348 Q64.9272 870.34 64.9272 874.669 Q64.9272 880.143 61.8716 883.39 Q58.7843 886.604 53.6281 886.604 Q47.6125 886.604 44.5569 882.594 Q41.5014 878.552 41.5014 870.563 L41.5014 862.351 L40.9285 862.351 Q36.8862 862.351 34.6901 865.025 Q32.4621 867.666 32.4621 872.473 Q32.4621 875.528 33.1941 878.424 Q33.9262 881.321 35.3903 883.994 L29.9795 883.994 Q28.7381 880.78 28.1334 877.756 Q27.4968 874.732 27.4968 871.868 Q27.4968 864.133 31.5072 860.314 Q35.5176 856.495 43.6657 856.495 Z\" fill=\"#000000\" fill-rule=\"evenodd\" fill-opacity=\"1\" /><path clip-path=\"url(#clip540)\" d=\"M18.2347 838.639 L28.3562 838.639 L28.3562 826.576 L32.9077 826.576 L32.9077 838.639 L52.2594 838.639 Q56.6199 838.639 57.8613 837.461 Q59.1026 836.252 59.1026 832.591 L59.1026 826.576 L64.0042 826.576 L64.0042 832.591 Q64.0042 839.371 61.4897 841.949 Q58.9434 844.527 52.2594 844.527 L32.9077 844.527 L32.9077 848.824 L28.3562 848.824 L28.3562 844.527 L18.2347 844.527 L18.2347 838.639 Z\" fill=\"#000000\" fill-rule=\"evenodd\" fill-opacity=\"1\" /><path clip-path=\"url(#clip540)\" d=\"M28.3562 818.873 L28.3562 813.017 L64.0042 813.017 L64.0042 818.873 L28.3562 818.873 M14.479 818.873 L14.479 813.017 L21.895 813.017 L21.895 818.873 L14.479 818.873 Z\" fill=\"#000000\" fill-rule=\"evenodd\" fill-opacity=\"1\" /><path clip-path=\"url(#clip540)\" d=\"M32.4621 786.949 Q32.4621 791.66 36.1542 794.397 Q39.8145 797.134 46.212 797.134 Q52.6095 797.134 56.3017 794.429 Q59.9619 791.692 59.9619 786.949 Q59.9619 782.27 56.2698 779.533 Q52.5777 776.796 46.212 776.796 Q39.8781 776.796 36.186 779.533 Q32.4621 782.27 32.4621 786.949 M27.4968 786.949 Q27.4968 779.31 32.4621 774.95 Q37.4273 770.589 46.212 770.589 Q54.9649 770.589 59.9619 774.95 Q64.9272 779.31 64.9272 786.949 Q64.9272 794.62 59.9619 798.98 Q54.9649 803.309 46.212 803.309 Q37.4273 803.309 32.4621 798.98 Q27.4968 794.62 27.4968 786.949 Z\" fill=\"#000000\" fill-rule=\"evenodd\" fill-opacity=\"1\" /><path clip-path=\"url(#clip540)\" d=\"M42.4881 731.249 L64.0042 731.249 L64.0042 737.106 L42.679 737.106 Q37.6183 737.106 35.1038 739.079 Q32.5894 741.053 32.5894 744.999 Q32.5894 749.742 35.6131 752.479 Q38.6368 755.216 43.8567 755.216 L64.0042 755.216 L64.0042 761.104 L28.3562 761.104 L28.3562 755.216 L33.8944 755.216 Q30.6797 753.116 29.0883 750.283 Q27.4968 747.418 27.4968 743.694 Q27.4968 737.551 31.3163 734.4 Q35.1038 731.249 42.4881 731.249 Z\" fill=\"#000000\" fill-rule=\"evenodd\" fill-opacity=\"1\" /><path clip-path=\"url(#clip540)\" d=\"M14.5426 684.78 Q21.8632 689.045 29.0246 691.114 Q36.186 693.182 43.5384 693.182 Q50.8908 693.182 58.1159 691.114 Q65.3091 689.013 72.5979 684.78 L72.5979 689.872 Q65.1182 694.647 57.8931 697.034 Q50.668 699.389 43.5384 699.389 Q36.4406 699.389 29.2474 697.034 Q22.0542 694.678 14.5426 689.872 L14.5426 684.78 Z\" fill=\"#000000\" fill-rule=\"evenodd\" fill-opacity=\"1\" /><path clip-path=\"url(#clip540)\" d=\"M35.1993 645.662 Q31.2526 643.466 29.3747 640.411 Q27.4968 637.355 27.4968 633.217 Q27.4968 627.647 31.4117 624.624 Q35.2948 621.6 42.4881 621.6 L64.0042 621.6 L64.0042 627.488 L42.679 627.488 Q37.5546 627.488 35.072 629.303 Q32.5894 631.117 32.5894 634.841 Q32.5894 639.392 35.6131 642.034 Q38.6368 644.676 43.8567 644.676 L64.0042 644.676 L64.0042 650.564 L42.679 650.564 Q37.5228 650.564 35.072 652.378 Q32.5894 654.192 32.5894 657.98 Q32.5894 662.468 35.6449 665.11 Q38.6686 667.751 43.8567 667.751 L64.0042 667.751 L64.0042 673.64 L28.3562 673.64 L28.3562 667.751 L33.8944 667.751 Q30.616 665.746 29.0564 662.945 Q27.4968 660.144 27.4968 656.293 Q27.4968 652.41 29.4702 649.705 Q31.4436 646.967 35.1993 645.662 Z\" fill=\"#000000\" fill-rule=\"evenodd\" fill-opacity=\"1\" /><path clip-path=\"url(#clip540)\" d=\"M28.3562 609.919 L28.3562 604.062 L64.0042 604.062 L64.0042 609.919 L28.3562 609.919 M14.479 609.919 L14.479 604.062 L21.895 604.062 L21.895 609.919 L14.479 609.919 Z\" fill=\"#000000\" fill-rule=\"evenodd\" fill-opacity=\"1\" /><path clip-path=\"url(#clip540)\" d=\"M14.479 591.809 L14.479 585.952 L64.0042 585.952 L64.0042 591.809 L14.479 591.809 Z\" fill=\"#000000\" fill-rule=\"evenodd\" fill-opacity=\"1\" /><path clip-path=\"url(#clip540)\" d=\"M14.479 573.698 L14.479 567.842 L64.0042 567.842 L64.0042 573.698 L14.479 573.698 Z\" fill=\"#000000\" fill-rule=\"evenodd\" fill-opacity=\"1\" /><path clip-path=\"url(#clip540)\" d=\"M28.3562 555.588 L28.3562 549.731 L64.0042 549.731 L64.0042 555.588 L28.3562 555.588 M14.479 555.588 L14.479 549.731 L21.895 549.731 L21.895 555.588 L14.479 555.588 Z\" fill=\"#000000\" fill-rule=\"evenodd\" fill-opacity=\"1\" /><path clip-path=\"url(#clip540)\" d=\"M32.4621 523.664 Q32.4621 528.374 36.1542 531.111 Q39.8145 533.849 46.212 533.849 Q52.6095 533.849 56.3017 531.143 Q59.9619 528.406 59.9619 523.664 Q59.9619 518.985 56.2698 516.248 Q52.5777 513.51 46.212 513.51 Q39.8781 513.51 36.186 516.248 Q32.4621 518.985 32.4621 523.664 M27.4968 523.664 Q27.4968 516.025 32.4621 511.664 Q37.4273 507.304 46.212 507.304 Q54.9649 507.304 59.9619 511.664 Q64.9272 516.025 64.9272 523.664 Q64.9272 531.334 59.9619 535.695 Q54.9649 540.023 46.212 540.023 Q37.4273 540.023 32.4621 535.695 Q27.4968 531.334 27.4968 523.664 Z\" fill=\"#000000\" fill-rule=\"evenodd\" fill-opacity=\"1\" /><path clip-path=\"url(#clip540)\" d=\"M42.4881 467.964 L64.0042 467.964 L64.0042 473.82 L42.679 473.82 Q37.6183 473.82 35.1038 475.794 Q32.5894 477.767 32.5894 481.714 Q32.5894 486.456 35.6131 489.193 Q38.6368 491.931 43.8567 491.931 L64.0042 491.931 L64.0042 497.819 L28.3562 497.819 L28.3562 491.931 L33.8944 491.931 Q30.6797 489.83 29.0883 486.997 Q27.4968 484.133 27.4968 480.409 Q27.4968 474.266 31.3163 471.115 Q35.1038 467.964 42.4881 467.964 Z\" fill=\"#000000\" fill-rule=\"evenodd\" fill-opacity=\"1\" /><path clip-path=\"url(#clip540)\" d=\"M29.4065 433.557 L34.9447 433.557 Q33.6716 436.04 33.035 438.713 Q32.3984 441.387 32.3984 444.251 Q32.3984 448.612 33.7352 450.808 Q35.072 452.972 37.7456 452.972 Q39.7826 452.972 40.9603 451.413 Q42.1061 449.853 43.1565 445.143 L43.6021 443.137 Q44.9389 436.899 47.3897 434.289 Q49.8086 431.647 54.1691 431.647 Q59.1344 431.647 62.0308 435.594 Q64.9272 439.509 64.9272 446.384 Q64.9272 449.249 64.3543 452.368 Q63.8132 455.455 62.6992 458.893 L56.6518 458.893 Q58.3387 455.646 59.198 452.495 Q60.0256 449.344 60.0256 446.257 Q60.0256 442.119 58.6251 439.891 Q57.1929 437.663 54.6147 437.663 Q52.2276 437.663 50.9545 439.286 Q49.6813 440.878 48.5037 446.32 L48.0262 448.357 Q46.8804 453.8 44.5251 456.219 Q42.138 458.638 38.0002 458.638 Q32.9713 458.638 30.2341 455.073 Q27.4968 451.508 27.4968 444.952 Q27.4968 441.705 27.9743 438.841 Q28.4517 435.976 29.4065 433.557 Z\" fill=\"#000000\" fill-rule=\"evenodd\" fill-opacity=\"1\" /><path clip-path=\"url(#clip540)\" d=\"M14.5426 423.245 L14.5426 418.152 Q22.0542 413.378 29.2474 411.022 Q36.4406 408.635 43.5384 408.635 Q50.668 408.635 57.8931 411.022 Q65.1182 413.378 72.5979 418.152 L72.5979 423.245 Q65.3091 419.011 58.1159 416.943 Q50.8908 414.842 43.5384 414.842 Q36.186 414.842 29.0246 416.943 Q21.8632 419.011 14.5426 423.245 Z\" fill=\"#000000\" fill-rule=\"evenodd\" fill-opacity=\"1\" /><polyline clip-path=\"url(#clip542)\" style=\"stroke:#009af9; stroke-linecap:butt; stroke-linejoin:round; stroke-width:4; stroke-opacity:1; fill:none\" points=\"\n",
       "  237.067,220.497 257.815,227.858 278.564,227.517 299.312,228.001 320.06,229.167 340.808,229.674 361.556,233.583 382.304,236.9 403.052,240.768 423.801,244.575 \n",
       "  444.549,268.333 465.297,251.612 486.045,217.038 506.793,210.507 527.541,226.535 548.289,228.399 569.038,225.81 589.786,236.418 610.534,232.258 631.282,203.572 \n",
       "  652.03,197.336 672.778,214.82 693.526,218.042 714.275,215.539 735.023,202.654 755.771,181.534 776.519,161.366 797.267,139.446 818.015,109.848 838.764,86.1857 \n",
       "  859.512,105.463 880.26,152.891 901.008,178.764 921.756,197.905 942.504,183.722 963.252,180.27 984.001,212.001 1004.75,184.893 1025.5,195.009 1046.24,193.344 \n",
       "  1066.99,176.184 1087.74,266.674 1108.49,262.805 1129.24,294.151 1149.99,306.893 1170.73,275.067 1191.48,320.303 1212.23,284.7 1232.98,233.929 1253.73,167.941 \n",
       "  1274.47,165.596 1295.22,243.843 1315.97,257.81 1336.72,253.073 1357.47,227.166 1378.22,148.717 1398.96,150.017 1419.71,150.409 1440.46,154.253 1461.21,141.176 \n",
       "  1481.96,131.975 1502.7,190.503 1523.45,186.558 1544.2,224.915 1564.95,255.101 1585.7,272.745 1606.45,337.407 1627.19,371.563 1647.94,416.406 1668.69,464.791 \n",
       "  1689.44,479.306 1710.19,521.74 1730.93,514.881 1751.68,546.247 1772.43,757.599 1793.18,762.035 1813.93,783.28 1834.67,793.624 1855.42,879.527 1876.17,931.699 \n",
       "  1896.92,965.043 1917.67,997.436 1938.42,1028.13 1959.16,1066.65 1979.91,1090.54 2000.66,1116.99 2021.41,1157.04 2042.16,1174.57 2062.9,1198.34 2083.65,1217.98 \n",
       "  2104.4,1242.07 2125.15,1268.85 2145.9,1288.44 2166.65,1309.91 2187.39,1328.98 2208.14,1344.03 2228.89,1358.29 2249.64,1369.66 2270.39,1377.4 2291.13,1384.24 \n",
       "  \n",
       "  \"/>\n",
       "</svg>\n"
      ]
     },
     "execution_count": 3,
     "metadata": {},
     "output_type": "execute_result"
    }
   ],
   "source": [
    "for i in 1:10\n",
    "    global x\n",
    "    x = A*x\n",
    "end\n",
    "\n",
    "using Plots\n",
    "plot(x, legend=false, xlabel = \"Age\", ylabel = \"Population (millions)\")"
   ]
  },
  {
   "cell_type": "code",
   "execution_count": 4,
   "metadata": {},
   "outputs": [
    {
     "data": {
      "text/plain": [
       "100-element Vector{Float64}:\n",
       " 4.0790766134816625\n",
       " 4.0535457957690575\n",
       " 4.054729225941358\n",
       " 4.053047607816132\n",
       " 4.0490059364956705\n",
       " 4.047246546324571\n",
       " 4.03368720445562\n",
       " 4.022183687115317\n",
       " 4.008767303939664\n",
       " 3.9955607740056087\n",
       " 3.9131543285226225\n",
       " 3.971153368018159\n",
       " 4.091075105455785\n",
       " ⋮\n",
       " 0.6873323555310012\n",
       " 0.6192372258017612\n",
       " 0.5356607104865245\n",
       " 0.4427703788561159\n",
       " 0.3748300058930206\n",
       " 0.30034841895593123\n",
       " 0.23421041098850048\n",
       " 0.18199480309561697\n",
       " 0.13252584975841084\n",
       " 0.09309948640935481\n",
       " 0.06624367740084482\n",
       " 0.04253878101247304"
      ]
     },
     "execution_count": 4,
     "metadata": {},
     "output_type": "execute_result"
    }
   ],
   "source": [
    "x"
   ]
  },
  {
   "cell_type": "markdown",
   "metadata": {},
   "source": [
    "### epidemic dynamics"
   ]
  },
  {
   "cell_type": "code",
   "execution_count": 131,
   "metadata": {},
   "outputs": [
    {
     "data": {
      "image/svg+xml": [
       "<?xml version=\"1.0\" encoding=\"utf-8\"?>\n",
       "<svg xmlns=\"http://www.w3.org/2000/svg\" xmlns:xlink=\"http://www.w3.org/1999/xlink\" width=\"600\" height=\"400\" viewBox=\"0 0 2400 1600\">\n",
       "<defs>\n",
       "  <clipPath id=\"clip620\">\n",
       "    <rect x=\"0\" y=\"0\" width=\"2400\" height=\"1600\"/>\n",
       "  </clipPath>\n",
       "</defs>\n",
       "<path clip-path=\"url(#clip620)\" d=\"\n",
       "M0 1600 L2400 1600 L2400 0 L0 0  Z\n",
       "  \" fill=\"#ffffff\" fill-rule=\"evenodd\" fill-opacity=\"1\"/>\n",
       "<defs>\n",
       "  <clipPath id=\"clip621\">\n",
       "    <rect x=\"480\" y=\"0\" width=\"1681\" height=\"1600\"/>\n",
       "  </clipPath>\n",
       "</defs>\n",
       "<path clip-path=\"url(#clip620)\" d=\"\n",
       "M186.274 1423.18 L2352.76 1423.18 L2352.76 47.2441 L186.274 47.2441  Z\n",
       "  \" fill=\"#ffffff\" fill-rule=\"evenodd\" fill-opacity=\"1\"/>\n",
       "<defs>\n",
       "  <clipPath id=\"clip622\">\n",
       "    <rect x=\"186\" y=\"47\" width=\"2167\" height=\"1377\"/>\n",
       "  </clipPath>\n",
       "</defs>\n",
       "<polyline clip-path=\"url(#clip622)\" style=\"stroke:#000000; stroke-linecap:butt; stroke-linejoin:round; stroke-width:2; stroke-opacity:0.1; fill:none\" points=\"\n",
       "  237.81,1423.18 237.81,47.2441 \n",
       "  \"/>\n",
       "<polyline clip-path=\"url(#clip622)\" style=\"stroke:#000000; stroke-linecap:butt; stroke-linejoin:round; stroke-width:2; stroke-opacity:0.1; fill:none\" points=\"\n",
       "  726.77,1423.18 726.77,47.2441 \n",
       "  \"/>\n",
       "<polyline clip-path=\"url(#clip622)\" style=\"stroke:#000000; stroke-linecap:butt; stroke-linejoin:round; stroke-width:2; stroke-opacity:0.1; fill:none\" points=\"\n",
       "  1215.73,1423.18 1215.73,47.2441 \n",
       "  \"/>\n",
       "<polyline clip-path=\"url(#clip622)\" style=\"stroke:#000000; stroke-linecap:butt; stroke-linejoin:round; stroke-width:2; stroke-opacity:0.1; fill:none\" points=\"\n",
       "  1704.69,1423.18 1704.69,47.2441 \n",
       "  \"/>\n",
       "<polyline clip-path=\"url(#clip622)\" style=\"stroke:#000000; stroke-linecap:butt; stroke-linejoin:round; stroke-width:2; stroke-opacity:0.1; fill:none\" points=\"\n",
       "  2193.65,1423.18 2193.65,47.2441 \n",
       "  \"/>\n",
       "<polyline clip-path=\"url(#clip620)\" style=\"stroke:#000000; stroke-linecap:butt; stroke-linejoin:round; stroke-width:4; stroke-opacity:1; fill:none\" points=\"\n",
       "  186.274,1423.18 2352.76,1423.18 \n",
       "  \"/>\n",
       "<polyline clip-path=\"url(#clip620)\" style=\"stroke:#000000; stroke-linecap:butt; stroke-linejoin:round; stroke-width:4; stroke-opacity:1; fill:none\" points=\"\n",
       "  237.81,1423.18 237.81,1404.28 \n",
       "  \"/>\n",
       "<polyline clip-path=\"url(#clip620)\" style=\"stroke:#000000; stroke-linecap:butt; stroke-linejoin:round; stroke-width:4; stroke-opacity:1; fill:none\" points=\"\n",
       "  726.77,1423.18 726.77,1404.28 \n",
       "  \"/>\n",
       "<polyline clip-path=\"url(#clip620)\" style=\"stroke:#000000; stroke-linecap:butt; stroke-linejoin:round; stroke-width:4; stroke-opacity:1; fill:none\" points=\"\n",
       "  1215.73,1423.18 1215.73,1404.28 \n",
       "  \"/>\n",
       "<polyline clip-path=\"url(#clip620)\" style=\"stroke:#000000; stroke-linecap:butt; stroke-linejoin:round; stroke-width:4; stroke-opacity:1; fill:none\" points=\"\n",
       "  1704.69,1423.18 1704.69,1404.28 \n",
       "  \"/>\n",
       "<polyline clip-path=\"url(#clip620)\" style=\"stroke:#000000; stroke-linecap:butt; stroke-linejoin:round; stroke-width:4; stroke-opacity:1; fill:none\" points=\"\n",
       "  2193.65,1423.18 2193.65,1404.28 \n",
       "  \"/>\n",
       "<path clip-path=\"url(#clip620)\" d=\"M237.81 1454.1 Q234.199 1454.1 232.371 1457.66 Q230.565 1461.2 230.565 1468.33 Q230.565 1475.44 232.371 1479.01 Q234.199 1482.55 237.81 1482.55 Q241.445 1482.55 243.25 1479.01 Q245.079 1475.44 245.079 1468.33 Q245.079 1461.2 243.25 1457.66 Q241.445 1454.1 237.81 1454.1 M237.81 1450.39 Q243.62 1450.39 246.676 1455 Q249.755 1459.58 249.755 1468.33 Q249.755 1477.06 246.676 1481.67 Q243.62 1486.25 237.81 1486.25 Q232 1486.25 228.921 1481.67 Q225.866 1477.06 225.866 1468.33 Q225.866 1459.58 228.921 1455 Q232 1450.39 237.81 1450.39 Z\" fill=\"#000000\" fill-rule=\"evenodd\" fill-opacity=\"1\" /><path clip-path=\"url(#clip620)\" d=\"M701.469 1451.02 L719.825 1451.02 L719.825 1454.96 L705.751 1454.96 L705.751 1463.43 Q706.77 1463.08 707.788 1462.92 Q708.807 1462.73 709.826 1462.73 Q715.613 1462.73 718.992 1465.9 Q722.372 1469.08 722.372 1474.49 Q722.372 1480.07 718.9 1483.17 Q715.427 1486.25 709.108 1486.25 Q706.932 1486.25 704.664 1485.88 Q702.418 1485.51 700.011 1484.77 L700.011 1480.07 Q702.094 1481.2 704.316 1481.76 Q706.538 1482.32 709.015 1482.32 Q713.02 1482.32 715.358 1480.21 Q717.696 1478.1 717.696 1474.49 Q717.696 1470.88 715.358 1468.77 Q713.02 1466.67 709.015 1466.67 Q707.14 1466.67 705.265 1467.08 Q703.414 1467.5 701.469 1468.38 L701.469 1451.02 Z\" fill=\"#000000\" fill-rule=\"evenodd\" fill-opacity=\"1\" /><path clip-path=\"url(#clip620)\" d=\"M741.585 1454.1 Q737.974 1454.1 736.145 1457.66 Q734.339 1461.2 734.339 1468.33 Q734.339 1475.44 736.145 1479.01 Q737.974 1482.55 741.585 1482.55 Q745.219 1482.55 747.024 1479.01 Q748.853 1475.44 748.853 1468.33 Q748.853 1461.2 747.024 1457.66 Q745.219 1454.1 741.585 1454.1 M741.585 1450.39 Q747.395 1450.39 750.45 1455 Q753.529 1459.58 753.529 1468.33 Q753.529 1477.06 750.45 1481.67 Q747.395 1486.25 741.585 1486.25 Q735.774 1486.25 732.696 1481.67 Q729.64 1477.06 729.64 1468.33 Q729.64 1459.58 732.696 1455 Q735.774 1450.39 741.585 1450.39 Z\" fill=\"#000000\" fill-rule=\"evenodd\" fill-opacity=\"1\" /><path clip-path=\"url(#clip620)\" d=\"M1175.34 1481.64 L1182.97 1481.64 L1182.97 1455.28 L1174.66 1456.95 L1174.66 1452.69 L1182.93 1451.02 L1187.6 1451.02 L1187.6 1481.64 L1195.24 1481.64 L1195.24 1485.58 L1175.34 1485.58 L1175.34 1481.64 Z\" fill=\"#000000\" fill-rule=\"evenodd\" fill-opacity=\"1\" /><path clip-path=\"url(#clip620)\" d=\"M1214.69 1454.1 Q1211.08 1454.1 1209.25 1457.66 Q1207.44 1461.2 1207.44 1468.33 Q1207.44 1475.44 1209.25 1479.01 Q1211.08 1482.55 1214.69 1482.55 Q1218.32 1482.55 1220.13 1479.01 Q1221.96 1475.44 1221.96 1468.33 Q1221.96 1461.2 1220.13 1457.66 Q1218.32 1454.1 1214.69 1454.1 M1214.69 1450.39 Q1220.5 1450.39 1223.55 1455 Q1226.63 1459.58 1226.63 1468.33 Q1226.63 1477.06 1223.55 1481.67 Q1220.5 1486.25 1214.69 1486.25 Q1208.88 1486.25 1205.8 1481.67 Q1202.74 1477.06 1202.74 1468.33 Q1202.74 1459.58 1205.8 1455 Q1208.88 1450.39 1214.69 1450.39 Z\" fill=\"#000000\" fill-rule=\"evenodd\" fill-opacity=\"1\" /><path clip-path=\"url(#clip620)\" d=\"M1244.85 1454.1 Q1241.24 1454.1 1239.41 1457.66 Q1237.6 1461.2 1237.6 1468.33 Q1237.6 1475.44 1239.41 1479.01 Q1241.24 1482.55 1244.85 1482.55 Q1248.48 1482.55 1250.29 1479.01 Q1252.12 1475.44 1252.12 1468.33 Q1252.12 1461.2 1250.29 1457.66 Q1248.48 1454.1 1244.85 1454.1 M1244.85 1450.39 Q1250.66 1450.39 1253.72 1455 Q1256.79 1459.58 1256.79 1468.33 Q1256.79 1477.06 1253.72 1481.67 Q1250.66 1486.25 1244.85 1486.25 Q1239.04 1486.25 1235.96 1481.67 Q1232.91 1477.06 1232.91 1468.33 Q1232.91 1459.58 1235.96 1455 Q1239.04 1450.39 1244.85 1450.39 Z\" fill=\"#000000\" fill-rule=\"evenodd\" fill-opacity=\"1\" /><path clip-path=\"url(#clip620)\" d=\"M1664.3 1481.64 L1671.93 1481.64 L1671.93 1455.28 L1663.62 1456.95 L1663.62 1452.69 L1671.89 1451.02 L1676.56 1451.02 L1676.56 1481.64 L1684.2 1481.64 L1684.2 1485.58 L1664.3 1485.58 L1664.3 1481.64 Z\" fill=\"#000000\" fill-rule=\"evenodd\" fill-opacity=\"1\" /><path clip-path=\"url(#clip620)\" d=\"M1693.69 1451.02 L1712.05 1451.02 L1712.05 1454.96 L1697.98 1454.96 L1697.98 1463.43 Q1698.99 1463.08 1700.01 1462.92 Q1701.03 1462.73 1702.05 1462.73 Q1707.84 1462.73 1711.22 1465.9 Q1714.6 1469.08 1714.6 1474.49 Q1714.6 1480.07 1711.12 1483.17 Q1707.65 1486.25 1701.33 1486.25 Q1699.16 1486.25 1696.89 1485.88 Q1694.64 1485.51 1692.24 1484.77 L1692.24 1480.07 Q1694.32 1481.2 1696.54 1481.76 Q1698.76 1482.32 1701.24 1482.32 Q1705.24 1482.32 1707.58 1480.21 Q1709.92 1478.1 1709.92 1474.49 Q1709.92 1470.88 1707.58 1468.77 Q1705.24 1466.67 1701.24 1466.67 Q1699.36 1466.67 1697.49 1467.08 Q1695.64 1467.5 1693.69 1468.38 L1693.69 1451.02 Z\" fill=\"#000000\" fill-rule=\"evenodd\" fill-opacity=\"1\" /><path clip-path=\"url(#clip620)\" d=\"M1733.81 1454.1 Q1730.2 1454.1 1728.37 1457.66 Q1726.56 1461.2 1726.56 1468.33 Q1726.56 1475.44 1728.37 1479.01 Q1730.2 1482.55 1733.81 1482.55 Q1737.44 1482.55 1739.25 1479.01 Q1741.08 1475.44 1741.08 1468.33 Q1741.08 1461.2 1739.25 1457.66 Q1737.44 1454.1 1733.81 1454.1 M1733.81 1450.39 Q1739.62 1450.39 1742.67 1455 Q1745.75 1459.58 1745.75 1468.33 Q1745.75 1477.06 1742.67 1481.67 Q1739.62 1486.25 1733.81 1486.25 Q1728 1486.25 1724.92 1481.67 Q1721.86 1477.06 1721.86 1468.33 Q1721.86 1459.58 1724.92 1455 Q1728 1450.39 1733.81 1450.39 Z\" fill=\"#000000\" fill-rule=\"evenodd\" fill-opacity=\"1\" /><path clip-path=\"url(#clip620)\" d=\"M2157.34 1481.64 L2173.66 1481.64 L2173.66 1485.58 L2151.72 1485.58 L2151.72 1481.64 Q2154.38 1478.89 2158.96 1474.26 Q2163.57 1469.61 2164.75 1468.27 Q2166.99 1465.74 2167.87 1464.01 Q2168.78 1462.25 2168.78 1460.56 Q2168.78 1457.8 2166.83 1456.07 Q2164.91 1454.33 2161.81 1454.33 Q2159.61 1454.33 2157.16 1455.09 Q2154.73 1455.86 2151.95 1457.41 L2151.95 1452.69 Q2154.77 1451.55 2157.23 1450.97 Q2159.68 1450.39 2161.72 1450.39 Q2167.09 1450.39 2170.28 1453.08 Q2173.47 1455.77 2173.47 1460.26 Q2173.47 1462.39 2172.66 1464.31 Q2171.88 1466.2 2169.77 1468.8 Q2169.19 1469.47 2166.09 1472.69 Q2162.99 1475.88 2157.34 1481.64 Z\" fill=\"#000000\" fill-rule=\"evenodd\" fill-opacity=\"1\" /><path clip-path=\"url(#clip620)\" d=\"M2193.47 1454.1 Q2189.86 1454.1 2188.04 1457.66 Q2186.23 1461.2 2186.23 1468.33 Q2186.23 1475.44 2188.04 1479.01 Q2189.86 1482.55 2193.47 1482.55 Q2197.11 1482.55 2198.91 1479.01 Q2200.74 1475.44 2200.74 1468.33 Q2200.74 1461.2 2198.91 1457.66 Q2197.11 1454.1 2193.47 1454.1 M2193.47 1450.39 Q2199.29 1450.39 2202.34 1455 Q2205.42 1459.58 2205.42 1468.33 Q2205.42 1477.06 2202.34 1481.67 Q2199.29 1486.25 2193.47 1486.25 Q2187.66 1486.25 2184.59 1481.67 Q2181.53 1477.06 2181.53 1468.33 Q2181.53 1459.58 2184.59 1455 Q2187.66 1450.39 2193.47 1450.39 Z\" fill=\"#000000\" fill-rule=\"evenodd\" fill-opacity=\"1\" /><path clip-path=\"url(#clip620)\" d=\"M2223.64 1454.1 Q2220.03 1454.1 2218.2 1457.66 Q2216.39 1461.2 2216.39 1468.33 Q2216.39 1475.44 2218.2 1479.01 Q2220.03 1482.55 2223.64 1482.55 Q2227.27 1482.55 2229.08 1479.01 Q2230.91 1475.44 2230.91 1468.33 Q2230.91 1461.2 2229.08 1457.66 Q2227.27 1454.1 2223.64 1454.1 M2223.64 1450.39 Q2229.45 1450.39 2232.5 1455 Q2235.58 1459.58 2235.58 1468.33 Q2235.58 1477.06 2232.5 1481.67 Q2229.45 1486.25 2223.64 1486.25 Q2217.83 1486.25 2214.75 1481.67 Q2211.69 1477.06 2211.69 1468.33 Q2211.69 1459.58 2214.75 1455 Q2217.83 1450.39 2223.64 1450.39 Z\" fill=\"#000000\" fill-rule=\"evenodd\" fill-opacity=\"1\" /><path clip-path=\"url(#clip620)\" d=\"M1167.3 1520.52 L1207.5 1520.52 L1207.5 1525.93 L1190.63 1525.93 L1190.63 1568.04 L1184.17 1568.04 L1184.17 1525.93 L1167.3 1525.93 L1167.3 1520.52 Z\" fill=\"#000000\" fill-rule=\"evenodd\" fill-opacity=\"1\" /><path clip-path=\"url(#clip620)\" d=\"M1211.44 1532.4 L1217.3 1532.4 L1217.3 1568.04 L1211.44 1568.04 L1211.44 1532.4 M1211.44 1518.52 L1217.3 1518.52 L1217.3 1525.93 L1211.44 1525.93 L1211.44 1518.52 Z\" fill=\"#000000\" fill-rule=\"evenodd\" fill-opacity=\"1\" /><path clip-path=\"url(#clip620)\" d=\"M1257.31 1539.24 Q1259.5 1535.29 1262.56 1533.41 Q1265.62 1531.54 1269.75 1531.54 Q1275.32 1531.54 1278.35 1535.45 Q1281.37 1539.33 1281.37 1546.53 L1281.37 1568.04 L1275.48 1568.04 L1275.48 1546.72 Q1275.48 1541.59 1273.67 1539.11 Q1271.85 1536.63 1268.13 1536.63 Q1263.58 1536.63 1260.94 1539.65 Q1258.3 1542.68 1258.3 1547.9 L1258.3 1568.04 L1252.41 1568.04 L1252.41 1546.72 Q1252.41 1541.56 1250.59 1539.11 Q1248.78 1536.63 1244.99 1536.63 Q1240.5 1536.63 1237.86 1539.68 Q1235.22 1542.71 1235.22 1547.9 L1235.22 1568.04 L1229.33 1568.04 L1229.33 1532.4 L1235.22 1532.4 L1235.22 1537.93 Q1237.22 1534.66 1240.03 1533.1 Q1242.83 1531.54 1246.68 1531.54 Q1250.56 1531.54 1253.27 1533.51 Q1256 1535.48 1257.31 1539.24 Z\" fill=\"#000000\" fill-rule=\"evenodd\" fill-opacity=\"1\" /><path clip-path=\"url(#clip620)\" d=\"M1323.54 1548.76 L1323.54 1551.62 L1296.62 1551.62 Q1297 1557.67 1300.25 1560.85 Q1303.52 1564 1309.35 1564 Q1312.72 1564 1315.87 1563.17 Q1319.06 1562.35 1322.18 1560.69 L1322.18 1566.23 Q1319.02 1567.57 1315.71 1568.27 Q1312.4 1568.97 1309 1568.97 Q1300.47 1568.97 1295.47 1564 Q1290.51 1559.04 1290.51 1550.57 Q1290.51 1541.82 1295.22 1536.69 Q1299.96 1531.54 1307.98 1531.54 Q1315.17 1531.54 1319.34 1536.18 Q1323.54 1540.8 1323.54 1548.76 M1317.69 1547.04 Q1317.62 1542.23 1314.98 1539.37 Q1312.37 1536.5 1308.04 1536.5 Q1303.14 1536.5 1300.18 1539.27 Q1297.25 1542.04 1296.81 1547.07 L1317.69 1547.04 Z\" fill=\"#000000\" fill-rule=\"evenodd\" fill-opacity=\"1\" /><path clip-path=\"url(#clip620)\" d=\"M1359.67 1522.27 L1359.67 1532.4 L1371.73 1532.4 L1371.73 1536.95 L1359.67 1536.95 L1359.67 1556.3 Q1359.67 1560.66 1360.85 1561.9 Q1362.06 1563.14 1365.72 1563.14 L1371.73 1563.14 L1371.73 1568.04 L1365.72 1568.04 Q1358.94 1568.04 1356.36 1565.53 Q1353.78 1562.98 1353.78 1556.3 L1353.78 1536.95 L1349.48 1536.95 L1349.48 1532.4 L1353.78 1532.4 L1353.78 1522.27 L1359.67 1522.27 Z\" fill=\"#000000\" fill-rule=\"evenodd\" fill-opacity=\"1\" /><polyline clip-path=\"url(#clip622)\" style=\"stroke:#000000; stroke-linecap:butt; stroke-linejoin:round; stroke-width:2; stroke-opacity:0.1; fill:none\" points=\"\n",
       "  186.274,1384.24 2352.76,1384.24 \n",
       "  \"/>\n",
       "<polyline clip-path=\"url(#clip622)\" style=\"stroke:#000000; stroke-linecap:butt; stroke-linejoin:round; stroke-width:2; stroke-opacity:0.1; fill:none\" points=\"\n",
       "  186.274,1059.73 2352.76,1059.73 \n",
       "  \"/>\n",
       "<polyline clip-path=\"url(#clip622)\" style=\"stroke:#000000; stroke-linecap:butt; stroke-linejoin:round; stroke-width:2; stroke-opacity:0.1; fill:none\" points=\"\n",
       "  186.274,735.212 2352.76,735.212 \n",
       "  \"/>\n",
       "<polyline clip-path=\"url(#clip622)\" style=\"stroke:#000000; stroke-linecap:butt; stroke-linejoin:round; stroke-width:2; stroke-opacity:0.1; fill:none\" points=\"\n",
       "  186.274,410.699 2352.76,410.699 \n",
       "  \"/>\n",
       "<polyline clip-path=\"url(#clip622)\" style=\"stroke:#000000; stroke-linecap:butt; stroke-linejoin:round; stroke-width:2; stroke-opacity:0.1; fill:none\" points=\"\n",
       "  186.274,86.1857 2352.76,86.1857 \n",
       "  \"/>\n",
       "<polyline clip-path=\"url(#clip620)\" style=\"stroke:#000000; stroke-linecap:butt; stroke-linejoin:round; stroke-width:4; stroke-opacity:1; fill:none\" points=\"\n",
       "  186.274,1423.18 186.274,47.2441 \n",
       "  \"/>\n",
       "<polyline clip-path=\"url(#clip620)\" style=\"stroke:#000000; stroke-linecap:butt; stroke-linejoin:round; stroke-width:4; stroke-opacity:1; fill:none\" points=\"\n",
       "  186.274,1384.24 205.172,1384.24 \n",
       "  \"/>\n",
       "<polyline clip-path=\"url(#clip620)\" style=\"stroke:#000000; stroke-linecap:butt; stroke-linejoin:round; stroke-width:4; stroke-opacity:1; fill:none\" points=\"\n",
       "  186.274,1059.73 205.172,1059.73 \n",
       "  \"/>\n",
       "<polyline clip-path=\"url(#clip620)\" style=\"stroke:#000000; stroke-linecap:butt; stroke-linejoin:round; stroke-width:4; stroke-opacity:1; fill:none\" points=\"\n",
       "  186.274,735.212 205.172,735.212 \n",
       "  \"/>\n",
       "<polyline clip-path=\"url(#clip620)\" style=\"stroke:#000000; stroke-linecap:butt; stroke-linejoin:round; stroke-width:4; stroke-opacity:1; fill:none\" points=\"\n",
       "  186.274,410.699 205.172,410.699 \n",
       "  \"/>\n",
       "<polyline clip-path=\"url(#clip620)\" style=\"stroke:#000000; stroke-linecap:butt; stroke-linejoin:round; stroke-width:4; stroke-opacity:1; fill:none\" points=\"\n",
       "  186.274,86.1857 205.172,86.1857 \n",
       "  \"/>\n",
       "<path clip-path=\"url(#clip620)\" d=\"M62.9365 1370.04 Q59.3254 1370.04 57.4967 1373.6 Q55.6912 1377.14 55.6912 1384.27 Q55.6912 1391.38 57.4967 1394.94 Q59.3254 1398.49 62.9365 1398.49 Q66.5707 1398.49 68.3763 1394.94 Q70.205 1391.38 70.205 1384.27 Q70.205 1377.14 68.3763 1373.6 Q66.5707 1370.04 62.9365 1370.04 M62.9365 1366.33 Q68.7467 1366.33 71.8022 1370.94 Q74.8809 1375.52 74.8809 1384.27 Q74.8809 1393 71.8022 1397.61 Q68.7467 1402.19 62.9365 1402.19 Q57.1264 1402.19 54.0477 1397.61 Q50.9921 1393 50.9921 1384.27 Q50.9921 1375.52 54.0477 1370.94 Q57.1264 1366.33 62.9365 1366.33 Z\" fill=\"#000000\" fill-rule=\"evenodd\" fill-opacity=\"1\" /><path clip-path=\"url(#clip620)\" d=\"M83.0984 1395.64 L87.9827 1395.64 L87.9827 1401.52 L83.0984 1401.52 L83.0984 1395.64 Z\" fill=\"#000000\" fill-rule=\"evenodd\" fill-opacity=\"1\" /><path clip-path=\"url(#clip620)\" d=\"M108.168 1370.04 Q104.557 1370.04 102.728 1373.6 Q100.922 1377.14 100.922 1384.27 Q100.922 1391.38 102.728 1394.94 Q104.557 1398.49 108.168 1398.49 Q111.802 1398.49 113.608 1394.94 Q115.436 1391.38 115.436 1384.27 Q115.436 1377.14 113.608 1373.6 Q111.802 1370.04 108.168 1370.04 M108.168 1366.33 Q113.978 1366.33 117.033 1370.94 Q120.112 1375.52 120.112 1384.27 Q120.112 1393 117.033 1397.61 Q113.978 1402.19 108.168 1402.19 Q102.358 1402.19 99.2789 1397.61 Q96.2234 1393 96.2234 1384.27 Q96.2234 1375.52 99.2789 1370.94 Q102.358 1366.33 108.168 1366.33 Z\" fill=\"#000000\" fill-rule=\"evenodd\" fill-opacity=\"1\" /><path clip-path=\"url(#clip620)\" d=\"M138.33 1370.04 Q134.719 1370.04 132.89 1373.6 Q131.084 1377.14 131.084 1384.27 Q131.084 1391.38 132.89 1394.94 Q134.719 1398.49 138.33 1398.49 Q141.964 1398.49 143.769 1394.94 Q145.598 1391.38 145.598 1384.27 Q145.598 1377.14 143.769 1373.6 Q141.964 1370.04 138.33 1370.04 M138.33 1366.33 Q144.14 1366.33 147.195 1370.94 Q150.274 1375.52 150.274 1384.27 Q150.274 1393 147.195 1397.61 Q144.14 1402.19 138.33 1402.19 Q132.519 1402.19 129.441 1397.61 Q126.385 1393 126.385 1384.27 Q126.385 1375.52 129.441 1370.94 Q132.519 1366.33 138.33 1366.33 Z\" fill=\"#000000\" fill-rule=\"evenodd\" fill-opacity=\"1\" /><path clip-path=\"url(#clip620)\" d=\"M63.9319 1045.52 Q60.3208 1045.52 58.4921 1049.09 Q56.6865 1052.63 56.6865 1059.76 Q56.6865 1066.87 58.4921 1070.43 Q60.3208 1073.97 63.9319 1073.97 Q67.5661 1073.97 69.3717 1070.43 Q71.2004 1066.87 71.2004 1059.76 Q71.2004 1052.63 69.3717 1049.09 Q67.5661 1045.52 63.9319 1045.52 M63.9319 1041.82 Q69.742 1041.82 72.7976 1046.43 Q75.8763 1051.01 75.8763 1059.76 Q75.8763 1068.49 72.7976 1073.09 Q69.742 1077.68 63.9319 1077.68 Q58.1217 1077.68 55.043 1073.09 Q51.9875 1068.49 51.9875 1059.76 Q51.9875 1051.01 55.043 1046.43 Q58.1217 1041.82 63.9319 1041.82 Z\" fill=\"#000000\" fill-rule=\"evenodd\" fill-opacity=\"1\" /><path clip-path=\"url(#clip620)\" d=\"M84.0938 1071.13 L88.978 1071.13 L88.978 1077.01 L84.0938 1077.01 L84.0938 1071.13 Z\" fill=\"#000000\" fill-rule=\"evenodd\" fill-opacity=\"1\" /><path clip-path=\"url(#clip620)\" d=\"M103.191 1073.07 L119.51 1073.07 L119.51 1077.01 L97.566 1077.01 L97.566 1073.07 Q100.228 1070.32 104.811 1065.69 Q109.418 1061.03 110.598 1059.69 Q112.844 1057.17 113.723 1055.43 Q114.626 1053.67 114.626 1051.98 Q114.626 1049.23 112.682 1047.49 Q110.76 1045.76 107.658 1045.76 Q105.459 1045.76 103.006 1046.52 Q100.575 1047.28 97.7974 1048.83 L97.7974 1044.11 Q100.621 1042.98 103.075 1042.4 Q105.529 1041.82 107.566 1041.82 Q112.936 1041.82 116.131 1044.51 Q119.325 1047.19 119.325 1051.68 Q119.325 1053.81 118.515 1055.73 Q117.728 1057.63 115.621 1060.22 Q115.043 1060.89 111.941 1064.11 Q108.839 1067.31 103.191 1073.07 Z\" fill=\"#000000\" fill-rule=\"evenodd\" fill-opacity=\"1\" /><path clip-path=\"url(#clip620)\" d=\"M129.371 1042.45 L147.728 1042.45 L147.728 1046.38 L133.654 1046.38 L133.654 1054.85 Q134.672 1054.51 135.691 1054.34 Q136.709 1054.16 137.728 1054.16 Q143.515 1054.16 146.894 1057.33 Q150.274 1060.5 150.274 1065.92 Q150.274 1071.5 146.802 1074.6 Q143.33 1077.68 137.01 1077.68 Q134.834 1077.68 132.566 1077.31 Q130.32 1076.94 127.913 1076.19 L127.913 1071.5 Q129.996 1072.63 132.219 1073.19 Q134.441 1073.74 136.918 1073.74 Q140.922 1073.74 143.26 1071.63 Q145.598 1069.53 145.598 1065.92 Q145.598 1062.31 143.26 1060.2 Q140.922 1058.09 136.918 1058.09 Q135.043 1058.09 133.168 1058.51 Q131.316 1058.93 129.371 1059.81 L129.371 1042.45 Z\" fill=\"#000000\" fill-rule=\"evenodd\" fill-opacity=\"1\" /><path clip-path=\"url(#clip620)\" d=\"M62.9365 721.011 Q59.3254 721.011 57.4967 724.575 Q55.6912 728.117 55.6912 735.247 Q55.6912 742.353 57.4967 745.918 Q59.3254 749.46 62.9365 749.46 Q66.5707 749.46 68.3763 745.918 Q70.205 742.353 70.205 735.247 Q70.205 728.117 68.3763 724.575 Q66.5707 721.011 62.9365 721.011 M62.9365 717.307 Q68.7467 717.307 71.8022 721.913 Q74.8809 726.497 74.8809 735.247 Q74.8809 743.973 71.8022 748.58 Q68.7467 753.163 62.9365 753.163 Q57.1264 753.163 54.0477 748.58 Q50.9921 743.973 50.9921 735.247 Q50.9921 726.497 54.0477 721.913 Q57.1264 717.307 62.9365 717.307 Z\" fill=\"#000000\" fill-rule=\"evenodd\" fill-opacity=\"1\" /><path clip-path=\"url(#clip620)\" d=\"M83.0984 746.612 L87.9827 746.612 L87.9827 752.492 L83.0984 752.492 L83.0984 746.612 Z\" fill=\"#000000\" fill-rule=\"evenodd\" fill-opacity=\"1\" /><path clip-path=\"url(#clip620)\" d=\"M98.2141 717.932 L116.57 717.932 L116.57 721.867 L102.496 721.867 L102.496 730.339 Q103.515 729.992 104.534 729.83 Q105.552 729.645 106.571 729.645 Q112.358 729.645 115.737 732.816 Q119.117 735.987 119.117 741.404 Q119.117 746.983 115.645 750.085 Q112.172 753.163 105.853 753.163 Q103.677 753.163 101.409 752.793 Q99.1632 752.423 96.7558 751.682 L96.7558 746.983 Q98.8391 748.117 101.061 748.673 Q103.284 749.228 105.76 749.228 Q109.765 749.228 112.103 747.122 Q114.441 745.015 114.441 741.404 Q114.441 737.793 112.103 735.687 Q109.765 733.58 105.76 733.58 Q103.885 733.58 102.01 733.997 Q100.159 734.413 98.2141 735.293 L98.2141 717.932 Z\" fill=\"#000000\" fill-rule=\"evenodd\" fill-opacity=\"1\" /><path clip-path=\"url(#clip620)\" d=\"M138.33 721.011 Q134.719 721.011 132.89 724.575 Q131.084 728.117 131.084 735.247 Q131.084 742.353 132.89 745.918 Q134.719 749.46 138.33 749.46 Q141.964 749.46 143.769 745.918 Q145.598 742.353 145.598 735.247 Q145.598 728.117 143.769 724.575 Q141.964 721.011 138.33 721.011 M138.33 717.307 Q144.14 717.307 147.195 721.913 Q150.274 726.497 150.274 735.247 Q150.274 743.973 147.195 748.58 Q144.14 753.163 138.33 753.163 Q132.519 753.163 129.441 748.58 Q126.385 743.973 126.385 735.247 Q126.385 726.497 129.441 721.913 Q132.519 717.307 138.33 717.307 Z\" fill=\"#000000\" fill-rule=\"evenodd\" fill-opacity=\"1\" /><path clip-path=\"url(#clip620)\" d=\"M63.9319 396.498 Q60.3208 396.498 58.4921 400.062 Q56.6865 403.604 56.6865 410.734 Q56.6865 417.84 58.4921 421.405 Q60.3208 424.946 63.9319 424.946 Q67.5661 424.946 69.3717 421.405 Q71.2004 417.84 71.2004 410.734 Q71.2004 403.604 69.3717 400.062 Q67.5661 396.498 63.9319 396.498 M63.9319 392.794 Q69.742 392.794 72.7976 397.4 Q75.8763 401.984 75.8763 410.734 Q75.8763 419.46 72.7976 424.067 Q69.742 428.65 63.9319 428.65 Q58.1217 428.65 55.043 424.067 Q51.9875 419.46 51.9875 410.734 Q51.9875 401.984 55.043 397.4 Q58.1217 392.794 63.9319 392.794 Z\" fill=\"#000000\" fill-rule=\"evenodd\" fill-opacity=\"1\" /><path clip-path=\"url(#clip620)\" d=\"M84.0938 422.099 L88.978 422.099 L88.978 427.979 L84.0938 427.979 L84.0938 422.099 Z\" fill=\"#000000\" fill-rule=\"evenodd\" fill-opacity=\"1\" /><path clip-path=\"url(#clip620)\" d=\"M97.9826 393.419 L120.205 393.419 L120.205 395.41 L107.658 427.979 L102.774 427.979 L114.58 397.354 L97.9826 397.354 L97.9826 393.419 Z\" fill=\"#000000\" fill-rule=\"evenodd\" fill-opacity=\"1\" /><path clip-path=\"url(#clip620)\" d=\"M129.371 393.419 L147.728 393.419 L147.728 397.354 L133.654 397.354 L133.654 405.826 Q134.672 405.479 135.691 405.317 Q136.709 405.132 137.728 405.132 Q143.515 405.132 146.894 408.303 Q150.274 411.474 150.274 416.891 Q150.274 422.47 146.802 425.571 Q143.33 428.65 137.01 428.65 Q134.834 428.65 132.566 428.28 Q130.32 427.909 127.913 427.169 L127.913 422.47 Q129.996 423.604 132.219 424.159 Q134.441 424.715 136.918 424.715 Q140.922 424.715 143.26 422.608 Q145.598 420.502 145.598 416.891 Q145.598 413.28 143.26 411.173 Q140.922 409.067 136.918 409.067 Q135.043 409.067 133.168 409.484 Q131.316 409.9 129.371 410.78 L129.371 393.419 Z\" fill=\"#000000\" fill-rule=\"evenodd\" fill-opacity=\"1\" /><path clip-path=\"url(#clip620)\" d=\"M53.7467 99.5305 L61.3856 99.5305 L61.3856 73.1649 L53.0754 74.8316 L53.0754 70.5723 L61.3393 68.9057 L66.0152 68.9057 L66.0152 99.5305 L73.654 99.5305 L73.654 103.466 L53.7467 103.466 L53.7467 99.5305 Z\" fill=\"#000000\" fill-rule=\"evenodd\" fill-opacity=\"1\" /><path clip-path=\"url(#clip620)\" d=\"M83.0984 97.5861 L87.9827 97.5861 L87.9827 103.466 L83.0984 103.466 L83.0984 97.5861 Z\" fill=\"#000000\" fill-rule=\"evenodd\" fill-opacity=\"1\" /><path clip-path=\"url(#clip620)\" d=\"M108.168 71.9844 Q104.557 71.9844 102.728 75.5492 Q100.922 79.0908 100.922 86.2204 Q100.922 93.3268 102.728 96.8916 Q104.557 100.433 108.168 100.433 Q111.802 100.433 113.608 96.8916 Q115.436 93.3268 115.436 86.2204 Q115.436 79.0908 113.608 75.5492 Q111.802 71.9844 108.168 71.9844 M108.168 68.2807 Q113.978 68.2807 117.033 72.8871 Q120.112 77.4704 120.112 86.2204 Q120.112 94.9472 117.033 99.5537 Q113.978 104.137 108.168 104.137 Q102.358 104.137 99.2789 99.5537 Q96.2234 94.9472 96.2234 86.2204 Q96.2234 77.4704 99.2789 72.8871 Q102.358 68.2807 108.168 68.2807 Z\" fill=\"#000000\" fill-rule=\"evenodd\" fill-opacity=\"1\" /><path clip-path=\"url(#clip620)\" d=\"M138.33 71.9844 Q134.719 71.9844 132.89 75.5492 Q131.084 79.0908 131.084 86.2204 Q131.084 93.3268 132.89 96.8916 Q134.719 100.433 138.33 100.433 Q141.964 100.433 143.769 96.8916 Q145.598 93.3268 145.598 86.2204 Q145.598 79.0908 143.769 75.5492 Q141.964 71.9844 138.33 71.9844 M138.33 68.2807 Q144.14 68.2807 147.195 72.8871 Q150.274 77.4704 150.274 86.2204 Q150.274 94.9472 147.195 99.5537 Q144.14 104.137 138.33 104.137 Q132.519 104.137 129.441 99.5537 Q126.385 94.9472 126.385 86.2204 Q126.385 77.4704 129.441 72.8871 Q132.519 68.2807 138.33 68.2807 Z\" fill=\"#000000\" fill-rule=\"evenodd\" fill-opacity=\"1\" /><polyline clip-path=\"url(#clip622)\" style=\"stroke:#009af9; stroke-linecap:butt; stroke-linejoin:round; stroke-width:4; stroke-opacity:1; fill:none\" points=\"\n",
       "  247.59,86.1857 257.369,151.088 267.148,210.15 276.927,264.181 286.706,313.864 296.485,359.77 306.265,402.382 316.044,442.107 325.823,479.286 335.602,514.212 \n",
       "  345.381,547.129 355.161,578.249 364.94,607.748 374.719,635.781 384.498,662.477 394.277,687.951 404.057,712.3 413.836,735.609 423.615,757.951 433.394,779.393 \n",
       "  443.173,799.991 452.953,819.795 462.732,838.853 472.511,857.203 482.29,874.883 492.069,891.925 501.848,908.361 511.628,924.217 521.407,939.519 531.186,954.291 \n",
       "  540.965,968.555 550.744,982.33 560.524,995.637 570.303,1008.49 580.082,1020.91 589.861,1032.92 599.64,1044.52 609.42,1055.73 619.199,1066.57 628.978,1077.05 \n",
       "  638.757,1087.18 648.536,1096.97 658.316,1106.44 668.095,1115.6 677.874,1124.45 687.653,1133.01 697.432,1141.28 707.211,1149.29 716.991,1157.02 726.77,1164.51 \n",
       "  736.549,1171.74 746.328,1178.74 756.107,1185.51 765.887,1192.05 775.666,1198.38 785.445,1204.5 795.224,1210.42 805.003,1216.14 814.783,1221.67 824.562,1227.02 \n",
       "  834.341,1232.2 844.12,1237.2 853.899,1242.05 863.679,1246.73 873.458,1251.25 883.237,1255.63 893.016,1259.86 902.795,1263.96 912.574,1267.92 922.354,1271.75 \n",
       "  932.133,1275.45 941.912,1279.03 951.691,1282.49 961.47,1285.84 971.25,1289.08 981.029,1292.22 990.808,1295.24 1000.59,1298.17 1010.37,1301.01 1020.15,1303.75 \n",
       "  1029.92,1306.4 1039.7,1308.96 1049.48,1311.44 1059.26,1313.83 1069.04,1316.15 1078.82,1318.39 1088.6,1320.56 1098.38,1322.66 1108.16,1324.68 1117.94,1326.64 \n",
       "  1127.72,1328.54 1137.5,1330.37 1147.28,1332.15 1157.05,1333.86 1166.83,1335.52 1176.61,1337.12 1186.39,1338.67 1196.17,1340.17 1205.95,1341.62 1215.73,1343.03 \n",
       "  1225.51,1344.38 1235.29,1345.7 1245.07,1346.96 1254.85,1348.19 1264.63,1349.38 1274.4,1350.53 1284.18,1351.64 1293.96,1352.71 1303.74,1353.75 1313.52,1354.75 \n",
       "  1323.3,1355.72 1333.08,1356.66 1342.86,1357.57 1352.64,1358.45 1362.42,1359.29 1372.2,1360.12 1381.98,1360.91 1391.75,1361.68 1401.53,1362.42 1411.31,1363.14 \n",
       "  1421.09,1363.83 1430.87,1364.5 1440.65,1365.15 1450.43,1365.78 1460.21,1366.39 1469.99,1366.98 1479.77,1367.55 1489.55,1368.1 1499.33,1368.63 1509.11,1369.14 \n",
       "  1518.88,1369.64 1528.66,1370.12 1538.44,1370.58 1548.22,1371.03 1558,1371.47 1567.78,1371.89 1577.56,1372.29 1587.34,1372.69 1597.12,1373.07 1606.9,1373.44 \n",
       "  1616.68,1373.79 1626.46,1374.13 1636.23,1374.47 1646.01,1374.79 1655.79,1375.1 1665.57,1375.4 1675.35,1375.69 1685.13,1375.97 1694.91,1376.25 1704.69,1376.51 \n",
       "  1714.47,1376.76 1724.25,1377.01 1734.03,1377.25 1743.81,1377.48 1753.58,1377.7 1763.36,1377.91 1773.14,1378.12 1782.92,1378.32 1792.7,1378.52 1802.48,1378.71 \n",
       "  1812.26,1378.89 1822.04,1379.07 1831.82,1379.24 1841.6,1379.4 1851.38,1379.56 1861.16,1379.71 1870.94,1379.86 1880.71,1380.01 1890.49,1380.15 1900.27,1380.28 \n",
       "  1910.05,1380.41 1919.83,1380.54 1929.61,1380.66 1939.39,1380.78 1949.17,1380.89 1958.95,1381 1968.73,1381.11 1978.51,1381.21 1988.29,1381.31 1998.06,1381.41 \n",
       "  2007.84,1381.5 2017.62,1381.59 2027.4,1381.68 2037.18,1381.76 2046.96,1381.84 2056.74,1381.92 2066.52,1382 2076.3,1382.07 2086.08,1382.14 2095.86,1382.21 \n",
       "  2105.64,1382.28 2115.41,1382.34 2125.19,1382.41 2134.97,1382.47 2144.75,1382.52 2154.53,1382.58 2164.31,1382.64 2174.09,1382.69 2183.87,1382.74 2193.65,1382.79 \n",
       "  2203.43,1382.84 2213.21,1382.88 2222.99,1382.93 2232.77,1382.97 2242.54,1383.01 2252.32,1383.05 2262.1,1383.09 2271.88,1383.13 2281.66,1383.17 2291.44,1383.2 \n",
       "  \n",
       "  \"/>\n",
       "<polyline clip-path=\"url(#clip622)\" style=\"stroke:#e26f46; stroke-linecap:butt; stroke-linejoin:round; stroke-width:4; stroke-opacity:1; fill:none\" points=\"\n",
       "  247.59,1384.24 257.369,1319.34 267.148,1267.41 276.927,1226.23 286.706,1193.93 296.485,1168.96 306.265,1150.03 316.044,1136.07 325.823,1126.19 335.602,1119.65 \n",
       "  345.381,1115.83 355.161,1114.24 364.94,1114.44 374.719,1116.08 384.498,1118.88 394.277,1122.6 404.057,1127.03 413.836,1132.02 423.615,1137.42 433.394,1143.13 \n",
       "  443.173,1149.05 452.953,1155.12 462.732,1161.26 472.511,1167.44 482.29,1173.61 492.069,1179.73 501.848,1185.79 511.628,1191.77 521.407,1197.64 531.186,1203.39 \n",
       "  540.965,1209.02 550.744,1214.52 560.524,1219.88 570.303,1225.11 580.082,1230.19 589.861,1235.13 599.64,1239.93 609.42,1244.59 619.199,1249.11 628.978,1253.5 \n",
       "  638.757,1257.75 648.536,1261.87 658.316,1265.86 668.095,1269.73 677.874,1273.47 687.653,1277.1 697.432,1280.61 707.211,1284 716.991,1287.29 726.77,1290.47 \n",
       "  736.549,1293.55 746.328,1296.53 756.107,1299.41 765.887,1302.2 775.666,1304.9 785.445,1307.5 795.224,1310.03 805.003,1312.47 814.783,1314.83 824.562,1317.11 \n",
       "  834.341,1319.32 844.12,1321.46 853.899,1323.52 863.679,1325.52 873.458,1327.45 883.237,1329.32 893.016,1331.13 902.795,1332.88 912.574,1334.57 922.354,1336.2 \n",
       "  932.133,1337.78 941.912,1339.31 951.691,1340.79 961.47,1342.22 971.25,1343.6 981.029,1344.94 990.808,1346.23 1000.59,1347.48 1010.37,1348.69 1020.15,1349.86 \n",
       "  1029.92,1351 1039.7,1352.09 1049.48,1353.15 1059.26,1354.17 1069.04,1355.16 1078.82,1356.12 1088.6,1357.04 1098.38,1357.94 1108.16,1358.81 1117.94,1359.64 \n",
       "  1127.72,1360.45 1137.5,1361.24 1147.28,1361.99 1157.05,1362.72 1166.83,1363.43 1176.61,1364.12 1186.39,1364.78 1196.17,1365.42 1205.95,1366.04 1215.73,1366.64 \n",
       "  1225.51,1367.22 1235.29,1367.78 1245.07,1368.32 1254.85,1368.84 1264.63,1369.35 1274.4,1369.84 1284.18,1370.32 1293.96,1370.77 1303.74,1371.22 1313.52,1371.65 \n",
       "  1323.3,1372.06 1333.08,1372.46 1342.86,1372.85 1352.64,1373.22 1362.42,1373.59 1372.2,1373.94 1381.98,1374.28 1391.75,1374.6 1401.53,1374.92 1411.31,1375.23 \n",
       "  1421.09,1375.52 1430.87,1375.81 1440.65,1376.09 1450.43,1376.36 1460.21,1376.62 1469.99,1376.87 1479.77,1377.11 1489.55,1377.34 1499.33,1377.57 1509.11,1377.79 \n",
       "  1518.88,1378 1528.66,1378.21 1538.44,1378.41 1548.22,1378.6 1558,1378.78 1567.78,1378.96 1577.56,1379.14 1587.34,1379.31 1597.12,1379.47 1606.9,1379.62 \n",
       "  1616.68,1379.78 1626.46,1379.92 1636.23,1380.07 1646.01,1380.2 1655.79,1380.34 1665.57,1380.46 1675.35,1380.59 1685.13,1380.71 1694.91,1380.82 1704.69,1380.94 \n",
       "  1714.47,1381.05 1724.25,1381.15 1734.03,1381.25 1743.81,1381.35 1753.58,1381.45 1763.36,1381.54 1773.14,1381.63 1782.92,1381.71 1792.7,1381.8 1802.48,1381.88 \n",
       "  1812.26,1381.95 1822.04,1382.03 1831.82,1382.1 1841.6,1382.17 1851.38,1382.24 1861.16,1382.31 1870.94,1382.37 1880.71,1382.43 1890.49,1382.49 1900.27,1382.55 \n",
       "  1910.05,1382.6 1919.83,1382.66 1929.61,1382.71 1939.39,1382.76 1949.17,1382.81 1958.95,1382.86 1968.73,1382.9 1978.51,1382.95 1988.29,1382.99 1998.06,1383.03 \n",
       "  2007.84,1383.07 2017.62,1383.11 2027.4,1383.14 2037.18,1383.18 2046.96,1383.22 2056.74,1383.25 2066.52,1383.28 2076.3,1383.31 2086.08,1383.34 2095.86,1383.37 \n",
       "  2105.64,1383.4 2115.41,1383.43 2125.19,1383.46 2134.97,1383.48 2144.75,1383.51 2154.53,1383.53 2164.31,1383.55 2174.09,1383.58 2183.87,1383.6 2193.65,1383.62 \n",
       "  2203.43,1383.64 2213.21,1383.66 2222.99,1383.68 2232.77,1383.7 2242.54,1383.71 2252.32,1383.73 2262.1,1383.75 2271.88,1383.76 2281.66,1383.78 2291.44,1383.8 \n",
       "  \n",
       "  \"/>\n",
       "<polyline clip-path=\"url(#clip622)\" style=\"stroke:#3da44d; stroke-linecap:butt; stroke-linejoin:round; stroke-width:4; stroke-opacity:1; fill:none\" points=\"\n",
       "  247.59,1384.24 257.369,1384.24 267.148,1377.75 276.927,1366.07 286.706,1350.26 296.485,1331.23 306.265,1309.71 316.044,1286.29 325.823,1261.47 335.602,1235.66 \n",
       "  345.381,1209.2 355.161,1182.36 364.94,1155.36 374.719,1128.38 384.498,1101.57 394.277,1075.03 404.057,1048.87 413.836,1023.15 423.615,997.925 433.394,973.243 \n",
       "  443.173,949.132 452.953,925.613 462.732,902.701 472.511,880.403 482.29,858.723 492.069,837.66 501.848,817.21 511.628,797.365 521.407,778.118 531.186,759.458 \n",
       "  540.965,741.373 550.744,723.852 560.524,706.88 570.303,690.444 580.082,674.531 589.861,659.126 599.64,644.215 609.42,629.784 619.199,615.819 628.978,602.306 \n",
       "  638.757,589.232 648.536,576.584 658.316,564.347 668.095,552.509 677.874,541.058 687.653,529.982 697.432,519.268 707.211,508.905 716.991,498.881 726.77,489.187 \n",
       "  736.549,479.81 746.328,470.741 756.107,461.971 765.887,453.488 775.666,445.284 785.445,437.35 795.224,429.676 805.003,422.255 814.783,415.078 824.562,408.137 \n",
       "  834.341,401.424 844.12,394.932 853.899,388.654 863.679,382.582 873.458,376.71 883.237,371.032 893.016,365.54 902.795,360.229 912.574,355.093 922.354,350.125 \n",
       "  932.133,345.322 941.912,340.676 951.691,336.183 961.47,331.838 971.25,327.637 981.029,323.573 990.808,319.643 1000.59,315.843 1010.37,312.167 1020.15,308.613 \n",
       "  1029.92,305.176 1039.7,301.851 1049.48,298.637 1059.26,295.528 1069.04,292.521 1078.82,289.613 1088.6,286.802 1098.38,284.082 1108.16,281.452 1117.94,278.909 \n",
       "  1127.72,276.449 1137.5,274.071 1147.28,271.77 1157.05,269.546 1166.83,267.395 1176.61,265.314 1186.39,263.302 1196.17,261.356 1205.95,259.474 1215.73,257.654 \n",
       "  1225.51,255.895 1235.29,254.193 1245.07,252.547 1254.85,250.955 1264.63,249.415 1274.4,247.927 1284.18,246.487 1293.96,245.095 1303.74,243.748 1313.52,242.446 \n",
       "  1323.3,241.187 1333.08,239.969 1342.86,238.791 1352.64,237.652 1362.42,236.551 1372.2,235.485 1381.98,234.455 1391.75,233.459 1401.53,232.496 1411.31,231.564 \n",
       "  1421.09,230.663 1430.87,229.791 1440.65,228.949 1450.43,228.134 1460.21,227.345 1469.99,226.583 1479.77,225.846 1489.55,225.133 1499.33,224.444 1509.11,223.777 \n",
       "  1518.88,223.132 1528.66,222.509 1538.44,221.906 1548.22,221.323 1558,220.759 1567.78,220.213 1577.56,219.686 1587.34,219.176 1597.12,218.683 1606.9,218.205 \n",
       "  1616.68,217.744 1626.46,217.298 1636.23,216.867 1646.01,216.449 1655.79,216.046 1665.57,215.655 1675.35,215.278 1685.13,214.913 1694.91,214.56 1704.69,214.219 \n",
       "  1714.47,213.889 1724.25,213.569 1734.03,213.261 1743.81,212.962 1753.58,212.673 1763.36,212.394 1773.14,212.124 1782.92,211.863 1792.7,211.61 1802.48,211.366 \n",
       "  1812.26,211.13 1822.04,210.901 1831.82,210.681 1841.6,210.467 1851.38,210.26 1861.16,210.06 1870.94,209.867 1880.71,209.68 1890.49,209.5 1900.27,209.325 \n",
       "  1910.05,209.156 1919.83,208.992 1929.61,208.834 1939.39,208.681 1949.17,208.534 1958.95,208.391 1968.73,208.252 1978.51,208.119 1988.29,207.989 1998.06,207.864 \n",
       "  2007.84,207.743 2017.62,207.626 2027.4,207.513 2037.18,207.404 2046.96,207.298 2056.74,207.196 2066.52,207.097 2076.3,207.001 2086.08,206.909 2095.86,206.819 \n",
       "  2105.64,206.733 2115.41,206.649 2125.19,206.568 2134.97,206.49 2144.75,206.414 2154.53,206.341 2164.31,206.27 2174.09,206.202 2183.87,206.135 2193.65,206.071 \n",
       "  2203.43,206.01 2213.21,205.95 2222.99,205.892 2232.77,205.836 2242.54,205.782 2252.32,205.729 2262.1,205.679 2271.88,205.63 2281.66,205.582 2291.44,205.536 \n",
       "  \n",
       "  \"/>\n",
       "<polyline clip-path=\"url(#clip622)\" style=\"stroke:#c271d2; stroke-linecap:butt; stroke-linejoin:round; stroke-width:4; stroke-opacity:1; fill:none\" points=\"\n",
       "  247.59,1384.24 257.369,1384.24 267.148,1383.59 276.927,1382.42 286.706,1380.84 296.485,1378.94 306.265,1376.79 316.044,1374.44 325.823,1371.96 335.602,1369.38 \n",
       "  345.381,1366.73 355.161,1364.05 364.94,1361.35 374.719,1358.65 384.498,1355.97 394.277,1353.32 404.057,1350.7 413.836,1348.13 423.615,1345.61 433.394,1343.14 \n",
       "  443.173,1340.73 452.953,1338.38 462.732,1336.08 472.511,1333.85 482.29,1331.69 492.069,1329.58 501.848,1327.54 511.628,1325.55 521.407,1323.63 531.186,1321.76 \n",
       "  540.965,1319.95 550.744,1318.2 560.524,1316.5 570.303,1314.86 580.082,1313.27 589.861,1311.73 599.64,1310.24 609.42,1308.79 619.199,1307.4 628.978,1306.05 \n",
       "  638.757,1304.74 648.536,1303.47 658.316,1302.25 668.095,1301.07 677.874,1299.92 687.653,1298.81 697.432,1297.74 707.211,1296.7 716.991,1295.7 726.77,1294.73 \n",
       "  736.549,1293.8 746.328,1292.89 756.107,1292.01 765.887,1291.16 775.666,1290.34 785.445,1289.55 795.224,1288.78 805.003,1288.04 814.783,1287.32 824.562,1286.63 \n",
       "  834.341,1285.96 844.12,1285.31 853.899,1284.68 863.679,1284.07 873.458,1283.49 883.237,1282.92 893.016,1282.37 902.795,1281.84 912.574,1281.32 922.354,1280.83 \n",
       "  932.133,1280.35 941.912,1279.88 951.691,1279.43 961.47,1279 971.25,1278.58 981.029,1278.17 990.808,1277.78 1000.59,1277.4 1010.37,1277.03 1020.15,1276.68 \n",
       "  1029.92,1276.33 1039.7,1276 1049.48,1275.68 1059.26,1275.37 1069.04,1275.07 1078.82,1274.78 1088.6,1274.49 1098.38,1274.22 1108.16,1273.96 1117.94,1273.71 \n",
       "  1127.72,1273.46 1137.5,1273.22 1147.28,1272.99 1157.05,1272.77 1166.83,1272.55 1176.61,1272.35 1186.39,1272.14 1196.17,1271.95 1205.95,1271.76 1215.73,1271.58 \n",
       "  1225.51,1271.4 1235.29,1271.23 1245.07,1271.07 1254.85,1270.91 1264.63,1270.76 1274.4,1270.61 1284.18,1270.46 1293.96,1270.32 1303.74,1270.19 1313.52,1270.06 \n",
       "  1323.3,1269.93 1333.08,1269.81 1342.86,1269.69 1352.64,1269.58 1362.42,1269.47 1372.2,1269.36 1381.98,1269.26 1391.75,1269.16 1401.53,1269.06 1411.31,1268.97 \n",
       "  1421.09,1268.88 1430.87,1268.79 1440.65,1268.71 1450.43,1268.63 1460.21,1268.55 1469.99,1268.47 1479.77,1268.4 1489.55,1268.33 1499.33,1268.26 1509.11,1268.19 \n",
       "  1518.88,1268.13 1528.66,1268.07 1538.44,1268.01 1548.22,1267.95 1558,1267.89 1567.78,1267.84 1577.56,1267.78 1587.34,1267.73 1597.12,1267.68 1606.9,1267.63 \n",
       "  1616.68,1267.59 1626.46,1267.54 1636.23,1267.5 1646.01,1267.46 1655.79,1267.42 1665.57,1267.38 1675.35,1267.34 1685.13,1267.31 1694.91,1267.27 1704.69,1267.24 \n",
       "  1714.47,1267.2 1724.25,1267.17 1734.03,1267.14 1743.81,1267.11 1753.58,1267.08 1763.36,1267.05 1773.14,1267.03 1782.92,1267 1792.7,1266.98 1802.48,1266.95 \n",
       "  1812.26,1266.93 1822.04,1266.9 1831.82,1266.88 1841.6,1266.86 1851.38,1266.84 1861.16,1266.82 1870.94,1266.8 1880.71,1266.78 1890.49,1266.76 1900.27,1266.75 \n",
       "  1910.05,1266.73 1919.83,1266.71 1929.61,1266.7 1939.39,1266.68 1949.17,1266.67 1958.95,1266.65 1968.73,1266.64 1978.51,1266.63 1988.29,1266.61 1998.06,1266.6 \n",
       "  2007.84,1266.59 2017.62,1266.58 2027.4,1266.57 2037.18,1266.55 2046.96,1266.54 2056.74,1266.53 2066.52,1266.52 2076.3,1266.51 2086.08,1266.51 2095.86,1266.5 \n",
       "  2105.64,1266.49 2115.41,1266.48 2125.19,1266.47 2134.97,1266.46 2144.75,1266.46 2154.53,1266.45 2164.31,1266.44 2174.09,1266.43 2183.87,1266.43 2193.65,1266.42 \n",
       "  2203.43,1266.42 2213.21,1266.41 2222.99,1266.4 2232.77,1266.4 2242.54,1266.39 2252.32,1266.39 2262.1,1266.38 2271.88,1266.38 2281.66,1266.37 2291.44,1266.37 \n",
       "  \n",
       "  \"/>\n",
       "<path clip-path=\"url(#clip620)\" d=\"\n",
       "M1771.12 352.309 L2280.54 352.309 L2280.54 93.1086 L1771.12 93.1086  Z\n",
       "  \" fill=\"#ffffff\" fill-rule=\"evenodd\" fill-opacity=\"1\"/>\n",
       "<polyline clip-path=\"url(#clip620)\" style=\"stroke:#000000; stroke-linecap:butt; stroke-linejoin:round; stroke-width:4; stroke-opacity:1; fill:none\" points=\"\n",
       "  1771.12,352.309 2280.54,352.309 2280.54,93.1086 1771.12,93.1086 1771.12,352.309 \n",
       "  \"/>\n",
       "<polyline clip-path=\"url(#clip620)\" style=\"stroke:#009af9; stroke-linecap:butt; stroke-linejoin:round; stroke-width:4; stroke-opacity:1; fill:none\" points=\"\n",
       "  1795.19,144.949 1939.62,144.949 \n",
       "  \"/>\n",
       "<path clip-path=\"url(#clip620)\" d=\"M1985.94 128.803 L1985.94 133.363 Q1983.28 132.09 1980.92 131.465 Q1978.55 130.84 1976.36 130.84 Q1972.54 130.84 1970.45 132.321 Q1968.39 133.803 1968.39 136.534 Q1968.39 138.826 1969.76 140.007 Q1971.15 141.164 1974.99 141.882 L1977.81 142.46 Q1983.05 143.456 1985.52 145.979 Q1988.02 148.479 1988.02 152.692 Q1988.02 157.715 1984.64 160.307 Q1981.29 162.9 1974.78 162.9 Q1972.33 162.9 1969.55 162.344 Q1966.8 161.789 1963.83 160.701 L1963.83 155.886 Q1966.68 157.483 1969.41 158.293 Q1972.14 159.104 1974.78 159.104 Q1978.79 159.104 1980.96 157.53 Q1983.14 155.956 1983.14 153.039 Q1983.14 150.493 1981.56 149.057 Q1980.01 147.622 1976.45 146.905 L1973.6 146.349 Q1968.37 145.307 1966.03 143.085 Q1963.69 140.863 1963.69 136.905 Q1963.69 132.321 1966.91 129.682 Q1970.15 127.044 1975.82 127.044 Q1978.25 127.044 1980.78 127.483 Q1983.3 127.923 1985.94 128.803 Z\" fill=\"#000000\" fill-rule=\"evenodd\" fill-opacity=\"1\" /><path clip-path=\"url(#clip620)\" d=\"M1994.69 151.997 L1994.69 136.303 L1998.95 136.303 L1998.95 151.835 Q1998.95 155.516 2000.38 157.368 Q2001.82 159.196 2004.69 159.196 Q2008.14 159.196 2010.13 156.997 Q2012.14 154.798 2012.14 151.002 L2012.14 136.303 L2016.4 136.303 L2016.4 162.229 L2012.14 162.229 L2012.14 158.247 Q2010.59 160.608 2008.53 161.766 Q2006.49 162.9 2003.79 162.9 Q1999.32 162.9 1997 160.122 Q1994.69 157.344 1994.69 151.997 M2005.41 135.678 L2005.41 135.678 Z\" fill=\"#000000\" fill-rule=\"evenodd\" fill-opacity=\"1\" /><path clip-path=\"url(#clip620)\" d=\"M2041.7 137.067 L2041.7 141.094 Q2039.9 140.169 2037.95 139.706 Q2036.01 139.243 2033.92 139.243 Q2030.75 139.243 2029.16 140.215 Q2027.58 141.187 2027.58 143.131 Q2027.58 144.613 2028.72 145.469 Q2029.85 146.303 2033.28 147.067 L2034.73 147.391 Q2039.27 148.363 2041.17 150.145 Q2043.09 151.905 2043.09 155.076 Q2043.09 158.687 2040.22 160.793 Q2037.37 162.9 2032.37 162.9 Q2030.29 162.9 2028.02 162.483 Q2025.78 162.09 2023.28 161.28 L2023.28 156.881 Q2025.64 158.108 2027.93 158.733 Q2030.22 159.335 2032.47 159.335 Q2035.48 159.335 2037.1 158.317 Q2038.72 157.275 2038.72 155.4 Q2038.72 153.664 2037.54 152.738 Q2036.38 151.812 2032.42 150.956 L2030.94 150.608 Q2026.98 149.775 2025.22 148.062 Q2023.46 146.326 2023.46 143.317 Q2023.46 139.659 2026.05 137.669 Q2028.65 135.678 2033.42 135.678 Q2035.78 135.678 2037.86 136.025 Q2039.94 136.372 2041.7 137.067 Z\" fill=\"#000000\" fill-rule=\"evenodd\" fill-opacity=\"1\" /><path clip-path=\"url(#clip620)\" d=\"M2068.53 137.298 L2068.53 141.28 Q2066.73 140.284 2064.9 139.798 Q2063.09 139.289 2061.24 139.289 Q2057.1 139.289 2054.8 141.928 Q2052.51 144.544 2052.51 149.289 Q2052.51 154.034 2054.8 156.673 Q2057.1 159.289 2061.24 159.289 Q2063.09 159.289 2064.9 158.803 Q2066.73 158.293 2068.53 157.298 L2068.53 161.233 Q2066.75 162.067 2064.83 162.483 Q2062.93 162.9 2060.78 162.9 Q2054.92 162.9 2051.47 159.219 Q2048.02 155.539 2048.02 149.289 Q2048.02 142.946 2051.49 139.312 Q2054.99 135.678 2061.05 135.678 Q2063.02 135.678 2064.9 136.095 Q2066.77 136.488 2068.53 137.298 Z\" fill=\"#000000\" fill-rule=\"evenodd\" fill-opacity=\"1\" /><path clip-path=\"url(#clip620)\" d=\"M2098.11 148.201 L2098.11 150.284 L2078.53 150.284 Q2078.81 154.682 2081.17 156.997 Q2083.55 159.289 2087.79 159.289 Q2090.24 159.289 2092.54 158.687 Q2094.85 158.085 2097.12 156.881 L2097.12 160.909 Q2094.83 161.881 2092.42 162.391 Q2090.01 162.9 2087.54 162.9 Q2081.33 162.9 2077.7 159.289 Q2074.09 155.678 2074.09 149.52 Q2074.09 143.155 2077.51 139.428 Q2080.96 135.678 2086.79 135.678 Q2092.03 135.678 2095.06 139.057 Q2098.11 142.414 2098.11 148.201 M2093.85 146.951 Q2093.81 143.456 2091.89 141.372 Q2089.99 139.289 2086.84 139.289 Q2083.28 139.289 2081.12 141.303 Q2078.99 143.317 2078.67 146.974 L2093.85 146.951 Z\" fill=\"#000000\" fill-rule=\"evenodd\" fill-opacity=\"1\" /><path clip-path=\"url(#clip620)\" d=\"M2109.23 158.34 L2109.23 172.09 L2104.94 172.09 L2104.94 136.303 L2109.23 136.303 L2109.23 140.238 Q2110.57 137.923 2112.6 136.812 Q2114.66 135.678 2117.51 135.678 Q2122.23 135.678 2125.17 139.428 Q2128.14 143.178 2128.14 149.289 Q2128.14 155.4 2125.17 159.15 Q2122.23 162.9 2117.51 162.9 Q2114.66 162.9 2112.6 161.789 Q2110.57 160.655 2109.23 158.34 M2123.72 149.289 Q2123.72 144.59 2121.77 141.928 Q2119.85 139.243 2116.47 139.243 Q2113.09 139.243 2111.15 141.928 Q2109.23 144.59 2109.23 149.289 Q2109.23 153.988 2111.15 156.673 Q2113.09 159.335 2116.47 159.335 Q2119.85 159.335 2121.77 156.673 Q2123.72 153.988 2123.72 149.289 Z\" fill=\"#000000\" fill-rule=\"evenodd\" fill-opacity=\"1\" /><path clip-path=\"url(#clip620)\" d=\"M2139.41 128.942 L2139.41 136.303 L2148.18 136.303 L2148.18 139.613 L2139.41 139.613 L2139.41 153.687 Q2139.41 156.858 2140.27 157.761 Q2141.15 158.664 2143.81 158.664 L2148.18 158.664 L2148.18 162.229 L2143.81 162.229 Q2138.88 162.229 2137 160.4 Q2135.13 158.548 2135.13 153.687 L2135.13 139.613 L2132 139.613 L2132 136.303 L2135.13 136.303 L2135.13 128.942 L2139.41 128.942 Z\" fill=\"#000000\" fill-rule=\"evenodd\" fill-opacity=\"1\" /><path clip-path=\"url(#clip620)\" d=\"M2153.79 136.303 L2158.04 136.303 L2158.04 162.229 L2153.79 162.229 L2153.79 136.303 M2153.79 126.21 L2158.04 126.21 L2158.04 131.604 L2153.79 131.604 L2153.79 126.21 Z\" fill=\"#000000\" fill-rule=\"evenodd\" fill-opacity=\"1\" /><path clip-path=\"url(#clip620)\" d=\"M2185.57 149.289 Q2185.57 144.59 2183.62 141.928 Q2181.7 139.243 2178.32 139.243 Q2174.94 139.243 2173 141.928 Q2171.08 144.59 2171.08 149.289 Q2171.08 153.988 2173 156.673 Q2174.94 159.335 2178.32 159.335 Q2181.7 159.335 2183.62 156.673 Q2185.57 153.988 2185.57 149.289 M2171.08 140.238 Q2172.42 137.923 2174.46 136.812 Q2176.52 135.678 2179.36 135.678 Q2184.09 135.678 2187.03 139.428 Q2189.99 143.178 2189.99 149.289 Q2189.99 155.4 2187.03 159.15 Q2184.09 162.9 2179.36 162.9 Q2176.52 162.9 2174.46 161.789 Q2172.42 160.655 2171.08 158.34 L2171.08 162.229 L2166.79 162.229 L2166.79 126.21 L2171.08 126.21 L2171.08 140.238 Z\" fill=\"#000000\" fill-rule=\"evenodd\" fill-opacity=\"1\" /><path clip-path=\"url(#clip620)\" d=\"M2197.05 126.21 L2201.31 126.21 L2201.31 162.229 L2197.05 162.229 L2197.05 126.21 Z\" fill=\"#000000\" fill-rule=\"evenodd\" fill-opacity=\"1\" /><path clip-path=\"url(#clip620)\" d=\"M2232.4 148.201 L2232.4 150.284 L2212.81 150.284 Q2213.09 154.682 2215.45 156.997 Q2217.84 159.289 2222.07 159.289 Q2224.53 159.289 2226.82 158.687 Q2229.13 158.085 2231.4 156.881 L2231.4 160.909 Q2229.11 161.881 2226.7 162.391 Q2224.29 162.9 2221.82 162.9 Q2215.61 162.9 2211.98 159.289 Q2208.37 155.678 2208.37 149.52 Q2208.37 143.155 2211.79 139.428 Q2215.24 135.678 2221.08 135.678 Q2226.31 135.678 2229.34 139.057 Q2232.4 142.414 2232.4 148.201 M2228.14 146.951 Q2228.09 143.456 2226.17 141.372 Q2224.27 139.289 2221.12 139.289 Q2217.56 139.289 2215.41 141.303 Q2213.28 143.317 2212.95 146.974 L2228.14 146.951 Z\" fill=\"#000000\" fill-rule=\"evenodd\" fill-opacity=\"1\" /><polyline clip-path=\"url(#clip620)\" style=\"stroke:#e26f46; stroke-linecap:butt; stroke-linejoin:round; stroke-width:4; stroke-opacity:1; fill:none\" points=\"\n",
       "  1795.19,196.789 1939.62,196.789 \n",
       "  \"/>\n",
       "<path clip-path=\"url(#clip620)\" d=\"M1963.69 179.509 L1968.37 179.509 L1968.37 214.069 L1963.69 214.069 L1963.69 179.509 Z\" fill=\"#000000\" fill-rule=\"evenodd\" fill-opacity=\"1\" /><path clip-path=\"url(#clip620)\" d=\"M1999.04 198.421 L1999.04 214.069 L1994.78 214.069 L1994.78 198.559 Q1994.78 194.879 1993.35 193.05 Q1991.91 191.222 1989.04 191.222 Q1985.59 191.222 1983.6 193.421 Q1981.61 195.62 1981.61 199.416 L1981.61 214.069 L1977.33 214.069 L1977.33 188.143 L1981.61 188.143 L1981.61 192.171 Q1983.14 189.833 1985.2 188.675 Q1987.28 187.518 1989.99 187.518 Q1994.46 187.518 1996.75 190.296 Q1999.04 193.05 1999.04 198.421 Z\" fill=\"#000000\" fill-rule=\"evenodd\" fill-opacity=\"1\" /><path clip-path=\"url(#clip620)\" d=\"M2020.66 178.05 L2020.66 181.592 L2016.59 181.592 Q2014.3 181.592 2013.39 182.518 Q2012.51 183.444 2012.51 185.851 L2012.51 188.143 L2019.53 188.143 L2019.53 191.453 L2012.51 191.453 L2012.51 214.069 L2008.23 214.069 L2008.23 191.453 L2004.16 191.453 L2004.16 188.143 L2008.23 188.143 L2008.23 186.337 Q2008.23 182.009 2010.24 180.041 Q2012.26 178.05 2016.63 178.05 L2020.66 178.05 Z\" fill=\"#000000\" fill-rule=\"evenodd\" fill-opacity=\"1\" /><path clip-path=\"url(#clip620)\" d=\"M2046.4 200.041 L2046.4 202.124 L2026.82 202.124 Q2027.1 206.522 2029.46 208.837 Q2031.84 211.129 2036.08 211.129 Q2038.53 211.129 2040.82 210.527 Q2043.14 209.925 2045.41 208.721 L2045.41 212.749 Q2043.11 213.721 2040.71 214.231 Q2038.3 214.74 2035.82 214.74 Q2029.62 214.74 2025.98 211.129 Q2022.37 207.518 2022.37 201.36 Q2022.37 194.995 2025.8 191.268 Q2029.25 187.518 2035.08 187.518 Q2040.31 187.518 2043.35 190.897 Q2046.4 194.254 2046.4 200.041 M2042.14 198.791 Q2042.1 195.296 2040.17 193.212 Q2038.28 191.129 2035.13 191.129 Q2031.56 191.129 2029.41 193.143 Q2027.28 195.157 2026.96 198.814 L2042.14 198.791 Z\" fill=\"#000000\" fill-rule=\"evenodd\" fill-opacity=\"1\" /><path clip-path=\"url(#clip620)\" d=\"M2072.05 189.138 L2072.05 193.12 Q2070.24 192.124 2068.42 191.638 Q2066.61 191.129 2064.76 191.129 Q2060.61 191.129 2058.32 193.768 Q2056.03 196.384 2056.03 201.129 Q2056.03 205.874 2058.32 208.513 Q2060.61 211.129 2064.76 211.129 Q2066.61 211.129 2068.42 210.643 Q2070.24 210.133 2072.05 209.138 L2072.05 213.073 Q2070.27 213.907 2068.35 214.323 Q2066.45 214.74 2064.29 214.74 Q2058.44 214.74 2054.99 211.059 Q2051.54 207.379 2051.54 201.129 Q2051.54 194.786 2055.01 191.152 Q2058.51 187.518 2064.57 187.518 Q2066.54 187.518 2068.42 187.935 Q2070.29 188.328 2072.05 189.138 Z\" fill=\"#000000\" fill-rule=\"evenodd\" fill-opacity=\"1\" /><path clip-path=\"url(#clip620)\" d=\"M2083.67 180.782 L2083.67 188.143 L2092.44 188.143 L2092.44 191.453 L2083.67 191.453 L2083.67 205.527 Q2083.67 208.698 2084.53 209.601 Q2085.41 210.504 2088.07 210.504 L2092.44 210.504 L2092.44 214.069 L2088.07 214.069 Q2083.14 214.069 2081.26 212.24 Q2079.39 210.388 2079.39 205.527 L2079.39 191.453 L2076.26 191.453 L2076.26 188.143 L2079.39 188.143 L2079.39 180.782 L2083.67 180.782 Z\" fill=\"#000000\" fill-rule=\"evenodd\" fill-opacity=\"1\" /><path clip-path=\"url(#clip620)\" d=\"M2120.22 200.041 L2120.22 202.124 L2100.64 202.124 Q2100.92 206.522 2103.28 208.837 Q2105.66 211.129 2109.9 211.129 Q2112.35 211.129 2114.64 210.527 Q2116.96 209.925 2119.23 208.721 L2119.23 212.749 Q2116.93 213.721 2114.53 214.231 Q2112.12 214.74 2109.64 214.74 Q2103.44 214.74 2099.8 211.129 Q2096.19 207.518 2096.19 201.36 Q2096.19 194.995 2099.62 191.268 Q2103.07 187.518 2108.9 187.518 Q2114.13 187.518 2117.16 190.897 Q2120.22 194.254 2120.22 200.041 M2115.96 198.791 Q2115.91 195.296 2113.99 193.212 Q2112.1 191.129 2108.95 191.129 Q2105.38 191.129 2103.23 193.143 Q2101.1 195.157 2100.78 198.814 L2115.96 198.791 Z\" fill=\"#000000\" fill-rule=\"evenodd\" fill-opacity=\"1\" /><path clip-path=\"url(#clip620)\" d=\"M2144.27 192.078 L2144.27 178.05 L2148.53 178.05 L2148.53 214.069 L2144.27 214.069 L2144.27 210.18 Q2142.93 212.495 2140.87 213.629 Q2138.83 214.74 2135.96 214.74 Q2131.26 214.74 2128.3 210.99 Q2125.36 207.24 2125.36 201.129 Q2125.36 195.018 2128.3 191.268 Q2131.26 187.518 2135.96 187.518 Q2138.83 187.518 2140.87 188.652 Q2142.93 189.763 2144.27 192.078 M2129.76 201.129 Q2129.76 205.828 2131.68 208.513 Q2133.62 211.175 2137 211.175 Q2140.38 211.175 2142.33 208.513 Q2144.27 205.828 2144.27 201.129 Q2144.27 196.43 2142.33 193.768 Q2140.38 191.083 2137 191.083 Q2133.62 191.083 2131.68 193.768 Q2129.76 196.43 2129.76 201.129 Z\" fill=\"#000000\" fill-rule=\"evenodd\" fill-opacity=\"1\" /><polyline clip-path=\"url(#clip620)\" style=\"stroke:#3da44d; stroke-linecap:butt; stroke-linejoin:round; stroke-width:4; stroke-opacity:1; fill:none\" points=\"\n",
       "  1795.19,248.629 1939.62,248.629 \n",
       "  \"/>\n",
       "<path clip-path=\"url(#clip620)\" d=\"M1980.08 249.705 Q1981.59 250.214 1983 251.881 Q1984.43 253.548 1985.87 256.464 L1990.61 265.909 L1985.59 265.909 L1981.17 257.043 Q1979.46 253.571 1977.84 252.436 Q1976.24 251.302 1973.46 251.302 L1968.37 251.302 L1968.37 265.909 L1963.69 265.909 L1963.69 231.349 L1974.25 231.349 Q1980.17 231.349 1983.09 233.825 Q1986.01 236.302 1986.01 241.302 Q1986.01 244.566 1984.48 246.719 Q1982.98 248.872 1980.08 249.705 M1968.37 235.191 L1968.37 247.46 L1974.25 247.46 Q1977.63 247.46 1979.34 245.909 Q1981.08 244.335 1981.08 241.302 Q1981.08 238.27 1979.34 236.742 Q1977.63 235.191 1974.25 235.191 L1968.37 235.191 Z\" fill=\"#000000\" fill-rule=\"evenodd\" fill-opacity=\"1\" /><path clip-path=\"url(#clip620)\" d=\"M2016.49 251.881 L2016.49 253.964 L1996.91 253.964 Q1997.19 258.362 1999.55 260.677 Q2001.93 262.969 2006.17 262.969 Q2008.62 262.969 2010.92 262.367 Q2013.23 261.765 2015.5 260.561 L2015.5 264.589 Q2013.21 265.561 2010.8 266.071 Q2008.39 266.58 2005.92 266.58 Q1999.71 266.58 1996.08 262.969 Q1992.47 259.358 1992.47 253.2 Q1992.47 246.835 1995.89 243.108 Q1999.34 239.358 2005.17 239.358 Q2010.41 239.358 2013.44 242.737 Q2016.49 246.094 2016.49 251.881 M2012.23 250.631 Q2012.19 247.136 2010.27 245.052 Q2008.37 242.969 2005.22 242.969 Q2001.66 242.969 1999.5 244.983 Q1997.37 246.997 1997.05 250.654 L2012.23 250.631 Z\" fill=\"#000000\" fill-rule=\"evenodd\" fill-opacity=\"1\" /><path clip-path=\"url(#clip620)\" d=\"M2042.14 240.978 L2042.14 244.96 Q2040.34 243.964 2038.51 243.478 Q2036.7 242.969 2034.85 242.969 Q2030.71 242.969 2028.42 245.608 Q2026.12 248.224 2026.12 252.969 Q2026.12 257.714 2028.42 260.353 Q2030.71 262.969 2034.85 262.969 Q2036.7 262.969 2038.51 262.483 Q2040.34 261.973 2042.14 260.978 L2042.14 264.913 Q2040.36 265.747 2038.44 266.163 Q2036.54 266.58 2034.39 266.58 Q2028.53 266.58 2025.08 262.899 Q2021.63 259.219 2021.63 252.969 Q2021.63 246.626 2025.11 242.992 Q2028.6 239.358 2034.67 239.358 Q2036.63 239.358 2038.51 239.775 Q2040.38 240.168 2042.14 240.978 Z\" fill=\"#000000\" fill-rule=\"evenodd\" fill-opacity=\"1\" /><path clip-path=\"url(#clip620)\" d=\"M2059.6 242.969 Q2056.17 242.969 2054.18 245.654 Q2052.19 248.316 2052.19 252.969 Q2052.19 257.622 2054.16 260.307 Q2056.15 262.969 2059.6 262.969 Q2063 262.969 2064.99 260.284 Q2066.98 257.598 2066.98 252.969 Q2066.98 248.362 2064.99 245.677 Q2063 242.969 2059.6 242.969 M2059.6 239.358 Q2065.15 239.358 2068.32 242.969 Q2071.49 246.58 2071.49 252.969 Q2071.49 259.335 2068.32 262.969 Q2065.15 266.58 2059.6 266.58 Q2054.02 266.58 2050.85 262.969 Q2047.7 259.335 2047.7 252.969 Q2047.7 246.58 2050.85 242.969 Q2054.02 239.358 2059.6 239.358 Z\" fill=\"#000000\" fill-rule=\"evenodd\" fill-opacity=\"1\" /><path clip-path=\"url(#clip620)\" d=\"M2075.5 239.983 L2080.01 239.983 L2088.11 261.742 L2096.22 239.983 L2100.73 239.983 L2091.01 265.909 L2085.22 265.909 L2075.5 239.983 Z\" fill=\"#000000\" fill-rule=\"evenodd\" fill-opacity=\"1\" /><path clip-path=\"url(#clip620)\" d=\"M2128.79 251.881 L2128.79 253.964 L2109.2 253.964 Q2109.48 258.362 2111.84 260.677 Q2114.23 262.969 2118.46 262.969 Q2120.91 262.969 2123.21 262.367 Q2125.52 261.765 2127.79 260.561 L2127.79 264.589 Q2125.5 265.561 2123.09 266.071 Q2120.68 266.58 2118.21 266.58 Q2112 266.58 2108.37 262.969 Q2104.76 259.358 2104.76 253.2 Q2104.76 246.835 2108.18 243.108 Q2111.63 239.358 2117.47 239.358 Q2122.7 239.358 2125.73 242.737 Q2128.79 246.094 2128.79 251.881 M2124.53 250.631 Q2124.48 247.136 2122.56 245.052 Q2120.66 242.969 2117.51 242.969 Q2113.95 242.969 2111.79 244.983 Q2109.66 246.997 2109.34 250.654 L2124.53 250.631 Z\" fill=\"#000000\" fill-rule=\"evenodd\" fill-opacity=\"1\" /><path clip-path=\"url(#clip620)\" d=\"M2150.8 243.964 Q2150.08 243.548 2149.22 243.362 Q2148.39 243.154 2147.37 243.154 Q2143.76 243.154 2141.82 245.515 Q2139.9 247.853 2139.9 252.251 L2139.9 265.909 L2135.61 265.909 L2135.61 239.983 L2139.9 239.983 L2139.9 244.011 Q2141.24 241.649 2143.39 240.515 Q2145.54 239.358 2148.62 239.358 Q2149.06 239.358 2149.6 239.427 Q2150.13 239.474 2150.78 239.589 L2150.8 243.964 Z\" fill=\"#000000\" fill-rule=\"evenodd\" fill-opacity=\"1\" /><path clip-path=\"url(#clip620)\" d=\"M2176.4 251.881 L2176.4 253.964 L2156.82 253.964 Q2157.1 258.362 2159.46 260.677 Q2161.84 262.969 2166.08 262.969 Q2168.53 262.969 2170.82 262.367 Q2173.14 261.765 2175.41 260.561 L2175.41 264.589 Q2173.11 265.561 2170.71 266.071 Q2168.3 266.58 2165.82 266.58 Q2159.62 266.58 2155.98 262.969 Q2152.37 259.358 2152.37 253.2 Q2152.37 246.835 2155.8 243.108 Q2159.25 239.358 2165.08 239.358 Q2170.31 239.358 2173.35 242.737 Q2176.4 246.094 2176.4 251.881 M2172.14 250.631 Q2172.1 247.136 2170.17 245.052 Q2168.28 242.969 2165.13 242.969 Q2161.56 242.969 2159.41 244.983 Q2157.28 246.997 2156.96 250.654 L2172.14 250.631 Z\" fill=\"#000000\" fill-rule=\"evenodd\" fill-opacity=\"1\" /><path clip-path=\"url(#clip620)\" d=\"M2200.45 243.918 L2200.45 229.89 L2204.71 229.89 L2204.71 265.909 L2200.45 265.909 L2200.45 262.02 Q2199.11 264.335 2197.05 265.469 Q2195.01 266.58 2192.14 266.58 Q2187.44 266.58 2184.48 262.83 Q2181.54 259.08 2181.54 252.969 Q2181.54 246.858 2184.48 243.108 Q2187.44 239.358 2192.14 239.358 Q2195.01 239.358 2197.05 240.492 Q2199.11 241.603 2200.45 243.918 M2185.94 252.969 Q2185.94 257.668 2187.86 260.353 Q2189.8 263.015 2193.18 263.015 Q2196.56 263.015 2198.51 260.353 Q2200.45 257.668 2200.45 252.969 Q2200.45 248.27 2198.51 245.608 Q2196.56 242.923 2193.18 242.923 Q2189.8 242.923 2187.86 245.608 Q2185.94 248.27 2185.94 252.969 Z\" fill=\"#000000\" fill-rule=\"evenodd\" fill-opacity=\"1\" /><polyline clip-path=\"url(#clip620)\" style=\"stroke:#c271d2; stroke-linecap:butt; stroke-linejoin:round; stroke-width:4; stroke-opacity:1; fill:none\" points=\"\n",
       "  1795.19,300.469 1939.62,300.469 \n",
       "  \"/>\n",
       "<path clip-path=\"url(#clip620)\" d=\"M1968.37 287.031 L1968.37 313.906 L1974.02 313.906 Q1981.17 313.906 1984.48 310.665 Q1987.81 307.425 1987.81 300.434 Q1987.81 293.489 1984.48 290.272 Q1981.17 287.031 1974.02 287.031 L1968.37 287.031 M1963.69 283.189 L1973.3 283.189 Q1983.35 283.189 1988.05 287.378 Q1992.74 291.545 1992.74 300.434 Q1992.74 309.369 1988.02 313.559 Q1983.3 317.749 1973.3 317.749 L1963.69 317.749 L1963.69 283.189 Z\" fill=\"#000000\" fill-rule=\"evenodd\" fill-opacity=\"1\" /><path clip-path=\"url(#clip620)\" d=\"M2022.19 303.721 L2022.19 305.804 L2002.61 305.804 Q2002.88 310.202 2005.24 312.517 Q2007.63 314.809 2011.86 314.809 Q2014.32 314.809 2016.61 314.207 Q2018.92 313.605 2021.19 312.401 L2021.19 316.429 Q2018.9 317.401 2016.49 317.911 Q2014.09 318.42 2011.61 318.42 Q2005.41 318.42 2001.77 314.809 Q1998.16 311.198 1998.16 305.04 Q1998.16 298.675 2001.59 294.948 Q2005.04 291.198 2010.87 291.198 Q2016.1 291.198 2019.13 294.577 Q2022.19 297.934 2022.19 303.721 M2017.93 302.471 Q2017.88 298.976 2015.96 296.892 Q2014.06 294.809 2010.92 294.809 Q2007.35 294.809 2005.2 296.823 Q2003.07 298.837 2002.74 302.494 L2017.93 302.471 Z\" fill=\"#000000\" fill-rule=\"evenodd\" fill-opacity=\"1\" /><path clip-path=\"url(#clip620)\" d=\"M2047.84 292.818 L2047.84 296.8 Q2046.03 295.804 2044.2 295.318 Q2042.4 294.809 2040.54 294.809 Q2036.4 294.809 2034.11 297.448 Q2031.82 300.064 2031.82 304.809 Q2031.82 309.554 2034.11 312.193 Q2036.4 314.809 2040.54 314.809 Q2042.4 314.809 2044.2 314.323 Q2046.03 313.813 2047.84 312.818 L2047.84 316.753 Q2046.05 317.587 2044.13 318.003 Q2042.23 318.42 2040.08 318.42 Q2034.23 318.42 2030.78 314.739 Q2027.33 311.059 2027.33 304.809 Q2027.33 298.466 2030.8 294.832 Q2034.3 291.198 2040.36 291.198 Q2042.33 291.198 2044.2 291.615 Q2046.08 292.008 2047.84 292.818 Z\" fill=\"#000000\" fill-rule=\"evenodd\" fill-opacity=\"1\" /><path clip-path=\"url(#clip620)\" d=\"M2077.42 303.721 L2077.42 305.804 L2057.84 305.804 Q2058.11 310.202 2060.48 312.517 Q2062.86 314.809 2067.1 314.809 Q2069.55 314.809 2071.84 314.207 Q2074.16 313.605 2076.42 312.401 L2076.42 316.429 Q2074.13 317.401 2071.73 317.911 Q2069.32 318.42 2066.84 318.42 Q2060.64 318.42 2057 314.809 Q2053.39 311.198 2053.39 305.04 Q2053.39 298.675 2056.82 294.948 Q2060.27 291.198 2066.1 291.198 Q2071.33 291.198 2074.36 294.577 Q2077.42 297.934 2077.42 303.721 M2073.16 302.471 Q2073.11 298.976 2071.19 296.892 Q2069.29 294.809 2066.15 294.809 Q2062.58 294.809 2060.43 296.823 Q2058.3 298.837 2057.98 302.494 L2073.16 302.471 Z\" fill=\"#000000\" fill-rule=\"evenodd\" fill-opacity=\"1\" /><path clip-path=\"url(#clip620)\" d=\"M2096.19 304.716 Q2091.03 304.716 2089.04 305.897 Q2087.05 307.077 2087.05 309.925 Q2087.05 312.193 2088.53 313.536 Q2090.04 314.855 2092.6 314.855 Q2096.15 314.855 2098.28 312.355 Q2100.43 309.832 2100.43 305.665 L2100.43 304.716 L2096.19 304.716 M2104.69 302.957 L2104.69 317.749 L2100.43 317.749 L2100.43 313.813 Q2098.97 316.175 2096.79 317.309 Q2094.62 318.42 2091.47 318.42 Q2087.49 318.42 2085.13 316.198 Q2082.79 313.952 2082.79 310.202 Q2082.79 305.827 2085.71 303.605 Q2088.65 301.383 2094.46 301.383 L2100.43 301.383 L2100.43 300.966 Q2100.43 298.027 2098.48 296.429 Q2096.56 294.809 2093.07 294.809 Q2090.85 294.809 2088.74 295.341 Q2086.63 295.874 2084.69 296.939 L2084.69 293.003 Q2087.03 292.101 2089.23 291.661 Q2091.42 291.198 2093.51 291.198 Q2099.13 291.198 2101.91 294.114 Q2104.69 297.031 2104.69 302.957 Z\" fill=\"#000000\" fill-rule=\"evenodd\" fill-opacity=\"1\" /><path clip-path=\"url(#clip620)\" d=\"M2129.99 292.587 L2129.99 296.614 Q2128.18 295.689 2126.24 295.226 Q2124.29 294.763 2122.21 294.763 Q2119.04 294.763 2117.44 295.735 Q2115.87 296.707 2115.87 298.651 Q2115.87 300.133 2117 300.989 Q2118.14 301.823 2121.56 302.587 L2123.02 302.911 Q2127.56 303.883 2129.46 305.665 Q2131.38 307.425 2131.38 310.596 Q2131.38 314.207 2128.51 316.313 Q2125.66 318.42 2120.66 318.42 Q2118.58 318.42 2116.31 318.003 Q2114.06 317.61 2111.56 316.8 L2111.56 312.401 Q2113.92 313.628 2116.22 314.253 Q2118.51 314.855 2120.75 314.855 Q2123.76 314.855 2125.38 313.837 Q2127 312.795 2127 310.92 Q2127 309.184 2125.82 308.258 Q2124.66 307.332 2120.71 306.476 L2119.23 306.128 Q2115.27 305.295 2113.51 303.582 Q2111.75 301.846 2111.75 298.837 Q2111.75 295.179 2114.34 293.189 Q2116.93 291.198 2121.7 291.198 Q2124.06 291.198 2126.15 291.545 Q2128.23 291.892 2129.99 292.587 Z\" fill=\"#000000\" fill-rule=\"evenodd\" fill-opacity=\"1\" /><path clip-path=\"url(#clip620)\" d=\"M2160.34 303.721 L2160.34 305.804 L2140.75 305.804 Q2141.03 310.202 2143.39 312.517 Q2145.78 314.809 2150.01 314.809 Q2152.47 314.809 2154.76 314.207 Q2157.07 313.605 2159.34 312.401 L2159.34 316.429 Q2157.05 317.401 2154.64 317.911 Q2152.23 318.42 2149.76 318.42 Q2143.55 318.42 2139.92 314.809 Q2136.31 311.198 2136.31 305.04 Q2136.31 298.675 2139.73 294.948 Q2143.18 291.198 2149.02 291.198 Q2154.25 291.198 2157.28 294.577 Q2160.34 297.934 2160.34 303.721 M2156.08 302.471 Q2156.03 298.976 2154.11 296.892 Q2152.21 294.809 2149.06 294.809 Q2145.5 294.809 2143.35 296.823 Q2141.22 298.837 2140.89 302.494 L2156.08 302.471 Z\" fill=\"#000000\" fill-rule=\"evenodd\" fill-opacity=\"1\" /><path clip-path=\"url(#clip620)\" d=\"M2184.39 295.758 L2184.39 281.73 L2188.65 281.73 L2188.65 317.749 L2184.39 317.749 L2184.39 313.86 Q2183.04 316.175 2180.98 317.309 Q2178.95 318.42 2176.08 318.42 Q2171.38 318.42 2168.41 314.67 Q2165.47 310.92 2165.47 304.809 Q2165.47 298.698 2168.41 294.948 Q2171.38 291.198 2176.08 291.198 Q2178.95 291.198 2180.98 292.332 Q2183.04 293.443 2184.39 295.758 M2169.87 304.809 Q2169.87 309.508 2171.79 312.193 Q2173.74 314.855 2177.12 314.855 Q2180.5 314.855 2182.44 312.193 Q2184.39 309.508 2184.39 304.809 Q2184.39 300.11 2182.44 297.448 Q2180.5 294.763 2177.12 294.763 Q2173.74 294.763 2171.79 297.448 Q2169.87 300.11 2169.87 304.809 Z\" fill=\"#000000\" fill-rule=\"evenodd\" fill-opacity=\"1\" /></svg>\n"
      ]
     },
     "execution_count": 131,
     "metadata": {},
     "output_type": "execute_result"
    }
   ],
   "source": [
    "T = 210\n",
    "A = [0.95 0.04 0 0 ; 0.05 0.85 0 0 ;\n",
    "     0 0.10 1 0 ; 0 0.01 0 1]\n",
    "\n",
    "x = [1, 0, 0, 0]\n",
    "\n",
    "state_traj = [x zeros(4, T-1)];\n",
    "\n",
    "for t in 1:T-1\n",
    "    state_traj[:, t+1] = A*state_traj[:,t];\n",
    "end\n",
    "\n",
    "using Plots\n",
    "plot(1:T, state_traj', xlabel = \"Time t\",\n",
    "    label = [\"Susceptible\" \"Infected\" \"Recovered\" \"Deceased\"])"
   ]
  },
  {
   "cell_type": "markdown",
   "metadata": {},
   "source": [
    "## Chapter 10\n",
    "### matrix-matrix multiplication"
   ]
  },
  {
   "cell_type": "code",
   "execution_count": 132,
   "metadata": {},
   "outputs": [
    {
     "data": {
      "text/plain": [
       "2×2 Matrix{Float64}:\n",
       "  3.5  -4.5\n",
       " -1.0   1.0"
      ]
     },
     "execution_count": 132,
     "metadata": {},
     "output_type": "execute_result"
    }
   ],
   "source": [
    "A = [-1.5 3 2;\n",
    "     1 -1 0]\n",
    "\n",
    "B = [-1 -1 ;\n",
    "     0 -2 ;\n",
    "     1 0]\n",
    "\n",
    "C = A*B"
   ]
  },
  {
   "cell_type": "code",
   "execution_count": 133,
   "metadata": {},
   "outputs": [
    {
     "data": {
      "text/plain": [
       "3×3 Matrix{Float64}:\n",
       " 2.83175  2.31044  2.06078\n",
       " 2.31044  3.14502  2.38563\n",
       " 2.06078  2.38563  2.92297"
      ]
     },
     "execution_count": 133,
     "metadata": {},
     "output_type": "execute_result"
    }
   ],
   "source": [
    "A = rand(10, 3);\n",
    "G = A'*A"
   ]
  },
  {
   "cell_type": "code",
   "execution_count": 134,
   "metadata": {},
   "outputs": [
    {
     "data": {
      "text/plain": [
       "3.145015327545491"
      ]
     },
     "execution_count": 134,
     "metadata": {},
     "output_type": "execute_result"
    }
   ],
   "source": [
    "using LinearAlgebra\n",
    "norm(A[:, 2])^2"
   ]
  },
  {
   "cell_type": "code",
   "execution_count": 135,
   "metadata": {},
   "outputs": [
    {
     "data": {
      "text/plain": [
       "3.1450153275454906"
      ]
     },
     "execution_count": 135,
     "metadata": {},
     "output_type": "execute_result"
    }
   ],
   "source": [
    "G[2, 2]"
   ]
  },
  {
   "cell_type": "markdown",
   "metadata": {},
   "source": [
    "### complexity of matrix triple product"
   ]
  },
  {
   "cell_type": "code",
   "execution_count": 136,
   "metadata": {},
   "outputs": [
    {
     "data": {
      "text/plain": [
       "2000"
      ]
     },
     "execution_count": 136,
     "metadata": {},
     "output_type": "execute_result"
    }
   ],
   "source": [
    "m = 2000; n = 50; q = 2000; p = 2000"
   ]
  },
  {
   "cell_type": "code",
   "execution_count": 137,
   "metadata": {},
   "outputs": [
    {
     "data": {
      "text/plain": [
       "2000×2000 Matrix{Float64}:\n",
       " -0.88659   -0.676981   -0.0462682   0.767929   …  -0.0162231   -0.55959\n",
       " -1.49591   -0.835748   -0.169184    0.444921       0.320198     2.10173\n",
       "  0.362785  -1.64369    -0.0769529   0.637586       1.15821     -1.38228\n",
       "  0.52204   -2.07688     0.275063    0.716812      -0.00115289   0.358894\n",
       " -1.63138    0.0968343  -0.47749    -0.251774      -1.43034      0.543499\n",
       "  0.259101   0.993879    0.230967    1.64051    …   1.58058      0.737146\n",
       "  1.60143   -0.152578    1.43384    -0.0928688      0.207146    -0.606133\n",
       "  0.247058  -1.93449    -0.187418    0.149529      -0.216535    -0.000572498\n",
       "  1.14688   -0.735928    0.873209   -0.277937       0.169673    -0.355424\n",
       " -0.718819   0.405711   -0.0881235  -0.0276563     -1.45065     -1.22776\n",
       " -1.26274    0.368669    0.681374   -0.359859   …  -0.0731166    0.862152\n",
       " -1.08936   -0.260034    1.46998     1.36492        0.775198    -0.319693\n",
       " -2.21706   -1.05533     1.18904     1.05215       -0.777082    -0.869096\n",
       "  ⋮                                             ⋱               \n",
       " -1.59167    2.48991     0.882024   -1.03766       -0.0639952   -0.284677\n",
       "  0.80611    3.29266    -0.840561    0.361578       0.688878     0.830151\n",
       "  0.516418  -0.515295    0.402269    1.43096    …   0.418335     1.27892\n",
       " -0.200732  -0.423852    0.226354   -1.04426        1.00228      1.14244\n",
       " -1.15871    1.04154     0.475299   -0.816756      -1.24867      1.95592\n",
       " -0.046219   0.28398     0.481877   -1.58233        0.548319    -0.794363\n",
       " -0.527306  -0.648439    0.191589   -0.477521       0.0668115    1.20389\n",
       " -1.50748   -0.0825111  -0.660995   -0.810682   …   0.758142     0.74861\n",
       "  0.771829   1.44779     0.488073    1.15388        0.699921    -0.209432\n",
       " -0.405513   0.118362   -0.161122    0.088086       0.796299    -0.433149\n",
       " -0.566792  -0.376114    0.238113   -0.85071       -1.02908      0.690833\n",
       " -0.174527  -1.39464     1.00866    -0.468583       1.44602      0.457652"
      ]
     },
     "execution_count": 137,
     "metadata": {},
     "output_type": "execute_result"
    }
   ],
   "source": [
    "A = randn(m, n); B = randn(n, p); C = randn(p, q)"
   ]
  },
  {
   "cell_type": "code",
   "execution_count": 138,
   "metadata": {},
   "outputs": [
    {
     "name": "stdout",
     "output_type": "stream",
     "text": [
      "  0.105209 seconds (19.13 k allocations: 62.426 MiB, 7.26% compilation time)\n"
     ]
    }
   ],
   "source": [
    "@time LHS = (A*B)*C;"
   ]
  },
  {
   "cell_type": "code",
   "execution_count": 139,
   "metadata": {},
   "outputs": [
    {
     "name": "stdout",
     "output_type": "stream",
     "text": [
      "  0.022745 seconds (4 allocations: 31.281 MiB, 28.56% gc time)\n"
     ]
    }
   ],
   "source": [
    "@time RHS = A*(B*C);"
   ]
  },
  {
   "cell_type": "code",
   "execution_count": 140,
   "metadata": {},
   "outputs": [
    {
     "data": {
      "text/plain": [
       "4.1705385295194437e-10"
      ]
     },
     "execution_count": 140,
     "metadata": {},
     "output_type": "execute_result"
    }
   ],
   "source": [
    "norm(LHS-RHS)"
   ]
  },
  {
   "cell_type": "code",
   "execution_count": 141,
   "metadata": {},
   "outputs": [
    {
     "name": "stdout",
     "output_type": "stream",
     "text": [
      "  0.103834 seconds (2.40 k allocations: 61.176 MiB, 10.18% gc time, 3.76% compilation time)\n"
     ]
    }
   ],
   "source": [
    "@time D = A*B*C;"
   ]
  },
  {
   "cell_type": "markdown",
   "metadata": {},
   "source": [
    "### composition of linear functions"
   ]
  },
  {
   "cell_type": "code",
   "execution_count": 142,
   "metadata": {},
   "outputs": [
    {
     "data": {
      "text/plain": [
       "eye (generic function with 1 method)"
      ]
     },
     "execution_count": 142,
     "metadata": {},
     "output_type": "execute_result"
    }
   ],
   "source": [
    "eye(m::Int) = Matrix(I,m,m)"
   ]
  },
  {
   "cell_type": "code",
   "execution_count": 143,
   "metadata": {},
   "outputs": [
    {
     "data": {
      "text/plain": [
       "K (generic function with 1 method)"
      ]
     },
     "execution_count": 143,
     "metadata": {},
     "output_type": "execute_result"
    }
   ],
   "source": [
    "K(n) = [-eye(n-1) zeros(n-1)] + [zeros(n-1) eye(n-1)]"
   ]
  },
  {
   "cell_type": "code",
   "execution_count": 144,
   "metadata": {},
   "outputs": [
    {
     "data": {
      "text/plain": [
       "4×5 Matrix{Float64}:\n",
       " -1.0   1.0   0.0   0.0  0.0\n",
       "  0.0  -1.0   1.0   0.0  0.0\n",
       "  0.0   0.0  -1.0   1.0  0.0\n",
       "  0.0   0.0   0.0  -1.0  1.0"
      ]
     },
     "execution_count": 144,
     "metadata": {},
     "output_type": "execute_result"
    }
   ],
   "source": [
    "K(5)"
   ]
  },
  {
   "cell_type": "code",
   "execution_count": 145,
   "metadata": {},
   "outputs": [
    {
     "data": {
      "text/plain": [
       "3×5 Matrix{Float64}:\n",
       " 1.0  -2.0   1.0   0.0  0.0\n",
       " 0.0   1.0  -2.0   1.0  0.0\n",
       " 0.0   0.0   1.0  -2.0  1.0"
      ]
     },
     "execution_count": 145,
     "metadata": {},
     "output_type": "execute_result"
    }
   ],
   "source": [
    "Delta = K(4)*K(5)"
   ]
  },
  {
   "cell_type": "markdown",
   "metadata": {},
   "source": [
    "### matrix power"
   ]
  },
  {
   "cell_type": "code",
   "execution_count": 146,
   "metadata": {},
   "outputs": [
    {
     "data": {
      "text/plain": [
       "5×5 Matrix{Int64}:\n",
       " 0  1  0  0  1\n",
       " 1  0  1  0  0\n",
       " 0  0  1  1  1\n",
       " 1  0  0  0  0\n",
       " 0  0  0  1  0"
      ]
     },
     "execution_count": 146,
     "metadata": {},
     "output_type": "execute_result"
    }
   ],
   "source": [
    "A = [0 1 0 0 1; 1 0 1 0 0; 0 0 1 1 1; 1 0 0 0 0; 0 0 0 1 0]"
   ]
  },
  {
   "cell_type": "code",
   "execution_count": 147,
   "metadata": {},
   "outputs": [
    {
     "data": {
      "text/plain": [
       "5×5 Matrix{Int64}:\n",
       " 1  0  1  1  0\n",
       " 0  1  1  1  2\n",
       " 1  0  1  2  1\n",
       " 0  1  0  0  1\n",
       " 1  0  0  0  0"
      ]
     },
     "execution_count": 147,
     "metadata": {},
     "output_type": "execute_result"
    }
   ],
   "source": [
    "A^2"
   ]
  },
  {
   "cell_type": "code",
   "execution_count": 148,
   "metadata": {},
   "outputs": [
    {
     "data": {
      "text/plain": [
       "5×5 Matrix{Int64}:\n",
       " 18  11  15  20  20\n",
       " 25  14  21  28  26\n",
       " 24  14  20  27  26\n",
       " 11   6   9  12  11\n",
       "  6   4   5   7   7"
      ]
     },
     "execution_count": 148,
     "metadata": {},
     "output_type": "execute_result"
    }
   ],
   "source": [
    "A^8"
   ]
  },
  {
   "cell_type": "code",
   "execution_count": 149,
   "metadata": {},
   "outputs": [
    {
     "data": {
      "text/plain": [
       "5-element Vector{Int64}:\n",
       " 18\n",
       " 14\n",
       " 20\n",
       " 12\n",
       "  7"
      ]
     },
     "execution_count": 149,
     "metadata": {},
     "output_type": "execute_result"
    }
   ],
   "source": [
    "number_of_cycle = diag(A^8)"
   ]
  },
  {
   "cell_type": "code",
   "execution_count": 150,
   "metadata": {},
   "outputs": [
    {
     "data": {
      "text/plain": [
       "Dict{String, Vector{Float64}} with 3 entries:\n",
       "  \"death_rate\" => [0.00623, 0.00044, 0.00027, 0.0002, 0.00016, 0.00012, 0.00011…\n",
       "  \"population\" => [3.94415, 3.97807, 4.09693, 4.11904, 4.06317, 4.05686, 4.0663…\n",
       "  \"birth_rate\" => [0.0, 0.0, 0.0, 0.0, 0.0, 0.0, 0.0, 0.0, 0.0, 0.0  …  0.0, 0.…"
      ]
     },
     "execution_count": 150,
     "metadata": {},
     "output_type": "execute_result"
    }
   ],
   "source": [
    "using VMLS\n",
    "D = population_data()"
   ]
  },
  {
   "cell_type": "code",
   "execution_count": 151,
   "metadata": {},
   "outputs": [],
   "source": [
    "b = D[\"birth_rate\"];\n",
    "d = D[\"death_rate\"];\n",
    "\n",
    "A = [b'; diagonal(1 .- d[1:end-1]) zeros(length(d)-1)];\n",
    "\n",
    "cf = ones(100)'*(A^10);"
   ]
  },
  {
   "cell_type": "code",
   "execution_count": 152,
   "metadata": {},
   "outputs": [
    {
     "data": {
      "image/svg+xml": [
       "<?xml version=\"1.0\" encoding=\"utf-8\"?>\n",
       "<svg xmlns=\"http://www.w3.org/2000/svg\" xmlns:xlink=\"http://www.w3.org/1999/xlink\" width=\"600\" height=\"400\" viewBox=\"0 0 2400 1600\">\n",
       "<defs>\n",
       "  <clipPath id=\"clip660\">\n",
       "    <rect x=\"0\" y=\"0\" width=\"2400\" height=\"1600\"/>\n",
       "  </clipPath>\n",
       "</defs>\n",
       "<path clip-path=\"url(#clip660)\" d=\"\n",
       "M0 1600 L2400 1600 L2400 0 L0 0  Z\n",
       "  \" fill=\"#ffffff\" fill-rule=\"evenodd\" fill-opacity=\"1\"/>\n",
       "<defs>\n",
       "  <clipPath id=\"clip661\">\n",
       "    <rect x=\"480\" y=\"0\" width=\"1681\" height=\"1600\"/>\n",
       "  </clipPath>\n",
       "</defs>\n",
       "<path clip-path=\"url(#clip660)\" d=\"\n",
       "M219.38 1423.18 L2352.76 1423.18 L2352.76 47.2441 L219.38 47.2441  Z\n",
       "  \" fill=\"#ffffff\" fill-rule=\"evenodd\" fill-opacity=\"1\"/>\n",
       "<defs>\n",
       "  <clipPath id=\"clip662\">\n",
       "    <rect x=\"219\" y=\"47\" width=\"2134\" height=\"1377\"/>\n",
       "  </clipPath>\n",
       "</defs>\n",
       "<polyline clip-path=\"url(#clip662)\" style=\"stroke:#000000; stroke-linecap:butt; stroke-linejoin:round; stroke-width:2; stroke-opacity:0.1; fill:none\" points=\"\n",
       "  259.429,1423.18 259.429,47.2441 \n",
       "  \"/>\n",
       "<polyline clip-path=\"url(#clip662)\" style=\"stroke:#000000; stroke-linecap:butt; stroke-linejoin:round; stroke-width:2; stroke-opacity:0.1; fill:none\" points=\"\n",
       "  767.666,1423.18 767.666,47.2441 \n",
       "  \"/>\n",
       "<polyline clip-path=\"url(#clip662)\" style=\"stroke:#000000; stroke-linecap:butt; stroke-linejoin:round; stroke-width:2; stroke-opacity:0.1; fill:none\" points=\"\n",
       "  1275.9,1423.18 1275.9,47.2441 \n",
       "  \"/>\n",
       "<polyline clip-path=\"url(#clip662)\" style=\"stroke:#000000; stroke-linecap:butt; stroke-linejoin:round; stroke-width:2; stroke-opacity:0.1; fill:none\" points=\"\n",
       "  1784.14,1423.18 1784.14,47.2441 \n",
       "  \"/>\n",
       "<polyline clip-path=\"url(#clip662)\" style=\"stroke:#000000; stroke-linecap:butt; stroke-linejoin:round; stroke-width:2; stroke-opacity:0.1; fill:none\" points=\"\n",
       "  2292.38,1423.18 2292.38,47.2441 \n",
       "  \"/>\n",
       "<polyline clip-path=\"url(#clip660)\" style=\"stroke:#000000; stroke-linecap:butt; stroke-linejoin:round; stroke-width:4; stroke-opacity:1; fill:none\" points=\"\n",
       "  219.38,1423.18 2352.76,1423.18 \n",
       "  \"/>\n",
       "<polyline clip-path=\"url(#clip660)\" style=\"stroke:#000000; stroke-linecap:butt; stroke-linejoin:round; stroke-width:4; stroke-opacity:1; fill:none\" points=\"\n",
       "  259.429,1423.18 259.429,1404.28 \n",
       "  \"/>\n",
       "<polyline clip-path=\"url(#clip660)\" style=\"stroke:#000000; stroke-linecap:butt; stroke-linejoin:round; stroke-width:4; stroke-opacity:1; fill:none\" points=\"\n",
       "  767.666,1423.18 767.666,1404.28 \n",
       "  \"/>\n",
       "<polyline clip-path=\"url(#clip660)\" style=\"stroke:#000000; stroke-linecap:butt; stroke-linejoin:round; stroke-width:4; stroke-opacity:1; fill:none\" points=\"\n",
       "  1275.9,1423.18 1275.9,1404.28 \n",
       "  \"/>\n",
       "<polyline clip-path=\"url(#clip660)\" style=\"stroke:#000000; stroke-linecap:butt; stroke-linejoin:round; stroke-width:4; stroke-opacity:1; fill:none\" points=\"\n",
       "  1784.14,1423.18 1784.14,1404.28 \n",
       "  \"/>\n",
       "<polyline clip-path=\"url(#clip660)\" style=\"stroke:#000000; stroke-linecap:butt; stroke-linejoin:round; stroke-width:4; stroke-opacity:1; fill:none\" points=\"\n",
       "  2292.38,1423.18 2292.38,1404.28 \n",
       "  \"/>\n",
       "<path clip-path=\"url(#clip660)\" d=\"M259.429 1454.1 Q255.818 1454.1 253.989 1457.66 Q252.184 1461.2 252.184 1468.33 Q252.184 1475.44 253.989 1479.01 Q255.818 1482.55 259.429 1482.55 Q263.063 1482.55 264.869 1479.01 Q266.698 1475.44 266.698 1468.33 Q266.698 1461.2 264.869 1457.66 Q263.063 1454.1 259.429 1454.1 M259.429 1450.39 Q265.239 1450.39 268.295 1455 Q271.374 1459.58 271.374 1468.33 Q271.374 1477.06 268.295 1481.67 Q265.239 1486.25 259.429 1486.25 Q253.619 1486.25 250.54 1481.67 Q247.485 1477.06 247.485 1468.33 Q247.485 1459.58 250.54 1455 Q253.619 1450.39 259.429 1450.39 Z\" fill=\"#000000\" fill-rule=\"evenodd\" fill-opacity=\"1\" /><path clip-path=\"url(#clip660)\" d=\"M746.937 1481.64 L763.257 1481.64 L763.257 1485.58 L741.312 1485.58 L741.312 1481.64 Q743.974 1478.89 748.558 1474.26 Q753.164 1469.61 754.345 1468.27 Q756.59 1465.74 757.47 1464.01 Q758.372 1462.25 758.372 1460.56 Q758.372 1457.8 756.428 1456.07 Q754.507 1454.33 751.405 1454.33 Q749.206 1454.33 746.752 1455.09 Q744.321 1455.86 741.544 1457.41 L741.544 1452.69 Q744.368 1451.55 746.821 1450.97 Q749.275 1450.39 751.312 1450.39 Q756.683 1450.39 759.877 1453.08 Q763.071 1455.77 763.071 1460.26 Q763.071 1462.39 762.261 1464.31 Q761.474 1466.2 759.368 1468.8 Q758.789 1469.47 755.687 1472.69 Q752.585 1475.88 746.937 1481.64 Z\" fill=\"#000000\" fill-rule=\"evenodd\" fill-opacity=\"1\" /><path clip-path=\"url(#clip660)\" d=\"M773.118 1451.02 L791.474 1451.02 L791.474 1454.96 L777.4 1454.96 L777.4 1463.43 Q778.419 1463.08 779.437 1462.92 Q780.456 1462.73 781.474 1462.73 Q787.261 1462.73 790.641 1465.9 Q794.02 1469.08 794.02 1474.49 Q794.02 1480.07 790.548 1483.17 Q787.076 1486.25 780.756 1486.25 Q778.581 1486.25 776.312 1485.88 Q774.067 1485.51 771.659 1484.77 L771.659 1480.07 Q773.743 1481.2 775.965 1481.76 Q778.187 1482.32 780.664 1482.32 Q784.668 1482.32 787.006 1480.21 Q789.344 1478.1 789.344 1474.49 Q789.344 1470.88 787.006 1468.77 Q784.668 1466.67 780.664 1466.67 Q778.789 1466.67 776.914 1467.08 Q775.062 1467.5 773.118 1468.38 L773.118 1451.02 Z\" fill=\"#000000\" fill-rule=\"evenodd\" fill-opacity=\"1\" /><path clip-path=\"url(#clip660)\" d=\"M1250.6 1451.02 L1268.96 1451.02 L1268.96 1454.96 L1254.88 1454.96 L1254.88 1463.43 Q1255.9 1463.08 1256.92 1462.92 Q1257.94 1462.73 1258.96 1462.73 Q1264.75 1462.73 1268.13 1465.9 Q1271.51 1469.08 1271.51 1474.49 Q1271.51 1480.07 1268.03 1483.17 Q1264.56 1486.25 1258.24 1486.25 Q1256.07 1486.25 1253.8 1485.88 Q1251.55 1485.51 1249.14 1484.77 L1249.14 1480.07 Q1251.23 1481.2 1253.45 1481.76 Q1255.67 1482.32 1258.15 1482.32 Q1262.15 1482.32 1264.49 1480.21 Q1266.83 1478.1 1266.83 1474.49 Q1266.83 1470.88 1264.49 1468.77 Q1262.15 1466.67 1258.15 1466.67 Q1256.27 1466.67 1254.4 1467.08 Q1252.55 1467.5 1250.6 1468.38 L1250.6 1451.02 Z\" fill=\"#000000\" fill-rule=\"evenodd\" fill-opacity=\"1\" /><path clip-path=\"url(#clip660)\" d=\"M1290.72 1454.1 Q1287.11 1454.1 1285.28 1457.66 Q1283.47 1461.2 1283.47 1468.33 Q1283.47 1475.44 1285.28 1479.01 Q1287.11 1482.55 1290.72 1482.55 Q1294.35 1482.55 1296.16 1479.01 Q1297.99 1475.44 1297.99 1468.33 Q1297.99 1461.2 1296.16 1457.66 Q1294.35 1454.1 1290.72 1454.1 M1290.72 1450.39 Q1296.53 1450.39 1299.58 1455 Q1302.66 1459.58 1302.66 1468.33 Q1302.66 1477.06 1299.58 1481.67 Q1296.53 1486.25 1290.72 1486.25 Q1284.91 1486.25 1281.83 1481.67 Q1278.77 1477.06 1278.77 1468.33 Q1278.77 1459.58 1281.83 1455 Q1284.91 1450.39 1290.72 1450.39 Z\" fill=\"#000000\" fill-rule=\"evenodd\" fill-opacity=\"1\" /><path clip-path=\"url(#clip660)\" d=\"M1757.99 1451.02 L1780.22 1451.02 L1780.22 1453.01 L1767.67 1485.58 L1762.79 1485.58 L1774.59 1454.96 L1757.99 1454.96 L1757.99 1451.02 Z\" fill=\"#000000\" fill-rule=\"evenodd\" fill-opacity=\"1\" /><path clip-path=\"url(#clip660)\" d=\"M1789.38 1451.02 L1807.74 1451.02 L1807.74 1454.96 L1793.67 1454.96 L1793.67 1463.43 Q1794.68 1463.08 1795.7 1462.92 Q1796.72 1462.73 1797.74 1462.73 Q1803.53 1462.73 1806.91 1465.9 Q1810.29 1469.08 1810.29 1474.49 Q1810.29 1480.07 1806.81 1483.17 Q1803.34 1486.25 1797.02 1486.25 Q1794.85 1486.25 1792.58 1485.88 Q1790.33 1485.51 1787.93 1484.77 L1787.93 1480.07 Q1790.01 1481.2 1792.23 1481.76 Q1794.45 1482.32 1796.93 1482.32 Q1800.93 1482.32 1803.27 1480.21 Q1805.61 1478.1 1805.61 1474.49 Q1805.61 1470.88 1803.27 1468.77 Q1800.93 1466.67 1796.93 1466.67 Q1795.05 1466.67 1793.18 1467.08 Q1791.33 1467.5 1789.38 1468.38 L1789.38 1451.02 Z\" fill=\"#000000\" fill-rule=\"evenodd\" fill-opacity=\"1\" /><path clip-path=\"url(#clip660)\" d=\"M2251.98 1481.64 L2259.62 1481.64 L2259.62 1455.28 L2251.31 1456.95 L2251.31 1452.69 L2259.58 1451.02 L2264.25 1451.02 L2264.25 1481.64 L2271.89 1481.64 L2271.89 1485.58 L2251.98 1485.58 L2251.98 1481.64 Z\" fill=\"#000000\" fill-rule=\"evenodd\" fill-opacity=\"1\" /><path clip-path=\"url(#clip660)\" d=\"M2291.34 1454.1 Q2287.72 1454.1 2285.9 1457.66 Q2284.09 1461.2 2284.09 1468.33 Q2284.09 1475.44 2285.9 1479.01 Q2287.72 1482.55 2291.34 1482.55 Q2294.97 1482.55 2296.78 1479.01 Q2298.6 1475.44 2298.6 1468.33 Q2298.6 1461.2 2296.78 1457.66 Q2294.97 1454.1 2291.34 1454.1 M2291.34 1450.39 Q2297.15 1450.39 2300.2 1455 Q2303.28 1459.58 2303.28 1468.33 Q2303.28 1477.06 2300.2 1481.67 Q2297.15 1486.25 2291.34 1486.25 Q2285.53 1486.25 2282.45 1481.67 Q2279.39 1477.06 2279.39 1468.33 Q2279.39 1459.58 2282.45 1455 Q2285.53 1450.39 2291.34 1450.39 Z\" fill=\"#000000\" fill-rule=\"evenodd\" fill-opacity=\"1\" /><path clip-path=\"url(#clip660)\" d=\"M2321.5 1454.1 Q2317.89 1454.1 2316.06 1457.66 Q2314.25 1461.2 2314.25 1468.33 Q2314.25 1475.44 2316.06 1479.01 Q2317.89 1482.55 2321.5 1482.55 Q2325.13 1482.55 2326.94 1479.01 Q2328.77 1475.44 2328.77 1468.33 Q2328.77 1461.2 2326.94 1457.66 Q2325.13 1454.1 2321.5 1454.1 M2321.5 1450.39 Q2327.31 1450.39 2330.36 1455 Q2333.44 1459.58 2333.44 1468.33 Q2333.44 1477.06 2330.36 1481.67 Q2327.31 1486.25 2321.5 1486.25 Q2315.69 1486.25 2312.61 1481.67 Q2309.55 1477.06 2309.55 1468.33 Q2309.55 1459.58 2312.61 1455 Q2315.69 1450.39 2321.5 1450.39 Z\" fill=\"#000000\" fill-rule=\"evenodd\" fill-opacity=\"1\" /><path clip-path=\"url(#clip660)\" d=\"M1246.79 1526.86 L1238.07 1550.51 L1255.54 1550.51 L1246.79 1526.86 M1243.16 1520.52 L1250.45 1520.52 L1268.56 1568.04 L1261.88 1568.04 L1257.55 1555.85 L1236.13 1555.85 L1231.8 1568.04 L1225.02 1568.04 L1243.16 1520.52 Z\" fill=\"#000000\" fill-rule=\"evenodd\" fill-opacity=\"1\" /><path clip-path=\"url(#clip660)\" d=\"M1298.7 1549.81 Q1298.7 1543.44 1296.06 1539.94 Q1293.45 1536.44 1288.71 1536.44 Q1284 1536.44 1281.36 1539.94 Q1278.75 1543.44 1278.75 1549.81 Q1278.75 1556.14 1281.36 1559.64 Q1284 1563.14 1288.71 1563.14 Q1293.45 1563.14 1296.06 1559.64 Q1298.7 1556.14 1298.7 1549.81 M1304.56 1563.62 Q1304.56 1572.72 1300.52 1577.15 Q1296.48 1581.6 1288.14 1581.6 Q1285.05 1581.6 1282.31 1581.13 Q1279.58 1580.68 1277 1579.72 L1277 1574.03 Q1279.58 1575.43 1282.09 1576.1 Q1284.6 1576.76 1287.21 1576.76 Q1292.97 1576.76 1295.84 1573.74 Q1298.7 1570.75 1298.7 1564.67 L1298.7 1561.77 Q1296.89 1564.92 1294.06 1566.48 Q1291.22 1568.04 1287.28 1568.04 Q1280.72 1568.04 1276.71 1563.05 Q1272.7 1558.05 1272.7 1549.81 Q1272.7 1541.53 1276.71 1536.53 Q1280.72 1531.54 1287.28 1531.54 Q1291.22 1531.54 1294.06 1533.1 Q1296.89 1534.66 1298.7 1537.81 L1298.7 1532.4 L1304.56 1532.4 L1304.56 1563.62 Z\" fill=\"#000000\" fill-rule=\"evenodd\" fill-opacity=\"1\" /><path clip-path=\"url(#clip660)\" d=\"M1347.12 1548.76 L1347.12 1551.62 L1320.19 1551.62 Q1320.57 1557.67 1323.82 1560.85 Q1327.1 1564 1332.92 1564 Q1336.29 1564 1339.44 1563.17 Q1342.63 1562.35 1345.75 1560.69 L1345.75 1566.23 Q1342.6 1567.57 1339.29 1568.27 Q1335.98 1568.97 1332.57 1568.97 Q1324.04 1568.97 1319.04 1564 Q1314.08 1559.04 1314.08 1550.57 Q1314.08 1541.82 1318.79 1536.69 Q1323.53 1531.54 1331.55 1531.54 Q1338.74 1531.54 1342.91 1536.18 Q1347.12 1540.8 1347.12 1548.76 M1341.26 1547.04 Q1341.2 1542.23 1338.55 1539.37 Q1335.94 1536.5 1331.61 1536.5 Q1326.71 1536.5 1323.75 1539.27 Q1320.82 1542.04 1320.38 1547.07 L1341.26 1547.04 Z\" fill=\"#000000\" fill-rule=\"evenodd\" fill-opacity=\"1\" /><polyline clip-path=\"url(#clip662)\" style=\"stroke:#000000; stroke-linecap:butt; stroke-linejoin:round; stroke-width:2; stroke-opacity:0.1; fill:none\" points=\"\n",
       "  219.38,1384.24 2352.76,1384.24 \n",
       "  \"/>\n",
       "<polyline clip-path=\"url(#clip662)\" style=\"stroke:#000000; stroke-linecap:butt; stroke-linejoin:round; stroke-width:2; stroke-opacity:0.1; fill:none\" points=\"\n",
       "  219.38,950.465 2352.76,950.465 \n",
       "  \"/>\n",
       "<polyline clip-path=\"url(#clip662)\" style=\"stroke:#000000; stroke-linecap:butt; stroke-linejoin:round; stroke-width:2; stroke-opacity:0.1; fill:none\" points=\"\n",
       "  219.38,516.692 2352.76,516.692 \n",
       "  \"/>\n",
       "<polyline clip-path=\"url(#clip662)\" style=\"stroke:#000000; stroke-linecap:butt; stroke-linejoin:round; stroke-width:2; stroke-opacity:0.1; fill:none\" points=\"\n",
       "  219.38,82.9187 2352.76,82.9187 \n",
       "  \"/>\n",
       "<polyline clip-path=\"url(#clip660)\" style=\"stroke:#000000; stroke-linecap:butt; stroke-linejoin:round; stroke-width:4; stroke-opacity:1; fill:none\" points=\"\n",
       "  219.38,1423.18 219.38,47.2441 \n",
       "  \"/>\n",
       "<polyline clip-path=\"url(#clip660)\" style=\"stroke:#000000; stroke-linecap:butt; stroke-linejoin:round; stroke-width:4; stroke-opacity:1; fill:none\" points=\"\n",
       "  219.38,1384.24 238.278,1384.24 \n",
       "  \"/>\n",
       "<polyline clip-path=\"url(#clip660)\" style=\"stroke:#000000; stroke-linecap:butt; stroke-linejoin:round; stroke-width:4; stroke-opacity:1; fill:none\" points=\"\n",
       "  219.38,950.465 238.278,950.465 \n",
       "  \"/>\n",
       "<polyline clip-path=\"url(#clip660)\" style=\"stroke:#000000; stroke-linecap:butt; stroke-linejoin:round; stroke-width:4; stroke-opacity:1; fill:none\" points=\"\n",
       "  219.38,516.692 238.278,516.692 \n",
       "  \"/>\n",
       "<polyline clip-path=\"url(#clip660)\" style=\"stroke:#000000; stroke-linecap:butt; stroke-linejoin:round; stroke-width:4; stroke-opacity:1; fill:none\" points=\"\n",
       "  219.38,82.9187 238.278,82.9187 \n",
       "  \"/>\n",
       "<path clip-path=\"url(#clip660)\" d=\"M126.205 1370.04 Q122.593 1370.04 120.765 1373.6 Q118.959 1377.14 118.959 1384.27 Q118.959 1391.38 120.765 1394.94 Q122.593 1398.49 126.205 1398.49 Q129.839 1398.49 131.644 1394.94 Q133.473 1391.38 133.473 1384.27 Q133.473 1377.14 131.644 1373.6 Q129.839 1370.04 126.205 1370.04 M126.205 1366.33 Q132.015 1366.33 135.07 1370.94 Q138.149 1375.52 138.149 1384.27 Q138.149 1393 135.07 1397.61 Q132.015 1402.19 126.205 1402.19 Q120.394 1402.19 117.316 1397.61 Q114.26 1393 114.26 1384.27 Q114.26 1375.52 117.316 1370.94 Q120.394 1366.33 126.205 1366.33 Z\" fill=\"#000000\" fill-rule=\"evenodd\" fill-opacity=\"1\" /><path clip-path=\"url(#clip660)\" d=\"M146.366 1395.64 L151.251 1395.64 L151.251 1401.52 L146.366 1401.52 L146.366 1395.64 Z\" fill=\"#000000\" fill-rule=\"evenodd\" fill-opacity=\"1\" /><path clip-path=\"url(#clip660)\" d=\"M171.436 1370.04 Q167.825 1370.04 165.996 1373.6 Q164.19 1377.14 164.19 1384.27 Q164.19 1391.38 165.996 1394.94 Q167.825 1398.49 171.436 1398.49 Q175.07 1398.49 176.876 1394.94 Q178.704 1391.38 178.704 1384.27 Q178.704 1377.14 176.876 1373.6 Q175.07 1370.04 171.436 1370.04 M171.436 1366.33 Q177.246 1366.33 180.301 1370.94 Q183.38 1375.52 183.38 1384.27 Q183.38 1393 180.301 1397.61 Q177.246 1402.19 171.436 1402.19 Q165.626 1402.19 162.547 1397.61 Q159.491 1393 159.491 1384.27 Q159.491 1375.52 162.547 1370.94 Q165.626 1366.33 171.436 1366.33 Z\" fill=\"#000000\" fill-rule=\"evenodd\" fill-opacity=\"1\" /><path clip-path=\"url(#clip660)\" d=\"M127.2 936.264 Q123.589 936.264 121.76 939.829 Q119.955 943.37 119.955 950.5 Q119.955 957.606 121.76 961.171 Q123.589 964.713 127.2 964.713 Q130.834 964.713 132.64 961.171 Q134.468 957.606 134.468 950.5 Q134.468 943.37 132.64 939.829 Q130.834 936.264 127.2 936.264 M127.2 932.56 Q133.01 932.56 136.066 937.167 Q139.144 941.75 139.144 950.5 Q139.144 959.227 136.066 963.833 Q133.01 968.416 127.2 968.416 Q121.39 968.416 118.311 963.833 Q115.256 959.227 115.256 950.5 Q115.256 941.75 118.311 937.167 Q121.39 932.56 127.2 932.56 Z\" fill=\"#000000\" fill-rule=\"evenodd\" fill-opacity=\"1\" /><path clip-path=\"url(#clip660)\" d=\"M147.362 961.865 L152.246 961.865 L152.246 967.745 L147.362 967.745 L147.362 961.865 Z\" fill=\"#000000\" fill-rule=\"evenodd\" fill-opacity=\"1\" /><path clip-path=\"url(#clip660)\" d=\"M162.477 933.185 L180.834 933.185 L180.834 937.12 L166.76 937.12 L166.76 945.592 Q167.778 945.245 168.797 945.083 Q169.815 944.898 170.834 944.898 Q176.621 944.898 180.001 948.069 Q183.38 951.241 183.38 956.657 Q183.38 962.236 179.908 965.338 Q176.436 968.416 170.116 968.416 Q167.94 968.416 165.672 968.046 Q163.427 967.676 161.019 966.935 L161.019 962.236 Q163.102 963.37 165.325 963.926 Q167.547 964.481 170.024 964.481 Q174.028 964.481 176.366 962.375 Q178.704 960.268 178.704 956.657 Q178.704 953.046 176.366 950.94 Q174.028 948.833 170.024 948.833 Q168.149 948.833 166.274 949.25 Q164.422 949.666 162.477 950.546 L162.477 933.185 Z\" fill=\"#000000\" fill-rule=\"evenodd\" fill-opacity=\"1\" /><path clip-path=\"url(#clip660)\" d=\"M117.015 530.037 L124.654 530.037 L124.654 503.671 L116.343 505.338 L116.343 501.079 L124.607 499.412 L129.283 499.412 L129.283 530.037 L136.922 530.037 L136.922 533.972 L117.015 533.972 L117.015 530.037 Z\" fill=\"#000000\" fill-rule=\"evenodd\" fill-opacity=\"1\" /><path clip-path=\"url(#clip660)\" d=\"M146.366 528.092 L151.251 528.092 L151.251 533.972 L146.366 533.972 L146.366 528.092 Z\" fill=\"#000000\" fill-rule=\"evenodd\" fill-opacity=\"1\" /><path clip-path=\"url(#clip660)\" d=\"M171.436 502.491 Q167.825 502.491 165.996 506.055 Q164.19 509.597 164.19 516.727 Q164.19 523.833 165.996 527.398 Q167.825 530.939 171.436 530.939 Q175.07 530.939 176.876 527.398 Q178.704 523.833 178.704 516.727 Q178.704 509.597 176.876 506.055 Q175.07 502.491 171.436 502.491 M171.436 498.787 Q177.246 498.787 180.301 503.393 Q183.38 507.977 183.38 516.727 Q183.38 525.453 180.301 530.06 Q177.246 534.643 171.436 534.643 Q165.626 534.643 162.547 530.06 Q159.491 525.453 159.491 516.727 Q159.491 507.977 162.547 503.393 Q165.626 498.787 171.436 498.787 Z\" fill=\"#000000\" fill-rule=\"evenodd\" fill-opacity=\"1\" /><path clip-path=\"url(#clip660)\" d=\"M118.01 96.2635 L125.649 96.2635 L125.649 69.8979 L117.339 71.5646 L117.339 67.3053 L125.603 65.6387 L130.279 65.6387 L130.279 96.2635 L137.917 96.2635 L137.917 100.199 L118.01 100.199 L118.01 96.2635 Z\" fill=\"#000000\" fill-rule=\"evenodd\" fill-opacity=\"1\" /><path clip-path=\"url(#clip660)\" d=\"M147.362 94.3191 L152.246 94.3191 L152.246 100.199 L147.362 100.199 L147.362 94.3191 Z\" fill=\"#000000\" fill-rule=\"evenodd\" fill-opacity=\"1\" /><path clip-path=\"url(#clip660)\" d=\"M162.477 65.6387 L180.834 65.6387 L180.834 69.5738 L166.76 69.5738 L166.76 78.046 Q167.778 77.6988 168.797 77.5368 Q169.815 77.3516 170.834 77.3516 Q176.621 77.3516 180.001 80.5229 Q183.38 83.6941 183.38 89.1108 Q183.38 94.6895 179.908 97.7913 Q176.436 100.87 170.116 100.87 Q167.94 100.87 165.672 100.5 Q163.427 100.129 161.019 99.3885 L161.019 94.6895 Q163.102 95.8237 165.325 96.3793 Q167.547 96.9348 170.024 96.9348 Q174.028 96.9348 176.366 94.8283 Q178.704 92.7219 178.704 89.1108 Q178.704 85.4997 176.366 83.3932 Q174.028 81.2867 170.024 81.2867 Q168.149 81.2867 166.274 81.7034 Q164.422 82.1201 162.477 82.9997 L162.477 65.6387 Z\" fill=\"#000000\" fill-rule=\"evenodd\" fill-opacity=\"1\" /><path clip-path=\"url(#clip660)\" d=\"M16.4842 831.78 L16.4842 804.471 L21.895 804.471 L21.895 825.35 L35.8996 825.35 L35.8996 806.508 L41.3104 806.508 L41.3104 825.35 L64.0042 825.35 L64.0042 831.78 L16.4842 831.78 Z\" fill=\"#000000\" fill-rule=\"evenodd\" fill-opacity=\"1\" /><path clip-path=\"url(#clip660)\" d=\"M46.0847 784.323 Q46.0847 791.421 47.7079 794.158 Q49.3312 796.896 53.2461 796.896 Q56.3653 796.896 58.2114 794.859 Q60.0256 792.79 60.0256 789.257 Q60.0256 784.387 56.5881 781.459 Q53.1188 778.499 47.3897 778.499 L46.0847 778.499 L46.0847 784.323 M43.6657 772.642 L64.0042 772.642 L64.0042 778.499 L58.5933 778.499 Q61.8398 780.504 63.3994 783.496 Q64.9272 786.488 64.9272 790.816 Q64.9272 796.291 61.8716 799.537 Q58.7843 802.752 53.6281 802.752 Q47.6125 802.752 44.5569 798.742 Q41.5014 794.699 41.5014 786.711 L41.5014 778.499 L40.9285 778.499 Q36.8862 778.499 34.6901 781.172 Q32.4621 783.814 32.4621 788.62 Q32.4621 791.676 33.1941 794.572 Q33.9262 797.469 35.3903 800.142 L29.9795 800.142 Q28.7381 796.927 28.1334 793.904 Q27.4968 790.88 27.4968 788.016 Q27.4968 780.281 31.5072 776.462 Q35.5176 772.642 43.6657 772.642 Z\" fill=\"#000000\" fill-rule=\"evenodd\" fill-opacity=\"1\" /><path clip-path=\"url(#clip660)\" d=\"M29.7248 734.926 L35.1993 734.926 Q33.8307 737.408 33.1623 739.923 Q32.4621 742.405 32.4621 744.951 Q32.4621 750.649 36.0905 753.8 Q39.6872 756.951 46.212 756.951 Q52.7369 756.951 56.3653 753.8 Q59.9619 750.649 59.9619 744.951 Q59.9619 742.405 59.2935 739.923 Q58.5933 737.408 57.2247 734.926 L62.6355 734.926 Q63.7814 737.376 64.3543 740.018 Q64.9272 742.628 64.9272 745.588 Q64.9272 753.641 59.8664 758.383 Q54.8057 763.126 46.212 763.126 Q37.491 763.126 32.4939 758.351 Q27.4968 753.545 27.4968 745.206 Q27.4968 742.501 28.0697 739.923 Q28.6108 737.344 29.7248 734.926 Z\" fill=\"#000000\" fill-rule=\"evenodd\" fill-opacity=\"1\" /><path clip-path=\"url(#clip660)\" d=\"M18.2347 718.948 L28.3562 718.948 L28.3562 706.885 L32.9077 706.885 L32.9077 718.948 L52.2594 718.948 Q56.6199 718.948 57.8613 717.77 Q59.1026 716.56 59.1026 712.9 L59.1026 706.885 L64.0042 706.885 L64.0042 712.9 Q64.0042 719.68 61.4897 722.258 Q58.9434 724.836 52.2594 724.836 L32.9077 724.836 L32.9077 729.133 L28.3562 729.133 L28.3562 724.836 L18.2347 724.836 L18.2347 718.948 Z\" fill=\"#000000\" fill-rule=\"evenodd\" fill-opacity=\"1\" /><path clip-path=\"url(#clip660)\" d=\"M32.4621 685.368 Q32.4621 690.079 36.1542 692.816 Q39.8145 695.554 46.212 695.554 Q52.6095 695.554 56.3017 692.848 Q59.9619 690.111 59.9619 685.368 Q59.9619 680.69 56.2698 677.952 Q52.5777 675.215 46.212 675.215 Q39.8781 675.215 36.186 677.952 Q32.4621 680.69 32.4621 685.368 M27.4968 685.368 Q27.4968 677.73 32.4621 673.369 Q37.4273 669.009 46.212 669.009 Q54.9649 669.009 59.9619 673.369 Q64.9272 677.73 64.9272 685.368 Q64.9272 693.039 59.9619 697.4 Q54.9649 701.728 46.212 701.728 Q37.4273 701.728 32.4621 697.4 Q27.4968 693.039 27.4968 685.368 Z\" fill=\"#000000\" fill-rule=\"evenodd\" fill-opacity=\"1\" /><path clip-path=\"url(#clip660)\" d=\"M33.8307 638.644 Q33.2578 639.631 33.0032 640.809 Q32.7167 641.954 32.7167 643.355 Q32.7167 648.32 35.9632 650.994 Q39.1779 653.635 45.2253 653.635 L64.0042 653.635 L64.0042 659.524 L28.3562 659.524 L28.3562 653.635 L33.8944 653.635 Q30.6479 651.789 29.0883 648.829 Q27.4968 645.869 27.4968 641.636 Q27.4968 641.031 27.5923 640.299 Q27.656 639.567 27.8151 638.676 L33.8307 638.644 Z\" fill=\"#000000\" fill-rule=\"evenodd\" fill-opacity=\"1\" /><polyline clip-path=\"url(#clip662)\" style=\"stroke:#009af9; stroke-linecap:butt; stroke-linejoin:round; stroke-width:4; stroke-opacity:1; fill:none\" points=\"\n",
       "  279.759,523.51 300.088,518.027 320.418,517.586 340.747,517.293 361.077,517.077 381.406,516.94 401.736,502.235 422.065,487.736 442.395,473.331 462.724,459.072 \n",
       "  483.054,444.892 503.383,406.815 523.712,368.976 544.042,331.172 564.371,293.386 584.701,255.625 605.03,224.476 625.36,193.286 645.689,161.977 666.019,130.517 \n",
       "  686.348,98.9847 706.678,96.5073 727.007,93.9178 747.337,91.3422 767.666,88.7945 787.996,86.1857 808.325,113.665 828.655,141.094 848.984,168.62 869.314,196.18 \n",
       "  889.643,223.833 909.973,261.389 930.302,299.022 950.632,336.816 970.961,374.735 991.291,412.916 1011.62,433.086 1031.95,453.489 1052.28,474.087 1072.61,494.846 \n",
       "  1092.94,515.846 1113.27,522.334 1133.6,528.971 1153.93,535.81 1174.26,542.851 1194.59,549.984 1214.91,553.155 1235.24,556.55 1255.57,560.043 1275.9,563.798 \n",
       "  1296.23,567.73 1316.56,571.395 1336.89,575.298 1357.22,579.395 1377.55,583.991 1397.88,589.456 1418.21,594.894 1438.54,600.726 1458.87,607.079 1479.2,614.268 \n",
       "  1499.53,622.048 1519.86,630.559 1540.19,639.695 1560.52,649.841 1580.85,660.69 1601.17,672.046 1621.5,685.04 1641.83,699.485 1662.16,714.754 1682.49,731.363 \n",
       "  1702.82,748.773 1723.15,768.2 1743.48,789.64 1763.81,812.79 1784.14,837.662 1804.47,865.064 1824.8,894.409 1845.13,925.349 1865.46,958.351 1885.79,992.449 \n",
       "  1906.12,1029.09 1926.45,1067.53 1946.78,1104.25 1967.11,1141.81 1987.44,1178.11 2007.76,1211.63 2028.09,1243.03 2048.42,1270.94 2068.75,1294.53 2089.08,1315.64 \n",
       "  2109.41,1384.24 2129.74,1384.24 2150.07,1384.24 2170.4,1384.24 2190.73,1384.24 2211.06,1384.24 2231.39,1384.24 2251.72,1384.24 2272.05,1384.24 2292.38,1384.24 \n",
       "  \n",
       "  \"/>\n",
       "</svg>\n"
      ]
     },
     "execution_count": 152,
     "metadata": {},
     "output_type": "execute_result"
    }
   ],
   "source": [
    "using Plots\n",
    "plot(cf', legend=false, xlabel=\"Age\", ylabel=\"Factor\")"
   ]
  },
  {
   "cell_type": "markdown",
   "metadata": {},
   "source": [
    "### QR factorization"
   ]
  },
  {
   "cell_type": "code",
   "execution_count": 153,
   "metadata": {},
   "outputs": [
    {
     "data": {
      "text/plain": [
       "6×4 Matrix{Float64}:\n",
       " 0.794034  0.236663  0.375567  0.538436\n",
       " 0.18508   0.491684  0.216081  0.597677\n",
       " 0.471655  0.024835  0.747474  0.677163\n",
       " 0.261188  0.67266   0.64862   0.0916569\n",
       " 0.929494  0.940257  0.996539  0.532326\n",
       " 0.531472  0.780066  0.113515  0.772821"
      ]
     },
     "execution_count": 153,
     "metadata": {},
     "output_type": "execute_result"
    }
   ],
   "source": [
    "A = rand(6, 4)"
   ]
  },
  {
   "cell_type": "code",
   "execution_count": 154,
   "metadata": {},
   "outputs": [
    {
     "data": {
      "text/plain": [
       "LinearAlgebra.QRCompactWY{Float64, Matrix{Float64}}\n",
       "Q factor:\n",
       "6×6 LinearAlgebra.QRCompactWYQ{Float64, Matrix{Float64}}:\n",
       " -0.547695   0.483218   0.342699    -0.165215  -0.487703     -0.289719\n",
       " -0.127661  -0.382182   0.00610236   0.584269  -0.0105186    -0.704359\n",
       " -0.32533    0.41823   -0.545781     0.573716   0.0219461     0.302879\n",
       " -0.180158  -0.515295  -0.469589    -0.220026  -0.644039      0.135286\n",
       " -0.641131  -0.186132  -0.208791    -0.388122   0.588869     -0.115356\n",
       " -0.366589  -0.381243   0.566159     0.321144  -0.000540383   0.544606\n",
       "R factor:\n",
       "4×4 Matrix{Float64}:\n",
       " -1.44977  -1.21044   -1.27384   -1.23261\n",
       "  0.0      -0.882192  -0.151481  -0.125976\n",
       "  0.0       0.0       -0.726318   0.101939\n",
       "  0.0       0.0        0.0        0.670159"
      ]
     },
     "execution_count": 154,
     "metadata": {},
     "output_type": "execute_result"
    }
   ],
   "source": [
    "using LinearAlgebra\n",
    "Q, R = qr(A)"
   ]
  },
  {
   "cell_type": "code",
   "execution_count": 155,
   "metadata": {},
   "outputs": [
    {
     "data": {
      "text/plain": [
       "6×4 Matrix{Float64}:\n",
       " -0.547695   0.483218   0.342699    -0.165215\n",
       " -0.127661  -0.382182   0.00610236   0.584269\n",
       " -0.32533    0.41823   -0.545781     0.573716\n",
       " -0.180158  -0.515295  -0.469589    -0.220026\n",
       " -0.641131  -0.186132  -0.208791    -0.388122\n",
       " -0.366589  -0.381243   0.566159     0.321144"
      ]
     },
     "execution_count": 155,
     "metadata": {},
     "output_type": "execute_result"
    }
   ],
   "source": [
    "Q = Matrix(Q)"
   ]
  },
  {
   "cell_type": "code",
   "execution_count": 156,
   "metadata": {},
   "outputs": [
    {
     "data": {
      "text/plain": [
       "1.0388024763651271e-15"
      ]
     },
     "execution_count": 156,
     "metadata": {},
     "output_type": "execute_result"
    }
   ],
   "source": [
    "norm(Q*R-A)"
   ]
  },
  {
   "cell_type": "code",
   "execution_count": 157,
   "metadata": {},
   "outputs": [
    {
     "data": {
      "text/plain": [
       "4×4 Matrix{Float64}:\n",
       "  1.0          -1.83249e-16   2.58658e-17  1.18326e-16\n",
       " -1.83249e-16   1.0          -5.64524e-17  3.11061e-17\n",
       "  2.58658e-17  -5.64524e-17   1.0          2.19746e-16\n",
       "  1.18326e-16   3.11061e-17   2.19746e-16  1.0"
      ]
     },
     "execution_count": 157,
     "metadata": {},
     "output_type": "execute_result"
    }
   ],
   "source": [
    "Q'*Q"
   ]
  },
  {
   "cell_type": "code",
   "execution_count": 5,
   "metadata": {},
   "outputs": [
    {
     "data": {
      "text/plain": [
       "(-5, 3)"
      ]
     },
     "execution_count": 5,
     "metadata": {},
     "output_type": "execute_result"
    }
   ],
   "source": [
    "findmin([1, 4, -5, 3])"
   ]
  },
  {
   "cell_type": "code",
   "execution_count": 10,
   "metadata": {},
   "outputs": [
    {
     "data": {
      "text/plain": [
       "4.242640687119285"
      ]
     },
     "execution_count": 10,
     "metadata": {},
     "output_type": "execute_result"
    }
   ],
   "source": [
    "using LinearAlgebra\n",
    "norm([1, 2] - [4, 5])"
   ]
  },
  {
   "cell_type": "markdown",
   "metadata": {},
   "source": [
    "# Chapter 11 "
   ]
  },
  {
   "cell_type": "markdown",
   "metadata": {},
   "source": [
    "## left and right inverses"
   ]
  },
  {
   "cell_type": "code",
   "execution_count": 1,
   "metadata": {},
   "outputs": [
    {
     "data": {
      "text/plain": [
       "3×2 Matrix{Int64}:\n",
       " -3  -4\n",
       "  4   6\n",
       "  1   1"
      ]
     },
     "execution_count": 1,
     "metadata": {},
     "output_type": "execute_result"
    }
   ],
   "source": [
    "A = [-3 -4; 4 6; 1 1]"
   ]
  },
  {
   "cell_type": "code",
   "execution_count": 2,
   "metadata": {},
   "outputs": [
    {
     "data": {
      "text/plain": [
       "2×3 Matrix{Float64}:\n",
       " -1.22222   -1.11111    1.77778\n",
       "  0.777778   0.888889  -1.22222"
      ]
     },
     "execution_count": 2,
     "metadata": {},
     "output_type": "execute_result"
    }
   ],
   "source": [
    "B = [-11 -10 16; 7 8 -11]/9"
   ]
  },
  {
   "cell_type": "code",
   "execution_count": 3,
   "metadata": {},
   "outputs": [
    {
     "data": {
      "text/plain": [
       "2×3 Matrix{Float64}:\n",
       " 0.0  -0.5   3.0\n",
       " 0.0   0.5  -2.0"
      ]
     },
     "execution_count": 3,
     "metadata": {},
     "output_type": "execute_result"
    }
   ],
   "source": [
    "C = [0 -1 6; 0 1 -4]/2"
   ]
  },
  {
   "cell_type": "code",
   "execution_count": 4,
   "metadata": {},
   "outputs": [
    {
     "data": {
      "text/plain": [
       "2×2 Matrix{Float64}:\n",
       "  1.0          0.0\n",
       " -4.44089e-16  1.0"
      ]
     },
     "execution_count": 4,
     "metadata": {},
     "output_type": "execute_result"
    }
   ],
   "source": [
    "B*A"
   ]
  },
  {
   "cell_type": "code",
   "execution_count": 5,
   "metadata": {},
   "outputs": [
    {
     "data": {
      "text/plain": [
       "2×2 Matrix{Float64}:\n",
       " 1.0  0.0\n",
       " 0.0  1.0"
      ]
     },
     "execution_count": 5,
     "metadata": {},
     "output_type": "execute_result"
    }
   ],
   "source": [
    "C*A"
   ]
  },
  {
   "cell_type": "markdown",
   "metadata": {},
   "source": [
    "have two inverses"
   ]
  },
  {
   "cell_type": "code",
   "execution_count": 6,
   "metadata": {},
   "outputs": [
    {
     "data": {
      "text/plain": [
       "3×3 Matrix{Int64}:\n",
       "  1  -2   3\n",
       "  0   2   2\n",
       " -4  -4  -4"
      ]
     },
     "execution_count": 6,
     "metadata": {},
     "output_type": "execute_result"
    }
   ],
   "source": [
    "A = [1 -2 3; 0 2 2 ; -4 -4 -4 ]"
   ]
  },
  {
   "cell_type": "code",
   "execution_count": 7,
   "metadata": {},
   "outputs": [
    {
     "data": {
      "text/plain": [
       "3×3 Matrix{Float64}:\n",
       "  0.0  -0.5  -0.25\n",
       " -0.2   0.2  -0.05\n",
       "  0.2   0.3   0.05"
      ]
     },
     "execution_count": 7,
     "metadata": {},
     "output_type": "execute_result"
    }
   ],
   "source": [
    "B = inv(A)"
   ]
  },
  {
   "cell_type": "code",
   "execution_count": 8,
   "metadata": {},
   "outputs": [
    {
     "data": {
      "text/plain": [
       "3×3 Matrix{Float64}:\n",
       " 1.0  0.0          0.0\n",
       " 0.0  1.0          2.77556e-17\n",
       " 0.0  5.55112e-17  1.0"
      ]
     },
     "execution_count": 8,
     "metadata": {},
     "output_type": "execute_result"
    }
   ],
   "source": [
    "B*A"
   ]
  },
  {
   "cell_type": "code",
   "execution_count": 9,
   "metadata": {},
   "outputs": [
    {
     "ename": "LoadError",
     "evalue": "DimensionMismatch(\"matrix is not square: dimensions are (2, 3)\")",
     "output_type": "error",
     "traceback": [
      "DimensionMismatch(\"matrix is not square: dimensions are (2, 3)\")",
      "",
      "Stacktrace:",
      " [1] checksquare",
      "   @ C:\\buildbot\\worker\\package_win64\\build\\usr\\share\\julia\\stdlib\\v1.6\\LinearAlgebra\\src\\LinearAlgebra.jl:224 [inlined]",
      " [2] inv(A::Matrix{Float64})",
      "   @ LinearAlgebra C:\\buildbot\\worker\\package_win64\\build\\usr\\share\\julia\\stdlib\\v1.6\\LinearAlgebra\\src\\dense.jl:807",
      " [3] top-level scope",
      "   @ In[9]:1",
      " [4] eval",
      "   @ .\\boot.jl:360 [inlined]",
      " [5] include_string(mapexpr::typeof(REPL.softscope), mod::Module, code::String, filename::String)",
      "   @ Base .\\loading.jl:1116"
     ]
    }
   ],
   "source": [
    "inv(C)"
   ]
  },
  {
   "cell_type": "markdown",
   "metadata": {},
   "source": [
    "## inverse through QR"
   ]
  },
  {
   "cell_type": "code",
   "execution_count": 5,
   "metadata": {},
   "outputs": [],
   "source": [
    "A = randn(3, 3);"
   ]
  },
  {
   "cell_type": "code",
   "execution_count": 6,
   "metadata": {},
   "outputs": [
    {
     "data": {
      "text/plain": [
       "3×3 Matrix{Float64}:\n",
       " -0.0643155  -0.881497  -0.564628\n",
       "  0.335031    0.442378  -0.345962\n",
       " -0.407484    1.16919   -1.00178"
      ]
     },
     "execution_count": 6,
     "metadata": {},
     "output_type": "execute_result"
    }
   ],
   "source": [
    "inv(A)"
   ]
  },
  {
   "cell_type": "code",
   "execution_count": 7,
   "metadata": {},
   "outputs": [
    {
     "data": {
      "text/plain": [
       "LinearAlgebra.QRCompactWY{Float64, Matrix{Float64}}\n",
       "Q factor:\n",
       "3×3 LinearAlgebra.QRCompactWYQ{Float64, Matrix{Float64}}:\n",
       " -0.0518743  -0.965324   0.255849\n",
       "  0.639287   -0.22892   -0.734103\n",
       "  0.767216    0.12548    0.628994\n",
       "R factor:\n",
       "3×3 Matrix{Float64}:\n",
       " -1.00666  -0.415116  -0.0551159\n",
       "  0.0      -2.13632    0.612514\n",
       "  0.0       0.0       -0.627875"
      ]
     },
     "execution_count": 7,
     "metadata": {},
     "output_type": "execute_result"
    }
   ],
   "source": [
    "using LinearAlgebra\n",
    "Q, R = qr(A)"
   ]
  },
  {
   "cell_type": "code",
   "execution_count": 13,
   "metadata": {},
   "outputs": [
    {
     "data": {
      "text/plain": [
       "3×3 Matrix{Float64}:\n",
       " -0.526279     0.61172    0.590618\n",
       " -0.850297    -0.374495  -0.369795\n",
       " -0.00502769  -0.696816   0.717232"
      ]
     },
     "execution_count": 13,
     "metadata": {},
     "output_type": "execute_result"
    }
   ],
   "source": [
    "Q = Matrix(Q)"
   ]
  },
  {
   "cell_type": "code",
   "execution_count": 15,
   "metadata": {},
   "outputs": [
    {
     "data": {
      "text/plain": [
       "3×3 Matrix{Float64}:\n",
       " -0.24969   1.02428   -0.279476\n",
       " -0.620002  0.376856   1.16442\n",
       " -0.455363  0.28511   -0.552982"
      ]
     },
     "execution_count": 15,
     "metadata": {},
     "output_type": "execute_result"
    }
   ],
   "source": [
    "inv(R)*Q'"
   ]
  },
  {
   "cell_type": "code",
   "execution_count": 28,
   "metadata": {},
   "outputs": [
    {
     "data": {
      "text/plain": [
       "false"
      ]
     },
     "execution_count": 28,
     "metadata": {},
     "output_type": "execute_result"
    }
   ],
   "source": [
    "inv(R)*Q' == inv(A) # should be true"
   ]
  },
  {
   "cell_type": "markdown",
   "metadata": {},
   "source": [
    "## Back susbstitution"
   ]
  },
  {
   "cell_type": "code",
   "execution_count": 6,
   "metadata": {},
   "outputs": [],
   "source": [
    "function back_subset(R, b)\n",
    "    n = length(b)\n",
    "    x = zeros(n)\n",
    "    for i = n:-1:1\n",
    "        x[i] = (b[i] - R[i, i+1:n]'*x[i+1:n]) / R[i, i]\n",
    "    end\n",
    "    return x\n",
    "end;"
   ]
  },
  {
   "cell_type": "code",
   "execution_count": 7,
   "metadata": {},
   "outputs": [
    {
     "data": {
      "text/plain": [
       "4×4 Matrix{Float64}:\n",
       " 2.36264   1.59357  0.819251   1.00068\n",
       " 0.0      -1.12719  1.14715   -0.348963\n",
       " 0.0       0.0      1.25834    0.240902\n",
       " 0.0       0.0      0.0       -0.683286"
      ]
     },
     "execution_count": 7,
     "metadata": {},
     "output_type": "execute_result"
    }
   ],
   "source": [
    "using LinearAlgebra\n",
    "R = triu(randn(4, 4))"
   ]
  },
  {
   "cell_type": "code",
   "execution_count": 8,
   "metadata": {},
   "outputs": [
    {
     "data": {
      "text/plain": [
       "4-element Vector{Float64}:\n",
       " -0.7210820681112499\n",
       "  0.747299184694974\n",
       "  1.64543656189128\n",
       "  1.0697047717090358"
      ]
     },
     "execution_count": 8,
     "metadata": {},
     "output_type": "execute_result"
    }
   ],
   "source": [
    "b = randn(4)"
   ]
  },
  {
   "cell_type": "code",
   "execution_count": 9,
   "metadata": {},
   "outputs": [
    {
     "data": {
      "text/plain": [
       "4-element Vector{Float64}:\n",
       " -1.1825371595677472\n",
       "  1.4574943096326336\n",
       "  1.607333058785967\n",
       " -1.5655299927122086"
      ]
     },
     "execution_count": 9,
     "metadata": {},
     "output_type": "execute_result"
    }
   ],
   "source": [
    "x = back_subset(R, b)"
   ]
  },
  {
   "cell_type": "code",
   "execution_count": 10,
   "metadata": {},
   "outputs": [
    {
     "data": {
      "text/plain": [
       "3.3306690738754696e-16"
      ]
     },
     "execution_count": 10,
     "metadata": {},
     "output_type": "execute_result"
    }
   ],
   "source": [
    "norm(R*x - b) # a great solution"
   ]
  },
  {
   "cell_type": "markdown",
   "metadata": {},
   "source": [
    "# Backslash notation"
   ]
  },
  {
   "cell_type": "code",
   "execution_count": 11,
   "metadata": {},
   "outputs": [],
   "source": [
    "n = 5000;"
   ]
  },
  {
   "cell_type": "code",
   "execution_count": 12,
   "metadata": {},
   "outputs": [],
   "source": [
    "A = randn(n ,n); b = randn(n);"
   ]
  },
  {
   "cell_type": "code",
   "execution_count": 14,
   "metadata": {},
   "outputs": [
    {
     "name": "stdout",
     "output_type": "stream",
     "text": [
      "  1.056904 seconds (6 allocations: 190.811 MiB, 7.65% gc time)\n"
     ]
    }
   ],
   "source": [
    "@time x1 = A\\b; # Ax = b more efficient"
   ]
  },
  {
   "cell_type": "code",
   "execution_count": 15,
   "metadata": {},
   "outputs": [
    {
     "data": {
      "text/plain": [
       "2.670316900123036e-10"
      ]
     },
     "execution_count": 15,
     "metadata": {},
     "output_type": "execute_result"
    }
   ],
   "source": [
    "norm(b - A*x1)"
   ]
  },
  {
   "cell_type": "code",
   "execution_count": 19,
   "metadata": {},
   "outputs": [
    {
     "name": "stdout",
     "output_type": "stream",
     "text": [
      "  3.233932 seconds (8 allocations: 193.253 MiB, 0.99% gc time)\n"
     ]
    }
   ],
   "source": [
    "@time x2 = inv(A)*b; # less efficient"
   ]
  },
  {
   "cell_type": "code",
   "execution_count": 20,
   "metadata": {},
   "outputs": [
    {
     "data": {
      "text/plain": [
       "3.5290177112483263e-10"
      ]
     },
     "execution_count": 20,
     "metadata": {},
     "output_type": "execute_result"
    }
   ],
   "source": [
    "norm(b - A*x2)"
   ]
  },
  {
   "cell_type": "code",
   "execution_count": null,
   "metadata": {},
   "outputs": [],
   "source": []
  },
  {
   "cell_type": "code",
   "execution_count": 25,
   "metadata": {},
   "outputs": [
    {
     "data": {
      "text/plain": [
       "5000×5000 Matrix{Float64}:\n",
       " -0.367456    0.0          0.0        …   0.0        0.0       0.0\n",
       "  0.0978132  -0.052807     0.0            0.0        0.0       0.0\n",
       "  0.843073   -0.166631     0.153235       0.0        0.0       0.0\n",
       " -1.96091     0.686934     0.128489       0.0        0.0       0.0\n",
       "  0.746024    0.205301    -0.290712       0.0        0.0       0.0\n",
       "  1.72041     0.512481     1.10282    …   0.0        0.0       0.0\n",
       " -0.803827   -1.11969     -0.300689       0.0        0.0       0.0\n",
       "  1.21513    -1.29061     -0.548889       0.0        0.0       0.0\n",
       "  1.27812    -0.42577      0.145341       0.0        0.0       0.0\n",
       " -0.702914   -0.0669835    1.13444        0.0        0.0       0.0\n",
       " -1.34272    -0.375833     1.32445    …   0.0        0.0       0.0\n",
       " -1.50206     0.790845    -1.17611        0.0        0.0       0.0\n",
       "  0.365114    1.06039     -0.0176332      0.0        0.0       0.0\n",
       "  ⋮                                   ⋱                        \n",
       " -0.517166    1.20904     -0.75564        0.0        0.0       0.0\n",
       "  0.552752   -0.190665    -0.241559       0.0        0.0       0.0\n",
       "  1.98255    -1.32227     -0.656155   …   0.0        0.0       0.0\n",
       " -1.23891     1.07584     -0.294293       0.0        0.0       0.0\n",
       " -0.355092    0.188628     0.387379       0.0        0.0       0.0\n",
       "  1.07931     0.0582871   -0.467701       0.0        0.0       0.0\n",
       "  1.69596    -1.05881      1.04745        0.0        0.0       0.0\n",
       "  1.32888     0.406176     0.964059   …   0.0        0.0       0.0\n",
       " -1.20686     0.0132522    0.338383       0.0        0.0       0.0\n",
       "  1.40489     0.915075    -0.264045      -0.471047   0.0       0.0\n",
       " -0.0754951  -0.509369     0.230521       0.732933  -0.210598  0.0\n",
       "  0.851247   -0.00581088  -0.541615       0.809844  -1.87999   0.565961"
      ]
     },
     "execution_count": 25,
     "metadata": {},
     "output_type": "execute_result"
    }
   ],
   "source": [
    "n = 5000; b = randn(n); A = tril(randn(n, n)) # if n = 10000, the difference would be larger"
   ]
  },
  {
   "cell_type": "code",
   "execution_count": 22,
   "metadata": {},
   "outputs": [
    {
     "name": "stdout",
     "output_type": "stream",
     "text": [
      "  0.017097 seconds (2 allocations: 39.141 KiB)\n"
     ]
    }
   ],
   "source": [
    "@time x1 = A\\b; # need less time"
   ]
  },
  {
   "cell_type": "code",
   "execution_count": 23,
   "metadata": {},
   "outputs": [
    {
     "data": {
      "text/plain": [
       "5000×5000 Matrix{Float64}:\n",
       " -0.154982     1.4903     -1.57723    …  -0.820221    1.50148     0.177287\n",
       " -0.463229    -1.12965     2.60107       -0.999224    1.27288     1.43001\n",
       " -0.713578    -0.974726   -0.896437       2.87314     0.632732   -1.02838\n",
       " -0.166021    -0.684588    0.0797194     -0.502581   -1.17387    -1.10184\n",
       "  1.52794      0.781744    0.138185      -0.342087   -1.1058     -0.497267\n",
       "  0.474454     1.01317     0.22559    …  -0.404937    2.61858     2.4544\n",
       " -0.0316561   -0.221103    0.0157833      0.187049    0.512904   -1.19168\n",
       "  1.66708      0.987277    0.189731      -0.816815    0.857035    1.54155\n",
       " -0.154232     0.875396   -0.176473       0.0201274  -0.679524    1.20526\n",
       " -0.881297     1.09822     0.227733       0.183342   -1.2281      0.757142\n",
       " -0.98135     -0.56607    -1.25927    …   1.1138     -0.592754   -0.996274\n",
       "  0.717894     0.620073   -0.895005       0.977969    0.743227   -1.03289\n",
       "  1.60727      1.83683    -0.5264         0.0893895  -0.385754    1.72741\n",
       "  ⋮                                   ⋱                          \n",
       " -0.969375     0.811929    1.06217        2.01331     0.563561    1.73972\n",
       "  1.54337     -0.0875371  -1.40419        0.27073    -0.403117   -0.471858\n",
       " -1.48516     -1.09115     0.0917864  …  -1.31443    -0.851106    1.78674\n",
       "  1.10243     -1.74738    -0.103934       0.0193008  -0.0626267   0.977945\n",
       "  1.78756      0.871642   -1.93712       -2.06751    -0.443674   -1.80333\n",
       " -0.490332    -0.152577   -0.582632       0.380262    0.79521    -0.746488\n",
       "  0.00905696   0.990272   -0.43829        0.471805   -1.73195    -0.284129\n",
       " -1.88638     -0.0493863   0.916869   …   1.24483    -1.07016    -0.407077\n",
       "  0.893016     0.848758   -0.0703639     -0.569785    1.8495      0.977225\n",
       "  0.750313     0.513837    0.0353852      1.25913     1.16035    -1.80303\n",
       " -0.371836     1.12488     0.627127      -0.492292   -1.75738    -0.97283\n",
       "  0.840078    -0.158223    0.703119       0.497191    0.309716   -1.02069"
      ]
     },
     "execution_count": 23,
     "metadata": {},
     "output_type": "execute_result"
    }
   ],
   "source": [
    "A = randn(n ,n)"
   ]
  },
  {
   "cell_type": "code",
   "execution_count": 24,
   "metadata": {},
   "outputs": [
    {
     "name": "stdout",
     "output_type": "stream",
     "text": [
      "  0.983830 seconds (6 allocations: 190.811 MiB)\n"
     ]
    }
   ],
   "source": [
    "@time x1 = A\\b; # need more time"
   ]
  },
  {
   "cell_type": "markdown",
   "metadata": {},
   "source": [
    "# Factor-solved methods for multiple right-hand sides"
   ]
  },
  {
   "cell_type": "code",
   "execution_count": 26,
   "metadata": {},
   "outputs": [],
   "source": [
    "n = 5000;"
   ]
  },
  {
   "cell_type": "code",
   "execution_count": 27,
   "metadata": {},
   "outputs": [],
   "source": [
    "A = randn(n, n); B = randn(n, 2);"
   ]
  },
  {
   "cell_type": "code",
   "execution_count": 29,
   "metadata": {},
   "outputs": [
    {
     "name": "stdout",
     "output_type": "stream",
     "text": [
      "  1.004875 seconds (9 allocations: 190.850 MiB, 2.49% gc time)\n"
     ]
    }
   ],
   "source": [
    "@time x1 = A\\B[:, 1];"
   ]
  },
  {
   "cell_type": "code",
   "execution_count": 30,
   "metadata": {},
   "outputs": [
    {
     "name": "stdout",
     "output_type": "stream",
     "text": [
      "  1.112572 seconds (9 allocations: 190.850 MiB)\n"
     ]
    }
   ],
   "source": [
    "@time x2 = A\\B[:, 2];"
   ]
  },
  {
   "cell_type": "code",
   "execution_count": 31,
   "metadata": {},
   "outputs": [
    {
     "name": "stdout",
     "output_type": "stream",
     "text": [
      "  2.127701 seconds (428.60 k allocations: 406.856 MiB, 3.01% gc time, 2.85% compilation time)\n"
     ]
    }
   ],
   "source": [
    "@time X = [ A\\B[:, 1] A\\B[:, 2] ];"
   ]
  },
  {
   "cell_type": "code",
   "execution_count": 34,
   "metadata": {},
   "outputs": [
    {
     "name": "stdout",
     "output_type": "stream",
     "text": [
      "  1.092847 seconds (6 allocations: 190.850 MiB, 12.38% gc time)\n"
     ]
    }
   ],
   "source": [
    "@time X = A\\B; # more efficient"
   ]
  },
  {
   "cell_type": "markdown",
   "metadata": {},
   "source": [
    "# part4 Polynomial interpolation"
   ]
  },
  {
   "cell_type": "code",
   "execution_count": 35,
   "metadata": {},
   "outputs": [
    {
     "data": {
      "text/plain": [
       "4-element Vector{Float64}:\n",
       " -1.1\n",
       " -0.4\n",
       "  0.2\n",
       "  0.8"
      ]
     },
     "execution_count": 35,
     "metadata": {},
     "output_type": "execute_result"
    }
   ],
   "source": [
    "t = [-1.1, -0.4, 0.2, 0.8]"
   ]
  },
  {
   "cell_type": "code",
   "execution_count": 36,
   "metadata": {},
   "outputs": [
    {
     "data": {
      "text/plain": [
       "4×4 Matrix{Float64}:\n",
       " 1.0  -1.1  1.21  -1.331\n",
       " 1.0  -0.4  0.16  -0.064\n",
       " 1.0   0.2  0.04   0.008\n",
       " 1.0   0.8  0.64   0.512"
      ]
     },
     "execution_count": 36,
     "metadata": {},
     "output_type": "execute_result"
    }
   ],
   "source": [
    "using VMLS\n",
    "A = vandermonde(t, 4)"
   ]
  },
  {
   "cell_type": "code",
   "execution_count": 38,
   "metadata": {},
   "outputs": [],
   "source": [
    "b1 = [-1.0, 1.3, 1.0, 0.5];"
   ]
  },
  {
   "cell_type": "code",
   "execution_count": 39,
   "metadata": {},
   "outputs": [
    {
     "data": {
      "text/plain": [
       "4-element Vector{Float64}:\n",
       "  1.2109568793779317\n",
       " -0.8883105198894669\n",
       " -1.1096651886125566\n",
       "  1.3864790180579647"
      ]
     },
     "execution_count": 39,
     "metadata": {},
     "output_type": "execute_result"
    }
   ],
   "source": [
    "c1 = A\\b1"
   ]
  },
  {
   "cell_type": "code",
   "execution_count": 45,
   "metadata": {},
   "outputs": [
    {
     "data": {
      "image/svg+xml": [
       "<?xml version=\"1.0\" encoding=\"utf-8\"?>\n",
       "<svg xmlns=\"http://www.w3.org/2000/svg\" xmlns:xlink=\"http://www.w3.org/1999/xlink\" width=\"600\" height=\"400\" viewBox=\"0 0 2400 1600\">\n",
       "<defs>\n",
       "  <clipPath id=\"clip780\">\n",
       "    <rect x=\"0\" y=\"0\" width=\"2400\" height=\"1600\"/>\n",
       "  </clipPath>\n",
       "</defs>\n",
       "<path clip-path=\"url(#clip780)\" d=\"\n",
       "M0 1600 L2400 1600 L2400 0 L0 0  Z\n",
       "  \" fill=\"#ffffff\" fill-rule=\"evenodd\" fill-opacity=\"1\"/>\n",
       "<defs>\n",
       "  <clipPath id=\"clip781\">\n",
       "    <rect x=\"480\" y=\"0\" width=\"1681\" height=\"1600\"/>\n",
       "  </clipPath>\n",
       "</defs>\n",
       "<path clip-path=\"url(#clip780)\" d=\"\n",
       "M193.936 1486.45 L2352.76 1486.45 L2352.76 47.2441 L193.936 47.2441  Z\n",
       "  \" fill=\"#ffffff\" fill-rule=\"evenodd\" fill-opacity=\"1\"/>\n",
       "<defs>\n",
       "  <clipPath id=\"clip782\">\n",
       "    <rect x=\"193\" y=\"47\" width=\"2160\" height=\"1440\"/>\n",
       "  </clipPath>\n",
       "</defs>\n",
       "<polyline clip-path=\"url(#clip782)\" style=\"stroke:#000000; stroke-linecap:butt; stroke-linejoin:round; stroke-width:2; stroke-opacity:0.1; fill:none\" points=\"\n",
       "  424.753,1486.45 424.753,47.2441 \n",
       "  \"/>\n",
       "<polyline clip-path=\"url(#clip782)\" style=\"stroke:#000000; stroke-linecap:butt; stroke-linejoin:round; stroke-width:2; stroke-opacity:0.1; fill:none\" points=\"\n",
       "  849.05,1486.45 849.05,47.2441 \n",
       "  \"/>\n",
       "<polyline clip-path=\"url(#clip782)\" style=\"stroke:#000000; stroke-linecap:butt; stroke-linejoin:round; stroke-width:2; stroke-opacity:0.1; fill:none\" points=\"\n",
       "  1273.35,1486.45 1273.35,47.2441 \n",
       "  \"/>\n",
       "<polyline clip-path=\"url(#clip782)\" style=\"stroke:#000000; stroke-linecap:butt; stroke-linejoin:round; stroke-width:2; stroke-opacity:0.1; fill:none\" points=\"\n",
       "  1697.64,1486.45 1697.64,47.2441 \n",
       "  \"/>\n",
       "<polyline clip-path=\"url(#clip782)\" style=\"stroke:#000000; stroke-linecap:butt; stroke-linejoin:round; stroke-width:2; stroke-opacity:0.1; fill:none\" points=\"\n",
       "  2121.94,1486.45 2121.94,47.2441 \n",
       "  \"/>\n",
       "<polyline clip-path=\"url(#clip780)\" style=\"stroke:#000000; stroke-linecap:butt; stroke-linejoin:round; stroke-width:4; stroke-opacity:1; fill:none\" points=\"\n",
       "  193.936,1486.45 2352.76,1486.45 \n",
       "  \"/>\n",
       "<polyline clip-path=\"url(#clip780)\" style=\"stroke:#000000; stroke-linecap:butt; stroke-linejoin:round; stroke-width:4; stroke-opacity:1; fill:none\" points=\"\n",
       "  424.753,1486.45 424.753,1467.55 \n",
       "  \"/>\n",
       "<polyline clip-path=\"url(#clip780)\" style=\"stroke:#000000; stroke-linecap:butt; stroke-linejoin:round; stroke-width:4; stroke-opacity:1; fill:none\" points=\"\n",
       "  849.05,1486.45 849.05,1467.55 \n",
       "  \"/>\n",
       "<polyline clip-path=\"url(#clip780)\" style=\"stroke:#000000; stroke-linecap:butt; stroke-linejoin:round; stroke-width:4; stroke-opacity:1; fill:none\" points=\"\n",
       "  1273.35,1486.45 1273.35,1467.55 \n",
       "  \"/>\n",
       "<polyline clip-path=\"url(#clip780)\" style=\"stroke:#000000; stroke-linecap:butt; stroke-linejoin:round; stroke-width:4; stroke-opacity:1; fill:none\" points=\"\n",
       "  1697.64,1486.45 1697.64,1467.55 \n",
       "  \"/>\n",
       "<polyline clip-path=\"url(#clip780)\" style=\"stroke:#000000; stroke-linecap:butt; stroke-linejoin:round; stroke-width:4; stroke-opacity:1; fill:none\" points=\"\n",
       "  2121.94,1486.45 2121.94,1467.55 \n",
       "  \"/>\n",
       "<path clip-path=\"url(#clip780)\" d=\"M371.281 1532.02 L400.957 1532.02 L400.957 1535.95 L371.281 1535.95 L371.281 1532.02 Z\" fill=\"#000000\" fill-rule=\"evenodd\" fill-opacity=\"1\" /><path clip-path=\"url(#clip780)\" d=\"M411.86 1544.91 L419.499 1544.91 L419.499 1518.55 L411.188 1520.21 L411.188 1515.95 L419.452 1514.29 L424.128 1514.29 L424.128 1544.91 L431.767 1544.91 L431.767 1548.85 L411.86 1548.85 L411.86 1544.91 Z\" fill=\"#000000\" fill-rule=\"evenodd\" fill-opacity=\"1\" /><path clip-path=\"url(#clip780)\" d=\"M441.211 1542.97 L446.096 1542.97 L446.096 1548.85 L441.211 1548.85 L441.211 1542.97 Z\" fill=\"#000000\" fill-rule=\"evenodd\" fill-opacity=\"1\" /><path clip-path=\"url(#clip780)\" d=\"M466.281 1517.37 Q462.67 1517.37 460.841 1520.93 Q459.035 1524.47 459.035 1531.6 Q459.035 1538.71 460.841 1542.27 Q462.67 1545.82 466.281 1545.82 Q469.915 1545.82 471.721 1542.27 Q473.549 1538.71 473.549 1531.6 Q473.549 1524.47 471.721 1520.93 Q469.915 1517.37 466.281 1517.37 M466.281 1513.66 Q472.091 1513.66 475.146 1518.27 Q478.225 1522.85 478.225 1531.6 Q478.225 1540.33 475.146 1544.94 Q472.091 1549.52 466.281 1549.52 Q460.471 1549.52 457.392 1544.94 Q454.336 1540.33 454.336 1531.6 Q454.336 1522.85 457.392 1518.27 Q460.471 1513.66 466.281 1513.66 Z\" fill=\"#000000\" fill-rule=\"evenodd\" fill-opacity=\"1\" /><path clip-path=\"url(#clip780)\" d=\"M796.075 1532.02 L825.751 1532.02 L825.751 1535.95 L796.075 1535.95 L796.075 1532.02 Z\" fill=\"#000000\" fill-rule=\"evenodd\" fill-opacity=\"1\" /><path clip-path=\"url(#clip780)\" d=\"M845.844 1517.37 Q842.232 1517.37 840.404 1520.93 Q838.598 1524.47 838.598 1531.6 Q838.598 1538.71 840.404 1542.27 Q842.232 1545.82 845.844 1545.82 Q849.478 1545.82 851.283 1542.27 Q853.112 1538.71 853.112 1531.6 Q853.112 1524.47 851.283 1520.93 Q849.478 1517.37 845.844 1517.37 M845.844 1513.66 Q851.654 1513.66 854.709 1518.27 Q857.788 1522.85 857.788 1531.6 Q857.788 1540.33 854.709 1544.94 Q851.654 1549.52 845.844 1549.52 Q840.033 1549.52 836.955 1544.94 Q833.899 1540.33 833.899 1531.6 Q833.899 1522.85 836.955 1518.27 Q840.033 1513.66 845.844 1513.66 Z\" fill=\"#000000\" fill-rule=\"evenodd\" fill-opacity=\"1\" /><path clip-path=\"url(#clip780)\" d=\"M866.006 1542.97 L870.89 1542.97 L870.89 1548.85 L866.006 1548.85 L866.006 1542.97 Z\" fill=\"#000000\" fill-rule=\"evenodd\" fill-opacity=\"1\" /><path clip-path=\"url(#clip780)\" d=\"M881.121 1514.29 L899.478 1514.29 L899.478 1518.22 L885.404 1518.22 L885.404 1526.7 Q886.422 1526.35 887.441 1526.19 Q888.459 1526 889.478 1526 Q895.265 1526 898.644 1529.17 Q902.024 1532.34 902.024 1537.76 Q902.024 1543.34 898.552 1546.44 Q895.079 1549.52 888.76 1549.52 Q886.584 1549.52 884.316 1549.15 Q882.07 1548.78 879.663 1548.04 L879.663 1543.34 Q881.746 1544.47 883.968 1545.03 Q886.191 1545.58 888.667 1545.58 Q892.672 1545.58 895.01 1543.48 Q897.348 1541.37 897.348 1537.76 Q897.348 1534.15 895.01 1532.04 Q892.672 1529.94 888.667 1529.94 Q886.792 1529.94 884.917 1530.35 Q883.066 1530.77 881.121 1531.65 L881.121 1514.29 Z\" fill=\"#000000\" fill-rule=\"evenodd\" fill-opacity=\"1\" /><path clip-path=\"url(#clip780)\" d=\"M1250.73 1517.37 Q1247.12 1517.37 1245.29 1520.93 Q1243.49 1524.47 1243.49 1531.6 Q1243.49 1538.71 1245.29 1542.27 Q1247.12 1545.82 1250.73 1545.82 Q1254.36 1545.82 1256.17 1542.27 Q1258 1538.71 1258 1531.6 Q1258 1524.47 1256.17 1520.93 Q1254.36 1517.37 1250.73 1517.37 M1250.73 1513.66 Q1256.54 1513.66 1259.6 1518.27 Q1262.67 1522.85 1262.67 1531.6 Q1262.67 1540.33 1259.6 1544.94 Q1256.54 1549.52 1250.73 1549.52 Q1244.92 1549.52 1241.84 1544.94 Q1238.79 1540.33 1238.79 1531.6 Q1238.79 1522.85 1241.84 1518.27 Q1244.92 1513.66 1250.73 1513.66 Z\" fill=\"#000000\" fill-rule=\"evenodd\" fill-opacity=\"1\" /><path clip-path=\"url(#clip780)\" d=\"M1270.89 1542.97 L1275.78 1542.97 L1275.78 1548.85 L1270.89 1548.85 L1270.89 1542.97 Z\" fill=\"#000000\" fill-rule=\"evenodd\" fill-opacity=\"1\" /><path clip-path=\"url(#clip780)\" d=\"M1295.96 1517.37 Q1292.35 1517.37 1290.52 1520.93 Q1288.72 1524.47 1288.72 1531.6 Q1288.72 1538.71 1290.52 1542.27 Q1292.35 1545.82 1295.96 1545.82 Q1299.6 1545.82 1301.4 1542.27 Q1303.23 1538.71 1303.23 1531.6 Q1303.23 1524.47 1301.4 1520.93 Q1299.6 1517.37 1295.96 1517.37 M1295.96 1513.66 Q1301.77 1513.66 1304.83 1518.27 Q1307.91 1522.85 1307.91 1531.6 Q1307.91 1540.33 1304.83 1544.94 Q1301.77 1549.52 1295.96 1549.52 Q1290.15 1549.52 1287.07 1544.94 Q1284.02 1540.33 1284.02 1531.6 Q1284.02 1522.85 1287.07 1518.27 Q1290.15 1513.66 1295.96 1513.66 Z\" fill=\"#000000\" fill-rule=\"evenodd\" fill-opacity=\"1\" /><path clip-path=\"url(#clip780)\" d=\"M1675.52 1517.37 Q1671.91 1517.37 1670.08 1520.93 Q1668.28 1524.47 1668.28 1531.6 Q1668.28 1538.71 1670.08 1542.27 Q1671.91 1545.82 1675.52 1545.82 Q1679.16 1545.82 1680.96 1542.27 Q1682.79 1538.71 1682.79 1531.6 Q1682.79 1524.47 1680.96 1520.93 Q1679.16 1517.37 1675.52 1517.37 M1675.52 1513.66 Q1681.33 1513.66 1684.39 1518.27 Q1687.47 1522.85 1687.47 1531.6 Q1687.47 1540.33 1684.39 1544.94 Q1681.33 1549.52 1675.52 1549.52 Q1669.71 1549.52 1666.64 1544.94 Q1663.58 1540.33 1663.58 1531.6 Q1663.58 1522.85 1666.64 1518.27 Q1669.71 1513.66 1675.52 1513.66 Z\" fill=\"#000000\" fill-rule=\"evenodd\" fill-opacity=\"1\" /><path clip-path=\"url(#clip780)\" d=\"M1695.69 1542.97 L1700.57 1542.97 L1700.57 1548.85 L1695.69 1548.85 L1695.69 1542.97 Z\" fill=\"#000000\" fill-rule=\"evenodd\" fill-opacity=\"1\" /><path clip-path=\"url(#clip780)\" d=\"M1710.8 1514.29 L1729.16 1514.29 L1729.16 1518.22 L1715.08 1518.22 L1715.08 1526.7 Q1716.1 1526.35 1717.12 1526.19 Q1718.14 1526 1719.16 1526 Q1724.95 1526 1728.33 1529.17 Q1731.7 1532.34 1731.7 1537.76 Q1731.7 1543.34 1728.23 1546.44 Q1724.76 1549.52 1718.44 1549.52 Q1716.26 1549.52 1714 1549.15 Q1711.75 1548.78 1709.34 1548.04 L1709.34 1543.34 Q1711.43 1544.47 1713.65 1545.03 Q1715.87 1545.58 1718.35 1545.58 Q1722.35 1545.58 1724.69 1543.48 Q1727.03 1541.37 1727.03 1537.76 Q1727.03 1534.15 1724.69 1532.04 Q1722.35 1529.94 1718.35 1529.94 Q1716.47 1529.94 1714.6 1530.35 Q1712.75 1530.77 1710.8 1531.65 L1710.8 1514.29 Z\" fill=\"#000000\" fill-rule=\"evenodd\" fill-opacity=\"1\" /><path clip-path=\"url(#clip780)\" d=\"M2089.09 1544.91 L2096.73 1544.91 L2096.73 1518.55 L2088.42 1520.21 L2088.42 1515.95 L2096.68 1514.29 L2101.36 1514.29 L2101.36 1544.91 L2109 1544.91 L2109 1548.85 L2089.09 1548.85 L2089.09 1544.91 Z\" fill=\"#000000\" fill-rule=\"evenodd\" fill-opacity=\"1\" /><path clip-path=\"url(#clip780)\" d=\"M2118.44 1542.97 L2123.33 1542.97 L2123.33 1548.85 L2118.44 1548.85 L2118.44 1542.97 Z\" fill=\"#000000\" fill-rule=\"evenodd\" fill-opacity=\"1\" /><path clip-path=\"url(#clip780)\" d=\"M2143.51 1517.37 Q2139.9 1517.37 2138.07 1520.93 Q2136.27 1524.47 2136.27 1531.6 Q2136.27 1538.71 2138.07 1542.27 Q2139.9 1545.82 2143.51 1545.82 Q2147.15 1545.82 2148.95 1542.27 Q2150.78 1538.71 2150.78 1531.6 Q2150.78 1524.47 2148.95 1520.93 Q2147.15 1517.37 2143.51 1517.37 M2143.51 1513.66 Q2149.32 1513.66 2152.38 1518.27 Q2155.46 1522.85 2155.46 1531.6 Q2155.46 1540.33 2152.38 1544.94 Q2149.32 1549.52 2143.51 1549.52 Q2137.7 1549.52 2134.62 1544.94 Q2131.57 1540.33 2131.57 1531.6 Q2131.57 1522.85 2134.62 1518.27 Q2137.7 1513.66 2143.51 1513.66 Z\" fill=\"#000000\" fill-rule=\"evenodd\" fill-opacity=\"1\" /><polyline clip-path=\"url(#clip782)\" style=\"stroke:#000000; stroke-linecap:butt; stroke-linejoin:round; stroke-width:2; stroke-opacity:0.1; fill:none\" points=\"\n",
       "  193.936,1349.49 2352.76,1349.49 \n",
       "  \"/>\n",
       "<polyline clip-path=\"url(#clip782)\" style=\"stroke:#000000; stroke-linecap:butt; stroke-linejoin:round; stroke-width:2; stroke-opacity:0.1; fill:none\" points=\"\n",
       "  193.936,1127.6 2352.76,1127.6 \n",
       "  \"/>\n",
       "<polyline clip-path=\"url(#clip782)\" style=\"stroke:#000000; stroke-linecap:butt; stroke-linejoin:round; stroke-width:2; stroke-opacity:0.1; fill:none\" points=\"\n",
       "  193.936,905.709 2352.76,905.709 \n",
       "  \"/>\n",
       "<polyline clip-path=\"url(#clip782)\" style=\"stroke:#000000; stroke-linecap:butt; stroke-linejoin:round; stroke-width:2; stroke-opacity:0.1; fill:none\" points=\"\n",
       "  193.936,683.817 2352.76,683.817 \n",
       "  \"/>\n",
       "<polyline clip-path=\"url(#clip782)\" style=\"stroke:#000000; stroke-linecap:butt; stroke-linejoin:round; stroke-width:2; stroke-opacity:0.1; fill:none\" points=\"\n",
       "  193.936,461.925 2352.76,461.925 \n",
       "  \"/>\n",
       "<polyline clip-path=\"url(#clip782)\" style=\"stroke:#000000; stroke-linecap:butt; stroke-linejoin:round; stroke-width:2; stroke-opacity:0.1; fill:none\" points=\"\n",
       "  193.936,240.033 2352.76,240.033 \n",
       "  \"/>\n",
       "<polyline clip-path=\"url(#clip780)\" style=\"stroke:#000000; stroke-linecap:butt; stroke-linejoin:round; stroke-width:4; stroke-opacity:1; fill:none\" points=\"\n",
       "  193.936,1486.45 193.936,47.2441 \n",
       "  \"/>\n",
       "<polyline clip-path=\"url(#clip780)\" style=\"stroke:#000000; stroke-linecap:butt; stroke-linejoin:round; stroke-width:4; stroke-opacity:1; fill:none\" points=\"\n",
       "  193.936,1349.49 212.834,1349.49 \n",
       "  \"/>\n",
       "<polyline clip-path=\"url(#clip780)\" style=\"stroke:#000000; stroke-linecap:butt; stroke-linejoin:round; stroke-width:4; stroke-opacity:1; fill:none\" points=\"\n",
       "  193.936,1127.6 212.834,1127.6 \n",
       "  \"/>\n",
       "<polyline clip-path=\"url(#clip780)\" style=\"stroke:#000000; stroke-linecap:butt; stroke-linejoin:round; stroke-width:4; stroke-opacity:1; fill:none\" points=\"\n",
       "  193.936,905.709 212.834,905.709 \n",
       "  \"/>\n",
       "<polyline clip-path=\"url(#clip780)\" style=\"stroke:#000000; stroke-linecap:butt; stroke-linejoin:round; stroke-width:4; stroke-opacity:1; fill:none\" points=\"\n",
       "  193.936,683.817 212.834,683.817 \n",
       "  \"/>\n",
       "<polyline clip-path=\"url(#clip780)\" style=\"stroke:#000000; stroke-linecap:butt; stroke-linejoin:round; stroke-width:4; stroke-opacity:1; fill:none\" points=\"\n",
       "  193.936,461.925 212.834,461.925 \n",
       "  \"/>\n",
       "<polyline clip-path=\"url(#clip780)\" style=\"stroke:#000000; stroke-linecap:butt; stroke-linejoin:round; stroke-width:4; stroke-opacity:1; fill:none\" points=\"\n",
       "  193.936,240.033 212.834,240.033 \n",
       "  \"/>\n",
       "<path clip-path=\"url(#clip780)\" d=\"M51.9875 1349.94 L81.6633 1349.94 L81.6633 1353.88 L51.9875 1353.88 L51.9875 1349.94 Z\" fill=\"#000000\" fill-rule=\"evenodd\" fill-opacity=\"1\" /><path clip-path=\"url(#clip780)\" d=\"M92.566 1362.84 L100.205 1362.84 L100.205 1336.47 L91.8947 1338.14 L91.8947 1333.88 L100.159 1332.21 L104.834 1332.21 L104.834 1362.84 L112.473 1362.84 L112.473 1366.77 L92.566 1366.77 L92.566 1362.84 Z\" fill=\"#000000\" fill-rule=\"evenodd\" fill-opacity=\"1\" /><path clip-path=\"url(#clip780)\" d=\"M121.918 1360.89 L126.802 1360.89 L126.802 1366.77 L121.918 1366.77 L121.918 1360.89 Z\" fill=\"#000000\" fill-rule=\"evenodd\" fill-opacity=\"1\" /><path clip-path=\"url(#clip780)\" d=\"M137.033 1332.21 L155.39 1332.21 L155.39 1336.15 L141.316 1336.15 L141.316 1344.62 Q142.334 1344.27 143.353 1344.11 Q144.371 1343.93 145.39 1343.93 Q151.177 1343.93 154.556 1347.1 Q157.936 1350.27 157.936 1355.68 Q157.936 1361.26 154.464 1364.37 Q150.992 1367.44 144.672 1367.44 Q142.496 1367.44 140.228 1367.07 Q137.982 1366.7 135.575 1365.96 L135.575 1361.26 Q137.658 1362.4 139.881 1362.95 Q142.103 1363.51 144.58 1363.51 Q148.584 1363.51 150.922 1361.4 Q153.26 1359.3 153.26 1355.68 Q153.26 1352.07 150.922 1349.97 Q148.584 1347.86 144.58 1347.86 Q142.705 1347.86 140.83 1348.28 Q138.978 1348.69 137.033 1349.57 L137.033 1332.21 Z\" fill=\"#000000\" fill-rule=\"evenodd\" fill-opacity=\"1\" /><path clip-path=\"url(#clip780)\" d=\"M50.9921 1128.05 L80.6679 1128.05 L80.6679 1131.99 L50.9921 1131.99 L50.9921 1128.05 Z\" fill=\"#000000\" fill-rule=\"evenodd\" fill-opacity=\"1\" /><path clip-path=\"url(#clip780)\" d=\"M91.5706 1140.95 L99.2095 1140.95 L99.2095 1114.58 L90.8993 1116.25 L90.8993 1111.99 L99.1632 1110.32 L103.839 1110.32 L103.839 1140.95 L111.478 1140.95 L111.478 1144.88 L91.5706 1144.88 L91.5706 1140.95 Z\" fill=\"#000000\" fill-rule=\"evenodd\" fill-opacity=\"1\" /><path clip-path=\"url(#clip780)\" d=\"M120.922 1139 L125.807 1139 L125.807 1144.88 L120.922 1144.88 L120.922 1139 Z\" fill=\"#000000\" fill-rule=\"evenodd\" fill-opacity=\"1\" /><path clip-path=\"url(#clip780)\" d=\"M145.992 1113.4 Q142.381 1113.4 140.552 1116.96 Q138.746 1120.51 138.746 1127.64 Q138.746 1134.74 140.552 1138.31 Q142.381 1141.85 145.992 1141.85 Q149.626 1141.85 151.431 1138.31 Q153.26 1134.74 153.26 1127.64 Q153.26 1120.51 151.431 1116.96 Q149.626 1113.4 145.992 1113.4 M145.992 1109.7 Q151.802 1109.7 154.857 1114.3 Q157.936 1118.89 157.936 1127.64 Q157.936 1136.36 154.857 1140.97 Q151.802 1145.55 145.992 1145.55 Q140.181 1145.55 137.103 1140.97 Q134.047 1136.36 134.047 1127.64 Q134.047 1118.89 137.103 1114.3 Q140.181 1109.7 145.992 1109.7 Z\" fill=\"#000000\" fill-rule=\"evenodd\" fill-opacity=\"1\" /><path clip-path=\"url(#clip780)\" d=\"M51.9875 906.16 L81.6633 906.16 L81.6633 910.095 L51.9875 910.095 L51.9875 906.16 Z\" fill=\"#000000\" fill-rule=\"evenodd\" fill-opacity=\"1\" /><path clip-path=\"url(#clip780)\" d=\"M101.756 891.507 Q98.1447 891.507 96.316 895.072 Q94.5104 898.614 94.5104 905.743 Q94.5104 912.85 96.316 916.415 Q98.1447 919.956 101.756 919.956 Q105.39 919.956 107.196 916.415 Q109.024 912.85 109.024 905.743 Q109.024 898.614 107.196 895.072 Q105.39 891.507 101.756 891.507 M101.756 887.804 Q107.566 887.804 110.621 892.41 Q113.7 896.993 113.7 905.743 Q113.7 914.47 110.621 919.077 Q107.566 923.66 101.756 923.66 Q95.9456 923.66 92.8669 919.077 Q89.8114 914.47 89.8114 905.743 Q89.8114 896.993 92.8669 892.41 Q95.9456 887.804 101.756 887.804 Z\" fill=\"#000000\" fill-rule=\"evenodd\" fill-opacity=\"1\" /><path clip-path=\"url(#clip780)\" d=\"M121.918 917.109 L126.802 917.109 L126.802 922.989 L121.918 922.989 L121.918 917.109 Z\" fill=\"#000000\" fill-rule=\"evenodd\" fill-opacity=\"1\" /><path clip-path=\"url(#clip780)\" d=\"M137.033 888.429 L155.39 888.429 L155.39 892.364 L141.316 892.364 L141.316 900.836 Q142.334 900.489 143.353 900.327 Q144.371 900.142 145.39 900.142 Q151.177 900.142 154.556 903.313 Q157.936 906.484 157.936 911.901 Q157.936 917.479 154.464 920.581 Q150.992 923.66 144.672 923.66 Q142.496 923.66 140.228 923.29 Q137.982 922.919 135.575 922.178 L135.575 917.479 Q137.658 918.614 139.881 919.169 Q142.103 919.725 144.58 919.725 Q148.584 919.725 150.922 917.618 Q153.26 915.512 153.26 911.901 Q153.26 908.29 150.922 906.183 Q148.584 904.077 144.58 904.077 Q142.705 904.077 140.83 904.493 Q138.978 904.91 137.033 905.79 L137.033 888.429 Z\" fill=\"#000000\" fill-rule=\"evenodd\" fill-opacity=\"1\" /><path clip-path=\"url(#clip780)\" d=\"M100.76 669.615 Q97.1493 669.615 95.3206 673.18 Q93.515 676.722 93.515 683.851 Q93.515 690.958 95.3206 694.523 Q97.1493 698.064 100.76 698.064 Q104.395 698.064 106.2 694.523 Q108.029 690.958 108.029 683.851 Q108.029 676.722 106.2 673.18 Q104.395 669.615 100.76 669.615 M100.76 665.912 Q106.571 665.912 109.626 670.518 Q112.705 675.101 112.705 683.851 Q112.705 692.578 109.626 697.185 Q106.571 701.768 100.76 701.768 Q94.9502 701.768 91.8715 697.185 Q88.816 692.578 88.816 683.851 Q88.816 675.101 91.8715 670.518 Q94.9502 665.912 100.76 665.912 Z\" fill=\"#000000\" fill-rule=\"evenodd\" fill-opacity=\"1\" /><path clip-path=\"url(#clip780)\" d=\"M120.922 695.217 L125.807 695.217 L125.807 701.097 L120.922 701.097 L120.922 695.217 Z\" fill=\"#000000\" fill-rule=\"evenodd\" fill-opacity=\"1\" /><path clip-path=\"url(#clip780)\" d=\"M145.992 669.615 Q142.381 669.615 140.552 673.18 Q138.746 676.722 138.746 683.851 Q138.746 690.958 140.552 694.523 Q142.381 698.064 145.992 698.064 Q149.626 698.064 151.431 694.523 Q153.26 690.958 153.26 683.851 Q153.26 676.722 151.431 673.18 Q149.626 669.615 145.992 669.615 M145.992 665.912 Q151.802 665.912 154.857 670.518 Q157.936 675.101 157.936 683.851 Q157.936 692.578 154.857 697.185 Q151.802 701.768 145.992 701.768 Q140.181 701.768 137.103 697.185 Q134.047 692.578 134.047 683.851 Q134.047 675.101 137.103 670.518 Q140.181 665.912 145.992 665.912 Z\" fill=\"#000000\" fill-rule=\"evenodd\" fill-opacity=\"1\" /><path clip-path=\"url(#clip780)\" d=\"M101.756 447.723 Q98.1447 447.723 96.316 451.288 Q94.5104 454.83 94.5104 461.959 Q94.5104 469.066 96.316 472.631 Q98.1447 476.172 101.756 476.172 Q105.39 476.172 107.196 472.631 Q109.024 469.066 109.024 461.959 Q109.024 454.83 107.196 451.288 Q105.39 447.723 101.756 447.723 M101.756 444.02 Q107.566 444.02 110.621 448.626 Q113.7 453.209 113.7 461.959 Q113.7 470.686 110.621 475.293 Q107.566 479.876 101.756 479.876 Q95.9456 479.876 92.8669 475.293 Q89.8114 470.686 89.8114 461.959 Q89.8114 453.209 92.8669 448.626 Q95.9456 444.02 101.756 444.02 Z\" fill=\"#000000\" fill-rule=\"evenodd\" fill-opacity=\"1\" /><path clip-path=\"url(#clip780)\" d=\"M121.918 473.325 L126.802 473.325 L126.802 479.205 L121.918 479.205 L121.918 473.325 Z\" fill=\"#000000\" fill-rule=\"evenodd\" fill-opacity=\"1\" /><path clip-path=\"url(#clip780)\" d=\"M137.033 444.645 L155.39 444.645 L155.39 448.58 L141.316 448.58 L141.316 457.052 Q142.334 456.705 143.353 456.543 Q144.371 456.358 145.39 456.358 Q151.177 456.358 154.556 459.529 Q157.936 462.7 157.936 468.117 Q157.936 473.695 154.464 476.797 Q150.992 479.876 144.672 479.876 Q142.496 479.876 140.228 479.506 Q137.982 479.135 135.575 478.394 L135.575 473.695 Q137.658 474.83 139.881 475.385 Q142.103 475.941 144.58 475.941 Q148.584 475.941 150.922 473.834 Q153.26 471.728 153.26 468.117 Q153.26 464.506 150.922 462.399 Q148.584 460.293 144.58 460.293 Q142.705 460.293 140.83 460.709 Q138.978 461.126 137.033 462.006 L137.033 444.645 Z\" fill=\"#000000\" fill-rule=\"evenodd\" fill-opacity=\"1\" /><path clip-path=\"url(#clip780)\" d=\"M91.5706 253.378 L99.2095 253.378 L99.2095 227.012 L90.8993 228.679 L90.8993 224.419 L99.1632 222.753 L103.839 222.753 L103.839 253.378 L111.478 253.378 L111.478 257.313 L91.5706 257.313 L91.5706 253.378 Z\" fill=\"#000000\" fill-rule=\"evenodd\" fill-opacity=\"1\" /><path clip-path=\"url(#clip780)\" d=\"M120.922 251.433 L125.807 251.433 L125.807 257.313 L120.922 257.313 L120.922 251.433 Z\" fill=\"#000000\" fill-rule=\"evenodd\" fill-opacity=\"1\" /><path clip-path=\"url(#clip780)\" d=\"M145.992 225.831 Q142.381 225.831 140.552 229.396 Q138.746 232.938 138.746 240.067 Q138.746 247.174 140.552 250.739 Q142.381 254.28 145.992 254.28 Q149.626 254.28 151.431 250.739 Q153.26 247.174 153.26 240.067 Q153.26 232.938 151.431 229.396 Q149.626 225.831 145.992 225.831 M145.992 222.128 Q151.802 222.128 154.857 226.734 Q157.936 231.317 157.936 240.067 Q157.936 248.794 154.857 253.401 Q151.802 257.984 145.992 257.984 Q140.181 257.984 137.103 253.401 Q134.047 248.794 134.047 240.067 Q134.047 231.317 137.103 226.734 Q140.181 222.128 145.992 222.128 Z\" fill=\"#000000\" fill-rule=\"evenodd\" fill-opacity=\"1\" /><polyline clip-path=\"url(#clip782)\" style=\"stroke:#009af9; stroke-linecap:butt; stroke-linejoin:round; stroke-width:4; stroke-opacity:1; fill:none\" points=\"\n",
       "  255.035,1445.72 257.073,1437.45 259.112,1429.22 261.151,1421.02 263.189,1412.85 265.228,1404.71 267.267,1396.61 269.305,1388.53 271.344,1380.49 273.383,1372.47 \n",
       "  275.421,1364.49 277.46,1356.54 279.499,1348.61 281.537,1340.72 283.576,1332.86 285.615,1325.03 287.653,1317.23 289.692,1309.46 291.731,1301.72 293.769,1294.01 \n",
       "  295.808,1286.34 297.847,1278.69 299.885,1271.07 301.924,1263.48 303.963,1255.92 306.001,1248.4 308.04,1240.9 310.079,1233.43 312.117,1225.99 314.156,1218.59 \n",
       "  316.195,1211.21 318.233,1203.86 320.272,1196.54 322.31,1189.25 324.349,1181.99 326.388,1174.76 328.426,1167.56 330.465,1160.39 332.504,1153.25 334.542,1146.13 \n",
       "  336.581,1139.05 338.62,1131.99 340.658,1124.97 342.697,1117.97 344.736,1111.01 346.774,1104.07 348.813,1097.16 350.852,1090.28 352.89,1083.43 354.929,1076.61 \n",
       "  356.968,1069.81 359.006,1063.05 361.045,1056.31 363.084,1049.6 365.122,1042.92 367.161,1036.27 369.2,1029.65 371.238,1023.06 373.277,1016.49 375.316,1009.95 \n",
       "  377.354,1003.44 379.393,996.963 381.432,990.51 383.47,984.085 385.509,977.689 387.548,971.32 389.586,964.979 391.625,958.666 393.664,952.381 395.702,946.124 \n",
       "  397.741,939.894 399.78,933.692 401.818,927.518 403.857,921.371 405.896,915.252 407.934,909.16 409.973,903.096 412.012,897.059 414.05,891.049 416.089,885.067 \n",
       "  418.128,879.111 420.166,873.183 422.205,867.282 424.244,861.408 426.282,855.562 428.321,849.742 430.36,843.949 432.398,838.182 434.437,832.443 436.476,826.73 \n",
       "  438.514,821.044 440.553,815.385 442.592,809.752 444.63,804.146 446.669,798.567 448.707,793.013 450.746,787.487 452.785,781.986 454.823,776.512 456.862,771.064 \n",
       "  458.901,765.642 460.939,760.246 462.978,754.877 465.017,749.533 467.055,744.216 469.094,738.924 471.133,733.658 473.171,728.419 475.21,723.204 477.249,718.016 \n",
       "  479.287,712.853 481.326,707.716 483.365,702.605 485.403,697.519 487.442,692.458 489.481,687.423 491.519,682.413 493.558,677.429 495.597,672.469 497.635,667.535 \n",
       "  499.674,662.627 501.713,657.743 503.751,652.884 505.79,648.051 507.829,643.242 509.867,638.458 511.906,633.699 513.945,628.965 515.983,624.256 518.022,619.571 \n",
       "  520.061,614.911 522.099,610.276 524.138,605.665 526.177,601.078 528.215,596.516 530.254,591.979 532.293,587.466 534.331,582.977 536.37,578.512 538.409,574.072 \n",
       "  540.447,569.655 542.486,565.263 544.525,560.895 546.563,556.55 548.602,552.23 550.641,547.934 552.679,543.661 554.718,539.412 556.757,535.187 558.795,530.986 \n",
       "  560.834,526.808 562.873,522.654 564.911,518.523 566.95,514.416 568.989,510.332 571.027,506.272 573.066,502.235 575.104,498.221 577.143,494.23 579.182,490.263 \n",
       "  581.22,486.318 583.259,482.397 585.298,478.499 587.336,474.624 589.375,470.771 591.414,466.942 593.452,463.135 595.491,459.351 597.53,455.59 599.568,451.851 \n",
       "  601.607,448.135 603.646,444.442 605.684,440.771 607.723,437.122 609.762,433.496 611.8,429.892 613.839,426.311 615.878,422.752 617.916,419.215 619.955,415.7 \n",
       "  621.994,412.207 624.032,408.736 626.071,405.287 628.11,401.861 630.148,398.456 632.187,395.073 634.226,391.711 636.264,388.372 638.303,385.054 640.342,381.757 \n",
       "  642.38,378.483 644.419,375.23 646.458,371.998 648.496,368.788 650.535,365.599 652.574,362.431 654.612,359.285 656.651,356.16 658.69,353.056 660.728,349.973 \n",
       "  662.767,346.911 664.806,343.87 666.844,340.851 668.883,337.852 670.922,334.874 672.96,331.917 674.999,328.98 677.038,326.065 679.076,323.169 681.115,320.295 \n",
       "  683.154,317.441 685.192,314.608 687.231,311.795 689.27,309.002 691.308,306.23 693.347,303.478 695.385,300.747 697.424,298.035 699.463,295.344 701.501,292.673 \n",
       "  703.54,290.021 705.579,287.39 707.617,284.779 709.656,282.188 711.695,279.616 713.733,277.065 715.772,274.533 717.811,272.02 719.849,269.528 721.888,267.055 \n",
       "  723.927,264.601 725.965,262.167 728.004,259.752 730.043,257.357 732.081,254.981 734.12,252.624 736.159,250.287 738.197,247.969 740.236,245.67 742.275,243.389 \n",
       "  744.313,241.128 746.352,238.886 748.391,236.663 750.429,234.459 752.468,232.273 754.507,230.107 756.545,227.959 758.584,225.829 760.623,223.719 762.661,221.626 \n",
       "  764.7,219.553 766.739,217.497 768.777,215.461 770.816,213.442 772.855,211.442 774.893,209.46 776.932,207.496 778.971,205.551 781.009,203.623 783.048,201.714 \n",
       "  785.087,199.823 787.125,197.949 789.164,196.093 791.203,194.256 793.241,192.436 795.28,190.634 797.319,188.849 799.357,187.082 801.396,185.333 803.435,183.601 \n",
       "  805.473,181.887 807.512,180.19 809.551,178.51 811.589,176.848 813.628,175.203 815.667,173.576 817.705,171.965 819.744,170.372 821.782,168.796 823.821,167.237 \n",
       "  825.86,165.694 827.898,164.169 829.937,162.66 831.976,161.169 834.014,159.694 836.053,158.236 838.092,156.794 840.13,155.369 842.169,153.961 844.208,152.569 \n",
       "  846.246,151.194 848.285,149.835 850.324,148.492 852.362,147.166 854.401,145.856 856.44,144.562 858.478,143.284 860.517,142.023 862.556,140.777 864.594,139.548 \n",
       "  866.633,138.334 868.672,137.136 870.71,135.955 872.749,134.789 874.788,133.638 876.826,132.504 878.865,131.385 880.904,130.281 882.942,129.193 884.981,128.121 \n",
       "  887.02,127.064 889.058,126.023 891.097,124.996 893.136,123.985 895.174,122.99 897.213,122.009 899.252,121.044 901.29,120.094 903.329,119.158 905.368,118.238 \n",
       "  907.406,117.333 909.445,116.442 911.484,115.566 913.522,114.706 915.561,113.859 917.6,113.028 919.638,112.211 921.677,111.409 923.716,110.621 925.754,109.847 \n",
       "  927.793,109.088 929.832,108.344 931.87,107.614 933.909,106.897 935.948,106.196 937.986,105.508 940.025,104.834 942.064,104.175 944.102,103.529 946.141,102.898 \n",
       "  948.179,102.28 950.218,101.676 952.257,101.086 954.295,100.51 956.334,99.9476 958.373,99.3987 960.411,98.8634 962.45,98.3416 964.489,97.8333 966.527,97.3384 \n",
       "  968.566,96.857 970.605,96.3888 972.643,95.934 974.682,95.4924 976.721,95.064 978.759,94.6487 980.798,94.2465 982.837,93.8573 984.875,93.4811 986.914,93.1178 \n",
       "  988.953,92.7674 990.991,92.4298 993.03,92.105 995.069,91.793 997.107,91.4936 999.146,91.2068 1001.18,90.9326 1003.22,90.6709 1005.26,90.4216 1007.3,90.1848 \n",
       "  1009.34,89.9604 1011.38,89.7482 1013.42,89.5484 1015.46,89.3607 1017.49,89.1852 1019.53,89.0218 1021.57,88.8705 1023.61,88.7311 1025.65,88.6038 1027.69,88.4883 \n",
       "  1029.73,88.3847 1031.76,88.2929 1033.8,88.2128 1035.84,88.1444 1037.88,88.0877 1039.92,88.0426 1041.96,88.009 1044,87.9869 1046.04,87.9763 1048.07,87.977 \n",
       "  1050.11,87.9891 1052.15,88.0125 1054.19,88.0471 1056.23,88.0929 1058.27,88.1499 1060.31,88.2179 1062.34,88.297 1064.38,88.387 1066.42,88.488 1068.46,88.5998 \n",
       "  1070.5,88.7225 1072.54,88.856 1074.58,89.0002 1076.62,89.155 1078.65,89.3205 1080.69,89.4966 1082.73,89.6832 1084.77,89.8802 1086.81,90.0877 1088.85,90.3055 \n",
       "  1090.89,90.5337 1092.92,90.7721 1094.96,91.0208 1097,91.2796 1099.04,91.5485 1101.08,91.8274 1103.12,92.1164 1105.16,92.4154 1107.2,92.7242 1109.23,93.0429 \n",
       "  1111.27,93.3714 1113.31,93.7097 1115.35,94.0577 1117.39,94.4153 1119.43,94.7825 1121.47,95.1593 1123.5,95.5456 1125.54,95.9413 1127.58,96.3464 1129.62,96.7608 \n",
       "  1131.66,97.1846 1133.7,97.6176 1135.74,98.0598 1137.77,98.5111 1139.81,98.9715 1141.85,99.4409 1143.89,99.9194 1145.93,100.407 1147.97,100.903 1150.01,101.408 \n",
       "  1152.05,101.922 1154.08,102.445 1156.12,102.976 1158.16,103.516 1160.2,104.064 1162.24,104.621 1164.28,105.187 1166.32,105.761 1168.35,106.343 1170.39,106.933 \n",
       "  1172.43,107.532 1174.47,108.139 1176.51,108.755 1178.55,109.378 1180.59,110.009 1182.63,110.649 1184.66,111.296 1186.7,111.952 1188.74,112.615 1190.78,113.286 \n",
       "  1192.82,113.964 1194.86,114.651 1196.9,115.345 1198.93,116.047 1200.97,116.756 1203.01,117.473 1205.05,118.197 1207.09,118.929 1209.13,119.668 1211.17,120.414 \n",
       "  1213.21,121.167 1215.24,121.928 1217.28,122.696 1219.32,123.471 1221.36,124.253 1223.4,125.042 1225.44,125.838 1227.48,126.64 1229.51,127.45 1231.55,128.266 \n",
       "  1233.59,129.09 1235.63,129.919 1237.67,130.756 1239.71,131.599 1241.75,132.448 1243.79,133.304 1245.82,134.167 1247.86,135.036 1249.9,135.911 1251.94,136.792 \n",
       "  1253.98,137.68 1256.02,138.574 1258.06,139.474 1260.09,140.38 1262.13,141.292 1264.17,142.21 1266.21,143.134 1268.25,144.064 1270.29,144.999 1272.33,145.941 \n",
       "  1274.37,146.888 1276.4,147.84 1278.44,148.799 1280.48,149.763 1282.52,150.732 1284.56,151.707 1286.6,152.687 1288.64,153.673 1290.67,154.664 1292.71,155.66 \n",
       "  1294.75,156.661 1296.79,157.668 1298.83,158.679 1300.87,159.696 1302.91,160.717 1304.95,161.744 1306.98,162.776 1309.02,163.812 1311.06,164.853 1313.1,165.899 \n",
       "  1315.14,166.949 1317.18,168.004 1319.22,169.064 1321.25,170.128 1323.29,171.197 1325.33,172.27 1327.37,173.348 1329.41,174.43 1331.45,175.516 1333.49,176.606 \n",
       "  1335.53,177.701 1337.56,178.8 1339.6,179.902 1341.64,181.009 1343.68,182.12 1345.72,183.235 1347.76,184.353 1349.8,185.475 1351.83,186.602 1353.87,187.731 \n",
       "  1355.91,188.865 1357.95,190.002 1359.99,191.143 1362.03,192.287 1364.07,193.434 1366.11,194.586 1368.14,195.74 1370.18,196.898 1372.22,198.059 1374.26,199.223 \n",
       "  1376.3,200.39 1378.34,201.56 1380.38,202.734 1382.41,203.91 1384.45,205.09 1386.49,206.272 1388.53,207.457 1390.57,208.645 1392.61,209.836 1394.65,211.029 \n",
       "  1396.68,212.225 1398.72,213.424 1400.76,214.625 1402.8,215.828 1404.84,217.034 1406.88,218.243 1408.92,219.454 1410.96,220.667 1412.99,221.882 1415.03,223.099 \n",
       "  1417.07,224.319 1419.11,225.54 1421.15,226.764 1423.19,227.99 1425.23,229.217 1427.26,230.447 1429.3,231.678 1431.34,232.911 1433.38,234.146 1435.42,235.382 \n",
       "  1437.46,236.62 1439.5,237.86 1441.54,239.101 1443.57,240.343 1445.61,241.587 1447.65,242.833 1449.69,244.079 1451.73,245.327 1453.77,246.576 1455.81,247.827 \n",
       "  1457.84,249.078 1459.88,250.33 1461.92,251.584 1463.96,252.838 1466,254.093 1468.04,255.349 1470.08,256.606 1472.12,257.864 1474.15,259.122 1476.19,260.381 \n",
       "  1478.23,261.641 1480.27,262.901 1482.31,264.162 1484.35,265.423 1486.39,266.684 1488.42,267.946 1490.46,269.208 1492.5,270.47 1494.54,271.733 1496.58,272.995 \n",
       "  1498.62,274.258 1500.66,275.52 1502.7,276.783 1504.73,278.046 1506.77,279.308 1508.81,280.57 1510.85,281.833 1512.89,283.094 1514.93,284.356 1516.97,285.617 \n",
       "  1519,286.877 1521.04,288.138 1523.08,289.397 1525.12,290.656 1527.16,291.915 1529.2,293.172 1531.24,294.429 1533.28,295.686 1535.31,296.941 1537.35,298.195 \n",
       "  1539.39,299.449 1541.43,300.701 1543.47,301.953 1545.51,303.203 1547.55,304.452 1549.58,305.7 1551.62,306.947 1553.66,308.193 1555.7,309.437 1557.74,310.679 \n",
       "  1559.78,311.921 1561.82,313.16 1563.86,314.398 1565.89,315.635 1567.93,316.87 1569.97,318.103 1572.01,319.335 1574.05,320.564 1576.09,321.792 1578.13,323.018 \n",
       "  1580.16,324.242 1582.2,325.463 1584.24,326.683 1586.28,327.901 1588.32,329.116 1590.36,330.33 1592.4,331.541 1594.44,332.749 1596.47,333.955 1598.51,335.159 \n",
       "  1600.55,336.361 1602.59,337.559 1604.63,338.756 1606.67,339.949 1608.71,341.14 1610.74,342.328 1612.78,343.514 1614.82,344.696 1616.86,345.876 1618.9,347.053 \n",
       "  1620.94,348.227 1622.98,349.397 1625.02,350.565 1627.05,351.729 1629.09,352.891 1631.13,354.049 1633.17,355.203 1635.21,356.355 1637.25,357.503 1639.29,358.647 \n",
       "  1641.32,359.788 1643.36,360.926 1645.4,362.059 1647.44,363.19 1649.48,364.316 1651.52,365.439 1653.56,366.558 1655.59,367.673 1657.63,368.784 1659.67,369.891 \n",
       "  1661.71,370.994 1663.75,372.093 1665.79,373.188 1667.83,374.279 1669.87,375.366 1671.9,376.448 1673.94,377.526 1675.98,378.6 1678.02,379.669 1680.06,380.733 \n",
       "  1682.1,381.794 1684.14,382.849 1686.17,383.9 1688.21,384.946 1690.25,385.988 1692.29,387.025 1694.33,388.057 1696.37,389.084 1698.41,390.106 1700.45,391.123 \n",
       "  1702.48,392.135 1704.52,393.142 1706.56,394.144 1708.6,395.141 1710.64,396.132 1712.68,397.118 1714.72,398.099 1716.75,399.074 1718.79,400.044 1720.83,401.009 \n",
       "  1722.87,401.967 1724.91,402.921 1726.95,403.868 1728.99,404.81 1731.03,405.746 1733.06,406.677 1735.1,407.601 1737.14,408.52 1739.18,409.432 1741.22,410.339 \n",
       "  1743.26,411.24 1745.3,412.134 1747.33,413.022 1749.37,413.904 1751.41,414.78 1753.45,415.65 1755.49,416.513 1757.53,417.369 1759.57,418.22 1761.61,419.063 \n",
       "  1763.64,419.9 1765.68,420.731 1767.72,421.555 1769.76,422.372 1771.8,423.182 1773.84,423.985 1775.88,424.782 1777.91,425.572 1779.95,426.354 1781.99,427.13 \n",
       "  1784.03,427.898 1786.07,428.66 1788.11,429.414 1790.15,430.161 1792.19,430.901 1794.22,431.633 1796.26,432.358 1798.3,433.075 1800.34,433.785 1802.38,434.488 \n",
       "  1804.42,435.182 1806.46,435.87 1808.49,436.549 1810.53,437.221 1812.57,437.885 1814.61,438.541 1816.65,439.189 1818.69,439.829 1820.73,440.461 1822.77,441.086 \n",
       "  1824.8,441.702 1826.84,442.31 1828.88,442.909 1830.92,443.501 1832.96,444.084 1835,444.658 1837.04,445.225 1839.07,445.782 1841.11,446.332 1843.15,446.873 \n",
       "  1845.19,447.405 1847.23,447.928 1849.27,448.443 1851.31,448.949 1853.35,449.446 1855.38,449.934 1857.42,450.413 1859.46,450.884 1861.5,451.345 1863.54,451.797 \n",
       "  1865.58,452.24 1867.62,452.674 1869.65,453.099 1871.69,453.514 1873.73,453.92 1875.77,454.317 1877.81,454.704 1879.85,455.082 1881.89,455.45 1883.92,455.808 \n",
       "  1885.96,456.157 1888,456.496 1890.04,456.826 1892.08,457.145 1894.12,457.455 1896.16,457.755 1898.2,458.045 1900.23,458.325 1902.27,458.595 1904.31,458.855 \n",
       "  1906.35,459.104 1908.39,459.344 1910.43,459.573 1912.47,459.792 1914.5,460 1916.54,460.198 1918.58,460.386 1920.62,460.563 1922.66,460.729 1924.7,460.885 \n",
       "  1926.74,461.031 1928.78,461.165 1930.81,461.289 1932.85,461.402 1934.89,461.504 1936.93,461.595 1938.97,461.675 1941.01,461.744 1943.05,461.802 1945.08,461.849 \n",
       "  1947.12,461.885 1949.16,461.909 1951.2,461.922 1953.24,461.924 1955.28,461.915 1957.32,461.894 1959.36,461.861 1961.39,461.817 1963.43,461.762 1965.47,461.694 \n",
       "  1967.51,461.615 1969.55,461.525 1971.59,461.422 1973.63,461.308 1975.66,461.182 1977.7,461.044 1979.74,460.893 1981.78,460.731 1983.82,460.557 1985.86,460.37 \n",
       "  1987.9,460.172 1989.94,459.961 1991.97,459.737 1994.01,459.502 1996.05,459.254 1998.09,458.993 2000.13,458.72 2002.17,458.435 2004.21,458.136 2006.24,457.826 \n",
       "  2008.28,457.502 2010.32,457.166 2012.36,456.817 2014.4,456.455 2016.44,456.08 2018.48,455.692 2020.52,455.291 2022.55,454.877 2024.59,454.45 2026.63,454.009 \n",
       "  2028.67,453.556 2030.71,453.089 2032.75,452.609 2034.79,452.115 2036.82,451.608 2038.86,451.088 2040.9,450.554 2042.94,450.006 2044.98,449.445 2047.02,448.87 \n",
       "  2049.06,448.281 2051.1,447.679 2053.13,447.062 2055.17,446.432 2057.21,445.788 2059.25,445.13 2061.29,444.458 2063.33,443.771 2065.37,443.071 2067.4,442.356 \n",
       "  2069.44,441.627 2071.48,440.884 2073.52,440.127 2075.56,439.355 2077.6,438.568 2079.64,437.767 2081.68,436.952 2083.71,436.122 2085.75,435.277 2087.79,434.417 \n",
       "  2089.83,433.543 2091.87,432.654 2093.91,431.75 2095.95,430.831 2097.98,429.897 2100.02,428.948 2102.06,427.985 2104.1,427.005 2106.14,426.011 2108.18,425.002 \n",
       "  2110.22,423.977 2112.26,422.937 2114.29,421.882 2116.33,420.811 2118.37,419.724 2120.41,418.622 2122.45,417.505 2124.49,416.372 2126.53,415.223 2128.56,414.059 \n",
       "  2130.6,412.878 2132.64,411.682 2134.68,410.47 2136.72,409.242 2138.76,407.998 2140.8,406.738 2142.83,405.462 2144.87,404.17 2146.91,402.861 2148.95,401.536 \n",
       "  2150.99,400.195 2153.03,398.838 2155.07,397.464 2157.11,396.074 2159.14,394.667 2161.18,393.244 2163.22,391.804 2165.26,390.347 2167.3,388.874 2169.34,387.384 \n",
       "  2171.38,385.877 2173.41,384.354 2175.45,382.813 2177.49,381.255 2179.53,379.681 2181.57,378.089 2183.61,376.48 2185.65,374.854 2187.69,373.211 2189.72,371.551 \n",
       "  2191.76,369.873 2193.8,368.178 2195.84,366.465 2197.88,364.735 2199.92,362.987 2201.96,361.222 2203.99,359.439 2206.03,357.639 2208.07,355.821 2210.11,353.985 \n",
       "  2212.15,352.131 2214.19,350.259 2216.23,348.369 2218.27,346.462 2220.3,344.536 2222.34,342.592 2224.38,340.63 2226.42,338.65 2228.46,336.652 2230.5,334.635 \n",
       "  2232.54,332.6 2234.57,330.546 2236.61,328.474 2238.65,326.384 2240.69,324.275 2242.73,322.148 2244.77,320.001 2246.81,317.836 2248.85,315.653 2250.88,313.45 \n",
       "  2252.92,311.229 2254.96,308.989 2257,306.729 2259.04,304.451 2261.08,302.154 2263.12,299.838 2265.15,297.502 2267.19,295.147 2269.23,292.773 2271.27,290.38 \n",
       "  2273.31,287.967 2275.35,285.535 2277.39,283.083 2279.43,280.612 2281.46,278.121 2283.5,275.611 2285.54,273.081 2287.58,270.531 2289.62,267.961 2291.66,265.372 \n",
       "  \n",
       "  \"/>\n",
       "<path clip-path=\"url(#clip780)\" d=\"\n",
       "M1988.5 198.898 L2280.8 198.898 L2280.8 95.2176 L1988.5 95.2176  Z\n",
       "  \" fill=\"#ffffff\" fill-rule=\"evenodd\" fill-opacity=\"1\"/>\n",
       "<polyline clip-path=\"url(#clip780)\" style=\"stroke:#000000; stroke-linecap:butt; stroke-linejoin:round; stroke-width:4; stroke-opacity:1; fill:none\" points=\"\n",
       "  1988.5,198.898 2280.8,198.898 2280.8,95.2176 1988.5,95.2176 1988.5,198.898 \n",
       "  \"/>\n",
       "<polyline clip-path=\"url(#clip780)\" style=\"stroke:#009af9; stroke-linecap:butt; stroke-linejoin:round; stroke-width:4; stroke-opacity:1; fill:none\" points=\"\n",
       "  2012.48,147.058 2156.4,147.058 \n",
       "  \"/>\n",
       "<path clip-path=\"url(#clip780)\" d=\"M2194.23 166.745 Q2192.43 171.375 2190.72 172.787 Q2189 174.199 2186.13 174.199 L2182.73 174.199 L2182.73 170.634 L2185.23 170.634 Q2186.99 170.634 2187.96 169.8 Q2188.93 168.967 2190.11 165.865 L2190.88 163.921 L2180.39 138.412 L2184.91 138.412 L2193.01 158.689 L2201.11 138.412 L2205.62 138.412 L2194.23 166.745 Z\" fill=\"#000000\" fill-rule=\"evenodd\" fill-opacity=\"1\" /><path clip-path=\"url(#clip780)\" d=\"M2212.91 160.402 L2220.55 160.402 L2220.55 134.037 L2212.24 135.703 L2212.24 131.444 L2220.51 129.778 L2225.18 129.778 L2225.18 160.402 L2232.82 160.402 L2232.82 164.338 L2212.91 164.338 L2212.91 160.402 Z\" fill=\"#000000\" fill-rule=\"evenodd\" fill-opacity=\"1\" /></svg>\n"
      ]
     },
     "execution_count": 45,
     "metadata": {},
     "output_type": "execute_result"
    }
   ],
   "source": [
    "using Plots\n",
    "ts = linspace(-1.2, 1.2, 1000);\n",
    "p1 = c1[1] .+ c1[2]*ts + c1[3]*ts.^2 + c1[4]*ts.^3\n",
    "plot(ts, p1)"
   ]
  },
  {
   "cell_type": "code",
   "execution_count": 46,
   "metadata": {},
   "outputs": [
    {
     "data": {
      "image/svg+xml": [
       "<?xml version=\"1.0\" encoding=\"utf-8\"?>\n",
       "<svg xmlns=\"http://www.w3.org/2000/svg\" xmlns:xlink=\"http://www.w3.org/1999/xlink\" width=\"600\" height=\"400\" viewBox=\"0 0 2400 1600\">\n",
       "<defs>\n",
       "  <clipPath id=\"clip820\">\n",
       "    <rect x=\"0\" y=\"0\" width=\"2400\" height=\"1600\"/>\n",
       "  </clipPath>\n",
       "</defs>\n",
       "<path clip-path=\"url(#clip820)\" d=\"\n",
       "M0 1600 L2400 1600 L2400 0 L0 0  Z\n",
       "  \" fill=\"#ffffff\" fill-rule=\"evenodd\" fill-opacity=\"1\"/>\n",
       "<defs>\n",
       "  <clipPath id=\"clip821\">\n",
       "    <rect x=\"480\" y=\"0\" width=\"1681\" height=\"1600\"/>\n",
       "  </clipPath>\n",
       "</defs>\n",
       "<path clip-path=\"url(#clip820)\" d=\"\n",
       "M193.936 1486.45 L2352.76 1486.45 L2352.76 47.2441 L193.936 47.2441  Z\n",
       "  \" fill=\"#ffffff\" fill-rule=\"evenodd\" fill-opacity=\"1\"/>\n",
       "<defs>\n",
       "  <clipPath id=\"clip822\">\n",
       "    <rect x=\"193\" y=\"47\" width=\"2160\" height=\"1440\"/>\n",
       "  </clipPath>\n",
       "</defs>\n",
       "<polyline clip-path=\"url(#clip822)\" style=\"stroke:#000000; stroke-linecap:butt; stroke-linejoin:round; stroke-width:2; stroke-opacity:0.1; fill:none\" points=\"\n",
       "  424.753,1486.45 424.753,47.2441 \n",
       "  \"/>\n",
       "<polyline clip-path=\"url(#clip822)\" style=\"stroke:#000000; stroke-linecap:butt; stroke-linejoin:round; stroke-width:2; stroke-opacity:0.1; fill:none\" points=\"\n",
       "  849.05,1486.45 849.05,47.2441 \n",
       "  \"/>\n",
       "<polyline clip-path=\"url(#clip822)\" style=\"stroke:#000000; stroke-linecap:butt; stroke-linejoin:round; stroke-width:2; stroke-opacity:0.1; fill:none\" points=\"\n",
       "  1273.35,1486.45 1273.35,47.2441 \n",
       "  \"/>\n",
       "<polyline clip-path=\"url(#clip822)\" style=\"stroke:#000000; stroke-linecap:butt; stroke-linejoin:round; stroke-width:2; stroke-opacity:0.1; fill:none\" points=\"\n",
       "  1697.64,1486.45 1697.64,47.2441 \n",
       "  \"/>\n",
       "<polyline clip-path=\"url(#clip822)\" style=\"stroke:#000000; stroke-linecap:butt; stroke-linejoin:round; stroke-width:2; stroke-opacity:0.1; fill:none\" points=\"\n",
       "  2121.94,1486.45 2121.94,47.2441 \n",
       "  \"/>\n",
       "<polyline clip-path=\"url(#clip820)\" style=\"stroke:#000000; stroke-linecap:butt; stroke-linejoin:round; stroke-width:4; stroke-opacity:1; fill:none\" points=\"\n",
       "  193.936,1486.45 2352.76,1486.45 \n",
       "  \"/>\n",
       "<polyline clip-path=\"url(#clip820)\" style=\"stroke:#000000; stroke-linecap:butt; stroke-linejoin:round; stroke-width:4; stroke-opacity:1; fill:none\" points=\"\n",
       "  424.753,1486.45 424.753,1467.55 \n",
       "  \"/>\n",
       "<polyline clip-path=\"url(#clip820)\" style=\"stroke:#000000; stroke-linecap:butt; stroke-linejoin:round; stroke-width:4; stroke-opacity:1; fill:none\" points=\"\n",
       "  849.05,1486.45 849.05,1467.55 \n",
       "  \"/>\n",
       "<polyline clip-path=\"url(#clip820)\" style=\"stroke:#000000; stroke-linecap:butt; stroke-linejoin:round; stroke-width:4; stroke-opacity:1; fill:none\" points=\"\n",
       "  1273.35,1486.45 1273.35,1467.55 \n",
       "  \"/>\n",
       "<polyline clip-path=\"url(#clip820)\" style=\"stroke:#000000; stroke-linecap:butt; stroke-linejoin:round; stroke-width:4; stroke-opacity:1; fill:none\" points=\"\n",
       "  1697.64,1486.45 1697.64,1467.55 \n",
       "  \"/>\n",
       "<polyline clip-path=\"url(#clip820)\" style=\"stroke:#000000; stroke-linecap:butt; stroke-linejoin:round; stroke-width:4; stroke-opacity:1; fill:none\" points=\"\n",
       "  2121.94,1486.45 2121.94,1467.55 \n",
       "  \"/>\n",
       "<path clip-path=\"url(#clip820)\" d=\"M371.281 1532.02 L400.957 1532.02 L400.957 1535.95 L371.281 1535.95 L371.281 1532.02 Z\" fill=\"#000000\" fill-rule=\"evenodd\" fill-opacity=\"1\" /><path clip-path=\"url(#clip820)\" d=\"M411.86 1544.91 L419.499 1544.91 L419.499 1518.55 L411.188 1520.21 L411.188 1515.95 L419.452 1514.29 L424.128 1514.29 L424.128 1544.91 L431.767 1544.91 L431.767 1548.85 L411.86 1548.85 L411.86 1544.91 Z\" fill=\"#000000\" fill-rule=\"evenodd\" fill-opacity=\"1\" /><path clip-path=\"url(#clip820)\" d=\"M441.211 1542.97 L446.096 1542.97 L446.096 1548.85 L441.211 1548.85 L441.211 1542.97 Z\" fill=\"#000000\" fill-rule=\"evenodd\" fill-opacity=\"1\" /><path clip-path=\"url(#clip820)\" d=\"M466.281 1517.37 Q462.67 1517.37 460.841 1520.93 Q459.035 1524.47 459.035 1531.6 Q459.035 1538.71 460.841 1542.27 Q462.67 1545.82 466.281 1545.82 Q469.915 1545.82 471.721 1542.27 Q473.549 1538.71 473.549 1531.6 Q473.549 1524.47 471.721 1520.93 Q469.915 1517.37 466.281 1517.37 M466.281 1513.66 Q472.091 1513.66 475.146 1518.27 Q478.225 1522.85 478.225 1531.6 Q478.225 1540.33 475.146 1544.94 Q472.091 1549.52 466.281 1549.52 Q460.471 1549.52 457.392 1544.94 Q454.336 1540.33 454.336 1531.6 Q454.336 1522.85 457.392 1518.27 Q460.471 1513.66 466.281 1513.66 Z\" fill=\"#000000\" fill-rule=\"evenodd\" fill-opacity=\"1\" /><path clip-path=\"url(#clip820)\" d=\"M796.075 1532.02 L825.751 1532.02 L825.751 1535.95 L796.075 1535.95 L796.075 1532.02 Z\" fill=\"#000000\" fill-rule=\"evenodd\" fill-opacity=\"1\" /><path clip-path=\"url(#clip820)\" d=\"M845.844 1517.37 Q842.232 1517.37 840.404 1520.93 Q838.598 1524.47 838.598 1531.6 Q838.598 1538.71 840.404 1542.27 Q842.232 1545.82 845.844 1545.82 Q849.478 1545.82 851.283 1542.27 Q853.112 1538.71 853.112 1531.6 Q853.112 1524.47 851.283 1520.93 Q849.478 1517.37 845.844 1517.37 M845.844 1513.66 Q851.654 1513.66 854.709 1518.27 Q857.788 1522.85 857.788 1531.6 Q857.788 1540.33 854.709 1544.94 Q851.654 1549.52 845.844 1549.52 Q840.033 1549.52 836.955 1544.94 Q833.899 1540.33 833.899 1531.6 Q833.899 1522.85 836.955 1518.27 Q840.033 1513.66 845.844 1513.66 Z\" fill=\"#000000\" fill-rule=\"evenodd\" fill-opacity=\"1\" /><path clip-path=\"url(#clip820)\" d=\"M866.006 1542.97 L870.89 1542.97 L870.89 1548.85 L866.006 1548.85 L866.006 1542.97 Z\" fill=\"#000000\" fill-rule=\"evenodd\" fill-opacity=\"1\" /><path clip-path=\"url(#clip820)\" d=\"M881.121 1514.29 L899.478 1514.29 L899.478 1518.22 L885.404 1518.22 L885.404 1526.7 Q886.422 1526.35 887.441 1526.19 Q888.459 1526 889.478 1526 Q895.265 1526 898.644 1529.17 Q902.024 1532.34 902.024 1537.76 Q902.024 1543.34 898.552 1546.44 Q895.079 1549.52 888.76 1549.52 Q886.584 1549.52 884.316 1549.15 Q882.07 1548.78 879.663 1548.04 L879.663 1543.34 Q881.746 1544.47 883.968 1545.03 Q886.191 1545.58 888.667 1545.58 Q892.672 1545.58 895.01 1543.48 Q897.348 1541.37 897.348 1537.76 Q897.348 1534.15 895.01 1532.04 Q892.672 1529.94 888.667 1529.94 Q886.792 1529.94 884.917 1530.35 Q883.066 1530.77 881.121 1531.65 L881.121 1514.29 Z\" fill=\"#000000\" fill-rule=\"evenodd\" fill-opacity=\"1\" /><path clip-path=\"url(#clip820)\" d=\"M1250.73 1517.37 Q1247.12 1517.37 1245.29 1520.93 Q1243.49 1524.47 1243.49 1531.6 Q1243.49 1538.71 1245.29 1542.27 Q1247.12 1545.82 1250.73 1545.82 Q1254.36 1545.82 1256.17 1542.27 Q1258 1538.71 1258 1531.6 Q1258 1524.47 1256.17 1520.93 Q1254.36 1517.37 1250.73 1517.37 M1250.73 1513.66 Q1256.54 1513.66 1259.6 1518.27 Q1262.67 1522.85 1262.67 1531.6 Q1262.67 1540.33 1259.6 1544.94 Q1256.54 1549.52 1250.73 1549.52 Q1244.92 1549.52 1241.84 1544.94 Q1238.79 1540.33 1238.79 1531.6 Q1238.79 1522.85 1241.84 1518.27 Q1244.92 1513.66 1250.73 1513.66 Z\" fill=\"#000000\" fill-rule=\"evenodd\" fill-opacity=\"1\" /><path clip-path=\"url(#clip820)\" d=\"M1270.89 1542.97 L1275.78 1542.97 L1275.78 1548.85 L1270.89 1548.85 L1270.89 1542.97 Z\" fill=\"#000000\" fill-rule=\"evenodd\" fill-opacity=\"1\" /><path clip-path=\"url(#clip820)\" d=\"M1295.96 1517.37 Q1292.35 1517.37 1290.52 1520.93 Q1288.72 1524.47 1288.72 1531.6 Q1288.72 1538.71 1290.52 1542.27 Q1292.35 1545.82 1295.96 1545.82 Q1299.6 1545.82 1301.4 1542.27 Q1303.23 1538.71 1303.23 1531.6 Q1303.23 1524.47 1301.4 1520.93 Q1299.6 1517.37 1295.96 1517.37 M1295.96 1513.66 Q1301.77 1513.66 1304.83 1518.27 Q1307.91 1522.85 1307.91 1531.6 Q1307.91 1540.33 1304.83 1544.94 Q1301.77 1549.52 1295.96 1549.52 Q1290.15 1549.52 1287.07 1544.94 Q1284.02 1540.33 1284.02 1531.6 Q1284.02 1522.85 1287.07 1518.27 Q1290.15 1513.66 1295.96 1513.66 Z\" fill=\"#000000\" fill-rule=\"evenodd\" fill-opacity=\"1\" /><path clip-path=\"url(#clip820)\" d=\"M1675.52 1517.37 Q1671.91 1517.37 1670.08 1520.93 Q1668.28 1524.47 1668.28 1531.6 Q1668.28 1538.71 1670.08 1542.27 Q1671.91 1545.82 1675.52 1545.82 Q1679.16 1545.82 1680.96 1542.27 Q1682.79 1538.71 1682.79 1531.6 Q1682.79 1524.47 1680.96 1520.93 Q1679.16 1517.37 1675.52 1517.37 M1675.52 1513.66 Q1681.33 1513.66 1684.39 1518.27 Q1687.47 1522.85 1687.47 1531.6 Q1687.47 1540.33 1684.39 1544.94 Q1681.33 1549.52 1675.52 1549.52 Q1669.71 1549.52 1666.64 1544.94 Q1663.58 1540.33 1663.58 1531.6 Q1663.58 1522.85 1666.64 1518.27 Q1669.71 1513.66 1675.52 1513.66 Z\" fill=\"#000000\" fill-rule=\"evenodd\" fill-opacity=\"1\" /><path clip-path=\"url(#clip820)\" d=\"M1695.69 1542.97 L1700.57 1542.97 L1700.57 1548.85 L1695.69 1548.85 L1695.69 1542.97 Z\" fill=\"#000000\" fill-rule=\"evenodd\" fill-opacity=\"1\" /><path clip-path=\"url(#clip820)\" d=\"M1710.8 1514.29 L1729.16 1514.29 L1729.16 1518.22 L1715.08 1518.22 L1715.08 1526.7 Q1716.1 1526.35 1717.12 1526.19 Q1718.14 1526 1719.16 1526 Q1724.95 1526 1728.33 1529.17 Q1731.7 1532.34 1731.7 1537.76 Q1731.7 1543.34 1728.23 1546.44 Q1724.76 1549.52 1718.44 1549.52 Q1716.26 1549.52 1714 1549.15 Q1711.75 1548.78 1709.34 1548.04 L1709.34 1543.34 Q1711.43 1544.47 1713.65 1545.03 Q1715.87 1545.58 1718.35 1545.58 Q1722.35 1545.58 1724.69 1543.48 Q1727.03 1541.37 1727.03 1537.76 Q1727.03 1534.15 1724.69 1532.04 Q1722.35 1529.94 1718.35 1529.94 Q1716.47 1529.94 1714.6 1530.35 Q1712.75 1530.77 1710.8 1531.65 L1710.8 1514.29 Z\" fill=\"#000000\" fill-rule=\"evenodd\" fill-opacity=\"1\" /><path clip-path=\"url(#clip820)\" d=\"M2089.09 1544.91 L2096.73 1544.91 L2096.73 1518.55 L2088.42 1520.21 L2088.42 1515.95 L2096.68 1514.29 L2101.36 1514.29 L2101.36 1544.91 L2109 1544.91 L2109 1548.85 L2089.09 1548.85 L2089.09 1544.91 Z\" fill=\"#000000\" fill-rule=\"evenodd\" fill-opacity=\"1\" /><path clip-path=\"url(#clip820)\" d=\"M2118.44 1542.97 L2123.33 1542.97 L2123.33 1548.85 L2118.44 1548.85 L2118.44 1542.97 Z\" fill=\"#000000\" fill-rule=\"evenodd\" fill-opacity=\"1\" /><path clip-path=\"url(#clip820)\" d=\"M2143.51 1517.37 Q2139.9 1517.37 2138.07 1520.93 Q2136.27 1524.47 2136.27 1531.6 Q2136.27 1538.71 2138.07 1542.27 Q2139.9 1545.82 2143.51 1545.82 Q2147.15 1545.82 2148.95 1542.27 Q2150.78 1538.71 2150.78 1531.6 Q2150.78 1524.47 2148.95 1520.93 Q2147.15 1517.37 2143.51 1517.37 M2143.51 1513.66 Q2149.32 1513.66 2152.38 1518.27 Q2155.46 1522.85 2155.46 1531.6 Q2155.46 1540.33 2152.38 1544.94 Q2149.32 1549.52 2143.51 1549.52 Q2137.7 1549.52 2134.62 1544.94 Q2131.57 1540.33 2131.57 1531.6 Q2131.57 1522.85 2134.62 1518.27 Q2137.7 1513.66 2143.51 1513.66 Z\" fill=\"#000000\" fill-rule=\"evenodd\" fill-opacity=\"1\" /><polyline clip-path=\"url(#clip822)\" style=\"stroke:#000000; stroke-linecap:butt; stroke-linejoin:round; stroke-width:2; stroke-opacity:0.1; fill:none\" points=\"\n",
       "  193.936,1349.49 2352.76,1349.49 \n",
       "  \"/>\n",
       "<polyline clip-path=\"url(#clip822)\" style=\"stroke:#000000; stroke-linecap:butt; stroke-linejoin:round; stroke-width:2; stroke-opacity:0.1; fill:none\" points=\"\n",
       "  193.936,1127.6 2352.76,1127.6 \n",
       "  \"/>\n",
       "<polyline clip-path=\"url(#clip822)\" style=\"stroke:#000000; stroke-linecap:butt; stroke-linejoin:round; stroke-width:2; stroke-opacity:0.1; fill:none\" points=\"\n",
       "  193.936,905.709 2352.76,905.709 \n",
       "  \"/>\n",
       "<polyline clip-path=\"url(#clip822)\" style=\"stroke:#000000; stroke-linecap:butt; stroke-linejoin:round; stroke-width:2; stroke-opacity:0.1; fill:none\" points=\"\n",
       "  193.936,683.817 2352.76,683.817 \n",
       "  \"/>\n",
       "<polyline clip-path=\"url(#clip822)\" style=\"stroke:#000000; stroke-linecap:butt; stroke-linejoin:round; stroke-width:2; stroke-opacity:0.1; fill:none\" points=\"\n",
       "  193.936,461.925 2352.76,461.925 \n",
       "  \"/>\n",
       "<polyline clip-path=\"url(#clip822)\" style=\"stroke:#000000; stroke-linecap:butt; stroke-linejoin:round; stroke-width:2; stroke-opacity:0.1; fill:none\" points=\"\n",
       "  193.936,240.033 2352.76,240.033 \n",
       "  \"/>\n",
       "<polyline clip-path=\"url(#clip820)\" style=\"stroke:#000000; stroke-linecap:butt; stroke-linejoin:round; stroke-width:4; stroke-opacity:1; fill:none\" points=\"\n",
       "  193.936,1486.45 193.936,47.2441 \n",
       "  \"/>\n",
       "<polyline clip-path=\"url(#clip820)\" style=\"stroke:#000000; stroke-linecap:butt; stroke-linejoin:round; stroke-width:4; stroke-opacity:1; fill:none\" points=\"\n",
       "  193.936,1349.49 212.834,1349.49 \n",
       "  \"/>\n",
       "<polyline clip-path=\"url(#clip820)\" style=\"stroke:#000000; stroke-linecap:butt; stroke-linejoin:round; stroke-width:4; stroke-opacity:1; fill:none\" points=\"\n",
       "  193.936,1127.6 212.834,1127.6 \n",
       "  \"/>\n",
       "<polyline clip-path=\"url(#clip820)\" style=\"stroke:#000000; stroke-linecap:butt; stroke-linejoin:round; stroke-width:4; stroke-opacity:1; fill:none\" points=\"\n",
       "  193.936,905.709 212.834,905.709 \n",
       "  \"/>\n",
       "<polyline clip-path=\"url(#clip820)\" style=\"stroke:#000000; stroke-linecap:butt; stroke-linejoin:round; stroke-width:4; stroke-opacity:1; fill:none\" points=\"\n",
       "  193.936,683.817 212.834,683.817 \n",
       "  \"/>\n",
       "<polyline clip-path=\"url(#clip820)\" style=\"stroke:#000000; stroke-linecap:butt; stroke-linejoin:round; stroke-width:4; stroke-opacity:1; fill:none\" points=\"\n",
       "  193.936,461.925 212.834,461.925 \n",
       "  \"/>\n",
       "<polyline clip-path=\"url(#clip820)\" style=\"stroke:#000000; stroke-linecap:butt; stroke-linejoin:round; stroke-width:4; stroke-opacity:1; fill:none\" points=\"\n",
       "  193.936,240.033 212.834,240.033 \n",
       "  \"/>\n",
       "<path clip-path=\"url(#clip820)\" d=\"M51.9875 1349.94 L81.6633 1349.94 L81.6633 1353.88 L51.9875 1353.88 L51.9875 1349.94 Z\" fill=\"#000000\" fill-rule=\"evenodd\" fill-opacity=\"1\" /><path clip-path=\"url(#clip820)\" d=\"M92.566 1362.84 L100.205 1362.84 L100.205 1336.47 L91.8947 1338.14 L91.8947 1333.88 L100.159 1332.21 L104.834 1332.21 L104.834 1362.84 L112.473 1362.84 L112.473 1366.77 L92.566 1366.77 L92.566 1362.84 Z\" fill=\"#000000\" fill-rule=\"evenodd\" fill-opacity=\"1\" /><path clip-path=\"url(#clip820)\" d=\"M121.918 1360.89 L126.802 1360.89 L126.802 1366.77 L121.918 1366.77 L121.918 1360.89 Z\" fill=\"#000000\" fill-rule=\"evenodd\" fill-opacity=\"1\" /><path clip-path=\"url(#clip820)\" d=\"M137.033 1332.21 L155.39 1332.21 L155.39 1336.15 L141.316 1336.15 L141.316 1344.62 Q142.334 1344.27 143.353 1344.11 Q144.371 1343.93 145.39 1343.93 Q151.177 1343.93 154.556 1347.1 Q157.936 1350.27 157.936 1355.68 Q157.936 1361.26 154.464 1364.37 Q150.992 1367.44 144.672 1367.44 Q142.496 1367.44 140.228 1367.07 Q137.982 1366.7 135.575 1365.96 L135.575 1361.26 Q137.658 1362.4 139.881 1362.95 Q142.103 1363.51 144.58 1363.51 Q148.584 1363.51 150.922 1361.4 Q153.26 1359.3 153.26 1355.68 Q153.26 1352.07 150.922 1349.97 Q148.584 1347.86 144.58 1347.86 Q142.705 1347.86 140.83 1348.28 Q138.978 1348.69 137.033 1349.57 L137.033 1332.21 Z\" fill=\"#000000\" fill-rule=\"evenodd\" fill-opacity=\"1\" /><path clip-path=\"url(#clip820)\" d=\"M50.9921 1128.05 L80.6679 1128.05 L80.6679 1131.99 L50.9921 1131.99 L50.9921 1128.05 Z\" fill=\"#000000\" fill-rule=\"evenodd\" fill-opacity=\"1\" /><path clip-path=\"url(#clip820)\" d=\"M91.5706 1140.95 L99.2095 1140.95 L99.2095 1114.58 L90.8993 1116.25 L90.8993 1111.99 L99.1632 1110.32 L103.839 1110.32 L103.839 1140.95 L111.478 1140.95 L111.478 1144.88 L91.5706 1144.88 L91.5706 1140.95 Z\" fill=\"#000000\" fill-rule=\"evenodd\" fill-opacity=\"1\" /><path clip-path=\"url(#clip820)\" d=\"M120.922 1139 L125.807 1139 L125.807 1144.88 L120.922 1144.88 L120.922 1139 Z\" fill=\"#000000\" fill-rule=\"evenodd\" fill-opacity=\"1\" /><path clip-path=\"url(#clip820)\" d=\"M145.992 1113.4 Q142.381 1113.4 140.552 1116.96 Q138.746 1120.51 138.746 1127.64 Q138.746 1134.74 140.552 1138.31 Q142.381 1141.85 145.992 1141.85 Q149.626 1141.85 151.431 1138.31 Q153.26 1134.74 153.26 1127.64 Q153.26 1120.51 151.431 1116.96 Q149.626 1113.4 145.992 1113.4 M145.992 1109.7 Q151.802 1109.7 154.857 1114.3 Q157.936 1118.89 157.936 1127.64 Q157.936 1136.36 154.857 1140.97 Q151.802 1145.55 145.992 1145.55 Q140.181 1145.55 137.103 1140.97 Q134.047 1136.36 134.047 1127.64 Q134.047 1118.89 137.103 1114.3 Q140.181 1109.7 145.992 1109.7 Z\" fill=\"#000000\" fill-rule=\"evenodd\" fill-opacity=\"1\" /><path clip-path=\"url(#clip820)\" d=\"M51.9875 906.16 L81.6633 906.16 L81.6633 910.095 L51.9875 910.095 L51.9875 906.16 Z\" fill=\"#000000\" fill-rule=\"evenodd\" fill-opacity=\"1\" /><path clip-path=\"url(#clip820)\" d=\"M101.756 891.507 Q98.1447 891.507 96.316 895.072 Q94.5104 898.614 94.5104 905.743 Q94.5104 912.85 96.316 916.415 Q98.1447 919.956 101.756 919.956 Q105.39 919.956 107.196 916.415 Q109.024 912.85 109.024 905.743 Q109.024 898.614 107.196 895.072 Q105.39 891.507 101.756 891.507 M101.756 887.804 Q107.566 887.804 110.621 892.41 Q113.7 896.993 113.7 905.743 Q113.7 914.47 110.621 919.077 Q107.566 923.66 101.756 923.66 Q95.9456 923.66 92.8669 919.077 Q89.8114 914.47 89.8114 905.743 Q89.8114 896.993 92.8669 892.41 Q95.9456 887.804 101.756 887.804 Z\" fill=\"#000000\" fill-rule=\"evenodd\" fill-opacity=\"1\" /><path clip-path=\"url(#clip820)\" d=\"M121.918 917.109 L126.802 917.109 L126.802 922.989 L121.918 922.989 L121.918 917.109 Z\" fill=\"#000000\" fill-rule=\"evenodd\" fill-opacity=\"1\" /><path clip-path=\"url(#clip820)\" d=\"M137.033 888.429 L155.39 888.429 L155.39 892.364 L141.316 892.364 L141.316 900.836 Q142.334 900.489 143.353 900.327 Q144.371 900.142 145.39 900.142 Q151.177 900.142 154.556 903.313 Q157.936 906.484 157.936 911.901 Q157.936 917.479 154.464 920.581 Q150.992 923.66 144.672 923.66 Q142.496 923.66 140.228 923.29 Q137.982 922.919 135.575 922.178 L135.575 917.479 Q137.658 918.614 139.881 919.169 Q142.103 919.725 144.58 919.725 Q148.584 919.725 150.922 917.618 Q153.26 915.512 153.26 911.901 Q153.26 908.29 150.922 906.183 Q148.584 904.077 144.58 904.077 Q142.705 904.077 140.83 904.493 Q138.978 904.91 137.033 905.79 L137.033 888.429 Z\" fill=\"#000000\" fill-rule=\"evenodd\" fill-opacity=\"1\" /><path clip-path=\"url(#clip820)\" d=\"M100.76 669.615 Q97.1493 669.615 95.3206 673.18 Q93.515 676.722 93.515 683.851 Q93.515 690.958 95.3206 694.523 Q97.1493 698.064 100.76 698.064 Q104.395 698.064 106.2 694.523 Q108.029 690.958 108.029 683.851 Q108.029 676.722 106.2 673.18 Q104.395 669.615 100.76 669.615 M100.76 665.912 Q106.571 665.912 109.626 670.518 Q112.705 675.101 112.705 683.851 Q112.705 692.578 109.626 697.185 Q106.571 701.768 100.76 701.768 Q94.9502 701.768 91.8715 697.185 Q88.816 692.578 88.816 683.851 Q88.816 675.101 91.8715 670.518 Q94.9502 665.912 100.76 665.912 Z\" fill=\"#000000\" fill-rule=\"evenodd\" fill-opacity=\"1\" /><path clip-path=\"url(#clip820)\" d=\"M120.922 695.217 L125.807 695.217 L125.807 701.097 L120.922 701.097 L120.922 695.217 Z\" fill=\"#000000\" fill-rule=\"evenodd\" fill-opacity=\"1\" /><path clip-path=\"url(#clip820)\" d=\"M145.992 669.615 Q142.381 669.615 140.552 673.18 Q138.746 676.722 138.746 683.851 Q138.746 690.958 140.552 694.523 Q142.381 698.064 145.992 698.064 Q149.626 698.064 151.431 694.523 Q153.26 690.958 153.26 683.851 Q153.26 676.722 151.431 673.18 Q149.626 669.615 145.992 669.615 M145.992 665.912 Q151.802 665.912 154.857 670.518 Q157.936 675.101 157.936 683.851 Q157.936 692.578 154.857 697.185 Q151.802 701.768 145.992 701.768 Q140.181 701.768 137.103 697.185 Q134.047 692.578 134.047 683.851 Q134.047 675.101 137.103 670.518 Q140.181 665.912 145.992 665.912 Z\" fill=\"#000000\" fill-rule=\"evenodd\" fill-opacity=\"1\" /><path clip-path=\"url(#clip820)\" d=\"M101.756 447.723 Q98.1447 447.723 96.316 451.288 Q94.5104 454.83 94.5104 461.959 Q94.5104 469.066 96.316 472.631 Q98.1447 476.172 101.756 476.172 Q105.39 476.172 107.196 472.631 Q109.024 469.066 109.024 461.959 Q109.024 454.83 107.196 451.288 Q105.39 447.723 101.756 447.723 M101.756 444.02 Q107.566 444.02 110.621 448.626 Q113.7 453.209 113.7 461.959 Q113.7 470.686 110.621 475.293 Q107.566 479.876 101.756 479.876 Q95.9456 479.876 92.8669 475.293 Q89.8114 470.686 89.8114 461.959 Q89.8114 453.209 92.8669 448.626 Q95.9456 444.02 101.756 444.02 Z\" fill=\"#000000\" fill-rule=\"evenodd\" fill-opacity=\"1\" /><path clip-path=\"url(#clip820)\" d=\"M121.918 473.325 L126.802 473.325 L126.802 479.205 L121.918 479.205 L121.918 473.325 Z\" fill=\"#000000\" fill-rule=\"evenodd\" fill-opacity=\"1\" /><path clip-path=\"url(#clip820)\" d=\"M137.033 444.645 L155.39 444.645 L155.39 448.58 L141.316 448.58 L141.316 457.052 Q142.334 456.705 143.353 456.543 Q144.371 456.358 145.39 456.358 Q151.177 456.358 154.556 459.529 Q157.936 462.7 157.936 468.117 Q157.936 473.695 154.464 476.797 Q150.992 479.876 144.672 479.876 Q142.496 479.876 140.228 479.506 Q137.982 479.135 135.575 478.394 L135.575 473.695 Q137.658 474.83 139.881 475.385 Q142.103 475.941 144.58 475.941 Q148.584 475.941 150.922 473.834 Q153.26 471.728 153.26 468.117 Q153.26 464.506 150.922 462.399 Q148.584 460.293 144.58 460.293 Q142.705 460.293 140.83 460.709 Q138.978 461.126 137.033 462.006 L137.033 444.645 Z\" fill=\"#000000\" fill-rule=\"evenodd\" fill-opacity=\"1\" /><path clip-path=\"url(#clip820)\" d=\"M91.5706 253.378 L99.2095 253.378 L99.2095 227.012 L90.8993 228.679 L90.8993 224.419 L99.1632 222.753 L103.839 222.753 L103.839 253.378 L111.478 253.378 L111.478 257.313 L91.5706 257.313 L91.5706 253.378 Z\" fill=\"#000000\" fill-rule=\"evenodd\" fill-opacity=\"1\" /><path clip-path=\"url(#clip820)\" d=\"M120.922 251.433 L125.807 251.433 L125.807 257.313 L120.922 257.313 L120.922 251.433 Z\" fill=\"#000000\" fill-rule=\"evenodd\" fill-opacity=\"1\" /><path clip-path=\"url(#clip820)\" d=\"M145.992 225.831 Q142.381 225.831 140.552 229.396 Q138.746 232.938 138.746 240.067 Q138.746 247.174 140.552 250.739 Q142.381 254.28 145.992 254.28 Q149.626 254.28 151.431 250.739 Q153.26 247.174 153.26 240.067 Q153.26 232.938 151.431 229.396 Q149.626 225.831 145.992 225.831 M145.992 222.128 Q151.802 222.128 154.857 226.734 Q157.936 231.317 157.936 240.067 Q157.936 248.794 154.857 253.401 Q151.802 257.984 145.992 257.984 Q140.181 257.984 137.103 253.401 Q134.047 248.794 134.047 240.067 Q134.047 231.317 137.103 226.734 Q140.181 222.128 145.992 222.128 Z\" fill=\"#000000\" fill-rule=\"evenodd\" fill-opacity=\"1\" /><polyline clip-path=\"url(#clip822)\" style=\"stroke:#009af9; stroke-linecap:butt; stroke-linejoin:round; stroke-width:4; stroke-opacity:1; fill:none\" points=\"\n",
       "  255.035,1445.72 257.073,1437.45 259.112,1429.22 261.151,1421.02 263.189,1412.85 265.228,1404.71 267.267,1396.61 269.305,1388.53 271.344,1380.49 273.383,1372.47 \n",
       "  275.421,1364.49 277.46,1356.54 279.499,1348.61 281.537,1340.72 283.576,1332.86 285.615,1325.03 287.653,1317.23 289.692,1309.46 291.731,1301.72 293.769,1294.01 \n",
       "  295.808,1286.34 297.847,1278.69 299.885,1271.07 301.924,1263.48 303.963,1255.92 306.001,1248.4 308.04,1240.9 310.079,1233.43 312.117,1225.99 314.156,1218.59 \n",
       "  316.195,1211.21 318.233,1203.86 320.272,1196.54 322.31,1189.25 324.349,1181.99 326.388,1174.76 328.426,1167.56 330.465,1160.39 332.504,1153.25 334.542,1146.13 \n",
       "  336.581,1139.05 338.62,1131.99 340.658,1124.97 342.697,1117.97 344.736,1111.01 346.774,1104.07 348.813,1097.16 350.852,1090.28 352.89,1083.43 354.929,1076.61 \n",
       "  356.968,1069.81 359.006,1063.05 361.045,1056.31 363.084,1049.6 365.122,1042.92 367.161,1036.27 369.2,1029.65 371.238,1023.06 373.277,1016.49 375.316,1009.95 \n",
       "  377.354,1003.44 379.393,996.963 381.432,990.51 383.47,984.085 385.509,977.689 387.548,971.32 389.586,964.979 391.625,958.666 393.664,952.381 395.702,946.124 \n",
       "  397.741,939.894 399.78,933.692 401.818,927.518 403.857,921.371 405.896,915.252 407.934,909.16 409.973,903.096 412.012,897.059 414.05,891.049 416.089,885.067 \n",
       "  418.128,879.111 420.166,873.183 422.205,867.282 424.244,861.408 426.282,855.562 428.321,849.742 430.36,843.949 432.398,838.182 434.437,832.443 436.476,826.73 \n",
       "  438.514,821.044 440.553,815.385 442.592,809.752 444.63,804.146 446.669,798.567 448.707,793.013 450.746,787.487 452.785,781.986 454.823,776.512 456.862,771.064 \n",
       "  458.901,765.642 460.939,760.246 462.978,754.877 465.017,749.533 467.055,744.216 469.094,738.924 471.133,733.658 473.171,728.419 475.21,723.204 477.249,718.016 \n",
       "  479.287,712.853 481.326,707.716 483.365,702.605 485.403,697.519 487.442,692.458 489.481,687.423 491.519,682.413 493.558,677.429 495.597,672.469 497.635,667.535 \n",
       "  499.674,662.627 501.713,657.743 503.751,652.884 505.79,648.051 507.829,643.242 509.867,638.458 511.906,633.699 513.945,628.965 515.983,624.256 518.022,619.571 \n",
       "  520.061,614.911 522.099,610.276 524.138,605.665 526.177,601.078 528.215,596.516 530.254,591.979 532.293,587.466 534.331,582.977 536.37,578.512 538.409,574.072 \n",
       "  540.447,569.655 542.486,565.263 544.525,560.895 546.563,556.55 548.602,552.23 550.641,547.934 552.679,543.661 554.718,539.412 556.757,535.187 558.795,530.986 \n",
       "  560.834,526.808 562.873,522.654 564.911,518.523 566.95,514.416 568.989,510.332 571.027,506.272 573.066,502.235 575.104,498.221 577.143,494.23 579.182,490.263 \n",
       "  581.22,486.318 583.259,482.397 585.298,478.499 587.336,474.624 589.375,470.771 591.414,466.942 593.452,463.135 595.491,459.351 597.53,455.59 599.568,451.851 \n",
       "  601.607,448.135 603.646,444.442 605.684,440.771 607.723,437.122 609.762,433.496 611.8,429.892 613.839,426.311 615.878,422.752 617.916,419.215 619.955,415.7 \n",
       "  621.994,412.207 624.032,408.736 626.071,405.287 628.11,401.861 630.148,398.456 632.187,395.073 634.226,391.711 636.264,388.372 638.303,385.054 640.342,381.757 \n",
       "  642.38,378.483 644.419,375.23 646.458,371.998 648.496,368.788 650.535,365.599 652.574,362.431 654.612,359.285 656.651,356.16 658.69,353.056 660.728,349.973 \n",
       "  662.767,346.911 664.806,343.87 666.844,340.851 668.883,337.852 670.922,334.874 672.96,331.917 674.999,328.98 677.038,326.065 679.076,323.169 681.115,320.295 \n",
       "  683.154,317.441 685.192,314.608 687.231,311.795 689.27,309.002 691.308,306.23 693.347,303.478 695.385,300.747 697.424,298.035 699.463,295.344 701.501,292.673 \n",
       "  703.54,290.021 705.579,287.39 707.617,284.779 709.656,282.188 711.695,279.616 713.733,277.065 715.772,274.533 717.811,272.02 719.849,269.528 721.888,267.055 \n",
       "  723.927,264.601 725.965,262.167 728.004,259.752 730.043,257.357 732.081,254.981 734.12,252.624 736.159,250.287 738.197,247.969 740.236,245.67 742.275,243.389 \n",
       "  744.313,241.128 746.352,238.886 748.391,236.663 750.429,234.459 752.468,232.273 754.507,230.107 756.545,227.959 758.584,225.829 760.623,223.719 762.661,221.626 \n",
       "  764.7,219.553 766.739,217.497 768.777,215.461 770.816,213.442 772.855,211.442 774.893,209.46 776.932,207.496 778.971,205.551 781.009,203.623 783.048,201.714 \n",
       "  785.087,199.823 787.125,197.949 789.164,196.093 791.203,194.256 793.241,192.436 795.28,190.634 797.319,188.849 799.357,187.082 801.396,185.333 803.435,183.601 \n",
       "  805.473,181.887 807.512,180.19 809.551,178.51 811.589,176.848 813.628,175.203 815.667,173.576 817.705,171.965 819.744,170.372 821.782,168.796 823.821,167.237 \n",
       "  825.86,165.694 827.898,164.169 829.937,162.66 831.976,161.169 834.014,159.694 836.053,158.236 838.092,156.794 840.13,155.369 842.169,153.961 844.208,152.569 \n",
       "  846.246,151.194 848.285,149.835 850.324,148.492 852.362,147.166 854.401,145.856 856.44,144.562 858.478,143.284 860.517,142.023 862.556,140.777 864.594,139.548 \n",
       "  866.633,138.334 868.672,137.136 870.71,135.955 872.749,134.789 874.788,133.638 876.826,132.504 878.865,131.385 880.904,130.281 882.942,129.193 884.981,128.121 \n",
       "  887.02,127.064 889.058,126.023 891.097,124.996 893.136,123.985 895.174,122.99 897.213,122.009 899.252,121.044 901.29,120.094 903.329,119.158 905.368,118.238 \n",
       "  907.406,117.333 909.445,116.442 911.484,115.566 913.522,114.706 915.561,113.859 917.6,113.028 919.638,112.211 921.677,111.409 923.716,110.621 925.754,109.847 \n",
       "  927.793,109.088 929.832,108.344 931.87,107.614 933.909,106.897 935.948,106.196 937.986,105.508 940.025,104.834 942.064,104.175 944.102,103.529 946.141,102.898 \n",
       "  948.179,102.28 950.218,101.676 952.257,101.086 954.295,100.51 956.334,99.9476 958.373,99.3987 960.411,98.8634 962.45,98.3416 964.489,97.8333 966.527,97.3384 \n",
       "  968.566,96.857 970.605,96.3888 972.643,95.934 974.682,95.4924 976.721,95.064 978.759,94.6487 980.798,94.2465 982.837,93.8573 984.875,93.4811 986.914,93.1178 \n",
       "  988.953,92.7674 990.991,92.4298 993.03,92.105 995.069,91.793 997.107,91.4936 999.146,91.2068 1001.18,90.9326 1003.22,90.6709 1005.26,90.4216 1007.3,90.1848 \n",
       "  1009.34,89.9604 1011.38,89.7482 1013.42,89.5484 1015.46,89.3607 1017.49,89.1852 1019.53,89.0218 1021.57,88.8705 1023.61,88.7311 1025.65,88.6038 1027.69,88.4883 \n",
       "  1029.73,88.3847 1031.76,88.2929 1033.8,88.2128 1035.84,88.1444 1037.88,88.0877 1039.92,88.0426 1041.96,88.009 1044,87.9869 1046.04,87.9763 1048.07,87.977 \n",
       "  1050.11,87.9891 1052.15,88.0125 1054.19,88.0471 1056.23,88.0929 1058.27,88.1499 1060.31,88.2179 1062.34,88.297 1064.38,88.387 1066.42,88.488 1068.46,88.5998 \n",
       "  1070.5,88.7225 1072.54,88.856 1074.58,89.0002 1076.62,89.155 1078.65,89.3205 1080.69,89.4966 1082.73,89.6832 1084.77,89.8802 1086.81,90.0877 1088.85,90.3055 \n",
       "  1090.89,90.5337 1092.92,90.7721 1094.96,91.0208 1097,91.2796 1099.04,91.5485 1101.08,91.8274 1103.12,92.1164 1105.16,92.4154 1107.2,92.7242 1109.23,93.0429 \n",
       "  1111.27,93.3714 1113.31,93.7097 1115.35,94.0577 1117.39,94.4153 1119.43,94.7825 1121.47,95.1593 1123.5,95.5456 1125.54,95.9413 1127.58,96.3464 1129.62,96.7608 \n",
       "  1131.66,97.1846 1133.7,97.6176 1135.74,98.0598 1137.77,98.5111 1139.81,98.9715 1141.85,99.4409 1143.89,99.9194 1145.93,100.407 1147.97,100.903 1150.01,101.408 \n",
       "  1152.05,101.922 1154.08,102.445 1156.12,102.976 1158.16,103.516 1160.2,104.064 1162.24,104.621 1164.28,105.187 1166.32,105.761 1168.35,106.343 1170.39,106.933 \n",
       "  1172.43,107.532 1174.47,108.139 1176.51,108.755 1178.55,109.378 1180.59,110.009 1182.63,110.649 1184.66,111.296 1186.7,111.952 1188.74,112.615 1190.78,113.286 \n",
       "  1192.82,113.964 1194.86,114.651 1196.9,115.345 1198.93,116.047 1200.97,116.756 1203.01,117.473 1205.05,118.197 1207.09,118.929 1209.13,119.668 1211.17,120.414 \n",
       "  1213.21,121.167 1215.24,121.928 1217.28,122.696 1219.32,123.471 1221.36,124.253 1223.4,125.042 1225.44,125.838 1227.48,126.64 1229.51,127.45 1231.55,128.266 \n",
       "  1233.59,129.09 1235.63,129.919 1237.67,130.756 1239.71,131.599 1241.75,132.448 1243.79,133.304 1245.82,134.167 1247.86,135.036 1249.9,135.911 1251.94,136.792 \n",
       "  1253.98,137.68 1256.02,138.574 1258.06,139.474 1260.09,140.38 1262.13,141.292 1264.17,142.21 1266.21,143.134 1268.25,144.064 1270.29,144.999 1272.33,145.941 \n",
       "  1274.37,146.888 1276.4,147.84 1278.44,148.799 1280.48,149.763 1282.52,150.732 1284.56,151.707 1286.6,152.687 1288.64,153.673 1290.67,154.664 1292.71,155.66 \n",
       "  1294.75,156.661 1296.79,157.668 1298.83,158.679 1300.87,159.696 1302.91,160.717 1304.95,161.744 1306.98,162.776 1309.02,163.812 1311.06,164.853 1313.1,165.899 \n",
       "  1315.14,166.949 1317.18,168.004 1319.22,169.064 1321.25,170.128 1323.29,171.197 1325.33,172.27 1327.37,173.348 1329.41,174.43 1331.45,175.516 1333.49,176.606 \n",
       "  1335.53,177.701 1337.56,178.8 1339.6,179.902 1341.64,181.009 1343.68,182.12 1345.72,183.235 1347.76,184.353 1349.8,185.475 1351.83,186.602 1353.87,187.731 \n",
       "  1355.91,188.865 1357.95,190.002 1359.99,191.143 1362.03,192.287 1364.07,193.434 1366.11,194.586 1368.14,195.74 1370.18,196.898 1372.22,198.059 1374.26,199.223 \n",
       "  1376.3,200.39 1378.34,201.56 1380.38,202.734 1382.41,203.91 1384.45,205.09 1386.49,206.272 1388.53,207.457 1390.57,208.645 1392.61,209.836 1394.65,211.029 \n",
       "  1396.68,212.225 1398.72,213.424 1400.76,214.625 1402.8,215.828 1404.84,217.034 1406.88,218.243 1408.92,219.454 1410.96,220.667 1412.99,221.882 1415.03,223.099 \n",
       "  1417.07,224.319 1419.11,225.54 1421.15,226.764 1423.19,227.99 1425.23,229.217 1427.26,230.447 1429.3,231.678 1431.34,232.911 1433.38,234.146 1435.42,235.382 \n",
       "  1437.46,236.62 1439.5,237.86 1441.54,239.101 1443.57,240.343 1445.61,241.587 1447.65,242.833 1449.69,244.079 1451.73,245.327 1453.77,246.576 1455.81,247.827 \n",
       "  1457.84,249.078 1459.88,250.33 1461.92,251.584 1463.96,252.838 1466,254.093 1468.04,255.349 1470.08,256.606 1472.12,257.864 1474.15,259.122 1476.19,260.381 \n",
       "  1478.23,261.641 1480.27,262.901 1482.31,264.162 1484.35,265.423 1486.39,266.684 1488.42,267.946 1490.46,269.208 1492.5,270.47 1494.54,271.733 1496.58,272.995 \n",
       "  1498.62,274.258 1500.66,275.52 1502.7,276.783 1504.73,278.046 1506.77,279.308 1508.81,280.57 1510.85,281.833 1512.89,283.094 1514.93,284.356 1516.97,285.617 \n",
       "  1519,286.877 1521.04,288.138 1523.08,289.397 1525.12,290.656 1527.16,291.915 1529.2,293.172 1531.24,294.429 1533.28,295.686 1535.31,296.941 1537.35,298.195 \n",
       "  1539.39,299.449 1541.43,300.701 1543.47,301.953 1545.51,303.203 1547.55,304.452 1549.58,305.7 1551.62,306.947 1553.66,308.193 1555.7,309.437 1557.74,310.679 \n",
       "  1559.78,311.921 1561.82,313.16 1563.86,314.398 1565.89,315.635 1567.93,316.87 1569.97,318.103 1572.01,319.335 1574.05,320.564 1576.09,321.792 1578.13,323.018 \n",
       "  1580.16,324.242 1582.2,325.463 1584.24,326.683 1586.28,327.901 1588.32,329.116 1590.36,330.33 1592.4,331.541 1594.44,332.749 1596.47,333.955 1598.51,335.159 \n",
       "  1600.55,336.361 1602.59,337.559 1604.63,338.756 1606.67,339.949 1608.71,341.14 1610.74,342.328 1612.78,343.514 1614.82,344.696 1616.86,345.876 1618.9,347.053 \n",
       "  1620.94,348.227 1622.98,349.397 1625.02,350.565 1627.05,351.729 1629.09,352.891 1631.13,354.049 1633.17,355.203 1635.21,356.355 1637.25,357.503 1639.29,358.647 \n",
       "  1641.32,359.788 1643.36,360.926 1645.4,362.059 1647.44,363.19 1649.48,364.316 1651.52,365.439 1653.56,366.558 1655.59,367.673 1657.63,368.784 1659.67,369.891 \n",
       "  1661.71,370.994 1663.75,372.093 1665.79,373.188 1667.83,374.279 1669.87,375.366 1671.9,376.448 1673.94,377.526 1675.98,378.6 1678.02,379.669 1680.06,380.733 \n",
       "  1682.1,381.794 1684.14,382.849 1686.17,383.9 1688.21,384.946 1690.25,385.988 1692.29,387.025 1694.33,388.057 1696.37,389.084 1698.41,390.106 1700.45,391.123 \n",
       "  1702.48,392.135 1704.52,393.142 1706.56,394.144 1708.6,395.141 1710.64,396.132 1712.68,397.118 1714.72,398.099 1716.75,399.074 1718.79,400.044 1720.83,401.009 \n",
       "  1722.87,401.967 1724.91,402.921 1726.95,403.868 1728.99,404.81 1731.03,405.746 1733.06,406.677 1735.1,407.601 1737.14,408.52 1739.18,409.432 1741.22,410.339 \n",
       "  1743.26,411.24 1745.3,412.134 1747.33,413.022 1749.37,413.904 1751.41,414.78 1753.45,415.65 1755.49,416.513 1757.53,417.369 1759.57,418.22 1761.61,419.063 \n",
       "  1763.64,419.9 1765.68,420.731 1767.72,421.555 1769.76,422.372 1771.8,423.182 1773.84,423.985 1775.88,424.782 1777.91,425.572 1779.95,426.354 1781.99,427.13 \n",
       "  1784.03,427.898 1786.07,428.66 1788.11,429.414 1790.15,430.161 1792.19,430.901 1794.22,431.633 1796.26,432.358 1798.3,433.075 1800.34,433.785 1802.38,434.488 \n",
       "  1804.42,435.182 1806.46,435.87 1808.49,436.549 1810.53,437.221 1812.57,437.885 1814.61,438.541 1816.65,439.189 1818.69,439.829 1820.73,440.461 1822.77,441.086 \n",
       "  1824.8,441.702 1826.84,442.31 1828.88,442.909 1830.92,443.501 1832.96,444.084 1835,444.658 1837.04,445.225 1839.07,445.782 1841.11,446.332 1843.15,446.873 \n",
       "  1845.19,447.405 1847.23,447.928 1849.27,448.443 1851.31,448.949 1853.35,449.446 1855.38,449.934 1857.42,450.413 1859.46,450.884 1861.5,451.345 1863.54,451.797 \n",
       "  1865.58,452.24 1867.62,452.674 1869.65,453.099 1871.69,453.514 1873.73,453.92 1875.77,454.317 1877.81,454.704 1879.85,455.082 1881.89,455.45 1883.92,455.808 \n",
       "  1885.96,456.157 1888,456.496 1890.04,456.826 1892.08,457.145 1894.12,457.455 1896.16,457.755 1898.2,458.045 1900.23,458.325 1902.27,458.595 1904.31,458.855 \n",
       "  1906.35,459.104 1908.39,459.344 1910.43,459.573 1912.47,459.792 1914.5,460 1916.54,460.198 1918.58,460.386 1920.62,460.563 1922.66,460.729 1924.7,460.885 \n",
       "  1926.74,461.031 1928.78,461.165 1930.81,461.289 1932.85,461.402 1934.89,461.504 1936.93,461.595 1938.97,461.675 1941.01,461.744 1943.05,461.802 1945.08,461.849 \n",
       "  1947.12,461.885 1949.16,461.909 1951.2,461.922 1953.24,461.924 1955.28,461.915 1957.32,461.894 1959.36,461.861 1961.39,461.817 1963.43,461.762 1965.47,461.694 \n",
       "  1967.51,461.615 1969.55,461.525 1971.59,461.422 1973.63,461.308 1975.66,461.182 1977.7,461.044 1979.74,460.893 1981.78,460.731 1983.82,460.557 1985.86,460.37 \n",
       "  1987.9,460.172 1989.94,459.961 1991.97,459.737 1994.01,459.502 1996.05,459.254 1998.09,458.993 2000.13,458.72 2002.17,458.435 2004.21,458.136 2006.24,457.826 \n",
       "  2008.28,457.502 2010.32,457.166 2012.36,456.817 2014.4,456.455 2016.44,456.08 2018.48,455.692 2020.52,455.291 2022.55,454.877 2024.59,454.45 2026.63,454.009 \n",
       "  2028.67,453.556 2030.71,453.089 2032.75,452.609 2034.79,452.115 2036.82,451.608 2038.86,451.088 2040.9,450.554 2042.94,450.006 2044.98,449.445 2047.02,448.87 \n",
       "  2049.06,448.281 2051.1,447.679 2053.13,447.062 2055.17,446.432 2057.21,445.788 2059.25,445.13 2061.29,444.458 2063.33,443.771 2065.37,443.071 2067.4,442.356 \n",
       "  2069.44,441.627 2071.48,440.884 2073.52,440.127 2075.56,439.355 2077.6,438.568 2079.64,437.767 2081.68,436.952 2083.71,436.122 2085.75,435.277 2087.79,434.417 \n",
       "  2089.83,433.543 2091.87,432.654 2093.91,431.75 2095.95,430.831 2097.98,429.897 2100.02,428.948 2102.06,427.985 2104.1,427.005 2106.14,426.011 2108.18,425.002 \n",
       "  2110.22,423.977 2112.26,422.937 2114.29,421.882 2116.33,420.811 2118.37,419.724 2120.41,418.622 2122.45,417.505 2124.49,416.372 2126.53,415.223 2128.56,414.059 \n",
       "  2130.6,412.878 2132.64,411.682 2134.68,410.47 2136.72,409.242 2138.76,407.998 2140.8,406.738 2142.83,405.462 2144.87,404.17 2146.91,402.861 2148.95,401.536 \n",
       "  2150.99,400.195 2153.03,398.838 2155.07,397.464 2157.11,396.074 2159.14,394.667 2161.18,393.244 2163.22,391.804 2165.26,390.347 2167.3,388.874 2169.34,387.384 \n",
       "  2171.38,385.877 2173.41,384.354 2175.45,382.813 2177.49,381.255 2179.53,379.681 2181.57,378.089 2183.61,376.48 2185.65,374.854 2187.69,373.211 2189.72,371.551 \n",
       "  2191.76,369.873 2193.8,368.178 2195.84,366.465 2197.88,364.735 2199.92,362.987 2201.96,361.222 2203.99,359.439 2206.03,357.639 2208.07,355.821 2210.11,353.985 \n",
       "  2212.15,352.131 2214.19,350.259 2216.23,348.369 2218.27,346.462 2220.3,344.536 2222.34,342.592 2224.38,340.63 2226.42,338.65 2228.46,336.652 2230.5,334.635 \n",
       "  2232.54,332.6 2234.57,330.546 2236.61,328.474 2238.65,326.384 2240.69,324.275 2242.73,322.148 2244.77,320.001 2246.81,317.836 2248.85,315.653 2250.88,313.45 \n",
       "  2252.92,311.229 2254.96,308.989 2257,306.729 2259.04,304.451 2261.08,302.154 2263.12,299.838 2265.15,297.502 2267.19,295.147 2269.23,292.773 2271.27,290.38 \n",
       "  2273.31,287.967 2275.35,285.535 2277.39,283.083 2279.43,280.612 2281.46,278.121 2283.5,275.611 2285.54,273.081 2287.58,270.531 2289.62,267.961 2291.66,265.372 \n",
       "  \n",
       "  \"/>\n",
       "<circle clip-path=\"url(#clip822)\" cx=\"339.894\" cy=\"1127.6\" r=\"14\" fill=\"#e26f46\" fill-rule=\"evenodd\" fill-opacity=\"1\" stroke=\"#000000\" stroke-opacity=\"1\" stroke-width=\"3.2\"/>\n",
       "<circle clip-path=\"url(#clip822)\" cx=\"933.909\" cy=\"106.897\" r=\"14\" fill=\"#e26f46\" fill-rule=\"evenodd\" fill-opacity=\"1\" stroke=\"#000000\" stroke-opacity=\"1\" stroke-width=\"3.2\"/>\n",
       "<circle clip-path=\"url(#clip822)\" cx=\"1443.06\" cy=\"240.033\" r=\"14\" fill=\"#e26f46\" fill-rule=\"evenodd\" fill-opacity=\"1\" stroke=\"#000000\" stroke-opacity=\"1\" stroke-width=\"3.2\"/>\n",
       "<circle clip-path=\"url(#clip822)\" cx=\"1952.22\" cy=\"461.925\" r=\"14\" fill=\"#e26f46\" fill-rule=\"evenodd\" fill-opacity=\"1\" stroke=\"#000000\" stroke-opacity=\"1\" stroke-width=\"3.2\"/>\n",
       "<path clip-path=\"url(#clip820)\" d=\"\n",
       "M1988.5 250.738 L2280.8 250.738 L2280.8 95.2176 L1988.5 95.2176  Z\n",
       "  \" fill=\"#ffffff\" fill-rule=\"evenodd\" fill-opacity=\"1\"/>\n",
       "<polyline clip-path=\"url(#clip820)\" style=\"stroke:#000000; stroke-linecap:butt; stroke-linejoin:round; stroke-width:4; stroke-opacity:1; fill:none\" points=\"\n",
       "  1988.5,250.738 2280.8,250.738 2280.8,95.2176 1988.5,95.2176 1988.5,250.738 \n",
       "  \"/>\n",
       "<polyline clip-path=\"url(#clip820)\" style=\"stroke:#009af9; stroke-linecap:butt; stroke-linejoin:round; stroke-width:4; stroke-opacity:1; fill:none\" points=\"\n",
       "  2012.48,147.058 2156.4,147.058 \n",
       "  \"/>\n",
       "<path clip-path=\"url(#clip820)\" d=\"M2194.23 166.745 Q2192.43 171.375 2190.72 172.787 Q2189 174.199 2186.13 174.199 L2182.73 174.199 L2182.73 170.634 L2185.23 170.634 Q2186.99 170.634 2187.96 169.8 Q2188.93 168.967 2190.11 165.865 L2190.88 163.921 L2180.39 138.412 L2184.91 138.412 L2193.01 158.689 L2201.11 138.412 L2205.62 138.412 L2194.23 166.745 Z\" fill=\"#000000\" fill-rule=\"evenodd\" fill-opacity=\"1\" /><path clip-path=\"url(#clip820)\" d=\"M2212.91 160.402 L2220.55 160.402 L2220.55 134.037 L2212.24 135.703 L2212.24 131.444 L2220.51 129.778 L2225.18 129.778 L2225.18 160.402 L2232.82 160.402 L2232.82 164.338 L2212.91 164.338 L2212.91 160.402 Z\" fill=\"#000000\" fill-rule=\"evenodd\" fill-opacity=\"1\" /><circle clip-path=\"url(#clip820)\" cx=\"2084.44\" cy=\"198.898\" r=\"23\" fill=\"#e26f46\" fill-rule=\"evenodd\" fill-opacity=\"1\" stroke=\"#000000\" stroke-opacity=\"1\" stroke-width=\"5.12\"/>\n",
       "<path clip-path=\"url(#clip820)\" d=\"M2194.23 218.585 Q2192.43 223.215 2190.72 224.627 Q2189 226.039 2186.13 226.039 L2182.73 226.039 L2182.73 222.474 L2185.23 222.474 Q2186.99 222.474 2187.96 221.64 Q2188.93 220.807 2190.11 217.705 L2190.88 215.761 L2180.39 190.252 L2184.91 190.252 L2193.01 210.529 L2201.11 190.252 L2205.62 190.252 L2194.23 218.585 Z\" fill=\"#000000\" fill-rule=\"evenodd\" fill-opacity=\"1\" /><path clip-path=\"url(#clip820)\" d=\"M2216.13 212.242 L2232.45 212.242 L2232.45 216.178 L2210.51 216.178 L2210.51 212.242 Q2213.17 209.488 2217.75 204.858 Q2222.36 200.205 2223.54 198.863 Q2225.78 196.34 2226.66 194.604 Q2227.57 192.844 2227.57 191.155 Q2227.57 188.4 2225.62 186.664 Q2223.7 184.928 2220.6 184.928 Q2218.4 184.928 2215.95 185.692 Q2213.52 186.455 2210.74 188.006 L2210.74 183.284 Q2213.56 182.15 2216.02 181.571 Q2218.47 180.993 2220.51 180.993 Q2225.88 180.993 2229.07 183.678 Q2232.27 186.363 2232.27 190.854 Q2232.27 192.983 2231.46 194.905 Q2230.67 196.803 2228.56 199.395 Q2227.98 200.067 2224.88 203.284 Q2221.78 206.479 2216.13 212.242 Z\" fill=\"#000000\" fill-rule=\"evenodd\" fill-opacity=\"1\" /></svg>\n"
      ]
     },
     "execution_count": 46,
     "metadata": {},
     "output_type": "execute_result"
    }
   ],
   "source": [
    "scatter!(t, b1)"
   ]
  },
  {
   "cell_type": "code",
   "execution_count": 47,
   "metadata": {},
   "outputs": [],
   "source": [
    "b2 = [1.0, 0.0, -2.0, 0];"
   ]
  },
  {
   "cell_type": "code",
   "execution_count": 48,
   "metadata": {},
   "outputs": [
    {
     "data": {
      "text/plain": [
       "4-element Vector{Float64}:\n",
       " -1.5412891202364887\n",
       " -3.1090546880020584\n",
       "  3.3384743911059704\n",
       "  3.695135274082644"
      ]
     },
     "execution_count": 48,
     "metadata": {},
     "output_type": "execute_result"
    }
   ],
   "source": [
    "c2 = A\\b2"
   ]
  },
  {
   "cell_type": "code",
   "execution_count": 49,
   "metadata": {},
   "outputs": [
    {
     "data": {
      "text/plain": [
       "1000-element Vector{Float64}:\n",
       " 0.6117858749437701\n",
       " 0.6233598687364292\n",
       " 0.6348191545989312\n",
       " 0.6461640399418851\n",
       " 0.6573948321759033\n",
       " 0.6685118387115949\n",
       " 0.6795153669595679\n",
       " 0.6904057243304358\n",
       " 0.7011832182348048\n",
       " 0.7118481560832874\n",
       " 0.7224008452864945\n",
       " 0.7328415932550332\n",
       " 0.7431707073995168\n",
       " ⋮\n",
       " 5.380574350201477\n",
       " 5.428703559439956\n",
       " 5.4770217824310325\n",
       " 5.525529326585324\n",
       " 5.574226499313433\n",
       " 5.623113608025976\n",
       " 5.672190960133559\n",
       " 5.721458863046791\n",
       " 5.770917624176291\n",
       " 5.820567550932655\n",
       " 5.870408950726508\n",
       " 5.920442130968447"
      ]
     },
     "execution_count": 49,
     "metadata": {},
     "output_type": "execute_result"
    }
   ],
   "source": [
    "p2 = c2[1] .+ c2[2]*ts + c2[3]*ts.^2 + c2[4]*ts.^3"
   ]
  },
  {
   "cell_type": "code",
   "execution_count": 50,
   "metadata": {},
   "outputs": [
    {
     "data": {
      "image/svg+xml": [
       "<?xml version=\"1.0\" encoding=\"utf-8\"?>\n",
       "<svg xmlns=\"http://www.w3.org/2000/svg\" xmlns:xlink=\"http://www.w3.org/1999/xlink\" width=\"600\" height=\"400\" viewBox=\"0 0 2400 1600\">\n",
       "<defs>\n",
       "  <clipPath id=\"clip860\">\n",
       "    <rect x=\"0\" y=\"0\" width=\"2400\" height=\"1600\"/>\n",
       "  </clipPath>\n",
       "</defs>\n",
       "<path clip-path=\"url(#clip860)\" d=\"\n",
       "M0 1600 L2400 1600 L2400 0 L0 0  Z\n",
       "  \" fill=\"#ffffff\" fill-rule=\"evenodd\" fill-opacity=\"1\"/>\n",
       "<defs>\n",
       "  <clipPath id=\"clip861\">\n",
       "    <rect x=\"480\" y=\"0\" width=\"1681\" height=\"1600\"/>\n",
       "  </clipPath>\n",
       "</defs>\n",
       "<path clip-path=\"url(#clip860)\" d=\"\n",
       "M147.108 1486.45 L2352.76 1486.45 L2352.76 47.2441 L147.108 47.2441  Z\n",
       "  \" fill=\"#ffffff\" fill-rule=\"evenodd\" fill-opacity=\"1\"/>\n",
       "<defs>\n",
       "  <clipPath id=\"clip862\">\n",
       "    <rect x=\"147\" y=\"47\" width=\"2207\" height=\"1440\"/>\n",
       "  </clipPath>\n",
       "</defs>\n",
       "<polyline clip-path=\"url(#clip862)\" style=\"stroke:#000000; stroke-linecap:butt; stroke-linejoin:round; stroke-width:2; stroke-opacity:0.1; fill:none\" points=\"\n",
       "  382.932,1486.45 382.932,47.2441 \n",
       "  \"/>\n",
       "<polyline clip-path=\"url(#clip862)\" style=\"stroke:#000000; stroke-linecap:butt; stroke-linejoin:round; stroke-width:2; stroke-opacity:0.1; fill:none\" points=\"\n",
       "  816.432,1486.45 816.432,47.2441 \n",
       "  \"/>\n",
       "<polyline clip-path=\"url(#clip862)\" style=\"stroke:#000000; stroke-linecap:butt; stroke-linejoin:round; stroke-width:2; stroke-opacity:0.1; fill:none\" points=\"\n",
       "  1249.93,1486.45 1249.93,47.2441 \n",
       "  \"/>\n",
       "<polyline clip-path=\"url(#clip862)\" style=\"stroke:#000000; stroke-linecap:butt; stroke-linejoin:round; stroke-width:2; stroke-opacity:0.1; fill:none\" points=\"\n",
       "  1683.43,1486.45 1683.43,47.2441 \n",
       "  \"/>\n",
       "<polyline clip-path=\"url(#clip862)\" style=\"stroke:#000000; stroke-linecap:butt; stroke-linejoin:round; stroke-width:2; stroke-opacity:0.1; fill:none\" points=\"\n",
       "  2116.93,1486.45 2116.93,47.2441 \n",
       "  \"/>\n",
       "<polyline clip-path=\"url(#clip860)\" style=\"stroke:#000000; stroke-linecap:butt; stroke-linejoin:round; stroke-width:4; stroke-opacity:1; fill:none\" points=\"\n",
       "  147.108,1486.45 2352.76,1486.45 \n",
       "  \"/>\n",
       "<polyline clip-path=\"url(#clip860)\" style=\"stroke:#000000; stroke-linecap:butt; stroke-linejoin:round; stroke-width:4; stroke-opacity:1; fill:none\" points=\"\n",
       "  382.932,1486.45 382.932,1467.55 \n",
       "  \"/>\n",
       "<polyline clip-path=\"url(#clip860)\" style=\"stroke:#000000; stroke-linecap:butt; stroke-linejoin:round; stroke-width:4; stroke-opacity:1; fill:none\" points=\"\n",
       "  816.432,1486.45 816.432,1467.55 \n",
       "  \"/>\n",
       "<polyline clip-path=\"url(#clip860)\" style=\"stroke:#000000; stroke-linecap:butt; stroke-linejoin:round; stroke-width:4; stroke-opacity:1; fill:none\" points=\"\n",
       "  1249.93,1486.45 1249.93,1467.55 \n",
       "  \"/>\n",
       "<polyline clip-path=\"url(#clip860)\" style=\"stroke:#000000; stroke-linecap:butt; stroke-linejoin:round; stroke-width:4; stroke-opacity:1; fill:none\" points=\"\n",
       "  1683.43,1486.45 1683.43,1467.55 \n",
       "  \"/>\n",
       "<polyline clip-path=\"url(#clip860)\" style=\"stroke:#000000; stroke-linecap:butt; stroke-linejoin:round; stroke-width:4; stroke-opacity:1; fill:none\" points=\"\n",
       "  2116.93,1486.45 2116.93,1467.55 \n",
       "  \"/>\n",
       "<path clip-path=\"url(#clip860)\" d=\"M329.46 1532.02 L359.135 1532.02 L359.135 1535.95 L329.46 1535.95 L329.46 1532.02 Z\" fill=\"#000000\" fill-rule=\"evenodd\" fill-opacity=\"1\" /><path clip-path=\"url(#clip860)\" d=\"M370.038 1544.91 L377.677 1544.91 L377.677 1518.55 L369.367 1520.21 L369.367 1515.95 L377.631 1514.29 L382.307 1514.29 L382.307 1544.91 L389.945 1544.91 L389.945 1548.85 L370.038 1548.85 L370.038 1544.91 Z\" fill=\"#000000\" fill-rule=\"evenodd\" fill-opacity=\"1\" /><path clip-path=\"url(#clip860)\" d=\"M399.39 1542.97 L404.274 1542.97 L404.274 1548.85 L399.39 1548.85 L399.39 1542.97 Z\" fill=\"#000000\" fill-rule=\"evenodd\" fill-opacity=\"1\" /><path clip-path=\"url(#clip860)\" d=\"M424.459 1517.37 Q420.848 1517.37 419.019 1520.93 Q417.214 1524.47 417.214 1531.6 Q417.214 1538.71 419.019 1542.27 Q420.848 1545.82 424.459 1545.82 Q428.093 1545.82 429.899 1542.27 Q431.728 1538.71 431.728 1531.6 Q431.728 1524.47 429.899 1520.93 Q428.093 1517.37 424.459 1517.37 M424.459 1513.66 Q430.269 1513.66 433.325 1518.27 Q436.404 1522.85 436.404 1531.6 Q436.404 1540.33 433.325 1544.94 Q430.269 1549.52 424.459 1549.52 Q418.649 1549.52 415.57 1544.94 Q412.515 1540.33 412.515 1531.6 Q412.515 1522.85 415.57 1518.27 Q418.649 1513.66 424.459 1513.66 Z\" fill=\"#000000\" fill-rule=\"evenodd\" fill-opacity=\"1\" /><path clip-path=\"url(#clip860)\" d=\"M763.457 1532.02 L793.133 1532.02 L793.133 1535.95 L763.457 1535.95 L763.457 1532.02 Z\" fill=\"#000000\" fill-rule=\"evenodd\" fill-opacity=\"1\" /><path clip-path=\"url(#clip860)\" d=\"M813.226 1517.37 Q809.615 1517.37 807.786 1520.93 Q805.98 1524.47 805.98 1531.6 Q805.98 1538.71 807.786 1542.27 Q809.615 1545.82 813.226 1545.82 Q816.86 1545.82 818.665 1542.27 Q820.494 1538.71 820.494 1531.6 Q820.494 1524.47 818.665 1520.93 Q816.86 1517.37 813.226 1517.37 M813.226 1513.66 Q819.036 1513.66 822.091 1518.27 Q825.17 1522.85 825.17 1531.6 Q825.17 1540.33 822.091 1544.94 Q819.036 1549.52 813.226 1549.52 Q807.415 1549.52 804.337 1544.94 Q801.281 1540.33 801.281 1531.6 Q801.281 1522.85 804.337 1518.27 Q807.415 1513.66 813.226 1513.66 Z\" fill=\"#000000\" fill-rule=\"evenodd\" fill-opacity=\"1\" /><path clip-path=\"url(#clip860)\" d=\"M833.388 1542.97 L838.272 1542.97 L838.272 1548.85 L833.388 1548.85 L833.388 1542.97 Z\" fill=\"#000000\" fill-rule=\"evenodd\" fill-opacity=\"1\" /><path clip-path=\"url(#clip860)\" d=\"M848.503 1514.29 L866.86 1514.29 L866.86 1518.22 L852.786 1518.22 L852.786 1526.7 Q853.804 1526.35 854.823 1526.19 Q855.841 1526 856.86 1526 Q862.647 1526 866.026 1529.17 Q869.406 1532.34 869.406 1537.76 Q869.406 1543.34 865.934 1546.44 Q862.462 1549.52 856.142 1549.52 Q853.966 1549.52 851.698 1549.15 Q849.452 1548.78 847.045 1548.04 L847.045 1543.34 Q849.128 1544.47 851.35 1545.03 Q853.573 1545.58 856.049 1545.58 Q860.054 1545.58 862.392 1543.48 Q864.73 1541.37 864.73 1537.76 Q864.73 1534.15 862.392 1532.04 Q860.054 1529.94 856.049 1529.94 Q854.175 1529.94 852.3 1530.35 Q850.448 1530.77 848.503 1531.65 L848.503 1514.29 Z\" fill=\"#000000\" fill-rule=\"evenodd\" fill-opacity=\"1\" /><path clip-path=\"url(#clip860)\" d=\"M1227.32 1517.37 Q1223.71 1517.37 1221.88 1520.93 Q1220.07 1524.47 1220.07 1531.6 Q1220.07 1538.71 1221.88 1542.27 Q1223.71 1545.82 1227.32 1545.82 Q1230.95 1545.82 1232.76 1542.27 Q1234.58 1538.71 1234.58 1531.6 Q1234.58 1524.47 1232.76 1520.93 Q1230.95 1517.37 1227.32 1517.37 M1227.32 1513.66 Q1233.13 1513.66 1236.18 1518.27 Q1239.26 1522.85 1239.26 1531.6 Q1239.26 1540.33 1236.18 1544.94 Q1233.13 1549.52 1227.32 1549.52 Q1221.51 1549.52 1218.43 1544.94 Q1215.37 1540.33 1215.37 1531.6 Q1215.37 1522.85 1218.43 1518.27 Q1221.51 1513.66 1227.32 1513.66 Z\" fill=\"#000000\" fill-rule=\"evenodd\" fill-opacity=\"1\" /><path clip-path=\"url(#clip860)\" d=\"M1247.48 1542.97 L1252.36 1542.97 L1252.36 1548.85 L1247.48 1548.85 L1247.48 1542.97 Z\" fill=\"#000000\" fill-rule=\"evenodd\" fill-opacity=\"1\" /><path clip-path=\"url(#clip860)\" d=\"M1272.55 1517.37 Q1268.94 1517.37 1267.11 1520.93 Q1265.3 1524.47 1265.3 1531.6 Q1265.3 1538.71 1267.11 1542.27 Q1268.94 1545.82 1272.55 1545.82 Q1276.18 1545.82 1277.99 1542.27 Q1279.82 1538.71 1279.82 1531.6 Q1279.82 1524.47 1277.99 1520.93 Q1276.18 1517.37 1272.55 1517.37 M1272.55 1513.66 Q1278.36 1513.66 1281.41 1518.27 Q1284.49 1522.85 1284.49 1531.6 Q1284.49 1540.33 1281.41 1544.94 Q1278.36 1549.52 1272.55 1549.52 Q1266.74 1549.52 1263.66 1544.94 Q1260.6 1540.33 1260.6 1531.6 Q1260.6 1522.85 1263.66 1518.27 Q1266.74 1513.66 1272.55 1513.66 Z\" fill=\"#000000\" fill-rule=\"evenodd\" fill-opacity=\"1\" /><path clip-path=\"url(#clip860)\" d=\"M1661.31 1517.37 Q1657.7 1517.37 1655.87 1520.93 Q1654.07 1524.47 1654.07 1531.6 Q1654.07 1538.71 1655.87 1542.27 Q1657.7 1545.82 1661.31 1545.82 Q1664.95 1545.82 1666.75 1542.27 Q1668.58 1538.71 1668.58 1531.6 Q1668.58 1524.47 1666.75 1520.93 Q1664.95 1517.37 1661.31 1517.37 M1661.31 1513.66 Q1667.12 1513.66 1670.18 1518.27 Q1673.26 1522.85 1673.26 1531.6 Q1673.26 1540.33 1670.18 1544.94 Q1667.12 1549.52 1661.31 1549.52 Q1655.5 1549.52 1652.43 1544.94 Q1649.37 1540.33 1649.37 1531.6 Q1649.37 1522.85 1652.43 1518.27 Q1655.5 1513.66 1661.31 1513.66 Z\" fill=\"#000000\" fill-rule=\"evenodd\" fill-opacity=\"1\" /><path clip-path=\"url(#clip860)\" d=\"M1681.48 1542.97 L1686.36 1542.97 L1686.36 1548.85 L1681.48 1548.85 L1681.48 1542.97 Z\" fill=\"#000000\" fill-rule=\"evenodd\" fill-opacity=\"1\" /><path clip-path=\"url(#clip860)\" d=\"M1696.59 1514.29 L1714.95 1514.29 L1714.95 1518.22 L1700.87 1518.22 L1700.87 1526.7 Q1701.89 1526.35 1702.91 1526.19 Q1703.93 1526 1704.95 1526 Q1710.73 1526 1714.11 1529.17 Q1717.49 1532.34 1717.49 1537.76 Q1717.49 1543.34 1714.02 1546.44 Q1710.55 1549.52 1704.23 1549.52 Q1702.05 1549.52 1699.79 1549.15 Q1697.54 1548.78 1695.13 1548.04 L1695.13 1543.34 Q1697.22 1544.47 1699.44 1545.03 Q1701.66 1545.58 1704.14 1545.58 Q1708.14 1545.58 1710.48 1543.48 Q1712.82 1541.37 1712.82 1537.76 Q1712.82 1534.15 1710.48 1532.04 Q1708.14 1529.94 1704.14 1529.94 Q1702.26 1529.94 1700.39 1530.35 Q1698.54 1530.77 1696.59 1531.65 L1696.59 1514.29 Z\" fill=\"#000000\" fill-rule=\"evenodd\" fill-opacity=\"1\" /><path clip-path=\"url(#clip860)\" d=\"M2084.08 1544.91 L2091.72 1544.91 L2091.72 1518.55 L2083.41 1520.21 L2083.41 1515.95 L2091.68 1514.29 L2096.35 1514.29 L2096.35 1544.91 L2103.99 1544.91 L2103.99 1548.85 L2084.08 1548.85 L2084.08 1544.91 Z\" fill=\"#000000\" fill-rule=\"evenodd\" fill-opacity=\"1\" /><path clip-path=\"url(#clip860)\" d=\"M2113.44 1542.97 L2118.32 1542.97 L2118.32 1548.85 L2113.44 1548.85 L2113.44 1542.97 Z\" fill=\"#000000\" fill-rule=\"evenodd\" fill-opacity=\"1\" /><path clip-path=\"url(#clip860)\" d=\"M2138.51 1517.37 Q2134.89 1517.37 2133.07 1520.93 Q2131.26 1524.47 2131.26 1531.6 Q2131.26 1538.71 2133.07 1542.27 Q2134.89 1545.82 2138.51 1545.82 Q2142.14 1545.82 2143.95 1542.27 Q2145.77 1538.71 2145.77 1531.6 Q2145.77 1524.47 2143.95 1520.93 Q2142.14 1517.37 2138.51 1517.37 M2138.51 1513.66 Q2144.32 1513.66 2147.37 1518.27 Q2150.45 1522.85 2150.45 1531.6 Q2150.45 1540.33 2147.37 1544.94 Q2144.32 1549.52 2138.51 1549.52 Q2132.7 1549.52 2129.62 1544.94 Q2126.56 1540.33 2126.56 1531.6 Q2126.56 1522.85 2129.62 1518.27 Q2132.7 1513.66 2138.51 1513.66 Z\" fill=\"#000000\" fill-rule=\"evenodd\" fill-opacity=\"1\" /><polyline clip-path=\"url(#clip862)\" style=\"stroke:#000000; stroke-linecap:butt; stroke-linejoin:round; stroke-width:2; stroke-opacity:0.1; fill:none\" points=\"\n",
       "  147.108,1433.11 2352.76,1433.11 \n",
       "  \"/>\n",
       "<polyline clip-path=\"url(#clip862)\" style=\"stroke:#000000; stroke-linecap:butt; stroke-linejoin:round; stroke-width:2; stroke-opacity:0.1; fill:none\" points=\"\n",
       "  147.108,1093.45 2352.76,1093.45 \n",
       "  \"/>\n",
       "<polyline clip-path=\"url(#clip862)\" style=\"stroke:#000000; stroke-linecap:butt; stroke-linejoin:round; stroke-width:2; stroke-opacity:0.1; fill:none\" points=\"\n",
       "  147.108,753.789 2352.76,753.789 \n",
       "  \"/>\n",
       "<polyline clip-path=\"url(#clip862)\" style=\"stroke:#000000; stroke-linecap:butt; stroke-linejoin:round; stroke-width:2; stroke-opacity:0.1; fill:none\" points=\"\n",
       "  147.108,414.127 2352.76,414.127 \n",
       "  \"/>\n",
       "<polyline clip-path=\"url(#clip862)\" style=\"stroke:#000000; stroke-linecap:butt; stroke-linejoin:round; stroke-width:2; stroke-opacity:0.1; fill:none\" points=\"\n",
       "  147.108,74.4649 2352.76,74.4649 \n",
       "  \"/>\n",
       "<polyline clip-path=\"url(#clip860)\" style=\"stroke:#000000; stroke-linecap:butt; stroke-linejoin:round; stroke-width:4; stroke-opacity:1; fill:none\" points=\"\n",
       "  147.108,1486.45 147.108,47.2441 \n",
       "  \"/>\n",
       "<polyline clip-path=\"url(#clip860)\" style=\"stroke:#000000; stroke-linecap:butt; stroke-linejoin:round; stroke-width:4; stroke-opacity:1; fill:none\" points=\"\n",
       "  147.108,1433.11 166.005,1433.11 \n",
       "  \"/>\n",
       "<polyline clip-path=\"url(#clip860)\" style=\"stroke:#000000; stroke-linecap:butt; stroke-linejoin:round; stroke-width:4; stroke-opacity:1; fill:none\" points=\"\n",
       "  147.108,1093.45 166.005,1093.45 \n",
       "  \"/>\n",
       "<polyline clip-path=\"url(#clip860)\" style=\"stroke:#000000; stroke-linecap:butt; stroke-linejoin:round; stroke-width:4; stroke-opacity:1; fill:none\" points=\"\n",
       "  147.108,753.789 166.005,753.789 \n",
       "  \"/>\n",
       "<polyline clip-path=\"url(#clip860)\" style=\"stroke:#000000; stroke-linecap:butt; stroke-linejoin:round; stroke-width:4; stroke-opacity:1; fill:none\" points=\"\n",
       "  147.108,414.127 166.005,414.127 \n",
       "  \"/>\n",
       "<polyline clip-path=\"url(#clip860)\" style=\"stroke:#000000; stroke-linecap:butt; stroke-linejoin:round; stroke-width:4; stroke-opacity:1; fill:none\" points=\"\n",
       "  147.108,74.4649 166.005,74.4649 \n",
       "  \"/>\n",
       "<path clip-path=\"url(#clip860)\" d=\"M50.9921 1433.56 L80.6679 1433.56 L80.6679 1437.5 L50.9921 1437.5 L50.9921 1433.56 Z\" fill=\"#000000\" fill-rule=\"evenodd\" fill-opacity=\"1\" /><path clip-path=\"url(#clip860)\" d=\"M94.7882 1446.46 L111.108 1446.46 L111.108 1450.39 L89.1632 1450.39 L89.1632 1446.46 Q91.8252 1443.7 96.4085 1439.07 Q101.015 1434.42 102.196 1433.08 Q104.441 1430.55 105.321 1428.82 Q106.223 1427.06 106.223 1425.37 Q106.223 1422.62 104.279 1420.88 Q102.358 1419.14 99.2558 1419.14 Q97.0567 1419.14 94.603 1419.91 Q92.1725 1420.67 89.3947 1422.22 L89.3947 1417.5 Q92.2188 1416.37 94.6724 1415.79 Q97.1261 1415.21 99.1632 1415.21 Q104.534 1415.21 107.728 1417.89 Q110.922 1420.58 110.922 1425.07 Q110.922 1427.2 110.112 1429.12 Q109.325 1431.02 107.219 1433.61 Q106.64 1434.28 103.538 1437.5 Q100.436 1440.69 94.7882 1446.46 Z\" fill=\"#000000\" fill-rule=\"evenodd\" fill-opacity=\"1\" /><path clip-path=\"url(#clip860)\" d=\"M99.1632 1079.25 Q95.5521 1079.25 93.7234 1082.81 Q91.9178 1086.36 91.9178 1093.49 Q91.9178 1100.59 93.7234 1104.16 Q95.5521 1107.7 99.1632 1107.7 Q102.797 1107.7 104.603 1104.16 Q106.432 1100.59 106.432 1093.49 Q106.432 1086.36 104.603 1082.81 Q102.797 1079.25 99.1632 1079.25 M99.1632 1075.55 Q104.973 1075.55 108.029 1080.15 Q111.108 1084.74 111.108 1093.49 Q111.108 1102.21 108.029 1106.82 Q104.973 1111.4 99.1632 1111.4 Q93.353 1111.4 90.2743 1106.82 Q87.2188 1102.21 87.2188 1093.49 Q87.2188 1084.74 90.2743 1080.15 Q93.353 1075.55 99.1632 1075.55 Z\" fill=\"#000000\" fill-rule=\"evenodd\" fill-opacity=\"1\" /><path clip-path=\"url(#clip860)\" d=\"M94.7882 767.134 L111.108 767.134 L111.108 771.069 L89.1632 771.069 L89.1632 767.134 Q91.8252 764.379 96.4085 759.749 Q101.015 755.097 102.196 753.754 Q104.441 751.231 105.321 749.495 Q106.223 747.736 106.223 746.046 Q106.223 743.291 104.279 741.555 Q102.358 739.819 99.2558 739.819 Q97.0567 739.819 94.603 740.583 Q92.1725 741.347 89.3947 742.898 L89.3947 738.175 Q92.2188 737.041 94.6724 736.462 Q97.1261 735.884 99.1632 735.884 Q104.534 735.884 107.728 738.569 Q110.922 741.254 110.922 745.745 Q110.922 747.874 110.112 749.796 Q109.325 751.694 107.219 754.286 Q106.64 754.958 103.538 758.175 Q100.436 761.37 94.7882 767.134 Z\" fill=\"#000000\" fill-rule=\"evenodd\" fill-opacity=\"1\" /><path clip-path=\"url(#clip860)\" d=\"M101.524 400.921 L89.7188 419.37 L101.524 419.37 L101.524 400.921 M100.297 396.847 L106.177 396.847 L106.177 419.37 L111.108 419.37 L111.108 423.259 L106.177 423.259 L106.177 431.407 L101.524 431.407 L101.524 423.259 L85.9225 423.259 L85.9225 418.745 L100.297 396.847 Z\" fill=\"#000000\" fill-rule=\"evenodd\" fill-opacity=\"1\" /><path clip-path=\"url(#clip860)\" d=\"M99.5798 72.6015 Q96.4317 72.6015 94.5799 74.7542 Q92.7512 76.907 92.7512 80.657 Q92.7512 84.3838 94.5799 86.5597 Q96.4317 88.7125 99.5798 88.7125 Q102.728 88.7125 104.557 86.5597 Q106.408 84.3838 106.408 80.657 Q106.408 76.907 104.557 74.7542 Q102.728 72.6015 99.5798 72.6015 M108.862 57.9488 L108.862 62.208 Q107.103 61.3747 105.297 60.9349 Q103.515 60.4951 101.756 60.4951 Q97.1261 60.4951 94.6724 63.62 Q92.2419 66.745 91.8947 73.0644 Q93.2604 71.0506 95.3206 69.9857 Q97.3808 68.8978 99.8576 68.8978 Q105.066 68.8978 108.075 72.0691 Q111.108 75.2172 111.108 80.657 Q111.108 85.981 107.959 89.1986 Q104.811 92.4162 99.5798 92.4162 Q93.5845 92.4162 90.4132 87.8329 Q87.2419 83.2264 87.2419 74.4996 Q87.2419 66.3052 91.1308 61.4441 Q95.0197 56.5599 101.571 56.5599 Q103.33 56.5599 105.112 56.9071 Q106.918 57.2543 108.862 57.9488 Z\" fill=\"#000000\" fill-rule=\"evenodd\" fill-opacity=\"1\" /><polyline clip-path=\"url(#clip862)\" style=\"stroke:#009af9; stroke-linecap:butt; stroke-linejoin:round; stroke-width:4; stroke-opacity:1; fill:none\" points=\"\n",
       "  209.532,1385.02 211.614,1381.86 213.697,1378.71 215.78,1375.57 217.863,1372.44 219.946,1369.33 222.029,1366.23 224.112,1363.14 226.195,1360.06 228.278,1356.99 \n",
       "  230.36,1353.94 232.443,1350.89 234.526,1347.86 236.609,1344.84 238.692,1341.83 240.775,1338.84 242.858,1335.85 244.941,1332.88 247.023,1329.92 249.106,1326.97 \n",
       "  251.189,1324.03 253.272,1321.1 255.355,1318.19 257.438,1315.28 259.521,1312.39 261.604,1309.51 263.687,1306.64 265.769,1303.78 267.852,1300.94 269.935,1298.1 \n",
       "  272.018,1295.28 274.101,1292.46 276.184,1289.66 278.267,1286.87 280.35,1284.1 282.432,1281.33 284.515,1278.57 286.598,1275.83 288.681,1273.1 290.764,1270.37 \n",
       "  292.847,1267.66 294.93,1264.96 297.013,1262.27 299.096,1259.6 301.178,1256.93 303.261,1254.28 305.344,1251.63 307.427,1249 309.51,1246.38 311.593,1243.77 \n",
       "  313.676,1241.17 315.759,1238.58 317.841,1236 319.924,1233.43 322.007,1230.88 324.09,1228.33 326.173,1225.8 328.256,1223.27 330.339,1220.76 332.422,1218.26 \n",
       "  334.505,1215.77 336.587,1213.29 338.67,1210.82 340.753,1208.36 342.836,1205.91 344.919,1203.47 347.002,1201.05 349.085,1198.63 351.168,1196.23 353.25,1193.83 \n",
       "  355.333,1191.45 357.416,1189.08 359.499,1186.71 361.582,1184.36 363.665,1182.02 365.748,1179.69 367.831,1177.37 369.914,1175.06 371.996,1172.76 374.079,1170.47 \n",
       "  376.162,1168.19 378.245,1165.92 380.328,1163.66 382.411,1161.41 384.494,1159.18 386.577,1156.95 388.66,1154.73 390.742,1152.52 392.825,1150.33 394.908,1148.14 \n",
       "  396.991,1145.97 399.074,1143.8 401.157,1141.64 403.24,1139.5 405.323,1137.36 407.405,1135.24 409.488,1133.12 411.571,1131.02 413.654,1128.92 415.737,1126.84 \n",
       "  417.82,1124.76 419.903,1122.7 421.986,1120.64 424.069,1118.6 426.151,1116.56 428.234,1114.54 430.317,1112.52 432.4,1110.52 434.483,1108.52 436.566,1106.54 \n",
       "  438.649,1104.56 440.732,1102.6 442.814,1100.64 444.897,1098.69 446.98,1096.76 449.063,1094.83 451.146,1092.91 453.229,1091.01 455.312,1089.11 457.395,1087.22 \n",
       "  459.478,1085.34 461.56,1083.47 463.643,1081.61 465.726,1079.76 467.809,1077.92 469.892,1076.09 471.975,1074.27 474.058,1072.46 476.141,1070.66 478.223,1068.86 \n",
       "  480.306,1067.08 482.389,1065.31 484.472,1063.54 486.555,1061.79 488.638,1060.04 490.721,1058.31 492.804,1056.58 494.887,1054.86 496.969,1053.15 499.052,1051.45 \n",
       "  501.135,1049.76 503.218,1048.08 505.301,1046.41 507.384,1044.75 509.467,1043.09 511.55,1041.45 513.633,1039.81 515.715,1038.19 517.798,1036.57 519.881,1034.96 \n",
       "  521.964,1033.37 524.047,1031.78 526.13,1030.19 528.213,1028.62 530.296,1027.06 532.378,1025.51 534.461,1023.96 536.544,1022.43 538.627,1020.9 540.71,1019.38 \n",
       "  542.793,1017.87 544.876,1016.37 546.959,1014.88 549.042,1013.39 551.124,1011.92 553.207,1010.46 555.29,1009 557.373,1007.55 559.456,1006.11 561.539,1004.68 \n",
       "  563.622,1003.26 565.705,1001.84 567.787,1000.44 569.87,999.044 571.953,997.656 574.036,996.277 576.119,994.906 578.202,993.544 580.285,992.191 582.368,990.846 \n",
       "  584.451,989.509 586.533,988.181 588.616,986.861 590.699,985.549 592.782,984.246 594.865,982.952 596.948,981.665 599.031,980.387 601.114,979.118 603.196,977.856 \n",
       "  605.279,976.603 607.362,975.358 609.445,974.121 611.528,972.893 613.611,971.672 615.694,970.46 617.777,969.256 619.86,968.06 621.942,966.872 624.025,965.693 \n",
       "  626.108,964.521 628.191,963.357 630.274,962.202 632.357,961.054 634.44,959.914 636.523,958.783 638.605,957.659 640.688,956.543 642.771,955.435 644.854,954.335 \n",
       "  646.937,953.243 649.02,952.159 651.103,951.082 653.186,950.014 655.269,948.953 657.351,947.9 659.434,946.854 661.517,945.817 663.6,944.787 665.683,943.764 \n",
       "  667.766,942.75 669.849,941.743 671.932,940.744 674.015,939.752 676.097,938.768 678.18,937.791 680.263,936.822 682.346,935.861 684.429,934.907 686.512,933.961 \n",
       "  688.595,933.022 690.678,932.09 692.76,931.166 694.843,930.25 696.926,929.34 699.009,928.438 701.092,927.544 703.175,926.657 705.258,925.777 707.341,924.904 \n",
       "  709.424,924.039 711.506,923.181 713.589,922.33 715.672,921.487 717.755,920.65 719.838,919.821 721.921,918.999 724.004,918.184 726.087,917.377 728.169,916.576 \n",
       "  730.252,915.782 732.335,914.996 734.418,914.216 736.501,913.444 738.584,912.678 740.667,911.92 742.75,911.168 744.833,910.424 746.915,909.686 748.998,908.956 \n",
       "  751.081,908.232 753.164,907.515 755.247,906.805 757.33,906.101 759.413,905.405 761.496,904.715 763.578,904.032 765.661,903.356 767.744,902.687 769.827,902.024 \n",
       "  771.91,901.368 773.993,900.719 776.076,900.076 778.159,899.44 780.242,898.81 782.324,898.187 784.407,897.571 786.49,896.961 788.573,896.358 790.656,895.762 \n",
       "  792.739,895.171 794.822,894.588 796.905,894.01 798.988,893.439 801.07,892.875 803.153,892.317 805.236,891.765 807.319,891.22 809.402,890.681 811.485,890.148 \n",
       "  813.568,889.622 815.651,889.102 817.733,888.588 819.816,888.081 821.899,887.579 823.982,887.084 826.065,886.595 828.148,886.113 830.231,885.636 832.314,885.165 \n",
       "  834.397,884.701 836.479,884.243 838.562,883.79 840.645,883.344 842.728,882.904 844.811,882.47 846.894,882.041 848.977,881.619 851.06,881.203 853.142,880.792 \n",
       "  855.225,880.388 857.308,879.989 859.391,879.597 861.474,879.21 863.557,878.829 865.64,878.454 867.723,878.084 869.806,877.72 871.888,877.363 873.971,877.01 \n",
       "  876.054,876.664 878.137,876.323 880.22,875.988 882.303,875.658 884.386,875.335 886.469,875.016 888.551,874.704 890.634,874.397 892.717,874.095 894.8,873.799 \n",
       "  896.883,873.509 898.966,873.224 901.049,872.944 903.132,872.67 905.215,872.402 907.297,872.139 909.38,871.881 911.463,871.629 913.546,871.382 915.629,871.14 \n",
       "  917.712,870.903 919.795,870.672 921.878,870.447 923.961,870.226 926.043,870.011 928.126,869.801 930.209,869.596 932.292,869.396 934.375,869.202 936.458,869.012 \n",
       "  938.541,868.828 940.624,868.649 942.706,868.475 944.789,868.306 946.872,868.142 948.955,867.983 951.038,867.829 953.121,867.68 955.204,867.536 957.287,867.397 \n",
       "  959.37,867.263 961.452,867.134 963.535,867.01 965.618,866.89 967.701,866.776 969.784,866.666 971.867,866.561 973.95,866.461 976.033,866.365 978.115,866.275 \n",
       "  980.198,866.189 982.281,866.108 984.364,866.031 986.447,865.959 988.53,865.892 990.613,865.83 992.696,865.772 994.779,865.718 996.861,865.67 998.944,865.625 \n",
       "  1001.03,865.586 1003.11,865.551 1005.19,865.52 1007.28,865.494 1009.36,865.472 1011.44,865.455 1013.52,865.442 1015.61,865.434 1017.69,865.43 1019.77,865.43 \n",
       "  1021.86,865.434 1023.94,865.443 1026.02,865.457 1028.1,865.474 1030.19,865.496 1032.27,865.522 1034.35,865.552 1036.44,865.587 1038.52,865.625 1040.6,865.668 \n",
       "  1042.68,865.715 1044.77,865.766 1046.85,865.821 1048.93,865.881 1051.02,865.944 1053.1,866.011 1055.18,866.083 1057.27,866.158 1059.35,866.238 1061.43,866.321 \n",
       "  1063.51,866.408 1065.6,866.499 1067.68,866.595 1069.76,866.694 1071.85,866.797 1073.93,866.903 1076.01,867.014 1078.09,867.128 1080.18,867.247 1082.26,867.368 \n",
       "  1084.34,867.494 1086.43,867.624 1088.51,867.757 1090.59,867.894 1092.67,868.034 1094.76,868.178 1096.84,868.326 1098.92,868.478 1101.01,868.633 1103.09,868.791 \n",
       "  1105.17,868.953 1107.25,869.119 1109.34,869.288 1111.42,869.461 1113.5,869.637 1115.59,869.817 1117.67,870 1119.75,870.187 1121.83,870.376 1123.92,870.57 \n",
       "  1126,870.766 1128.08,870.966 1130.17,871.17 1132.25,871.376 1134.33,871.586 1136.41,871.799 1138.5,872.016 1140.58,872.235 1142.66,872.458 1144.75,872.684 \n",
       "  1146.83,872.913 1148.91,873.146 1150.99,873.381 1153.08,873.62 1155.16,873.861 1157.24,874.106 1159.33,874.354 1161.41,874.605 1163.49,874.858 1165.57,875.115 \n",
       "  1167.66,875.375 1169.74,875.638 1171.82,875.903 1173.91,876.172 1175.99,876.443 1178.07,876.717 1180.16,876.995 1182.24,877.275 1184.32,877.557 1186.4,877.843 \n",
       "  1188.49,878.131 1190.57,878.422 1192.65,878.716 1194.74,879.013 1196.82,879.312 1198.9,879.614 1200.98,879.919 1203.07,880.226 1205.15,880.536 1207.23,880.848 \n",
       "  1209.32,881.163 1211.4,881.481 1213.48,881.801 1215.56,882.123 1217.65,882.448 1219.73,882.776 1221.81,883.106 1223.9,883.439 1225.98,883.774 1228.06,884.111 \n",
       "  1230.14,884.451 1232.23,884.793 1234.31,885.137 1236.39,885.484 1238.48,885.833 1240.56,886.184 1242.64,886.538 1244.72,886.893 1246.81,887.252 1248.89,887.612 \n",
       "  1250.97,887.974 1253.06,888.339 1255.14,888.706 1257.22,889.074 1259.3,889.445 1261.39,889.818 1263.47,890.194 1265.55,890.571 1267.64,890.95 1269.72,891.331 \n",
       "  1271.8,891.714 1273.88,892.1 1275.97,892.487 1278.05,892.876 1280.13,893.267 1282.22,893.66 1284.3,894.054 1286.38,894.451 1288.47,894.849 1290.55,895.25 \n",
       "  1292.63,895.652 1294.71,896.055 1296.8,896.461 1298.88,896.868 1300.96,897.277 1303.05,897.688 1305.13,898.1 1307.21,898.514 1309.29,898.93 1311.38,899.347 \n",
       "  1313.46,899.766 1315.54,900.187 1317.63,900.609 1319.71,901.032 1321.79,901.457 1323.87,901.884 1325.96,902.312 1328.04,902.741 1330.12,903.172 1332.21,903.605 \n",
       "  1334.29,904.038 1336.37,904.474 1338.45,904.91 1340.54,905.348 1342.62,905.787 1344.7,906.228 1346.79,906.669 1348.87,907.112 1350.95,907.557 1353.03,908.002 \n",
       "  1355.12,908.449 1357.2,908.897 1359.28,909.346 1361.37,909.796 1363.45,910.247 1365.53,910.7 1367.61,911.153 1369.7,911.608 1371.78,912.064 1373.86,912.52 \n",
       "  1375.95,912.978 1378.03,913.437 1380.11,913.896 1382.19,914.357 1384.28,914.819 1386.36,915.281 1388.44,915.744 1390.53,916.209 1392.61,916.674 1394.69,917.14 \n",
       "  1396.77,917.606 1398.86,918.074 1400.94,918.542 1403.02,919.011 1405.11,919.481 1407.19,919.951 1409.27,920.423 1411.36,920.894 1413.44,921.367 1415.52,921.84 \n",
       "  1417.6,922.314 1419.69,922.788 1421.77,923.263 1423.85,923.739 1425.94,924.215 1428.02,924.691 1430.1,925.168 1432.18,925.646 1434.27,926.124 1436.35,926.602 \n",
       "  1438.43,927.081 1440.52,927.561 1442.6,928.04 1444.68,928.52 1446.76,929.001 1448.85,929.481 1450.93,929.962 1453.01,930.444 1455.1,930.925 1457.18,931.407 \n",
       "  1459.26,931.889 1461.34,932.371 1463.43,932.854 1465.51,933.336 1467.59,933.819 1469.68,934.302 1471.76,934.785 1473.84,935.268 1475.92,935.751 1478.01,936.234 \n",
       "  1480.09,936.717 1482.17,937.2 1484.26,937.684 1486.34,938.167 1488.42,938.65 1490.5,939.133 1492.59,939.616 1494.67,940.099 1496.75,940.582 1498.84,941.064 \n",
       "  1500.92,941.547 1503,942.029 1505.08,942.511 1507.17,942.993 1509.25,943.474 1511.33,943.956 1513.42,944.437 1515.5,944.917 1517.58,945.398 1519.67,945.878 \n",
       "  1521.75,946.358 1523.83,946.837 1525.91,947.316 1528,947.794 1530.08,948.272 1532.16,948.75 1534.25,949.227 1536.33,949.704 1538.41,950.18 1540.49,950.655 \n",
       "  1542.58,951.13 1544.66,951.605 1546.74,952.079 1548.83,952.552 1550.91,953.024 1552.99,953.496 1555.07,953.968 1557.16,954.438 1559.24,954.908 1561.32,955.377 \n",
       "  1563.41,955.846 1565.49,956.313 1567.57,956.78 1569.65,957.246 1571.74,957.711 1573.82,958.175 1575.9,958.639 1577.99,959.101 1580.07,959.563 1582.15,960.024 \n",
       "  1584.23,960.483 1586.32,960.942 1588.4,961.4 1590.48,961.857 1592.57,962.312 1594.65,962.767 1596.73,963.221 1598.81,963.673 1600.9,964.125 1602.98,964.575 \n",
       "  1605.06,965.024 1607.15,965.472 1609.23,965.919 1611.31,966.365 1613.39,966.809 1615.48,967.252 1617.56,967.694 1619.64,968.135 1621.73,968.574 1623.81,969.012 \n",
       "  1625.89,969.449 1627.98,969.884 1630.06,970.318 1632.14,970.75 1634.22,971.182 1636.31,971.611 1638.39,972.039 1640.47,972.466 1642.56,972.891 1644.64,973.315 \n",
       "  1646.72,973.737 1648.8,974.158 1650.89,974.577 1652.97,974.994 1655.05,975.41 1657.14,975.824 1659.22,976.237 1661.3,976.648 1663.38,977.057 1665.47,977.464 \n",
       "  1667.55,977.87 1669.63,978.274 1671.72,978.676 1673.8,979.077 1675.88,979.475 1677.96,979.872 1680.05,980.267 1682.13,980.66 1684.21,981.051 1686.3,981.44 \n",
       "  1688.38,981.828 1690.46,982.213 1692.54,982.596 1694.63,982.978 1696.71,983.357 1698.79,983.735 1700.88,984.11 1702.96,984.483 1705.04,984.854 1707.12,985.223 \n",
       "  1709.21,985.59 1711.29,985.955 1713.37,986.318 1715.46,986.678 1717.54,987.036 1719.62,987.392 1721.7,987.746 1723.79,988.098 1725.87,988.447 1727.95,988.794 \n",
       "  1730.04,989.139 1732.12,989.481 1734.2,989.821 1736.28,990.158 1738.37,990.494 1740.45,990.826 1742.53,991.157 1744.62,991.484 1746.7,991.81 1748.78,992.133 \n",
       "  1750.87,992.453 1752.95,992.771 1755.03,993.086 1757.11,993.399 1759.2,993.709 1761.28,994.016 1763.36,994.321 1765.45,994.623 1767.53,994.923 1769.61,995.22 \n",
       "  1771.69,995.514 1773.78,995.805 1775.86,996.094 1777.94,996.38 1780.03,996.663 1782.11,996.943 1784.19,997.22 1786.27,997.495 1788.36,997.767 1790.44,998.035 \n",
       "  1792.52,998.301 1794.61,998.564 1796.69,998.824 1798.77,999.081 1800.85,999.335 1802.94,999.587 1805.02,999.835 1807.1,1000.08 1809.19,1000.32 1811.27,1000.56 \n",
       "  1813.35,1000.8 1815.43,1001.03 1817.52,1001.26 1819.6,1001.48 1821.68,1001.71 1823.77,1001.93 1825.85,1002.14 1827.93,1002.36 1830.01,1002.57 1832.1,1002.77 \n",
       "  1834.18,1002.98 1836.26,1003.18 1838.35,1003.38 1840.43,1003.57 1842.51,1003.76 1844.59,1003.95 1846.68,1004.13 1848.76,1004.31 1850.84,1004.49 1852.93,1004.66 \n",
       "  1855.01,1004.83 1857.09,1005 1859.18,1005.16 1861.26,1005.32 1863.34,1005.47 1865.42,1005.62 1867.51,1005.77 1869.59,1005.92 1871.67,1006.06 1873.76,1006.19 \n",
       "  1875.84,1006.33 1877.92,1006.46 1880,1006.58 1882.09,1006.71 1884.17,1006.82 1886.25,1006.94 1888.34,1007.05 1890.42,1007.16 1892.5,1007.26 1894.58,1007.36 \n",
       "  1896.67,1007.46 1898.75,1007.55 1900.83,1007.64 1902.92,1007.72 1905,1007.8 1907.08,1007.87 1909.16,1007.95 1911.25,1008.01 1913.33,1008.08 1915.41,1008.14 \n",
       "  1917.5,1008.19 1919.58,1008.24 1921.66,1008.29 1923.74,1008.34 1925.83,1008.37 1927.91,1008.41 1929.99,1008.44 1932.08,1008.47 1934.16,1008.49 1936.24,1008.51 \n",
       "  1938.32,1008.52 1940.41,1008.53 1942.49,1008.53 1944.57,1008.54 1946.66,1008.53 1948.74,1008.52 1950.82,1008.51 1952.9,1008.49 1954.99,1008.47 1957.07,1008.45 \n",
       "  1959.15,1008.42 1961.24,1008.38 1963.32,1008.34 1965.4,1008.3 1967.48,1008.25 1969.57,1008.2 1971.65,1008.14 1973.73,1008.08 1975.82,1008.01 1977.9,1007.94 \n",
       "  1979.98,1007.86 1982.07,1007.78 1984.15,1007.7 1986.23,1007.61 1988.31,1007.51 1990.4,1007.41 1992.48,1007.31 1994.56,1007.2 1996.65,1007.09 1998.73,1006.97 \n",
       "  2000.81,1006.84 2002.89,1006.71 2004.98,1006.58 2007.06,1006.44 2009.14,1006.3 2011.23,1006.15 2013.31,1006 2015.39,1005.84 2017.47,1005.67 2019.56,1005.51 \n",
       "  2021.64,1005.33 2023.72,1005.15 2025.81,1004.97 2027.89,1004.78 2029.97,1004.59 2032.05,1004.39 2034.14,1004.18 2036.22,1003.97 2038.3,1003.76 2040.39,1003.54 \n",
       "  2042.47,1003.31 2044.55,1003.08 2046.63,1002.85 2048.72,1002.61 2050.8,1002.36 2052.88,1002.11 2054.97,1001.85 2057.05,1001.59 2059.13,1001.32 2061.21,1001.05 \n",
       "  2063.3,1000.77 2065.38,1000.48 2067.46,1000.19 2069.55,999.898 2071.63,999.597 2073.71,999.29 2075.79,998.978 2077.88,998.661 2079.96,998.337 2082.04,998.008 \n",
       "  2084.13,997.674 2086.21,997.334 2088.29,996.988 2090.38,996.636 2092.46,996.279 2094.54,995.916 2096.62,995.547 2098.71,995.172 2100.79,994.792 2102.87,994.405 \n",
       "  2104.96,994.013 2107.04,993.615 2109.12,993.211 2111.2,992.801 2113.29,992.386 2115.37,991.964 2117.45,991.536 2119.54,991.103 2121.62,990.663 2123.7,990.217 \n",
       "  2125.78,989.766 2127.87,989.308 2129.95,988.844 2132.03,988.374 2134.12,987.898 2136.2,987.416 2138.28,986.928 2140.36,986.433 2142.45,985.932 2144.53,985.425 \n",
       "  2146.61,984.912 2148.7,984.393 2150.78,983.867 2152.86,983.335 2154.94,982.797 2157.03,982.252 2159.11,981.701 2161.19,981.143 2163.28,980.58 2165.36,980.009 \n",
       "  2167.44,979.433 2169.52,978.85 2171.61,978.26 2173.69,977.664 2175.77,977.061 2177.86,976.452 2179.94,975.837 2182.02,975.214 2184.1,974.586 2186.19,973.95 \n",
       "  2188.27,973.308 2190.35,972.659 2192.44,972.004 2194.52,971.342 2196.6,970.673 2198.69,969.998 2200.77,969.315 2202.85,968.626 2204.93,967.93 2207.02,967.228 \n",
       "  2209.1,966.518 2211.18,965.802 2213.27,965.079 2215.35,964.349 2217.43,963.612 2219.51,962.868 2221.6,962.117 2223.68,961.359 2225.76,960.595 2227.85,959.823 \n",
       "  2229.93,959.044 2232.01,958.258 2234.09,957.465 2236.18,956.665 2238.26,955.858 2240.34,955.044 2242.43,954.223 2244.51,953.394 2246.59,952.559 2248.67,951.716 \n",
       "  2250.76,950.866 2252.84,950.008 2254.92,949.144 2257.01,948.272 2259.09,947.393 2261.17,946.506 2263.25,945.613 2265.34,944.711 2267.42,943.803 2269.5,942.887 \n",
       "  2271.59,941.964 2273.67,941.033 2275.75,940.095 2277.83,939.149 2279.92,938.196 2282,937.235 2284.08,936.267 2286.17,935.291 2288.25,934.308 2290.33,933.317 \n",
       "  \n",
       "  \"/>\n",
       "<circle clip-path=\"url(#clip862)\" cx=\"296.232\" cy=\"1263.28\" r=\"14\" fill=\"#e26f46\" fill-rule=\"evenodd\" fill-opacity=\"1\" stroke=\"#000000\" stroke-opacity=\"1\" stroke-width=\"3.2\"/>\n",
       "<circle clip-path=\"url(#clip862)\" cx=\"903.132\" cy=\"872.67\" r=\"14\" fill=\"#e26f46\" fill-rule=\"evenodd\" fill-opacity=\"1\" stroke=\"#000000\" stroke-opacity=\"1\" stroke-width=\"3.2\"/>\n",
       "<circle clip-path=\"url(#clip862)\" cx=\"1423.33\" cy=\"923.62\" r=\"14\" fill=\"#e26f46\" fill-rule=\"evenodd\" fill-opacity=\"1\" stroke=\"#000000\" stroke-opacity=\"1\" stroke-width=\"3.2\"/>\n",
       "<circle clip-path=\"url(#clip862)\" cx=\"1943.53\" cy=\"1008.54\" r=\"14\" fill=\"#e26f46\" fill-rule=\"evenodd\" fill-opacity=\"1\" stroke=\"#000000\" stroke-opacity=\"1\" stroke-width=\"3.2\"/>\n",
       "<polyline clip-path=\"url(#clip862)\" style=\"stroke:#3da44d; stroke-linecap:butt; stroke-linejoin:round; stroke-width:4; stroke-opacity:1; fill:none\" points=\"\n",
       "  209.532,989.551 211.614,987.585 213.697,985.639 215.78,983.712 217.863,981.805 219.946,979.917 222.029,978.048 224.112,976.198 226.195,974.368 228.278,972.557 \n",
       "  230.36,970.765 232.443,968.992 234.526,967.237 236.609,965.502 238.692,963.786 240.775,962.088 242.858,960.409 244.941,958.749 247.023,957.107 249.106,955.484 \n",
       "  251.189,953.88 253.272,952.294 255.355,950.727 257.438,949.177 259.521,947.647 261.604,946.134 263.687,944.64 265.769,943.164 267.852,941.706 269.935,940.266 \n",
       "  272.018,938.844 274.101,937.44 276.184,936.054 278.267,934.686 280.35,933.336 282.432,932.003 284.515,930.688 286.598,929.391 288.681,928.112 290.764,926.85 \n",
       "  292.847,925.605 294.93,924.378 297.013,923.168 299.096,921.976 301.178,920.801 303.261,919.643 305.344,918.502 307.427,917.379 309.51,916.272 311.593,915.183 \n",
       "  313.676,914.11 315.759,913.055 317.841,912.016 319.924,910.994 322.007,909.989 324.09,909.001 326.173,908.029 328.256,907.074 330.339,906.136 332.422,905.213 \n",
       "  334.505,904.308 336.587,903.419 338.67,902.546 340.753,901.689 342.836,900.849 344.919,900.025 347.002,899.217 349.085,898.425 351.168,897.649 353.25,896.89 \n",
       "  355.333,896.146 357.416,895.418 359.499,894.705 361.582,894.009 363.665,893.328 365.748,892.663 367.831,892.014 369.914,891.38 371.996,890.762 374.079,890.159 \n",
       "  376.162,889.571 378.245,888.999 380.328,888.442 382.411,887.901 384.494,887.374 386.577,886.863 388.66,886.367 390.742,885.886 392.825,885.42 394.908,884.969 \n",
       "  396.991,884.532 399.074,884.111 401.157,883.704 403.24,883.312 405.323,882.935 407.405,882.573 409.488,882.224 411.571,881.891 413.654,881.572 415.737,881.267 \n",
       "  417.82,880.977 419.903,880.701 421.986,880.439 424.069,880.192 426.151,879.959 428.234,879.739 430.317,879.534 432.4,879.343 434.483,879.166 436.566,879.002 \n",
       "  438.649,878.853 440.732,878.717 442.814,878.595 444.897,878.487 446.98,878.392 449.063,878.311 451.146,878.244 453.229,878.19 455.312,878.149 457.395,878.122 \n",
       "  459.478,878.108 461.56,878.107 463.643,878.12 465.726,878.145 467.809,878.184 469.892,878.236 471.975,878.301 474.058,878.379 476.141,878.47 478.223,878.573 \n",
       "  480.306,878.69 482.389,878.819 484.472,878.961 486.555,879.115 488.638,879.282 490.721,879.462 492.804,879.654 494.887,879.858 496.969,880.075 499.052,880.304 \n",
       "  501.135,880.546 503.218,880.8 505.301,881.066 507.384,881.344 509.467,881.634 511.55,881.936 513.633,882.25 515.715,882.576 517.798,882.914 519.881,883.263 \n",
       "  521.964,883.625 524.047,883.998 526.13,884.383 528.213,884.779 530.296,885.187 532.378,885.606 534.461,886.037 536.544,886.479 538.627,886.933 540.71,887.398 \n",
       "  542.793,887.874 544.876,888.361 546.959,888.859 549.042,889.369 551.124,889.889 553.207,890.421 555.29,890.963 557.373,891.516 559.456,892.08 561.539,892.655 \n",
       "  563.622,893.241 565.705,893.837 567.787,894.444 569.87,895.061 571.953,895.689 574.036,896.327 576.119,896.976 578.202,897.635 580.285,898.304 582.368,898.984 \n",
       "  584.451,899.673 586.533,900.373 588.616,901.083 590.699,901.803 592.782,902.533 594.865,903.273 596.948,904.023 599.031,904.782 601.114,905.552 603.196,906.331 \n",
       "  605.279,907.12 607.362,907.918 609.445,908.726 611.528,909.543 613.611,910.37 615.694,911.207 617.777,912.052 619.86,912.907 621.942,913.771 624.025,914.645 \n",
       "  626.108,915.527 628.191,916.419 630.274,917.32 632.357,918.229 634.44,919.148 636.523,920.075 638.605,921.012 640.688,921.957 642.771,922.911 644.854,923.873 \n",
       "  646.937,924.844 649.02,925.824 651.103,926.812 653.186,927.809 655.269,928.814 657.351,929.827 659.434,930.849 661.517,931.879 663.6,932.917 665.683,933.963 \n",
       "  667.766,935.018 669.849,936.08 671.932,937.151 674.015,938.229 676.097,939.316 678.18,940.41 680.263,941.512 682.346,942.622 684.429,943.739 686.512,944.864 \n",
       "  688.595,945.996 690.678,947.137 692.76,948.284 694.843,949.439 696.926,950.602 699.009,951.771 701.092,952.948 703.175,954.132 705.258,955.324 707.341,956.522 \n",
       "  709.424,957.728 711.506,958.94 713.589,960.159 715.672,961.386 717.755,962.619 719.838,963.859 721.921,965.106 724.004,966.359 726.087,967.619 728.169,968.886 \n",
       "  730.252,970.159 732.335,971.439 734.418,972.725 736.501,974.017 738.584,975.316 740.667,976.621 742.75,977.932 744.833,979.25 746.915,980.573 748.998,981.903 \n",
       "  751.081,983.238 753.164,984.58 755.247,985.928 757.33,987.281 759.413,988.64 761.496,990.005 763.578,991.376 765.661,992.752 767.744,994.134 769.827,995.521 \n",
       "  771.91,996.914 773.993,998.312 776.076,999.716 778.159,1001.12 780.242,1002.54 782.324,1003.96 784.407,1005.38 786.49,1006.81 788.573,1008.25 790.656,1009.69 \n",
       "  792.739,1011.13 794.822,1012.58 796.905,1014.04 798.988,1015.5 801.07,1016.96 803.153,1018.43 805.236,1019.9 807.319,1021.38 809.402,1022.86 811.485,1024.35 \n",
       "  813.568,1025.84 815.651,1027.34 817.733,1028.84 819.816,1030.34 821.899,1031.85 823.982,1033.37 826.065,1034.88 828.148,1036.41 830.231,1037.93 832.314,1039.46 \n",
       "  834.397,1040.99 836.479,1042.53 838.562,1044.07 840.645,1045.62 842.728,1047.16 844.811,1048.72 846.894,1050.27 848.977,1051.83 851.06,1053.39 853.142,1054.96 \n",
       "  855.225,1056.53 857.308,1058.1 859.391,1059.68 861.474,1061.26 863.557,1062.84 865.64,1064.43 867.723,1066.02 869.806,1067.61 871.888,1069.2 873.971,1070.8 \n",
       "  876.054,1072.4 878.137,1074.01 880.22,1075.61 882.303,1077.22 884.386,1078.83 886.469,1080.45 888.551,1082.06 890.634,1083.68 892.717,1085.31 894.8,1086.93 \n",
       "  896.883,1088.56 898.966,1090.19 901.049,1091.82 903.132,1093.45 905.215,1095.09 907.297,1096.72 909.38,1098.36 911.463,1100.01 913.546,1101.65 915.629,1103.29 \n",
       "  917.712,1104.94 919.795,1106.59 921.878,1108.24 923.961,1109.89 926.043,1111.55 928.126,1113.2 930.209,1114.86 932.292,1116.52 934.375,1118.18 936.458,1119.84 \n",
       "  938.541,1121.51 940.624,1123.17 942.706,1124.83 944.789,1126.5 946.872,1128.17 948.955,1129.84 951.038,1131.51 953.121,1133.18 955.204,1134.85 957.287,1136.52 \n",
       "  959.37,1138.19 961.452,1139.87 963.535,1141.54 965.618,1143.22 967.701,1144.89 969.784,1146.57 971.867,1148.25 973.95,1149.92 976.033,1151.6 978.115,1153.28 \n",
       "  980.198,1154.96 982.281,1156.64 984.364,1158.31 986.447,1159.99 988.53,1161.67 990.613,1163.35 992.696,1165.03 994.779,1166.71 996.861,1168.39 998.944,1170.06 \n",
       "  1001.03,1171.74 1003.11,1173.42 1005.19,1175.1 1007.28,1176.77 1009.36,1178.45 1011.44,1180.13 1013.52,1181.8 1015.61,1183.48 1017.69,1185.15 1019.77,1186.82 \n",
       "  1021.86,1188.5 1023.94,1190.17 1026.02,1191.84 1028.1,1193.51 1030.19,1195.18 1032.27,1196.85 1034.35,1198.51 1036.44,1200.18 1038.52,1201.84 1040.6,1203.51 \n",
       "  1042.68,1205.17 1044.77,1206.83 1046.85,1208.49 1048.93,1210.15 1051.02,1211.8 1053.1,1213.46 1055.18,1215.11 1057.27,1216.76 1059.35,1218.41 1061.43,1220.06 \n",
       "  1063.51,1221.7 1065.6,1223.35 1067.68,1224.99 1069.76,1226.63 1071.85,1228.27 1073.93,1229.91 1076.01,1231.54 1078.09,1233.17 1080.18,1234.8 1082.26,1236.43 \n",
       "  1084.34,1238.05 1086.43,1239.68 1088.51,1241.3 1090.59,1242.91 1092.67,1244.53 1094.76,1246.14 1096.84,1247.75 1098.92,1249.36 1101.01,1250.96 1103.09,1252.56 \n",
       "  1105.17,1254.16 1107.25,1255.76 1109.34,1257.35 1111.42,1258.94 1113.5,1260.53 1115.59,1262.11 1117.67,1263.69 1119.75,1265.27 1121.83,1266.84 1123.92,1268.41 \n",
       "  1126,1269.98 1128.08,1271.55 1130.17,1273.11 1132.25,1274.66 1134.33,1276.22 1136.41,1277.76 1138.5,1279.31 1140.58,1280.85 1142.66,1282.39 1144.75,1283.93 \n",
       "  1146.83,1285.46 1148.91,1286.98 1150.99,1288.5 1153.08,1290.02 1155.16,1291.54 1157.24,1293.05 1159.33,1294.55 1161.41,1296.06 1163.49,1297.55 1165.57,1299.05 \n",
       "  1167.66,1300.53 1169.74,1302.02 1171.82,1303.5 1173.91,1304.97 1175.99,1306.44 1178.07,1307.91 1180.16,1309.37 1182.24,1310.83 1184.32,1312.28 1186.4,1313.72 \n",
       "  1188.49,1315.16 1190.57,1316.6 1192.65,1318.03 1194.74,1319.46 1196.82,1320.88 1198.9,1322.29 1200.98,1323.71 1203.07,1325.11 1205.15,1326.51 1207.23,1327.9 \n",
       "  1209.32,1329.29 1211.4,1330.68 1213.48,1332.06 1215.56,1333.43 1217.65,1334.79 1219.73,1336.15 1221.81,1337.51 1223.9,1338.86 1225.98,1340.2 1228.06,1341.54 \n",
       "  1230.14,1342.87 1232.23,1344.2 1234.31,1345.52 1236.39,1346.83 1238.48,1348.14 1240.56,1349.44 1242.64,1350.73 1244.72,1352.02 1246.81,1353.3 1248.89,1354.57 \n",
       "  1250.97,1355.84 1253.06,1357.1 1255.14,1358.36 1257.22,1359.61 1259.3,1360.85 1261.39,1362.09 1263.47,1363.31 1265.55,1364.54 1267.64,1365.75 1269.72,1366.96 \n",
       "  1271.8,1368.16 1273.88,1369.35 1275.97,1370.54 1278.05,1371.72 1280.13,1372.89 1282.22,1374.05 1284.3,1375.21 1286.38,1376.36 1288.47,1377.5 1290.55,1378.64 \n",
       "  1292.63,1379.76 1294.71,1380.88 1296.8,1381.99 1298.88,1383.1 1300.96,1384.2 1303.05,1385.28 1305.13,1386.36 1307.21,1387.44 1309.29,1388.5 1311.38,1389.56 \n",
       "  1313.46,1390.61 1315.54,1391.65 1317.63,1392.68 1319.71,1393.7 1321.79,1394.72 1323.87,1395.73 1325.96,1396.73 1328.04,1397.72 1330.12,1398.7 1332.21,1399.67 \n",
       "  1334.29,1400.64 1336.37,1401.59 1338.45,1402.54 1340.54,1403.48 1342.62,1404.41 1344.7,1405.33 1346.79,1406.24 1348.87,1407.15 1350.95,1408.04 1353.03,1408.93 \n",
       "  1355.12,1409.8 1357.2,1410.67 1359.28,1411.53 1361.37,1412.38 1363.45,1413.21 1365.53,1414.04 1367.61,1414.86 1369.7,1415.67 1371.78,1416.48 1373.86,1417.27 \n",
       "  1375.95,1418.05 1378.03,1418.82 1380.11,1419.58 1382.19,1420.34 1384.28,1421.08 1386.36,1421.81 1388.44,1422.53 1390.53,1423.25 1392.61,1423.95 1394.69,1424.64 \n",
       "  1396.77,1425.33 1398.86,1426 1400.94,1426.66 1403.02,1427.31 1405.11,1427.95 1407.19,1428.58 1409.27,1429.2 1411.36,1429.81 1413.44,1430.41 1415.52,1431 \n",
       "  1417.6,1431.58 1419.69,1432.15 1421.77,1432.7 1423.85,1433.25 1425.94,1433.78 1428.02,1434.31 1430.1,1434.82 1432.18,1435.32 1434.27,1435.81 1436.35,1436.29 \n",
       "  1438.43,1436.76 1440.52,1437.21 1442.6,1437.66 1444.68,1438.09 1446.76,1438.52 1448.85,1438.93 1450.93,1439.33 1453.01,1439.72 1455.1,1440.09 1457.18,1440.46 \n",
       "  1459.26,1440.81 1461.34,1441.15 1463.43,1441.48 1465.51,1441.8 1467.59,1442.1 1469.68,1442.4 1471.76,1442.68 1473.84,1442.95 1475.92,1443.21 1478.01,1443.45 \n",
       "  1480.09,1443.68 1482.17,1443.9 1484.26,1444.11 1486.34,1444.31 1488.42,1444.49 1490.5,1444.66 1492.59,1444.82 1494.67,1444.96 1496.75,1445.1 1498.84,1445.22 \n",
       "  1500.92,1445.32 1503,1445.42 1505.08,1445.5 1507.17,1445.57 1509.25,1445.62 1511.33,1445.67 1513.42,1445.7 1515.5,1445.71 1517.58,1445.72 1519.67,1445.71 \n",
       "  1521.75,1445.68 1523.83,1445.65 1525.91,1445.6 1528,1445.53 1530.08,1445.45 1532.16,1445.36 1534.25,1445.26 1536.33,1445.14 1538.41,1445.01 1540.49,1444.86 \n",
       "  1542.58,1444.7 1544.66,1444.53 1546.74,1444.34 1548.83,1444.14 1550.91,1443.93 1552.99,1443.7 1555.07,1443.45 1557.16,1443.2 1559.24,1442.93 1561.32,1442.64 \n",
       "  1563.41,1442.34 1565.49,1442.02 1567.57,1441.69 1569.65,1441.35 1571.74,1440.99 1573.82,1440.62 1575.9,1440.23 1577.99,1439.83 1580.07,1439.41 1582.15,1438.98 \n",
       "  1584.23,1438.53 1586.32,1438.07 1588.4,1437.59 1590.48,1437.1 1592.57,1436.59 1594.65,1436.07 1596.73,1435.54 1598.81,1434.98 1600.9,1434.42 1602.98,1433.83 \n",
       "  1605.06,1433.23 1607.15,1432.62 1609.23,1431.99 1611.31,1431.35 1613.39,1430.68 1615.48,1430.01 1617.56,1429.32 1619.64,1428.61 1621.73,1427.89 1623.81,1427.15 \n",
       "  1625.89,1426.39 1627.98,1425.62 1630.06,1424.83 1632.14,1424.03 1634.22,1423.21 1636.31,1422.37 1638.39,1421.52 1640.47,1420.65 1642.56,1419.77 1644.64,1418.87 \n",
       "  1646.72,1417.95 1648.8,1417.02 1650.89,1416.07 1652.97,1415.1 1655.05,1414.12 1657.14,1413.12 1659.22,1412.1 1661.3,1411.06 1663.38,1410.01 1665.47,1408.95 \n",
       "  1667.55,1407.86 1669.63,1406.76 1671.72,1405.64 1673.8,1404.51 1675.88,1403.35 1677.96,1402.18 1680.05,1401 1682.13,1399.79 1684.21,1398.57 1686.3,1397.33 \n",
       "  1688.38,1396.07 1690.46,1394.8 1692.54,1393.5 1694.63,1392.2 1696.71,1390.87 1698.79,1389.52 1700.88,1388.16 1702.96,1386.78 1705.04,1385.38 1707.12,1383.96 \n",
       "  1709.21,1382.53 1711.29,1381.08 1713.37,1379.6 1715.46,1378.12 1717.54,1376.61 1719.62,1375.08 1721.7,1373.54 1723.79,1371.98 1725.87,1370.4 1727.95,1368.8 \n",
       "  1730.04,1367.18 1732.12,1365.54 1734.2,1363.89 1736.28,1362.21 1738.37,1360.52 1740.45,1358.81 1742.53,1357.08 1744.62,1355.33 1746.7,1353.56 1748.78,1351.78 \n",
       "  1750.87,1349.97 1752.95,1348.15 1755.03,1346.3 1757.11,1344.44 1759.2,1342.56 1761.28,1340.66 1763.36,1338.73 1765.45,1336.79 1767.53,1334.83 1769.61,1332.85 \n",
       "  1771.69,1330.85 1773.78,1328.84 1775.86,1326.8 1777.94,1324.74 1780.03,1322.66 1782.11,1320.56 1784.19,1318.45 1786.27,1316.31 1788.36,1314.15 1790.44,1311.97 \n",
       "  1792.52,1309.78 1794.61,1307.56 1796.69,1305.32 1798.77,1303.06 1800.85,1300.78 1802.94,1298.48 1805.02,1296.16 1807.1,1293.82 1809.19,1291.46 1811.27,1289.08 \n",
       "  1813.35,1286.68 1815.43,1284.26 1817.52,1281.82 1819.6,1279.35 1821.68,1276.87 1823.77,1274.36 1825.85,1271.84 1827.93,1269.29 1830.01,1266.72 1832.1,1264.13 \n",
       "  1834.18,1261.52 1836.26,1258.89 1838.35,1256.24 1840.43,1253.56 1842.51,1250.87 1844.59,1248.15 1846.68,1245.41 1848.76,1242.65 1850.84,1239.87 1852.93,1237.07 \n",
       "  1855.01,1234.24 1857.09,1231.39 1859.18,1228.53 1861.26,1225.64 1863.34,1222.72 1865.42,1219.79 1867.51,1216.83 1869.59,1213.86 1871.67,1210.86 1873.76,1207.83 \n",
       "  1875.84,1204.79 1877.92,1201.72 1880,1198.64 1882.09,1195.52 1884.17,1192.39 1886.25,1189.23 1888.34,1186.06 1890.42,1182.86 1892.5,1179.63 1894.58,1176.39 \n",
       "  1896.67,1173.12 1898.75,1169.82 1900.83,1166.51 1902.92,1163.17 1905,1159.81 1907.08,1156.43 1909.16,1153.02 1911.25,1149.59 1913.33,1146.14 1915.41,1142.67 \n",
       "  1917.5,1139.17 1919.58,1135.64 1921.66,1132.1 1923.74,1128.53 1925.83,1124.94 1927.91,1121.32 1929.99,1117.68 1932.08,1114.02 1934.16,1110.33 1936.24,1106.62 \n",
       "  1938.32,1102.89 1940.41,1099.13 1942.49,1095.35 1944.57,1091.54 1946.66,1087.72 1948.74,1083.86 1950.82,1079.98 1952.9,1076.08 1954.99,1072.16 1957.07,1068.21 \n",
       "  1959.15,1064.23 1961.24,1060.23 1963.32,1056.21 1965.4,1052.16 1967.48,1048.09 1969.57,1044 1971.65,1039.87 1973.73,1035.73 1975.82,1031.56 1977.9,1027.36 \n",
       "  1979.98,1023.14 1982.07,1018.9 1984.15,1014.63 1986.23,1010.33 1988.31,1006.02 1990.4,1001.67 1992.48,997.301 1994.56,992.906 1996.65,988.486 1998.73,984.041 \n",
       "  2000.81,979.57 2002.89,975.074 2004.98,970.552 2007.06,966.006 2009.14,961.433 2011.23,956.835 2013.31,952.212 2015.39,947.562 2017.47,942.887 2019.56,938.186 \n",
       "  2021.64,933.46 2023.72,928.707 2025.81,923.929 2027.89,919.124 2029.97,914.294 2032.05,909.437 2034.14,904.554 2036.22,899.645 2038.3,894.71 2040.39,889.749 \n",
       "  2042.47,884.761 2044.55,879.747 2046.63,874.706 2048.72,869.639 2050.8,864.545 2052.88,859.424 2054.97,854.277 2057.05,849.103 2059.13,843.903 2061.21,838.675 \n",
       "  2063.3,833.421 2065.38,828.14 2067.46,822.831 2069.55,817.496 2071.63,812.134 2073.71,806.744 2075.79,801.328 2077.88,795.884 2079.96,790.412 2082.04,784.914 \n",
       "  2084.13,779.388 2086.21,773.834 2088.29,768.253 2090.38,762.645 2092.46,757.009 2094.54,751.345 2096.62,745.654 2098.71,739.934 2100.79,734.187 2102.87,728.412 \n",
       "  2104.96,722.609 2107.04,716.779 2109.12,710.92 2111.2,705.033 2113.29,699.118 2115.37,693.174 2117.45,687.203 2119.54,681.203 2121.62,675.175 2123.7,669.118 \n",
       "  2125.78,663.033 2127.87,656.92 2129.95,650.778 2132.03,644.607 2134.12,638.408 2136.2,632.18 2138.28,625.923 2140.36,619.638 2142.45,613.323 2144.53,606.98 \n",
       "  2146.61,600.607 2148.7,594.206 2150.78,587.776 2152.86,581.316 2154.94,574.828 2157.03,568.31 2159.11,561.762 2161.19,555.186 2163.28,548.58 2165.36,541.944 \n",
       "  2167.44,535.28 2169.52,528.585 2171.61,521.861 2173.69,515.108 2175.77,508.324 2177.86,501.511 2179.94,494.668 2182.02,487.795 2184.1,480.893 2186.19,473.96 \n",
       "  2188.27,466.998 2190.35,460.005 2192.44,452.982 2194.52,445.929 2196.6,438.846 2198.69,431.732 2200.77,424.589 2202.85,417.414 2204.93,410.21 2207.02,402.975 \n",
       "  2209.1,395.709 2211.18,388.413 2213.27,381.086 2215.35,373.728 2217.43,366.34 2219.51,358.921 2221.6,351.471 2223.68,343.99 2225.76,336.478 2227.85,328.936 \n",
       "  2229.93,321.362 2232.01,313.757 2234.09,306.121 2236.18,298.453 2238.26,290.755 2240.34,283.025 2242.43,275.264 2244.51,267.471 2246.59,259.647 2248.67,251.791 \n",
       "  2250.76,243.904 2252.84,235.985 2254.92,228.034 2257.01,220.052 2259.09,212.038 2261.17,203.992 2263.25,195.914 2265.34,187.804 2267.42,179.663 2269.5,171.489 \n",
       "  2271.59,163.283 2273.67,155.045 2275.75,146.774 2277.83,138.472 2279.92,130.137 2282,121.77 2284.08,113.37 2286.17,104.938 2288.25,96.4735 2290.33,87.9763 \n",
       "  \n",
       "  \"/>\n",
       "<path clip-path=\"url(#clip860)\" d=\"\n",
       "M1981.15 302.578 L2279.23 302.578 L2279.23 95.2176 L1981.15 95.2176  Z\n",
       "  \" fill=\"#ffffff\" fill-rule=\"evenodd\" fill-opacity=\"1\"/>\n",
       "<polyline clip-path=\"url(#clip860)\" style=\"stroke:#000000; stroke-linecap:butt; stroke-linejoin:round; stroke-width:4; stroke-opacity:1; fill:none\" points=\"\n",
       "  1981.15,302.578 2279.23,302.578 2279.23,95.2176 1981.15,95.2176 1981.15,302.578 \n",
       "  \"/>\n",
       "<polyline clip-path=\"url(#clip860)\" style=\"stroke:#009af9; stroke-linecap:butt; stroke-linejoin:round; stroke-width:4; stroke-opacity:1; fill:none\" points=\"\n",
       "  2005.66,147.058 2152.7,147.058 \n",
       "  \"/>\n",
       "<path clip-path=\"url(#clip860)\" d=\"M2191.05 166.745 Q2189.25 171.375 2187.53 172.787 Q2185.82 174.199 2182.95 174.199 L2179.55 174.199 L2179.55 170.634 L2182.05 170.634 Q2183.81 170.634 2184.78 169.8 Q2185.75 168.967 2186.93 165.865 L2187.7 163.921 L2177.21 138.412 L2181.72 138.412 L2189.83 158.689 L2197.93 138.412 L2202.44 138.412 L2191.05 166.745 Z\" fill=\"#000000\" fill-rule=\"evenodd\" fill-opacity=\"1\" /><path clip-path=\"url(#clip860)\" d=\"M2209.73 160.402 L2217.37 160.402 L2217.37 134.037 L2209.06 135.703 L2209.06 131.444 L2217.33 129.778 L2222 129.778 L2222 160.402 L2229.64 160.402 L2229.64 164.338 L2209.73 164.338 L2209.73 160.402 Z\" fill=\"#000000\" fill-rule=\"evenodd\" fill-opacity=\"1\" /><circle clip-path=\"url(#clip860)\" cx=\"2079.18\" cy=\"198.898\" r=\"23\" fill=\"#e26f46\" fill-rule=\"evenodd\" fill-opacity=\"1\" stroke=\"#000000\" stroke-opacity=\"1\" stroke-width=\"5.12\"/>\n",
       "<path clip-path=\"url(#clip860)\" d=\"M2191.05 218.585 Q2189.25 223.215 2187.53 224.627 Q2185.82 226.039 2182.95 226.039 L2179.55 226.039 L2179.55 222.474 L2182.05 222.474 Q2183.81 222.474 2184.78 221.64 Q2185.75 220.807 2186.93 217.705 L2187.7 215.761 L2177.21 190.252 L2181.72 190.252 L2189.83 210.529 L2197.93 190.252 L2202.44 190.252 L2191.05 218.585 Z\" fill=\"#000000\" fill-rule=\"evenodd\" fill-opacity=\"1\" /><path clip-path=\"url(#clip860)\" d=\"M2212.95 212.242 L2229.27 212.242 L2229.27 216.178 L2207.33 216.178 L2207.33 212.242 Q2209.99 209.488 2214.57 204.858 Q2219.18 200.205 2220.36 198.863 Q2222.6 196.34 2223.48 194.604 Q2224.39 192.844 2224.39 191.155 Q2224.39 188.4 2222.44 186.664 Q2220.52 184.928 2217.42 184.928 Q2215.22 184.928 2212.77 185.692 Q2210.34 186.455 2207.56 188.006 L2207.56 183.284 Q2210.38 182.15 2212.84 181.571 Q2215.29 180.993 2217.33 180.993 Q2222.7 180.993 2225.89 183.678 Q2229.09 186.363 2229.09 190.854 Q2229.09 192.983 2228.28 194.905 Q2227.49 196.803 2225.38 199.395 Q2224.8 200.067 2221.7 203.284 Q2218.6 206.479 2212.95 212.242 Z\" fill=\"#000000\" fill-rule=\"evenodd\" fill-opacity=\"1\" /><polyline clip-path=\"url(#clip860)\" style=\"stroke:#3da44d; stroke-linecap:butt; stroke-linejoin:round; stroke-width:4; stroke-opacity:1; fill:none\" points=\"\n",
       "  2005.66,250.738 2152.7,250.738 \n",
       "  \"/>\n",
       "<path clip-path=\"url(#clip860)\" d=\"M2191.05 270.425 Q2189.25 275.055 2187.53 276.467 Q2185.82 277.879 2182.95 277.879 L2179.55 277.879 L2179.55 274.314 L2182.05 274.314 Q2183.81 274.314 2184.78 273.48 Q2185.75 272.647 2186.93 269.545 L2187.7 267.601 L2177.21 242.092 L2181.72 242.092 L2189.83 262.369 L2197.93 242.092 L2202.44 242.092 L2191.05 270.425 Z\" fill=\"#000000\" fill-rule=\"evenodd\" fill-opacity=\"1\" /><path clip-path=\"url(#clip860)\" d=\"M2223.09 249.383 Q2226.45 250.101 2228.32 252.369 Q2230.22 254.638 2230.22 257.971 Q2230.22 263.087 2226.7 265.888 Q2223.18 268.689 2216.7 268.689 Q2214.53 268.689 2212.21 268.249 Q2209.92 267.832 2207.47 266.976 L2207.47 262.462 Q2209.41 263.596 2211.72 264.175 Q2214.04 264.754 2216.56 264.754 Q2220.96 264.754 2223.25 263.018 Q2225.57 261.281 2225.57 257.971 Q2225.57 254.916 2223.41 253.203 Q2221.28 251.467 2217.47 251.467 L2213.44 251.467 L2213.44 247.624 L2217.65 247.624 Q2221.1 247.624 2222.93 246.258 Q2224.76 244.87 2224.76 242.277 Q2224.76 239.615 2222.86 238.203 Q2220.98 236.768 2217.47 236.768 Q2215.54 236.768 2213.34 237.184 Q2211.15 237.601 2208.51 238.481 L2208.51 234.314 Q2211.17 233.573 2213.48 233.203 Q2215.82 232.833 2217.88 232.833 Q2223.21 232.833 2226.31 235.263 Q2229.41 237.67 2229.41 241.791 Q2229.41 244.661 2227.77 246.652 Q2226.12 248.62 2223.09 249.383 Z\" fill=\"#000000\" fill-rule=\"evenodd\" fill-opacity=\"1\" /></svg>\n"
      ]
     },
     "execution_count": 50,
     "metadata": {},
     "output_type": "execute_result"
    }
   ],
   "source": [
    "plot!(ts, p2)"
   ]
  },
  {
   "cell_type": "code",
   "execution_count": 52,
   "metadata": {},
   "outputs": [
    {
     "data": {
      "image/svg+xml": [
       "<?xml version=\"1.0\" encoding=\"utf-8\"?>\n",
       "<svg xmlns=\"http://www.w3.org/2000/svg\" xmlns:xlink=\"http://www.w3.org/1999/xlink\" width=\"600\" height=\"400\" viewBox=\"0 0 2400 1600\">\n",
       "<defs>\n",
       "  <clipPath id=\"clip900\">\n",
       "    <rect x=\"0\" y=\"0\" width=\"2400\" height=\"1600\"/>\n",
       "  </clipPath>\n",
       "</defs>\n",
       "<path clip-path=\"url(#clip900)\" d=\"\n",
       "M0 1600 L2400 1600 L2400 0 L0 0  Z\n",
       "  \" fill=\"#ffffff\" fill-rule=\"evenodd\" fill-opacity=\"1\"/>\n",
       "<defs>\n",
       "  <clipPath id=\"clip901\">\n",
       "    <rect x=\"480\" y=\"0\" width=\"1681\" height=\"1600\"/>\n",
       "  </clipPath>\n",
       "</defs>\n",
       "<path clip-path=\"url(#clip900)\" d=\"\n",
       "M147.108 1486.45 L2352.76 1486.45 L2352.76 47.2441 L147.108 47.2441  Z\n",
       "  \" fill=\"#ffffff\" fill-rule=\"evenodd\" fill-opacity=\"1\"/>\n",
       "<defs>\n",
       "  <clipPath id=\"clip902\">\n",
       "    <rect x=\"147\" y=\"47\" width=\"2207\" height=\"1440\"/>\n",
       "  </clipPath>\n",
       "</defs>\n",
       "<polyline clip-path=\"url(#clip902)\" style=\"stroke:#000000; stroke-linecap:butt; stroke-linejoin:round; stroke-width:2; stroke-opacity:0.1; fill:none\" points=\"\n",
       "  382.932,1486.45 382.932,47.2441 \n",
       "  \"/>\n",
       "<polyline clip-path=\"url(#clip902)\" style=\"stroke:#000000; stroke-linecap:butt; stroke-linejoin:round; stroke-width:2; stroke-opacity:0.1; fill:none\" points=\"\n",
       "  816.432,1486.45 816.432,47.2441 \n",
       "  \"/>\n",
       "<polyline clip-path=\"url(#clip902)\" style=\"stroke:#000000; stroke-linecap:butt; stroke-linejoin:round; stroke-width:2; stroke-opacity:0.1; fill:none\" points=\"\n",
       "  1249.93,1486.45 1249.93,47.2441 \n",
       "  \"/>\n",
       "<polyline clip-path=\"url(#clip902)\" style=\"stroke:#000000; stroke-linecap:butt; stroke-linejoin:round; stroke-width:2; stroke-opacity:0.1; fill:none\" points=\"\n",
       "  1683.43,1486.45 1683.43,47.2441 \n",
       "  \"/>\n",
       "<polyline clip-path=\"url(#clip902)\" style=\"stroke:#000000; stroke-linecap:butt; stroke-linejoin:round; stroke-width:2; stroke-opacity:0.1; fill:none\" points=\"\n",
       "  2116.93,1486.45 2116.93,47.2441 \n",
       "  \"/>\n",
       "<polyline clip-path=\"url(#clip900)\" style=\"stroke:#000000; stroke-linecap:butt; stroke-linejoin:round; stroke-width:4; stroke-opacity:1; fill:none\" points=\"\n",
       "  147.108,1486.45 2352.76,1486.45 \n",
       "  \"/>\n",
       "<polyline clip-path=\"url(#clip900)\" style=\"stroke:#000000; stroke-linecap:butt; stroke-linejoin:round; stroke-width:4; stroke-opacity:1; fill:none\" points=\"\n",
       "  382.932,1486.45 382.932,1467.55 \n",
       "  \"/>\n",
       "<polyline clip-path=\"url(#clip900)\" style=\"stroke:#000000; stroke-linecap:butt; stroke-linejoin:round; stroke-width:4; stroke-opacity:1; fill:none\" points=\"\n",
       "  816.432,1486.45 816.432,1467.55 \n",
       "  \"/>\n",
       "<polyline clip-path=\"url(#clip900)\" style=\"stroke:#000000; stroke-linecap:butt; stroke-linejoin:round; stroke-width:4; stroke-opacity:1; fill:none\" points=\"\n",
       "  1249.93,1486.45 1249.93,1467.55 \n",
       "  \"/>\n",
       "<polyline clip-path=\"url(#clip900)\" style=\"stroke:#000000; stroke-linecap:butt; stroke-linejoin:round; stroke-width:4; stroke-opacity:1; fill:none\" points=\"\n",
       "  1683.43,1486.45 1683.43,1467.55 \n",
       "  \"/>\n",
       "<polyline clip-path=\"url(#clip900)\" style=\"stroke:#000000; stroke-linecap:butt; stroke-linejoin:round; stroke-width:4; stroke-opacity:1; fill:none\" points=\"\n",
       "  2116.93,1486.45 2116.93,1467.55 \n",
       "  \"/>\n",
       "<path clip-path=\"url(#clip900)\" d=\"M329.46 1532.02 L359.135 1532.02 L359.135 1535.95 L329.46 1535.95 L329.46 1532.02 Z\" fill=\"#000000\" fill-rule=\"evenodd\" fill-opacity=\"1\" /><path clip-path=\"url(#clip900)\" d=\"M370.038 1544.91 L377.677 1544.91 L377.677 1518.55 L369.367 1520.21 L369.367 1515.95 L377.631 1514.29 L382.307 1514.29 L382.307 1544.91 L389.945 1544.91 L389.945 1548.85 L370.038 1548.85 L370.038 1544.91 Z\" fill=\"#000000\" fill-rule=\"evenodd\" fill-opacity=\"1\" /><path clip-path=\"url(#clip900)\" d=\"M399.39 1542.97 L404.274 1542.97 L404.274 1548.85 L399.39 1548.85 L399.39 1542.97 Z\" fill=\"#000000\" fill-rule=\"evenodd\" fill-opacity=\"1\" /><path clip-path=\"url(#clip900)\" d=\"M424.459 1517.37 Q420.848 1517.37 419.019 1520.93 Q417.214 1524.47 417.214 1531.6 Q417.214 1538.71 419.019 1542.27 Q420.848 1545.82 424.459 1545.82 Q428.093 1545.82 429.899 1542.27 Q431.728 1538.71 431.728 1531.6 Q431.728 1524.47 429.899 1520.93 Q428.093 1517.37 424.459 1517.37 M424.459 1513.66 Q430.269 1513.66 433.325 1518.27 Q436.404 1522.85 436.404 1531.6 Q436.404 1540.33 433.325 1544.94 Q430.269 1549.52 424.459 1549.52 Q418.649 1549.52 415.57 1544.94 Q412.515 1540.33 412.515 1531.6 Q412.515 1522.85 415.57 1518.27 Q418.649 1513.66 424.459 1513.66 Z\" fill=\"#000000\" fill-rule=\"evenodd\" fill-opacity=\"1\" /><path clip-path=\"url(#clip900)\" d=\"M763.457 1532.02 L793.133 1532.02 L793.133 1535.95 L763.457 1535.95 L763.457 1532.02 Z\" fill=\"#000000\" fill-rule=\"evenodd\" fill-opacity=\"1\" /><path clip-path=\"url(#clip900)\" d=\"M813.226 1517.37 Q809.615 1517.37 807.786 1520.93 Q805.98 1524.47 805.98 1531.6 Q805.98 1538.71 807.786 1542.27 Q809.615 1545.82 813.226 1545.82 Q816.86 1545.82 818.665 1542.27 Q820.494 1538.71 820.494 1531.6 Q820.494 1524.47 818.665 1520.93 Q816.86 1517.37 813.226 1517.37 M813.226 1513.66 Q819.036 1513.66 822.091 1518.27 Q825.17 1522.85 825.17 1531.6 Q825.17 1540.33 822.091 1544.94 Q819.036 1549.52 813.226 1549.52 Q807.415 1549.52 804.337 1544.94 Q801.281 1540.33 801.281 1531.6 Q801.281 1522.85 804.337 1518.27 Q807.415 1513.66 813.226 1513.66 Z\" fill=\"#000000\" fill-rule=\"evenodd\" fill-opacity=\"1\" /><path clip-path=\"url(#clip900)\" d=\"M833.388 1542.97 L838.272 1542.97 L838.272 1548.85 L833.388 1548.85 L833.388 1542.97 Z\" fill=\"#000000\" fill-rule=\"evenodd\" fill-opacity=\"1\" /><path clip-path=\"url(#clip900)\" d=\"M848.503 1514.29 L866.86 1514.29 L866.86 1518.22 L852.786 1518.22 L852.786 1526.7 Q853.804 1526.35 854.823 1526.19 Q855.841 1526 856.86 1526 Q862.647 1526 866.026 1529.17 Q869.406 1532.34 869.406 1537.76 Q869.406 1543.34 865.934 1546.44 Q862.462 1549.52 856.142 1549.52 Q853.966 1549.52 851.698 1549.15 Q849.452 1548.78 847.045 1548.04 L847.045 1543.34 Q849.128 1544.47 851.35 1545.03 Q853.573 1545.58 856.049 1545.58 Q860.054 1545.58 862.392 1543.48 Q864.73 1541.37 864.73 1537.76 Q864.73 1534.15 862.392 1532.04 Q860.054 1529.94 856.049 1529.94 Q854.175 1529.94 852.3 1530.35 Q850.448 1530.77 848.503 1531.65 L848.503 1514.29 Z\" fill=\"#000000\" fill-rule=\"evenodd\" fill-opacity=\"1\" /><path clip-path=\"url(#clip900)\" d=\"M1227.32 1517.37 Q1223.71 1517.37 1221.88 1520.93 Q1220.07 1524.47 1220.07 1531.6 Q1220.07 1538.71 1221.88 1542.27 Q1223.71 1545.82 1227.32 1545.82 Q1230.95 1545.82 1232.76 1542.27 Q1234.58 1538.71 1234.58 1531.6 Q1234.58 1524.47 1232.76 1520.93 Q1230.95 1517.37 1227.32 1517.37 M1227.32 1513.66 Q1233.13 1513.66 1236.18 1518.27 Q1239.26 1522.85 1239.26 1531.6 Q1239.26 1540.33 1236.18 1544.94 Q1233.13 1549.52 1227.32 1549.52 Q1221.51 1549.52 1218.43 1544.94 Q1215.37 1540.33 1215.37 1531.6 Q1215.37 1522.85 1218.43 1518.27 Q1221.51 1513.66 1227.32 1513.66 Z\" fill=\"#000000\" fill-rule=\"evenodd\" fill-opacity=\"1\" /><path clip-path=\"url(#clip900)\" d=\"M1247.48 1542.97 L1252.36 1542.97 L1252.36 1548.85 L1247.48 1548.85 L1247.48 1542.97 Z\" fill=\"#000000\" fill-rule=\"evenodd\" fill-opacity=\"1\" /><path clip-path=\"url(#clip900)\" d=\"M1272.55 1517.37 Q1268.94 1517.37 1267.11 1520.93 Q1265.3 1524.47 1265.3 1531.6 Q1265.3 1538.71 1267.11 1542.27 Q1268.94 1545.82 1272.55 1545.82 Q1276.18 1545.82 1277.99 1542.27 Q1279.82 1538.71 1279.82 1531.6 Q1279.82 1524.47 1277.99 1520.93 Q1276.18 1517.37 1272.55 1517.37 M1272.55 1513.66 Q1278.36 1513.66 1281.41 1518.27 Q1284.49 1522.85 1284.49 1531.6 Q1284.49 1540.33 1281.41 1544.94 Q1278.36 1549.52 1272.55 1549.52 Q1266.74 1549.52 1263.66 1544.94 Q1260.6 1540.33 1260.6 1531.6 Q1260.6 1522.85 1263.66 1518.27 Q1266.74 1513.66 1272.55 1513.66 Z\" fill=\"#000000\" fill-rule=\"evenodd\" fill-opacity=\"1\" /><path clip-path=\"url(#clip900)\" d=\"M1661.31 1517.37 Q1657.7 1517.37 1655.87 1520.93 Q1654.07 1524.47 1654.07 1531.6 Q1654.07 1538.71 1655.87 1542.27 Q1657.7 1545.82 1661.31 1545.82 Q1664.95 1545.82 1666.75 1542.27 Q1668.58 1538.71 1668.58 1531.6 Q1668.58 1524.47 1666.75 1520.93 Q1664.95 1517.37 1661.31 1517.37 M1661.31 1513.66 Q1667.12 1513.66 1670.18 1518.27 Q1673.26 1522.85 1673.26 1531.6 Q1673.26 1540.33 1670.18 1544.94 Q1667.12 1549.52 1661.31 1549.52 Q1655.5 1549.52 1652.43 1544.94 Q1649.37 1540.33 1649.37 1531.6 Q1649.37 1522.85 1652.43 1518.27 Q1655.5 1513.66 1661.31 1513.66 Z\" fill=\"#000000\" fill-rule=\"evenodd\" fill-opacity=\"1\" /><path clip-path=\"url(#clip900)\" d=\"M1681.48 1542.97 L1686.36 1542.97 L1686.36 1548.85 L1681.48 1548.85 L1681.48 1542.97 Z\" fill=\"#000000\" fill-rule=\"evenodd\" fill-opacity=\"1\" /><path clip-path=\"url(#clip900)\" d=\"M1696.59 1514.29 L1714.95 1514.29 L1714.95 1518.22 L1700.87 1518.22 L1700.87 1526.7 Q1701.89 1526.35 1702.91 1526.19 Q1703.93 1526 1704.95 1526 Q1710.73 1526 1714.11 1529.17 Q1717.49 1532.34 1717.49 1537.76 Q1717.49 1543.34 1714.02 1546.44 Q1710.55 1549.52 1704.23 1549.52 Q1702.05 1549.52 1699.79 1549.15 Q1697.54 1548.78 1695.13 1548.04 L1695.13 1543.34 Q1697.22 1544.47 1699.44 1545.03 Q1701.66 1545.58 1704.14 1545.58 Q1708.14 1545.58 1710.48 1543.48 Q1712.82 1541.37 1712.82 1537.76 Q1712.82 1534.15 1710.48 1532.04 Q1708.14 1529.94 1704.14 1529.94 Q1702.26 1529.94 1700.39 1530.35 Q1698.54 1530.77 1696.59 1531.65 L1696.59 1514.29 Z\" fill=\"#000000\" fill-rule=\"evenodd\" fill-opacity=\"1\" /><path clip-path=\"url(#clip900)\" d=\"M2084.08 1544.91 L2091.72 1544.91 L2091.72 1518.55 L2083.41 1520.21 L2083.41 1515.95 L2091.68 1514.29 L2096.35 1514.29 L2096.35 1544.91 L2103.99 1544.91 L2103.99 1548.85 L2084.08 1548.85 L2084.08 1544.91 Z\" fill=\"#000000\" fill-rule=\"evenodd\" fill-opacity=\"1\" /><path clip-path=\"url(#clip900)\" d=\"M2113.44 1542.97 L2118.32 1542.97 L2118.32 1548.85 L2113.44 1548.85 L2113.44 1542.97 Z\" fill=\"#000000\" fill-rule=\"evenodd\" fill-opacity=\"1\" /><path clip-path=\"url(#clip900)\" d=\"M2138.51 1517.37 Q2134.89 1517.37 2133.07 1520.93 Q2131.26 1524.47 2131.26 1531.6 Q2131.26 1538.71 2133.07 1542.27 Q2134.89 1545.82 2138.51 1545.82 Q2142.14 1545.82 2143.95 1542.27 Q2145.77 1538.71 2145.77 1531.6 Q2145.77 1524.47 2143.95 1520.93 Q2142.14 1517.37 2138.51 1517.37 M2138.51 1513.66 Q2144.32 1513.66 2147.37 1518.27 Q2150.45 1522.85 2150.45 1531.6 Q2150.45 1540.33 2147.37 1544.94 Q2144.32 1549.52 2138.51 1549.52 Q2132.7 1549.52 2129.62 1544.94 Q2126.56 1540.33 2126.56 1531.6 Q2126.56 1522.85 2129.62 1518.27 Q2132.7 1513.66 2138.51 1513.66 Z\" fill=\"#000000\" fill-rule=\"evenodd\" fill-opacity=\"1\" /><polyline clip-path=\"url(#clip902)\" style=\"stroke:#000000; stroke-linecap:butt; stroke-linejoin:round; stroke-width:2; stroke-opacity:0.1; fill:none\" points=\"\n",
       "  147.108,1433.11 2352.76,1433.11 \n",
       "  \"/>\n",
       "<polyline clip-path=\"url(#clip902)\" style=\"stroke:#000000; stroke-linecap:butt; stroke-linejoin:round; stroke-width:2; stroke-opacity:0.1; fill:none\" points=\"\n",
       "  147.108,1093.45 2352.76,1093.45 \n",
       "  \"/>\n",
       "<polyline clip-path=\"url(#clip902)\" style=\"stroke:#000000; stroke-linecap:butt; stroke-linejoin:round; stroke-width:2; stroke-opacity:0.1; fill:none\" points=\"\n",
       "  147.108,753.789 2352.76,753.789 \n",
       "  \"/>\n",
       "<polyline clip-path=\"url(#clip902)\" style=\"stroke:#000000; stroke-linecap:butt; stroke-linejoin:round; stroke-width:2; stroke-opacity:0.1; fill:none\" points=\"\n",
       "  147.108,414.127 2352.76,414.127 \n",
       "  \"/>\n",
       "<polyline clip-path=\"url(#clip902)\" style=\"stroke:#000000; stroke-linecap:butt; stroke-linejoin:round; stroke-width:2; stroke-opacity:0.1; fill:none\" points=\"\n",
       "  147.108,74.4649 2352.76,74.4649 \n",
       "  \"/>\n",
       "<polyline clip-path=\"url(#clip900)\" style=\"stroke:#000000; stroke-linecap:butt; stroke-linejoin:round; stroke-width:4; stroke-opacity:1; fill:none\" points=\"\n",
       "  147.108,1486.45 147.108,47.2441 \n",
       "  \"/>\n",
       "<polyline clip-path=\"url(#clip900)\" style=\"stroke:#000000; stroke-linecap:butt; stroke-linejoin:round; stroke-width:4; stroke-opacity:1; fill:none\" points=\"\n",
       "  147.108,1433.11 166.005,1433.11 \n",
       "  \"/>\n",
       "<polyline clip-path=\"url(#clip900)\" style=\"stroke:#000000; stroke-linecap:butt; stroke-linejoin:round; stroke-width:4; stroke-opacity:1; fill:none\" points=\"\n",
       "  147.108,1093.45 166.005,1093.45 \n",
       "  \"/>\n",
       "<polyline clip-path=\"url(#clip900)\" style=\"stroke:#000000; stroke-linecap:butt; stroke-linejoin:round; stroke-width:4; stroke-opacity:1; fill:none\" points=\"\n",
       "  147.108,753.789 166.005,753.789 \n",
       "  \"/>\n",
       "<polyline clip-path=\"url(#clip900)\" style=\"stroke:#000000; stroke-linecap:butt; stroke-linejoin:round; stroke-width:4; stroke-opacity:1; fill:none\" points=\"\n",
       "  147.108,414.127 166.005,414.127 \n",
       "  \"/>\n",
       "<polyline clip-path=\"url(#clip900)\" style=\"stroke:#000000; stroke-linecap:butt; stroke-linejoin:round; stroke-width:4; stroke-opacity:1; fill:none\" points=\"\n",
       "  147.108,74.4649 166.005,74.4649 \n",
       "  \"/>\n",
       "<path clip-path=\"url(#clip900)\" d=\"M50.9921 1433.56 L80.6679 1433.56 L80.6679 1437.5 L50.9921 1437.5 L50.9921 1433.56 Z\" fill=\"#000000\" fill-rule=\"evenodd\" fill-opacity=\"1\" /><path clip-path=\"url(#clip900)\" d=\"M94.7882 1446.46 L111.108 1446.46 L111.108 1450.39 L89.1632 1450.39 L89.1632 1446.46 Q91.8252 1443.7 96.4085 1439.07 Q101.015 1434.42 102.196 1433.08 Q104.441 1430.55 105.321 1428.82 Q106.223 1427.06 106.223 1425.37 Q106.223 1422.62 104.279 1420.88 Q102.358 1419.14 99.2558 1419.14 Q97.0567 1419.14 94.603 1419.91 Q92.1725 1420.67 89.3947 1422.22 L89.3947 1417.5 Q92.2188 1416.37 94.6724 1415.79 Q97.1261 1415.21 99.1632 1415.21 Q104.534 1415.21 107.728 1417.89 Q110.922 1420.58 110.922 1425.07 Q110.922 1427.2 110.112 1429.12 Q109.325 1431.02 107.219 1433.61 Q106.64 1434.28 103.538 1437.5 Q100.436 1440.69 94.7882 1446.46 Z\" fill=\"#000000\" fill-rule=\"evenodd\" fill-opacity=\"1\" /><path clip-path=\"url(#clip900)\" d=\"M99.1632 1079.25 Q95.5521 1079.25 93.7234 1082.81 Q91.9178 1086.36 91.9178 1093.49 Q91.9178 1100.59 93.7234 1104.16 Q95.5521 1107.7 99.1632 1107.7 Q102.797 1107.7 104.603 1104.16 Q106.432 1100.59 106.432 1093.49 Q106.432 1086.36 104.603 1082.81 Q102.797 1079.25 99.1632 1079.25 M99.1632 1075.55 Q104.973 1075.55 108.029 1080.15 Q111.108 1084.74 111.108 1093.49 Q111.108 1102.21 108.029 1106.82 Q104.973 1111.4 99.1632 1111.4 Q93.353 1111.4 90.2743 1106.82 Q87.2188 1102.21 87.2188 1093.49 Q87.2188 1084.74 90.2743 1080.15 Q93.353 1075.55 99.1632 1075.55 Z\" fill=\"#000000\" fill-rule=\"evenodd\" fill-opacity=\"1\" /><path clip-path=\"url(#clip900)\" d=\"M94.7882 767.134 L111.108 767.134 L111.108 771.069 L89.1632 771.069 L89.1632 767.134 Q91.8252 764.379 96.4085 759.749 Q101.015 755.097 102.196 753.754 Q104.441 751.231 105.321 749.495 Q106.223 747.736 106.223 746.046 Q106.223 743.291 104.279 741.555 Q102.358 739.819 99.2558 739.819 Q97.0567 739.819 94.603 740.583 Q92.1725 741.347 89.3947 742.898 L89.3947 738.175 Q92.2188 737.041 94.6724 736.462 Q97.1261 735.884 99.1632 735.884 Q104.534 735.884 107.728 738.569 Q110.922 741.254 110.922 745.745 Q110.922 747.874 110.112 749.796 Q109.325 751.694 107.219 754.286 Q106.64 754.958 103.538 758.175 Q100.436 761.37 94.7882 767.134 Z\" fill=\"#000000\" fill-rule=\"evenodd\" fill-opacity=\"1\" /><path clip-path=\"url(#clip900)\" d=\"M101.524 400.921 L89.7188 419.37 L101.524 419.37 L101.524 400.921 M100.297 396.847 L106.177 396.847 L106.177 419.37 L111.108 419.37 L111.108 423.259 L106.177 423.259 L106.177 431.407 L101.524 431.407 L101.524 423.259 L85.9225 423.259 L85.9225 418.745 L100.297 396.847 Z\" fill=\"#000000\" fill-rule=\"evenodd\" fill-opacity=\"1\" /><path clip-path=\"url(#clip900)\" d=\"M99.5798 72.6015 Q96.4317 72.6015 94.5799 74.7542 Q92.7512 76.907 92.7512 80.657 Q92.7512 84.3838 94.5799 86.5597 Q96.4317 88.7125 99.5798 88.7125 Q102.728 88.7125 104.557 86.5597 Q106.408 84.3838 106.408 80.657 Q106.408 76.907 104.557 74.7542 Q102.728 72.6015 99.5798 72.6015 M108.862 57.9488 L108.862 62.208 Q107.103 61.3747 105.297 60.9349 Q103.515 60.4951 101.756 60.4951 Q97.1261 60.4951 94.6724 63.62 Q92.2419 66.745 91.8947 73.0644 Q93.2604 71.0506 95.3206 69.9857 Q97.3808 68.8978 99.8576 68.8978 Q105.066 68.8978 108.075 72.0691 Q111.108 75.2172 111.108 80.657 Q111.108 85.981 107.959 89.1986 Q104.811 92.4162 99.5798 92.4162 Q93.5845 92.4162 90.4132 87.8329 Q87.2419 83.2264 87.2419 74.4996 Q87.2419 66.3052 91.1308 61.4441 Q95.0197 56.5599 101.571 56.5599 Q103.33 56.5599 105.112 56.9071 Q106.918 57.2543 108.862 57.9488 Z\" fill=\"#000000\" fill-rule=\"evenodd\" fill-opacity=\"1\" /><polyline clip-path=\"url(#clip902)\" style=\"stroke:#009af9; stroke-linecap:butt; stroke-linejoin:round; stroke-width:4; stroke-opacity:1; fill:none\" points=\"\n",
       "  209.532,1385.02 211.614,1381.86 213.697,1378.71 215.78,1375.57 217.863,1372.44 219.946,1369.33 222.029,1366.23 224.112,1363.14 226.195,1360.06 228.278,1356.99 \n",
       "  230.36,1353.94 232.443,1350.89 234.526,1347.86 236.609,1344.84 238.692,1341.83 240.775,1338.84 242.858,1335.85 244.941,1332.88 247.023,1329.92 249.106,1326.97 \n",
       "  251.189,1324.03 253.272,1321.1 255.355,1318.19 257.438,1315.28 259.521,1312.39 261.604,1309.51 263.687,1306.64 265.769,1303.78 267.852,1300.94 269.935,1298.1 \n",
       "  272.018,1295.28 274.101,1292.46 276.184,1289.66 278.267,1286.87 280.35,1284.1 282.432,1281.33 284.515,1278.57 286.598,1275.83 288.681,1273.1 290.764,1270.37 \n",
       "  292.847,1267.66 294.93,1264.96 297.013,1262.27 299.096,1259.6 301.178,1256.93 303.261,1254.28 305.344,1251.63 307.427,1249 309.51,1246.38 311.593,1243.77 \n",
       "  313.676,1241.17 315.759,1238.58 317.841,1236 319.924,1233.43 322.007,1230.88 324.09,1228.33 326.173,1225.8 328.256,1223.27 330.339,1220.76 332.422,1218.26 \n",
       "  334.505,1215.77 336.587,1213.29 338.67,1210.82 340.753,1208.36 342.836,1205.91 344.919,1203.47 347.002,1201.05 349.085,1198.63 351.168,1196.23 353.25,1193.83 \n",
       "  355.333,1191.45 357.416,1189.08 359.499,1186.71 361.582,1184.36 363.665,1182.02 365.748,1179.69 367.831,1177.37 369.914,1175.06 371.996,1172.76 374.079,1170.47 \n",
       "  376.162,1168.19 378.245,1165.92 380.328,1163.66 382.411,1161.41 384.494,1159.18 386.577,1156.95 388.66,1154.73 390.742,1152.52 392.825,1150.33 394.908,1148.14 \n",
       "  396.991,1145.97 399.074,1143.8 401.157,1141.64 403.24,1139.5 405.323,1137.36 407.405,1135.24 409.488,1133.12 411.571,1131.02 413.654,1128.92 415.737,1126.84 \n",
       "  417.82,1124.76 419.903,1122.7 421.986,1120.64 424.069,1118.6 426.151,1116.56 428.234,1114.54 430.317,1112.52 432.4,1110.52 434.483,1108.52 436.566,1106.54 \n",
       "  438.649,1104.56 440.732,1102.6 442.814,1100.64 444.897,1098.69 446.98,1096.76 449.063,1094.83 451.146,1092.91 453.229,1091.01 455.312,1089.11 457.395,1087.22 \n",
       "  459.478,1085.34 461.56,1083.47 463.643,1081.61 465.726,1079.76 467.809,1077.92 469.892,1076.09 471.975,1074.27 474.058,1072.46 476.141,1070.66 478.223,1068.86 \n",
       "  480.306,1067.08 482.389,1065.31 484.472,1063.54 486.555,1061.79 488.638,1060.04 490.721,1058.31 492.804,1056.58 494.887,1054.86 496.969,1053.15 499.052,1051.45 \n",
       "  501.135,1049.76 503.218,1048.08 505.301,1046.41 507.384,1044.75 509.467,1043.09 511.55,1041.45 513.633,1039.81 515.715,1038.19 517.798,1036.57 519.881,1034.96 \n",
       "  521.964,1033.37 524.047,1031.78 526.13,1030.19 528.213,1028.62 530.296,1027.06 532.378,1025.51 534.461,1023.96 536.544,1022.43 538.627,1020.9 540.71,1019.38 \n",
       "  542.793,1017.87 544.876,1016.37 546.959,1014.88 549.042,1013.39 551.124,1011.92 553.207,1010.46 555.29,1009 557.373,1007.55 559.456,1006.11 561.539,1004.68 \n",
       "  563.622,1003.26 565.705,1001.84 567.787,1000.44 569.87,999.044 571.953,997.656 574.036,996.277 576.119,994.906 578.202,993.544 580.285,992.191 582.368,990.846 \n",
       "  584.451,989.509 586.533,988.181 588.616,986.861 590.699,985.549 592.782,984.246 594.865,982.952 596.948,981.665 599.031,980.387 601.114,979.118 603.196,977.856 \n",
       "  605.279,976.603 607.362,975.358 609.445,974.121 611.528,972.893 613.611,971.672 615.694,970.46 617.777,969.256 619.86,968.06 621.942,966.872 624.025,965.693 \n",
       "  626.108,964.521 628.191,963.357 630.274,962.202 632.357,961.054 634.44,959.914 636.523,958.783 638.605,957.659 640.688,956.543 642.771,955.435 644.854,954.335 \n",
       "  646.937,953.243 649.02,952.159 651.103,951.082 653.186,950.014 655.269,948.953 657.351,947.9 659.434,946.854 661.517,945.817 663.6,944.787 665.683,943.764 \n",
       "  667.766,942.75 669.849,941.743 671.932,940.744 674.015,939.752 676.097,938.768 678.18,937.791 680.263,936.822 682.346,935.861 684.429,934.907 686.512,933.961 \n",
       "  688.595,933.022 690.678,932.09 692.76,931.166 694.843,930.25 696.926,929.34 699.009,928.438 701.092,927.544 703.175,926.657 705.258,925.777 707.341,924.904 \n",
       "  709.424,924.039 711.506,923.181 713.589,922.33 715.672,921.487 717.755,920.65 719.838,919.821 721.921,918.999 724.004,918.184 726.087,917.377 728.169,916.576 \n",
       "  730.252,915.782 732.335,914.996 734.418,914.216 736.501,913.444 738.584,912.678 740.667,911.92 742.75,911.168 744.833,910.424 746.915,909.686 748.998,908.956 \n",
       "  751.081,908.232 753.164,907.515 755.247,906.805 757.33,906.101 759.413,905.405 761.496,904.715 763.578,904.032 765.661,903.356 767.744,902.687 769.827,902.024 \n",
       "  771.91,901.368 773.993,900.719 776.076,900.076 778.159,899.44 780.242,898.81 782.324,898.187 784.407,897.571 786.49,896.961 788.573,896.358 790.656,895.762 \n",
       "  792.739,895.171 794.822,894.588 796.905,894.01 798.988,893.439 801.07,892.875 803.153,892.317 805.236,891.765 807.319,891.22 809.402,890.681 811.485,890.148 \n",
       "  813.568,889.622 815.651,889.102 817.733,888.588 819.816,888.081 821.899,887.579 823.982,887.084 826.065,886.595 828.148,886.113 830.231,885.636 832.314,885.165 \n",
       "  834.397,884.701 836.479,884.243 838.562,883.79 840.645,883.344 842.728,882.904 844.811,882.47 846.894,882.041 848.977,881.619 851.06,881.203 853.142,880.792 \n",
       "  855.225,880.388 857.308,879.989 859.391,879.597 861.474,879.21 863.557,878.829 865.64,878.454 867.723,878.084 869.806,877.72 871.888,877.363 873.971,877.01 \n",
       "  876.054,876.664 878.137,876.323 880.22,875.988 882.303,875.658 884.386,875.335 886.469,875.016 888.551,874.704 890.634,874.397 892.717,874.095 894.8,873.799 \n",
       "  896.883,873.509 898.966,873.224 901.049,872.944 903.132,872.67 905.215,872.402 907.297,872.139 909.38,871.881 911.463,871.629 913.546,871.382 915.629,871.14 \n",
       "  917.712,870.903 919.795,870.672 921.878,870.447 923.961,870.226 926.043,870.011 928.126,869.801 930.209,869.596 932.292,869.396 934.375,869.202 936.458,869.012 \n",
       "  938.541,868.828 940.624,868.649 942.706,868.475 944.789,868.306 946.872,868.142 948.955,867.983 951.038,867.829 953.121,867.68 955.204,867.536 957.287,867.397 \n",
       "  959.37,867.263 961.452,867.134 963.535,867.01 965.618,866.89 967.701,866.776 969.784,866.666 971.867,866.561 973.95,866.461 976.033,866.365 978.115,866.275 \n",
       "  980.198,866.189 982.281,866.108 984.364,866.031 986.447,865.959 988.53,865.892 990.613,865.83 992.696,865.772 994.779,865.718 996.861,865.67 998.944,865.625 \n",
       "  1001.03,865.586 1003.11,865.551 1005.19,865.52 1007.28,865.494 1009.36,865.472 1011.44,865.455 1013.52,865.442 1015.61,865.434 1017.69,865.43 1019.77,865.43 \n",
       "  1021.86,865.434 1023.94,865.443 1026.02,865.457 1028.1,865.474 1030.19,865.496 1032.27,865.522 1034.35,865.552 1036.44,865.587 1038.52,865.625 1040.6,865.668 \n",
       "  1042.68,865.715 1044.77,865.766 1046.85,865.821 1048.93,865.881 1051.02,865.944 1053.1,866.011 1055.18,866.083 1057.27,866.158 1059.35,866.238 1061.43,866.321 \n",
       "  1063.51,866.408 1065.6,866.499 1067.68,866.595 1069.76,866.694 1071.85,866.797 1073.93,866.903 1076.01,867.014 1078.09,867.128 1080.18,867.247 1082.26,867.368 \n",
       "  1084.34,867.494 1086.43,867.624 1088.51,867.757 1090.59,867.894 1092.67,868.034 1094.76,868.178 1096.84,868.326 1098.92,868.478 1101.01,868.633 1103.09,868.791 \n",
       "  1105.17,868.953 1107.25,869.119 1109.34,869.288 1111.42,869.461 1113.5,869.637 1115.59,869.817 1117.67,870 1119.75,870.187 1121.83,870.376 1123.92,870.57 \n",
       "  1126,870.766 1128.08,870.966 1130.17,871.17 1132.25,871.376 1134.33,871.586 1136.41,871.799 1138.5,872.016 1140.58,872.235 1142.66,872.458 1144.75,872.684 \n",
       "  1146.83,872.913 1148.91,873.146 1150.99,873.381 1153.08,873.62 1155.16,873.861 1157.24,874.106 1159.33,874.354 1161.41,874.605 1163.49,874.858 1165.57,875.115 \n",
       "  1167.66,875.375 1169.74,875.638 1171.82,875.903 1173.91,876.172 1175.99,876.443 1178.07,876.717 1180.16,876.995 1182.24,877.275 1184.32,877.557 1186.4,877.843 \n",
       "  1188.49,878.131 1190.57,878.422 1192.65,878.716 1194.74,879.013 1196.82,879.312 1198.9,879.614 1200.98,879.919 1203.07,880.226 1205.15,880.536 1207.23,880.848 \n",
       "  1209.32,881.163 1211.4,881.481 1213.48,881.801 1215.56,882.123 1217.65,882.448 1219.73,882.776 1221.81,883.106 1223.9,883.439 1225.98,883.774 1228.06,884.111 \n",
       "  1230.14,884.451 1232.23,884.793 1234.31,885.137 1236.39,885.484 1238.48,885.833 1240.56,886.184 1242.64,886.538 1244.72,886.893 1246.81,887.252 1248.89,887.612 \n",
       "  1250.97,887.974 1253.06,888.339 1255.14,888.706 1257.22,889.074 1259.3,889.445 1261.39,889.818 1263.47,890.194 1265.55,890.571 1267.64,890.95 1269.72,891.331 \n",
       "  1271.8,891.714 1273.88,892.1 1275.97,892.487 1278.05,892.876 1280.13,893.267 1282.22,893.66 1284.3,894.054 1286.38,894.451 1288.47,894.849 1290.55,895.25 \n",
       "  1292.63,895.652 1294.71,896.055 1296.8,896.461 1298.88,896.868 1300.96,897.277 1303.05,897.688 1305.13,898.1 1307.21,898.514 1309.29,898.93 1311.38,899.347 \n",
       "  1313.46,899.766 1315.54,900.187 1317.63,900.609 1319.71,901.032 1321.79,901.457 1323.87,901.884 1325.96,902.312 1328.04,902.741 1330.12,903.172 1332.21,903.605 \n",
       "  1334.29,904.038 1336.37,904.474 1338.45,904.91 1340.54,905.348 1342.62,905.787 1344.7,906.228 1346.79,906.669 1348.87,907.112 1350.95,907.557 1353.03,908.002 \n",
       "  1355.12,908.449 1357.2,908.897 1359.28,909.346 1361.37,909.796 1363.45,910.247 1365.53,910.7 1367.61,911.153 1369.7,911.608 1371.78,912.064 1373.86,912.52 \n",
       "  1375.95,912.978 1378.03,913.437 1380.11,913.896 1382.19,914.357 1384.28,914.819 1386.36,915.281 1388.44,915.744 1390.53,916.209 1392.61,916.674 1394.69,917.14 \n",
       "  1396.77,917.606 1398.86,918.074 1400.94,918.542 1403.02,919.011 1405.11,919.481 1407.19,919.951 1409.27,920.423 1411.36,920.894 1413.44,921.367 1415.52,921.84 \n",
       "  1417.6,922.314 1419.69,922.788 1421.77,923.263 1423.85,923.739 1425.94,924.215 1428.02,924.691 1430.1,925.168 1432.18,925.646 1434.27,926.124 1436.35,926.602 \n",
       "  1438.43,927.081 1440.52,927.561 1442.6,928.04 1444.68,928.52 1446.76,929.001 1448.85,929.481 1450.93,929.962 1453.01,930.444 1455.1,930.925 1457.18,931.407 \n",
       "  1459.26,931.889 1461.34,932.371 1463.43,932.854 1465.51,933.336 1467.59,933.819 1469.68,934.302 1471.76,934.785 1473.84,935.268 1475.92,935.751 1478.01,936.234 \n",
       "  1480.09,936.717 1482.17,937.2 1484.26,937.684 1486.34,938.167 1488.42,938.65 1490.5,939.133 1492.59,939.616 1494.67,940.099 1496.75,940.582 1498.84,941.064 \n",
       "  1500.92,941.547 1503,942.029 1505.08,942.511 1507.17,942.993 1509.25,943.474 1511.33,943.956 1513.42,944.437 1515.5,944.917 1517.58,945.398 1519.67,945.878 \n",
       "  1521.75,946.358 1523.83,946.837 1525.91,947.316 1528,947.794 1530.08,948.272 1532.16,948.75 1534.25,949.227 1536.33,949.704 1538.41,950.18 1540.49,950.655 \n",
       "  1542.58,951.13 1544.66,951.605 1546.74,952.079 1548.83,952.552 1550.91,953.024 1552.99,953.496 1555.07,953.968 1557.16,954.438 1559.24,954.908 1561.32,955.377 \n",
       "  1563.41,955.846 1565.49,956.313 1567.57,956.78 1569.65,957.246 1571.74,957.711 1573.82,958.175 1575.9,958.639 1577.99,959.101 1580.07,959.563 1582.15,960.024 \n",
       "  1584.23,960.483 1586.32,960.942 1588.4,961.4 1590.48,961.857 1592.57,962.312 1594.65,962.767 1596.73,963.221 1598.81,963.673 1600.9,964.125 1602.98,964.575 \n",
       "  1605.06,965.024 1607.15,965.472 1609.23,965.919 1611.31,966.365 1613.39,966.809 1615.48,967.252 1617.56,967.694 1619.64,968.135 1621.73,968.574 1623.81,969.012 \n",
       "  1625.89,969.449 1627.98,969.884 1630.06,970.318 1632.14,970.75 1634.22,971.182 1636.31,971.611 1638.39,972.039 1640.47,972.466 1642.56,972.891 1644.64,973.315 \n",
       "  1646.72,973.737 1648.8,974.158 1650.89,974.577 1652.97,974.994 1655.05,975.41 1657.14,975.824 1659.22,976.237 1661.3,976.648 1663.38,977.057 1665.47,977.464 \n",
       "  1667.55,977.87 1669.63,978.274 1671.72,978.676 1673.8,979.077 1675.88,979.475 1677.96,979.872 1680.05,980.267 1682.13,980.66 1684.21,981.051 1686.3,981.44 \n",
       "  1688.38,981.828 1690.46,982.213 1692.54,982.596 1694.63,982.978 1696.71,983.357 1698.79,983.735 1700.88,984.11 1702.96,984.483 1705.04,984.854 1707.12,985.223 \n",
       "  1709.21,985.59 1711.29,985.955 1713.37,986.318 1715.46,986.678 1717.54,987.036 1719.62,987.392 1721.7,987.746 1723.79,988.098 1725.87,988.447 1727.95,988.794 \n",
       "  1730.04,989.139 1732.12,989.481 1734.2,989.821 1736.28,990.158 1738.37,990.494 1740.45,990.826 1742.53,991.157 1744.62,991.484 1746.7,991.81 1748.78,992.133 \n",
       "  1750.87,992.453 1752.95,992.771 1755.03,993.086 1757.11,993.399 1759.2,993.709 1761.28,994.016 1763.36,994.321 1765.45,994.623 1767.53,994.923 1769.61,995.22 \n",
       "  1771.69,995.514 1773.78,995.805 1775.86,996.094 1777.94,996.38 1780.03,996.663 1782.11,996.943 1784.19,997.22 1786.27,997.495 1788.36,997.767 1790.44,998.035 \n",
       "  1792.52,998.301 1794.61,998.564 1796.69,998.824 1798.77,999.081 1800.85,999.335 1802.94,999.587 1805.02,999.835 1807.1,1000.08 1809.19,1000.32 1811.27,1000.56 \n",
       "  1813.35,1000.8 1815.43,1001.03 1817.52,1001.26 1819.6,1001.48 1821.68,1001.71 1823.77,1001.93 1825.85,1002.14 1827.93,1002.36 1830.01,1002.57 1832.1,1002.77 \n",
       "  1834.18,1002.98 1836.26,1003.18 1838.35,1003.38 1840.43,1003.57 1842.51,1003.76 1844.59,1003.95 1846.68,1004.13 1848.76,1004.31 1850.84,1004.49 1852.93,1004.66 \n",
       "  1855.01,1004.83 1857.09,1005 1859.18,1005.16 1861.26,1005.32 1863.34,1005.47 1865.42,1005.62 1867.51,1005.77 1869.59,1005.92 1871.67,1006.06 1873.76,1006.19 \n",
       "  1875.84,1006.33 1877.92,1006.46 1880,1006.58 1882.09,1006.71 1884.17,1006.82 1886.25,1006.94 1888.34,1007.05 1890.42,1007.16 1892.5,1007.26 1894.58,1007.36 \n",
       "  1896.67,1007.46 1898.75,1007.55 1900.83,1007.64 1902.92,1007.72 1905,1007.8 1907.08,1007.87 1909.16,1007.95 1911.25,1008.01 1913.33,1008.08 1915.41,1008.14 \n",
       "  1917.5,1008.19 1919.58,1008.24 1921.66,1008.29 1923.74,1008.34 1925.83,1008.37 1927.91,1008.41 1929.99,1008.44 1932.08,1008.47 1934.16,1008.49 1936.24,1008.51 \n",
       "  1938.32,1008.52 1940.41,1008.53 1942.49,1008.53 1944.57,1008.54 1946.66,1008.53 1948.74,1008.52 1950.82,1008.51 1952.9,1008.49 1954.99,1008.47 1957.07,1008.45 \n",
       "  1959.15,1008.42 1961.24,1008.38 1963.32,1008.34 1965.4,1008.3 1967.48,1008.25 1969.57,1008.2 1971.65,1008.14 1973.73,1008.08 1975.82,1008.01 1977.9,1007.94 \n",
       "  1979.98,1007.86 1982.07,1007.78 1984.15,1007.7 1986.23,1007.61 1988.31,1007.51 1990.4,1007.41 1992.48,1007.31 1994.56,1007.2 1996.65,1007.09 1998.73,1006.97 \n",
       "  2000.81,1006.84 2002.89,1006.71 2004.98,1006.58 2007.06,1006.44 2009.14,1006.3 2011.23,1006.15 2013.31,1006 2015.39,1005.84 2017.47,1005.67 2019.56,1005.51 \n",
       "  2021.64,1005.33 2023.72,1005.15 2025.81,1004.97 2027.89,1004.78 2029.97,1004.59 2032.05,1004.39 2034.14,1004.18 2036.22,1003.97 2038.3,1003.76 2040.39,1003.54 \n",
       "  2042.47,1003.31 2044.55,1003.08 2046.63,1002.85 2048.72,1002.61 2050.8,1002.36 2052.88,1002.11 2054.97,1001.85 2057.05,1001.59 2059.13,1001.32 2061.21,1001.05 \n",
       "  2063.3,1000.77 2065.38,1000.48 2067.46,1000.19 2069.55,999.898 2071.63,999.597 2073.71,999.29 2075.79,998.978 2077.88,998.661 2079.96,998.337 2082.04,998.008 \n",
       "  2084.13,997.674 2086.21,997.334 2088.29,996.988 2090.38,996.636 2092.46,996.279 2094.54,995.916 2096.62,995.547 2098.71,995.172 2100.79,994.792 2102.87,994.405 \n",
       "  2104.96,994.013 2107.04,993.615 2109.12,993.211 2111.2,992.801 2113.29,992.386 2115.37,991.964 2117.45,991.536 2119.54,991.103 2121.62,990.663 2123.7,990.217 \n",
       "  2125.78,989.766 2127.87,989.308 2129.95,988.844 2132.03,988.374 2134.12,987.898 2136.2,987.416 2138.28,986.928 2140.36,986.433 2142.45,985.932 2144.53,985.425 \n",
       "  2146.61,984.912 2148.7,984.393 2150.78,983.867 2152.86,983.335 2154.94,982.797 2157.03,982.252 2159.11,981.701 2161.19,981.143 2163.28,980.58 2165.36,980.009 \n",
       "  2167.44,979.433 2169.52,978.85 2171.61,978.26 2173.69,977.664 2175.77,977.061 2177.86,976.452 2179.94,975.837 2182.02,975.214 2184.1,974.586 2186.19,973.95 \n",
       "  2188.27,973.308 2190.35,972.659 2192.44,972.004 2194.52,971.342 2196.6,970.673 2198.69,969.998 2200.77,969.315 2202.85,968.626 2204.93,967.93 2207.02,967.228 \n",
       "  2209.1,966.518 2211.18,965.802 2213.27,965.079 2215.35,964.349 2217.43,963.612 2219.51,962.868 2221.6,962.117 2223.68,961.359 2225.76,960.595 2227.85,959.823 \n",
       "  2229.93,959.044 2232.01,958.258 2234.09,957.465 2236.18,956.665 2238.26,955.858 2240.34,955.044 2242.43,954.223 2244.51,953.394 2246.59,952.559 2248.67,951.716 \n",
       "  2250.76,950.866 2252.84,950.008 2254.92,949.144 2257.01,948.272 2259.09,947.393 2261.17,946.506 2263.25,945.613 2265.34,944.711 2267.42,943.803 2269.5,942.887 \n",
       "  2271.59,941.964 2273.67,941.033 2275.75,940.095 2277.83,939.149 2279.92,938.196 2282,937.235 2284.08,936.267 2286.17,935.291 2288.25,934.308 2290.33,933.317 \n",
       "  \n",
       "  \"/>\n",
       "<circle clip-path=\"url(#clip902)\" cx=\"296.232\" cy=\"1263.28\" r=\"14\" fill=\"#e26f46\" fill-rule=\"evenodd\" fill-opacity=\"1\" stroke=\"#000000\" stroke-opacity=\"1\" stroke-width=\"3.2\"/>\n",
       "<circle clip-path=\"url(#clip902)\" cx=\"903.132\" cy=\"872.67\" r=\"14\" fill=\"#e26f46\" fill-rule=\"evenodd\" fill-opacity=\"1\" stroke=\"#000000\" stroke-opacity=\"1\" stroke-width=\"3.2\"/>\n",
       "<circle clip-path=\"url(#clip902)\" cx=\"1423.33\" cy=\"923.62\" r=\"14\" fill=\"#e26f46\" fill-rule=\"evenodd\" fill-opacity=\"1\" stroke=\"#000000\" stroke-opacity=\"1\" stroke-width=\"3.2\"/>\n",
       "<circle clip-path=\"url(#clip902)\" cx=\"1943.53\" cy=\"1008.54\" r=\"14\" fill=\"#e26f46\" fill-rule=\"evenodd\" fill-opacity=\"1\" stroke=\"#000000\" stroke-opacity=\"1\" stroke-width=\"3.2\"/>\n",
       "<polyline clip-path=\"url(#clip902)\" style=\"stroke:#3da44d; stroke-linecap:butt; stroke-linejoin:round; stroke-width:4; stroke-opacity:1; fill:none\" points=\"\n",
       "  209.532,989.551 211.614,987.585 213.697,985.639 215.78,983.712 217.863,981.805 219.946,979.917 222.029,978.048 224.112,976.198 226.195,974.368 228.278,972.557 \n",
       "  230.36,970.765 232.443,968.992 234.526,967.237 236.609,965.502 238.692,963.786 240.775,962.088 242.858,960.409 244.941,958.749 247.023,957.107 249.106,955.484 \n",
       "  251.189,953.88 253.272,952.294 255.355,950.727 257.438,949.177 259.521,947.647 261.604,946.134 263.687,944.64 265.769,943.164 267.852,941.706 269.935,940.266 \n",
       "  272.018,938.844 274.101,937.44 276.184,936.054 278.267,934.686 280.35,933.336 282.432,932.003 284.515,930.688 286.598,929.391 288.681,928.112 290.764,926.85 \n",
       "  292.847,925.605 294.93,924.378 297.013,923.168 299.096,921.976 301.178,920.801 303.261,919.643 305.344,918.502 307.427,917.379 309.51,916.272 311.593,915.183 \n",
       "  313.676,914.11 315.759,913.055 317.841,912.016 319.924,910.994 322.007,909.989 324.09,909.001 326.173,908.029 328.256,907.074 330.339,906.136 332.422,905.213 \n",
       "  334.505,904.308 336.587,903.419 338.67,902.546 340.753,901.689 342.836,900.849 344.919,900.025 347.002,899.217 349.085,898.425 351.168,897.649 353.25,896.89 \n",
       "  355.333,896.146 357.416,895.418 359.499,894.705 361.582,894.009 363.665,893.328 365.748,892.663 367.831,892.014 369.914,891.38 371.996,890.762 374.079,890.159 \n",
       "  376.162,889.571 378.245,888.999 380.328,888.442 382.411,887.901 384.494,887.374 386.577,886.863 388.66,886.367 390.742,885.886 392.825,885.42 394.908,884.969 \n",
       "  396.991,884.532 399.074,884.111 401.157,883.704 403.24,883.312 405.323,882.935 407.405,882.573 409.488,882.224 411.571,881.891 413.654,881.572 415.737,881.267 \n",
       "  417.82,880.977 419.903,880.701 421.986,880.439 424.069,880.192 426.151,879.959 428.234,879.739 430.317,879.534 432.4,879.343 434.483,879.166 436.566,879.002 \n",
       "  438.649,878.853 440.732,878.717 442.814,878.595 444.897,878.487 446.98,878.392 449.063,878.311 451.146,878.244 453.229,878.19 455.312,878.149 457.395,878.122 \n",
       "  459.478,878.108 461.56,878.107 463.643,878.12 465.726,878.145 467.809,878.184 469.892,878.236 471.975,878.301 474.058,878.379 476.141,878.47 478.223,878.573 \n",
       "  480.306,878.69 482.389,878.819 484.472,878.961 486.555,879.115 488.638,879.282 490.721,879.462 492.804,879.654 494.887,879.858 496.969,880.075 499.052,880.304 \n",
       "  501.135,880.546 503.218,880.8 505.301,881.066 507.384,881.344 509.467,881.634 511.55,881.936 513.633,882.25 515.715,882.576 517.798,882.914 519.881,883.263 \n",
       "  521.964,883.625 524.047,883.998 526.13,884.383 528.213,884.779 530.296,885.187 532.378,885.606 534.461,886.037 536.544,886.479 538.627,886.933 540.71,887.398 \n",
       "  542.793,887.874 544.876,888.361 546.959,888.859 549.042,889.369 551.124,889.889 553.207,890.421 555.29,890.963 557.373,891.516 559.456,892.08 561.539,892.655 \n",
       "  563.622,893.241 565.705,893.837 567.787,894.444 569.87,895.061 571.953,895.689 574.036,896.327 576.119,896.976 578.202,897.635 580.285,898.304 582.368,898.984 \n",
       "  584.451,899.673 586.533,900.373 588.616,901.083 590.699,901.803 592.782,902.533 594.865,903.273 596.948,904.023 599.031,904.782 601.114,905.552 603.196,906.331 \n",
       "  605.279,907.12 607.362,907.918 609.445,908.726 611.528,909.543 613.611,910.37 615.694,911.207 617.777,912.052 619.86,912.907 621.942,913.771 624.025,914.645 \n",
       "  626.108,915.527 628.191,916.419 630.274,917.32 632.357,918.229 634.44,919.148 636.523,920.075 638.605,921.012 640.688,921.957 642.771,922.911 644.854,923.873 \n",
       "  646.937,924.844 649.02,925.824 651.103,926.812 653.186,927.809 655.269,928.814 657.351,929.827 659.434,930.849 661.517,931.879 663.6,932.917 665.683,933.963 \n",
       "  667.766,935.018 669.849,936.08 671.932,937.151 674.015,938.229 676.097,939.316 678.18,940.41 680.263,941.512 682.346,942.622 684.429,943.739 686.512,944.864 \n",
       "  688.595,945.996 690.678,947.137 692.76,948.284 694.843,949.439 696.926,950.602 699.009,951.771 701.092,952.948 703.175,954.132 705.258,955.324 707.341,956.522 \n",
       "  709.424,957.728 711.506,958.94 713.589,960.159 715.672,961.386 717.755,962.619 719.838,963.859 721.921,965.106 724.004,966.359 726.087,967.619 728.169,968.886 \n",
       "  730.252,970.159 732.335,971.439 734.418,972.725 736.501,974.017 738.584,975.316 740.667,976.621 742.75,977.932 744.833,979.25 746.915,980.573 748.998,981.903 \n",
       "  751.081,983.238 753.164,984.58 755.247,985.928 757.33,987.281 759.413,988.64 761.496,990.005 763.578,991.376 765.661,992.752 767.744,994.134 769.827,995.521 \n",
       "  771.91,996.914 773.993,998.312 776.076,999.716 778.159,1001.12 780.242,1002.54 782.324,1003.96 784.407,1005.38 786.49,1006.81 788.573,1008.25 790.656,1009.69 \n",
       "  792.739,1011.13 794.822,1012.58 796.905,1014.04 798.988,1015.5 801.07,1016.96 803.153,1018.43 805.236,1019.9 807.319,1021.38 809.402,1022.86 811.485,1024.35 \n",
       "  813.568,1025.84 815.651,1027.34 817.733,1028.84 819.816,1030.34 821.899,1031.85 823.982,1033.37 826.065,1034.88 828.148,1036.41 830.231,1037.93 832.314,1039.46 \n",
       "  834.397,1040.99 836.479,1042.53 838.562,1044.07 840.645,1045.62 842.728,1047.16 844.811,1048.72 846.894,1050.27 848.977,1051.83 851.06,1053.39 853.142,1054.96 \n",
       "  855.225,1056.53 857.308,1058.1 859.391,1059.68 861.474,1061.26 863.557,1062.84 865.64,1064.43 867.723,1066.02 869.806,1067.61 871.888,1069.2 873.971,1070.8 \n",
       "  876.054,1072.4 878.137,1074.01 880.22,1075.61 882.303,1077.22 884.386,1078.83 886.469,1080.45 888.551,1082.06 890.634,1083.68 892.717,1085.31 894.8,1086.93 \n",
       "  896.883,1088.56 898.966,1090.19 901.049,1091.82 903.132,1093.45 905.215,1095.09 907.297,1096.72 909.38,1098.36 911.463,1100.01 913.546,1101.65 915.629,1103.29 \n",
       "  917.712,1104.94 919.795,1106.59 921.878,1108.24 923.961,1109.89 926.043,1111.55 928.126,1113.2 930.209,1114.86 932.292,1116.52 934.375,1118.18 936.458,1119.84 \n",
       "  938.541,1121.51 940.624,1123.17 942.706,1124.83 944.789,1126.5 946.872,1128.17 948.955,1129.84 951.038,1131.51 953.121,1133.18 955.204,1134.85 957.287,1136.52 \n",
       "  959.37,1138.19 961.452,1139.87 963.535,1141.54 965.618,1143.22 967.701,1144.89 969.784,1146.57 971.867,1148.25 973.95,1149.92 976.033,1151.6 978.115,1153.28 \n",
       "  980.198,1154.96 982.281,1156.64 984.364,1158.31 986.447,1159.99 988.53,1161.67 990.613,1163.35 992.696,1165.03 994.779,1166.71 996.861,1168.39 998.944,1170.06 \n",
       "  1001.03,1171.74 1003.11,1173.42 1005.19,1175.1 1007.28,1176.77 1009.36,1178.45 1011.44,1180.13 1013.52,1181.8 1015.61,1183.48 1017.69,1185.15 1019.77,1186.82 \n",
       "  1021.86,1188.5 1023.94,1190.17 1026.02,1191.84 1028.1,1193.51 1030.19,1195.18 1032.27,1196.85 1034.35,1198.51 1036.44,1200.18 1038.52,1201.84 1040.6,1203.51 \n",
       "  1042.68,1205.17 1044.77,1206.83 1046.85,1208.49 1048.93,1210.15 1051.02,1211.8 1053.1,1213.46 1055.18,1215.11 1057.27,1216.76 1059.35,1218.41 1061.43,1220.06 \n",
       "  1063.51,1221.7 1065.6,1223.35 1067.68,1224.99 1069.76,1226.63 1071.85,1228.27 1073.93,1229.91 1076.01,1231.54 1078.09,1233.17 1080.18,1234.8 1082.26,1236.43 \n",
       "  1084.34,1238.05 1086.43,1239.68 1088.51,1241.3 1090.59,1242.91 1092.67,1244.53 1094.76,1246.14 1096.84,1247.75 1098.92,1249.36 1101.01,1250.96 1103.09,1252.56 \n",
       "  1105.17,1254.16 1107.25,1255.76 1109.34,1257.35 1111.42,1258.94 1113.5,1260.53 1115.59,1262.11 1117.67,1263.69 1119.75,1265.27 1121.83,1266.84 1123.92,1268.41 \n",
       "  1126,1269.98 1128.08,1271.55 1130.17,1273.11 1132.25,1274.66 1134.33,1276.22 1136.41,1277.76 1138.5,1279.31 1140.58,1280.85 1142.66,1282.39 1144.75,1283.93 \n",
       "  1146.83,1285.46 1148.91,1286.98 1150.99,1288.5 1153.08,1290.02 1155.16,1291.54 1157.24,1293.05 1159.33,1294.55 1161.41,1296.06 1163.49,1297.55 1165.57,1299.05 \n",
       "  1167.66,1300.53 1169.74,1302.02 1171.82,1303.5 1173.91,1304.97 1175.99,1306.44 1178.07,1307.91 1180.16,1309.37 1182.24,1310.83 1184.32,1312.28 1186.4,1313.72 \n",
       "  1188.49,1315.16 1190.57,1316.6 1192.65,1318.03 1194.74,1319.46 1196.82,1320.88 1198.9,1322.29 1200.98,1323.71 1203.07,1325.11 1205.15,1326.51 1207.23,1327.9 \n",
       "  1209.32,1329.29 1211.4,1330.68 1213.48,1332.06 1215.56,1333.43 1217.65,1334.79 1219.73,1336.15 1221.81,1337.51 1223.9,1338.86 1225.98,1340.2 1228.06,1341.54 \n",
       "  1230.14,1342.87 1232.23,1344.2 1234.31,1345.52 1236.39,1346.83 1238.48,1348.14 1240.56,1349.44 1242.64,1350.73 1244.72,1352.02 1246.81,1353.3 1248.89,1354.57 \n",
       "  1250.97,1355.84 1253.06,1357.1 1255.14,1358.36 1257.22,1359.61 1259.3,1360.85 1261.39,1362.09 1263.47,1363.31 1265.55,1364.54 1267.64,1365.75 1269.72,1366.96 \n",
       "  1271.8,1368.16 1273.88,1369.35 1275.97,1370.54 1278.05,1371.72 1280.13,1372.89 1282.22,1374.05 1284.3,1375.21 1286.38,1376.36 1288.47,1377.5 1290.55,1378.64 \n",
       "  1292.63,1379.76 1294.71,1380.88 1296.8,1381.99 1298.88,1383.1 1300.96,1384.2 1303.05,1385.28 1305.13,1386.36 1307.21,1387.44 1309.29,1388.5 1311.38,1389.56 \n",
       "  1313.46,1390.61 1315.54,1391.65 1317.63,1392.68 1319.71,1393.7 1321.79,1394.72 1323.87,1395.73 1325.96,1396.73 1328.04,1397.72 1330.12,1398.7 1332.21,1399.67 \n",
       "  1334.29,1400.64 1336.37,1401.59 1338.45,1402.54 1340.54,1403.48 1342.62,1404.41 1344.7,1405.33 1346.79,1406.24 1348.87,1407.15 1350.95,1408.04 1353.03,1408.93 \n",
       "  1355.12,1409.8 1357.2,1410.67 1359.28,1411.53 1361.37,1412.38 1363.45,1413.21 1365.53,1414.04 1367.61,1414.86 1369.7,1415.67 1371.78,1416.48 1373.86,1417.27 \n",
       "  1375.95,1418.05 1378.03,1418.82 1380.11,1419.58 1382.19,1420.34 1384.28,1421.08 1386.36,1421.81 1388.44,1422.53 1390.53,1423.25 1392.61,1423.95 1394.69,1424.64 \n",
       "  1396.77,1425.33 1398.86,1426 1400.94,1426.66 1403.02,1427.31 1405.11,1427.95 1407.19,1428.58 1409.27,1429.2 1411.36,1429.81 1413.44,1430.41 1415.52,1431 \n",
       "  1417.6,1431.58 1419.69,1432.15 1421.77,1432.7 1423.85,1433.25 1425.94,1433.78 1428.02,1434.31 1430.1,1434.82 1432.18,1435.32 1434.27,1435.81 1436.35,1436.29 \n",
       "  1438.43,1436.76 1440.52,1437.21 1442.6,1437.66 1444.68,1438.09 1446.76,1438.52 1448.85,1438.93 1450.93,1439.33 1453.01,1439.72 1455.1,1440.09 1457.18,1440.46 \n",
       "  1459.26,1440.81 1461.34,1441.15 1463.43,1441.48 1465.51,1441.8 1467.59,1442.1 1469.68,1442.4 1471.76,1442.68 1473.84,1442.95 1475.92,1443.21 1478.01,1443.45 \n",
       "  1480.09,1443.68 1482.17,1443.9 1484.26,1444.11 1486.34,1444.31 1488.42,1444.49 1490.5,1444.66 1492.59,1444.82 1494.67,1444.96 1496.75,1445.1 1498.84,1445.22 \n",
       "  1500.92,1445.32 1503,1445.42 1505.08,1445.5 1507.17,1445.57 1509.25,1445.62 1511.33,1445.67 1513.42,1445.7 1515.5,1445.71 1517.58,1445.72 1519.67,1445.71 \n",
       "  1521.75,1445.68 1523.83,1445.65 1525.91,1445.6 1528,1445.53 1530.08,1445.45 1532.16,1445.36 1534.25,1445.26 1536.33,1445.14 1538.41,1445.01 1540.49,1444.86 \n",
       "  1542.58,1444.7 1544.66,1444.53 1546.74,1444.34 1548.83,1444.14 1550.91,1443.93 1552.99,1443.7 1555.07,1443.45 1557.16,1443.2 1559.24,1442.93 1561.32,1442.64 \n",
       "  1563.41,1442.34 1565.49,1442.02 1567.57,1441.69 1569.65,1441.35 1571.74,1440.99 1573.82,1440.62 1575.9,1440.23 1577.99,1439.83 1580.07,1439.41 1582.15,1438.98 \n",
       "  1584.23,1438.53 1586.32,1438.07 1588.4,1437.59 1590.48,1437.1 1592.57,1436.59 1594.65,1436.07 1596.73,1435.54 1598.81,1434.98 1600.9,1434.42 1602.98,1433.83 \n",
       "  1605.06,1433.23 1607.15,1432.62 1609.23,1431.99 1611.31,1431.35 1613.39,1430.68 1615.48,1430.01 1617.56,1429.32 1619.64,1428.61 1621.73,1427.89 1623.81,1427.15 \n",
       "  1625.89,1426.39 1627.98,1425.62 1630.06,1424.83 1632.14,1424.03 1634.22,1423.21 1636.31,1422.37 1638.39,1421.52 1640.47,1420.65 1642.56,1419.77 1644.64,1418.87 \n",
       "  1646.72,1417.95 1648.8,1417.02 1650.89,1416.07 1652.97,1415.1 1655.05,1414.12 1657.14,1413.12 1659.22,1412.1 1661.3,1411.06 1663.38,1410.01 1665.47,1408.95 \n",
       "  1667.55,1407.86 1669.63,1406.76 1671.72,1405.64 1673.8,1404.51 1675.88,1403.35 1677.96,1402.18 1680.05,1401 1682.13,1399.79 1684.21,1398.57 1686.3,1397.33 \n",
       "  1688.38,1396.07 1690.46,1394.8 1692.54,1393.5 1694.63,1392.2 1696.71,1390.87 1698.79,1389.52 1700.88,1388.16 1702.96,1386.78 1705.04,1385.38 1707.12,1383.96 \n",
       "  1709.21,1382.53 1711.29,1381.08 1713.37,1379.6 1715.46,1378.12 1717.54,1376.61 1719.62,1375.08 1721.7,1373.54 1723.79,1371.98 1725.87,1370.4 1727.95,1368.8 \n",
       "  1730.04,1367.18 1732.12,1365.54 1734.2,1363.89 1736.28,1362.21 1738.37,1360.52 1740.45,1358.81 1742.53,1357.08 1744.62,1355.33 1746.7,1353.56 1748.78,1351.78 \n",
       "  1750.87,1349.97 1752.95,1348.15 1755.03,1346.3 1757.11,1344.44 1759.2,1342.56 1761.28,1340.66 1763.36,1338.73 1765.45,1336.79 1767.53,1334.83 1769.61,1332.85 \n",
       "  1771.69,1330.85 1773.78,1328.84 1775.86,1326.8 1777.94,1324.74 1780.03,1322.66 1782.11,1320.56 1784.19,1318.45 1786.27,1316.31 1788.36,1314.15 1790.44,1311.97 \n",
       "  1792.52,1309.78 1794.61,1307.56 1796.69,1305.32 1798.77,1303.06 1800.85,1300.78 1802.94,1298.48 1805.02,1296.16 1807.1,1293.82 1809.19,1291.46 1811.27,1289.08 \n",
       "  1813.35,1286.68 1815.43,1284.26 1817.52,1281.82 1819.6,1279.35 1821.68,1276.87 1823.77,1274.36 1825.85,1271.84 1827.93,1269.29 1830.01,1266.72 1832.1,1264.13 \n",
       "  1834.18,1261.52 1836.26,1258.89 1838.35,1256.24 1840.43,1253.56 1842.51,1250.87 1844.59,1248.15 1846.68,1245.41 1848.76,1242.65 1850.84,1239.87 1852.93,1237.07 \n",
       "  1855.01,1234.24 1857.09,1231.39 1859.18,1228.53 1861.26,1225.64 1863.34,1222.72 1865.42,1219.79 1867.51,1216.83 1869.59,1213.86 1871.67,1210.86 1873.76,1207.83 \n",
       "  1875.84,1204.79 1877.92,1201.72 1880,1198.64 1882.09,1195.52 1884.17,1192.39 1886.25,1189.23 1888.34,1186.06 1890.42,1182.86 1892.5,1179.63 1894.58,1176.39 \n",
       "  1896.67,1173.12 1898.75,1169.82 1900.83,1166.51 1902.92,1163.17 1905,1159.81 1907.08,1156.43 1909.16,1153.02 1911.25,1149.59 1913.33,1146.14 1915.41,1142.67 \n",
       "  1917.5,1139.17 1919.58,1135.64 1921.66,1132.1 1923.74,1128.53 1925.83,1124.94 1927.91,1121.32 1929.99,1117.68 1932.08,1114.02 1934.16,1110.33 1936.24,1106.62 \n",
       "  1938.32,1102.89 1940.41,1099.13 1942.49,1095.35 1944.57,1091.54 1946.66,1087.72 1948.74,1083.86 1950.82,1079.98 1952.9,1076.08 1954.99,1072.16 1957.07,1068.21 \n",
       "  1959.15,1064.23 1961.24,1060.23 1963.32,1056.21 1965.4,1052.16 1967.48,1048.09 1969.57,1044 1971.65,1039.87 1973.73,1035.73 1975.82,1031.56 1977.9,1027.36 \n",
       "  1979.98,1023.14 1982.07,1018.9 1984.15,1014.63 1986.23,1010.33 1988.31,1006.02 1990.4,1001.67 1992.48,997.301 1994.56,992.906 1996.65,988.486 1998.73,984.041 \n",
       "  2000.81,979.57 2002.89,975.074 2004.98,970.552 2007.06,966.006 2009.14,961.433 2011.23,956.835 2013.31,952.212 2015.39,947.562 2017.47,942.887 2019.56,938.186 \n",
       "  2021.64,933.46 2023.72,928.707 2025.81,923.929 2027.89,919.124 2029.97,914.294 2032.05,909.437 2034.14,904.554 2036.22,899.645 2038.3,894.71 2040.39,889.749 \n",
       "  2042.47,884.761 2044.55,879.747 2046.63,874.706 2048.72,869.639 2050.8,864.545 2052.88,859.424 2054.97,854.277 2057.05,849.103 2059.13,843.903 2061.21,838.675 \n",
       "  2063.3,833.421 2065.38,828.14 2067.46,822.831 2069.55,817.496 2071.63,812.134 2073.71,806.744 2075.79,801.328 2077.88,795.884 2079.96,790.412 2082.04,784.914 \n",
       "  2084.13,779.388 2086.21,773.834 2088.29,768.253 2090.38,762.645 2092.46,757.009 2094.54,751.345 2096.62,745.654 2098.71,739.934 2100.79,734.187 2102.87,728.412 \n",
       "  2104.96,722.609 2107.04,716.779 2109.12,710.92 2111.2,705.033 2113.29,699.118 2115.37,693.174 2117.45,687.203 2119.54,681.203 2121.62,675.175 2123.7,669.118 \n",
       "  2125.78,663.033 2127.87,656.92 2129.95,650.778 2132.03,644.607 2134.12,638.408 2136.2,632.18 2138.28,625.923 2140.36,619.638 2142.45,613.323 2144.53,606.98 \n",
       "  2146.61,600.607 2148.7,594.206 2150.78,587.776 2152.86,581.316 2154.94,574.828 2157.03,568.31 2159.11,561.762 2161.19,555.186 2163.28,548.58 2165.36,541.944 \n",
       "  2167.44,535.28 2169.52,528.585 2171.61,521.861 2173.69,515.108 2175.77,508.324 2177.86,501.511 2179.94,494.668 2182.02,487.795 2184.1,480.893 2186.19,473.96 \n",
       "  2188.27,466.998 2190.35,460.005 2192.44,452.982 2194.52,445.929 2196.6,438.846 2198.69,431.732 2200.77,424.589 2202.85,417.414 2204.93,410.21 2207.02,402.975 \n",
       "  2209.1,395.709 2211.18,388.413 2213.27,381.086 2215.35,373.728 2217.43,366.34 2219.51,358.921 2221.6,351.471 2223.68,343.99 2225.76,336.478 2227.85,328.936 \n",
       "  2229.93,321.362 2232.01,313.757 2234.09,306.121 2236.18,298.453 2238.26,290.755 2240.34,283.025 2242.43,275.264 2244.51,267.471 2246.59,259.647 2248.67,251.791 \n",
       "  2250.76,243.904 2252.84,235.985 2254.92,228.034 2257.01,220.052 2259.09,212.038 2261.17,203.992 2263.25,195.914 2265.34,187.804 2267.42,179.663 2269.5,171.489 \n",
       "  2271.59,163.283 2273.67,155.045 2275.75,146.774 2277.83,138.472 2279.92,130.137 2282,121.77 2284.08,113.37 2286.17,104.938 2288.25,96.4735 2290.33,87.9763 \n",
       "  \n",
       "  \"/>\n",
       "<path clip-path=\"url(#clip902)\" d=\"M280.232 907.62 L280.232 939.62 L312.232 939.62 L312.232 907.62 L280.232 907.62 Z\" fill=\"#c271d2\" fill-rule=\"evenodd\" fill-opacity=\"1\" stroke=\"#000000\" stroke-opacity=\"1\" stroke-width=\"3.2\"/>\n",
       "<path clip-path=\"url(#clip902)\" d=\"M887.132 1077.45 L887.132 1109.45 L919.132 1109.45 L919.132 1077.45 L887.132 1077.45 Z\" fill=\"#c271d2\" fill-rule=\"evenodd\" fill-opacity=\"1\" stroke=\"#000000\" stroke-opacity=\"1\" stroke-width=\"3.2\"/>\n",
       "<path clip-path=\"url(#clip902)\" d=\"M1407.33 1417.11 L1407.33 1449.11 L1439.33 1449.11 L1439.33 1417.11 L1407.33 1417.11 Z\" fill=\"#c271d2\" fill-rule=\"evenodd\" fill-opacity=\"1\" stroke=\"#000000\" stroke-opacity=\"1\" stroke-width=\"3.2\"/>\n",
       "<path clip-path=\"url(#clip902)\" d=\"M1927.53 1077.45 L1927.53 1109.45 L1959.53 1109.45 L1959.53 1077.45 L1927.53 1077.45 Z\" fill=\"#c271d2\" fill-rule=\"evenodd\" fill-opacity=\"1\" stroke=\"#000000\" stroke-opacity=\"1\" stroke-width=\"3.2\"/>\n",
       "<path clip-path=\"url(#clip900)\" d=\"\n",
       "M1980.02 354.418 L2279.23 354.418 L2279.23 95.2176 L1980.02 95.2176  Z\n",
       "  \" fill=\"#ffffff\" fill-rule=\"evenodd\" fill-opacity=\"1\"/>\n",
       "<polyline clip-path=\"url(#clip900)\" style=\"stroke:#000000; stroke-linecap:butt; stroke-linejoin:round; stroke-width:4; stroke-opacity:1; fill:none\" points=\"\n",
       "  1980.02,354.418 2279.23,354.418 2279.23,95.2176 1980.02,95.2176 1980.02,354.418 \n",
       "  \"/>\n",
       "<polyline clip-path=\"url(#clip900)\" style=\"stroke:#009af9; stroke-linecap:butt; stroke-linejoin:round; stroke-width:4; stroke-opacity:1; fill:none\" points=\"\n",
       "  2004.53,147.058 2151.57,147.058 \n",
       "  \"/>\n",
       "<path clip-path=\"url(#clip900)\" d=\"M2189.92 166.745 Q2188.11 171.375 2186.4 172.787 Q2184.69 174.199 2181.82 174.199 L2178.41 174.199 L2178.41 170.634 L2180.91 170.634 Q2182.67 170.634 2183.65 169.8 Q2184.62 168.967 2185.8 165.865 L2186.56 163.921 L2176.08 138.412 L2180.59 138.412 L2188.69 158.689 L2196.79 138.412 L2201.31 138.412 L2189.92 166.745 Z\" fill=\"#000000\" fill-rule=\"evenodd\" fill-opacity=\"1\" /><path clip-path=\"url(#clip900)\" d=\"M2208.6 160.402 L2216.24 160.402 L2216.24 134.037 L2207.93 135.703 L2207.93 131.444 L2216.19 129.778 L2220.87 129.778 L2220.87 160.402 L2228.51 160.402 L2228.51 164.338 L2208.6 164.338 L2208.6 160.402 Z\" fill=\"#000000\" fill-rule=\"evenodd\" fill-opacity=\"1\" /><circle clip-path=\"url(#clip900)\" cx=\"2078.05\" cy=\"198.898\" r=\"23\" fill=\"#e26f46\" fill-rule=\"evenodd\" fill-opacity=\"1\" stroke=\"#000000\" stroke-opacity=\"1\" stroke-width=\"5.12\"/>\n",
       "<path clip-path=\"url(#clip900)\" d=\"M2189.92 218.585 Q2188.11 223.215 2186.4 224.627 Q2184.69 226.039 2181.82 226.039 L2178.41 226.039 L2178.41 222.474 L2180.91 222.474 Q2182.67 222.474 2183.65 221.64 Q2184.62 220.807 2185.8 217.705 L2186.56 215.761 L2176.08 190.252 L2180.59 190.252 L2188.69 210.529 L2196.79 190.252 L2201.31 190.252 L2189.92 218.585 Z\" fill=\"#000000\" fill-rule=\"evenodd\" fill-opacity=\"1\" /><path clip-path=\"url(#clip900)\" d=\"M2211.82 212.242 L2228.14 212.242 L2228.14 216.178 L2206.19 216.178 L2206.19 212.242 Q2208.85 209.488 2213.44 204.858 Q2218.04 200.205 2219.22 198.863 Q2221.47 196.34 2222.35 194.604 Q2223.25 192.844 2223.25 191.155 Q2223.25 188.4 2221.31 186.664 Q2219.39 184.928 2216.28 184.928 Q2214.09 184.928 2211.63 185.692 Q2209.2 186.455 2206.42 188.006 L2206.42 183.284 Q2209.25 182.15 2211.7 181.571 Q2214.16 180.993 2216.19 180.993 Q2221.56 180.993 2224.76 183.678 Q2227.95 186.363 2227.95 190.854 Q2227.95 192.983 2227.14 194.905 Q2226.35 196.803 2224.25 199.395 Q2223.67 200.067 2220.57 203.284 Q2217.47 206.479 2211.82 212.242 Z\" fill=\"#000000\" fill-rule=\"evenodd\" fill-opacity=\"1\" /><polyline clip-path=\"url(#clip900)\" style=\"stroke:#3da44d; stroke-linecap:butt; stroke-linejoin:round; stroke-width:4; stroke-opacity:1; fill:none\" points=\"\n",
       "  2004.53,250.738 2151.57,250.738 \n",
       "  \"/>\n",
       "<path clip-path=\"url(#clip900)\" d=\"M2189.92 270.425 Q2188.11 275.055 2186.4 276.467 Q2184.69 277.879 2181.82 277.879 L2178.41 277.879 L2178.41 274.314 L2180.91 274.314 Q2182.67 274.314 2183.65 273.48 Q2184.62 272.647 2185.8 269.545 L2186.56 267.601 L2176.08 242.092 L2180.59 242.092 L2188.69 262.369 L2196.79 242.092 L2201.31 242.092 L2189.92 270.425 Z\" fill=\"#000000\" fill-rule=\"evenodd\" fill-opacity=\"1\" /><path clip-path=\"url(#clip900)\" d=\"M2221.96 249.383 Q2225.31 250.101 2227.19 252.369 Q2229.09 254.638 2229.09 257.971 Q2229.09 263.087 2225.57 265.888 Q2222.05 268.689 2215.57 268.689 Q2213.39 268.689 2211.08 268.249 Q2208.78 267.832 2206.33 266.976 L2206.33 262.462 Q2208.28 263.596 2210.59 264.175 Q2212.91 264.754 2215.43 264.754 Q2219.83 264.754 2222.12 263.018 Q2224.43 261.281 2224.43 257.971 Q2224.43 254.916 2222.28 253.203 Q2220.15 251.467 2216.33 251.467 L2212.3 251.467 L2212.3 247.624 L2216.52 247.624 Q2219.97 247.624 2221.79 246.258 Q2223.62 244.87 2223.62 242.277 Q2223.62 239.615 2221.72 238.203 Q2219.85 236.768 2216.33 236.768 Q2214.41 236.768 2212.21 237.184 Q2210.01 237.601 2207.37 238.481 L2207.37 234.314 Q2210.03 233.573 2212.35 233.203 Q2214.69 232.833 2216.75 232.833 Q2222.07 232.833 2225.17 235.263 Q2228.28 237.67 2228.28 241.791 Q2228.28 244.661 2226.63 246.652 Q2224.99 248.62 2221.96 249.383 Z\" fill=\"#000000\" fill-rule=\"evenodd\" fill-opacity=\"1\" /><path clip-path=\"url(#clip900)\" d=\"M2052.45 276.978 L2052.45 328.178 L2103.65 328.178 L2103.65 276.978 L2052.45 276.978 Z\" fill=\"#c271d2\" fill-rule=\"evenodd\" fill-opacity=\"1\" stroke=\"#000000\" stroke-opacity=\"1\" stroke-width=\"5.12\"/>\n",
       "<path clip-path=\"url(#clip900)\" d=\"M2189.92 322.265 Q2188.11 326.895 2186.4 328.307 Q2184.69 329.719 2181.82 329.719 L2178.41 329.719 L2178.41 326.154 L2180.91 326.154 Q2182.67 326.154 2183.65 325.32 Q2184.62 324.487 2185.8 321.385 L2186.56 319.441 L2176.08 293.932 L2180.59 293.932 L2188.69 314.209 L2196.79 293.932 L2201.31 293.932 L2189.92 322.265 Z\" fill=\"#000000\" fill-rule=\"evenodd\" fill-opacity=\"1\" /><path clip-path=\"url(#clip900)\" d=\"M2220.64 289.372 L2208.83 307.821 L2220.64 307.821 L2220.64 289.372 M2219.41 285.298 L2225.29 285.298 L2225.29 307.821 L2230.22 307.821 L2230.22 311.709 L2225.29 311.709 L2225.29 319.858 L2220.64 319.858 L2220.64 311.709 L2205.03 311.709 L2205.03 307.196 L2219.41 285.298 Z\" fill=\"#000000\" fill-rule=\"evenodd\" fill-opacity=\"1\" /></svg>\n"
      ]
     },
     "execution_count": 52,
     "metadata": {},
     "output_type": "execute_result"
    }
   ],
   "source": [
    "scatter!(t, b2, marker = :square)"
   ]
  },
  {
   "cell_type": "markdown",
   "metadata": {},
   "source": [
    "# Part5 Pseudo-inverse"
   ]
  },
  {
   "cell_type": "code",
   "execution_count": 54,
   "metadata": {},
   "outputs": [
    {
     "data": {
      "text/plain": [
       "3×2 Matrix{Int64}:\n",
       " -3  -4\n",
       "  4   6\n",
       "  1   1"
      ]
     },
     "execution_count": 54,
     "metadata": {},
     "output_type": "execute_result"
    }
   ],
   "source": [
    "A = [-3 -4; 4 6; 1 1]"
   ]
  },
  {
   "cell_type": "code",
   "execution_count": 55,
   "metadata": {},
   "outputs": [
    {
     "data": {
      "text/plain": [
       "2×3 Matrix{Float64}:\n",
       " -1.22222   -1.11111    1.77778\n",
       "  0.777778   0.888889  -1.22222"
      ]
     },
     "execution_count": 55,
     "metadata": {},
     "output_type": "execute_result"
    }
   ],
   "source": [
    "pinv(A)"
   ]
  },
  {
   "cell_type": "code",
   "execution_count": 56,
   "metadata": {},
   "outputs": [
    {
     "data": {
      "text/plain": [
       "LinearAlgebra.QRCompactWY{Float64, Matrix{Float64}}\n",
       "Q factor:\n",
       "3×3 LinearAlgebra.QRCompactWYQ{Float64, Matrix{Float64}}:\n",
       " -0.588348  -0.457604  0.666667\n",
       "  0.784465  -0.522976  0.333333\n",
       "  0.196116   0.719092  0.666667\n",
       "R factor:\n",
       "2×2 Matrix{Float64}:\n",
       " 5.09902   7.2563\n",
       " 0.0      -0.588348"
      ]
     },
     "execution_count": 56,
     "metadata": {},
     "output_type": "execute_result"
    }
   ],
   "source": [
    "Q, R = qr(A)"
   ]
  },
  {
   "cell_type": "code",
   "execution_count": 57,
   "metadata": {},
   "outputs": [
    {
     "data": {
      "text/plain": [
       "3×2 Matrix{Float64}:\n",
       " -0.588348  -0.457604\n",
       "  0.784465  -0.522976\n",
       "  0.196116   0.719092"
      ]
     },
     "execution_count": 57,
     "metadata": {},
     "output_type": "execute_result"
    }
   ],
   "source": [
    "Q = Matrix(Q)"
   ]
  },
  {
   "cell_type": "code",
   "execution_count": 58,
   "metadata": {},
   "outputs": [
    {
     "data": {
      "text/plain": [
       "2×2 Matrix{Float64}:\n",
       " 5.09902   7.2563\n",
       " 0.0      -0.588348"
      ]
     },
     "execution_count": 58,
     "metadata": {},
     "output_type": "execute_result"
    }
   ],
   "source": [
    "R"
   ]
  },
  {
   "cell_type": "code",
   "execution_count": 59,
   "metadata": {},
   "outputs": [
    {
     "data": {
      "text/plain": [
       "2×3 Matrix{Float64}:\n",
       " -1.22222   -1.11111    1.77778\n",
       "  0.777778   0.888889  -1.22222"
      ]
     },
     "execution_count": 59,
     "metadata": {},
     "output_type": "execute_result"
    }
   ],
   "source": [
    "R \\ Q'"
   ]
  },
  {
   "cell_type": "code",
   "execution_count": null,
   "metadata": {},
   "outputs": [],
   "source": []
  }
 ],
 "metadata": {
  "kernelspec": {
   "display_name": "Julia 1.6.3",
   "language": "julia",
   "name": "julia-1.6"
  },
  "language_info": {
   "file_extension": ".jl",
   "mimetype": "application/julia",
   "name": "julia",
   "version": "1.6.3"
  }
 },
 "nbformat": 4,
 "nbformat_minor": 4
}
