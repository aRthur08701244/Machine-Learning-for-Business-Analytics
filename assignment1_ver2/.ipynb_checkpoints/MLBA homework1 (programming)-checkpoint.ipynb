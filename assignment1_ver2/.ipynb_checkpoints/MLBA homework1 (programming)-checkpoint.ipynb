{
 "cells": [
  {
   "cell_type": "markdown",
   "metadata": {},
   "source": [
    "# MLBA homework1"
   ]
  },
  {
   "cell_type": "code",
   "execution_count": 6,
   "metadata": {},
   "outputs": [],
   "source": [
    "# Put the package you need to use here\n",
    "using Random"
   ]
  },
  {
   "cell_type": "markdown",
   "metadata": {},
   "source": [
    "## Q1 Inner Product"
   ]
  },
  {
   "cell_type": "markdown",
   "metadata": {},
   "source": [
    "Define a function on the below block, and name it \"Inner_Product\""
   ]
  },
  {
   "cell_type": "code",
   "execution_count": 26,
   "metadata": {},
   "outputs": [
    {
     "data": {
      "text/plain": [
       "Inner_Product (generic function with 1 method)"
      ]
     },
     "execution_count": 26,
     "metadata": {},
     "output_type": "execute_result"
    }
   ],
   "source": [
    "# Define you function on this block\n",
    "\n",
    "function Inner_Product(a, b)\n",
    "    sum = 0\n",
    "    for i in 1:length(a)\n",
    "        sum = sum + a[i]*b[i]\n",
    "    end\n",
    "    return sum\n",
    "end"
   ]
  },
  {
   "cell_type": "markdown",
   "metadata": {},
   "source": [
    "Run the below blocks to get marks"
   ]
  },
  {
   "cell_type": "code",
   "execution_count": 27,
   "metadata": {},
   "outputs": [
    {
     "name": "stdout",
     "output_type": "stream",
     "text": [
      "20\n"
     ]
    }
   ],
   "source": [
    "# Q1 Test 1\n",
    "Q1_1_v1 = [1, 2, 3]\n",
    "Q1_1_v2 = [1, 2, 5]\n",
    "println(Inner_Product(Q1_1_v1, Q1_1_v2))"
   ]
  },
  {
   "cell_type": "code",
   "execution_count": 28,
   "metadata": {},
   "outputs": [
    {
     "name": "stdout",
     "output_type": "stream",
     "text": [
      "19.008436000000003\n"
     ]
    }
   ],
   "source": [
    "# Q1 Test 2\n",
    "Q1_2_v1 = [1.82, -2.56, 3.64]\n",
    "Q1_2_v2 = [-1.43, -0.788, 5.3829]\n",
    "println(Inner_Product(Q1_2_v1, Q1_2_v2))"
   ]
  },
  {
   "cell_type": "code",
   "execution_count": 29,
   "metadata": {},
   "outputs": [
    {
     "name": "stdout",
     "output_type": "stream",
     "text": [
      "30\n"
     ]
    }
   ],
   "source": [
    "#Q1 Test 3\n",
    "Q1_3_v1 = [1 3 5]\n",
    "Q1_3_v2 = [1, 3, 4]\n",
    "println(Inner_Product(Q1_3_v1, Q1_3_v2))"
   ]
  },
  {
   "cell_type": "code",
   "execution_count": 30,
   "metadata": {},
   "outputs": [
    {
     "name": "stdout",
     "output_type": "stream",
     "text": [
      "2.0411247582415086\n"
     ]
    }
   ],
   "source": [
    "#Q1 Test 4\n",
    "Random.seed!(1314)\n",
    "Q1_4_v1 = rand(10)\n",
    "Q1_4_v2 = rand(10)\n",
    "println(Inner_Product(Q1_4_v1, Q1_4_v2))"
   ]
  },
  {
   "cell_type": "code",
   "execution_count": 31,
   "metadata": {},
   "outputs": [
    {
     "name": "stdout",
     "output_type": "stream",
     "text": [
      "2.5007532418357e7\n"
     ]
    }
   ],
   "source": [
    "# Q1 Test 5\n",
    "Random.seed!(9487)\n",
    "Q1_5_v1 = rand(10000)*100\n",
    "Q1_5_v2 = rand(10000)*100\n",
    "println(Inner_Product(Q1_5_v1, Q1_5_v2))"
   ]
  },
  {
   "cell_type": "markdown",
   "metadata": {},
   "source": [
    "## Q2 Exception Handling"
   ]
  },
  {
   "cell_type": "markdown",
   "metadata": {},
   "source": [
    "Define a function on the below block, and name it \"Strict_inner_Product\""
   ]
  },
  {
   "cell_type": "code",
   "execution_count": 38,
   "metadata": {},
   "outputs": [
    {
     "data": {
      "text/plain": [
       "Strict_inner_Product (generic function with 1 method)"
      ]
     },
     "execution_count": 38,
     "metadata": {},
     "output_type": "execute_result"
    }
   ],
   "source": [
    "# Define your function on this block\n",
    "\n",
    "function Strict_inner_Product(a, b)\n",
    "    \n",
    "    if length(a) == length(b)\n",
    "        sum = 0\n",
    "        for i in 1:length(a)\n",
    "            sum = sum + a[i]*b[i]\n",
    "        end\n",
    "        return sum\n",
    "        \n",
    "    else\n",
    "        len_a = length(a); len_b = length(b)\n",
    "        return(\"Warning! $len_a*1 vector can’t do inner product with a $len_b*1 vector!\")\n",
    "    end\n",
    "\n",
    "end"
   ]
  },
  {
   "cell_type": "markdown",
   "metadata": {},
   "source": [
    "Run the below blocks to get marks"
   ]
  },
  {
   "cell_type": "code",
   "execution_count": 39,
   "metadata": {},
   "outputs": [
    {
     "name": "stdout",
     "output_type": "stream",
     "text": [
      "20\n"
     ]
    }
   ],
   "source": [
    "# Q2 Test 1\n",
    "Q2_1_v1 = [1, 2, 3]\n",
    "Q2_1_v2 = [1, 2, 5]\n",
    "println(Strict_inner_Product(Q2_1_v1, Q2_1_v2))"
   ]
  },
  {
   "cell_type": "code",
   "execution_count": 40,
   "metadata": {},
   "outputs": [
    {
     "name": "stdout",
     "output_type": "stream",
     "text": [
      "Warning! 3*1 vector can’t do inner product with a 4*1 vector!\n"
     ]
    }
   ],
   "source": [
    "# Q2 Test 2\n",
    "Q2_2_v1 = [1, 2, 3]\n",
    "Q2_2_v2 = [1, 2, 5, 8]\n",
    "println(Strict_inner_Product(Q2_2_v1, Q2_2_v2))"
   ]
  },
  {
   "cell_type": "code",
   "execution_count": 41,
   "metadata": {},
   "outputs": [
    {
     "name": "stdout",
     "output_type": "stream",
     "text": [
      "2.50186549433591e6\n"
     ]
    }
   ],
   "source": [
    "# Q2 Test 3\n",
    "Random.seed!(2468)\n",
    "Q2_3_v1 = rand(1000)*100\n",
    "Q2_3_v2 = rand(1000)*100\n",
    "println(Strict_inner_Product(Q2_3_v1, Q2_3_v2))"
   ]
  },
  {
   "cell_type": "code",
   "execution_count": 42,
   "metadata": {},
   "outputs": [
    {
     "name": "stdout",
     "output_type": "stream",
     "text": [
      "Warning! 5*1 vector can’t do inner product with a 4*1 vector!\n"
     ]
    }
   ],
   "source": [
    "# Q2 Test 4\n",
    "Q2_4_v1 = [1 2 3 4 5]\n",
    "Q2_4_v2 = [3, 4, 5, 6]\n",
    "println(Strict_inner_Product(Q2_4_v1, Q2_4_v2))"
   ]
  },
  {
   "cell_type": "code",
   "execution_count": 43,
   "metadata": {},
   "outputs": [
    {
     "name": "stdout",
     "output_type": "stream",
     "text": [
      "Warning! 100*1 vector can’t do inner product with a 1001*1 vector!\n"
     ]
    }
   ],
   "source": [
    "# Q2 Test 5\n",
    "Q2_5_v1 = rand(100)\n",
    "Q2_5_v2 = rand(1001)'\n",
    "println(Strict_inner_Product(Q2_5_v1, Q2_5_v2))"
   ]
  },
  {
   "cell_type": "markdown",
   "metadata": {},
   "source": [
    "## Q3 Advanced Exception Handling"
   ]
  },
  {
   "cell_type": "markdown",
   "metadata": {},
   "source": [
    "Define a function on the below block, and name it \"Identify_Wrong_Datatype\""
   ]
  },
  {
   "cell_type": "code",
   "execution_count": 58,
   "metadata": {},
   "outputs": [
    {
     "data": {
      "text/plain": [
       "Identify_Wrong_Datatype (generic function with 1 method)"
      ]
     },
     "execution_count": 58,
     "metadata": {},
     "output_type": "execute_result"
    }
   ],
   "source": [
    "# Define your function on this block\n",
    "\n",
    "function Identify_Wrong_Datatype(a, b)\n",
    "    \n",
    "    if a isa Vector && b isa Vector\n",
    "            sum = 0\n",
    "            for i in 1:length(a)\n",
    "                sum = sum + a[i]*b[i]\n",
    "            end\n",
    "            return sum\n",
    "    else\n",
    "        type_a = typeof(a); type_b = typeof(b)\n",
    "        return(\"Warning! $type_a(datatype of a) can’t do inner product with $type_b(datatype of b)!\")\n",
    "    end\n",
    "\n",
    "end"
   ]
  },
  {
   "cell_type": "markdown",
   "metadata": {},
   "source": [
    "Run the below blocks to get marks"
   ]
  },
  {
   "cell_type": "code",
   "execution_count": 59,
   "metadata": {},
   "outputs": [
    {
     "name": "stdout",
     "output_type": "stream",
     "text": [
      "20\n"
     ]
    }
   ],
   "source": [
    "# Q3 Test 1\n",
    "Q3_1_v1 = [1, 2, 3]\n",
    "Q3_1_v2 = [1, 2, 5]\n",
    "println(Identify_Wrong_Datatype(Q3_1_v1, Q3_1_v2))"
   ]
  },
  {
   "cell_type": "code",
   "execution_count": 60,
   "metadata": {},
   "outputs": [
    {
     "name": "stdout",
     "output_type": "stream",
     "text": [
      "Warning! Vector{Int64}(datatype of a) can’t do inner product with String(datatype of b)!\n"
     ]
    }
   ],
   "source": [
    "# Q3 Test 2\n",
    "Q3_2_v1 = [1, 2, 3]\n",
    "Q3_2_v2 = \"[1, 2, 5]\"\n",
    "println(Identify_Wrong_Datatype(Q3_2_v1, Q3_2_v2))"
   ]
  },
  {
   "cell_type": "code",
   "execution_count": 61,
   "metadata": {},
   "outputs": [
    {
     "name": "stdout",
     "output_type": "stream",
     "text": [
      "Warning! String(datatype of a) can’t do inner product with Vector{Int64}(datatype of b)!\n"
     ]
    }
   ],
   "source": [
    "# Q3 Test 3\n",
    "Q3_3_v1 = \"[1, 2, 3]\"\n",
    "Q3_3_v2 = [1, 2, 5]\n",
    "println(Identify_Wrong_Datatype(Q3_3_v1, Q3_3_v2))"
   ]
  },
  {
   "cell_type": "code",
   "execution_count": 62,
   "metadata": {},
   "outputs": [
    {
     "name": "stdout",
     "output_type": "stream",
     "text": [
      "Warning! String(datatype of a) can’t do inner product with String(datatype of b)!\n"
     ]
    }
   ],
   "source": [
    "# Q3 Test 4\n",
    "Q3_4_v1 = \"[1, 2, 3]\"\n",
    "Q3_4_v2 = \"[1, 2, 5]\"\n",
    "println(Identify_Wrong_Datatype(Q3_4_v1, Q3_4_v2))"
   ]
  },
  {
   "cell_type": "code",
   "execution_count": 63,
   "metadata": {},
   "outputs": [
    {
     "name": "stdout",
     "output_type": "stream",
     "text": [
      "Warning! Vector{Int64}(datatype of a) can’t do inner product with Tuple{Int64, Int64, Int64}(datatype of b)!\n"
     ]
    }
   ],
   "source": [
    "# Q3 Test 5\n",
    "Q3_5_v1 = [1, 2, 3]\n",
    "Q3_5_v2 = (1, 3, 4)\n",
    "println(Identify_Wrong_Datatype(Q3_5_v1, Q3_5_v2))"
   ]
  },
  {
   "cell_type": "markdown",
   "metadata": {},
   "source": [
    "## Q4 Eugene’s calculator"
   ]
  },
  {
   "cell_type": "markdown",
   "metadata": {},
   "source": [
    "Define a function on the below block, and name it \"Happy_Birthday\""
   ]
  },
  {
   "cell_type": "code",
   "execution_count": 51,
   "metadata": {},
   "outputs": [
    {
     "data": {
      "text/plain": [
       "Happy_Birthday (generic function with 1 method)"
      ]
     },
     "execution_count": 51,
     "metadata": {},
     "output_type": "execute_result"
    }
   ],
   "source": [
    "# Define the function on this block\n",
    "\n",
    "function operation(a, b, c)\n",
    "    num = 0\n",
    "    if a == '+'\n",
    "        num = b + c\n",
    "    elseif a == '-'\n",
    "        num = b - c\n",
    "    elseif a == '*'\n",
    "        num = b * c\n",
    "    elseif a == '/'\n",
    "        num = b / c\n",
    "    end\n",
    "    return num\n",
    "end\n",
    "\n",
    "\n",
    "\n",
    "function Happy_Birthday(a, b)\n",
    "    r = randn(a)*100\n",
    "    \n",
    "    for i in 1:length(r)\n",
    "        r[i] = round(r[i])\n",
    "    end\n",
    "\n",
    "    cal = 0\n",
    "    for i in 1:length(b)\n",
    "        if i == 1\n",
    "            cal = operation(b[i], r[i], r[i+1])\n",
    "        else\n",
    "            cal = operation(b[i], cal, r[i+1])\n",
    "        end\n",
    "    end\n",
    "    return cal\n",
    "end"
   ]
  },
  {
   "cell_type": "markdown",
   "metadata": {},
   "source": [
    "Run the below blocks to get marks"
   ]
  },
  {
   "cell_type": "code",
   "execution_count": 52,
   "metadata": {},
   "outputs": [
    {
     "name": "stdout",
     "output_type": "stream",
     "text": [
      "-154.0\n"
     ]
    }
   ],
   "source": [
    "# Q4 Test 1\n",
    "Random.seed!(4129889)\n",
    "Q4_1_integer = 2\n",
    "Q4_1_operand = ['+']\n",
    "println(Happy_Birthday(Q4_1_integer, Q4_1_operand))"
   ]
  },
  {
   "cell_type": "code",
   "execution_count": 53,
   "metadata": {},
   "outputs": [
    {
     "name": "stdout",
     "output_type": "stream",
     "text": [
      "-117.0\n"
     ]
    }
   ],
   "source": [
    "# Q4 Test 2\n",
    "Random.seed!(800092000)\n",
    "Q4_2_integer = 3\n",
    "Q4_2_operand = ['+', '-']\n",
    "println(Happy_Birthday(Q4_2_integer, Q4_2_operand))"
   ]
  },
  {
   "cell_type": "code",
   "execution_count": 54,
   "metadata": {},
   "outputs": [
    {
     "name": "stdout",
     "output_type": "stream",
     "text": [
      "18270.0\n"
     ]
    }
   ],
   "source": [
    "# Q4 Test 3\n",
    "Random.seed!(870887)\n",
    "Q4_3_integer = 4\n",
    "Q4_3_operand = ['+', '-', '*']\n",
    "println(Happy_Birthday(Q4_3_integer, Q4_3_operand))"
   ]
  },
  {
   "cell_type": "code",
   "execution_count": 55,
   "metadata": {},
   "outputs": [
    {
     "name": "stdout",
     "output_type": "stream",
     "text": [
      "1.509433962264151\n"
     ]
    }
   ],
   "source": [
    "# Q4 Test 4\n",
    "Random.seed!(7414666)\n",
    "Q4_4_integer = 5\n",
    "Q4_4_operand = ['+', '-', '*', '/']\n",
    "println(Happy_Birthday(Q4_4_integer, Q4_4_operand))"
   ]
  },
  {
   "cell_type": "code",
   "execution_count": 56,
   "metadata": {},
   "outputs": [
    {
     "name": "stdout",
     "output_type": "stream",
     "text": [
      "-247.31052631578947\n"
     ]
    }
   ],
   "source": [
    "# Q4 Test 5\n",
    "Random.seed!(9481)\n",
    "Q4_5_integer = 12\n",
    "Q4_5_operand = ['+', '-', '*', '/', '/', '*', '+', '*', '-', '/', '+']\n",
    "println(Happy_Birthday(Q4_5_integer, Q4_5_operand))"
   ]
  },
  {
   "cell_type": "markdown",
   "metadata": {},
   "source": [
    "## Q5 Sunny’s Crazy Idea"
   ]
  },
  {
   "cell_type": "markdown",
   "metadata": {},
   "source": [
    "Define a function on the below block, and name it \"Account_Manager\""
   ]
  },
  {
   "cell_type": "code",
   "execution_count": 15,
   "metadata": {},
   "outputs": [
    {
     "data": {
      "text/plain": [
       "Account_Manager (generic function with 1 method)"
      ]
     },
     "execution_count": 15,
     "metadata": {},
     "output_type": "execute_result"
    }
   ],
   "source": [
    "# Define the function on this block\n",
    "\n",
    "function Account_Manager(a, b, c)\n",
    "    if length(a) == length(b) && length(b) == length(c)\n",
    "        sum = b' * c\n",
    "        return(\"The total expense is $sum.\")\n",
    "    else\n",
    "        printout_list = \"i\"\n",
    "\n",
    "        i = 1\n",
    "        while length(a) > length(b)\n",
    "            append!(b, b[i])\n",
    "            printout_list = vcat(printout_list, \"The quantity for $(a[length(b)]) is missing and filled with $(b[length(b)]).\")\n",
    "            i = i + 1\n",
    "        end\n",
    "        \n",
    "        j = 1\n",
    "        missing_price = []\n",
    "        while length(a) > length(c)\n",
    "            append!(c, c[j])\n",
    "            printout_list = vcat(printout_list, \"The price for $(a[length(c)]) is missing and filled with $(c[length(c)]).\")\n",
    "            j = j + 1\n",
    "        end\n",
    "\n",
    "        sum = b' * c\n",
    "        printout_list[1] = \"The total expense is $sum.\"\n",
    "        \n",
    "        printout = \"\"\n",
    "        \n",
    "        for i in 1:length(printout_list)\n",
    "            if i == 1\n",
    "                printout = printout * printout_list[i]\n",
    "            else\n",
    "                printout = printout * \"\\n$(printout_list[i])\"\n",
    "            end\n",
    "        end\n",
    "        return(printout)\n",
    "    end\n",
    "end\n",
    "        "
   ]
  },
  {
   "cell_type": "markdown",
   "metadata": {},
   "source": [
    "Run the below blocks to get marks"
   ]
  },
  {
   "cell_type": "code",
   "execution_count": 16,
   "metadata": {},
   "outputs": [
    {
     "name": "stdout",
     "output_type": "stream",
     "text": [
      "The total expense is 110.\n"
     ]
    }
   ],
   "source": [
    "# Q5 Test 1\n",
    "Q5_1_name = [\"Sunny\", \"Hsin\", \"Eric\"]\n",
    "Q5_1_quantity = [0, 1, 1]\n",
    "Q5_1_price = [1, 10, 100]\n",
    "println(Account_Manager(Q5_1_name, Q5_1_quantity, Q5_1_price))"
   ]
  },
  {
   "cell_type": "code",
   "execution_count": 17,
   "metadata": {},
   "outputs": [
    {
     "name": "stdout",
     "output_type": "stream",
     "text": [
      "The total expense is 1160.\n",
      "The quantity for Concert is missing and filled with 0.\n"
     ]
    }
   ],
   "source": [
    "# Q5 Test 2\n",
    "Q5_2_name = [\"Sunny\", \"Hsin\", \"Eric\", \"Breakfast\", \"Dinner\", \"Concert\"]\n",
    "Q5_2_quantity = [0, 1, 1, 10, 20]\n",
    "Q5_2_price = [1, 10, 100, 5, 50, 500]\n",
    "println(Account_Manager(Q5_2_name, Q5_2_quantity, Q5_2_price))"
   ]
  },
  {
   "cell_type": "code",
   "execution_count": 18,
   "metadata": {},
   "outputs": [
    {
     "name": "stdout",
     "output_type": "stream",
     "text": [
      "The total expense is 1210.\n",
      "The price for Concert is missing and filled with 1.\n"
     ]
    }
   ],
   "source": [
    "# Q5 Test 3\n",
    "Q5_3_name = [\"Sunny\", \"Hsin\", \"Eric\", \"Breakfast\", \"Dinner\", \"Concert\"]\n",
    "Q5_3_quantity = [0, 1, 1, 10, 20, 50]\n",
    "Q5_3_price = [1, 10, 100, 5, 50]\n",
    "println(Account_Manager(Q5_3_name, Q5_3_quantity, Q5_3_price))"
   ]
  },
  {
   "cell_type": "code",
   "execution_count": 19,
   "metadata": {},
   "outputs": [
    {
     "name": "stdout",
     "output_type": "stream",
     "text": [
      "The total expense is 1160.\n",
      "The quantity for Concert is missing and filled with 0.\n",
      "The price for Concert is missing and filled with 1.\n"
     ]
    }
   ],
   "source": [
    "# Q5 Test 4\n",
    "Q5_4_name = [\"Sunny\", \"Hsin\", \"Eric\", \"Breakfast\", \"Dinner\", \"Concert\"]\n",
    "Q5_4_quantity = [0, 1, 1, 10, 20]\n",
    "Q5_4_price = [1, 10, 100, 5, 50]\n",
    "println(Account_Manager(Q5_4_name, Q5_4_quantity, Q5_4_price))"
   ]
  },
  {
   "cell_type": "code",
   "execution_count": 20,
   "metadata": {},
   "outputs": [
    {
     "name": "stdout",
     "output_type": "stream",
     "text": [
      "The total expense is 170.\n",
      "The quantity for Dinner is missing and filled with 0.\n",
      "The quantity for Concert is missing and filled with 1.\n",
      "The price for Dinner is missing and filled with 1.\n",
      "The price for Concert is missing and filled with 10.\n"
     ]
    }
   ],
   "source": [
    "# Q5 Test 5\n",
    "Q5_5_name = [\"Sunny\", \"Hsin\", \"Eric\", \"Breakfast\", \"Dinner\", \"Concert\"]\n",
    "Q5_5_quantity = [0, 1, 1, 10]\n",
    "Q5_5_price = [1, 10, 100, 5]\n",
    "println(Account_Manager(Q5_5_name, Q5_5_quantity, Q5_5_price))"
   ]
  }
 ],
 "metadata": {
  "kernelspec": {
   "display_name": "Julia 1.6.3",
   "language": "julia",
   "name": "julia-1.6"
  },
  "language_info": {
   "file_extension": ".jl",
   "mimetype": "application/julia",
   "name": "julia",
   "version": "1.6.3"
  }
 },
 "nbformat": 4,
 "nbformat_minor": 4
}
